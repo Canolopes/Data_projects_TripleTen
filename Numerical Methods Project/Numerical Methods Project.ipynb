{
 "cells": [
  {
   "cell_type": "markdown",
   "metadata": {},
   "source": [
    "Hello Enrique!\n",
    "\n",
    "I’m happy to review your project today.\n",
    "I will mark your mistakes and give you some hints how it is possible to fix them. We are getting ready for real job, where your team leader/senior colleague will do exactly the same. Don't worry and study with pleasure!\n",
    "\n",
    "Below you will find my comments - **please do not move, modify or delete them**.\n",
    "\n",
    "You can find my comments in green, yellow or red boxes like this:\n",
    "\n",
    "<div class=\"alert alert-block alert-success\">\n",
    "<b>Reviewer's comment</b> <a class=\"tocSkip\"></a>\n",
    "\n",
    "Success. Everything is done succesfully.\n",
    "</div>\n",
    "\n",
    "<div class=\"alert alert-block alert-warning\">\n",
    "<b>Reviewer's comment</b> <a class=\"tocSkip\"></a>\n",
    "\n",
    "Remarks. Some recommendations.\n",
    "</div>\n",
    "\n",
    "<div class=\"alert alert-block alert-danger\">\n",
    "\n",
    "<b>Reviewer's comment</b> <a class=\"tocSkip\"></a>\n",
    "\n",
    "Needs fixing. The block requires some corrections. Work can't be accepted with the red comments.\n",
    "</div>\n",
    "\n",
    "You can answer me by using this:\n",
    "\n",
    "<div class=\"alert alert-block alert-info\">\n",
    "<b>Student answer.</b> <a class=\"tocSkip\"></a>\n",
    "\n",
    "Text here.\n",
    "</div>"
   ]
  },
  {
   "cell_type": "markdown",
   "metadata": {},
   "source": [
    "Rusty Bargain used car sales service is developing an app to attract new customers. In that app, you can quickly find out the market value of your car. You have access to historical data: technical specifications, trim versions, and prices. You need to build the model to determine the value. \n",
    "\n",
    "Rusty Bargain is interested in:\n",
    "\n",
    "- the quality of the prediction;\n",
    "- the speed of the prediction;\n",
    "- the time required for training"
   ]
  },
  {
   "cell_type": "markdown",
   "metadata": {},
   "source": [
    "## Data preparation"
   ]
  },
  {
   "cell_type": "code",
   "execution_count": 1,
   "metadata": {},
   "outputs": [],
   "source": [
    "#First we import our necessary libraries\n",
    "\n",
    "import pandas as pd\n",
    "import numpy as np\n",
    "import matplotlib.pyplot as plt\n",
    "from sklearn.model_selection import train_test_split, cross_val_score\n",
    "from sklearn.preprocessing import StandardScaler\n",
    "from sklearn.linear_model import LinearRegression\n",
    "from sklearn.tree import DecisionTreeRegressor\n",
    "from sklearn.ensemble import RandomForestRegressor\n",
    "import lightgbm as lgb\n",
    "import xgboost as xgb\n",
    "from catboost import CatBoostRegressor\n",
    "from sklearn.metrics import mean_squared_error\n",
    "import time\n"
   ]
  },
  {
   "cell_type": "code",
   "execution_count": 2,
   "metadata": {
    "scrolled": true
   },
   "outputs": [
    {
     "data": {
      "text/html": [
       "<div>\n",
       "<style scoped>\n",
       "    .dataframe tbody tr th:only-of-type {\n",
       "        vertical-align: middle;\n",
       "    }\n",
       "\n",
       "    .dataframe tbody tr th {\n",
       "        vertical-align: top;\n",
       "    }\n",
       "\n",
       "    .dataframe thead th {\n",
       "        text-align: right;\n",
       "    }\n",
       "</style>\n",
       "<table border=\"1\" class=\"dataframe\">\n",
       "  <thead>\n",
       "    <tr style=\"text-align: right;\">\n",
       "      <th></th>\n",
       "      <th>DateCrawled</th>\n",
       "      <th>Price</th>\n",
       "      <th>VehicleType</th>\n",
       "      <th>RegistrationYear</th>\n",
       "      <th>Gearbox</th>\n",
       "      <th>Power</th>\n",
       "      <th>Model</th>\n",
       "      <th>Mileage</th>\n",
       "      <th>RegistrationMonth</th>\n",
       "      <th>FuelType</th>\n",
       "      <th>Brand</th>\n",
       "      <th>NotRepaired</th>\n",
       "      <th>DateCreated</th>\n",
       "      <th>NumberOfPictures</th>\n",
       "      <th>PostalCode</th>\n",
       "      <th>LastSeen</th>\n",
       "    </tr>\n",
       "  </thead>\n",
       "  <tbody>\n",
       "    <tr>\n",
       "      <th>0</th>\n",
       "      <td>24/03/2016 11:52</td>\n",
       "      <td>480</td>\n",
       "      <td>NaN</td>\n",
       "      <td>1993</td>\n",
       "      <td>manual</td>\n",
       "      <td>0</td>\n",
       "      <td>golf</td>\n",
       "      <td>150000</td>\n",
       "      <td>0</td>\n",
       "      <td>petrol</td>\n",
       "      <td>volkswagen</td>\n",
       "      <td>NaN</td>\n",
       "      <td>24/03/2016 00:00</td>\n",
       "      <td>0</td>\n",
       "      <td>70435</td>\n",
       "      <td>07/04/2016 03:16</td>\n",
       "    </tr>\n",
       "    <tr>\n",
       "      <th>1</th>\n",
       "      <td>24/03/2016 10:58</td>\n",
       "      <td>18300</td>\n",
       "      <td>coupe</td>\n",
       "      <td>2011</td>\n",
       "      <td>manual</td>\n",
       "      <td>190</td>\n",
       "      <td>NaN</td>\n",
       "      <td>125000</td>\n",
       "      <td>5</td>\n",
       "      <td>gasoline</td>\n",
       "      <td>audi</td>\n",
       "      <td>yes</td>\n",
       "      <td>24/03/2016 00:00</td>\n",
       "      <td>0</td>\n",
       "      <td>66954</td>\n",
       "      <td>07/04/2016 01:46</td>\n",
       "    </tr>\n",
       "    <tr>\n",
       "      <th>2</th>\n",
       "      <td>14/03/2016 12:52</td>\n",
       "      <td>9800</td>\n",
       "      <td>suv</td>\n",
       "      <td>2004</td>\n",
       "      <td>auto</td>\n",
       "      <td>163</td>\n",
       "      <td>grand</td>\n",
       "      <td>125000</td>\n",
       "      <td>8</td>\n",
       "      <td>gasoline</td>\n",
       "      <td>jeep</td>\n",
       "      <td>NaN</td>\n",
       "      <td>14/03/2016 00:00</td>\n",
       "      <td>0</td>\n",
       "      <td>90480</td>\n",
       "      <td>05/04/2016 12:47</td>\n",
       "    </tr>\n",
       "    <tr>\n",
       "      <th>3</th>\n",
       "      <td>17/03/2016 16:54</td>\n",
       "      <td>1500</td>\n",
       "      <td>small</td>\n",
       "      <td>2001</td>\n",
       "      <td>manual</td>\n",
       "      <td>75</td>\n",
       "      <td>golf</td>\n",
       "      <td>150000</td>\n",
       "      <td>6</td>\n",
       "      <td>petrol</td>\n",
       "      <td>volkswagen</td>\n",
       "      <td>no</td>\n",
       "      <td>17/03/2016 00:00</td>\n",
       "      <td>0</td>\n",
       "      <td>91074</td>\n",
       "      <td>17/03/2016 17:40</td>\n",
       "    </tr>\n",
       "    <tr>\n",
       "      <th>4</th>\n",
       "      <td>31/03/2016 17:25</td>\n",
       "      <td>3600</td>\n",
       "      <td>small</td>\n",
       "      <td>2008</td>\n",
       "      <td>manual</td>\n",
       "      <td>69</td>\n",
       "      <td>fabia</td>\n",
       "      <td>90000</td>\n",
       "      <td>7</td>\n",
       "      <td>gasoline</td>\n",
       "      <td>skoda</td>\n",
       "      <td>no</td>\n",
       "      <td>31/03/2016 00:00</td>\n",
       "      <td>0</td>\n",
       "      <td>60437</td>\n",
       "      <td>06/04/2016 10:17</td>\n",
       "    </tr>\n",
       "  </tbody>\n",
       "</table>\n",
       "</div>"
      ],
      "text/plain": [
       "        DateCrawled  Price VehicleType  RegistrationYear Gearbox  Power  \\\n",
       "0  24/03/2016 11:52    480         NaN              1993  manual      0   \n",
       "1  24/03/2016 10:58  18300       coupe              2011  manual    190   \n",
       "2  14/03/2016 12:52   9800         suv              2004    auto    163   \n",
       "3  17/03/2016 16:54   1500       small              2001  manual     75   \n",
       "4  31/03/2016 17:25   3600       small              2008  manual     69   \n",
       "\n",
       "   Model  Mileage  RegistrationMonth  FuelType       Brand NotRepaired  \\\n",
       "0   golf   150000                  0    petrol  volkswagen         NaN   \n",
       "1    NaN   125000                  5  gasoline        audi         yes   \n",
       "2  grand   125000                  8  gasoline        jeep         NaN   \n",
       "3   golf   150000                  6    petrol  volkswagen          no   \n",
       "4  fabia    90000                  7  gasoline       skoda          no   \n",
       "\n",
       "        DateCreated  NumberOfPictures  PostalCode          LastSeen  \n",
       "0  24/03/2016 00:00                 0       70435  07/04/2016 03:16  \n",
       "1  24/03/2016 00:00                 0       66954  07/04/2016 01:46  \n",
       "2  14/03/2016 00:00                 0       90480  05/04/2016 12:47  \n",
       "3  17/03/2016 00:00                 0       91074  17/03/2016 17:40  \n",
       "4  31/03/2016 00:00                 0       60437  06/04/2016 10:17  "
      ]
     },
     "metadata": {},
     "output_type": "display_data"
    },
    {
     "name": "stdout",
     "output_type": "stream",
     "text": [
      "<class 'pandas.core.frame.DataFrame'>\n",
      "RangeIndex: 354369 entries, 0 to 354368\n",
      "Data columns (total 16 columns):\n",
      " #   Column             Non-Null Count   Dtype \n",
      "---  ------             --------------   ----- \n",
      " 0   DateCrawled        354369 non-null  object\n",
      " 1   Price              354369 non-null  int64 \n",
      " 2   VehicleType        316879 non-null  object\n",
      " 3   RegistrationYear   354369 non-null  int64 \n",
      " 4   Gearbox            334536 non-null  object\n",
      " 5   Power              354369 non-null  int64 \n",
      " 6   Model              334664 non-null  object\n",
      " 7   Mileage            354369 non-null  int64 \n",
      " 8   RegistrationMonth  354369 non-null  int64 \n",
      " 9   FuelType           321474 non-null  object\n",
      " 10  Brand              354369 non-null  object\n",
      " 11  NotRepaired        283215 non-null  object\n",
      " 12  DateCreated        354369 non-null  object\n",
      " 13  NumberOfPictures   354369 non-null  int64 \n",
      " 14  PostalCode         354369 non-null  int64 \n",
      " 15  LastSeen           354369 non-null  object\n",
      "dtypes: int64(7), object(9)\n",
      "memory usage: 43.3+ MB\n"
     ]
    }
   ],
   "source": [
    "#Import our necessary data \n",
    "\n",
    "car_data = pd.read_csv('/datasets/car_data.csv')\n",
    "display(car_data.head())\n",
    "car_data.info()"
   ]
  },
  {
   "cell_type": "markdown",
   "metadata": {},
   "source": [
    "There is some unfortunate wording with the \"NotRepaired\" column, we are assuming that a \"yes\" value here means that the car has NOT undergone any repairs. We are also dealing with a significant amount of missing values in this column, as well as for fuel type and vehicle type."
   ]
  },
  {
   "cell_type": "code",
   "execution_count": 3,
   "metadata": {},
   "outputs": [
    {
     "data": {
      "text/plain": [
       "sedan          91457\n",
       "small          79831\n",
       "wagon          65166\n",
       "NaN            37490\n",
       "bus            28775\n",
       "convertible    20203\n",
       "coupe          16163\n",
       "suv            11996\n",
       "other           3288\n",
       "Name: VehicleType, dtype: int64"
      ]
     },
     "execution_count": 3,
     "metadata": {},
     "output_type": "execute_result"
    }
   ],
   "source": [
    "car_data['VehicleType'].value_counts(dropna=False)"
   ]
  },
  {
   "cell_type": "markdown",
   "metadata": {},
   "source": [
    "In this context, it seems there is no difference in turning all of the missing values here into \"other\" since they logically mean the same thing. "
   ]
  },
  {
   "cell_type": "code",
   "execution_count": 4,
   "metadata": {
    "scrolled": true
   },
   "outputs": [
    {
     "data": {
      "text/plain": [
       "sedan          91457\n",
       "small          79831\n",
       "wagon          65166\n",
       "other          40778\n",
       "bus            28775\n",
       "convertible    20203\n",
       "coupe          16163\n",
       "suv            11996\n",
       "Name: VehicleType, dtype: int64"
      ]
     },
     "execution_count": 4,
     "metadata": {},
     "output_type": "execute_result"
    }
   ],
   "source": [
    "#Fill the missing values with \"other\"\n",
    "\n",
    "car_data['VehicleType'] = car_data['VehicleType'].fillna('other')\n",
    "car_data['VehicleType'].value_counts(dropna=False)"
   ]
  },
  {
   "cell_type": "code",
   "execution_count": 5,
   "metadata": {},
   "outputs": [
    {
     "data": {
      "text/plain": [
       "petrol      216352\n",
       "gasoline     98720\n",
       "NaN          32895\n",
       "lpg           5310\n",
       "cng            565\n",
       "hybrid         233\n",
       "other          204\n",
       "electric        90\n",
       "Name: FuelType, dtype: int64"
      ]
     },
     "execution_count": 5,
     "metadata": {},
     "output_type": "execute_result"
    }
   ],
   "source": [
    "car_data['FuelType'].value_counts(dropna=False)"
   ]
  },
  {
   "cell_type": "markdown",
   "metadata": {},
   "source": [
    "Let's look at the data and see if the other columns can give us insight into what these values might mean."
   ]
  },
  {
   "cell_type": "code",
   "execution_count": 6,
   "metadata": {
    "scrolled": true
   },
   "outputs": [
    {
     "data": {
      "text/html": [
       "<div>\n",
       "<style scoped>\n",
       "    .dataframe tbody tr th:only-of-type {\n",
       "        vertical-align: middle;\n",
       "    }\n",
       "\n",
       "    .dataframe tbody tr th {\n",
       "        vertical-align: top;\n",
       "    }\n",
       "\n",
       "    .dataframe thead th {\n",
       "        text-align: right;\n",
       "    }\n",
       "</style>\n",
       "<table border=\"1\" class=\"dataframe\">\n",
       "  <thead>\n",
       "    <tr style=\"text-align: right;\">\n",
       "      <th></th>\n",
       "      <th>DateCrawled</th>\n",
       "      <th>Price</th>\n",
       "      <th>VehicleType</th>\n",
       "      <th>RegistrationYear</th>\n",
       "      <th>Gearbox</th>\n",
       "      <th>Power</th>\n",
       "      <th>Model</th>\n",
       "      <th>Mileage</th>\n",
       "      <th>RegistrationMonth</th>\n",
       "      <th>FuelType</th>\n",
       "      <th>Brand</th>\n",
       "      <th>NotRepaired</th>\n",
       "      <th>DateCreated</th>\n",
       "      <th>NumberOfPictures</th>\n",
       "      <th>PostalCode</th>\n",
       "      <th>LastSeen</th>\n",
       "    </tr>\n",
       "  </thead>\n",
       "  <tbody>\n",
       "    <tr>\n",
       "      <th>170909</th>\n",
       "      <td>27/03/2016 12:51</td>\n",
       "      <td>350</td>\n",
       "      <td>other</td>\n",
       "      <td>2000</td>\n",
       "      <td>NaN</td>\n",
       "      <td>0</td>\n",
       "      <td>corsa</td>\n",
       "      <td>150000</td>\n",
       "      <td>0</td>\n",
       "      <td>NaN</td>\n",
       "      <td>opel</td>\n",
       "      <td>NaN</td>\n",
       "      <td>27/03/2016 00:00</td>\n",
       "      <td>0</td>\n",
       "      <td>20537</td>\n",
       "      <td>07/04/2016 08:17</td>\n",
       "    </tr>\n",
       "    <tr>\n",
       "      <th>77750</th>\n",
       "      <td>30/03/2016 19:43</td>\n",
       "      <td>4899</td>\n",
       "      <td>sedan</td>\n",
       "      <td>2003</td>\n",
       "      <td>manual</td>\n",
       "      <td>211</td>\n",
       "      <td>vectra</td>\n",
       "      <td>150000</td>\n",
       "      <td>0</td>\n",
       "      <td>NaN</td>\n",
       "      <td>opel</td>\n",
       "      <td>no</td>\n",
       "      <td>30/03/2016 00:00</td>\n",
       "      <td>0</td>\n",
       "      <td>58135</td>\n",
       "      <td>07/04/2016 10:47</td>\n",
       "    </tr>\n",
       "    <tr>\n",
       "      <th>52647</th>\n",
       "      <td>01/04/2016 12:58</td>\n",
       "      <td>350</td>\n",
       "      <td>small</td>\n",
       "      <td>1999</td>\n",
       "      <td>manual</td>\n",
       "      <td>58</td>\n",
       "      <td>twingo</td>\n",
       "      <td>150000</td>\n",
       "      <td>0</td>\n",
       "      <td>NaN</td>\n",
       "      <td>renault</td>\n",
       "      <td>NaN</td>\n",
       "      <td>01/04/2016 00:00</td>\n",
       "      <td>0</td>\n",
       "      <td>74321</td>\n",
       "      <td>01/04/2016 13:44</td>\n",
       "    </tr>\n",
       "    <tr>\n",
       "      <th>333208</th>\n",
       "      <td>30/03/2016 07:57</td>\n",
       "      <td>5999</td>\n",
       "      <td>suv</td>\n",
       "      <td>2003</td>\n",
       "      <td>auto</td>\n",
       "      <td>163</td>\n",
       "      <td>m_klasse</td>\n",
       "      <td>150000</td>\n",
       "      <td>10</td>\n",
       "      <td>NaN</td>\n",
       "      <td>mercedes_benz</td>\n",
       "      <td>NaN</td>\n",
       "      <td>30/03/2016 00:00</td>\n",
       "      <td>0</td>\n",
       "      <td>48346</td>\n",
       "      <td>07/04/2016 00:17</td>\n",
       "    </tr>\n",
       "    <tr>\n",
       "      <th>21187</th>\n",
       "      <td>29/03/2016 23:51</td>\n",
       "      <td>690</td>\n",
       "      <td>other</td>\n",
       "      <td>2018</td>\n",
       "      <td>manual</td>\n",
       "      <td>71</td>\n",
       "      <td>astra</td>\n",
       "      <td>150000</td>\n",
       "      <td>6</td>\n",
       "      <td>NaN</td>\n",
       "      <td>opel</td>\n",
       "      <td>no</td>\n",
       "      <td>29/03/2016 00:00</td>\n",
       "      <td>0</td>\n",
       "      <td>75443</td>\n",
       "      <td>01/04/2016 00:46</td>\n",
       "    </tr>\n",
       "    <tr>\n",
       "      <th>110795</th>\n",
       "      <td>11/03/2016 14:57</td>\n",
       "      <td>2999</td>\n",
       "      <td>other</td>\n",
       "      <td>2016</td>\n",
       "      <td>manual</td>\n",
       "      <td>125</td>\n",
       "      <td>lupo</td>\n",
       "      <td>150000</td>\n",
       "      <td>6</td>\n",
       "      <td>NaN</td>\n",
       "      <td>volkswagen</td>\n",
       "      <td>NaN</td>\n",
       "      <td>11/03/2016 00:00</td>\n",
       "      <td>0</td>\n",
       "      <td>80339</td>\n",
       "      <td>17/03/2016 22:17</td>\n",
       "    </tr>\n",
       "    <tr>\n",
       "      <th>262947</th>\n",
       "      <td>06/03/2016 23:38</td>\n",
       "      <td>7250</td>\n",
       "      <td>bus</td>\n",
       "      <td>2007</td>\n",
       "      <td>manual</td>\n",
       "      <td>105</td>\n",
       "      <td>transporter</td>\n",
       "      <td>150000</td>\n",
       "      <td>4</td>\n",
       "      <td>NaN</td>\n",
       "      <td>volkswagen</td>\n",
       "      <td>NaN</td>\n",
       "      <td>06/03/2016 00:00</td>\n",
       "      <td>0</td>\n",
       "      <td>3116</td>\n",
       "      <td>05/04/2016 17:16</td>\n",
       "    </tr>\n",
       "    <tr>\n",
       "      <th>261020</th>\n",
       "      <td>01/04/2016 23:06</td>\n",
       "      <td>2200</td>\n",
       "      <td>other</td>\n",
       "      <td>2002</td>\n",
       "      <td>manual</td>\n",
       "      <td>116</td>\n",
       "      <td>3er</td>\n",
       "      <td>150000</td>\n",
       "      <td>6</td>\n",
       "      <td>NaN</td>\n",
       "      <td>bmw</td>\n",
       "      <td>NaN</td>\n",
       "      <td>01/04/2016 00:00</td>\n",
       "      <td>0</td>\n",
       "      <td>55122</td>\n",
       "      <td>05/04/2016 15:45</td>\n",
       "    </tr>\n",
       "    <tr>\n",
       "      <th>335772</th>\n",
       "      <td>01/04/2016 22:54</td>\n",
       "      <td>2200</td>\n",
       "      <td>other</td>\n",
       "      <td>2017</td>\n",
       "      <td>manual</td>\n",
       "      <td>115</td>\n",
       "      <td>zafira</td>\n",
       "      <td>150000</td>\n",
       "      <td>6</td>\n",
       "      <td>NaN</td>\n",
       "      <td>opel</td>\n",
       "      <td>yes</td>\n",
       "      <td>01/04/2016 00:00</td>\n",
       "      <td>0</td>\n",
       "      <td>81247</td>\n",
       "      <td>05/04/2016 23:46</td>\n",
       "    </tr>\n",
       "    <tr>\n",
       "      <th>160073</th>\n",
       "      <td>10/03/2016 09:46</td>\n",
       "      <td>2450</td>\n",
       "      <td>other</td>\n",
       "      <td>2017</td>\n",
       "      <td>manual</td>\n",
       "      <td>95</td>\n",
       "      <td>punto</td>\n",
       "      <td>150000</td>\n",
       "      <td>8</td>\n",
       "      <td>NaN</td>\n",
       "      <td>fiat</td>\n",
       "      <td>NaN</td>\n",
       "      <td>10/03/2016 00:00</td>\n",
       "      <td>0</td>\n",
       "      <td>90461</td>\n",
       "      <td>21/03/2016 12:45</td>\n",
       "    </tr>\n",
       "    <tr>\n",
       "      <th>92054</th>\n",
       "      <td>15/03/2016 21:47</td>\n",
       "      <td>500</td>\n",
       "      <td>other</td>\n",
       "      <td>2016</td>\n",
       "      <td>manual</td>\n",
       "      <td>60</td>\n",
       "      <td>twingo</td>\n",
       "      <td>150000</td>\n",
       "      <td>10</td>\n",
       "      <td>NaN</td>\n",
       "      <td>renault</td>\n",
       "      <td>no</td>\n",
       "      <td>15/03/2016 00:00</td>\n",
       "      <td>0</td>\n",
       "      <td>1097</td>\n",
       "      <td>16/03/2016 20:21</td>\n",
       "    </tr>\n",
       "    <tr>\n",
       "      <th>193873</th>\n",
       "      <td>14/03/2016 04:52</td>\n",
       "      <td>250</td>\n",
       "      <td>small</td>\n",
       "      <td>1999</td>\n",
       "      <td>manual</td>\n",
       "      <td>58</td>\n",
       "      <td>clio</td>\n",
       "      <td>150000</td>\n",
       "      <td>4</td>\n",
       "      <td>NaN</td>\n",
       "      <td>renault</td>\n",
       "      <td>no</td>\n",
       "      <td>14/03/2016 00:00</td>\n",
       "      <td>0</td>\n",
       "      <td>66265</td>\n",
       "      <td>14/03/2016 08:48</td>\n",
       "    </tr>\n",
       "    <tr>\n",
       "      <th>137224</th>\n",
       "      <td>14/03/2016 18:58</td>\n",
       "      <td>1250</td>\n",
       "      <td>other</td>\n",
       "      <td>2017</td>\n",
       "      <td>manual</td>\n",
       "      <td>0</td>\n",
       "      <td>NaN</td>\n",
       "      <td>150000</td>\n",
       "      <td>0</td>\n",
       "      <td>NaN</td>\n",
       "      <td>peugeot</td>\n",
       "      <td>NaN</td>\n",
       "      <td>14/03/2016 00:00</td>\n",
       "      <td>0</td>\n",
       "      <td>72458</td>\n",
       "      <td>16/03/2016 11:15</td>\n",
       "    </tr>\n",
       "    <tr>\n",
       "      <th>279058</th>\n",
       "      <td>28/03/2016 21:59</td>\n",
       "      <td>2000</td>\n",
       "      <td>other</td>\n",
       "      <td>1995</td>\n",
       "      <td>NaN</td>\n",
       "      <td>0</td>\n",
       "      <td>NaN</td>\n",
       "      <td>150000</td>\n",
       "      <td>0</td>\n",
       "      <td>NaN</td>\n",
       "      <td>volkswagen</td>\n",
       "      <td>NaN</td>\n",
       "      <td>28/03/2016 00:00</td>\n",
       "      <td>0</td>\n",
       "      <td>35410</td>\n",
       "      <td>05/04/2016 01:47</td>\n",
       "    </tr>\n",
       "    <tr>\n",
       "      <th>137814</th>\n",
       "      <td>23/03/2016 23:36</td>\n",
       "      <td>200</td>\n",
       "      <td>other</td>\n",
       "      <td>1990</td>\n",
       "      <td>NaN</td>\n",
       "      <td>0</td>\n",
       "      <td>passat</td>\n",
       "      <td>5000</td>\n",
       "      <td>0</td>\n",
       "      <td>NaN</td>\n",
       "      <td>volkswagen</td>\n",
       "      <td>NaN</td>\n",
       "      <td>23/03/2016 00:00</td>\n",
       "      <td>0</td>\n",
       "      <td>66538</td>\n",
       "      <td>24/03/2016 07:48</td>\n",
       "    </tr>\n",
       "    <tr>\n",
       "      <th>314070</th>\n",
       "      <td>09/03/2016 07:32</td>\n",
       "      <td>11850</td>\n",
       "      <td>convertible</td>\n",
       "      <td>2010</td>\n",
       "      <td>manual</td>\n",
       "      <td>156</td>\n",
       "      <td>3_reihe</td>\n",
       "      <td>50000</td>\n",
       "      <td>10</td>\n",
       "      <td>NaN</td>\n",
       "      <td>peugeot</td>\n",
       "      <td>no</td>\n",
       "      <td>09/03/2016 00:00</td>\n",
       "      <td>0</td>\n",
       "      <td>35112</td>\n",
       "      <td>21/03/2016 12:16</td>\n",
       "    </tr>\n",
       "    <tr>\n",
       "      <th>212257</th>\n",
       "      <td>04/04/2016 15:46</td>\n",
       "      <td>1490</td>\n",
       "      <td>other</td>\n",
       "      <td>2000</td>\n",
       "      <td>NaN</td>\n",
       "      <td>0</td>\n",
       "      <td>NaN</td>\n",
       "      <td>150000</td>\n",
       "      <td>0</td>\n",
       "      <td>NaN</td>\n",
       "      <td>mazda</td>\n",
       "      <td>NaN</td>\n",
       "      <td>04/04/2016 00:00</td>\n",
       "      <td>0</td>\n",
       "      <td>47906</td>\n",
       "      <td>06/04/2016 17:16</td>\n",
       "    </tr>\n",
       "    <tr>\n",
       "      <th>96169</th>\n",
       "      <td>10/03/2016 10:50</td>\n",
       "      <td>6500</td>\n",
       "      <td>bus</td>\n",
       "      <td>2005</td>\n",
       "      <td>NaN</td>\n",
       "      <td>0</td>\n",
       "      <td>transporter</td>\n",
       "      <td>150000</td>\n",
       "      <td>5</td>\n",
       "      <td>NaN</td>\n",
       "      <td>volkswagen</td>\n",
       "      <td>no</td>\n",
       "      <td>10/03/2016 00:00</td>\n",
       "      <td>0</td>\n",
       "      <td>99100</td>\n",
       "      <td>07/04/2016 00:16</td>\n",
       "    </tr>\n",
       "    <tr>\n",
       "      <th>267250</th>\n",
       "      <td>19/03/2016 22:49</td>\n",
       "      <td>800</td>\n",
       "      <td>other</td>\n",
       "      <td>2000</td>\n",
       "      <td>auto</td>\n",
       "      <td>110</td>\n",
       "      <td>a4</td>\n",
       "      <td>150000</td>\n",
       "      <td>11</td>\n",
       "      <td>NaN</td>\n",
       "      <td>audi</td>\n",
       "      <td>NaN</td>\n",
       "      <td>19/03/2016 00:00</td>\n",
       "      <td>0</td>\n",
       "      <td>91367</td>\n",
       "      <td>01/04/2016 17:54</td>\n",
       "    </tr>\n",
       "    <tr>\n",
       "      <th>39310</th>\n",
       "      <td>07/03/2016 13:36</td>\n",
       "      <td>300</td>\n",
       "      <td>small</td>\n",
       "      <td>1991</td>\n",
       "      <td>manual</td>\n",
       "      <td>55</td>\n",
       "      <td>polo</td>\n",
       "      <td>150000</td>\n",
       "      <td>6</td>\n",
       "      <td>NaN</td>\n",
       "      <td>volkswagen</td>\n",
       "      <td>NaN</td>\n",
       "      <td>07/03/2016 00:00</td>\n",
       "      <td>0</td>\n",
       "      <td>26810</td>\n",
       "      <td>11/03/2016 11:44</td>\n",
       "    </tr>\n",
       "    <tr>\n",
       "      <th>198509</th>\n",
       "      <td>19/03/2016 11:44</td>\n",
       "      <td>0</td>\n",
       "      <td>other</td>\n",
       "      <td>2000</td>\n",
       "      <td>auto</td>\n",
       "      <td>0</td>\n",
       "      <td>a6</td>\n",
       "      <td>150000</td>\n",
       "      <td>0</td>\n",
       "      <td>NaN</td>\n",
       "      <td>audi</td>\n",
       "      <td>yes</td>\n",
       "      <td>19/03/2016 00:00</td>\n",
       "      <td>0</td>\n",
       "      <td>23701</td>\n",
       "      <td>06/04/2016 13:16</td>\n",
       "    </tr>\n",
       "    <tr>\n",
       "      <th>300895</th>\n",
       "      <td>15/03/2016 17:46</td>\n",
       "      <td>1680</td>\n",
       "      <td>wagon</td>\n",
       "      <td>2001</td>\n",
       "      <td>manual</td>\n",
       "      <td>164</td>\n",
       "      <td>NaN</td>\n",
       "      <td>150000</td>\n",
       "      <td>5</td>\n",
       "      <td>NaN</td>\n",
       "      <td>mercedes_benz</td>\n",
       "      <td>NaN</td>\n",
       "      <td>15/03/2016 00:00</td>\n",
       "      <td>0</td>\n",
       "      <td>87629</td>\n",
       "      <td>17/03/2016 13:16</td>\n",
       "    </tr>\n",
       "    <tr>\n",
       "      <th>338933</th>\n",
       "      <td>25/03/2016 22:53</td>\n",
       "      <td>1699</td>\n",
       "      <td>sedan</td>\n",
       "      <td>1997</td>\n",
       "      <td>manual</td>\n",
       "      <td>0</td>\n",
       "      <td>carisma</td>\n",
       "      <td>150000</td>\n",
       "      <td>0</td>\n",
       "      <td>NaN</td>\n",
       "      <td>mitsubishi</td>\n",
       "      <td>NaN</td>\n",
       "      <td>25/03/2016 00:00</td>\n",
       "      <td>0</td>\n",
       "      <td>74613</td>\n",
       "      <td>05/04/2016 15:45</td>\n",
       "    </tr>\n",
       "    <tr>\n",
       "      <th>97211</th>\n",
       "      <td>03/04/2016 18:44</td>\n",
       "      <td>1299</td>\n",
       "      <td>wagon</td>\n",
       "      <td>2000</td>\n",
       "      <td>manual</td>\n",
       "      <td>115</td>\n",
       "      <td>vectra</td>\n",
       "      <td>150000</td>\n",
       "      <td>7</td>\n",
       "      <td>NaN</td>\n",
       "      <td>opel</td>\n",
       "      <td>no</td>\n",
       "      <td>03/04/2016 00:00</td>\n",
       "      <td>0</td>\n",
       "      <td>16515</td>\n",
       "      <td>05/04/2016 18:46</td>\n",
       "    </tr>\n",
       "    <tr>\n",
       "      <th>140929</th>\n",
       "      <td>07/03/2016 17:46</td>\n",
       "      <td>16490</td>\n",
       "      <td>other</td>\n",
       "      <td>2007</td>\n",
       "      <td>auto</td>\n",
       "      <td>289</td>\n",
       "      <td>NaN</td>\n",
       "      <td>150000</td>\n",
       "      <td>4</td>\n",
       "      <td>NaN</td>\n",
       "      <td>bmw</td>\n",
       "      <td>NaN</td>\n",
       "      <td>07/03/2016 00:00</td>\n",
       "      <td>0</td>\n",
       "      <td>48308</td>\n",
       "      <td>10/03/2016 09:46</td>\n",
       "    </tr>\n",
       "    <tr>\n",
       "      <th>233144</th>\n",
       "      <td>09/03/2016 10:38</td>\n",
       "      <td>6800</td>\n",
       "      <td>coupe</td>\n",
       "      <td>1988</td>\n",
       "      <td>NaN</td>\n",
       "      <td>243</td>\n",
       "      <td>other</td>\n",
       "      <td>150000</td>\n",
       "      <td>7</td>\n",
       "      <td>NaN</td>\n",
       "      <td>chevrolet</td>\n",
       "      <td>no</td>\n",
       "      <td>09/03/2016 00:00</td>\n",
       "      <td>0</td>\n",
       "      <td>46535</td>\n",
       "      <td>22/03/2016 05:17</td>\n",
       "    </tr>\n",
       "    <tr>\n",
       "      <th>213786</th>\n",
       "      <td>14/03/2016 16:53</td>\n",
       "      <td>0</td>\n",
       "      <td>wagon</td>\n",
       "      <td>1999</td>\n",
       "      <td>manual</td>\n",
       "      <td>97</td>\n",
       "      <td>NaN</td>\n",
       "      <td>150000</td>\n",
       "      <td>7</td>\n",
       "      <td>NaN</td>\n",
       "      <td>nissan</td>\n",
       "      <td>NaN</td>\n",
       "      <td>14/03/2016 00:00</td>\n",
       "      <td>0</td>\n",
       "      <td>18516</td>\n",
       "      <td>23/03/2016 18:44</td>\n",
       "    </tr>\n",
       "    <tr>\n",
       "      <th>278472</th>\n",
       "      <td>28/03/2016 13:51</td>\n",
       "      <td>1600</td>\n",
       "      <td>convertible</td>\n",
       "      <td>1996</td>\n",
       "      <td>manual</td>\n",
       "      <td>116</td>\n",
       "      <td>golf</td>\n",
       "      <td>150000</td>\n",
       "      <td>0</td>\n",
       "      <td>NaN</td>\n",
       "      <td>volkswagen</td>\n",
       "      <td>NaN</td>\n",
       "      <td>28/03/2016 00:00</td>\n",
       "      <td>0</td>\n",
       "      <td>13127</td>\n",
       "      <td>04/04/2016 16:16</td>\n",
       "    </tr>\n",
       "    <tr>\n",
       "      <th>42343</th>\n",
       "      <td>11/03/2016 18:37</td>\n",
       "      <td>2250</td>\n",
       "      <td>sedan</td>\n",
       "      <td>2001</td>\n",
       "      <td>manual</td>\n",
       "      <td>136</td>\n",
       "      <td>3er</td>\n",
       "      <td>150000</td>\n",
       "      <td>5</td>\n",
       "      <td>NaN</td>\n",
       "      <td>bmw</td>\n",
       "      <td>no</td>\n",
       "      <td>11/03/2016 00:00</td>\n",
       "      <td>0</td>\n",
       "      <td>26131</td>\n",
       "      <td>12/03/2016 23:16</td>\n",
       "    </tr>\n",
       "    <tr>\n",
       "      <th>96221</th>\n",
       "      <td>21/03/2016 14:18</td>\n",
       "      <td>295</td>\n",
       "      <td>wagon</td>\n",
       "      <td>1993</td>\n",
       "      <td>NaN</td>\n",
       "      <td>0</td>\n",
       "      <td>c_klasse</td>\n",
       "      <td>5000</td>\n",
       "      <td>0</td>\n",
       "      <td>NaN</td>\n",
       "      <td>mercedes_benz</td>\n",
       "      <td>NaN</td>\n",
       "      <td>20/03/2016 00:00</td>\n",
       "      <td>0</td>\n",
       "      <td>56575</td>\n",
       "      <td>21/03/2016 20:29</td>\n",
       "    </tr>\n",
       "  </tbody>\n",
       "</table>\n",
       "</div>"
      ],
      "text/plain": [
       "             DateCrawled  Price  VehicleType  RegistrationYear Gearbox  Power  \\\n",
       "170909  27/03/2016 12:51    350        other              2000     NaN      0   \n",
       "77750   30/03/2016 19:43   4899        sedan              2003  manual    211   \n",
       "52647   01/04/2016 12:58    350        small              1999  manual     58   \n",
       "333208  30/03/2016 07:57   5999          suv              2003    auto    163   \n",
       "21187   29/03/2016 23:51    690        other              2018  manual     71   \n",
       "110795  11/03/2016 14:57   2999        other              2016  manual    125   \n",
       "262947  06/03/2016 23:38   7250          bus              2007  manual    105   \n",
       "261020  01/04/2016 23:06   2200        other              2002  manual    116   \n",
       "335772  01/04/2016 22:54   2200        other              2017  manual    115   \n",
       "160073  10/03/2016 09:46   2450        other              2017  manual     95   \n",
       "92054   15/03/2016 21:47    500        other              2016  manual     60   \n",
       "193873  14/03/2016 04:52    250        small              1999  manual     58   \n",
       "137224  14/03/2016 18:58   1250        other              2017  manual      0   \n",
       "279058  28/03/2016 21:59   2000        other              1995     NaN      0   \n",
       "137814  23/03/2016 23:36    200        other              1990     NaN      0   \n",
       "314070  09/03/2016 07:32  11850  convertible              2010  manual    156   \n",
       "212257  04/04/2016 15:46   1490        other              2000     NaN      0   \n",
       "96169   10/03/2016 10:50   6500          bus              2005     NaN      0   \n",
       "267250  19/03/2016 22:49    800        other              2000    auto    110   \n",
       "39310   07/03/2016 13:36    300        small              1991  manual     55   \n",
       "198509  19/03/2016 11:44      0        other              2000    auto      0   \n",
       "300895  15/03/2016 17:46   1680        wagon              2001  manual    164   \n",
       "338933  25/03/2016 22:53   1699        sedan              1997  manual      0   \n",
       "97211   03/04/2016 18:44   1299        wagon              2000  manual    115   \n",
       "140929  07/03/2016 17:46  16490        other              2007    auto    289   \n",
       "233144  09/03/2016 10:38   6800        coupe              1988     NaN    243   \n",
       "213786  14/03/2016 16:53      0        wagon              1999  manual     97   \n",
       "278472  28/03/2016 13:51   1600  convertible              1996  manual    116   \n",
       "42343   11/03/2016 18:37   2250        sedan              2001  manual    136   \n",
       "96221   21/03/2016 14:18    295        wagon              1993     NaN      0   \n",
       "\n",
       "              Model  Mileage  RegistrationMonth FuelType          Brand  \\\n",
       "170909        corsa   150000                  0      NaN           opel   \n",
       "77750        vectra   150000                  0      NaN           opel   \n",
       "52647        twingo   150000                  0      NaN        renault   \n",
       "333208     m_klasse   150000                 10      NaN  mercedes_benz   \n",
       "21187         astra   150000                  6      NaN           opel   \n",
       "110795         lupo   150000                  6      NaN     volkswagen   \n",
       "262947  transporter   150000                  4      NaN     volkswagen   \n",
       "261020          3er   150000                  6      NaN            bmw   \n",
       "335772       zafira   150000                  6      NaN           opel   \n",
       "160073        punto   150000                  8      NaN           fiat   \n",
       "92054        twingo   150000                 10      NaN        renault   \n",
       "193873         clio   150000                  4      NaN        renault   \n",
       "137224          NaN   150000                  0      NaN        peugeot   \n",
       "279058          NaN   150000                  0      NaN     volkswagen   \n",
       "137814       passat     5000                  0      NaN     volkswagen   \n",
       "314070      3_reihe    50000                 10      NaN        peugeot   \n",
       "212257          NaN   150000                  0      NaN          mazda   \n",
       "96169   transporter   150000                  5      NaN     volkswagen   \n",
       "267250           a4   150000                 11      NaN           audi   \n",
       "39310          polo   150000                  6      NaN     volkswagen   \n",
       "198509           a6   150000                  0      NaN           audi   \n",
       "300895          NaN   150000                  5      NaN  mercedes_benz   \n",
       "338933      carisma   150000                  0      NaN     mitsubishi   \n",
       "97211        vectra   150000                  7      NaN           opel   \n",
       "140929          NaN   150000                  4      NaN            bmw   \n",
       "233144        other   150000                  7      NaN      chevrolet   \n",
       "213786          NaN   150000                  7      NaN         nissan   \n",
       "278472         golf   150000                  0      NaN     volkswagen   \n",
       "42343           3er   150000                  5      NaN            bmw   \n",
       "96221      c_klasse     5000                  0      NaN  mercedes_benz   \n",
       "\n",
       "       NotRepaired       DateCreated  NumberOfPictures  PostalCode  \\\n",
       "170909         NaN  27/03/2016 00:00                 0       20537   \n",
       "77750           no  30/03/2016 00:00                 0       58135   \n",
       "52647          NaN  01/04/2016 00:00                 0       74321   \n",
       "333208         NaN  30/03/2016 00:00                 0       48346   \n",
       "21187           no  29/03/2016 00:00                 0       75443   \n",
       "110795         NaN  11/03/2016 00:00                 0       80339   \n",
       "262947         NaN  06/03/2016 00:00                 0        3116   \n",
       "261020         NaN  01/04/2016 00:00                 0       55122   \n",
       "335772         yes  01/04/2016 00:00                 0       81247   \n",
       "160073         NaN  10/03/2016 00:00                 0       90461   \n",
       "92054           no  15/03/2016 00:00                 0        1097   \n",
       "193873          no  14/03/2016 00:00                 0       66265   \n",
       "137224         NaN  14/03/2016 00:00                 0       72458   \n",
       "279058         NaN  28/03/2016 00:00                 0       35410   \n",
       "137814         NaN  23/03/2016 00:00                 0       66538   \n",
       "314070          no  09/03/2016 00:00                 0       35112   \n",
       "212257         NaN  04/04/2016 00:00                 0       47906   \n",
       "96169           no  10/03/2016 00:00                 0       99100   \n",
       "267250         NaN  19/03/2016 00:00                 0       91367   \n",
       "39310          NaN  07/03/2016 00:00                 0       26810   \n",
       "198509         yes  19/03/2016 00:00                 0       23701   \n",
       "300895         NaN  15/03/2016 00:00                 0       87629   \n",
       "338933         NaN  25/03/2016 00:00                 0       74613   \n",
       "97211           no  03/04/2016 00:00                 0       16515   \n",
       "140929         NaN  07/03/2016 00:00                 0       48308   \n",
       "233144          no  09/03/2016 00:00                 0       46535   \n",
       "213786         NaN  14/03/2016 00:00                 0       18516   \n",
       "278472         NaN  28/03/2016 00:00                 0       13127   \n",
       "42343           no  11/03/2016 00:00                 0       26131   \n",
       "96221          NaN  20/03/2016 00:00                 0       56575   \n",
       "\n",
       "                LastSeen  \n",
       "170909  07/04/2016 08:17  \n",
       "77750   07/04/2016 10:47  \n",
       "52647   01/04/2016 13:44  \n",
       "333208  07/04/2016 00:17  \n",
       "21187   01/04/2016 00:46  \n",
       "110795  17/03/2016 22:17  \n",
       "262947  05/04/2016 17:16  \n",
       "261020  05/04/2016 15:45  \n",
       "335772  05/04/2016 23:46  \n",
       "160073  21/03/2016 12:45  \n",
       "92054   16/03/2016 20:21  \n",
       "193873  14/03/2016 08:48  \n",
       "137224  16/03/2016 11:15  \n",
       "279058  05/04/2016 01:47  \n",
       "137814  24/03/2016 07:48  \n",
       "314070  21/03/2016 12:16  \n",
       "212257  06/04/2016 17:16  \n",
       "96169   07/04/2016 00:16  \n",
       "267250  01/04/2016 17:54  \n",
       "39310   11/03/2016 11:44  \n",
       "198509  06/04/2016 13:16  \n",
       "300895  17/03/2016 13:16  \n",
       "338933  05/04/2016 15:45  \n",
       "97211   05/04/2016 18:46  \n",
       "140929  10/03/2016 09:46  \n",
       "233144  22/03/2016 05:17  \n",
       "213786  23/03/2016 18:44  \n",
       "278472  04/04/2016 16:16  \n",
       "42343   12/03/2016 23:16  \n",
       "96221   21/03/2016 20:29  "
      ]
     },
     "execution_count": 6,
     "metadata": {},
     "output_type": "execute_result"
    }
   ],
   "source": [
    "car_data[car_data['FuelType'].isna()].sample(30)"
   ]
  },
  {
   "cell_type": "markdown",
   "metadata": {},
   "source": [
    "There seems to be no clear answer as to why the values are missing, so let's fill the values with the most common value which is \"petrol\"."
   ]
  },
  {
   "cell_type": "code",
   "execution_count": 7,
   "metadata": {
    "scrolled": true
   },
   "outputs": [
    {
     "data": {
      "text/plain": [
       "petrol      249247\n",
       "gasoline     98720\n",
       "lpg           5310\n",
       "cng            565\n",
       "hybrid         233\n",
       "other          204\n",
       "electric        90\n",
       "Name: FuelType, dtype: int64"
      ]
     },
     "execution_count": 7,
     "metadata": {},
     "output_type": "execute_result"
    }
   ],
   "source": [
    "car_data['FuelType'] = car_data['FuelType'].fillna('petrol')\n",
    "car_data['FuelType'].value_counts(dropna=False)"
   ]
  },
  {
   "cell_type": "code",
   "execution_count": 8,
   "metadata": {
    "scrolled": true
   },
   "outputs": [
    {
     "data": {
      "text/plain": [
       "no     247161\n",
       "NaN     71154\n",
       "yes     36054\n",
       "Name: NotRepaired, dtype: int64"
      ]
     },
     "execution_count": 8,
     "metadata": {},
     "output_type": "execute_result"
    }
   ],
   "source": [
    "#Let's check the distribution for the \"NotRepaired\" column\n",
    "\n",
    "car_data['NotRepaired'].value_counts(dropna=False)"
   ]
  },
  {
   "cell_type": "code",
   "execution_count": 9,
   "metadata": {
    "scrolled": true
   },
   "outputs": [
    {
     "data": {
      "text/plain": [
       "0.8726974206874636"
      ]
     },
     "execution_count": 9,
     "metadata": {},
     "output_type": "execute_result"
    }
   ],
   "source": [
    "(247161/(247161+36054))"
   ]
  },
  {
   "cell_type": "markdown",
   "metadata": {},
   "source": [
    "While 87% of the data in this column has the value \"no\", it would still be a sound approach to turn these missing values into a new value called \"unknown\". Logically, it is possible to encounter cars in real life without a clear track record of repairs as people may not document all of their repairs. "
   ]
  },
  {
   "cell_type": "code",
   "execution_count": 10,
   "metadata": {},
   "outputs": [
    {
     "data": {
      "text/plain": [
       "no         247161\n",
       "unknown     71154\n",
       "yes         36054\n",
       "Name: NotRepaired, dtype: int64"
      ]
     },
     "execution_count": 10,
     "metadata": {},
     "output_type": "execute_result"
    }
   ],
   "source": [
    "car_data['NotRepaired'] = car_data['NotRepaired'].fillna('unknown')\n",
    "car_data['NotRepaired'].value_counts(dropna=False)"
   ]
  },
  {
   "cell_type": "code",
   "execution_count": 11,
   "metadata": {
    "scrolled": true
   },
   "outputs": [
    {
     "data": {
      "text/plain": [
       "DateCrawled          0.000000\n",
       "Price                0.000000\n",
       "VehicleType          0.000000\n",
       "RegistrationYear     0.000000\n",
       "Gearbox              0.055967\n",
       "Power                0.000000\n",
       "Model                0.055606\n",
       "Mileage              0.000000\n",
       "RegistrationMonth    0.000000\n",
       "FuelType             0.000000\n",
       "Brand                0.000000\n",
       "NotRepaired          0.000000\n",
       "DateCreated          0.000000\n",
       "NumberOfPictures     0.000000\n",
       "PostalCode           0.000000\n",
       "LastSeen             0.000000\n",
       "dtype: float64"
      ]
     },
     "metadata": {},
     "output_type": "display_data"
    },
    {
     "data": {
      "text/plain": [
       "manual    268251\n",
       "auto       66285\n",
       "NaN        19833\n",
       "Name: Gearbox, dtype: int64"
      ]
     },
     "metadata": {},
     "output_type": "display_data"
    },
    {
     "data": {
      "text/plain": [
       "golf                  29232\n",
       "other                 24421\n",
       "3er                   19761\n",
       "NaN                   19705\n",
       "polo                  13066\n",
       "                      ...  \n",
       "serie_2                   8\n",
       "serie_3                   4\n",
       "rangerover                4\n",
       "serie_1                   2\n",
       "range_rover_evoque        2\n",
       "Name: Model, Length: 251, dtype: int64"
      ]
     },
     "metadata": {},
     "output_type": "display_data"
    }
   ],
   "source": [
    "#Checking remaining missing values in the dataset\n",
    "\n",
    "display(car_data.isna().sum()/len(car_data))\n",
    "display(car_data['Gearbox'].value_counts(dropna=False))\n",
    "display(car_data['Model'].value_counts(dropna=False))"
   ]
  },
  {
   "cell_type": "markdown",
   "metadata": {},
   "source": [
    "Logically for model type, it would be sound to simply turn the missing values into \"other\", since they are more or less the same value. For gearbox, this seems to be more of an issue of data inputting rather than having an abnormal transmission. We will fill the missing gearbox values with \"manual\", the dominant value, and replace the missing model types with \"other\"."
   ]
  },
  {
   "cell_type": "code",
   "execution_count": 12,
   "metadata": {},
   "outputs": [
    {
     "data": {
      "text/plain": [
       "manual    288084\n",
       "auto       66285\n",
       "Name: Gearbox, dtype: int64"
      ]
     },
     "metadata": {},
     "output_type": "display_data"
    },
    {
     "data": {
      "text/plain": [
       "other                 44126\n",
       "golf                  29232\n",
       "3er                   19761\n",
       "polo                  13066\n",
       "corsa                 12570\n",
       "                      ...  \n",
       "serie_2                   8\n",
       "rangerover                4\n",
       "serie_3                   4\n",
       "serie_1                   2\n",
       "range_rover_evoque        2\n",
       "Name: Model, Length: 250, dtype: int64"
      ]
     },
     "metadata": {},
     "output_type": "display_data"
    },
    {
     "data": {
      "text/plain": [
       "DateCrawled          0\n",
       "Price                0\n",
       "VehicleType          0\n",
       "RegistrationYear     0\n",
       "Gearbox              0\n",
       "Power                0\n",
       "Model                0\n",
       "Mileage              0\n",
       "RegistrationMonth    0\n",
       "FuelType             0\n",
       "Brand                0\n",
       "NotRepaired          0\n",
       "DateCreated          0\n",
       "NumberOfPictures     0\n",
       "PostalCode           0\n",
       "LastSeen             0\n",
       "dtype: int64"
      ]
     },
     "metadata": {},
     "output_type": "display_data"
    },
    {
     "data": {
      "text/plain": [
       "271"
      ]
     },
     "metadata": {},
     "output_type": "display_data"
    }
   ],
   "source": [
    "car_data['Gearbox'] = car_data['Gearbox'].fillna('manual')\n",
    "display(car_data['Gearbox'].value_counts(dropna=False))\n",
    "car_data['Model'] = car_data['Model'].fillna('other')\n",
    "display(car_data['Model'].value_counts(dropna=False))\n",
    "display(car_data.isna().sum())\n",
    "display(car_data.duplicated().sum()) #Checking for duplicate values"
   ]
  },
  {
   "cell_type": "markdown",
   "metadata": {},
   "source": [
    "We have a miniscule amount of duplicate rows that we can safely drop."
   ]
  },
  {
   "cell_type": "code",
   "execution_count": 13,
   "metadata": {
    "scrolled": true
   },
   "outputs": [
    {
     "data": {
      "text/plain": [
       "0"
      ]
     },
     "execution_count": 13,
     "metadata": {},
     "output_type": "execute_result"
    }
   ],
   "source": [
    "car_data = car_data.drop_duplicates()\n",
    "car_data.duplicated().sum()"
   ]
  },
  {
   "cell_type": "code",
   "execution_count": 14,
   "metadata": {
    "scrolled": true
   },
   "outputs": [
    {
     "name": "stdout",
     "output_type": "stream",
     "text": [
      "<class 'pandas.core.frame.DataFrame'>\n",
      "Int64Index: 354098 entries, 0 to 354368\n",
      "Data columns (total 16 columns):\n",
      " #   Column             Non-Null Count   Dtype         \n",
      "---  ------             --------------   -----         \n",
      " 0   DateCrawled        354098 non-null  datetime64[ns]\n",
      " 1   Price              354098 non-null  int64         \n",
      " 2   VehicleType        354098 non-null  object        \n",
      " 3   RegistrationYear   354098 non-null  int64         \n",
      " 4   Gearbox            354098 non-null  object        \n",
      " 5   Power              354098 non-null  int64         \n",
      " 6   Model              354098 non-null  object        \n",
      " 7   Mileage            354098 non-null  int64         \n",
      " 8   RegistrationMonth  354098 non-null  int64         \n",
      " 9   FuelType           354098 non-null  object        \n",
      " 10  Brand              354098 non-null  object        \n",
      " 11  NotRepaired        354098 non-null  object        \n",
      " 12  DateCreated        354098 non-null  datetime64[ns]\n",
      " 13  NumberOfPictures   354098 non-null  int64         \n",
      " 14  PostalCode         354098 non-null  int64         \n",
      " 15  LastSeen           354098 non-null  datetime64[ns]\n",
      "dtypes: datetime64[ns](3), int64(7), object(6)\n",
      "memory usage: 45.9+ MB\n"
     ]
    }
   ],
   "source": [
    "#Convert our date columns to datetime type\n",
    "\n",
    "date_columns = ['DateCrawled', 'DateCreated', 'LastSeen']\n",
    "for col in date_columns:\n",
    "    car_data[col] = pd.to_datetime(car_data[col])\n",
    "car_data.info()"
   ]
  },
  {
   "cell_type": "code",
   "execution_count": 15,
   "metadata": {
    "scrolled": true
   },
   "outputs": [
    {
     "data": {
      "image/png": "[encoded data removed]",
      "text/plain": [
       "<Figure size 1200x600 with 1 Axes>"
      ]
     },
     "metadata": {},
     "output_type": "display_data"
    }
   ],
   "source": [
    "#Checking if car power distribution makes sense\n",
    "\n",
    "plt.figure(figsize=(12, 6))\n",
    "plt.boxplot(car_data['Power'], showfliers=False)\n",
    "plt.title('Distribution of Car Power (Without Outliers)')\n",
    "plt.xlabel('Car Power Distribution')\n",
    "plt.ylabel('Power (HP)')\n",
    "plt.grid(True, alpha=0.3)\n",
    "plt.show()"
   ]
  },
  {
   "cell_type": "markdown",
   "metadata": {},
   "source": [
    "It certainly makes no sense for any cars to have 0 horsepower, and setting a reasonable miminum such as 40 makes sense. Additionally, the same is true for the max, it would make no sense to consider cars over a certain power threshold such as 500."
   ]
  },
  {
   "cell_type": "code",
   "execution_count": 16,
   "metadata": {
    "scrolled": true
   },
   "outputs": [
    {
     "name": "stdout",
     "output_type": "stream",
     "text": [
      "Percentage of cars under 40 HP: 11.76%\n",
      "Percentage of cars over 500 HP: 0.13%\n"
     ]
    }
   ],
   "source": [
    "# Calculate percentage of cars under 40 HP\n",
    "under_40_pct = (car_data['Power'] < 40).mean() * 100\n",
    "\n",
    "# Calculate percentage of cars over 500 HP\n",
    "over_500_pct = (car_data['Power'] > 500).mean() * 100\n",
    "\n",
    "print(f\"Percentage of cars under 40 HP: {under_40_pct:.2f}%\")\n",
    "print(f\"Percentage of cars over 500 HP: {over_500_pct:.2f}%\")"
   ]
  },
  {
   "cell_type": "markdown",
   "metadata": {},
   "source": [
    "We can safely drop the rows with cars over 500 horsepower, but why do we have so many values under 40?"
   ]
  },
  {
   "cell_type": "code",
   "execution_count": 17,
   "metadata": {
    "scrolled": true
   },
   "outputs": [
    {
     "data": {
      "text/plain": [
       "0      40218\n",
       "75     24000\n",
       "60     15879\n",
       "150    14571\n",
       "101    13286\n",
       "       ...  \n",
       "489        1\n",
       "353        1\n",
       "490        1\n",
       "475        1\n",
       "416        1\n",
       "Name: Power, Length: 413, dtype: int64"
      ]
     },
     "metadata": {},
     "output_type": "display_data"
    },
    {
     "data": {
      "text/plain": [
       "count    313421.00000\n",
       "mean        120.02698\n",
       "std          53.50339\n",
       "min           1.00000\n",
       "25%          75.00000\n",
       "50%         110.00000\n",
       "75%         150.00000\n",
       "max         500.00000\n",
       "Name: Power, dtype: float64"
      ]
     },
     "execution_count": 17,
     "metadata": {},
     "output_type": "execute_result"
    }
   ],
   "source": [
    "car_data = car_data[car_data['Power'] <= 500] #Dropping rows with car horsepower greater than 500\n",
    "display(car_data['Power'].value_counts())\n",
    "car_data[car_data['Power'] > 0]['Power'].describe() #Filter over 0 horsepower to avoid throwing off the metrics"
   ]
  },
  {
   "cell_type": "markdown",
   "metadata": {},
   "source": [
    "There's the answer: tons of cars with 0 horsepower which makes no sense. There are too many values here to simply drop. The median and mean are nearly the same, so let's go ahead and fill the 0 values with the median, and then afterwards check how many cars have under 40 horsepower. If it is a miniscule amount, we can safely remove them."
   ]
  },
  {
   "cell_type": "code",
   "execution_count": 18,
   "metadata": {},
   "outputs": [
    {
     "data": {
      "text/plain": [
       "110    44942\n",
       "75     24000\n",
       "60     15879\n",
       "150    14571\n",
       "101    13286\n",
       "       ...  \n",
       "489        1\n",
       "490        1\n",
       "339        1\n",
       "428        1\n",
       "356        1\n",
       "Name: Power, Length: 412, dtype: int64"
      ]
     },
     "metadata": {},
     "output_type": "display_data"
    },
    {
     "data": {
      "text/plain": [
       "0.4040843911446419"
      ]
     },
     "execution_count": 18,
     "metadata": {},
     "output_type": "execute_result"
    }
   ],
   "source": [
    "car_data['Power'] = (car_data['Power'].replace(0, car_data[car_data['Power'] > 0]['Power'].median())).astype(int)\n",
    "display(car_data['Power'].value_counts())\n",
    "under_40_pct = (car_data['Power'] < 40).mean() * 100\n",
    "under_40_pct"
   ]
  },
  {
   "cell_type": "markdown",
   "metadata": {},
   "source": [
    "Cars under 40 horsepower are now under 1% of the data, we can drop these values safely."
   ]
  },
  {
   "cell_type": "code",
   "execution_count": 19,
   "metadata": {
    "scrolled": true
   },
   "outputs": [
    {
     "data": {
      "text/plain": [
       "40     321\n",
       "41     441\n",
       "42      50\n",
       "43     115\n",
       "44     395\n",
       "      ... \n",
       "485      1\n",
       "487      2\n",
       "489      1\n",
       "490      1\n",
       "500     39\n",
       "Name: Power, Length: 373, dtype: int64"
      ]
     },
     "metadata": {},
     "output_type": "display_data"
    },
    {
     "name": "stdout",
     "output_type": "stream",
     "text": [
      "<class 'pandas.core.frame.DataFrame'>\n",
      "Int64Index: 352210 entries, 0 to 354368\n",
      "Data columns (total 16 columns):\n",
      " #   Column             Non-Null Count   Dtype         \n",
      "---  ------             --------------   -----         \n",
      " 0   DateCrawled        352210 non-null  datetime64[ns]\n",
      " 1   Price              352210 non-null  int64         \n",
      " 2   VehicleType        352210 non-null  object        \n",
      " 3   RegistrationYear   352210 non-null  int64         \n",
      " 4   Gearbox            352210 non-null  object        \n",
      " 5   Power              352210 non-null  int64         \n",
      " 6   Model              352210 non-null  object        \n",
      " 7   Mileage            352210 non-null  int64         \n",
      " 8   RegistrationMonth  352210 non-null  int64         \n",
      " 9   FuelType           352210 non-null  object        \n",
      " 10  Brand              352210 non-null  object        \n",
      " 11  NotRepaired        352210 non-null  object        \n",
      " 12  DateCreated        352210 non-null  datetime64[ns]\n",
      " 13  NumberOfPictures   352210 non-null  int64         \n",
      " 14  PostalCode         352210 non-null  int64         \n",
      " 15  LastSeen           352210 non-null  datetime64[ns]\n",
      "dtypes: datetime64[ns](3), int64(7), object(6)\n",
      "memory usage: 45.7+ MB\n"
     ]
    },
    {
     "data": {
      "text/plain": [
       "None"
      ]
     },
     "metadata": {},
     "output_type": "display_data"
    },
    {
     "data": {
      "text/html": [
       "<div>\n",
       "<style scoped>\n",
       "    .dataframe tbody tr th:only-of-type {\n",
       "        vertical-align: middle;\n",
       "    }\n",
       "\n",
       "    .dataframe tbody tr th {\n",
       "        vertical-align: top;\n",
       "    }\n",
       "\n",
       "    .dataframe thead th {\n",
       "        text-align: right;\n",
       "    }\n",
       "</style>\n",
       "<table border=\"1\" class=\"dataframe\">\n",
       "  <thead>\n",
       "    <tr style=\"text-align: right;\">\n",
       "      <th></th>\n",
       "      <th>DateCrawled</th>\n",
       "      <th>Price</th>\n",
       "      <th>VehicleType</th>\n",
       "      <th>RegistrationYear</th>\n",
       "      <th>Gearbox</th>\n",
       "      <th>Power</th>\n",
       "      <th>Model</th>\n",
       "      <th>Mileage</th>\n",
       "      <th>RegistrationMonth</th>\n",
       "      <th>FuelType</th>\n",
       "      <th>Brand</th>\n",
       "      <th>NotRepaired</th>\n",
       "      <th>DateCreated</th>\n",
       "      <th>NumberOfPictures</th>\n",
       "      <th>PostalCode</th>\n",
       "      <th>LastSeen</th>\n",
       "    </tr>\n",
       "  </thead>\n",
       "  <tbody>\n",
       "    <tr>\n",
       "      <th>0</th>\n",
       "      <td>2016-03-24 11:52:00</td>\n",
       "      <td>480</td>\n",
       "      <td>other</td>\n",
       "      <td>1993</td>\n",
       "      <td>manual</td>\n",
       "      <td>110</td>\n",
       "      <td>golf</td>\n",
       "      <td>150000</td>\n",
       "      <td>0</td>\n",
       "      <td>petrol</td>\n",
       "      <td>volkswagen</td>\n",
       "      <td>unknown</td>\n",
       "      <td>2016-03-24</td>\n",
       "      <td>0</td>\n",
       "      <td>70435</td>\n",
       "      <td>2016-07-04 03:16:00</td>\n",
       "    </tr>\n",
       "    <tr>\n",
       "      <th>1</th>\n",
       "      <td>2016-03-24 10:58:00</td>\n",
       "      <td>18300</td>\n",
       "      <td>coupe</td>\n",
       "      <td>2011</td>\n",
       "      <td>manual</td>\n",
       "      <td>190</td>\n",
       "      <td>other</td>\n",
       "      <td>125000</td>\n",
       "      <td>5</td>\n",
       "      <td>gasoline</td>\n",
       "      <td>audi</td>\n",
       "      <td>yes</td>\n",
       "      <td>2016-03-24</td>\n",
       "      <td>0</td>\n",
       "      <td>66954</td>\n",
       "      <td>2016-07-04 01:46:00</td>\n",
       "    </tr>\n",
       "    <tr>\n",
       "      <th>2</th>\n",
       "      <td>2016-03-14 12:52:00</td>\n",
       "      <td>9800</td>\n",
       "      <td>suv</td>\n",
       "      <td>2004</td>\n",
       "      <td>auto</td>\n",
       "      <td>163</td>\n",
       "      <td>grand</td>\n",
       "      <td>125000</td>\n",
       "      <td>8</td>\n",
       "      <td>gasoline</td>\n",
       "      <td>jeep</td>\n",
       "      <td>unknown</td>\n",
       "      <td>2016-03-14</td>\n",
       "      <td>0</td>\n",
       "      <td>90480</td>\n",
       "      <td>2016-05-04 12:47:00</td>\n",
       "    </tr>\n",
       "    <tr>\n",
       "      <th>3</th>\n",
       "      <td>2016-03-17 16:54:00</td>\n",
       "      <td>1500</td>\n",
       "      <td>small</td>\n",
       "      <td>2001</td>\n",
       "      <td>manual</td>\n",
       "      <td>75</td>\n",
       "      <td>golf</td>\n",
       "      <td>150000</td>\n",
       "      <td>6</td>\n",
       "      <td>petrol</td>\n",
       "      <td>volkswagen</td>\n",
       "      <td>no</td>\n",
       "      <td>2016-03-17</td>\n",
       "      <td>0</td>\n",
       "      <td>91074</td>\n",
       "      <td>2016-03-17 17:40:00</td>\n",
       "    </tr>\n",
       "    <tr>\n",
       "      <th>4</th>\n",
       "      <td>2016-03-31 17:25:00</td>\n",
       "      <td>3600</td>\n",
       "      <td>small</td>\n",
       "      <td>2008</td>\n",
       "      <td>manual</td>\n",
       "      <td>69</td>\n",
       "      <td>fabia</td>\n",
       "      <td>90000</td>\n",
       "      <td>7</td>\n",
       "      <td>gasoline</td>\n",
       "      <td>skoda</td>\n",
       "      <td>no</td>\n",
       "      <td>2016-03-31</td>\n",
       "      <td>0</td>\n",
       "      <td>60437</td>\n",
       "      <td>2016-06-04 10:17:00</td>\n",
       "    </tr>\n",
       "    <tr>\n",
       "      <th>5</th>\n",
       "      <td>2016-04-04 17:36:00</td>\n",
       "      <td>650</td>\n",
       "      <td>sedan</td>\n",
       "      <td>1995</td>\n",
       "      <td>manual</td>\n",
       "      <td>102</td>\n",
       "      <td>3er</td>\n",
       "      <td>150000</td>\n",
       "      <td>10</td>\n",
       "      <td>petrol</td>\n",
       "      <td>bmw</td>\n",
       "      <td>yes</td>\n",
       "      <td>2016-04-04</td>\n",
       "      <td>0</td>\n",
       "      <td>33775</td>\n",
       "      <td>2016-06-04 19:17:00</td>\n",
       "    </tr>\n",
       "    <tr>\n",
       "      <th>6</th>\n",
       "      <td>2016-01-04 20:48:00</td>\n",
       "      <td>2200</td>\n",
       "      <td>convertible</td>\n",
       "      <td>2004</td>\n",
       "      <td>manual</td>\n",
       "      <td>109</td>\n",
       "      <td>2_reihe</td>\n",
       "      <td>150000</td>\n",
       "      <td>8</td>\n",
       "      <td>petrol</td>\n",
       "      <td>peugeot</td>\n",
       "      <td>no</td>\n",
       "      <td>2016-01-04</td>\n",
       "      <td>0</td>\n",
       "      <td>67112</td>\n",
       "      <td>2016-05-04 18:18:00</td>\n",
       "    </tr>\n",
       "    <tr>\n",
       "      <th>7</th>\n",
       "      <td>2016-03-21 18:54:00</td>\n",
       "      <td>0</td>\n",
       "      <td>sedan</td>\n",
       "      <td>1980</td>\n",
       "      <td>manual</td>\n",
       "      <td>50</td>\n",
       "      <td>other</td>\n",
       "      <td>40000</td>\n",
       "      <td>7</td>\n",
       "      <td>petrol</td>\n",
       "      <td>volkswagen</td>\n",
       "      <td>no</td>\n",
       "      <td>2016-03-21</td>\n",
       "      <td>0</td>\n",
       "      <td>19348</td>\n",
       "      <td>2016-03-25 16:47:00</td>\n",
       "    </tr>\n",
       "    <tr>\n",
       "      <th>8</th>\n",
       "      <td>2016-04-04 23:42:00</td>\n",
       "      <td>14500</td>\n",
       "      <td>bus</td>\n",
       "      <td>2014</td>\n",
       "      <td>manual</td>\n",
       "      <td>125</td>\n",
       "      <td>c_max</td>\n",
       "      <td>30000</td>\n",
       "      <td>8</td>\n",
       "      <td>petrol</td>\n",
       "      <td>ford</td>\n",
       "      <td>unknown</td>\n",
       "      <td>2016-04-04</td>\n",
       "      <td>0</td>\n",
       "      <td>94505</td>\n",
       "      <td>2016-04-04 23:42:00</td>\n",
       "    </tr>\n",
       "    <tr>\n",
       "      <th>9</th>\n",
       "      <td>2016-03-17 10:53:00</td>\n",
       "      <td>999</td>\n",
       "      <td>small</td>\n",
       "      <td>1998</td>\n",
       "      <td>manual</td>\n",
       "      <td>101</td>\n",
       "      <td>golf</td>\n",
       "      <td>150000</td>\n",
       "      <td>0</td>\n",
       "      <td>petrol</td>\n",
       "      <td>volkswagen</td>\n",
       "      <td>unknown</td>\n",
       "      <td>2016-03-17</td>\n",
       "      <td>0</td>\n",
       "      <td>27472</td>\n",
       "      <td>2016-03-31 17:17:00</td>\n",
       "    </tr>\n",
       "  </tbody>\n",
       "</table>\n",
       "</div>"
      ],
      "text/plain": [
       "          DateCrawled  Price  VehicleType  RegistrationYear Gearbox  Power  \\\n",
       "0 2016-03-24 11:52:00    480        other              1993  manual    110   \n",
       "1 2016-03-24 10:58:00  18300        coupe              2011  manual    190   \n",
       "2 2016-03-14 12:52:00   9800          suv              2004    auto    163   \n",
       "3 2016-03-17 16:54:00   1500        small              2001  manual     75   \n",
       "4 2016-03-31 17:25:00   3600        small              2008  manual     69   \n",
       "5 2016-04-04 17:36:00    650        sedan              1995  manual    102   \n",
       "6 2016-01-04 20:48:00   2200  convertible              2004  manual    109   \n",
       "7 2016-03-21 18:54:00      0        sedan              1980  manual     50   \n",
       "8 2016-04-04 23:42:00  14500          bus              2014  manual    125   \n",
       "9 2016-03-17 10:53:00    999        small              1998  manual    101   \n",
       "\n",
       "     Model  Mileage  RegistrationMonth  FuelType       Brand NotRepaired  \\\n",
       "0     golf   150000                  0    petrol  volkswagen     unknown   \n",
       "1    other   125000                  5  gasoline        audi         yes   \n",
       "2    grand   125000                  8  gasoline        jeep     unknown   \n",
       "3     golf   150000                  6    petrol  volkswagen          no   \n",
       "4    fabia    90000                  7  gasoline       skoda          no   \n",
       "5      3er   150000                 10    petrol         bmw         yes   \n",
       "6  2_reihe   150000                  8    petrol     peugeot          no   \n",
       "7    other    40000                  7    petrol  volkswagen          no   \n",
       "8    c_max    30000                  8    petrol        ford     unknown   \n",
       "9     golf   150000                  0    petrol  volkswagen     unknown   \n",
       "\n",
       "  DateCreated  NumberOfPictures  PostalCode            LastSeen  \n",
       "0  2016-03-24                 0       70435 2016-07-04 03:16:00  \n",
       "1  2016-03-24                 0       66954 2016-07-04 01:46:00  \n",
       "2  2016-03-14                 0       90480 2016-05-04 12:47:00  \n",
       "3  2016-03-17                 0       91074 2016-03-17 17:40:00  \n",
       "4  2016-03-31                 0       60437 2016-06-04 10:17:00  \n",
       "5  2016-04-04                 0       33775 2016-06-04 19:17:00  \n",
       "6  2016-01-04                 0       67112 2016-05-04 18:18:00  \n",
       "7  2016-03-21                 0       19348 2016-03-25 16:47:00  \n",
       "8  2016-04-04                 0       94505 2016-04-04 23:42:00  \n",
       "9  2016-03-17                 0       27472 2016-03-31 17:17:00  "
      ]
     },
     "execution_count": 19,
     "metadata": {},
     "output_type": "execute_result"
    }
   ],
   "source": [
    "car_data = car_data[car_data['Power'] >= 40] #Dropping rows with car horsepower less than 40\n",
    "display(car_data['Power'].value_counts().sort_index()) \n",
    "display(car_data.info())\n",
    "car_data.head(10)"
   ]
  },
  {
   "cell_type": "markdown",
   "metadata": {},
   "source": [
    "We have retained most of our data and made sensible implementations for missing values and nonsensical values."
   ]
  },
  {
   "cell_type": "code",
   "execution_count": 20,
   "metadata": {},
   "outputs": [
    {
     "data": {
      "text/plain": [
       "0    352210\n",
       "Name: NumberOfPictures, dtype: int64"
      ]
     },
     "execution_count": 20,
     "metadata": {},
     "output_type": "execute_result"
    }
   ],
   "source": [
    "car_data['NumberOfPictures'].value_counts()"
   ]
  },
  {
   "cell_type": "markdown",
   "metadata": {},
   "source": [
    "This column gives us no value as all cars have 0 pictures. We can drop this column."
   ]
  },
  {
   "cell_type": "code",
   "execution_count": 21,
   "metadata": {},
   "outputs": [
    {
     "data": {
      "text/html": [
       "<div>\n",
       "<style scoped>\n",
       "    .dataframe tbody tr th:only-of-type {\n",
       "        vertical-align: middle;\n",
       "    }\n",
       "\n",
       "    .dataframe tbody tr th {\n",
       "        vertical-align: top;\n",
       "    }\n",
       "\n",
       "    .dataframe thead th {\n",
       "        text-align: right;\n",
       "    }\n",
       "</style>\n",
       "<table border=\"1\" class=\"dataframe\">\n",
       "  <thead>\n",
       "    <tr style=\"text-align: right;\">\n",
       "      <th></th>\n",
       "      <th>DateCrawled</th>\n",
       "      <th>Price</th>\n",
       "      <th>VehicleType</th>\n",
       "      <th>RegistrationYear</th>\n",
       "      <th>Gearbox</th>\n",
       "      <th>Power</th>\n",
       "      <th>Model</th>\n",
       "      <th>Mileage</th>\n",
       "      <th>RegistrationMonth</th>\n",
       "      <th>FuelType</th>\n",
       "      <th>Brand</th>\n",
       "      <th>NotRepaired</th>\n",
       "      <th>DateCreated</th>\n",
       "      <th>PostalCode</th>\n",
       "      <th>LastSeen</th>\n",
       "    </tr>\n",
       "  </thead>\n",
       "  <tbody>\n",
       "    <tr>\n",
       "      <th>0</th>\n",
       "      <td>2016-03-24 11:52:00</td>\n",
       "      <td>480</td>\n",
       "      <td>other</td>\n",
       "      <td>1993</td>\n",
       "      <td>manual</td>\n",
       "      <td>110</td>\n",
       "      <td>golf</td>\n",
       "      <td>150000</td>\n",
       "      <td>0</td>\n",
       "      <td>petrol</td>\n",
       "      <td>volkswagen</td>\n",
       "      <td>unknown</td>\n",
       "      <td>2016-03-24</td>\n",
       "      <td>70435</td>\n",
       "      <td>2016-07-04 03:16:00</td>\n",
       "    </tr>\n",
       "    <tr>\n",
       "      <th>1</th>\n",
       "      <td>2016-03-24 10:58:00</td>\n",
       "      <td>18300</td>\n",
       "      <td>coupe</td>\n",
       "      <td>2011</td>\n",
       "      <td>manual</td>\n",
       "      <td>190</td>\n",
       "      <td>other</td>\n",
       "      <td>125000</td>\n",
       "      <td>5</td>\n",
       "      <td>gasoline</td>\n",
       "      <td>audi</td>\n",
       "      <td>yes</td>\n",
       "      <td>2016-03-24</td>\n",
       "      <td>66954</td>\n",
       "      <td>2016-07-04 01:46:00</td>\n",
       "    </tr>\n",
       "    <tr>\n",
       "      <th>2</th>\n",
       "      <td>2016-03-14 12:52:00</td>\n",
       "      <td>9800</td>\n",
       "      <td>suv</td>\n",
       "      <td>2004</td>\n",
       "      <td>auto</td>\n",
       "      <td>163</td>\n",
       "      <td>grand</td>\n",
       "      <td>125000</td>\n",
       "      <td>8</td>\n",
       "      <td>gasoline</td>\n",
       "      <td>jeep</td>\n",
       "      <td>unknown</td>\n",
       "      <td>2016-03-14</td>\n",
       "      <td>90480</td>\n",
       "      <td>2016-05-04 12:47:00</td>\n",
       "    </tr>\n",
       "    <tr>\n",
       "      <th>3</th>\n",
       "      <td>2016-03-17 16:54:00</td>\n",
       "      <td>1500</td>\n",
       "      <td>small</td>\n",
       "      <td>2001</td>\n",
       "      <td>manual</td>\n",
       "      <td>75</td>\n",
       "      <td>golf</td>\n",
       "      <td>150000</td>\n",
       "      <td>6</td>\n",
       "      <td>petrol</td>\n",
       "      <td>volkswagen</td>\n",
       "      <td>no</td>\n",
       "      <td>2016-03-17</td>\n",
       "      <td>91074</td>\n",
       "      <td>2016-03-17 17:40:00</td>\n",
       "    </tr>\n",
       "    <tr>\n",
       "      <th>4</th>\n",
       "      <td>2016-03-31 17:25:00</td>\n",
       "      <td>3600</td>\n",
       "      <td>small</td>\n",
       "      <td>2008</td>\n",
       "      <td>manual</td>\n",
       "      <td>69</td>\n",
       "      <td>fabia</td>\n",
       "      <td>90000</td>\n",
       "      <td>7</td>\n",
       "      <td>gasoline</td>\n",
       "      <td>skoda</td>\n",
       "      <td>no</td>\n",
       "      <td>2016-03-31</td>\n",
       "      <td>60437</td>\n",
       "      <td>2016-06-04 10:17:00</td>\n",
       "    </tr>\n",
       "  </tbody>\n",
       "</table>\n",
       "</div>"
      ],
      "text/plain": [
       "          DateCrawled  Price VehicleType  RegistrationYear Gearbox  Power  \\\n",
       "0 2016-03-24 11:52:00    480       other              1993  manual    110   \n",
       "1 2016-03-24 10:58:00  18300       coupe              2011  manual    190   \n",
       "2 2016-03-14 12:52:00   9800         suv              2004    auto    163   \n",
       "3 2016-03-17 16:54:00   1500       small              2001  manual     75   \n",
       "4 2016-03-31 17:25:00   3600       small              2008  manual     69   \n",
       "\n",
       "   Model  Mileage  RegistrationMonth  FuelType       Brand NotRepaired  \\\n",
       "0   golf   150000                  0    petrol  volkswagen     unknown   \n",
       "1  other   125000                  5  gasoline        audi         yes   \n",
       "2  grand   125000                  8  gasoline        jeep     unknown   \n",
       "3   golf   150000                  6    petrol  volkswagen          no   \n",
       "4  fabia    90000                  7  gasoline       skoda          no   \n",
       "\n",
       "  DateCreated  PostalCode            LastSeen  \n",
       "0  2016-03-24       70435 2016-07-04 03:16:00  \n",
       "1  2016-03-24       66954 2016-07-04 01:46:00  \n",
       "2  2016-03-14       90480 2016-05-04 12:47:00  \n",
       "3  2016-03-17       91074 2016-03-17 17:40:00  \n",
       "4  2016-03-31       60437 2016-06-04 10:17:00  "
      ]
     },
     "execution_count": 21,
     "metadata": {},
     "output_type": "execute_result"
    }
   ],
   "source": [
    "car_data = car_data.drop('NumberOfPictures', axis=1)\n",
    "car_data.head()"
   ]
  },
  {
   "cell_type": "markdown",
   "metadata": {},
   "source": [
    "<div class=\"alert alert-block alert-success\">\n",
    "<b>Reviewer's comment V1</b> <a class=\"tocSkip\"></a>\n",
    "\n",
    "Everything is correct. Good job!\n",
    "    \n",
    "</div>"
   ]
  },
  {
   "cell_type": "markdown",
   "metadata": {},
   "source": [
    "## Model training"
   ]
  },
  {
   "cell_type": "code",
   "execution_count": 22,
   "metadata": {},
   "outputs": [],
   "source": [
    "#Splitting our features into categorical and numerical\n",
    "categorical_features = ['VehicleType', 'Gearbox', 'Model', 'FuelType', 'Brand', 'NotRepaired']\n",
    "numerical_features = ['Power', 'Mileage', 'RegistrationYear', 'RegistrationMonth']"
   ]
  },
  {
   "cell_type": "code",
   "execution_count": 23,
   "metadata": {
    "scrolled": true
   },
   "outputs": [
    {
     "data": {
      "text/html": [
       "<div>\n",
       "<style scoped>\n",
       "    .dataframe tbody tr th:only-of-type {\n",
       "        vertical-align: middle;\n",
       "    }\n",
       "\n",
       "    .dataframe tbody tr th {\n",
       "        vertical-align: top;\n",
       "    }\n",
       "\n",
       "    .dataframe thead th {\n",
       "        text-align: right;\n",
       "    }\n",
       "</style>\n",
       "<table border=\"1\" class=\"dataframe\">\n",
       "  <thead>\n",
       "    <tr style=\"text-align: right;\">\n",
       "      <th></th>\n",
       "      <th>Price</th>\n",
       "      <th>VehicleType</th>\n",
       "      <th>RegistrationYear</th>\n",
       "      <th>Gearbox</th>\n",
       "      <th>Power</th>\n",
       "      <th>Model</th>\n",
       "      <th>Mileage</th>\n",
       "      <th>RegistrationMonth</th>\n",
       "      <th>FuelType</th>\n",
       "      <th>Brand</th>\n",
       "      <th>NotRepaired</th>\n",
       "    </tr>\n",
       "  </thead>\n",
       "  <tbody>\n",
       "    <tr>\n",
       "      <th>0</th>\n",
       "      <td>480</td>\n",
       "      <td>other</td>\n",
       "      <td>1993</td>\n",
       "      <td>manual</td>\n",
       "      <td>110</td>\n",
       "      <td>golf</td>\n",
       "      <td>150000</td>\n",
       "      <td>0</td>\n",
       "      <td>petrol</td>\n",
       "      <td>volkswagen</td>\n",
       "      <td>unknown</td>\n",
       "    </tr>\n",
       "    <tr>\n",
       "      <th>1</th>\n",
       "      <td>18300</td>\n",
       "      <td>coupe</td>\n",
       "      <td>2011</td>\n",
       "      <td>manual</td>\n",
       "      <td>190</td>\n",
       "      <td>other</td>\n",
       "      <td>125000</td>\n",
       "      <td>5</td>\n",
       "      <td>gasoline</td>\n",
       "      <td>audi</td>\n",
       "      <td>yes</td>\n",
       "    </tr>\n",
       "    <tr>\n",
       "      <th>2</th>\n",
       "      <td>9800</td>\n",
       "      <td>suv</td>\n",
       "      <td>2004</td>\n",
       "      <td>auto</td>\n",
       "      <td>163</td>\n",
       "      <td>grand</td>\n",
       "      <td>125000</td>\n",
       "      <td>8</td>\n",
       "      <td>gasoline</td>\n",
       "      <td>jeep</td>\n",
       "      <td>unknown</td>\n",
       "    </tr>\n",
       "    <tr>\n",
       "      <th>3</th>\n",
       "      <td>1500</td>\n",
       "      <td>small</td>\n",
       "      <td>2001</td>\n",
       "      <td>manual</td>\n",
       "      <td>75</td>\n",
       "      <td>golf</td>\n",
       "      <td>150000</td>\n",
       "      <td>6</td>\n",
       "      <td>petrol</td>\n",
       "      <td>volkswagen</td>\n",
       "      <td>no</td>\n",
       "    </tr>\n",
       "    <tr>\n",
       "      <th>4</th>\n",
       "      <td>3600</td>\n",
       "      <td>small</td>\n",
       "      <td>2008</td>\n",
       "      <td>manual</td>\n",
       "      <td>69</td>\n",
       "      <td>fabia</td>\n",
       "      <td>90000</td>\n",
       "      <td>7</td>\n",
       "      <td>gasoline</td>\n",
       "      <td>skoda</td>\n",
       "      <td>no</td>\n",
       "    </tr>\n",
       "  </tbody>\n",
       "</table>\n",
       "</div>"
      ],
      "text/plain": [
       "   Price VehicleType  RegistrationYear Gearbox  Power  Model  Mileage  \\\n",
       "0    480       other              1993  manual    110   golf   150000   \n",
       "1  18300       coupe              2011  manual    190  other   125000   \n",
       "2   9800         suv              2004    auto    163  grand   125000   \n",
       "3   1500       small              2001  manual     75   golf   150000   \n",
       "4   3600       small              2008  manual     69  fabia    90000   \n",
       "\n",
       "   RegistrationMonth  FuelType       Brand NotRepaired  \n",
       "0                  0    petrol  volkswagen     unknown  \n",
       "1                  5  gasoline        audi         yes  \n",
       "2                  8  gasoline        jeep     unknown  \n",
       "3                  6    petrol  volkswagen          no  \n",
       "4                  7  gasoline       skoda          no  "
      ]
     },
     "execution_count": 23,
     "metadata": {},
     "output_type": "execute_result"
    }
   ],
   "source": [
    "#Dropping columns that won't help with model creation\n",
    "car_data_filtered = car_data.drop(['DateCrawled','DateCreated','LastSeen','PostalCode'], axis=1)\n",
    "car_data_filtered.head()"
   ]
  },
  {
   "cell_type": "code",
   "execution_count": 24,
   "metadata": {},
   "outputs": [],
   "source": [
    "features = car_data_filtered.drop('Price', axis =1)\n",
    "target = car_data_filtered['Price']"
   ]
  },
  {
   "cell_type": "code",
   "execution_count": 25,
   "metadata": {},
   "outputs": [],
   "source": [
    "def evaluate_model(model, features_train, features_valid, target_train, target_valid, model_name):\n",
    "    # Training time\n",
    "    start_time = time.time()\n",
    "    model.fit(features_train, target_train)\n",
    "    training_time = time.time() - start_time\n",
    "    \n",
    "    # Prediction time\n",
    "    start_time = time.time()\n",
    "    target_pred = model.predict(features_valid)\n",
    "    prediction_time = time.time() - start_time\n",
    "    \n",
    "    # RMSE\n",
    "    rmse = np.sqrt(mean_squared_error(target_valid, target_pred))\n",
    "    \n",
    "    return {\n",
    "        'Model': model_name,\n",
    "        'RMSE': rmse,\n",
    "        'Training Time': training_time,\n",
    "        'Prediction Time': prediction_time\n",
    "    }\n"
   ]
  },
  {
   "cell_type": "code",
   "execution_count": 26,
   "metadata": {},
   "outputs": [
    {
     "name": "stdout",
     "output_type": "stream",
     "text": [
      "CPU times: user 2 µs, sys: 0 ns, total: 2 µs\n",
      "Wall time: 5.25 µs\n"
     ]
    }
   ],
   "source": [
    "# Convert categorical columns to categorical dtype\n",
    "for col in categorical_features:\n",
    "    features[col] = features[col].astype('category')\n",
    "\n",
    "# Split the data into training set (v3)\n",
    "features_train, features_temp, target_train, target_temp = train_test_split(features, target, test_size=0.5, random_state=42)\n",
    "#Split into validation and test sets (v3)\n",
    "features_valid, features_test, target_valid, target_test = train_test_split(features_temp, target_temp, test_size=0.5, random_state=42)\n",
    "\n",
    "# Initialize models\n",
    "models = {\n",
    "    'LightGBM': lgb.LGBMRegressor(random_state=42, learning_rate=0.15, num_leaves= 24),\n",
    "    'CatBoost': CatBoostRegressor(\n",
    "        random_state=42,\n",
    "        verbose=False,\n",
    "        cat_features=categorical_features,\n",
    "        iterations=200,          # Reduce number of iterations\n",
    "        learning_rate=0.1,      # Slightly higher learning rate\n",
    "        depth=4)\n",
    "}\n",
    "\n",
    "# Evaluate all models\n",
    "results = []\n",
    "for name, model in models.items():\n",
    "    result = evaluate_model(model, features_train, features_valid, target_train, target_valid, name)\n",
    "    results.append(result)\n",
    "\n",
    "# Create results DataFrame\n",
    "results_df_1 = pd.DataFrame(results)\n",
    "\n",
    "%time"
   ]
  },
  {
   "cell_type": "code",
   "execution_count": 27,
   "metadata": {
    "scrolled": true
   },
   "outputs": [
    {
     "data": {
      "text/html": [
       "<div>\n",
       "<style scoped>\n",
       "    .dataframe tbody tr th:only-of-type {\n",
       "        vertical-align: middle;\n",
       "    }\n",
       "\n",
       "    .dataframe tbody tr th {\n",
       "        vertical-align: top;\n",
       "    }\n",
       "\n",
       "    .dataframe thead th {\n",
       "        text-align: right;\n",
       "    }\n",
       "</style>\n",
       "<table border=\"1\" class=\"dataframe\">\n",
       "  <thead>\n",
       "    <tr style=\"text-align: right;\">\n",
       "      <th></th>\n",
       "      <th>Model</th>\n",
       "      <th>RMSE</th>\n",
       "      <th>Training Time</th>\n",
       "      <th>Prediction Time</th>\n",
       "    </tr>\n",
       "  </thead>\n",
       "  <tbody>\n",
       "    <tr>\n",
       "      <th>0</th>\n",
       "      <td>LightGBM</td>\n",
       "      <td>1779.621026</td>\n",
       "      <td>2.012499</td>\n",
       "      <td>0.501202</td>\n",
       "    </tr>\n",
       "    <tr>\n",
       "      <th>1</th>\n",
       "      <td>CatBoost</td>\n",
       "      <td>1920.130161</td>\n",
       "      <td>17.011688</td>\n",
       "      <td>0.093382</td>\n",
       "    </tr>\n",
       "  </tbody>\n",
       "</table>\n",
       "</div>"
      ],
      "text/plain": [
       "      Model         RMSE  Training Time  Prediction Time\n",
       "0  LightGBM  1779.621026       2.012499         0.501202\n",
       "1  CatBoost  1920.130161      17.011688         0.093382"
      ]
     },
     "execution_count": 27,
     "metadata": {},
     "output_type": "execute_result"
    }
   ],
   "source": [
    "results_df_1"
   ]
  },
  {
   "cell_type": "markdown",
   "metadata": {},
   "source": [
    "<div class=\"alert alert-block alert-success\">\n",
    "<b>Reviewer's comment V1</b> <a class=\"tocSkip\"></a>\n",
    "\n",
    "Correct. Well done!\n",
    "    \n",
    "</div>"
   ]
  },
  {
   "cell_type": "code",
   "execution_count": 28,
   "metadata": {},
   "outputs": [],
   "source": [
    "# Convert categorical features using get_dummies with drop_first to train tree-based models and linear regression\n",
    "features = pd.get_dummies(features, drop_first=True)\n",
    "# Convert all columns to numeric\n",
    "features = features.apply(pd.to_numeric)"
   ]
  },
  {
   "cell_type": "code",
   "execution_count": 29,
   "metadata": {},
   "outputs": [
    {
     "name": "stdout",
     "output_type": "stream",
     "text": [
      "CPU times: user 3 µs, sys: 0 ns, total: 3 µs\n",
      "Wall time: 4.77 µs\n"
     ]
    }
   ],
   "source": [
    "# Split the data into training set (v3)\n",
    "features_train, features_temp, target_train, target_temp = train_test_split(features, target, test_size=0.5, random_state=42)\n",
    "#Split into validation and test sets (v3)\n",
    "features_valid, features_test, target_valid, target_test = train_test_split(features_temp, target_temp, test_size=0.5, random_state=42)\n",
    "\n",
    "#Initialize models\n",
    "models = {'Linear Regression': LinearRegression(),\n",
    "    'Decision Tree': DecisionTreeRegressor(random_state=42, max_depth=5),\n",
    "    'Random Forest': RandomForestRegressor(n_estimators=30, max_depth=5, random_state=42)}\n",
    "\n",
    "# Evaluate all models\n",
    "results = []\n",
    "for name, model in models.items():\n",
    "    result = evaluate_model(model, features_train, features_valid, target_train, target_valid, name)\n",
    "    results.append(result)\n",
    "\n",
    "# Create results DataFrame\n",
    "results_df_2 = pd.DataFrame(results)\n",
    "\n",
    "%time"
   ]
  },
  {
   "cell_type": "code",
   "execution_count": 30,
   "metadata": {
    "scrolled": true
   },
   "outputs": [
    {
     "data": {
      "text/html": [
       "<div>\n",
       "<style scoped>\n",
       "    .dataframe tbody tr th:only-of-type {\n",
       "        vertical-align: middle;\n",
       "    }\n",
       "\n",
       "    .dataframe tbody tr th {\n",
       "        vertical-align: top;\n",
       "    }\n",
       "\n",
       "    .dataframe thead th {\n",
       "        text-align: right;\n",
       "    }\n",
       "</style>\n",
       "<table border=\"1\" class=\"dataframe\">\n",
       "  <thead>\n",
       "    <tr style=\"text-align: right;\">\n",
       "      <th></th>\n",
       "      <th>Model</th>\n",
       "      <th>RMSE</th>\n",
       "      <th>Training Time</th>\n",
       "      <th>Prediction Time</th>\n",
       "    </tr>\n",
       "  </thead>\n",
       "  <tbody>\n",
       "    <tr>\n",
       "      <th>0</th>\n",
       "      <td>Linear Regression</td>\n",
       "      <td>2933.405158</td>\n",
       "      <td>6.129817</td>\n",
       "      <td>0.210094</td>\n",
       "    </tr>\n",
       "    <tr>\n",
       "      <th>1</th>\n",
       "      <td>Decision Tree</td>\n",
       "      <td>2536.697822</td>\n",
       "      <td>1.254863</td>\n",
       "      <td>0.061417</td>\n",
       "    </tr>\n",
       "    <tr>\n",
       "      <th>2</th>\n",
       "      <td>Random Forest</td>\n",
       "      <td>2501.869685</td>\n",
       "      <td>22.660114</td>\n",
       "      <td>0.131683</td>\n",
       "    </tr>\n",
       "  </tbody>\n",
       "</table>\n",
       "</div>"
      ],
      "text/plain": [
       "               Model         RMSE  Training Time  Prediction Time\n",
       "0  Linear Regression  2933.405158       6.129817         0.210094\n",
       "1      Decision Tree  2536.697822       1.254863         0.061417\n",
       "2      Random Forest  2501.869685      22.660114         0.131683"
      ]
     },
     "execution_count": 30,
     "metadata": {},
     "output_type": "execute_result"
    }
   ],
   "source": [
    "results_df_2"
   ]
  },
  {
   "cell_type": "code",
   "execution_count": 31,
   "metadata": {
    "scrolled": true
   },
   "outputs": [
    {
     "data": {
      "text/html": [
       "<div>\n",
       "<style scoped>\n",
       "    .dataframe tbody tr th:only-of-type {\n",
       "        vertical-align: middle;\n",
       "    }\n",
       "\n",
       "    .dataframe tbody tr th {\n",
       "        vertical-align: top;\n",
       "    }\n",
       "\n",
       "    .dataframe thead th {\n",
       "        text-align: right;\n",
       "    }\n",
       "</style>\n",
       "<table border=\"1\" class=\"dataframe\">\n",
       "  <thead>\n",
       "    <tr style=\"text-align: right;\">\n",
       "      <th></th>\n",
       "      <th>Model</th>\n",
       "      <th>RMSE</th>\n",
       "      <th>Training Time</th>\n",
       "      <th>Prediction Time</th>\n",
       "    </tr>\n",
       "  </thead>\n",
       "  <tbody>\n",
       "    <tr>\n",
       "      <th>0</th>\n",
       "      <td>LightGBM</td>\n",
       "      <td>1779.621026</td>\n",
       "      <td>2.012499</td>\n",
       "      <td>0.501202</td>\n",
       "    </tr>\n",
       "    <tr>\n",
       "      <th>1</th>\n",
       "      <td>CatBoost</td>\n",
       "      <td>1920.130161</td>\n",
       "      <td>17.011688</td>\n",
       "      <td>0.093382</td>\n",
       "    </tr>\n",
       "    <tr>\n",
       "      <th>2</th>\n",
       "      <td>Linear Regression</td>\n",
       "      <td>2933.405158</td>\n",
       "      <td>6.129817</td>\n",
       "      <td>0.210094</td>\n",
       "    </tr>\n",
       "    <tr>\n",
       "      <th>3</th>\n",
       "      <td>Decision Tree</td>\n",
       "      <td>2536.697822</td>\n",
       "      <td>1.254863</td>\n",
       "      <td>0.061417</td>\n",
       "    </tr>\n",
       "    <tr>\n",
       "      <th>4</th>\n",
       "      <td>Random Forest</td>\n",
       "      <td>2501.869685</td>\n",
       "      <td>22.660114</td>\n",
       "      <td>0.131683</td>\n",
       "    </tr>\n",
       "  </tbody>\n",
       "</table>\n",
       "</div>"
      ],
      "text/plain": [
       "               Model         RMSE  Training Time  Prediction Time\n",
       "0           LightGBM  1779.621026       2.012499         0.501202\n",
       "1           CatBoost  1920.130161      17.011688         0.093382\n",
       "2  Linear Regression  2933.405158       6.129817         0.210094\n",
       "3      Decision Tree  2536.697822       1.254863         0.061417\n",
       "4      Random Forest  2501.869685      22.660114         0.131683"
      ]
     },
     "execution_count": 31,
     "metadata": {},
     "output_type": "execute_result"
    }
   ],
   "source": [
    "merged_results = pd.concat([results_df_1, results_df_2], axis=0, ignore_index=True)\n",
    "merged_results"
   ]
  },
  {
   "cell_type": "markdown",
   "metadata": {},
   "source": [
    "<div class=\"alert alert-block alert-success\">\n",
    "<b>Reviewer's comment V1</b> <a class=\"tocSkip\"></a>\n",
    "\n",
    "Good job!\n",
    "    \n",
    "</div>"
   ]
  },
  {
   "cell_type": "markdown",
   "metadata": {},
   "source": [
    "Our LightGBM model leads the way with the lowest RMSE and second fastest training time. It does have the slowest prediction time but it's still very fast. Decision tree is the fastest model to train but does not have a great RMSE compared to our other models. Linear Regression is the worst here but serves as a good sanity check for our other models."
   ]
  },
  {
   "cell_type": "code",
   "execution_count": 32,
   "metadata": {},
   "outputs": [
    {
     "name": "stdout",
     "output_type": "stream",
     "text": [
      "\n",
      "Results sorted by RMSE:\n",
      "   n_estimators         RMSE  Training Time (s)  Prediction Time (s)\n",
      "1            50  2500.496017          37.356694             0.196092\n",
      "2           100  2500.696810          75.081549             0.313884\n",
      "0            10  2507.637283           7.400037             0.082537\n",
      "\n",
      "Best Configuration:\n",
      "n_estimators: 50.0\n",
      "RMSE: 2500.4960\n",
      "Training Time: 37.36 seconds\n",
      "Prediction Time: 0.20 seconds\n",
      "CPU times: user 3 µs, sys: 0 ns, total: 3 µs\n",
      "Wall time: 5.01 µs\n"
     ]
    }
   ],
   "source": [
    "#Lets tune and test different random forest models\n",
    "\n",
    "def evaluate_rf_estimators(features_train, features_valid, target_train, target_valid, estimator_range=None):\n",
    "    if estimator_range is None:\n",
    "        estimator_range = [10, 50, 100]\n",
    "    \n",
    "    results = []\n",
    "    \n",
    "    for n_est in estimator_range:\n",
    "        # Initialize model\n",
    "        rf = RandomForestRegressor(n_estimators=n_est, max_depth=5, random_state=42) #This depth is a good in-between depth\n",
    "        \n",
    "        # Training time\n",
    "        train_start = time.time()\n",
    "        rf.fit(features_train, target_train)\n",
    "        train_time = time.time() - train_start\n",
    "        \n",
    "        # Prediction time\n",
    "        pred_start = time.time()\n",
    "        target_pred = rf.predict(features_valid)\n",
    "        pred_time = time.time() - pred_start\n",
    "        \n",
    "        # Calculate RMSE\n",
    "        rmse = np.sqrt(mean_squared_error(target_valid, target_pred))\n",
    "        \n",
    "        results.append({\n",
    "            'n_estimators': n_est,\n",
    "            'RMSE': rmse,\n",
    "            'Training Time (s)': train_time,\n",
    "            'Prediction Time (s)': pred_time\n",
    "        })\n",
    "    \n",
    "    # Create DataFrame and sort by RMSE\n",
    "    results_df_3 = pd.DataFrame(results)\n",
    "    results_df_3 = results_df_3.sort_values('RMSE')\n",
    "    \n",
    "    return results_df_3\n",
    "\n",
    "# Get results\n",
    "results = evaluate_rf_estimators(features_train, features_valid, target_train, target_valid)\n",
    "\n",
    "# Print the results\n",
    "print(\"\\nResults sorted by RMSE:\")\n",
    "print(results)\n",
    "\n",
    "# Print the best configuration\n",
    "best_config = results.iloc[0]\n",
    "print(\"\\nBest Configuration:\")\n",
    "print(f\"n_estimators: {best_config['n_estimators']}\")\n",
    "print(f\"RMSE: {best_config['RMSE']:.4f}\")\n",
    "print(f\"Training Time: {best_config['Training Time (s)']:.2f} seconds\")\n",
    "print(f\"Prediction Time: {best_config['Prediction Time (s)']:.2f} seconds\")\n",
    "%time"
   ]
  },
  {
   "cell_type": "markdown",
   "metadata": {},
   "source": [
    "So our best random forest model has 50 estimators, but it is only slightly better than with 10 estimators. The difference though is 10 estimators is five times faster to train! So logically, our best model has 10 estimators. Let's test more hyperparamters on LightGBM, which is our current best-performing model all around."
   ]
  },
  {
   "cell_type": "code",
   "execution_count": 33,
   "metadata": {},
   "outputs": [
    {
     "data": {
      "text/html": [
       "<div>\n",
       "<style scoped>\n",
       "    .dataframe tbody tr th:only-of-type {\n",
       "        vertical-align: middle;\n",
       "    }\n",
       "\n",
       "    .dataframe tbody tr th {\n",
       "        vertical-align: top;\n",
       "    }\n",
       "\n",
       "    .dataframe thead th {\n",
       "        text-align: right;\n",
       "    }\n",
       "</style>\n",
       "<table border=\"1\" class=\"dataframe\">\n",
       "  <thead>\n",
       "    <tr style=\"text-align: right;\">\n",
       "      <th></th>\n",
       "      <th>VehicleType</th>\n",
       "      <th>RegistrationYear</th>\n",
       "      <th>Gearbox</th>\n",
       "      <th>Power</th>\n",
       "      <th>Model</th>\n",
       "      <th>Mileage</th>\n",
       "      <th>RegistrationMonth</th>\n",
       "      <th>FuelType</th>\n",
       "      <th>Brand</th>\n",
       "      <th>NotRepaired</th>\n",
       "    </tr>\n",
       "  </thead>\n",
       "  <tbody>\n",
       "    <tr>\n",
       "      <th>0</th>\n",
       "      <td>other</td>\n",
       "      <td>1993</td>\n",
       "      <td>manual</td>\n",
       "      <td>110</td>\n",
       "      <td>golf</td>\n",
       "      <td>150000</td>\n",
       "      <td>0</td>\n",
       "      <td>petrol</td>\n",
       "      <td>volkswagen</td>\n",
       "      <td>unknown</td>\n",
       "    </tr>\n",
       "    <tr>\n",
       "      <th>1</th>\n",
       "      <td>coupe</td>\n",
       "      <td>2011</td>\n",
       "      <td>manual</td>\n",
       "      <td>190</td>\n",
       "      <td>other</td>\n",
       "      <td>125000</td>\n",
       "      <td>5</td>\n",
       "      <td>gasoline</td>\n",
       "      <td>audi</td>\n",
       "      <td>yes</td>\n",
       "    </tr>\n",
       "    <tr>\n",
       "      <th>2</th>\n",
       "      <td>suv</td>\n",
       "      <td>2004</td>\n",
       "      <td>auto</td>\n",
       "      <td>163</td>\n",
       "      <td>grand</td>\n",
       "      <td>125000</td>\n",
       "      <td>8</td>\n",
       "      <td>gasoline</td>\n",
       "      <td>jeep</td>\n",
       "      <td>unknown</td>\n",
       "    </tr>\n",
       "    <tr>\n",
       "      <th>3</th>\n",
       "      <td>small</td>\n",
       "      <td>2001</td>\n",
       "      <td>manual</td>\n",
       "      <td>75</td>\n",
       "      <td>golf</td>\n",
       "      <td>150000</td>\n",
       "      <td>6</td>\n",
       "      <td>petrol</td>\n",
       "      <td>volkswagen</td>\n",
       "      <td>no</td>\n",
       "    </tr>\n",
       "    <tr>\n",
       "      <th>4</th>\n",
       "      <td>small</td>\n",
       "      <td>2008</td>\n",
       "      <td>manual</td>\n",
       "      <td>69</td>\n",
       "      <td>fabia</td>\n",
       "      <td>90000</td>\n",
       "      <td>7</td>\n",
       "      <td>gasoline</td>\n",
       "      <td>skoda</td>\n",
       "      <td>no</td>\n",
       "    </tr>\n",
       "    <tr>\n",
       "      <th>...</th>\n",
       "      <td>...</td>\n",
       "      <td>...</td>\n",
       "      <td>...</td>\n",
       "      <td>...</td>\n",
       "      <td>...</td>\n",
       "      <td>...</td>\n",
       "      <td>...</td>\n",
       "      <td>...</td>\n",
       "      <td>...</td>\n",
       "      <td>...</td>\n",
       "    </tr>\n",
       "    <tr>\n",
       "      <th>354364</th>\n",
       "      <td>other</td>\n",
       "      <td>2005</td>\n",
       "      <td>manual</td>\n",
       "      <td>110</td>\n",
       "      <td>colt</td>\n",
       "      <td>150000</td>\n",
       "      <td>7</td>\n",
       "      <td>petrol</td>\n",
       "      <td>mitsubishi</td>\n",
       "      <td>yes</td>\n",
       "    </tr>\n",
       "    <tr>\n",
       "      <th>354365</th>\n",
       "      <td>other</td>\n",
       "      <td>2005</td>\n",
       "      <td>manual</td>\n",
       "      <td>110</td>\n",
       "      <td>other</td>\n",
       "      <td>20000</td>\n",
       "      <td>1</td>\n",
       "      <td>petrol</td>\n",
       "      <td>sonstige_autos</td>\n",
       "      <td>unknown</td>\n",
       "    </tr>\n",
       "    <tr>\n",
       "      <th>354366</th>\n",
       "      <td>convertible</td>\n",
       "      <td>2000</td>\n",
       "      <td>auto</td>\n",
       "      <td>101</td>\n",
       "      <td>fortwo</td>\n",
       "      <td>125000</td>\n",
       "      <td>3</td>\n",
       "      <td>petrol</td>\n",
       "      <td>smart</td>\n",
       "      <td>no</td>\n",
       "    </tr>\n",
       "    <tr>\n",
       "      <th>354367</th>\n",
       "      <td>bus</td>\n",
       "      <td>1996</td>\n",
       "      <td>manual</td>\n",
       "      <td>102</td>\n",
       "      <td>transporter</td>\n",
       "      <td>150000</td>\n",
       "      <td>3</td>\n",
       "      <td>gasoline</td>\n",
       "      <td>volkswagen</td>\n",
       "      <td>no</td>\n",
       "    </tr>\n",
       "    <tr>\n",
       "      <th>354368</th>\n",
       "      <td>wagon</td>\n",
       "      <td>2002</td>\n",
       "      <td>manual</td>\n",
       "      <td>100</td>\n",
       "      <td>golf</td>\n",
       "      <td>150000</td>\n",
       "      <td>6</td>\n",
       "      <td>gasoline</td>\n",
       "      <td>volkswagen</td>\n",
       "      <td>unknown</td>\n",
       "    </tr>\n",
       "  </tbody>\n",
       "</table>\n",
       "<p>352210 rows × 10 columns</p>\n",
       "</div>"
      ],
      "text/plain": [
       "        VehicleType  RegistrationYear Gearbox  Power        Model  Mileage  \\\n",
       "0             other              1993  manual    110         golf   150000   \n",
       "1             coupe              2011  manual    190        other   125000   \n",
       "2               suv              2004    auto    163        grand   125000   \n",
       "3             small              2001  manual     75         golf   150000   \n",
       "4             small              2008  manual     69        fabia    90000   \n",
       "...             ...               ...     ...    ...          ...      ...   \n",
       "354364        other              2005  manual    110         colt   150000   \n",
       "354365        other              2005  manual    110        other    20000   \n",
       "354366  convertible              2000    auto    101       fortwo   125000   \n",
       "354367          bus              1996  manual    102  transporter   150000   \n",
       "354368        wagon              2002  manual    100         golf   150000   \n",
       "\n",
       "        RegistrationMonth  FuelType           Brand NotRepaired  \n",
       "0                       0    petrol      volkswagen     unknown  \n",
       "1                       5  gasoline            audi         yes  \n",
       "2                       8  gasoline            jeep     unknown  \n",
       "3                       6    petrol      volkswagen          no  \n",
       "4                       7  gasoline           skoda          no  \n",
       "...                   ...       ...             ...         ...  \n",
       "354364                  7    petrol      mitsubishi         yes  \n",
       "354365                  1    petrol  sonstige_autos     unknown  \n",
       "354366                  3    petrol           smart          no  \n",
       "354367                  3  gasoline      volkswagen          no  \n",
       "354368                  6  gasoline      volkswagen     unknown  \n",
       "\n",
       "[352210 rows x 10 columns]"
      ]
     },
     "execution_count": 33,
     "metadata": {},
     "output_type": "execute_result"
    }
   ],
   "source": [
    "#Re-establish features and target without dummies\n",
    "\n",
    "features = car_data_filtered.drop('Price', axis =1)\n",
    "target = car_data_filtered['Price']\n",
    "# Convert categorical columns to categorical dtype\n",
    "for col in categorical_features:\n",
    "    features[col] = features[col].astype('category')\n",
    "features"
   ]
  },
  {
   "cell_type": "code",
   "execution_count": 34,
   "metadata": {
    "scrolled": true
   },
   "outputs": [
    {
     "name": "stdout",
     "output_type": "stream",
     "text": [
      "\n",
      "Results sorted by RMSE:\n",
      "   learning_rate  n_estimators         RMSE  Training Time (s)  \\\n",
      "1           0.20           200  1738.450288           3.209963   \n",
      "2           0.25           200  1743.968086           2.716135   \n",
      "0           0.15           200  1752.325341           2.962409   \n",
      "\n",
      "   Prediction Time (s)  \n",
      "1             0.789351  \n",
      "2             0.779522  \n",
      "0             0.800752  \n",
      "\n",
      "Best Configuration:\n",
      "Learning Rate: 0.2\n",
      "n_estimators: 200.0\n",
      "RMSE: 1738.4503\n",
      "Training Time: 3.21 seconds\n",
      "Prediction Time: 0.79 seconds\n",
      "CPU times: user 2 µs, sys: 0 ns, total: 2 µs\n",
      "Wall time: 5.72 µs\n"
     ]
    }
   ],
   "source": [
    "def evaluate_lgb_parameters(features_train, features_valid, target_train, target_valid):\n",
    "    # Key parameter combinations to test\n",
    "    param_combinations = [\n",
    "        {'learning_rate': 0.15, 'n_estimators': 200},\n",
    "        {'learning_rate': 0.2, 'n_estimators': 200},\n",
    "        {'learning_rate': 0.25, 'n_estimators': 200}\n",
    "    ]\n",
    "    \n",
    "    results = []\n",
    "    \n",
    "    for params in param_combinations:\n",
    "        # Initialize model with current parameters\n",
    "        model = lgb.LGBMRegressor(\n",
    "            learning_rate=params['learning_rate'],\n",
    "            n_estimators=params['n_estimators'],\n",
    "            random_state=42,\n",
    "            num_leaves= 24\n",
    "        )\n",
    "        \n",
    "        # Training time\n",
    "        train_start = time.time()\n",
    "        model.fit(features_train, target_train)\n",
    "        train_time = time.time() - train_start\n",
    "        \n",
    "        # Prediction time\n",
    "        pred_start = time.time()\n",
    "        target_pred = model.predict(features_valid)\n",
    "        pred_time = time.time() - pred_start\n",
    "        \n",
    "        # Calculate RMSE\n",
    "        rmse = np.sqrt(mean_squared_error(target_valid, target_pred))\n",
    "        \n",
    "        results.append({\n",
    "            'learning_rate': params['learning_rate'],\n",
    "            'n_estimators': params['n_estimators'],\n",
    "            'RMSE': rmse,\n",
    "            'Training Time (s)': train_time,\n",
    "            'Prediction Time (s)': pred_time\n",
    "        })\n",
    "    \n",
    "    # Create DataFrame and sort by RMSE\n",
    "    results_df_4 = pd.DataFrame(results)\n",
    "    results_df_4 = results_df_4.sort_values('RMSE')\n",
    "    \n",
    "    return results_df_4\n",
    "\n",
    "# Split the data into training set (v3)\n",
    "features_train, features_temp, target_train, target_temp = train_test_split(features, target, test_size=0.5, random_state=42)\n",
    "#Split into validation and test sets (v3)\n",
    "features_valid, features_test, target_valid, target_test = train_test_split(features_temp, target_temp, test_size=0.5, random_state=42)\n",
    "\n",
    "#Get results\n",
    "results = evaluate_lgb_parameters(features_train, features_valid, target_train, target_valid)\n",
    "\n",
    "# Print the results\n",
    "print(\"\\nResults sorted by RMSE:\")\n",
    "print(results)\n",
    "\n",
    "# Print the best configuration\n",
    "best_config = results.iloc[0]\n",
    "print(\"\\nBest Configuration:\")\n",
    "print(f\"Learning Rate: {best_config['learning_rate']}\")\n",
    "print(f\"n_estimators: {best_config['n_estimators']}\")\n",
    "print(f\"RMSE: {best_config['RMSE']:.4f}\")\n",
    "print(f\"Training Time: {best_config['Training Time (s)']:.2f} seconds\")\n",
    "print(f\"Prediction Time: {best_config['Prediction Time (s)']:.2f} seconds\")\n",
    "%time"
   ]
  },
  {
   "cell_type": "markdown",
   "metadata": {},
   "source": [
    "Doubling our estimators gives us improved results and only adds seconds to the training and prediction times. This gives us our best model so far(n_estimators=200, learning_rate=0.2). Let's try once more with more estimators and a different range of learning times."
   ]
  },
  {
   "cell_type": "code",
   "execution_count": 35,
   "metadata": {},
   "outputs": [
    {
     "name": "stdout",
     "output_type": "stream",
     "text": [
      "\n",
      "Results sorted by RMSE:\n",
      "   learning_rate  n_estimators         RMSE  Training Time (s)  \\\n",
      "0            0.2           300  1721.936660           4.085413   \n",
      "1            0.3           300  1730.231658           3.789910   \n",
      "\n",
      "   Prediction Time (s)  \n",
      "0             1.224908  \n",
      "1             1.208450  \n",
      "\n",
      "Best Configuration:\n",
      "Learning Rate: 0.2\n",
      "n_estimators: 300.0\n",
      "RMSE: 1721.9367\n",
      "Training Time: 4.09 seconds\n",
      "Prediction Time: 1.22 seconds\n",
      "CPU times: user 3 µs, sys: 0 ns, total: 3 µs\n",
      "Wall time: 5.25 µs\n"
     ]
    }
   ],
   "source": [
    "def evaluate_lgb_parameters_2(features_train, features_valid, target_train, target_valid):\n",
    "    # Key parameter combinations to test\n",
    "    param_combinations = [\n",
    "        {'learning_rate': 0.2, 'n_estimators': 300},\n",
    "        {'learning_rate': 0.3, 'n_estimators': 300}\n",
    "    ]\n",
    "    \n",
    "    results = []\n",
    "    \n",
    "    for params in param_combinations:\n",
    "        # Initialize model with current parameters\n",
    "        model = lgb.LGBMRegressor(\n",
    "            learning_rate=params['learning_rate'],\n",
    "            n_estimators=params['n_estimators'],\n",
    "            random_state=42\n",
    "        )\n",
    "        \n",
    "        # Training time\n",
    "        train_start = time.time()\n",
    "        model.fit(features_train, target_train)\n",
    "        train_time = time.time() - train_start\n",
    "        \n",
    "        # Prediction time\n",
    "        pred_start = time.time()\n",
    "        target_pred = model.predict(features_valid)\n",
    "        pred_time = time.time() - pred_start\n",
    "        \n",
    "        # Calculate RMSE\n",
    "        rmse = np.sqrt(mean_squared_error(target_valid, target_pred))\n",
    "        \n",
    "        results.append({\n",
    "            'learning_rate': params['learning_rate'],\n",
    "            'n_estimators': params['n_estimators'],\n",
    "            'RMSE': rmse,\n",
    "            'Training Time (s)': train_time,\n",
    "            'Prediction Time (s)': pred_time\n",
    "        })\n",
    "    \n",
    "    # Create DataFrame and sort by RMSE\n",
    "    results_df_5 = pd.DataFrame(results)\n",
    "    results_df_5 = results_df_5.sort_values('RMSE')\n",
    "    \n",
    "    return results_df_5\n",
    "\n",
    "#Get results\n",
    "results = evaluate_lgb_parameters_2(features_train, features_valid, target_train, target_valid)\n",
    "\n",
    "# Print the results\n",
    "print(\"\\nResults sorted by RMSE:\")\n",
    "print(results)\n",
    "\n",
    "# Print the best configuration\n",
    "best_config = results.iloc[0]\n",
    "print(\"\\nBest Configuration:\")\n",
    "print(f\"Learning Rate: {best_config['learning_rate']}\")\n",
    "print(f\"n_estimators: {best_config['n_estimators']}\")\n",
    "print(f\"RMSE: {best_config['RMSE']:.4f}\")\n",
    "print(f\"Training Time: {best_config['Training Time (s)']:.2f} seconds\")\n",
    "print(f\"Prediction Time: {best_config['Prediction Time (s)']:.2f} seconds\")\n",
    "%time"
   ]
  },
  {
   "cell_type": "markdown",
   "metadata": {},
   "source": [
    "We see even further improvement without a noticeable hindrance in processing time. This gives us our best model. Can CatBoost do any better?  "
   ]
  },
  {
   "cell_type": "code",
   "execution_count": 36,
   "metadata": {
    "scrolled": true
   },
   "outputs": [
    {
     "name": "stdout",
     "output_type": "stream",
     "text": [
      "\n",
      "Results sorted by RMSE:\n",
      "   learning_rate  iterations         RMSE  Training Time (s)  \\\n",
      "2           0.20         400  1776.113512          52.487344   \n",
      "1           0.15         400  1784.197189          52.760068   \n",
      "0           0.10         400  1804.463528          51.929935   \n",
      "\n",
      "   Prediction Time (s)  \n",
      "2             0.241615  \n",
      "1             0.225820  \n",
      "0             0.203082  \n",
      "\n",
      "Best Configuration:\n",
      "Learning Rate: 0.2\n",
      "Iterations: 400.0\n",
      "RMSE: 1776.1135\n",
      "Training Time: 52.49 seconds\n",
      "Prediction Time: 0.24 seconds\n",
      "CPU times: user 3 µs, sys: 0 ns, total: 3 µs\n",
      "Wall time: 5.96 µs\n"
     ]
    }
   ],
   "source": [
    "def evaluate_catboost_parameters(features_train, features_valid, target_train, target_valid):\n",
    "    # Key parameter combinations to test\n",
    "    param_combinations = [\n",
    "        {'learning_rate': 0.1, 'iterations': 400},\n",
    "        {'learning_rate': 0.15, 'iterations': 400},\n",
    "        {'learning_rate': 0.2, 'iterations': 400}\n",
    "    ]\n",
    "    \n",
    "    results = []\n",
    "    \n",
    "    for params in param_combinations:\n",
    "        # Initialize model with current parameters\n",
    "        model = CatBoostRegressor(\n",
    "            learning_rate=params['learning_rate'],\n",
    "            iterations=params['iterations'],\n",
    "            random_seed=42,\n",
    "            verbose=False,\n",
    "            cat_features = categorical_features\n",
    "        )\n",
    "        \n",
    "        # Training time\n",
    "        train_start = time.time()\n",
    "        model.fit(features_train, target_train)\n",
    "        train_time = time.time() - train_start\n",
    "        \n",
    "        # Prediction time\n",
    "        pred_start = time.time()\n",
    "        target_pred = model.predict(features_valid)\n",
    "        pred_time = time.time() - pred_start\n",
    "        \n",
    "        # Calculate RMSE\n",
    "        rmse = np.sqrt(mean_squared_error(target_valid, target_pred))\n",
    "        \n",
    "        results.append({\n",
    "            'learning_rate': params['learning_rate'],\n",
    "            'iterations': params['iterations'],\n",
    "            'RMSE': rmse,\n",
    "            'Training Time (s)': train_time,\n",
    "            'Prediction Time (s)': pred_time\n",
    "        })\n",
    "    \n",
    "    # Create DataFrame and sort by RMSE\n",
    "    results_df_5 = pd.DataFrame(results)\n",
    "    results_df_5 = results_df_5.sort_values('RMSE')\n",
    "    \n",
    "    return results_df_5\n",
    "\n",
    "# Get results\n",
    "results = evaluate_catboost_parameters(features_train, features_valid, target_train, target_valid)\n",
    "\n",
    "# Print the results\n",
    "print(\"\\nResults sorted by RMSE:\")\n",
    "print(results)\n",
    "\n",
    "# Print the best configuration\n",
    "best_config = results.iloc[0]\n",
    "print(\"\\nBest Configuration:\")\n",
    "print(f\"Learning Rate: {best_config['learning_rate']}\")\n",
    "print(f\"Iterations: {best_config['iterations']}\")\n",
    "print(f\"RMSE: {best_config['RMSE']:.4f}\")\n",
    "print(f\"Training Time: {best_config['Training Time (s)']:.2f} seconds\")\n",
    "print(f\"Prediction Time: {best_config['Prediction Time (s)']:.2f} seconds\")\n",
    "%time"
   ]
  },
  {
   "cell_type": "markdown",
   "metadata": {},
   "source": [
    "The results have improved significantly, but training time is drastically longer than LightGBM models. The RMSE is also __still__ lower for LightGBM models as well, so our CatBoost models are redundant, even with improved results."
   ]
  },
  {
   "cell_type": "markdown",
   "metadata": {},
   "source": [
    "<div class=\"alert alert-block alert-danger\">\n",
    "<b>Reviewer's comment V1</b> <a class=\"tocSkip\"></a>\n",
    "\n",
    "Am I right that you used test data to tune the hyperparameters in all the models above? You can't do it. Please, use a validation data for this purpose. You can calculate training and prediction time only for the best model of each type. In such case it's okay to use a test data.\n",
    "    \n",
    "</div>"
   ]
  },
  {
   "cell_type": "markdown",
   "metadata": {},
   "source": [
    "<div class=\"alert alert-block alert-info\">\n",
    "<b>Student answer. (v2)</b> <a class=\"tocSkip\"></a>\n",
    "\n",
    "Total oversight. Apologies!    \n",
    "</div>"
   ]
  },
  {
   "cell_type": "markdown",
   "metadata": {},
   "source": [
    "<div class=\"alert alert-block alert-danger\">\n",
    "<b>Reviewer's comment V2</b> <a class=\"tocSkip\"></a>\n",
    "\n",
    "It seems now you use train data instead of the test one. It's even worse. To tune the hyperparameters you can use only validation data\n",
    "    \n",
    "</div>"
   ]
  },
  {
   "cell_type": "markdown",
   "metadata": {},
   "source": [
    "<div class=\"alert alert-block alert-info\">\n",
    "<b>Student answer. (v3)</b> <a class=\"tocSkip\"></a>\n",
    "\n",
    "__Fixed. Analysis has changed slightly.__    \n",
    "</div>"
   ]
  },
  {
   "cell_type": "markdown",
   "metadata": {},
   "source": [
    "Let's verify our best random forest and LightGBM models on the test data, display their RMSE, and display their processing time."
   ]
  },
  {
   "cell_type": "code",
   "execution_count": 37,
   "metadata": {
    "scrolled": true
   },
   "outputs": [
    {
     "name": "stdout",
     "output_type": "stream",
     "text": [
      "\n",
      "LightGBM Results:\n",
      "RMSE: 1720.3092\n",
      "Training Time: 3.99 seconds\n",
      "Prediction Time: 1.32 seconds\n",
      "CPU times: user 3 µs, sys: 0 ns, total: 3 µs\n",
      "Wall time: 5.72 µs\n"
     ]
    }
   ],
   "source": [
    "#Best random forest and LightGBM models based on previous testing\n",
    "\n",
    "best_rf = RandomForestRegressor(n_estimators=10, max_depth=5, random_state=42)\n",
    "best_lgb = lgb.LGBMRegressor(\n",
    "            learning_rate=0.2,\n",
    "            n_estimators=300,\n",
    "            random_state=42)\n",
    "\n",
    "# Train and evaluate LightGBM\n",
    "lgb_start_time = time.time()\n",
    "best_lgb.fit(features_train, target_train)\n",
    "lgb_train_time = time.time() - lgb_start_time\n",
    "\n",
    "lgb_pred_start = time.time()\n",
    "lgb_predictions = best_lgb.predict(features_test)\n",
    "lgb_pred_time = time.time() - lgb_pred_start\n",
    "\n",
    "lgb_rmse = np.sqrt(mean_squared_error(target_test, lgb_predictions))\n",
    "\n",
    "# Display results\n",
    "\n",
    "print(\"\\nLightGBM Results:\")\n",
    "print(f\"RMSE: {lgb_rmse:.4f}\")\n",
    "print(f\"Training Time: {lgb_train_time:.2f} seconds\")\n",
    "print(f\"Prediction Time: {lgb_pred_time:.2f} seconds\")\n",
    "%time"
   ]
  },
  {
   "cell_type": "markdown",
   "metadata": {},
   "source": [
    "We need to use get_dummies in order to verify the random forest model."
   ]
  },
  {
   "cell_type": "code",
   "execution_count": 38,
   "metadata": {
    "scrolled": true
   },
   "outputs": [
    {
     "name": "stdout",
     "output_type": "stream",
     "text": [
      "Random Forest Results:\n",
      "RMSE: 2509.6447\n",
      "Training Time: 7.39 seconds\n",
      "Prediction Time: 0.08 seconds\n"
     ]
    }
   ],
   "source": [
    "features = pd.get_dummies(features, drop_first=True)\n",
    "\n",
    "# Split the data into training set (v3)\n",
    "features_train, features_temp, target_train, target_temp = train_test_split(features, target, test_size=0.5, random_state=42)\n",
    "#Split into validation and test sets (v3)\n",
    "features_valid, features_test, target_valid, target_test = train_test_split(features_temp, target_temp, test_size=0.5, random_state=42)\n",
    "\n",
    "# Train and evaluate Random Forest\n",
    "rf_start_time = time.time()\n",
    "best_rf.fit(features_train, target_train)\n",
    "rf_train_time = time.time() - rf_start_time\n",
    "\n",
    "rf_pred_start = time.time()\n",
    "rf_predictions = best_rf.predict(features_test)\n",
    "rf_pred_time = time.time() - rf_pred_start\n",
    "\n",
    "rf_rmse = np.sqrt(mean_squared_error(target_test, rf_predictions))\n",
    "\n",
    "# Display results\n",
    "print(\"Random Forest Results:\")\n",
    "print(f\"RMSE: {rf_rmse:.4f}\")\n",
    "print(f\"Training Time: {rf_train_time:.2f} seconds\")\n",
    "print(f\"Prediction Time: {rf_pred_time:.2f} seconds\")"
   ]
  },
  {
   "cell_type": "markdown",
   "metadata": {},
   "source": [
    "__Both models exhibit similar results using both the training data and the test data.__"
   ]
  },
  {
   "cell_type": "markdown",
   "metadata": {},
   "source": [
    "## Model analysis"
   ]
  },
  {
   "cell_type": "markdown",
   "metadata": {},
   "source": [
    "Now that our models are complete, we can analyze our findings and see if we have achieved our objective.\n",
    "\n",
    "__What did we train?__\n",
    "\n",
    "We trained various models such as linear regression, random forest, decision tree, and gradient boosting models such as LightGBM and CatBoost.\n",
    "\n",
    "__What did we find?__\n",
    "\n",
    "Linear regression had the worst result but serves as our sanity check. All other models should perform better than linear regression as a base line, and they all did. Decision tree was very fast but did not have great results. Random forest had better results but a very slow training time. Our LightGBM and CatBoost models were way better, with our best LightGBM model attaining an RMSE of 1720 and still remaining incredibly quick in training and prediction time. CatBoost took much longer to train and still had worser results than LightGBM (but still better overall than tree-based models), making it redundant for our model selection. We confirmed the validity of our LightGBM model with the test data.\n",
    "\n",
    "__Did we achieve our objective?__\n",
    "\n",
    "We can say definitively that we achieved our objective with our best LightGBM model (learning rate 0.2, number of estimators 300) which was not only the most accurate, but still lightning fast with total processing time under 7 seconds, which would be a reasonable amount of time to wait on an application. "
   ]
  },
  {
   "cell_type": "markdown",
   "metadata": {},
   "source": [
    "# Checklist"
   ]
  },
  {
   "cell_type": "markdown",
   "metadata": {},
   "source": [
    "Type 'x' to check. Then press Shift+Enter."
   ]
  },
  {
   "cell_type": "markdown",
   "metadata": {},
   "source": [
    "- [x]  Jupyter Notebook is open\n",
    "- [ ]  Code is error free\n",
    "- [ ]  The cells with the code have been arranged in order of execution\n",
    "- [ ]  The data has been downloaded and prepared\n",
    "- [ ]  The models have been trained\n",
    "- [ ]  The analysis of speed and quality of the models has been performed"
   ]
  },
  {
   "cell_type": "code",
   "execution_count": null,
   "metadata": {},
   "outputs": [],
   "source": []
  }
 ],
 "metadata": {
  "ExecuteTimeLog": [
   {
    "duration": 158,
    "start_time": "2024-11-06T04:52:22.549Z"
   },
   {
    "duration": 945,
    "start_time": "2024-11-06T04:52:26.969Z"
   },
   {
    "duration": 455,
    "start_time": "2024-11-06T04:52:27.916Z"
   },
   {
    "duration": 491,
    "start_time": "2024-11-06T04:52:44.759Z"
   },
   {
    "duration": 502,
    "start_time": "2024-11-06T04:53:21.306Z"
   },
   {
    "duration": 24,
    "start_time": "2024-11-06T04:58:04.438Z"
   },
   {
    "duration": 26,
    "start_time": "2024-11-06T04:58:42.168Z"
   },
   {
    "duration": 37,
    "start_time": "2024-11-06T05:00:50.995Z"
   },
   {
    "duration": 26,
    "start_time": "2024-11-06T05:02:22.530Z"
   },
   {
    "duration": 140,
    "start_time": "2024-11-06T05:04:01.195Z"
   },
   {
    "duration": 348,
    "start_time": "2024-11-06T05:04:07.529Z"
   },
   {
    "duration": 301,
    "start_time": "2024-11-06T05:04:23.189Z"
   },
   {
    "duration": 14,
    "start_time": "2024-11-06T05:04:30.620Z"
   },
   {
    "duration": 13,
    "start_time": "2024-11-06T05:04:34.609Z"
   },
   {
    "duration": 31,
    "start_time": "2024-11-06T05:05:10.008Z"
   },
   {
    "duration": 38,
    "start_time": "2024-11-06T05:09:54.030Z"
   },
   {
    "duration": 26,
    "start_time": "2024-11-06T05:11:46.232Z"
   },
   {
    "duration": 4,
    "start_time": "2024-11-06T05:12:46.980Z"
   },
   {
    "duration": 3,
    "start_time": "2024-11-06T05:12:57.276Z"
   },
   {
    "duration": 39,
    "start_time": "2024-11-06T05:18:52.588Z"
   },
   {
    "duration": 91,
    "start_time": "2024-11-06T05:19:33.376Z"
   },
   {
    "duration": 106,
    "start_time": "2024-11-06T05:20:01.350Z"
   },
   {
    "duration": 88,
    "start_time": "2024-11-06T05:20:47.288Z"
   },
   {
    "duration": 96,
    "start_time": "2024-11-06T05:20:55.653Z"
   },
   {
    "duration": 154,
    "start_time": "2024-11-06T05:22:41.229Z"
   },
   {
    "duration": 137,
    "start_time": "2024-11-06T05:23:03.834Z"
   },
   {
    "duration": 146,
    "start_time": "2024-11-06T05:24:31.736Z"
   },
   {
    "duration": 179,
    "start_time": "2024-11-06T05:30:30.261Z"
   },
   {
    "duration": 172,
    "start_time": "2024-11-06T05:30:49.249Z"
   },
   {
    "duration": 370,
    "start_time": "2024-11-06T05:31:07.390Z"
   },
   {
    "duration": 216,
    "start_time": "2024-11-06T05:32:10.316Z"
   },
   {
    "duration": 460,
    "start_time": "2024-11-06T05:32:21.589Z"
   },
   {
    "duration": 15,
    "start_time": "2024-11-06T06:19:37.910Z"
   },
   {
    "duration": 4,
    "start_time": "2024-11-06T06:20:19.376Z"
   },
   {
    "duration": 501,
    "start_time": "2024-11-06T06:20:19.381Z"
   },
   {
    "duration": 27,
    "start_time": "2024-11-06T06:20:19.884Z"
   },
   {
    "duration": 37,
    "start_time": "2024-11-06T06:20:19.913Z"
   },
   {
    "duration": 33,
    "start_time": "2024-11-06T06:20:19.952Z"
   },
   {
    "duration": 31,
    "start_time": "2024-11-06T06:20:19.987Z"
   },
   {
    "duration": 58,
    "start_time": "2024-11-06T06:20:20.020Z"
   },
   {
    "duration": 24,
    "start_time": "2024-11-06T06:20:20.080Z"
   },
   {
    "duration": 4,
    "start_time": "2024-11-06T06:20:20.106Z"
   },
   {
    "duration": 40,
    "start_time": "2024-11-06T06:20:20.111Z"
   },
   {
    "duration": 144,
    "start_time": "2024-11-06T06:20:20.171Z"
   },
   {
    "duration": 358,
    "start_time": "2024-11-06T06:20:20.317Z"
   },
   {
    "duration": 432,
    "start_time": "2024-11-06T06:20:20.678Z"
   },
   {
    "duration": 35349,
    "start_time": "2024-11-06T06:20:21.112Z"
   },
   {
    "duration": 183,
    "start_time": "2024-11-06T06:21:24.179Z"
   },
   {
    "duration": 7,
    "start_time": "2024-11-06T06:42:26.286Z"
   },
   {
    "duration": 8,
    "start_time": "2024-11-06T06:42:46.201Z"
   },
   {
    "duration": 7,
    "start_time": "2024-11-06T06:43:25.017Z"
   },
   {
    "duration": 8,
    "start_time": "2024-11-06T06:44:27.297Z"
   },
   {
    "duration": 8,
    "start_time": "2024-11-06T06:45:27.556Z"
   },
   {
    "duration": 7,
    "start_time": "2024-11-06T06:45:30.818Z"
   },
   {
    "duration": 8,
    "start_time": "2024-11-06T06:45:36.079Z"
   },
   {
    "duration": 7,
    "start_time": "2024-11-06T06:46:28.677Z"
   },
   {
    "duration": 17,
    "start_time": "2024-11-06T06:48:20.221Z"
   },
   {
    "duration": 1777,
    "start_time": "2024-11-06T06:48:31.096Z"
   },
   {
    "duration": 189,
    "start_time": "2024-11-06T06:48:38.556Z"
   },
   {
    "duration": 148,
    "start_time": "2024-11-06T06:49:04.722Z"
   },
   {
    "duration": 675,
    "start_time": "2024-11-06T06:50:01.241Z"
   },
   {
    "duration": 137,
    "start_time": "2024-11-06T06:50:52.917Z"
   },
   {
    "duration": 16,
    "start_time": "2024-11-06T06:50:55.317Z"
   },
   {
    "duration": 3,
    "start_time": "2024-11-06T06:51:19.459Z"
   },
   {
    "duration": 490,
    "start_time": "2024-11-06T06:51:19.465Z"
   },
   {
    "duration": 30,
    "start_time": "2024-11-06T06:51:19.957Z"
   },
   {
    "duration": 37,
    "start_time": "2024-11-06T06:51:19.989Z"
   },
   {
    "duration": 43,
    "start_time": "2024-11-06T06:51:20.028Z"
   },
   {
    "duration": 34,
    "start_time": "2024-11-06T06:51:20.073Z"
   },
   {
    "duration": 39,
    "start_time": "2024-11-06T06:51:20.108Z"
   },
   {
    "duration": 40,
    "start_time": "2024-11-06T06:51:20.149Z"
   },
   {
    "duration": 4,
    "start_time": "2024-11-06T06:51:20.191Z"
   },
   {
    "duration": 39,
    "start_time": "2024-11-06T06:51:20.197Z"
   },
   {
    "duration": 162,
    "start_time": "2024-11-06T06:51:20.237Z"
   },
   {
    "duration": 370,
    "start_time": "2024-11-06T06:51:20.401Z"
   },
   {
    "duration": 407,
    "start_time": "2024-11-06T06:51:20.774Z"
   },
   {
    "duration": 35351,
    "start_time": "2024-11-06T06:51:21.184Z"
   },
   {
    "duration": 34,
    "start_time": "2024-11-06T06:51:56.537Z"
   },
   {
    "duration": 0,
    "start_time": "2024-11-06T06:51:56.574Z"
   },
   {
    "duration": 131,
    "start_time": "2024-11-06T07:04:04.616Z"
   },
   {
    "duration": 106,
    "start_time": "2024-11-06T07:04:12.937Z"
   },
   {
    "duration": 110,
    "start_time": "2024-11-06T07:05:40.837Z"
   },
   {
    "duration": 5,
    "start_time": "2024-11-06T07:10:47.328Z"
   },
   {
    "duration": 7,
    "start_time": "2024-11-06T07:11:38.516Z"
   },
   {
    "duration": 27,
    "start_time": "2024-11-06T07:12:47.058Z"
   },
   {
    "duration": 36,
    "start_time": "2024-11-06T07:15:59.412Z"
   },
   {
    "duration": 5,
    "start_time": "2024-11-06T07:17:54.576Z"
   },
   {
    "duration": 36,
    "start_time": "2024-11-06T07:17:59.636Z"
   },
   {
    "duration": 4,
    "start_time": "2024-11-06T07:20:03.657Z"
   },
   {
    "duration": 8,
    "start_time": "2024-11-06T07:20:28.477Z"
   },
   {
    "duration": 45,
    "start_time": "2024-11-06T07:22:56.801Z"
   },
   {
    "duration": 52,
    "start_time": "2024-11-06T07:23:07.497Z"
   },
   {
    "duration": 53,
    "start_time": "2024-11-06T07:23:13.891Z"
   },
   {
    "duration": 77,
    "start_time": "2024-11-06T07:26:06.782Z"
   },
   {
    "duration": 34,
    "start_time": "2024-11-06T07:26:51.259Z"
   },
   {
    "duration": 46,
    "start_time": "2024-11-06T07:28:09.456Z"
   },
   {
    "duration": 35,
    "start_time": "2024-11-06T07:28:38.477Z"
   },
   {
    "duration": 101,
    "start_time": "2024-11-06T07:31:25.336Z"
   },
   {
    "duration": 6,
    "start_time": "2024-11-06T07:35:11.033Z"
   },
   {
    "duration": 19,
    "start_time": "2024-11-06T07:37:21.937Z"
   },
   {
    "duration": 1048,
    "start_time": "2024-11-06T07:37:49.889Z"
   },
   {
    "duration": 515,
    "start_time": "2024-11-06T07:37:50.939Z"
   },
   {
    "duration": 31,
    "start_time": "2024-11-06T07:37:51.456Z"
   },
   {
    "duration": 37,
    "start_time": "2024-11-06T07:37:51.489Z"
   },
   {
    "duration": 42,
    "start_time": "2024-11-06T07:37:51.528Z"
   },
   {
    "duration": 39,
    "start_time": "2024-11-06T07:37:51.574Z"
   },
   {
    "duration": 38,
    "start_time": "2024-11-06T07:37:51.615Z"
   },
   {
    "duration": 37,
    "start_time": "2024-11-06T07:37:51.655Z"
   },
   {
    "duration": 3,
    "start_time": "2024-11-06T07:37:51.694Z"
   },
   {
    "duration": 41,
    "start_time": "2024-11-06T07:37:51.699Z"
   },
   {
    "duration": 164,
    "start_time": "2024-11-06T07:37:51.743Z"
   },
   {
    "duration": 394,
    "start_time": "2024-11-06T07:37:51.908Z"
   },
   {
    "duration": 467,
    "start_time": "2024-11-06T07:37:52.304Z"
   },
   {
    "duration": 35803,
    "start_time": "2024-11-06T07:37:52.775Z"
   },
   {
    "duration": 124,
    "start_time": "2024-11-06T07:38:28.581Z"
   },
   {
    "duration": 5,
    "start_time": "2024-11-06T07:38:28.707Z"
   },
   {
    "duration": 79,
    "start_time": "2024-11-06T07:38:28.713Z"
   },
   {
    "duration": 81,
    "start_time": "2024-11-06T07:38:28.794Z"
   },
   {
    "duration": 108,
    "start_time": "2024-11-06T07:38:28.877Z"
   },
   {
    "duration": 6,
    "start_time": "2024-11-06T07:38:28.987Z"
   },
   {
    "duration": 19,
    "start_time": "2024-11-06T07:38:28.996Z"
   },
   {
    "duration": 3,
    "start_time": "2024-11-06T07:38:29.016Z"
   },
   {
    "duration": 139,
    "start_time": "2024-11-06T07:44:24.505Z"
   },
   {
    "duration": 24,
    "start_time": "2024-11-06T07:44:47.682Z"
   },
   {
    "duration": 17,
    "start_time": "2024-11-06T07:46:15.762Z"
   },
   {
    "duration": 784,
    "start_time": "2024-11-06T07:48:04.302Z"
   },
   {
    "duration": 1060,
    "start_time": "2024-11-06T07:48:17.179Z"
   },
   {
    "duration": 506,
    "start_time": "2024-11-06T07:48:18.242Z"
   },
   {
    "duration": 27,
    "start_time": "2024-11-06T07:48:18.749Z"
   },
   {
    "duration": 37,
    "start_time": "2024-11-06T07:48:18.778Z"
   },
   {
    "duration": 28,
    "start_time": "2024-11-06T07:48:18.818Z"
   },
   {
    "duration": 53,
    "start_time": "2024-11-06T07:48:18.847Z"
   },
   {
    "duration": 38,
    "start_time": "2024-11-06T07:48:18.902Z"
   },
   {
    "duration": 45,
    "start_time": "2024-11-06T07:48:18.942Z"
   },
   {
    "duration": 3,
    "start_time": "2024-11-06T07:48:18.989Z"
   },
   {
    "duration": 38,
    "start_time": "2024-11-06T07:48:18.994Z"
   },
   {
    "duration": 163,
    "start_time": "2024-11-06T07:48:19.033Z"
   },
   {
    "duration": 391,
    "start_time": "2024-11-06T07:48:19.197Z"
   },
   {
    "duration": 460,
    "start_time": "2024-11-06T07:48:19.590Z"
   },
   {
    "duration": 35448,
    "start_time": "2024-11-06T07:48:20.053Z"
   },
   {
    "duration": 126,
    "start_time": "2024-11-06T07:48:55.503Z"
   },
   {
    "duration": 5,
    "start_time": "2024-11-06T07:48:55.631Z"
   },
   {
    "duration": 78,
    "start_time": "2024-11-06T07:48:55.637Z"
   },
   {
    "duration": 85,
    "start_time": "2024-11-06T07:48:55.717Z"
   },
   {
    "duration": 116,
    "start_time": "2024-11-06T07:48:55.804Z"
   },
   {
    "duration": 7,
    "start_time": "2024-11-06T07:48:55.922Z"
   },
   {
    "duration": 19,
    "start_time": "2024-11-06T07:48:55.930Z"
   },
   {
    "duration": 20,
    "start_time": "2024-11-06T07:48:55.951Z"
   },
   {
    "duration": 23,
    "start_time": "2024-11-06T07:48:55.973Z"
   },
   {
    "duration": 18,
    "start_time": "2024-11-06T07:48:56.021Z"
   },
   {
    "duration": 3,
    "start_time": "2024-11-06T07:51:18.416Z"
   },
   {
    "duration": 259,
    "start_time": "2024-11-06T07:51:24.236Z"
   },
   {
    "duration": 596,
    "start_time": "2024-11-06T07:52:09.375Z"
   },
   {
    "duration": 186,
    "start_time": "2024-11-06T07:55:19.854Z"
   },
   {
    "duration": 1055,
    "start_time": "2024-11-06T07:55:34.718Z"
   },
   {
    "duration": 507,
    "start_time": "2024-11-06T07:55:35.775Z"
   },
   {
    "duration": 26,
    "start_time": "2024-11-06T07:55:36.284Z"
   },
   {
    "duration": 41,
    "start_time": "2024-11-06T07:55:36.312Z"
   },
   {
    "duration": 26,
    "start_time": "2024-11-06T07:55:36.371Z"
   },
   {
    "duration": 31,
    "start_time": "2024-11-06T07:55:36.400Z"
   },
   {
    "duration": 55,
    "start_time": "2024-11-06T07:55:36.432Z"
   },
   {
    "duration": 24,
    "start_time": "2024-11-06T07:55:36.489Z"
   },
   {
    "duration": 3,
    "start_time": "2024-11-06T07:55:36.515Z"
   },
   {
    "duration": 62,
    "start_time": "2024-11-06T07:55:36.520Z"
   },
   {
    "duration": 144,
    "start_time": "2024-11-06T07:55:36.584Z"
   },
   {
    "duration": 406,
    "start_time": "2024-11-06T07:55:36.730Z"
   },
   {
    "duration": 469,
    "start_time": "2024-11-06T07:55:37.138Z"
   },
   {
    "duration": 35037,
    "start_time": "2024-11-06T07:55:37.611Z"
   },
   {
    "duration": 126,
    "start_time": "2024-11-06T07:56:12.649Z"
   },
   {
    "duration": 6,
    "start_time": "2024-11-06T07:56:12.777Z"
   },
   {
    "duration": 62,
    "start_time": "2024-11-06T07:56:12.784Z"
   },
   {
    "duration": 99,
    "start_time": "2024-11-06T07:56:12.848Z"
   },
   {
    "duration": 104,
    "start_time": "2024-11-06T07:56:12.949Z"
   },
   {
    "duration": 15,
    "start_time": "2024-11-06T07:56:13.055Z"
   },
   {
    "duration": 19,
    "start_time": "2024-11-06T07:56:13.072Z"
   },
   {
    "duration": 4,
    "start_time": "2024-11-06T07:56:13.092Z"
   },
   {
    "duration": 24,
    "start_time": "2024-11-06T07:56:13.098Z"
   },
   {
    "duration": 17,
    "start_time": "2024-11-06T07:56:13.124Z"
   },
   {
    "duration": 3,
    "start_time": "2024-11-06T07:56:13.171Z"
   },
   {
    "duration": 744,
    "start_time": "2024-11-06T07:56:13.176Z"
   },
   {
    "duration": 185,
    "start_time": "2024-11-06T08:00:57.701Z"
   },
   {
    "duration": 208238,
    "start_time": "2024-11-06T08:08:09.138Z"
   },
   {
    "duration": 7,
    "start_time": "2024-11-06T08:12:50.394Z"
   },
   {
    "duration": 4106,
    "start_time": "2024-11-06T08:13:17.621Z"
   },
   {
    "duration": 12511,
    "start_time": "2024-11-06T08:13:45.214Z"
   },
   {
    "duration": 1074,
    "start_time": "2024-11-06T08:16:46.722Z"
   },
   {
    "duration": 514,
    "start_time": "2024-11-06T08:16:47.798Z"
   },
   {
    "duration": 25,
    "start_time": "2024-11-06T08:16:48.314Z"
   },
   {
    "duration": 53,
    "start_time": "2024-11-06T08:16:48.341Z"
   },
   {
    "duration": 25,
    "start_time": "2024-11-06T08:16:48.397Z"
   },
   {
    "duration": 32,
    "start_time": "2024-11-06T08:16:48.423Z"
   },
   {
    "duration": 39,
    "start_time": "2024-11-06T08:16:48.470Z"
   },
   {
    "duration": 25,
    "start_time": "2024-11-06T08:16:48.510Z"
   },
   {
    "duration": 3,
    "start_time": "2024-11-06T08:16:48.537Z"
   },
   {
    "duration": 59,
    "start_time": "2024-11-06T08:16:48.542Z"
   },
   {
    "duration": 144,
    "start_time": "2024-11-06T08:16:48.603Z"
   },
   {
    "duration": 401,
    "start_time": "2024-11-06T08:16:48.749Z"
   },
   {
    "duration": 461,
    "start_time": "2024-11-06T08:16:49.152Z"
   },
   {
    "duration": 34394,
    "start_time": "2024-11-06T08:16:49.616Z"
   },
   {
    "duration": 124,
    "start_time": "2024-11-06T08:17:24.012Z"
   },
   {
    "duration": 4,
    "start_time": "2024-11-06T08:17:24.138Z"
   },
   {
    "duration": 78,
    "start_time": "2024-11-06T08:17:24.144Z"
   },
   {
    "duration": 83,
    "start_time": "2024-11-06T08:17:24.223Z"
   },
   {
    "duration": 105,
    "start_time": "2024-11-06T08:17:24.308Z"
   },
   {
    "duration": 6,
    "start_time": "2024-11-06T08:17:24.414Z"
   },
   {
    "duration": 19,
    "start_time": "2024-11-06T08:17:24.421Z"
   },
   {
    "duration": 3,
    "start_time": "2024-11-06T08:17:24.441Z"
   },
   {
    "duration": 23,
    "start_time": "2024-11-06T08:17:24.470Z"
   },
   {
    "duration": 16,
    "start_time": "2024-11-06T08:17:24.495Z"
   },
   {
    "duration": 5,
    "start_time": "2024-11-06T08:17:24.513Z"
   },
   {
    "duration": 208396,
    "start_time": "2024-11-06T08:20:53.172Z"
   },
   {
    "duration": 13,
    "start_time": "2024-11-06T08:24:21.571Z"
   },
   {
    "duration": 5,
    "start_time": "2024-11-06T08:25:02.661Z"
   },
   {
    "duration": 5,
    "start_time": "2024-11-06T08:25:09.986Z"
   },
   {
    "duration": 3489,
    "start_time": "2024-11-06T08:25:23.104Z"
   },
   {
    "duration": 6,
    "start_time": "2024-11-06T08:25:31.024Z"
   },
   {
    "duration": 5,
    "start_time": "2024-11-06T08:27:02.343Z"
   },
   {
    "duration": 9186,
    "start_time": "2024-11-06T08:27:11.142Z"
   },
   {
    "duration": 7,
    "start_time": "2024-11-06T08:27:20.331Z"
   },
   {
    "duration": 530,
    "start_time": "2024-11-06T08:28:06.624Z"
   },
   {
    "duration": 9160,
    "start_time": "2024-11-06T08:32:52.482Z"
   },
   {
    "duration": 6,
    "start_time": "2024-11-06T08:33:04.185Z"
   },
   {
    "duration": 198,
    "start_time": "2024-11-06T08:34:17.802Z"
   },
   {
    "duration": 341,
    "start_time": "2024-11-06T08:36:06.911Z"
   },
   {
    "duration": 342,
    "start_time": "2024-11-06T08:36:25.374Z"
   },
   {
    "duration": 12024,
    "start_time": "2024-11-06T08:38:18.742Z"
   },
   {
    "duration": 277,
    "start_time": "2024-11-06T08:39:42.487Z"
   },
   {
    "duration": 4,
    "start_time": "2024-11-06T08:41:11.804Z"
   },
   {
    "duration": 21,
    "start_time": "2024-11-06T08:41:36.381Z"
   },
   {
    "duration": 1049,
    "start_time": "2024-11-06T08:48:00.436Z"
   },
   {
    "duration": 513,
    "start_time": "2024-11-06T08:48:01.487Z"
   },
   {
    "duration": 26,
    "start_time": "2024-11-06T08:48:02.001Z"
   },
   {
    "duration": 54,
    "start_time": "2024-11-06T08:48:02.029Z"
   },
   {
    "duration": 26,
    "start_time": "2024-11-06T08:48:02.086Z"
   },
   {
    "duration": 35,
    "start_time": "2024-11-06T08:48:02.113Z"
   },
   {
    "duration": 56,
    "start_time": "2024-11-06T08:48:02.149Z"
   },
   {
    "duration": 27,
    "start_time": "2024-11-06T08:48:02.206Z"
   },
   {
    "duration": 4,
    "start_time": "2024-11-06T08:48:02.234Z"
   },
   {
    "duration": 58,
    "start_time": "2024-11-06T08:48:02.240Z"
   },
   {
    "duration": 144,
    "start_time": "2024-11-06T08:48:02.300Z"
   },
   {
    "duration": 398,
    "start_time": "2024-11-06T08:48:02.445Z"
   },
   {
    "duration": 469,
    "start_time": "2024-11-06T08:48:02.845Z"
   },
   {
    "duration": 34816,
    "start_time": "2024-11-06T08:48:03.317Z"
   },
   {
    "duration": 121,
    "start_time": "2024-11-06T08:48:38.135Z"
   },
   {
    "duration": 12,
    "start_time": "2024-11-06T08:48:38.258Z"
   },
   {
    "duration": 58,
    "start_time": "2024-11-06T08:48:38.272Z"
   },
   {
    "duration": 93,
    "start_time": "2024-11-06T08:48:38.332Z"
   },
   {
    "duration": 105,
    "start_time": "2024-11-06T08:48:38.427Z"
   },
   {
    "duration": 7,
    "start_time": "2024-11-06T08:48:38.533Z"
   },
   {
    "duration": 35,
    "start_time": "2024-11-06T08:48:38.542Z"
   },
   {
    "duration": 3,
    "start_time": "2024-11-06T08:48:38.579Z"
   },
   {
    "duration": 23,
    "start_time": "2024-11-06T08:48:38.584Z"
   },
   {
    "duration": 17,
    "start_time": "2024-11-06T08:48:38.610Z"
   },
   {
    "duration": 4,
    "start_time": "2024-11-06T08:48:38.628Z"
   },
   {
    "duration": 9515,
    "start_time": "2024-11-06T08:48:38.635Z"
   },
   {
    "duration": 0,
    "start_time": "2024-11-06T08:48:48.152Z"
   },
   {
    "duration": 0,
    "start_time": "2024-11-06T08:48:48.154Z"
   },
   {
    "duration": 0,
    "start_time": "2024-11-06T08:48:48.155Z"
   },
   {
    "duration": 9276,
    "start_time": "2024-11-06T08:49:43.320Z"
   },
   {
    "duration": 7,
    "start_time": "2024-11-06T08:50:04.351Z"
   },
   {
    "duration": 488,
    "start_time": "2024-11-06T08:50:19.730Z"
   },
   {
    "duration": 20,
    "start_time": "2024-11-06T08:50:41.270Z"
   },
   {
    "duration": 209,
    "start_time": "2024-11-06T08:51:02.690Z"
   },
   {
    "duration": 117,
    "start_time": "2024-11-06T08:51:12.801Z"
   },
   {
    "duration": 157,
    "start_time": "2024-11-06T08:53:02.873Z"
   },
   {
    "duration": 115,
    "start_time": "2024-11-06T08:53:10.551Z"
   },
   {
    "duration": 115,
    "start_time": "2024-11-06T08:54:33.470Z"
   },
   {
    "duration": 3,
    "start_time": "2024-11-06T08:54:35.292Z"
   },
   {
    "duration": 486,
    "start_time": "2024-11-06T08:54:35.297Z"
   },
   {
    "duration": 26,
    "start_time": "2024-11-06T08:54:35.784Z"
   },
   {
    "duration": 41,
    "start_time": "2024-11-06T08:54:35.811Z"
   },
   {
    "duration": 26,
    "start_time": "2024-11-06T08:54:35.869Z"
   },
   {
    "duration": 30,
    "start_time": "2024-11-06T08:54:35.898Z"
   },
   {
    "duration": 54,
    "start_time": "2024-11-06T08:54:35.930Z"
   },
   {
    "duration": 25,
    "start_time": "2024-11-06T08:54:35.985Z"
   },
   {
    "duration": 4,
    "start_time": "2024-11-06T08:54:36.012Z"
   },
   {
    "duration": 58,
    "start_time": "2024-11-06T08:54:36.018Z"
   },
   {
    "duration": 142,
    "start_time": "2024-11-06T08:54:36.078Z"
   },
   {
    "duration": 389,
    "start_time": "2024-11-06T08:54:36.222Z"
   },
   {
    "duration": 412,
    "start_time": "2024-11-06T08:54:36.613Z"
   },
   {
    "duration": 35112,
    "start_time": "2024-11-06T08:54:37.029Z"
   },
   {
    "duration": 118,
    "start_time": "2024-11-06T08:55:12.143Z"
   },
   {
    "duration": 10,
    "start_time": "2024-11-06T08:55:12.262Z"
   },
   {
    "duration": 53,
    "start_time": "2024-11-06T08:55:12.274Z"
   },
   {
    "duration": 93,
    "start_time": "2024-11-06T08:55:12.329Z"
   },
   {
    "duration": 112,
    "start_time": "2024-11-06T08:55:12.424Z"
   },
   {
    "duration": 6,
    "start_time": "2024-11-06T08:55:12.539Z"
   },
   {
    "duration": 31,
    "start_time": "2024-11-06T08:55:12.546Z"
   },
   {
    "duration": 2,
    "start_time": "2024-11-06T08:55:12.579Z"
   },
   {
    "duration": 23,
    "start_time": "2024-11-06T08:55:12.584Z"
   },
   {
    "duration": 15,
    "start_time": "2024-11-06T08:55:12.608Z"
   },
   {
    "duration": 6,
    "start_time": "2024-11-06T08:55:12.625Z"
   },
   {
    "duration": 9356,
    "start_time": "2024-11-06T08:55:12.632Z"
   },
   {
    "duration": 7,
    "start_time": "2024-11-06T08:55:21.989Z"
   },
   {
    "duration": 216,
    "start_time": "2024-11-06T08:55:21.998Z"
   },
   {
    "duration": 120,
    "start_time": "2024-11-06T08:55:22.216Z"
   },
   {
    "duration": 0,
    "start_time": "2024-11-06T08:55:22.338Z"
   },
   {
    "duration": 151,
    "start_time": "2024-11-06T08:56:50.050Z"
   },
   {
    "duration": 130,
    "start_time": "2024-11-06T08:57:11.470Z"
   },
   {
    "duration": 256,
    "start_time": "2024-11-06T08:58:09.570Z"
   },
   {
    "duration": 122,
    "start_time": "2024-11-06T08:58:18.929Z"
   },
   {
    "duration": 416,
    "start_time": "2024-11-06T08:58:52.710Z"
   },
   {
    "duration": 3,
    "start_time": "2024-11-06T08:59:02.571Z"
   },
   {
    "duration": 458,
    "start_time": "2024-11-06T08:59:02.576Z"
   },
   {
    "duration": 25,
    "start_time": "2024-11-06T08:59:03.036Z"
   },
   {
    "duration": 40,
    "start_time": "2024-11-06T08:59:03.063Z"
   },
   {
    "duration": 25,
    "start_time": "2024-11-06T08:59:03.105Z"
   },
   {
    "duration": 52,
    "start_time": "2024-11-06T08:59:03.131Z"
   },
   {
    "duration": 39,
    "start_time": "2024-11-06T08:59:03.185Z"
   },
   {
    "duration": 24,
    "start_time": "2024-11-06T08:59:03.226Z"
   },
   {
    "duration": 18,
    "start_time": "2024-11-06T08:59:03.253Z"
   },
   {
    "duration": 38,
    "start_time": "2024-11-06T08:59:03.273Z"
   },
   {
    "duration": 158,
    "start_time": "2024-11-06T08:59:03.313Z"
   },
   {
    "duration": 357,
    "start_time": "2024-11-06T08:59:03.473Z"
   },
   {
    "duration": 406,
    "start_time": "2024-11-06T08:59:03.832Z"
   },
   {
    "duration": 34931,
    "start_time": "2024-11-06T08:59:04.240Z"
   },
   {
    "duration": 119,
    "start_time": "2024-11-06T08:59:39.173Z"
   },
   {
    "duration": 5,
    "start_time": "2024-11-06T08:59:39.294Z"
   },
   {
    "duration": 52,
    "start_time": "2024-11-06T08:59:39.300Z"
   },
   {
    "duration": 89,
    "start_time": "2024-11-06T08:59:39.353Z"
   },
   {
    "duration": 112,
    "start_time": "2024-11-06T08:59:39.444Z"
   },
   {
    "duration": 14,
    "start_time": "2024-11-06T08:59:39.558Z"
   },
   {
    "duration": 20,
    "start_time": "2024-11-06T08:59:39.573Z"
   },
   {
    "duration": 2,
    "start_time": "2024-11-06T08:59:39.597Z"
   },
   {
    "duration": 19,
    "start_time": "2024-11-06T08:59:39.601Z"
   },
   {
    "duration": 14,
    "start_time": "2024-11-06T08:59:39.623Z"
   },
   {
    "duration": 33,
    "start_time": "2024-11-06T08:59:39.638Z"
   },
   {
    "duration": 11208,
    "start_time": "2024-11-06T08:59:39.672Z"
   },
   {
    "duration": 7,
    "start_time": "2024-11-06T08:59:50.882Z"
   },
   {
    "duration": 357,
    "start_time": "2024-11-06T08:59:50.890Z"
   },
   {
    "duration": 135,
    "start_time": "2024-11-06T08:59:51.249Z"
   },
   {
    "duration": 1,
    "start_time": "2024-11-06T08:59:51.386Z"
   },
   {
    "duration": 41,
    "start_time": "2024-11-06T09:00:55.432Z"
   },
   {
    "duration": 186,
    "start_time": "2024-11-06T09:01:10.874Z"
   },
   {
    "duration": 121,
    "start_time": "2024-11-06T09:01:24.211Z"
   },
   {
    "duration": 158,
    "start_time": "2024-11-06T09:01:54.270Z"
   },
   {
    "duration": 123,
    "start_time": "2024-11-06T09:01:56.910Z"
   },
   {
    "duration": 1130,
    "start_time": "2024-11-06T09:03:42.016Z"
   },
   {
    "duration": 572,
    "start_time": "2024-11-06T09:03:43.148Z"
   },
   {
    "duration": 26,
    "start_time": "2024-11-06T09:03:43.722Z"
   },
   {
    "duration": 47,
    "start_time": "2024-11-06T09:03:43.750Z"
   },
   {
    "duration": 26,
    "start_time": "2024-11-06T09:03:43.800Z"
   },
   {
    "duration": 49,
    "start_time": "2024-11-06T09:03:43.828Z"
   },
   {
    "duration": 38,
    "start_time": "2024-11-06T09:03:43.879Z"
   },
   {
    "duration": 26,
    "start_time": "2024-11-06T09:03:43.919Z"
   },
   {
    "duration": 24,
    "start_time": "2024-11-06T09:03:43.947Z"
   },
   {
    "duration": 40,
    "start_time": "2024-11-06T09:03:43.973Z"
   },
   {
    "duration": 158,
    "start_time": "2024-11-06T09:03:44.015Z"
   },
   {
    "duration": 396,
    "start_time": "2024-11-06T09:03:44.175Z"
   },
   {
    "duration": 482,
    "start_time": "2024-11-06T09:03:44.573Z"
   },
   {
    "duration": 34920,
    "start_time": "2024-11-06T09:03:45.060Z"
   },
   {
    "duration": 128,
    "start_time": "2024-11-06T09:04:19.982Z"
   },
   {
    "duration": 5,
    "start_time": "2024-11-06T09:04:20.113Z"
   },
   {
    "duration": 75,
    "start_time": "2024-11-06T09:04:20.121Z"
   },
   {
    "duration": 84,
    "start_time": "2024-11-06T09:04:20.198Z"
   },
   {
    "duration": 109,
    "start_time": "2024-11-06T09:04:20.284Z"
   },
   {
    "duration": 5,
    "start_time": "2024-11-06T09:04:20.395Z"
   },
   {
    "duration": 20,
    "start_time": "2024-11-06T09:04:20.402Z"
   },
   {
    "duration": 3,
    "start_time": "2024-11-06T09:04:20.424Z"
   },
   {
    "duration": 49,
    "start_time": "2024-11-06T09:04:20.428Z"
   },
   {
    "duration": 17,
    "start_time": "2024-11-06T09:04:20.479Z"
   },
   {
    "duration": 4,
    "start_time": "2024-11-06T09:04:20.498Z"
   },
   {
    "duration": 9618,
    "start_time": "2024-11-06T09:04:20.504Z"
   },
   {
    "duration": 6,
    "start_time": "2024-11-06T09:04:30.124Z"
   },
   {
    "duration": 276,
    "start_time": "2024-11-06T09:04:30.132Z"
   },
   {
    "duration": 27362,
    "start_time": "2024-11-06T09:04:30.410Z"
   },
   {
    "duration": 7,
    "start_time": "2024-11-06T09:04:57.774Z"
   },
   {
    "duration": 50378,
    "start_time": "2024-11-06T09:06:39.953Z"
   },
   {
    "duration": 8,
    "start_time": "2024-11-06T09:07:30.333Z"
   },
   {
    "duration": 155,
    "start_time": "2024-11-06T20:31:59.261Z"
   },
   {
    "duration": 2693,
    "start_time": "2024-11-06T20:32:02.868Z"
   },
   {
    "duration": 553,
    "start_time": "2024-11-06T20:32:05.566Z"
   },
   {
    "duration": 24,
    "start_time": "2024-11-06T20:32:06.121Z"
   },
   {
    "duration": 36,
    "start_time": "2024-11-06T20:32:06.147Z"
   },
   {
    "duration": 41,
    "start_time": "2024-11-06T20:32:06.185Z"
   },
   {
    "duration": 31,
    "start_time": "2024-11-06T20:32:06.227Z"
   },
   {
    "duration": 49,
    "start_time": "2024-11-06T20:32:06.260Z"
   },
   {
    "duration": 25,
    "start_time": "2024-11-06T20:32:06.311Z"
   },
   {
    "duration": 4,
    "start_time": "2024-11-06T20:32:06.338Z"
   },
   {
    "duration": 37,
    "start_time": "2024-11-06T20:32:06.343Z"
   },
   {
    "duration": 159,
    "start_time": "2024-11-06T20:32:06.405Z"
   },
   {
    "duration": 394,
    "start_time": "2024-11-06T20:32:06.566Z"
   },
   {
    "duration": 444,
    "start_time": "2024-11-06T20:32:06.962Z"
   },
   {
    "duration": 35647,
    "start_time": "2024-11-06T20:32:07.409Z"
   },
   {
    "duration": 125,
    "start_time": "2024-11-06T20:32:43.058Z"
   },
   {
    "duration": 5,
    "start_time": "2024-11-06T20:32:43.185Z"
   },
   {
    "duration": 70,
    "start_time": "2024-11-06T20:32:43.191Z"
   },
   {
    "duration": 87,
    "start_time": "2024-11-06T20:32:43.263Z"
   },
   {
    "duration": 108,
    "start_time": "2024-11-06T20:32:43.351Z"
   },
   {
    "duration": 6,
    "start_time": "2024-11-06T20:32:43.461Z"
   },
   {
    "duration": 36,
    "start_time": "2024-11-06T20:32:43.469Z"
   },
   {
    "duration": 2,
    "start_time": "2024-11-06T20:32:43.507Z"
   },
   {
    "duration": 21,
    "start_time": "2024-11-06T20:32:43.511Z"
   },
   {
    "duration": 15,
    "start_time": "2024-11-06T20:32:43.534Z"
   },
   {
    "duration": 3,
    "start_time": "2024-11-06T20:32:43.552Z"
   },
   {
    "duration": 9417,
    "start_time": "2024-11-06T20:32:43.557Z"
   },
   {
    "duration": 6,
    "start_time": "2024-11-06T20:32:52.977Z"
   },
   {
    "duration": 239,
    "start_time": "2024-11-06T20:32:52.985Z"
   },
   {
    "duration": 50326,
    "start_time": "2024-11-06T20:32:53.226Z"
   },
   {
    "duration": 6,
    "start_time": "2024-11-06T20:33:43.554Z"
   },
   {
    "duration": 3,
    "start_time": "2024-11-06T20:33:43.562Z"
   },
   {
    "duration": 8,
    "start_time": "2024-11-06T20:34:00.679Z"
   },
   {
    "duration": 130048,
    "start_time": "2024-11-06T20:47:01.603Z"
   },
   {
    "duration": 130846,
    "start_time": "2024-11-06T20:50:02.320Z"
   },
   {
    "duration": 192546,
    "start_time": "2024-11-06T20:53:34.078Z"
   },
   {
    "duration": 28559,
    "start_time": "2024-11-06T21:10:39.346Z"
   },
   {
    "duration": 4,
    "start_time": "2024-11-06T21:12:24.528Z"
   },
   {
    "duration": 510,
    "start_time": "2024-11-06T21:12:24.534Z"
   },
   {
    "duration": 27,
    "start_time": "2024-11-06T21:12:25.046Z"
   },
   {
    "duration": 51,
    "start_time": "2024-11-06T21:12:25.074Z"
   },
   {
    "duration": 26,
    "start_time": "2024-11-06T21:12:25.128Z"
   },
   {
    "duration": 31,
    "start_time": "2024-11-06T21:12:25.156Z"
   },
   {
    "duration": 39,
    "start_time": "2024-11-06T21:12:25.205Z"
   },
   {
    "duration": 26,
    "start_time": "2024-11-06T21:12:25.246Z"
   },
   {
    "duration": 4,
    "start_time": "2024-11-06T21:12:25.274Z"
   },
   {
    "duration": 65,
    "start_time": "2024-11-06T21:12:25.280Z"
   },
   {
    "duration": 159,
    "start_time": "2024-11-06T21:12:25.347Z"
   },
   {
    "duration": 398,
    "start_time": "2024-11-06T21:12:25.508Z"
   },
   {
    "duration": 508,
    "start_time": "2024-11-06T21:12:25.907Z"
   },
   {
    "duration": 37227,
    "start_time": "2024-11-06T21:12:26.419Z"
   },
   {
    "duration": 132,
    "start_time": "2024-11-06T21:13:03.648Z"
   },
   {
    "duration": 5,
    "start_time": "2024-11-06T21:13:03.782Z"
   },
   {
    "duration": 77,
    "start_time": "2024-11-06T21:13:03.789Z"
   },
   {
    "duration": 90,
    "start_time": "2024-11-06T21:13:03.868Z"
   },
   {
    "duration": 111,
    "start_time": "2024-11-06T21:13:03.959Z"
   },
   {
    "duration": 7,
    "start_time": "2024-11-06T21:13:04.071Z"
   },
   {
    "duration": 33,
    "start_time": "2024-11-06T21:13:04.079Z"
   },
   {
    "duration": 3,
    "start_time": "2024-11-06T21:13:04.114Z"
   },
   {
    "duration": 26,
    "start_time": "2024-11-06T21:13:04.118Z"
   },
   {
    "duration": 20,
    "start_time": "2024-11-06T21:13:04.147Z"
   },
   {
    "duration": 3,
    "start_time": "2024-11-06T21:13:04.169Z"
   },
   {
    "duration": 9732,
    "start_time": "2024-11-06T21:13:04.174Z"
   },
   {
    "duration": 7,
    "start_time": "2024-11-06T21:13:13.907Z"
   },
   {
    "duration": 285,
    "start_time": "2024-11-06T21:13:13.916Z"
   },
   {
    "duration": 52652,
    "start_time": "2024-11-06T21:13:14.205Z"
   },
   {
    "duration": 10,
    "start_time": "2024-11-06T21:14:06.861Z"
   },
   {
    "duration": 9,
    "start_time": "2024-11-06T21:14:06.873Z"
   },
   {
    "duration": 204751,
    "start_time": "2024-11-06T21:14:06.884Z"
   },
   {
    "duration": 27780,
    "start_time": "2024-11-06T21:17:31.638Z"
   },
   {
    "duration": 26,
    "start_time": "2024-11-06T21:19:00.461Z"
   },
   {
    "duration": 582,
    "start_time": "2024-11-06T21:20:43.844Z"
   },
   {
    "duration": 144,
    "start_time": "2024-11-06T21:21:53.895Z"
   },
   {
    "duration": 24891,
    "start_time": "2024-11-06T21:22:01.952Z"
   },
   {
    "duration": 35349,
    "start_time": "2024-11-06T21:28:16.283Z"
   },
   {
    "duration": 568,
    "start_time": "2024-11-06T21:37:21.061Z"
   },
   {
    "duration": 170240,
    "start_time": "2024-11-06T21:38:14.604Z"
   },
   {
    "duration": 1099,
    "start_time": "2024-11-06T21:57:06.221Z"
   },
   {
    "duration": 507,
    "start_time": "2024-11-06T21:57:07.322Z"
   },
   {
    "duration": 26,
    "start_time": "2024-11-06T21:57:07.830Z"
   },
   {
    "duration": 48,
    "start_time": "2024-11-06T21:57:07.858Z"
   },
   {
    "duration": 24,
    "start_time": "2024-11-06T21:57:07.909Z"
   },
   {
    "duration": 30,
    "start_time": "2024-11-06T21:57:07.935Z"
   },
   {
    "duration": 55,
    "start_time": "2024-11-06T21:57:07.966Z"
   },
   {
    "duration": 33,
    "start_time": "2024-11-06T21:57:08.023Z"
   },
   {
    "duration": 4,
    "start_time": "2024-11-06T21:57:08.057Z"
   },
   {
    "duration": 50,
    "start_time": "2024-11-06T21:57:08.064Z"
   },
   {
    "duration": 141,
    "start_time": "2024-11-06T21:57:08.116Z"
   },
   {
    "duration": 402,
    "start_time": "2024-11-06T21:57:08.260Z"
   },
   {
    "duration": 441,
    "start_time": "2024-11-06T21:57:08.665Z"
   },
   {
    "duration": 36821,
    "start_time": "2024-11-06T21:57:09.109Z"
   },
   {
    "duration": 123,
    "start_time": "2024-11-06T21:57:45.932Z"
   },
   {
    "duration": 5,
    "start_time": "2024-11-06T21:57:46.057Z"
   },
   {
    "duration": 77,
    "start_time": "2024-11-06T21:57:46.064Z"
   },
   {
    "duration": 84,
    "start_time": "2024-11-06T21:57:46.143Z"
   },
   {
    "duration": 104,
    "start_time": "2024-11-06T21:57:46.228Z"
   },
   {
    "duration": 6,
    "start_time": "2024-11-06T21:57:46.334Z"
   },
   {
    "duration": 19,
    "start_time": "2024-11-06T21:57:46.341Z"
   },
   {
    "duration": 2,
    "start_time": "2024-11-06T21:57:46.362Z"
   },
   {
    "duration": 49,
    "start_time": "2024-11-06T21:57:46.366Z"
   },
   {
    "duration": 18,
    "start_time": "2024-11-06T21:57:46.416Z"
   },
   {
    "duration": 4,
    "start_time": "2024-11-06T21:57:46.435Z"
   },
   {
    "duration": 9981,
    "start_time": "2024-11-06T21:57:46.440Z"
   },
   {
    "duration": 8,
    "start_time": "2024-11-06T21:57:56.423Z"
   },
   {
    "duration": 235,
    "start_time": "2024-11-06T21:57:56.433Z"
   },
   {
    "duration": 49628,
    "start_time": "2024-11-06T21:57:56.670Z"
   },
   {
    "duration": 10,
    "start_time": "2024-11-06T21:58:46.300Z"
   },
   {
    "duration": 8,
    "start_time": "2024-11-06T21:58:46.312Z"
   },
   {
    "duration": 193529,
    "start_time": "2024-11-06T21:58:46.321Z"
   },
   {
    "duration": 149,
    "start_time": "2024-11-06T22:01:59.852Z"
   },
   {
    "duration": 21707,
    "start_time": "2024-11-06T22:02:00.002Z"
   },
   {
    "duration": 35119,
    "start_time": "2024-11-06T22:02:21.711Z"
   },
   {
    "duration": 165118,
    "start_time": "2024-11-06T22:02:56.832Z"
   },
   {
    "duration": 2747,
    "start_time": "2024-11-07T00:58:45.979Z"
   },
   {
    "duration": 569,
    "start_time": "2024-11-07T00:58:48.728Z"
   },
   {
    "duration": 26,
    "start_time": "2024-11-07T00:58:49.298Z"
   },
   {
    "duration": 52,
    "start_time": "2024-11-07T00:58:49.327Z"
   },
   {
    "duration": 26,
    "start_time": "2024-11-07T00:58:49.381Z"
   },
   {
    "duration": 48,
    "start_time": "2024-11-07T00:58:49.409Z"
   },
   {
    "duration": 39,
    "start_time": "2024-11-07T00:58:49.459Z"
   },
   {
    "duration": 45,
    "start_time": "2024-11-07T00:58:49.500Z"
   },
   {
    "duration": 3,
    "start_time": "2024-11-07T00:58:49.547Z"
   },
   {
    "duration": 39,
    "start_time": "2024-11-07T00:58:49.553Z"
   },
   {
    "duration": 160,
    "start_time": "2024-11-07T00:58:49.594Z"
   },
   {
    "duration": 398,
    "start_time": "2024-11-07T00:58:49.756Z"
   },
   {
    "duration": 469,
    "start_time": "2024-11-07T00:58:50.156Z"
   },
   {
    "duration": 36232,
    "start_time": "2024-11-07T00:58:50.627Z"
   },
   {
    "duration": 125,
    "start_time": "2024-11-07T00:59:26.861Z"
   },
   {
    "duration": 5,
    "start_time": "2024-11-07T00:59:26.988Z"
   },
   {
    "duration": 78,
    "start_time": "2024-11-07T00:59:26.995Z"
   },
   {
    "duration": 85,
    "start_time": "2024-11-07T00:59:27.075Z"
   },
   {
    "duration": 124,
    "start_time": "2024-11-07T00:59:27.161Z"
   },
   {
    "duration": 6,
    "start_time": "2024-11-07T00:59:27.288Z"
   },
   {
    "duration": 20,
    "start_time": "2024-11-07T00:59:27.296Z"
   },
   {
    "duration": 3,
    "start_time": "2024-11-07T00:59:27.317Z"
   },
   {
    "duration": 42,
    "start_time": "2024-11-07T00:59:27.322Z"
   },
   {
    "duration": 15,
    "start_time": "2024-11-07T00:59:27.366Z"
   },
   {
    "duration": 4,
    "start_time": "2024-11-07T00:59:27.382Z"
   },
   {
    "duration": 11464,
    "start_time": "2024-11-07T00:59:27.388Z"
   },
   {
    "duration": 6,
    "start_time": "2024-11-07T00:59:38.854Z"
   },
   {
    "duration": 259,
    "start_time": "2024-11-07T00:59:38.865Z"
   },
   {
    "duration": 50446,
    "start_time": "2024-11-07T00:59:39.126Z"
   },
   {
    "duration": 6,
    "start_time": "2024-11-07T01:00:29.574Z"
   },
   {
    "duration": 7,
    "start_time": "2024-11-07T01:00:29.582Z"
   },
   {
    "duration": 196034,
    "start_time": "2024-11-07T01:00:29.590Z"
   },
   {
    "duration": 151,
    "start_time": "2024-11-07T01:03:45.626Z"
   },
   {
    "duration": 30097,
    "start_time": "2024-11-07T01:03:45.780Z"
   },
   {
    "duration": 49865,
    "start_time": "2024-11-07T01:04:15.878Z"
   },
   {
    "duration": 167512,
    "start_time": "2024-11-07T01:05:05.745Z"
   },
   {
    "duration": 7180,
    "start_time": "2024-11-07T01:19:21.675Z"
   },
   {
    "duration": 373,
    "start_time": "2024-11-07T01:23:06.991Z"
   },
   {
    "duration": 1061,
    "start_time": "2024-11-07T01:24:03.568Z"
   },
   {
    "duration": 531,
    "start_time": "2024-11-07T01:24:04.631Z"
   },
   {
    "duration": 32,
    "start_time": "2024-11-07T01:24:05.164Z"
   },
   {
    "duration": 50,
    "start_time": "2024-11-07T01:24:05.198Z"
   },
   {
    "duration": 26,
    "start_time": "2024-11-07T01:24:05.251Z"
   },
   {
    "duration": 34,
    "start_time": "2024-11-07T01:24:05.279Z"
   },
   {
    "duration": 55,
    "start_time": "2024-11-07T01:24:05.317Z"
   },
   {
    "duration": 25,
    "start_time": "2024-11-07T01:24:05.375Z"
   },
   {
    "duration": 4,
    "start_time": "2024-11-07T01:24:05.401Z"
   },
   {
    "duration": 59,
    "start_time": "2024-11-07T01:24:05.407Z"
   },
   {
    "duration": 145,
    "start_time": "2024-11-07T01:24:05.468Z"
   },
   {
    "duration": 389,
    "start_time": "2024-11-07T01:24:05.615Z"
   },
   {
    "duration": 461,
    "start_time": "2024-11-07T01:24:06.006Z"
   },
   {
    "duration": 36928,
    "start_time": "2024-11-07T01:24:06.470Z"
   },
   {
    "duration": 140,
    "start_time": "2024-11-07T01:24:43.400Z"
   },
   {
    "duration": 5,
    "start_time": "2024-11-07T01:24:43.545Z"
   },
   {
    "duration": 62,
    "start_time": "2024-11-07T01:24:43.552Z"
   },
   {
    "duration": 96,
    "start_time": "2024-11-07T01:24:43.616Z"
   },
   {
    "duration": 104,
    "start_time": "2024-11-07T01:24:43.714Z"
   },
   {
    "duration": 6,
    "start_time": "2024-11-07T01:24:43.819Z"
   },
   {
    "duration": 31,
    "start_time": "2024-11-07T01:24:43.826Z"
   },
   {
    "duration": 3,
    "start_time": "2024-11-07T01:24:43.859Z"
   },
   {
    "duration": 22,
    "start_time": "2024-11-07T01:24:43.864Z"
   },
   {
    "duration": 16,
    "start_time": "2024-11-07T01:24:43.888Z"
   },
   {
    "duration": 4,
    "start_time": "2024-11-07T01:24:43.906Z"
   },
   {
    "duration": 11299,
    "start_time": "2024-11-07T01:24:43.911Z"
   },
   {
    "duration": 6,
    "start_time": "2024-11-07T01:24:55.212Z"
   },
   {
    "duration": 260,
    "start_time": "2024-11-07T01:24:55.220Z"
   },
   {
    "duration": 51033,
    "start_time": "2024-11-07T01:24:55.482Z"
   },
   {
    "duration": 7,
    "start_time": "2024-11-07T01:25:46.518Z"
   },
   {
    "duration": 20,
    "start_time": "2024-11-07T01:25:46.526Z"
   },
   {
    "duration": 196881,
    "start_time": "2024-11-07T01:25:46.547Z"
   },
   {
    "duration": 146,
    "start_time": "2024-11-07T01:29:03.430Z"
   },
   {
    "duration": 30600,
    "start_time": "2024-11-07T01:29:03.577Z"
   },
   {
    "duration": 51673,
    "start_time": "2024-11-07T01:29:34.178Z"
   },
   {
    "duration": 168071,
    "start_time": "2024-11-07T01:30:25.853Z"
   },
   {
    "duration": 122075,
    "start_time": "2024-11-07T01:33:24.144Z"
   },
   {
    "duration": 9441,
    "start_time": "2024-11-07T01:35:26.223Z"
   },
   {
    "duration": 1063,
    "start_time": "2024-11-07T01:43:38.763Z"
   },
   {
    "duration": 538,
    "start_time": "2024-11-07T01:43:39.828Z"
   },
   {
    "duration": 26,
    "start_time": "2024-11-07T01:43:40.367Z"
   },
   {
    "duration": 48,
    "start_time": "2024-11-07T01:43:40.395Z"
   },
   {
    "duration": 25,
    "start_time": "2024-11-07T01:43:40.445Z"
   },
   {
    "duration": 38,
    "start_time": "2024-11-07T01:43:40.472Z"
   },
   {
    "duration": 62,
    "start_time": "2024-11-07T01:43:40.511Z"
   },
   {
    "duration": 24,
    "start_time": "2024-11-07T01:43:40.575Z"
   },
   {
    "duration": 3,
    "start_time": "2024-11-07T01:43:40.601Z"
   },
   {
    "duration": 61,
    "start_time": "2024-11-07T01:43:40.608Z"
   },
   {
    "duration": 144,
    "start_time": "2024-11-07T01:43:40.671Z"
   },
   {
    "duration": 404,
    "start_time": "2024-11-07T01:43:40.817Z"
   },
   {
    "duration": 463,
    "start_time": "2024-11-07T01:43:41.223Z"
   },
   {
    "duration": 35993,
    "start_time": "2024-11-07T01:43:41.688Z"
   },
   {
    "duration": 123,
    "start_time": "2024-11-07T01:44:17.683Z"
   },
   {
    "duration": 5,
    "start_time": "2024-11-07T01:44:17.808Z"
   },
   {
    "duration": 75,
    "start_time": "2024-11-07T01:44:17.815Z"
   },
   {
    "duration": 86,
    "start_time": "2024-11-07T01:44:17.892Z"
   },
   {
    "duration": 109,
    "start_time": "2024-11-07T01:44:17.979Z"
   },
   {
    "duration": 6,
    "start_time": "2024-11-07T01:44:18.090Z"
   },
   {
    "duration": 19,
    "start_time": "2024-11-07T01:44:18.098Z"
   },
   {
    "duration": 24,
    "start_time": "2024-11-07T01:44:18.119Z"
   },
   {
    "duration": 23,
    "start_time": "2024-11-07T01:44:18.145Z"
   },
   {
    "duration": 16,
    "start_time": "2024-11-07T01:44:18.170Z"
   },
   {
    "duration": 4,
    "start_time": "2024-11-07T01:44:18.188Z"
   },
   {
    "duration": 11008,
    "start_time": "2024-11-07T01:44:18.194Z"
   },
   {
    "duration": 6,
    "start_time": "2024-11-07T01:44:29.204Z"
   },
   {
    "duration": 258,
    "start_time": "2024-11-07T01:44:29.215Z"
   },
   {
    "duration": 50034,
    "start_time": "2024-11-07T01:44:29.475Z"
   },
   {
    "duration": 14,
    "start_time": "2024-11-07T01:45:19.511Z"
   },
   {
    "duration": 8,
    "start_time": "2024-11-07T01:45:19.528Z"
   },
   {
    "duration": 196708,
    "start_time": "2024-11-07T01:45:19.543Z"
   },
   {
    "duration": 150,
    "start_time": "2024-11-07T01:48:36.253Z"
   },
   {
    "duration": 30277,
    "start_time": "2024-11-07T01:48:36.405Z"
   },
   {
    "duration": 50495,
    "start_time": "2024-11-07T01:49:06.684Z"
   },
   {
    "duration": 168964,
    "start_time": "2024-11-07T01:49:57.181Z"
   },
   {
    "duration": 6518,
    "start_time": "2024-11-07T01:52:46.147Z"
   },
   {
    "duration": 13534,
    "start_time": "2024-11-07T01:52:52.667Z"
   },
   {
    "duration": 3144,
    "start_time": "2024-11-07T19:44:39.842Z"
   },
   {
    "duration": 567,
    "start_time": "2024-11-07T19:44:42.991Z"
   },
   {
    "duration": 32,
    "start_time": "2024-11-07T19:44:43.561Z"
   },
   {
    "duration": 64,
    "start_time": "2024-11-07T19:44:43.595Z"
   },
   {
    "duration": 26,
    "start_time": "2024-11-07T19:44:43.662Z"
   },
   {
    "duration": 45,
    "start_time": "2024-11-07T19:44:43.690Z"
   },
   {
    "duration": 39,
    "start_time": "2024-11-07T19:44:43.738Z"
   },
   {
    "duration": 43,
    "start_time": "2024-11-07T19:44:43.779Z"
   },
   {
    "duration": 4,
    "start_time": "2024-11-07T19:44:43.824Z"
   },
   {
    "duration": 40,
    "start_time": "2024-11-07T19:44:43.831Z"
   },
   {
    "duration": 158,
    "start_time": "2024-11-07T19:44:43.873Z"
   },
   {
    "duration": 403,
    "start_time": "2024-11-07T19:44:44.034Z"
   },
   {
    "duration": 505,
    "start_time": "2024-11-07T19:44:44.439Z"
   },
   {
    "duration": 37432,
    "start_time": "2024-11-07T19:44:44.949Z"
   },
   {
    "duration": 133,
    "start_time": "2024-11-07T19:45:22.383Z"
   },
   {
    "duration": 6,
    "start_time": "2024-11-07T19:45:22.518Z"
   },
   {
    "duration": 59,
    "start_time": "2024-11-07T19:45:22.527Z"
   },
   {
    "duration": 99,
    "start_time": "2024-11-07T19:45:22.589Z"
   },
   {
    "duration": 123,
    "start_time": "2024-11-07T19:45:22.690Z"
   },
   {
    "duration": 8,
    "start_time": "2024-11-07T19:45:22.814Z"
   },
   {
    "duration": 21,
    "start_time": "2024-11-07T19:45:22.823Z"
   },
   {
    "duration": 4,
    "start_time": "2024-11-07T19:45:22.846Z"
   },
   {
    "duration": 25,
    "start_time": "2024-11-07T19:45:22.851Z"
   },
   {
    "duration": 109,
    "start_time": "2024-11-07T19:45:22.878Z"
   },
   {
    "duration": 4,
    "start_time": "2024-11-07T19:45:22.989Z"
   },
   {
    "duration": 62343,
    "start_time": "2024-11-07T19:45:22.997Z"
   },
   {
    "duration": 7,
    "start_time": "2024-11-07T19:46:25.342Z"
   },
   {
    "duration": 302,
    "start_time": "2024-11-07T19:46:25.351Z"
   },
   {
    "duration": 41149,
    "start_time": "2024-11-07T19:46:25.655Z"
   },
   {
    "duration": 10,
    "start_time": "2024-11-07T19:47:06.806Z"
   },
   {
    "duration": 8,
    "start_time": "2024-11-07T19:47:06.818Z"
   },
   {
    "duration": 154452,
    "start_time": "2024-11-07T19:47:06.828Z"
   },
   {
    "duration": 149,
    "start_time": "2024-11-07T19:49:41.282Z"
   },
   {
    "duration": 278020,
    "start_time": "2024-11-07T19:49:41.433Z"
   },
   {
    "duration": 1271,
    "start_time": "2024-11-07T19:56:01.805Z"
   },
   {
    "duration": 557,
    "start_time": "2024-11-07T19:56:03.079Z"
   },
   {
    "duration": 27,
    "start_time": "2024-11-07T19:56:03.638Z"
   },
   {
    "duration": 50,
    "start_time": "2024-11-07T19:56:03.667Z"
   },
   {
    "duration": 27,
    "start_time": "2024-11-07T19:56:03.720Z"
   },
   {
    "duration": 42,
    "start_time": "2024-11-07T19:56:03.749Z"
   },
   {
    "duration": 72,
    "start_time": "2024-11-07T19:56:03.793Z"
   },
   {
    "duration": 51,
    "start_time": "2024-11-07T19:56:03.866Z"
   },
   {
    "duration": 4,
    "start_time": "2024-11-07T19:56:03.919Z"
   },
   {
    "duration": 42,
    "start_time": "2024-11-07T19:56:03.925Z"
   },
   {
    "duration": 175,
    "start_time": "2024-11-07T19:56:03.969Z"
   },
   {
    "duration": 415,
    "start_time": "2024-11-07T19:56:04.146Z"
   },
   {
    "duration": 501,
    "start_time": "2024-11-07T19:56:04.563Z"
   },
   {
    "duration": 38449,
    "start_time": "2024-11-07T19:56:05.067Z"
   },
   {
    "duration": 127,
    "start_time": "2024-11-07T19:56:43.518Z"
   },
   {
    "duration": 6,
    "start_time": "2024-11-07T19:56:43.647Z"
   },
   {
    "duration": 83,
    "start_time": "2024-11-07T19:56:43.655Z"
   },
   {
    "duration": 92,
    "start_time": "2024-11-07T19:56:43.739Z"
   },
   {
    "duration": 138,
    "start_time": "2024-11-07T19:56:43.833Z"
   },
   {
    "duration": 6,
    "start_time": "2024-11-07T19:56:43.974Z"
   },
   {
    "duration": 45,
    "start_time": "2024-11-07T19:56:43.981Z"
   },
   {
    "duration": 2,
    "start_time": "2024-11-07T19:56:44.029Z"
   },
   {
    "duration": 22,
    "start_time": "2024-11-07T19:56:44.033Z"
   },
   {
    "duration": 21,
    "start_time": "2024-11-07T19:56:44.058Z"
   },
   {
    "duration": 5,
    "start_time": "2024-11-07T19:56:44.081Z"
   },
   {
    "duration": 47205,
    "start_time": "2024-11-07T19:56:44.112Z"
   },
   {
    "duration": 7,
    "start_time": "2024-11-07T19:57:31.320Z"
   },
   {
    "duration": 276,
    "start_time": "2024-11-07T19:57:31.329Z"
   },
   {
    "duration": 40929,
    "start_time": "2024-11-07T19:57:31.607Z"
   },
   {
    "duration": 7,
    "start_time": "2024-11-07T19:58:12.538Z"
   },
   {
    "duration": 8,
    "start_time": "2024-11-07T19:58:12.547Z"
   },
   {
    "duration": 153727,
    "start_time": "2024-11-07T19:58:12.558Z"
   },
   {
    "duration": 198,
    "start_time": "2024-11-07T20:00:46.287Z"
   },
   {
    "duration": 314025,
    "start_time": "2024-11-07T20:00:46.487Z"
   },
   {
    "duration": 1255,
    "start_time": "2024-11-07T20:08:34.736Z"
   },
   {
    "duration": 539,
    "start_time": "2024-11-07T20:08:35.994Z"
   },
   {
    "duration": 35,
    "start_time": "2024-11-07T20:08:36.535Z"
   },
   {
    "duration": 54,
    "start_time": "2024-11-07T20:08:36.576Z"
   },
   {
    "duration": 30,
    "start_time": "2024-11-07T20:08:36.633Z"
   },
   {
    "duration": 50,
    "start_time": "2024-11-07T20:08:36.665Z"
   },
   {
    "duration": 50,
    "start_time": "2024-11-07T20:08:36.719Z"
   },
   {
    "duration": 26,
    "start_time": "2024-11-07T20:08:36.772Z"
   },
   {
    "duration": 4,
    "start_time": "2024-11-07T20:08:36.813Z"
   },
   {
    "duration": 39,
    "start_time": "2024-11-07T20:08:36.821Z"
   },
   {
    "duration": 167,
    "start_time": "2024-11-07T20:08:36.862Z"
   },
   {
    "duration": 431,
    "start_time": "2024-11-07T20:08:37.032Z"
   },
   {
    "duration": 513,
    "start_time": "2024-11-07T20:08:37.466Z"
   },
   {
    "duration": 37782,
    "start_time": "2024-11-07T20:08:37.983Z"
   },
   {
    "duration": 132,
    "start_time": "2024-11-07T20:09:15.767Z"
   },
   {
    "duration": 9,
    "start_time": "2024-11-07T20:09:15.903Z"
   },
   {
    "duration": 63,
    "start_time": "2024-11-07T20:09:15.915Z"
   },
   {
    "duration": 121,
    "start_time": "2024-11-07T20:09:15.980Z"
   },
   {
    "duration": 111,
    "start_time": "2024-11-07T20:09:16.103Z"
   },
   {
    "duration": 6,
    "start_time": "2024-11-07T20:09:16.215Z"
   },
   {
    "duration": 26,
    "start_time": "2024-11-07T20:09:16.223Z"
   },
   {
    "duration": 3,
    "start_time": "2024-11-07T20:09:16.251Z"
   },
   {
    "duration": 24,
    "start_time": "2024-11-07T20:09:16.255Z"
   },
   {
    "duration": 19,
    "start_time": "2024-11-07T20:09:16.312Z"
   },
   {
    "duration": 4,
    "start_time": "2024-11-07T20:09:16.332Z"
   },
   {
    "duration": 65067,
    "start_time": "2024-11-07T20:09:16.338Z"
   },
   {
    "duration": 7,
    "start_time": "2024-11-07T20:10:21.406Z"
   },
   {
    "duration": 288,
    "start_time": "2024-11-07T20:10:21.416Z"
   },
   {
    "duration": 1098,
    "start_time": "2024-11-07T20:13:10.149Z"
   },
   {
    "duration": 520,
    "start_time": "2024-11-07T20:13:11.250Z"
   },
   {
    "duration": 28,
    "start_time": "2024-11-07T20:13:11.772Z"
   },
   {
    "duration": 59,
    "start_time": "2024-11-07T20:13:11.812Z"
   },
   {
    "duration": 41,
    "start_time": "2024-11-07T20:13:11.879Z"
   },
   {
    "duration": 44,
    "start_time": "2024-11-07T20:13:11.922Z"
   },
   {
    "duration": 55,
    "start_time": "2024-11-07T20:13:11.968Z"
   },
   {
    "duration": 30,
    "start_time": "2024-11-07T20:13:12.025Z"
   },
   {
    "duration": 4,
    "start_time": "2024-11-07T20:13:12.056Z"
   },
   {
    "duration": 59,
    "start_time": "2024-11-07T20:13:12.062Z"
   },
   {
    "duration": 143,
    "start_time": "2024-11-07T20:13:12.123Z"
   },
   {
    "duration": 411,
    "start_time": "2024-11-07T20:13:12.268Z"
   },
   {
    "duration": 501,
    "start_time": "2024-11-07T20:13:12.681Z"
   },
   {
    "duration": 36889,
    "start_time": "2024-11-07T20:13:13.185Z"
   },
   {
    "duration": 134,
    "start_time": "2024-11-07T20:13:50.076Z"
   },
   {
    "duration": 9,
    "start_time": "2024-11-07T20:13:50.215Z"
   },
   {
    "duration": 63,
    "start_time": "2024-11-07T20:13:50.226Z"
   },
   {
    "duration": 97,
    "start_time": "2024-11-07T20:13:50.291Z"
   },
   {
    "duration": 105,
    "start_time": "2024-11-07T20:13:50.391Z"
   },
   {
    "duration": 19,
    "start_time": "2024-11-07T20:13:50.498Z"
   },
   {
    "duration": 21,
    "start_time": "2024-11-07T20:13:50.519Z"
   },
   {
    "duration": 3,
    "start_time": "2024-11-07T20:13:50.541Z"
   },
   {
    "duration": 24,
    "start_time": "2024-11-07T20:13:50.545Z"
   },
   {
    "duration": 46,
    "start_time": "2024-11-07T20:13:50.570Z"
   },
   {
    "duration": 4,
    "start_time": "2024-11-07T20:13:50.618Z"
   },
   {
    "duration": 65949,
    "start_time": "2024-11-07T20:13:50.624Z"
   },
   {
    "duration": 7,
    "start_time": "2024-11-07T20:14:56.576Z"
   },
   {
    "duration": 304,
    "start_time": "2024-11-07T20:14:56.585Z"
   },
   {
    "duration": 41681,
    "start_time": "2024-11-07T20:14:56.891Z"
   },
   {
    "duration": 9,
    "start_time": "2024-11-07T20:15:38.576Z"
   },
   {
    "duration": 9,
    "start_time": "2024-11-07T20:15:38.587Z"
   },
   {
    "duration": 146871,
    "start_time": "2024-11-07T20:15:38.598Z"
   },
   {
    "duration": 144,
    "start_time": "2024-11-07T20:18:05.471Z"
   },
   {
    "duration": 247320,
    "start_time": "2024-11-07T20:18:05.617Z"
   },
   {
    "duration": 211007,
    "start_time": "2024-11-07T20:22:12.939Z"
   },
   {
    "duration": 0,
    "start_time": "2024-11-07T20:25:43.949Z"
   },
   {
    "duration": 0,
    "start_time": "2024-11-07T20:25:43.951Z"
   },
   {
    "duration": 0,
    "start_time": "2024-11-07T20:25:43.952Z"
   },
   {
    "duration": 12,
    "start_time": "2024-11-07T20:28:12.560Z"
   },
   {
    "duration": 8,
    "start_time": "2024-11-07T20:28:25.594Z"
   },
   {
    "duration": 74612,
    "start_time": "2024-11-07T20:29:55.464Z"
   },
   {
    "duration": 6,
    "start_time": "2024-11-07T20:31:10.079Z"
   },
   {
    "duration": 1133,
    "start_time": "2024-11-07T20:32:52.586Z"
   },
   {
    "duration": 562,
    "start_time": "2024-11-07T20:32:53.721Z"
   },
   {
    "duration": 43,
    "start_time": "2024-11-07T20:32:54.286Z"
   },
   {
    "duration": 57,
    "start_time": "2024-11-07T20:32:54.332Z"
   },
   {
    "duration": 45,
    "start_time": "2024-11-07T20:32:54.393Z"
   },
   {
    "duration": 38,
    "start_time": "2024-11-07T20:32:54.440Z"
   },
   {
    "duration": 70,
    "start_time": "2024-11-07T20:32:54.481Z"
   },
   {
    "duration": 27,
    "start_time": "2024-11-07T20:32:54.554Z"
   },
   {
    "duration": 3,
    "start_time": "2024-11-07T20:32:54.583Z"
   },
   {
    "duration": 52,
    "start_time": "2024-11-07T20:32:54.590Z"
   },
   {
    "duration": 219,
    "start_time": "2024-11-07T20:32:54.644Z"
   },
   {
    "duration": 432,
    "start_time": "2024-11-07T20:32:54.864Z"
   },
   {
    "duration": 491,
    "start_time": "2024-11-07T20:32:55.299Z"
   },
   {
    "duration": 37079,
    "start_time": "2024-11-07T20:32:55.795Z"
   },
   {
    "duration": 137,
    "start_time": "2024-11-07T20:33:32.876Z"
   },
   {
    "duration": 7,
    "start_time": "2024-11-07T20:33:33.015Z"
   },
   {
    "duration": 74,
    "start_time": "2024-11-07T20:33:33.025Z"
   },
   {
    "duration": 120,
    "start_time": "2024-11-07T20:33:33.112Z"
   },
   {
    "duration": 110,
    "start_time": "2024-11-07T20:33:33.234Z"
   },
   {
    "duration": 8,
    "start_time": "2024-11-07T20:33:33.346Z"
   },
   {
    "duration": 27,
    "start_time": "2024-11-07T20:33:33.356Z"
   },
   {
    "duration": 2,
    "start_time": "2024-11-07T20:33:33.385Z"
   },
   {
    "duration": 46,
    "start_time": "2024-11-07T20:33:33.389Z"
   },
   {
    "duration": 17,
    "start_time": "2024-11-07T20:33:33.437Z"
   },
   {
    "duration": 4,
    "start_time": "2024-11-07T20:33:33.457Z"
   },
   {
    "duration": 64347,
    "start_time": "2024-11-07T20:33:33.462Z"
   },
   {
    "duration": 7,
    "start_time": "2024-11-07T20:34:37.811Z"
   },
   {
    "duration": 292,
    "start_time": "2024-11-07T20:34:37.819Z"
   },
   {
    "duration": 41100,
    "start_time": "2024-11-07T20:34:38.113Z"
   },
   {
    "duration": 7,
    "start_time": "2024-11-07T20:35:19.215Z"
   },
   {
    "duration": 9,
    "start_time": "2024-11-07T20:35:19.225Z"
   },
   {
    "duration": 150402,
    "start_time": "2024-11-07T20:35:19.236Z"
   },
   {
    "duration": 183,
    "start_time": "2024-11-07T20:37:49.640Z"
   },
   {
    "duration": 142620,
    "start_time": "2024-11-07T20:41:53.315Z"
   },
   {
    "duration": 92615,
    "start_time": "2024-11-07T20:44:15.936Z"
   },
   {
    "duration": 5080,
    "start_time": "2024-11-07T20:45:48.553Z"
   },
   {
    "duration": 10095,
    "start_time": "2024-11-07T20:45:53.712Z"
   },
   {
    "duration": 16296,
    "start_time": "2024-11-07T20:46:23.117Z"
   },
   {
    "duration": 13603,
    "start_time": "2024-11-07T20:49:37.336Z"
   },
   {
    "duration": 1093,
    "start_time": "2024-11-07T21:28:01.869Z"
   },
   {
    "duration": 517,
    "start_time": "2024-11-07T21:28:02.964Z"
   },
   {
    "duration": 30,
    "start_time": "2024-11-07T21:28:03.482Z"
   },
   {
    "duration": 38,
    "start_time": "2024-11-07T21:28:03.514Z"
   },
   {
    "duration": 25,
    "start_time": "2024-11-07T21:28:03.555Z"
   },
   {
    "duration": 54,
    "start_time": "2024-11-07T21:28:03.582Z"
   },
   {
    "duration": 44,
    "start_time": "2024-11-07T21:28:03.638Z"
   },
   {
    "duration": 37,
    "start_time": "2024-11-07T21:28:03.685Z"
   },
   {
    "duration": 4,
    "start_time": "2024-11-07T21:28:03.724Z"
   },
   {
    "duration": 39,
    "start_time": "2024-11-07T21:28:03.730Z"
   },
   {
    "duration": 156,
    "start_time": "2024-11-07T21:28:03.770Z"
   },
   {
    "duration": 403,
    "start_time": "2024-11-07T21:28:03.927Z"
   },
   {
    "duration": 498,
    "start_time": "2024-11-07T21:28:04.333Z"
   },
   {
    "duration": 35936,
    "start_time": "2024-11-07T21:28:04.836Z"
   },
   {
    "duration": 126,
    "start_time": "2024-11-07T21:28:40.774Z"
   },
   {
    "duration": 10,
    "start_time": "2024-11-07T21:28:40.903Z"
   },
   {
    "duration": 58,
    "start_time": "2024-11-07T21:28:40.915Z"
   },
   {
    "duration": 93,
    "start_time": "2024-11-07T21:28:40.976Z"
   },
   {
    "duration": 109,
    "start_time": "2024-11-07T21:28:41.071Z"
   },
   {
    "duration": 6,
    "start_time": "2024-11-07T21:28:41.181Z"
   },
   {
    "duration": 31,
    "start_time": "2024-11-07T21:28:41.189Z"
   },
   {
    "duration": 2,
    "start_time": "2024-11-07T21:28:41.222Z"
   },
   {
    "duration": 24,
    "start_time": "2024-11-07T21:28:41.226Z"
   },
   {
    "duration": 17,
    "start_time": "2024-11-07T21:28:41.252Z"
   },
   {
    "duration": 5,
    "start_time": "2024-11-07T21:28:41.270Z"
   },
   {
    "duration": 19630,
    "start_time": "2024-11-07T21:28:41.278Z"
   },
   {
    "duration": 6,
    "start_time": "2024-11-07T21:29:00.910Z"
   },
   {
    "duration": 278,
    "start_time": "2024-11-07T21:29:00.918Z"
   },
   {
    "duration": 31316,
    "start_time": "2024-11-07T21:29:01.197Z"
   },
   {
    "duration": 7,
    "start_time": "2024-11-07T21:29:32.514Z"
   },
   {
    "duration": 8,
    "start_time": "2024-11-07T21:29:32.523Z"
   },
   {
    "duration": 120092,
    "start_time": "2024-11-07T21:29:32.533Z"
   },
   {
    "duration": 142,
    "start_time": "2024-11-07T21:31:32.627Z"
   },
   {
    "duration": 11041,
    "start_time": "2024-11-07T21:31:32.771Z"
   },
   {
    "duration": 10915,
    "start_time": "2024-11-07T21:31:43.814Z"
   },
   {
    "duration": 157576,
    "start_time": "2024-11-07T21:31:54.731Z"
   },
   {
    "duration": 5712,
    "start_time": "2024-11-07T21:34:32.308Z"
   },
   {
    "duration": 8655,
    "start_time": "2024-11-07T21:34:38.023Z"
   },
   {
    "duration": 6533,
    "start_time": "2024-11-07T21:35:34.980Z"
   },
   {
    "duration": 1108,
    "start_time": "2024-11-07T21:36:03.769Z"
   },
   {
    "duration": 523,
    "start_time": "2024-11-07T21:36:04.879Z"
   },
   {
    "duration": 31,
    "start_time": "2024-11-07T21:36:05.412Z"
   },
   {
    "duration": 44,
    "start_time": "2024-11-07T21:36:05.445Z"
   },
   {
    "duration": 46,
    "start_time": "2024-11-07T21:36:05.493Z"
   },
   {
    "duration": 32,
    "start_time": "2024-11-07T21:36:05.540Z"
   },
   {
    "duration": 55,
    "start_time": "2024-11-07T21:36:05.574Z"
   },
   {
    "duration": 26,
    "start_time": "2024-11-07T21:36:05.631Z"
   },
   {
    "duration": 3,
    "start_time": "2024-11-07T21:36:05.659Z"
   },
   {
    "duration": 60,
    "start_time": "2024-11-07T21:36:05.664Z"
   },
   {
    "duration": 141,
    "start_time": "2024-11-07T21:36:05.726Z"
   },
   {
    "duration": 396,
    "start_time": "2024-11-07T21:36:05.868Z"
   },
   {
    "duration": 477,
    "start_time": "2024-11-07T21:36:06.266Z"
   },
   {
    "duration": 35952,
    "start_time": "2024-11-07T21:36:06.746Z"
   },
   {
    "duration": 124,
    "start_time": "2024-11-07T21:36:42.699Z"
   },
   {
    "duration": 5,
    "start_time": "2024-11-07T21:36:42.825Z"
   },
   {
    "duration": 59,
    "start_time": "2024-11-07T21:36:42.831Z"
   },
   {
    "duration": 76,
    "start_time": "2024-11-07T21:36:42.912Z"
   },
   {
    "duration": 123,
    "start_time": "2024-11-07T21:36:42.989Z"
   },
   {
    "duration": 6,
    "start_time": "2024-11-07T21:36:43.113Z"
   },
   {
    "duration": 19,
    "start_time": "2024-11-07T21:36:43.120Z"
   },
   {
    "duration": 3,
    "start_time": "2024-11-07T21:36:43.141Z"
   },
   {
    "duration": 25,
    "start_time": "2024-11-07T21:36:43.146Z"
   },
   {
    "duration": 46,
    "start_time": "2024-11-07T21:36:43.173Z"
   },
   {
    "duration": 3,
    "start_time": "2024-11-07T21:36:43.221Z"
   },
   {
    "duration": 19797,
    "start_time": "2024-11-07T21:36:43.226Z"
   },
   {
    "duration": 7,
    "start_time": "2024-11-07T21:37:03.025Z"
   },
   {
    "duration": 268,
    "start_time": "2024-11-07T21:37:03.034Z"
   },
   {
    "duration": 31252,
    "start_time": "2024-11-07T21:37:03.304Z"
   },
   {
    "duration": 6,
    "start_time": "2024-11-07T21:37:34.558Z"
   },
   {
    "duration": 8,
    "start_time": "2024-11-07T21:37:34.566Z"
   },
   {
    "duration": 120443,
    "start_time": "2024-11-07T21:37:34.576Z"
   },
   {
    "duration": 148,
    "start_time": "2024-11-07T21:39:35.022Z"
   },
   {
    "duration": 11347,
    "start_time": "2024-11-07T21:39:35.171Z"
   },
   {
    "duration": 10322,
    "start_time": "2024-11-07T21:39:46.520Z"
   },
   {
    "duration": 157864,
    "start_time": "2024-11-07T21:39:56.844Z"
   },
   {
    "duration": 5319,
    "start_time": "2024-11-07T21:42:34.718Z"
   },
   {
    "duration": 8572,
    "start_time": "2024-11-07T21:42:40.039Z"
   }
  ],
  "kernelspec": {
   "display_name": "Python 3 (ipykernel)",
   "language": "python",
   "name": "python3"
  },
  "language_info": {
   "codemirror_mode": {
    "name": "ipython",
    "version": 3
   },
   "file_extension": ".py",
   "mimetype": "text/x-python",
   "name": "python",
   "nbconvert_exporter": "python",
   "pygments_lexer": "ipython3",
   "version": "3.9.19"
  },
  "toc": {
   "base_numbering": 1,
   "nav_menu": {},
   "number_sections": true,
   "sideBar": true,
   "skip_h1_title": true,
   "title_cell": "Table of Contents",
   "title_sidebar": "Contents",
   "toc_cell": false,
   "toc_position": {},
   "toc_section_display": true,
   "toc_window_display": false
  }
 },
 "nbformat": 4,
 "nbformat_minor": 2
}

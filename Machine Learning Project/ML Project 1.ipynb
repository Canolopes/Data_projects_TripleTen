{
 "cells": [
  {
   "cell_type": "markdown",
   "metadata": {},
   "source": [
    "**Review**\n",
    "\n",
    "Hello Enrique!\n",
    "\n",
    "I'm happy to review your project today.\n",
    "  \n",
    "You can find my comments in colored markdown cells:\n",
    "  \n",
    "<div class=\"alert alert-success\">\n",
    "  If everything is done successfully.\n",
    "</div>\n",
    "  \n",
    "<div class=\"alert alert-warning\">\n",
    "  If I have some (optional) suggestions, or questions to think about, or general comments.\n",
    "</div>\n",
    "  \n",
    "<div class=\"alert alert-danger\">\n",
    "  If a section requires some corrections. Work can't be accepted with red comments.\n",
    "</div>\n",
    "  \n",
    "Please don't remove my comments, as it will make further review iterations much harder for me.\n",
    "  \n",
    "Feel free to reply to my comments or ask questions using the following template:\n",
    "  \n",
    "<div class=\"alert alert-info\">\n",
    "  For your comments and questions.\n",
    "</div>\n",
    "  \n",
    "First of all, thank you for turning in the project! You did a pretty good job overall, but there are a few problems that need to be fixed before the project is accepted. Let me know if you have questions!"
   ]
  },
  {
   "cell_type": "markdown",
   "metadata": {},
   "source": [
    "# Model Creation of Megaline Subscription Data"
   ]
  },
  {
   "cell_type": "markdown",
   "metadata": {},
   "source": [
    "# Introduction"
   ]
  },
  {
   "cell_type": "markdown",
   "metadata": {},
   "source": [
    "We will be diving into Megaline subscriber data and creating a model to help switch customers to a newer plan. Many Megaline customers still have legacy plans so we will analyze their behavior to create a model to recommend a new plan: Smart or Ultra. The model we will create must have an accuracy of at least 0.75."
   ]
  },
  {
   "cell_type": "code",
   "execution_count": 1,
   "metadata": {},
   "outputs": [],
   "source": [
    "#Import our libraries\n",
    "\n",
    "import pandas as pd\n",
    "import numpy as np\n",
    "from sklearn.tree import DecisionTreeClassifier\n",
    "from sklearn.model_selection import train_test_split\n",
    "from sklearn.metrics import accuracy_score\n",
    "from sklearn.ensemble import RandomForestClassifier\n",
    "from sklearn.linear_model import LogisticRegression\n",
    "from sklearn.linear_model import LogisticRegression\n",
    "from sklearn.metrics import mean_squared_error"
   ]
  },
  {
   "cell_type": "code",
   "execution_count": 2,
   "metadata": {},
   "outputs": [
    {
     "name": "stdout",
     "output_type": "stream",
     "text": [
      "<class 'pandas.core.frame.DataFrame'>\n",
      "RangeIndex: 3214 entries, 0 to 3213\n",
      "Data columns (total 5 columns):\n",
      " #   Column    Non-Null Count  Dtype  \n",
      "---  ------    --------------  -----  \n",
      " 0   calls     3214 non-null   float64\n",
      " 1   minutes   3214 non-null   float64\n",
      " 2   messages  3214 non-null   float64\n",
      " 3   mb_used   3214 non-null   float64\n",
      " 4   is_ultra  3214 non-null   int64  \n",
      "dtypes: float64(4), int64(1)\n",
      "memory usage: 125.7 KB\n",
      "None\n"
     ]
    },
    {
     "data": {
      "text/html": [
       "<div>\n",
       "<style scoped>\n",
       "    .dataframe tbody tr th:only-of-type {\n",
       "        vertical-align: middle;\n",
       "    }\n",
       "\n",
       "    .dataframe tbody tr th {\n",
       "        vertical-align: top;\n",
       "    }\n",
       "\n",
       "    .dataframe thead th {\n",
       "        text-align: right;\n",
       "    }\n",
       "</style>\n",
       "<table border=\"1\" class=\"dataframe\">\n",
       "  <thead>\n",
       "    <tr style=\"text-align: right;\">\n",
       "      <th></th>\n",
       "      <th>calls</th>\n",
       "      <th>minutes</th>\n",
       "      <th>messages</th>\n",
       "      <th>mb_used</th>\n",
       "      <th>is_ultra</th>\n",
       "    </tr>\n",
       "  </thead>\n",
       "  <tbody>\n",
       "    <tr>\n",
       "      <th>0</th>\n",
       "      <td>40.0</td>\n",
       "      <td>311.90</td>\n",
       "      <td>83.0</td>\n",
       "      <td>19915.42</td>\n",
       "      <td>0</td>\n",
       "    </tr>\n",
       "    <tr>\n",
       "      <th>1</th>\n",
       "      <td>85.0</td>\n",
       "      <td>516.75</td>\n",
       "      <td>56.0</td>\n",
       "      <td>22696.96</td>\n",
       "      <td>0</td>\n",
       "    </tr>\n",
       "    <tr>\n",
       "      <th>2</th>\n",
       "      <td>77.0</td>\n",
       "      <td>467.66</td>\n",
       "      <td>86.0</td>\n",
       "      <td>21060.45</td>\n",
       "      <td>0</td>\n",
       "    </tr>\n",
       "    <tr>\n",
       "      <th>3</th>\n",
       "      <td>106.0</td>\n",
       "      <td>745.53</td>\n",
       "      <td>81.0</td>\n",
       "      <td>8437.39</td>\n",
       "      <td>1</td>\n",
       "    </tr>\n",
       "    <tr>\n",
       "      <th>4</th>\n",
       "      <td>66.0</td>\n",
       "      <td>418.74</td>\n",
       "      <td>1.0</td>\n",
       "      <td>14502.75</td>\n",
       "      <td>0</td>\n",
       "    </tr>\n",
       "  </tbody>\n",
       "</table>\n",
       "</div>"
      ],
      "text/plain": [
       "   calls  minutes  messages   mb_used  is_ultra\n",
       "0   40.0   311.90      83.0  19915.42         0\n",
       "1   85.0   516.75      56.0  22696.96         0\n",
       "2   77.0   467.66      86.0  21060.45         0\n",
       "3  106.0   745.53      81.0   8437.39         1\n",
       "4   66.0   418.74       1.0  14502.75         0"
      ]
     },
     "execution_count": 2,
     "metadata": {},
     "output_type": "execute_result"
    }
   ],
   "source": [
    "#Unpack our data\n",
    "\n",
    "users = pd.read_csv('/datasets/users_behavior.csv')\n",
    "print(users.info())\n",
    "users.head()"
   ]
  },
  {
   "cell_type": "markdown",
   "metadata": {},
   "source": [
    "Let's keep in mind that for the 'is_ultra' column, 0 means the subscriber is on the Smart plan, and 1 means the subscriber is on the Ultra plan."
   ]
  },
  {
   "cell_type": "markdown",
   "metadata": {},
   "source": [
    "<div class=\"alert alert-success\">\n",
    "<b>Reviewer's comment</b>\n",
    "\n",
    "Correct\n",
    "\n",
    "</div>"
   ]
  },
  {
   "cell_type": "code",
   "execution_count": 3,
   "metadata": {},
   "outputs": [],
   "source": [
    "#Create features and target\n",
    "\n",
    "features = users.drop(['is_ultra'], axis =1)\n",
    "target = users['is_ultra']"
   ]
  },
  {
   "cell_type": "code",
   "execution_count": 4,
   "metadata": {},
   "outputs": [
    {
     "name": "stdout",
     "output_type": "stream",
     "text": [
      "Training samples: 1928 (59.99%)\n",
      "Validation samples: 643 (20.01%)\n",
      "Test samples: 643 (20.01%)\n"
     ]
    }
   ],
   "source": [
    "#Split our data into a test set, validation set, and training set\n",
    "\n",
    "#Taking 60% of the data for training set #v2\n",
    "users_train, users_val_test = train_test_split(users, test_size = 0.4, random_state=12345)\n",
    "\n",
    "#Taking #20% of the data for validation set and 20% for test set #v2\n",
    "users_val, users_test = train_test_split(users_val_test, test_size=0.5, random_state=12345)\n",
    "\n",
    "print(f\"Training samples: {len(users_train)} ({len(users_train)/len(users):.2%})\")\n",
    "print(f\"Validation samples: {len(users_val)} ({len(users_val)/len(users):.2%})\")\n",
    "print(f\"Test samples: {len(users_test)} ({len(users_test)/len(users):.2%})\")"
   ]
  },
  {
   "cell_type": "markdown",
   "metadata": {},
   "source": [
    "<div class=\"alert alert-danger\">\n",
    "<b>Reviewer's comment</b>\n",
    "\n",
    "The split is not correct:\n",
    "1. Check the shapes. Your train and test data have the same length. But the ratio train/valid/test should be 60/20/20 or 70/15/15\n",
    "2. Your train and test data are absolutely the same\n",
    "\n",
    "The way to correct split:\n",
    "1. Split initial data into train and val_test using test_size=0.4\n",
    "2. Split val_test into val and test using test_size=0.5\n",
    "\n",
    "</div>"
   ]
  },
  {
   "cell_type": "markdown",
   "metadata": {},
   "source": [
    "<div class=\"alert alert-success\">\n",
    "<b>Reviewer's comment V2</b>\n",
    "\n",
    "Correct. Good job!\n",
    "\n",
    "</div>"
   ]
  },
  {
   "cell_type": "markdown",
   "metadata": {},
   "source": [
    "## Interim Testing to Find the Best Models"
   ]
  },
  {
   "cell_type": "markdown",
   "metadata": {},
   "source": [
    "This is a CLASSIFICATION model we are training since we only need to train the model to recommend either the Smart or Ultra plan. We are not trying to predict a numerical value."
   ]
  },
  {
   "cell_type": "code",
   "execution_count": 5,
   "metadata": {},
   "outputs": [
    {
     "name": "stdout",
     "output_type": "stream",
     "text": [
      "Accuracy of the best model: 0.7853810264385692 Model: DecisionTreeClassifier(max_depth=3, random_state=12345)\n"
     ]
    }
   ],
   "source": [
    "#Find the best Decision Tree model\n",
    "\n",
    "features_train = users_train.drop(['is_ultra'], axis=1)\n",
    "target_train = users_train['is_ultra']\n",
    "features_valid = users_val.drop(['is_ultra'], axis = 1)\n",
    "target_valid = users_val['is_ultra']\n",
    "\n",
    "best_model = None\n",
    "best_result = 0\n",
    "for depth in range(1, 7):\n",
    "\tmodel = DecisionTreeClassifier(random_state=12345, max_depth=depth) # create a model with the given depth\n",
    "\tmodel.fit(features_train, target_train) # train the model with training set\n",
    "\tpredictions = model.predict(features_valid) # get the model's predictions using validation set\n",
    "\tresult = accuracy_score(target_valid, predictions) # calculate the accuracy\n",
    "\tif result > best_result:\n",
    "\t\tbest_model = model\n",
    "\t\tbest_result = result\n",
    "        \n",
    "print(\"Accuracy of the best model:\", best_result, \"Model:\", best_model) #v2"
   ]
  },
  {
   "cell_type": "markdown",
   "metadata": {},
   "source": [
    "<div class=\"alert alert-success\">\n",
    "<b>Reviewer's comment</b>\n",
    "\n",
    "Correct\n",
    "\n",
    "</div>"
   ]
  },
  {
   "cell_type": "markdown",
   "metadata": {},
   "source": [
    "Already on the right path with about 79% accuracy from our Decision Tree Classifier model. However, let's go over other model types to continue to search for a better model."
   ]
  },
  {
   "cell_type": "code",
   "execution_count": 6,
   "metadata": {},
   "outputs": [
    {
     "name": "stdout",
     "output_type": "stream",
     "text": [
      "Accuracy of the best model on the validation set (n_estimators = 24): 0.7822706065318819\n"
     ]
    }
   ],
   "source": [
    "#Find the best Random Forest model\n",
    "\n",
    "best_score = 0\n",
    "best_est = 0\n",
    "for est in range(1, 25): # choose hyperparameter range\n",
    "    model = RandomForestClassifier(random_state=54321, n_estimators=est) # set number of trees\n",
    "    model.fit(features_train, target_train) # train model on training set\n",
    "    score = model.score(features_valid, target_valid) # calculate accuracy score on validation set\n",
    "    if score > best_score:\n",
    "        best_score = score# save best accuracy score on validation set\n",
    "        best_est = est# save number of estimators corresponding to best accuracy score\n",
    "\n",
    "print(\"Accuracy of the best model on the validation set (n_estimators = {}): {}\".format(best_est, best_score))"
   ]
  },
  {
   "cell_type": "markdown",
   "metadata": {},
   "source": [
    "<div class=\"alert alert-success\">\n",
    "<b>Reviewer's comment</b>\n",
    "\n",
    "Correct\n",
    "\n",
    "</div>"
   ]
  },
  {
   "cell_type": "markdown",
   "metadata": {},
   "source": [
    "Another good model with almost 79% accuracy, above our 75% minimum threshold. This is very close to our previous model. Let's evaluate our final model: logistic regression. "
   ]
  },
  {
   "cell_type": "code",
   "execution_count": 7,
   "metadata": {},
   "outputs": [
    {
     "name": "stdout",
     "output_type": "stream",
     "text": [
      "Accuracy of the logistic regression model on the training set: 0.7505186721991701\n",
      "Accuracy of the logistic regression model on the validation set: 0.7589424572317263\n"
     ]
    }
   ],
   "source": [
    "#Initializing and testing our logistic regression model\n",
    "\n",
    "model = LogisticRegression(random_state=54321, solver='liblinear')\n",
    "model.fit(features_train, target_train) #training the model\n",
    "score_train = model.score(features_train, target_train) #calculate accuracy score on training set\n",
    "score_valid = model.score(features_valid, target_valid) #calculate accuracy score on validation set\n",
    "\n",
    "print(\n",
    "    \"Accuracy of the logistic regression model on the training set:\",\n",
    "    score_train,\n",
    ")\n",
    "print(\n",
    "    \"Accuracy of the logistic regression model on the validation set:\",\n",
    "    score_valid,\n",
    ")"
   ]
  },
  {
   "cell_type": "markdown",
   "metadata": {},
   "source": [
    "<div class=\"alert alert-success\">\n",
    "<b>Reviewer's comment</b>\n",
    "\n",
    "Correct\n",
    "\n",
    "</div>"
   ]
  },
  {
   "cell_type": "markdown",
   "metadata": {},
   "source": [
    "Though this is the simplest and fastest model to run, it only barely meets our 75% threshold and is beat by both of our previous models. (v2)"
   ]
  },
  {
   "cell_type": "markdown",
   "metadata": {},
   "source": [
    "~~Our Decision Tree model scores the highest accuracy, let's go back to this and tune our parameters to see which values gave us the best result.~~"
   ]
  },
  {
   "cell_type": "markdown",
   "metadata": {},
   "source": [
    "~~for depth in range(1, 7):\n",
    "        model = DecisionTreeClassifier(random_state=12345, max_depth=depth)#create a model\n",
    "        model.fit(features_train, target_train) #train the model\n",
    "        predictions_valid = model.predict(features_valid) #find the predictions using validation set\n",
    "        print(\"max_depth =\", depth, \": \", end='')\n",
    "        print(accuracy_score(target_valid, predictions_valid))#create a loop for max_depth from 1 to 6~~\n",
    "        \n",
    "(v2 Fix: This was not necessary, code was adjusted above to display the ideal depth)"
   ]
  },
  {
   "cell_type": "markdown",
   "metadata": {},
   "source": [
    "<div class=\"alert alert-danger\">\n",
    "<b>Reviewer's comment</b>\n",
    "\n",
    "It seems it's a duplicate code. You already tuned depth for DecisionTreeClassifier above, didn't you?\n",
    "\n",
    "</div>"
   ]
  },
  {
   "cell_type": "markdown",
   "metadata": {},
   "source": [
    "<div class=\"alert alert-success\">\n",
    "<b>Reviewer's comment V2</b>\n",
    "\n",
    "Thank you:)\n",
    "\n",
    "</div>"
   ]
  },
  {
   "cell_type": "markdown",
   "metadata": {},
   "source": [
    "## Using our Best Model on the Test Set"
   ]
  },
  {
   "cell_type": "code",
   "execution_count": 8,
   "metadata": {},
   "outputs": [
    {
     "name": "stdout",
     "output_type": "stream",
     "text": [
      "Accuracy of the best model on the test set: 0.7791601866251944\n"
     ]
    }
   ],
   "source": [
    "#Let's use the best model on our test set\n",
    "\n",
    "features_test = users_test.drop(['is_ultra'], axis =1)\n",
    "target_test = users_test['is_ultra']\n",
    "\n",
    "model = DecisionTreeClassifier(random_state=12345, max_depth=3) #v2\n",
    "model.fit(features_train, target_train) #train our best model on the training set #v2\n",
    "predictions_test = model.predict(features_test) #get predictions from the test set\n",
    "best_accuracy = accuracy_score(target_test, predictions_test)\n",
    "print(f\"Accuracy of the best model on the test set: {best_accuracy}\") #accuracy of predictions from the test set"
   ]
  },
  {
   "cell_type": "markdown",
   "metadata": {},
   "source": [
    "Using the test set, our best model has displayed similar results to the validation data, nearly 78%. (v2)"
   ]
  },
  {
   "cell_type": "markdown",
   "metadata": {},
   "source": [
    "<div class=\"alert alert-danger\">\n",
    "<b>Reviewer's comment</b>\n",
    "\n",
    "You can't train ML model on the test data. Any ML model should be trained only on train data. Test data is used only once to check the final quality of your best model.\n",
    "    \n",
    "</div>"
   ]
  },
  {
   "cell_type": "markdown",
   "metadata": {},
   "source": [
    "<div class=\"alert alert-success\">\n",
    "<b>Reviewer's comment V2</b>\n",
    "\n",
    "Now everything is correct. Well done!\n",
    "\n",
    "</div>"
   ]
  },
  {
   "cell_type": "markdown",
   "metadata": {},
   "source": [
    "## Sanity Check on our Best Model"
   ]
  },
  {
   "cell_type": "markdown",
   "metadata": {},
   "source": [
    "Let's test our model against a model that would rely simply on chance or guessing. "
   ]
  },
  {
   "cell_type": "code",
   "execution_count": 9,
   "metadata": {},
   "outputs": [],
   "source": [
    "#Import libraries for dummy testing\n",
    "\n",
    "from sklearn.dummy import DummyClassifier\n",
    "from sklearn.metrics import classification_report\n",
    "from sklearn.datasets import make_classification"
   ]
  },
  {
   "cell_type": "code",
   "execution_count": 10,
   "metadata": {},
   "outputs": [],
   "source": [
    "#Train a dummy model\n",
    "dummy_clf = DummyClassifier(strategy=\"most_frequent\") #v2\n",
    "dummy_clf.fit(features_train, target_train) #training dummy model with training set\n",
    "dummy_predictions = dummy_clf.predict(features_test) #making dummy predictions with test set\n",
    "dummy_accuracy = accuracy_score(target_test, dummy_predictions) #accuracy of dummy predictions"
   ]
  },
  {
   "cell_type": "code",
   "execution_count": 11,
   "metadata": {},
   "outputs": [
    {
     "name": "stdout",
     "output_type": "stream",
     "text": [
      "Our Model Accuracy: 0.7791601866251944\n",
      "Dummy Classifier Accuracy: 0.6842923794712286\n"
     ]
    }
   ],
   "source": [
    "#Results of our model versus a dummy model\n",
    "\n",
    "print(\"Our Model Accuracy:\", best_accuracy)\n",
    "print(\"Dummy Classifier Accuracy:\", dummy_accuracy)"
   ]
  },
  {
   "cell_type": "code",
   "execution_count": 12,
   "metadata": {},
   "outputs": [
    {
     "name": "stdout",
     "output_type": "stream",
     "text": [
      "\n",
      "Our model performs better than random guessing.\n",
      "Improvement over chance: 13.86%\n"
     ]
    }
   ],
   "source": [
    "if best_accuracy > dummy_accuracy:\n",
    "    print(\"\\nOur model performs better than random guessing.\")\n",
    "    improvement = (best_accuracy - dummy_accuracy) / dummy_accuracy * 100\n",
    "    print(f\"Improvement over chance: {improvement:.2f}%\")"
   ]
  },
  {
   "cell_type": "markdown",
   "metadata": {},
   "source": [
    "<div class=\"alert alert-success\">\n",
    "<b>Reviewer's comment</b>\n",
    "\n",
    "Well done! But usually for sanity check we use the best constant model. For classification task it's a model with `strategy=\"most_frequent\"`. You will study it in the next sprint:)\n",
    "    \n",
    "</div>"
   ]
  },
  {
   "cell_type": "markdown",
   "metadata": {},
   "source": [
    "# Conclusion"
   ]
  },
  {
   "cell_type": "markdown",
   "metadata": {},
   "source": [
    "We have successfully concluded our expirimentation with the Megaline subscriber data. We aimed to create a model that can accurately recommend the Smart or Ultra plan to legacy subscribers. We accomplished this by creating a Decision Tree model that scored nearly 78% accuracy on our test dataset and over 78% on our validation data set, meeting our 0.75 accuracy minimum. We also created a dummy model that relies on chance and our model was over 13% better than relying on chance (v2)."
   ]
  }
 ],
 "metadata": {
  "ExecuteTimeLog": [
   {
    "duration": 174,
    "start_time": "2024-09-24T22:30:51.446Z"
   },
   {
    "duration": 2,
    "start_time": "2024-09-24T22:31:19.960Z"
   },
   {
    "duration": 13,
    "start_time": "2024-09-24T22:31:20.215Z"
   },
   {
    "duration": 2,
    "start_time": "2024-09-24T22:31:22.570Z"
   },
   {
    "duration": 12,
    "start_time": "2024-09-24T22:31:22.711Z"
   },
   {
    "duration": 361,
    "start_time": "2024-09-24T22:31:45.897Z"
   },
   {
    "duration": 482,
    "start_time": "2024-09-24T22:31:47.696Z"
   },
   {
    "duration": 351,
    "start_time": "2024-09-24T22:32:12.905Z"
   },
   {
    "duration": 539,
    "start_time": "2024-09-24T22:32:13.259Z"
   },
   {
    "duration": 62,
    "start_time": "2024-09-24T22:33:03.793Z"
   },
   {
    "duration": 60,
    "start_time": "2024-09-24T22:33:11.868Z"
   },
   {
    "duration": 31,
    "start_time": "2024-09-24T22:35:30.488Z"
   },
   {
    "duration": 6,
    "start_time": "2024-09-24T22:45:09.071Z"
   },
   {
    "duration": 14,
    "start_time": "2024-09-24T22:48:48.288Z"
   },
   {
    "duration": 549,
    "start_time": "2024-09-24T22:49:05.899Z"
   },
   {
    "duration": 55,
    "start_time": "2024-09-24T22:49:08.684Z"
   },
   {
    "duration": 4,
    "start_time": "2024-09-24T22:49:13.707Z"
   },
   {
    "duration": 6,
    "start_time": "2024-09-24T22:49:15.615Z"
   },
   {
    "duration": 3,
    "start_time": "2024-09-24T23:02:16.548Z"
   },
   {
    "duration": 2,
    "start_time": "2024-09-24T23:04:10.198Z"
   },
   {
    "duration": 777,
    "start_time": "2024-09-24T23:06:42.032Z"
   },
   {
    "duration": 22,
    "start_time": "2024-09-24T23:06:42.813Z"
   },
   {
    "duration": 3,
    "start_time": "2024-09-24T23:06:42.836Z"
   },
   {
    "duration": 6,
    "start_time": "2024-09-24T23:06:42.841Z"
   },
   {
    "duration": 224,
    "start_time": "2024-09-24T23:12:19.307Z"
   },
   {
    "duration": 3,
    "start_time": "2024-09-24T23:12:39.096Z"
   },
   {
    "duration": 41,
    "start_time": "2024-09-24T23:12:42.697Z"
   },
   {
    "duration": 8,
    "start_time": "2024-09-24T23:15:10.547Z"
   },
   {
    "duration": 3,
    "start_time": "2024-09-24T23:15:43.442Z"
   },
   {
    "duration": 1290,
    "start_time": "2024-09-24T23:20:35.100Z"
   },
   {
    "duration": 3,
    "start_time": "2024-09-24T23:25:09.376Z"
   },
   {
    "duration": 3,
    "start_time": "2024-09-24T23:25:49.204Z"
   },
   {
    "duration": 10,
    "start_time": "2024-09-24T23:27:36.097Z"
   },
   {
    "duration": 33,
    "start_time": "2024-09-24T23:33:00.076Z"
   },
   {
    "duration": 138,
    "start_time": "2024-09-24T23:36:08.456Z"
   },
   {
    "duration": 743,
    "start_time": "2024-09-24T23:36:24.075Z"
   },
   {
    "duration": 23,
    "start_time": "2024-09-24T23:36:24.820Z"
   },
   {
    "duration": 3,
    "start_time": "2024-09-24T23:36:24.845Z"
   },
   {
    "duration": 5,
    "start_time": "2024-09-24T23:36:24.850Z"
   },
   {
    "duration": 242,
    "start_time": "2024-09-24T23:36:24.858Z"
   },
   {
    "duration": 0,
    "start_time": "2024-09-24T23:36:25.102Z"
   },
   {
    "duration": 0,
    "start_time": "2024-09-24T23:36:25.104Z"
   },
   {
    "duration": 0,
    "start_time": "2024-09-24T23:36:25.105Z"
   },
   {
    "duration": 124,
    "start_time": "2024-09-24T23:36:51.920Z"
   },
   {
    "duration": 35,
    "start_time": "2024-09-24T23:37:53.699Z"
   },
   {
    "duration": 1347,
    "start_time": "2024-09-24T23:38:26.239Z"
   },
   {
    "duration": 873,
    "start_time": "2024-09-24T23:38:38.979Z"
   },
   {
    "duration": 23,
    "start_time": "2024-09-24T23:38:39.854Z"
   },
   {
    "duration": 3,
    "start_time": "2024-09-24T23:38:39.887Z"
   },
   {
    "duration": 5,
    "start_time": "2024-09-24T23:38:39.893Z"
   },
   {
    "duration": 37,
    "start_time": "2024-09-24T23:38:39.901Z"
   },
   {
    "duration": 1327,
    "start_time": "2024-09-24T23:38:39.940Z"
   },
   {
    "duration": 22,
    "start_time": "2024-09-24T23:38:41.269Z"
   },
   {
    "duration": 110,
    "start_time": "2024-09-24T23:38:41.293Z"
   },
   {
    "duration": 3,
    "start_time": "2024-09-24T23:48:27.176Z"
   },
   {
    "duration": 13,
    "start_time": "2024-09-24T23:51:50.674Z"
   },
   {
    "duration": 13,
    "start_time": "2024-09-24T23:52:29.536Z"
   },
   {
    "duration": 12,
    "start_time": "2024-09-24T23:53:27.636Z"
   },
   {
    "duration": 3,
    "start_time": "2024-09-24T23:57:40.735Z"
   },
   {
    "duration": 2,
    "start_time": "2024-09-25T00:07:13.436Z"
   },
   {
    "duration": 253,
    "start_time": "2024-09-25T00:09:40.535Z"
   },
   {
    "duration": 33,
    "start_time": "2024-09-25T00:09:53.101Z"
   },
   {
    "duration": 5,
    "start_time": "2024-09-25T00:09:54.635Z"
   },
   {
    "duration": 13,
    "start_time": "2024-09-25T00:11:31.957Z"
   },
   {
    "duration": 8,
    "start_time": "2024-09-25T00:13:25.530Z"
   },
   {
    "duration": 2,
    "start_time": "2024-09-25T00:13:56.244Z"
   },
   {
    "duration": 3,
    "start_time": "2024-09-25T00:14:14.119Z"
   },
   {
    "duration": 3,
    "start_time": "2024-09-25T00:15:05.896Z"
   },
   {
    "duration": 793,
    "start_time": "2024-09-25T00:21:56.220Z"
   },
   {
    "duration": 22,
    "start_time": "2024-09-25T00:21:57.015Z"
   },
   {
    "duration": 3,
    "start_time": "2024-09-25T00:21:57.039Z"
   },
   {
    "duration": 4,
    "start_time": "2024-09-25T00:21:57.044Z"
   },
   {
    "duration": 58,
    "start_time": "2024-09-25T00:21:57.050Z"
   },
   {
    "duration": 1295,
    "start_time": "2024-09-25T00:21:57.109Z"
   },
   {
    "duration": 12,
    "start_time": "2024-09-25T00:21:58.406Z"
   },
   {
    "duration": 91,
    "start_time": "2024-09-25T00:21:58.420Z"
   },
   {
    "duration": 72,
    "start_time": "2024-09-25T00:21:58.514Z"
   },
   {
    "duration": 25,
    "start_time": "2024-09-25T00:21:58.589Z"
   },
   {
    "duration": 4,
    "start_time": "2024-09-25T00:21:58.615Z"
   },
   {
    "duration": 3,
    "start_time": "2024-09-25T00:21:58.620Z"
   },
   {
    "duration": 3,
    "start_time": "2024-09-25T00:21:58.626Z"
   },
   {
    "duration": 768,
    "start_time": "2024-09-25T00:24:39.641Z"
   },
   {
    "duration": 21,
    "start_time": "2024-09-25T00:24:40.411Z"
   },
   {
    "duration": 3,
    "start_time": "2024-09-25T00:24:40.434Z"
   },
   {
    "duration": 6,
    "start_time": "2024-09-25T00:24:40.439Z"
   },
   {
    "duration": 56,
    "start_time": "2024-09-25T00:24:40.447Z"
   },
   {
    "duration": 1285,
    "start_time": "2024-09-25T00:24:40.505Z"
   },
   {
    "duration": 21,
    "start_time": "2024-09-25T00:24:41.792Z"
   },
   {
    "duration": 101,
    "start_time": "2024-09-25T00:24:41.814Z"
   },
   {
    "duration": 75,
    "start_time": "2024-09-25T00:24:41.917Z"
   },
   {
    "duration": 26,
    "start_time": "2024-09-25T00:24:41.994Z"
   },
   {
    "duration": 5,
    "start_time": "2024-09-25T00:24:42.022Z"
   },
   {
    "duration": 3,
    "start_time": "2024-09-25T00:24:42.029Z"
   },
   {
    "duration": 4,
    "start_time": "2024-09-25T00:24:42.034Z"
   },
   {
    "duration": 781,
    "start_time": "2024-09-25T00:24:51.671Z"
   },
   {
    "duration": 32,
    "start_time": "2024-09-25T00:24:52.455Z"
   },
   {
    "duration": 4,
    "start_time": "2024-09-25T00:24:52.489Z"
   },
   {
    "duration": 6,
    "start_time": "2024-09-25T00:24:52.495Z"
   },
   {
    "duration": 40,
    "start_time": "2024-09-25T00:24:52.505Z"
   },
   {
    "duration": 1338,
    "start_time": "2024-09-25T00:24:52.548Z"
   },
   {
    "duration": 18,
    "start_time": "2024-09-25T00:24:53.888Z"
   },
   {
    "duration": 107,
    "start_time": "2024-09-25T00:24:53.910Z"
   },
   {
    "duration": 13,
    "start_time": "2024-09-25T00:24:54.019Z"
   },
   {
    "duration": 78,
    "start_time": "2024-09-25T00:24:54.033Z"
   },
   {
    "duration": 5,
    "start_time": "2024-09-25T00:24:54.113Z"
   },
   {
    "duration": 3,
    "start_time": "2024-09-25T00:24:54.119Z"
   },
   {
    "duration": 3,
    "start_time": "2024-09-25T00:24:54.124Z"
   },
   {
    "duration": 826,
    "start_time": "2024-09-25T00:25:18.940Z"
   },
   {
    "duration": 27,
    "start_time": "2024-09-25T00:25:19.769Z"
   },
   {
    "duration": 4,
    "start_time": "2024-09-25T00:25:19.798Z"
   },
   {
    "duration": 6,
    "start_time": "2024-09-25T00:25:19.804Z"
   },
   {
    "duration": 36,
    "start_time": "2024-09-25T00:25:19.814Z"
   },
   {
    "duration": 1320,
    "start_time": "2024-09-25T00:25:19.852Z"
   },
   {
    "duration": 17,
    "start_time": "2024-09-25T00:25:21.175Z"
   },
   {
    "duration": 110,
    "start_time": "2024-09-25T00:25:21.194Z"
   },
   {
    "duration": 11,
    "start_time": "2024-09-25T00:25:21.306Z"
   },
   {
    "duration": 24,
    "start_time": "2024-09-25T00:25:21.319Z"
   },
   {
    "duration": 4,
    "start_time": "2024-09-25T00:25:21.345Z"
   },
   {
    "duration": 37,
    "start_time": "2024-09-25T00:25:21.350Z"
   },
   {
    "duration": 3,
    "start_time": "2024-09-25T00:25:21.389Z"
   },
   {
    "duration": 814,
    "start_time": "2024-09-25T00:26:31.027Z"
   },
   {
    "duration": 22,
    "start_time": "2024-09-25T00:26:31.843Z"
   },
   {
    "duration": 4,
    "start_time": "2024-09-25T00:26:31.867Z"
   },
   {
    "duration": 19,
    "start_time": "2024-09-25T00:26:31.872Z"
   },
   {
    "duration": 36,
    "start_time": "2024-09-25T00:26:31.893Z"
   },
   {
    "duration": 1303,
    "start_time": "2024-09-25T00:26:31.931Z"
   },
   {
    "duration": 14,
    "start_time": "2024-09-25T00:26:33.236Z"
   },
   {
    "duration": 137,
    "start_time": "2024-09-25T00:26:33.254Z"
   },
   {
    "duration": 12,
    "start_time": "2024-09-25T00:26:33.393Z"
   },
   {
    "duration": 24,
    "start_time": "2024-09-25T00:26:33.407Z"
   },
   {
    "duration": 4,
    "start_time": "2024-09-25T00:26:33.433Z"
   },
   {
    "duration": 3,
    "start_time": "2024-09-25T00:26:33.439Z"
   },
   {
    "duration": 4,
    "start_time": "2024-09-25T00:26:33.443Z"
   },
   {
    "duration": 815,
    "start_time": "2024-09-25T00:27:42.548Z"
   },
   {
    "duration": 29,
    "start_time": "2024-09-25T00:27:43.365Z"
   },
   {
    "duration": 3,
    "start_time": "2024-09-25T00:27:43.396Z"
   },
   {
    "duration": 5,
    "start_time": "2024-09-25T00:27:43.402Z"
   },
   {
    "duration": 35,
    "start_time": "2024-09-25T00:27:43.409Z"
   },
   {
    "duration": 1304,
    "start_time": "2024-09-25T00:27:43.446Z"
   },
   {
    "duration": 11,
    "start_time": "2024-09-25T00:27:44.752Z"
   },
   {
    "duration": 112,
    "start_time": "2024-09-25T00:27:44.786Z"
   },
   {
    "duration": 11,
    "start_time": "2024-09-25T00:27:44.899Z"
   },
   {
    "duration": 25,
    "start_time": "2024-09-25T00:27:44.913Z"
   },
   {
    "duration": 4,
    "start_time": "2024-09-25T00:27:44.939Z"
   },
   {
    "duration": 3,
    "start_time": "2024-09-25T00:27:44.945Z"
   },
   {
    "duration": 3,
    "start_time": "2024-09-25T00:27:44.950Z"
   },
   {
    "duration": 8,
    "start_time": "2024-09-25T07:57:07.941Z"
   },
   {
    "duration": 160,
    "start_time": "2024-09-26T06:05:40.865Z"
   },
   {
    "duration": 13,
    "start_time": "2024-09-26T06:06:00.222Z"
   },
   {
    "duration": 818,
    "start_time": "2024-09-26T06:06:05.329Z"
   },
   {
    "duration": 31,
    "start_time": "2024-09-26T06:06:06.150Z"
   },
   {
    "duration": 3,
    "start_time": "2024-09-26T06:06:06.183Z"
   },
   {
    "duration": 83,
    "start_time": "2024-09-26T06:06:06.187Z"
   },
   {
    "duration": 1,
    "start_time": "2024-09-26T06:06:06.272Z"
   },
   {
    "duration": 0,
    "start_time": "2024-09-26T06:06:06.274Z"
   },
   {
    "duration": 0,
    "start_time": "2024-09-26T06:06:06.275Z"
   },
   {
    "duration": 0,
    "start_time": "2024-09-26T06:06:06.276Z"
   },
   {
    "duration": 0,
    "start_time": "2024-09-26T06:06:06.277Z"
   },
   {
    "duration": 0,
    "start_time": "2024-09-26T06:06:06.278Z"
   },
   {
    "duration": 0,
    "start_time": "2024-09-26T06:06:06.279Z"
   },
   {
    "duration": 0,
    "start_time": "2024-09-26T06:06:06.280Z"
   },
   {
    "duration": 0,
    "start_time": "2024-09-26T06:06:06.281Z"
   },
   {
    "duration": 6,
    "start_time": "2024-09-26T06:06:55.946Z"
   },
   {
    "duration": 19,
    "start_time": "2024-09-26T06:08:30.650Z"
   },
   {
    "duration": 32,
    "start_time": "2024-09-26T06:09:00.900Z"
   },
   {
    "duration": 7,
    "start_time": "2024-09-26T06:09:21.219Z"
   },
   {
    "duration": 32,
    "start_time": "2024-09-26T06:09:25.663Z"
   },
   {
    "duration": 4,
    "start_time": "2024-09-26T06:09:35.905Z"
   },
   {
    "duration": 20,
    "start_time": "2024-09-26T06:09:35.911Z"
   },
   {
    "duration": 3,
    "start_time": "2024-09-26T06:09:35.933Z"
   },
   {
    "duration": 6,
    "start_time": "2024-09-26T06:09:35.938Z"
   },
   {
    "duration": 32,
    "start_time": "2024-09-26T06:09:35.946Z"
   },
   {
    "duration": 1002,
    "start_time": "2024-09-26T06:09:35.980Z"
   },
   {
    "duration": 11,
    "start_time": "2024-09-26T06:09:36.984Z"
   },
   {
    "duration": 38,
    "start_time": "2024-09-26T06:09:36.997Z"
   },
   {
    "duration": 8,
    "start_time": "2024-09-26T06:09:37.037Z"
   },
   {
    "duration": 25,
    "start_time": "2024-09-26T06:09:37.047Z"
   },
   {
    "duration": 3,
    "start_time": "2024-09-26T06:09:37.075Z"
   },
   {
    "duration": 28,
    "start_time": "2024-09-26T06:09:37.080Z"
   },
   {
    "duration": 3,
    "start_time": "2024-09-26T06:09:37.110Z"
   },
   {
    "duration": 30,
    "start_time": "2024-09-26T06:10:15.300Z"
   },
   {
    "duration": 31,
    "start_time": "2024-09-26T06:11:08.626Z"
   },
   {
    "duration": 779,
    "start_time": "2024-09-26T06:12:15.159Z"
   },
   {
    "duration": 21,
    "start_time": "2024-09-26T06:12:15.940Z"
   },
   {
    "duration": 3,
    "start_time": "2024-09-26T06:12:15.963Z"
   },
   {
    "duration": 7,
    "start_time": "2024-09-26T06:12:15.968Z"
   },
   {
    "duration": 55,
    "start_time": "2024-09-26T06:12:15.978Z"
   },
   {
    "duration": 984,
    "start_time": "2024-09-26T06:12:16.035Z"
   },
   {
    "duration": 10,
    "start_time": "2024-09-26T06:12:17.021Z"
   },
   {
    "duration": 29,
    "start_time": "2024-09-26T06:12:17.033Z"
   },
   {
    "duration": 8,
    "start_time": "2024-09-26T06:12:17.063Z"
   },
   {
    "duration": 49,
    "start_time": "2024-09-26T06:12:17.073Z"
   },
   {
    "duration": 4,
    "start_time": "2024-09-26T06:12:17.124Z"
   },
   {
    "duration": 3,
    "start_time": "2024-09-26T06:12:17.130Z"
   },
   {
    "duration": 3,
    "start_time": "2024-09-26T06:12:17.134Z"
   },
   {
    "duration": 32,
    "start_time": "2024-09-26T06:16:38.285Z"
   },
   {
    "duration": 33,
    "start_time": "2024-09-26T06:16:49.676Z"
   },
   {
    "duration": 10,
    "start_time": "2024-09-26T06:21:39.135Z"
   },
   {
    "duration": 3,
    "start_time": "2024-09-26T06:22:51.103Z"
   },
   {
    "duration": 3,
    "start_time": "2024-09-26T06:22:53.016Z"
   },
   {
    "duration": 3,
    "start_time": "2024-09-26T06:23:06.453Z"
   },
   {
    "duration": 3,
    "start_time": "2024-09-26T06:23:19.901Z"
   },
   {
    "duration": 784,
    "start_time": "2024-09-26T06:24:29.005Z"
   },
   {
    "duration": 23,
    "start_time": "2024-09-26T06:24:29.792Z"
   },
   {
    "duration": 3,
    "start_time": "2024-09-26T06:24:29.817Z"
   },
   {
    "duration": 6,
    "start_time": "2024-09-26T06:24:29.822Z"
   },
   {
    "duration": 31,
    "start_time": "2024-09-26T06:24:29.831Z"
   },
   {
    "duration": 1008,
    "start_time": "2024-09-26T06:24:29.863Z"
   },
   {
    "duration": 12,
    "start_time": "2024-09-26T06:24:30.873Z"
   },
   {
    "duration": 22,
    "start_time": "2024-09-26T06:24:30.887Z"
   },
   {
    "duration": 24,
    "start_time": "2024-09-26T06:24:30.910Z"
   },
   {
    "duration": 4,
    "start_time": "2024-09-26T06:24:30.936Z"
   },
   {
    "duration": 3,
    "start_time": "2024-09-26T06:24:30.941Z"
   },
   {
    "duration": 3,
    "start_time": "2024-09-26T06:24:30.946Z"
   }
  ],
  "kernelspec": {
   "display_name": "Python 3 (ipykernel)",
   "language": "python",
   "name": "python3"
  },
  "language_info": {
   "codemirror_mode": {
    "name": "ipython",
    "version": 3
   },
   "file_extension": ".py",
   "mimetype": "text/x-python",
   "name": "python",
   "nbconvert_exporter": "python",
   "pygments_lexer": "ipython3",
   "version": "3.12.4"
  },
  "toc": {
   "base_numbering": 1,
   "nav_menu": {},
   "number_sections": true,
   "sideBar": true,
   "skip_h1_title": true,
   "title_cell": "Table of Contents",
   "title_sidebar": "Contents",
   "toc_cell": false,
   "toc_position": {},
   "toc_section_display": true,
   "toc_window_display": false
  }
 },
 "nbformat": 4,
 "nbformat_minor": 4
}

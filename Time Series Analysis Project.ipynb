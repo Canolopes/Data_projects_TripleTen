{
 "cells": [
  {
   "cell_type": "markdown",
   "metadata": {},
   "source": [
    "<div style=\"border-radius: 15px; border: 3px solid indigo; padding: 15px;\">\n",
    "<b> Reviewer's comment 2</b>\n",
    "    \n",
    "Thank you for updates! My new comments have digit 2. \n",
    "    \n",
    "    \n",
    "I do not have any questions, so I can accept the project now. Thank you again for such an excellent job here. \n",
    "    \n",
    "    \n",
    "If you are interested in this topic, please take a look at the small [Time Series Course](https://www.kaggle.com/learn/time-series) on Kaggle. There are just several lessons there, and in the end of this course you will apply your knowledge on the sales dataset that is provided for an ongoing [Store Sales Time Series Forecasting Competition](https://www.kaggle.com/competitions/store-sales-time-series-forecasting) with no rewards except for knowledge :) You can use their dataset for your practice and you can submit your notebook to run the model on the hidden test subset.     \n",
    "    \n",
    "    \n",
    "Congratulations and good luck! \n",
    "    \n",
    "</div>"
   ]
  },
  {
   "cell_type": "markdown",
   "metadata": {},
   "source": [
    "<div style=\"border-radius: 15px; border: 3px solid indigo; padding: 15px;\">\n",
    "<b> Reviewer's comment</b>\n",
    "    \n",
    "Hi Enrique! I am a reviewer on this project. Congratulations on submitting time series project! 🎉\n",
    "    \n",
    "\n",
    "Before we start, I want to pay your attention to the color marking:\n",
    "    \n",
    "<div class=\"alert alert-success\" style=\"border-radius: 15px; box-shadow: 4px 4px 4px; border: 1px solid \">\n",
    "<b> Reviewer's comment ✔️</b>\n",
    "    \n",
    "Great solutions and ideas that can and should be used in the future are in green comments.   \n",
    "</div>    \n",
    "    \n",
    "    \n",
    "<div class=\"alert alert-warning\" style=\"border-radius: 15px; box-shadow: 4px 4px 4px; border: 1px solid \">\n",
    "<b> Reviewer's comment ⚠️</b>\n",
    "\n",
    "Yellow color indicates what should be optimized. This is not necessary, but it will be great if you make changes to this project.\n",
    "</div>      \n",
    "    \n",
    "    \n",
    "<div class=\"alert alert-danger\" style=\"border-radius: 15px; box-shadow: 4px 4px 4px; border: 1px solid \">\n",
    "<b> Reviewer's comment ❌</b>\n",
    "\n",
    "Issues that need to be corrected to get right results are indicated in red comments. Note that the project cannot be accepted until these issues are resolved.\n",
    "</div>    \n",
    "\n",
    "<hr>\n",
    "    \n",
    "**Please, use some color other than those listed to highlight answers to my comments.**\n",
    "I would also ask you **not to change, move or delete my comments** so that it would be easier for me to navigate during the next review.\n",
    "    \n",
    "In addition, my comments are defined as headings. \n",
    "They can mess up the content; however, they are convenient, since you can immediately go to them. I will remove the headings from my comments in the next review. \n",
    "   \n",
    "    \n",
    "    \n",
    "<hr>\n",
    "    \n",
    "<font color='dodgerblue'>**A few words about the project:**</font> thank you very much for submitting the project! You did a fantastic job here, and I hope you enjoyed this topic. You have successfully trained several models and analyzed time series, which is great! However, there're a couple of issues that need your attention. Would you take a look at my comments?\n",
    "    \n",
    "\n",
    "</div>"
   ]
  },
  {
   "cell_type": "markdown",
   "metadata": {},
   "source": [
    "# Model Creation for Sweet Lift Taxi Company"
   ]
  },
  {
   "cell_type": "markdown",
   "metadata": {},
   "source": [
    "# Project description\n",
    "\n",
    "Sweet Lift Taxi company has collected historical data on taxi orders at airports. To attract more drivers during peak hours, we need to predict the amount of taxi orders for the next hour. Build a model for such a prediction.\n",
    "\n",
    "The RMSE metric on the test set should not be more than 48.\n",
    "\n",
    "## Project instructions\n",
    "\n",
    "1. Download the data and resample it by one hour.\n",
    "2. Analyze the data.\n",
    "3. Train different models with different hyperparameters. The test sample should be 10% of the initial dataset. \n",
    "4. Test the data using the test sample and provide a conclusion.\n",
    "\n",
    "## Data description\n",
    "\n",
    "The data is stored in file `taxi.csv`. The number of orders is in the '*num_orders*' column."
   ]
  },
  {
   "cell_type": "markdown",
   "metadata": {},
   "source": [
    "<div class=\"alert alert-success\" style=\"border-radius: 15px; box-shadow: 4px 4px 4px; border: 1px solid \">\n",
    "<h2>   Reviewer's comment </h2>\n",
    "    \n",
    "Good introduction! \n",
    "\n",
    "</div>\n",
    "<div class=\"alert alert-warning\" style=\"border-radius: 15px; box-shadow: 4px 4px 4px; border: 1px solid \">\n",
    "<h2>  Reviewer's comment </h2>\n",
    "    \n",
    "\n",
    "Don't forget about project title :) \n",
    "\n",
    "</div>\n",
    "<div class=\"alert alert-success\" style=\"border-radius: 15px; box-shadow: 4px 4px 4px; border: 1px solid \">\n",
    "<h2>   Reviewer's comment 2 </h2>\n",
    "    \n",
    "Good! \n",
    "\n",
    "</div>"
   ]
  },
  {
   "cell_type": "markdown",
   "metadata": {},
   "source": [
    "## Preparation"
   ]
  },
  {
   "cell_type": "code",
   "execution_count": 1,
   "metadata": {},
   "outputs": [],
   "source": [
    "#Let's import our necessary libraries\n",
    "import numpy as np\n",
    "import pandas as pd \n",
    "import numpy as np\n",
    "import pandas as pd\n",
    "import matplotlib.pyplot as plt\n",
    "from sklearn.model_selection import train_test_split\n",
    "from statsmodels.tsa.arima.model import ARIMA\n",
    "from statsmodels.tsa.ar_model import AutoReg, ar_select_order\n",
    "from statsmodels.graphics.tsaplots import plot_acf, plot_pacf\n",
    "from statsmodels.tsa.statespace.sarimax import SARIMAX\n",
    "from statsmodels.tsa.seasonal import seasonal_decompose\n",
    "from pmdarima import auto_arima\n",
    "from sklearn.metrics import mean_squared_error, make_scorer\n",
    "from sklearn.linear_model import LinearRegression\n",
    "from sklearn.ensemble import RandomForestRegressor\n",
    "from sklearn.model_selection import GridSearchCV, TimeSeriesSplit\n",
    "import lightgbm as lgb"
   ]
  },
  {
   "cell_type": "code",
   "execution_count": 2,
   "metadata": {
    "scrolled": true
   },
   "outputs": [
    {
     "name": "stdout",
     "output_type": "stream",
     "text": [
      "<class 'pandas.core.frame.DataFrame'>\n",
      "DatetimeIndex: 26496 entries, 2018-03-01 00:00:00 to 2018-08-31 23:50:00\n",
      "Data columns (total 1 columns):\n",
      " #   Column      Non-Null Count  Dtype\n",
      "---  ------      --------------  -----\n",
      " 0   num_orders  26496 non-null  int64\n",
      "dtypes: int64(1)\n",
      "memory usage: 414.0 KB\n"
     ]
    },
    {
     "data": {
      "text/plain": [
       "None"
      ]
     },
     "metadata": {},
     "output_type": "display_data"
    },
    {
     "data": {
      "text/plain": [
       "num_orders    0\n",
       "dtype: int64"
      ]
     },
     "metadata": {},
     "output_type": "display_data"
    },
    {
     "data": {
      "text/html": [
       "<div>\n",
       "<style scoped>\n",
       "    .dataframe tbody tr th:only-of-type {\n",
       "        vertical-align: middle;\n",
       "    }\n",
       "\n",
       "    .dataframe tbody tr th {\n",
       "        vertical-align: top;\n",
       "    }\n",
       "\n",
       "    .dataframe thead th {\n",
       "        text-align: right;\n",
       "    }\n",
       "</style>\n",
       "<table border=\"1\" class=\"dataframe\">\n",
       "  <thead>\n",
       "    <tr style=\"text-align: right;\">\n",
       "      <th></th>\n",
       "      <th>num_orders</th>\n",
       "    </tr>\n",
       "    <tr>\n",
       "      <th>datetime</th>\n",
       "      <th></th>\n",
       "    </tr>\n",
       "  </thead>\n",
       "  <tbody>\n",
       "    <tr>\n",
       "      <th>2018-03-01 00:00:00</th>\n",
       "      <td>9</td>\n",
       "    </tr>\n",
       "    <tr>\n",
       "      <th>2018-03-01 00:10:00</th>\n",
       "      <td>14</td>\n",
       "    </tr>\n",
       "    <tr>\n",
       "      <th>2018-03-01 00:20:00</th>\n",
       "      <td>28</td>\n",
       "    </tr>\n",
       "    <tr>\n",
       "      <th>2018-03-01 00:30:00</th>\n",
       "      <td>20</td>\n",
       "    </tr>\n",
       "    <tr>\n",
       "      <th>2018-03-01 00:40:00</th>\n",
       "      <td>32</td>\n",
       "    </tr>\n",
       "    <tr>\n",
       "      <th>2018-03-01 00:50:00</th>\n",
       "      <td>21</td>\n",
       "    </tr>\n",
       "    <tr>\n",
       "      <th>2018-03-01 01:00:00</th>\n",
       "      <td>7</td>\n",
       "    </tr>\n",
       "    <tr>\n",
       "      <th>2018-03-01 01:10:00</th>\n",
       "      <td>5</td>\n",
       "    </tr>\n",
       "    <tr>\n",
       "      <th>2018-03-01 01:20:00</th>\n",
       "      <td>17</td>\n",
       "    </tr>\n",
       "    <tr>\n",
       "      <th>2018-03-01 01:30:00</th>\n",
       "      <td>12</td>\n",
       "    </tr>\n",
       "  </tbody>\n",
       "</table>\n",
       "</div>"
      ],
      "text/plain": [
       "                     num_orders\n",
       "datetime                       \n",
       "2018-03-01 00:00:00           9\n",
       "2018-03-01 00:10:00          14\n",
       "2018-03-01 00:20:00          28\n",
       "2018-03-01 00:30:00          20\n",
       "2018-03-01 00:40:00          32\n",
       "2018-03-01 00:50:00          21\n",
       "2018-03-01 01:00:00           7\n",
       "2018-03-01 01:10:00           5\n",
       "2018-03-01 01:20:00          17\n",
       "2018-03-01 01:30:00          12"
      ]
     },
     "execution_count": 2,
     "metadata": {},
     "output_type": "execute_result"
    }
   ],
   "source": [
    "#Unpacking our data\n",
    "taxi = pd.read_csv('/datasets/taxi.csv', parse_dates=['datetime'])\n",
    "taxi = taxi.set_index(['datetime'])\n",
    "display(taxi.info())\n",
    "display(taxi.isna().sum())\n",
    "taxi.head(10)"
   ]
  },
  {
   "cell_type": "code",
   "execution_count": 3,
   "metadata": {},
   "outputs": [
    {
     "data": {
      "text/plain": [
       "True"
      ]
     },
     "execution_count": 3,
     "metadata": {},
     "output_type": "execute_result"
    }
   ],
   "source": [
    "taxi.index.is_monotonic"
   ]
  },
  {
   "cell_type": "markdown",
   "metadata": {},
   "source": [
    "No missing values and we have successfully turned our dataframe into a time series and confirmed it is in chronological order."
   ]
  },
  {
   "cell_type": "code",
   "execution_count": 4,
   "metadata": {},
   "outputs": [
    {
     "data": {
      "image/png": "[encoded data removed]",
      "text/plain": [
       "<Figure size 640x480 with 1 Axes>"
      ]
     },
     "metadata": {},
     "output_type": "display_data"
    }
   ],
   "source": [
    "#Resample the data by one hour\n",
    "\n",
    "taxi = taxi.resample('1H').sum() #sum of all orders every hour\n",
    "taxi['2018-03-01':'2018-03-02'].plot(xlabel='Time by Hour', title='Number of Orders per Hour')\n",
    "plt.legend().remove()\n",
    "plt.show()"
   ]
  },
  {
   "cell_type": "markdown",
   "metadata": {},
   "source": [
    "## Analysis"
   ]
  },
  {
   "cell_type": "markdown",
   "metadata": {},
   "source": [
    "It looks like orders seem to spike as the day goes on and spikes the highest at night. However, we have only looked at two days, let's see how it looks on other days. "
   ]
  },
  {
   "cell_type": "code",
   "execution_count": 5,
   "metadata": {},
   "outputs": [
    {
     "data": {
      "image/png": "[encoded data removed]",
      "text/plain": [
       "<Figure size 640x480 with 1 Axes>"
      ]
     },
     "metadata": {},
     "output_type": "display_data"
    }
   ],
   "source": [
    "taxi['2018-04-24':'2018-04-26'].plot(xlabel='Time by Hour', title='Number of Orders per Hour')\n",
    "plt.legend().remove()\n",
    "plt.tight_layout()\n",
    "plt.show()"
   ]
  },
  {
   "cell_type": "code",
   "execution_count": 6,
   "metadata": {},
   "outputs": [
    {
     "data": {
      "image/png": "[encoded data removed]",
      "text/plain": [
       "<Figure size 640x480 with 1 Axes>"
      ]
     },
     "metadata": {},
     "output_type": "display_data"
    }
   ],
   "source": [
    "taxi['2018-06-24':'2018-06-26'].plot(xlabel='Time by Hour', title='Number of Orders per Hour')\n",
    "plt.legend().remove()\n",
    "plt.tight_layout()\n",
    "plt.show()"
   ]
  },
  {
   "cell_type": "markdown",
   "metadata": {},
   "source": [
    "Based on the eye test, it does look like orders will consistently dip in the early mornings around 6am, and spike past 11pm. The average number of orders increases throughout the day, but certainly not linearly. "
   ]
  },
  {
   "cell_type": "code",
   "execution_count": 7,
   "metadata": {
    "scrolled": true
   },
   "outputs": [
    {
     "data": {
      "image/png": "[encoded data removed]",
      "text/plain": [
       "<Figure size 640x480 with 1 Axes>"
      ]
     },
     "metadata": {},
     "output_type": "display_data"
    }
   ],
   "source": [
    "#Checking for seasonality\n",
    "\n",
    "decomposed = seasonal_decompose(taxi)\n",
    "decomposed.seasonal['2018-06-01':'2018-06-05'].plot(xlabel='Date', title='Seasonality')\n",
    "plt.legend().remove()\n",
    "plt.tight_layout()\n",
    "plt.show()"
   ]
  },
  {
   "cell_type": "markdown",
   "metadata": {},
   "source": [
    "The seasonality graph confirms the peaks and troughs of certain times of each day. (v2)"
   ]
  },
  {
   "cell_type": "markdown",
   "metadata": {},
   "source": [
    "<div class=\"alert alert-success\" style=\"border-radius: 15px; box-shadow: 4px 4px 4px; border: 1px solid \">\n",
    "<h2>   Reviewer's comment </h2>\n",
    "    \n",
    "Good. We may have daily seasonality, which makes sense in such dataset.    \n",
    "\n",
    "</div>\n",
    "<div class=\"alert alert-warning\" style=\"border-radius: 15px; box-shadow: 4px 4px 4px; border: 1px solid \">\n",
    "<b>   Reviewer's comment </b>\n",
    "    \n",
    "    \n",
    "- Please don't forget to add titles and labels.\n",
    "    \n",
    "    \n",
    "    \n",
    "- The legend can be disabled. \n",
    "\n",
    "\n",
    "- You can use `statsmodels` to analyze seasonality. There's a method `seasonal_decompose` there, which applies seasonal decomposition using moving averages. Apart from this, `statsmodels` has many interesting tools for time series analysis. \n",
    "\n",
    "</div>\n",
    "<div class=\"alert alert-success\" style=\"border-radius: 15px; box-shadow: 4px 4px 4px; border: 1px solid \">\n",
    "<h2>   Reviewer's comment 2 </h2>\n",
    "    \n",
    "Looks great! \n",
    "</div>"
   ]
  },
  {
   "cell_type": "markdown",
   "metadata": {},
   "source": [
    "To begin with our time series model, we will need to engineer new features to the dataset."
   ]
  },
  {
   "cell_type": "code",
   "execution_count": 8,
   "metadata": {
    "scrolled": true
   },
   "outputs": [
    {
     "data": {
      "text/html": [
       "<div>\n",
       "<style scoped>\n",
       "    .dataframe tbody tr th:only-of-type {\n",
       "        vertical-align: middle;\n",
       "    }\n",
       "\n",
       "    .dataframe tbody tr th {\n",
       "        vertical-align: top;\n",
       "    }\n",
       "\n",
       "    .dataframe thead th {\n",
       "        text-align: right;\n",
       "    }\n",
       "</style>\n",
       "<table border=\"1\" class=\"dataframe\">\n",
       "  <thead>\n",
       "    <tr style=\"text-align: right;\">\n",
       "      <th></th>\n",
       "      <th>num_orders</th>\n",
       "      <th>hour</th>\n",
       "      <th>day_of_week</th>\n",
       "      <th>lag_1</th>\n",
       "      <th>lag_24</th>\n",
       "      <th>lag_1_week</th>\n",
       "      <th>rolling_1day_mean</th>\n",
       "      <th>rolling_3day_mean</th>\n",
       "    </tr>\n",
       "    <tr>\n",
       "      <th>datetime</th>\n",
       "      <th></th>\n",
       "      <th></th>\n",
       "      <th></th>\n",
       "      <th></th>\n",
       "      <th></th>\n",
       "      <th></th>\n",
       "      <th></th>\n",
       "      <th></th>\n",
       "    </tr>\n",
       "  </thead>\n",
       "  <tbody>\n",
       "    <tr>\n",
       "      <th>2018-06-21 17:00:00</th>\n",
       "      <td>100</td>\n",
       "      <td>17</td>\n",
       "      <td>3</td>\n",
       "      <td>92.0</td>\n",
       "      <td>103.0</td>\n",
       "      <td>124.0</td>\n",
       "      <td>80.666667</td>\n",
       "      <td>79.250000</td>\n",
       "    </tr>\n",
       "    <tr>\n",
       "      <th>2018-04-17 19:00:00</th>\n",
       "      <td>71</td>\n",
       "      <td>19</td>\n",
       "      <td>1</td>\n",
       "      <td>49.0</td>\n",
       "      <td>64.0</td>\n",
       "      <td>71.0</td>\n",
       "      <td>56.666667</td>\n",
       "      <td>61.555556</td>\n",
       "    </tr>\n",
       "    <tr>\n",
       "      <th>2018-07-02 22:00:00</th>\n",
       "      <td>71</td>\n",
       "      <td>22</td>\n",
       "      <td>0</td>\n",
       "      <td>83.0</td>\n",
       "      <td>103.0</td>\n",
       "      <td>89.0</td>\n",
       "      <td>98.000000</td>\n",
       "      <td>93.597222</td>\n",
       "    </tr>\n",
       "    <tr>\n",
       "      <th>2018-04-21 18:00:00</th>\n",
       "      <td>45</td>\n",
       "      <td>18</td>\n",
       "      <td>5</td>\n",
       "      <td>61.0</td>\n",
       "      <td>62.0</td>\n",
       "      <td>61.0</td>\n",
       "      <td>79.125000</td>\n",
       "      <td>70.430556</td>\n",
       "    </tr>\n",
       "    <tr>\n",
       "      <th>2018-04-23 02:00:00</th>\n",
       "      <td>129</td>\n",
       "      <td>2</td>\n",
       "      <td>0</td>\n",
       "      <td>74.0</td>\n",
       "      <td>102.0</td>\n",
       "      <td>79.0</td>\n",
       "      <td>67.416667</td>\n",
       "      <td>69.652778</td>\n",
       "    </tr>\n",
       "    <tr>\n",
       "      <th>2018-07-10 15:00:00</th>\n",
       "      <td>80</td>\n",
       "      <td>15</td>\n",
       "      <td>1</td>\n",
       "      <td>97.0</td>\n",
       "      <td>122.0</td>\n",
       "      <td>95.0</td>\n",
       "      <td>90.625000</td>\n",
       "      <td>90.166667</td>\n",
       "    </tr>\n",
       "    <tr>\n",
       "      <th>2018-04-19 02:00:00</th>\n",
       "      <td>94</td>\n",
       "      <td>2</td>\n",
       "      <td>3</td>\n",
       "      <td>37.0</td>\n",
       "      <td>91.0</td>\n",
       "      <td>76.0</td>\n",
       "      <td>68.166667</td>\n",
       "      <td>64.236111</td>\n",
       "    </tr>\n",
       "    <tr>\n",
       "      <th>2018-06-11 11:00:00</th>\n",
       "      <td>71</td>\n",
       "      <td>11</td>\n",
       "      <td>0</td>\n",
       "      <td>78.0</td>\n",
       "      <td>60.0</td>\n",
       "      <td>103.0</td>\n",
       "      <td>82.291667</td>\n",
       "      <td>86.305556</td>\n",
       "    </tr>\n",
       "    <tr>\n",
       "      <th>2018-08-15 09:00:00</th>\n",
       "      <td>131</td>\n",
       "      <td>9</td>\n",
       "      <td>2</td>\n",
       "      <td>92.0</td>\n",
       "      <td>135.0</td>\n",
       "      <td>122.0</td>\n",
       "      <td>115.416667</td>\n",
       "      <td>123.986111</td>\n",
       "    </tr>\n",
       "    <tr>\n",
       "      <th>2018-06-24 01:00:00</th>\n",
       "      <td>64</td>\n",
       "      <td>1</td>\n",
       "      <td>6</td>\n",
       "      <td>127.0</td>\n",
       "      <td>118.0</td>\n",
       "      <td>92.0</td>\n",
       "      <td>87.958333</td>\n",
       "      <td>85.722222</td>\n",
       "    </tr>\n",
       "  </tbody>\n",
       "</table>\n",
       "</div>"
      ],
      "text/plain": [
       "                     num_orders  hour  day_of_week  lag_1  lag_24  lag_1_week  \\\n",
       "datetime                                                                        \n",
       "2018-06-21 17:00:00         100    17            3   92.0   103.0       124.0   \n",
       "2018-04-17 19:00:00          71    19            1   49.0    64.0        71.0   \n",
       "2018-07-02 22:00:00          71    22            0   83.0   103.0        89.0   \n",
       "2018-04-21 18:00:00          45    18            5   61.0    62.0        61.0   \n",
       "2018-04-23 02:00:00         129     2            0   74.0   102.0        79.0   \n",
       "2018-07-10 15:00:00          80    15            1   97.0   122.0        95.0   \n",
       "2018-04-19 02:00:00          94     2            3   37.0    91.0        76.0   \n",
       "2018-06-11 11:00:00          71    11            0   78.0    60.0       103.0   \n",
       "2018-08-15 09:00:00         131     9            2   92.0   135.0       122.0   \n",
       "2018-06-24 01:00:00          64     1            6  127.0   118.0        92.0   \n",
       "\n",
       "                     rolling_1day_mean  rolling_3day_mean  \n",
       "datetime                                                   \n",
       "2018-06-21 17:00:00          80.666667          79.250000  \n",
       "2018-04-17 19:00:00          56.666667          61.555556  \n",
       "2018-07-02 22:00:00          98.000000          93.597222  \n",
       "2018-04-21 18:00:00          79.125000          70.430556  \n",
       "2018-04-23 02:00:00          67.416667          69.652778  \n",
       "2018-07-10 15:00:00          90.625000          90.166667  \n",
       "2018-04-19 02:00:00          68.166667          64.236111  \n",
       "2018-06-11 11:00:00          82.291667          86.305556  \n",
       "2018-08-15 09:00:00         115.416667         123.986111  \n",
       "2018-06-24 01:00:00          87.958333          85.722222  "
      ]
     },
     "metadata": {},
     "output_type": "display_data"
    },
    {
     "name": "stdout",
     "output_type": "stream",
     "text": [
      "<class 'pandas.core.frame.DataFrame'>\n",
      "DatetimeIndex: 4416 entries, 2018-03-01 00:00:00 to 2018-08-31 23:00:00\n",
      "Freq: H\n",
      "Data columns (total 8 columns):\n",
      " #   Column             Non-Null Count  Dtype  \n",
      "---  ------             --------------  -----  \n",
      " 0   num_orders         4416 non-null   int64  \n",
      " 1   hour               4416 non-null   int64  \n",
      " 2   day_of_week        4416 non-null   int64  \n",
      " 3   lag_1              4415 non-null   float64\n",
      " 4   lag_24             4392 non-null   float64\n",
      " 5   lag_1_week         4248 non-null   float64\n",
      " 6   rolling_1day_mean  4392 non-null   float64\n",
      " 7   rolling_3day_mean  4344 non-null   float64\n",
      "dtypes: float64(5), int64(3)\n",
      "memory usage: 439.5 KB\n"
     ]
    }
   ],
   "source": [
    "# Extract time-based features\n",
    "taxi['hour'] = taxi.index.hour\n",
    "taxi['day_of_week'] = taxi.index.dayofweek\n",
    "\n",
    "# Create lag features\n",
    "taxi['lag_1'] = taxi['num_orders'].shift(1) #The previous hour\n",
    "taxi['lag_24'] = taxi['num_orders'].shift(24) #Previous day on the same hour\n",
    "taxi['lag_1_week'] = taxi['num_orders'].shift(168) #7 days in the past\n",
    "\n",
    "# Rolling statistics\n",
    "taxi['rolling_1day_mean'] = taxi['num_orders'].shift(1).rolling(window=24).mean() #shifted 24-hour moving average\n",
    "taxi['rolling_3day_mean'] = taxi['num_orders'].shift(1).rolling(window=72).mean() #shifted 72_hour moving average\n",
    "display(taxi.sample(10))\n",
    "taxi.info()"
   ]
  },
  {
   "cell_type": "markdown",
   "metadata": {},
   "source": [
    "We shifted our moving averages in order to avoid target leakage since this metric uses the current (target) value of the time series into account. We don't want this as we want our model to only use historical data. \n",
    "\n",
    "This will introduce missing values into our dataset, but they can be dropped when we begin model training."
   ]
  },
  {
   "cell_type": "markdown",
   "metadata": {},
   "source": [
    "<div class=\"alert alert-success\" style=\"border-radius: 15px; box-shadow: 4px 4px 4px; border: 1px solid \">\n",
    "<h2>   Reviewer's comment </h2>\n",
    "    \n",
    "Correct. \n",
    "</div>"
   ]
  },
  {
   "cell_type": "markdown",
   "metadata": {},
   "source": [
    "## Training"
   ]
  },
  {
   "cell_type": "code",
   "execution_count": 9,
   "metadata": {},
   "outputs": [
    {
     "name": "stdout",
     "output_type": "stream",
     "text": [
      "Optimal number of lags: 12\n"
     ]
    }
   ],
   "source": [
    "#Split the data to begin model training\n",
    "\n",
    "train, temp = train_test_split(taxi, shuffle=False, test_size=0.2)\n",
    "valid, test = train_test_split(temp, shuffle=False, test_size=0.5)\n",
    "train = train.dropna()\n",
    "\n",
    "#Begin with an autoregressive model\n",
    "\n",
    "mod = ar_select_order(endog=train['num_orders'], maxlag=20,seasonal=True)\n",
    "ar_order = mod.ar_lags\n",
    "\n",
    "# create AR model and fit it using the training set\n",
    "ar_model = AutoReg(train['num_orders'], lags=ar_order)\n",
    "ar_model = ar_model.fit()\n",
    "\n",
    "# Print the number of optimal lags\n",
    "print(\"Optimal number of lags:\", len(ar_order))"
   ]
  },
  {
   "cell_type": "markdown",
   "metadata": {},
   "source": [
    "<div class=\"alert alert-success\" style=\"border-radius: 15px; box-shadow: 4px 4px 4px; border: 1px solid \">\n",
    "<h2>   Reviewer's comment </h2>\n",
    "    \n",
    "Good! \n",
    "\n",
    "</div>"
   ]
  },
  {
   "cell_type": "code",
   "execution_count": 10,
   "metadata": {},
   "outputs": [
    {
     "name": "stdout",
     "output_type": "stream",
     "text": [
      "86.26662930669983\n"
     ]
    },
    {
     "data": {
      "image/png": "[encoded data removed]",
      "text/plain": [
       "<Figure size 640x480 with 1 Axes>"
      ]
     },
     "metadata": {},
     "output_type": "display_data"
    }
   ],
   "source": [
    "#Make predictions\n",
    "start_value = len(train)\n",
    "end_value = len(train) + len(valid) - 1\n",
    "ar_pred = ar_model.predict(start=start_value, end=end_value, dynamic=False)\n",
    "\n",
    "#Evaluate model\n",
    "ar_rmse_value = mean_squared_error(test['num_orders'], ar_pred, squared=False)\n",
    "print(ar_rmse_value)\n",
    "\n",
    "#Visualize the results for the first 3 days of the test set\n",
    "plt.plot(ar_pred[:72], color='blue', label='pred')\n",
    "plt.plot(valid['num_orders'][:72], color='red', label='valid')\n",
    "plt.legend(loc=\"upper left\")\n",
    "plt.xticks(rotation=90)\n",
    "plt.show()"
   ]
  },
  {
   "cell_type": "markdown",
   "metadata": {},
   "source": [
    "This model was extremely poor at predicting incoming orders. Let's try the auto_arima function to find a more suitable model."
   ]
  },
  {
   "cell_type": "markdown",
   "metadata": {},
   "source": [
    "<div class=\"alert alert-success\" style=\"border-radius: 15px; box-shadow: 4px 4px 4px; border: 1px solid \">\n",
    "<h2>   Reviewer's comment </h2>\n",
    "    \n",
    "Yes, it definitely needs to be improved before we can use it.\n",
    "</div>"
   ]
  },
  {
   "cell_type": "code",
   "execution_count": 11,
   "metadata": {},
   "outputs": [
    {
     "name": "stdout",
     "output_type": "stream",
     "text": [
      "ARIMA RMSE: 41.65\n"
     ]
    }
   ],
   "source": [
    "# Create the RMSE scorer\n",
    "def rmse_scorer(y_true, y_pred):\n",
    "    return mean_squared_error(y_true, y_pred, squared=False)\n",
    "\n",
    "custom_scorer = make_scorer(rmse_scorer, greater_is_better=False)\n",
    "train_20d = train.last('20D') #Smaller sample for computational purposes\n",
    "\n",
    "# Fit auto ARIMA on the target variable\n",
    "model_auto = auto_arima(train_20d['num_orders'],\n",
    "                  seasonal=True,  #Taxi demand is seasonal\n",
    "                  m=24, # hourly data, so period is 24\n",
    "                  scoring = custom_scorer,\n",
    "                  start_p=0,\n",
    "                  start_q=0,\n",
    "                  max_p=1,    \n",
    "                  max_q=1,    \n",
    "                  max_d=1,   \n",
    "                  max_P=1,    \n",
    "                  max_Q=1,    \n",
    "                  max_D=1,\n",
    "                  stepwise=True)\n",
    "\n",
    "# Make predictions\n",
    "arima_pred = model_auto.predict(len(valid))\n",
    "\n",
    "# Calculate RMSE\n",
    "arima_rmse = mean_squared_error(valid['num_orders'], arima_pred, squared=False)\n",
    "print(f\"ARIMA RMSE: {arima_rmse:.2f}\")"
   ]
  },
  {
   "cell_type": "markdown",
   "metadata": {},
   "source": [
    "<div class=\"alert alert-success\" style=\"border-radius: 15px; box-shadow: 4px 4px 4px; border: 1px solid \">\n",
    "<h2>   Reviewer's comment </h2>\n",
    "    \n",
    "Nice code!\n",
    "</div>"
   ]
  },
  {
   "cell_type": "code",
   "execution_count": 12,
   "metadata": {
    "scrolled": false
   },
   "outputs": [
    {
     "data": {
      "image/png": "[encoded data removed]",
      "text/plain": [
       "<Figure size 1200x600 with 1 Axes>"
      ]
     },
     "metadata": {},
     "output_type": "display_data"
    }
   ],
   "source": [
    "#Visualize the results on validation set\n",
    "\n",
    "plt.figure(figsize=(12, 6))\n",
    "plt.plot(valid.index[:72], valid['num_orders'][:72], label='Actual', color='blue') #First 72 hours of validation data\n",
    "plt.plot(valid.index[:72], arima_pred[:72], label='Predicted', color='red')\n",
    "plt.xlabel('Time')\n",
    "plt.ylabel('Number of Orders')\n",
    "plt.title('Predicted vs Actual Taxi Orders')\n",
    "plt.legend()\n",
    "plt.xticks(rotation=90)\n",
    "plt.show()"
   ]
  },
  {
   "cell_type": "markdown",
   "metadata": {},
   "source": [
    "<div class=\"alert alert-success\" style=\"border-radius: 15px; box-shadow: 4px 4px 4px; border: 1px solid \">\n",
    "<h2> Reviewer's comment</h2>\n",
    "    \n",
    "Well done!     \n",
    "</div>\n"
   ]
  },
  {
   "cell_type": "code",
   "execution_count": 13,
   "metadata": {
    "scrolled": true
   },
   "outputs": [
    {
     "data": {
      "text/html": [
       "<table class=\"simpletable\">\n",
       "<caption>SARIMAX Results</caption>\n",
       "<tr>\n",
       "  <th>Dep. Variable:</th>              <td>y</td>           <th>  No. Observations:  </th>    <td>480</td>   \n",
       "</tr>\n",
       "<tr>\n",
       "  <th>Model:</th>           <td>SARIMAX(1, 0, [1], 24)</td> <th>  Log Likelihood     </th> <td>-2283.575</td>\n",
       "</tr>\n",
       "<tr>\n",
       "  <th>Date:</th>               <td>Mon, 11 Nov 2024</td>    <th>  AIC                </th> <td>4575.149</td> \n",
       "</tr>\n",
       "<tr>\n",
       "  <th>Time:</th>                   <td>06:55:01</td>        <th>  BIC                </th> <td>4591.844</td> \n",
       "</tr>\n",
       "<tr>\n",
       "  <th>Sample:</th>                <td>07-06-2018</td>       <th>  HQIC               </th> <td>4581.712</td> \n",
       "</tr>\n",
       "<tr>\n",
       "  <th></th>                      <td>- 07-26-2018</td>      <th>                     </th>     <td> </td>    \n",
       "</tr>\n",
       "<tr>\n",
       "  <th>Covariance Type:</th>           <td>opg</td>          <th>                     </th>     <td> </td>    \n",
       "</tr>\n",
       "</table>\n",
       "<table class=\"simpletable\">\n",
       "<tr>\n",
       "      <td></td>         <th>coef</th>     <th>std err</th>      <th>z</th>      <th>P>|z|</th>  <th>[0.025</th>    <th>0.975]</th>  \n",
       "</tr>\n",
       "<tr>\n",
       "  <th>intercept</th> <td>    8.0552</td> <td>    3.093</td> <td>    2.604</td> <td> 0.009</td> <td>    1.993</td> <td>   14.118</td>\n",
       "</tr>\n",
       "<tr>\n",
       "  <th>ar.S.L24</th>  <td>    0.9142</td> <td>    0.032</td> <td>   28.144</td> <td> 0.000</td> <td>    0.851</td> <td>    0.978</td>\n",
       "</tr>\n",
       "<tr>\n",
       "  <th>ma.S.L24</th>  <td>   -0.6625</td> <td>    0.076</td> <td>   -8.675</td> <td> 0.000</td> <td>   -0.812</td> <td>   -0.513</td>\n",
       "</tr>\n",
       "<tr>\n",
       "  <th>sigma2</th>    <td>  749.5817</td> <td>   36.403</td> <td>   20.591</td> <td> 0.000</td> <td>  678.234</td> <td>  820.929</td>\n",
       "</tr>\n",
       "</table>\n",
       "<table class=\"simpletable\">\n",
       "<tr>\n",
       "  <th>Ljung-Box (L1) (Q):</th>     <td>1.11</td> <th>  Jarque-Bera (JB):  </th> <td>146.99</td>\n",
       "</tr>\n",
       "<tr>\n",
       "  <th>Prob(Q):</th>                <td>0.29</td> <th>  Prob(JB):          </th>  <td>0.00</td> \n",
       "</tr>\n",
       "<tr>\n",
       "  <th>Heteroskedasticity (H):</th> <td>1.12</td> <th>  Skew:              </th>  <td>0.81</td> \n",
       "</tr>\n",
       "<tr>\n",
       "  <th>Prob(H) (two-sided):</th>    <td>0.48</td> <th>  Kurtosis:          </th>  <td>5.17</td> \n",
       "</tr>\n",
       "</table><br/><br/>Warnings:<br/>[1] Covariance matrix calculated using the outer product of gradients (complex-step)."
      ],
      "text/plain": [
       "<class 'statsmodels.iolib.summary.Summary'>\n",
       "\"\"\"\n",
       "                                 SARIMAX Results                                  \n",
       "==================================================================================\n",
       "Dep. Variable:                          y   No. Observations:                  480\n",
       "Model:             SARIMAX(1, 0, [1], 24)   Log Likelihood               -2283.575\n",
       "Date:                    Mon, 11 Nov 2024   AIC                           4575.149\n",
       "Time:                            06:55:01   BIC                           4591.844\n",
       "Sample:                        07-06-2018   HQIC                          4581.712\n",
       "                             - 07-26-2018                                         \n",
       "Covariance Type:                      opg                                         \n",
       "==============================================================================\n",
       "                 coef    std err          z      P>|z|      [0.025      0.975]\n",
       "------------------------------------------------------------------------------\n",
       "intercept      8.0552      3.093      2.604      0.009       1.993      14.118\n",
       "ar.S.L24       0.9142      0.032     28.144      0.000       0.851       0.978\n",
       "ma.S.L24      -0.6625      0.076     -8.675      0.000      -0.812      -0.513\n",
       "sigma2       749.5817     36.403     20.591      0.000     678.234     820.929\n",
       "===================================================================================\n",
       "Ljung-Box (L1) (Q):                   1.11   Jarque-Bera (JB):               146.99\n",
       "Prob(Q):                              0.29   Prob(JB):                         0.00\n",
       "Heteroskedasticity (H):               1.12   Skew:                             0.81\n",
       "Prob(H) (two-sided):                  0.48   Kurtosis:                         5.17\n",
       "===================================================================================\n",
       "\n",
       "Warnings:\n",
       "[1] Covariance matrix calculated using the outer product of gradients (complex-step).\n",
       "\"\"\""
      ]
     },
     "execution_count": 13,
     "metadata": {},
     "output_type": "execute_result"
    }
   ],
   "source": [
    "model_auto.summary()"
   ]
  },
  {
   "cell_type": "markdown",
   "metadata": {},
   "source": [
    "Results here are very accurate and meet our RMSE goal. However, we will still need to verify on our final test data. Additionally, we can continue to test other models."
   ]
  },
  {
   "cell_type": "code",
   "execution_count": 14,
   "metadata": {},
   "outputs": [
    {
     "data": {
      "text/html": [
       "<div>\n",
       "<style scoped>\n",
       "    .dataframe tbody tr th:only-of-type {\n",
       "        vertical-align: middle;\n",
       "    }\n",
       "\n",
       "    .dataframe tbody tr th {\n",
       "        vertical-align: top;\n",
       "    }\n",
       "\n",
       "    .dataframe thead th {\n",
       "        text-align: right;\n",
       "    }\n",
       "</style>\n",
       "<table border=\"1\" class=\"dataframe\">\n",
       "  <thead>\n",
       "    <tr style=\"text-align: right;\">\n",
       "      <th></th>\n",
       "      <th>num_orders</th>\n",
       "      <th>hour</th>\n",
       "      <th>day_of_week</th>\n",
       "      <th>lag_1</th>\n",
       "      <th>lag_24</th>\n",
       "      <th>lag_1_week</th>\n",
       "      <th>rolling_1day_mean</th>\n",
       "      <th>rolling_3day_mean</th>\n",
       "    </tr>\n",
       "    <tr>\n",
       "      <th>datetime</th>\n",
       "      <th></th>\n",
       "      <th></th>\n",
       "      <th></th>\n",
       "      <th></th>\n",
       "      <th></th>\n",
       "      <th></th>\n",
       "      <th></th>\n",
       "      <th></th>\n",
       "    </tr>\n",
       "  </thead>\n",
       "  <tbody>\n",
       "    <tr>\n",
       "      <th>2018-04-20 19:00:00</th>\n",
       "      <td>51</td>\n",
       "      <td>19</td>\n",
       "      <td>4</td>\n",
       "      <td>62.0</td>\n",
       "      <td>62.0</td>\n",
       "      <td>80.0</td>\n",
       "      <td>65.458333</td>\n",
       "      <td>65.611111</td>\n",
       "    </tr>\n",
       "    <tr>\n",
       "      <th>2018-03-09 06:00:00</th>\n",
       "      <td>4</td>\n",
       "      <td>6</td>\n",
       "      <td>4</td>\n",
       "      <td>1.0</td>\n",
       "      <td>6.0</td>\n",
       "      <td>11.0</td>\n",
       "      <td>61.666667</td>\n",
       "      <td>58.083333</td>\n",
       "    </tr>\n",
       "    <tr>\n",
       "      <th>2018-03-16 06:00:00</th>\n",
       "      <td>5</td>\n",
       "      <td>6</td>\n",
       "      <td>4</td>\n",
       "      <td>12.0</td>\n",
       "      <td>5.0</td>\n",
       "      <td>4.0</td>\n",
       "      <td>58.875000</td>\n",
       "      <td>56.125000</td>\n",
       "    </tr>\n",
       "    <tr>\n",
       "      <th>2018-08-06 20:00:00</th>\n",
       "      <td>67</td>\n",
       "      <td>20</td>\n",
       "      <td>0</td>\n",
       "      <td>104.0</td>\n",
       "      <td>90.0</td>\n",
       "      <td>76.0</td>\n",
       "      <td>118.375000</td>\n",
       "      <td>108.222222</td>\n",
       "    </tr>\n",
       "    <tr>\n",
       "      <th>2018-03-01 07:00:00</th>\n",
       "      <td>15</td>\n",
       "      <td>7</td>\n",
       "      <td>3</td>\n",
       "      <td>12.0</td>\n",
       "      <td>NaN</td>\n",
       "      <td>NaN</td>\n",
       "      <td>NaN</td>\n",
       "      <td>NaN</td>\n",
       "    </tr>\n",
       "    <tr>\n",
       "      <th>2018-07-25 12:00:00</th>\n",
       "      <td>83</td>\n",
       "      <td>12</td>\n",
       "      <td>2</td>\n",
       "      <td>93.0</td>\n",
       "      <td>93.0</td>\n",
       "      <td>85.0</td>\n",
       "      <td>100.500000</td>\n",
       "      <td>105.986111</td>\n",
       "    </tr>\n",
       "    <tr>\n",
       "      <th>2018-05-19 19:00:00</th>\n",
       "      <td>77</td>\n",
       "      <td>19</td>\n",
       "      <td>5</td>\n",
       "      <td>46.0</td>\n",
       "      <td>55.0</td>\n",
       "      <td>75.0</td>\n",
       "      <td>88.666667</td>\n",
       "      <td>82.388889</td>\n",
       "    </tr>\n",
       "    <tr>\n",
       "      <th>2018-05-16 12:00:00</th>\n",
       "      <td>43</td>\n",
       "      <td>12</td>\n",
       "      <td>2</td>\n",
       "      <td>83.0</td>\n",
       "      <td>41.0</td>\n",
       "      <td>44.0</td>\n",
       "      <td>69.708333</td>\n",
       "      <td>76.666667</td>\n",
       "    </tr>\n",
       "    <tr>\n",
       "      <th>2018-04-29 01:00:00</th>\n",
       "      <td>83</td>\n",
       "      <td>1</td>\n",
       "      <td>6</td>\n",
       "      <td>129.0</td>\n",
       "      <td>128.0</td>\n",
       "      <td>59.0</td>\n",
       "      <td>77.416667</td>\n",
       "      <td>74.097222</td>\n",
       "    </tr>\n",
       "    <tr>\n",
       "      <th>2018-05-30 22:00:00</th>\n",
       "      <td>79</td>\n",
       "      <td>22</td>\n",
       "      <td>2</td>\n",
       "      <td>115.0</td>\n",
       "      <td>61.0</td>\n",
       "      <td>118.0</td>\n",
       "      <td>72.208333</td>\n",
       "      <td>75.041667</td>\n",
       "    </tr>\n",
       "  </tbody>\n",
       "</table>\n",
       "</div>"
      ],
      "text/plain": [
       "                     num_orders  hour  day_of_week  lag_1  lag_24  lag_1_week  \\\n",
       "datetime                                                                        \n",
       "2018-04-20 19:00:00          51    19            4   62.0    62.0        80.0   \n",
       "2018-03-09 06:00:00           4     6            4    1.0     6.0        11.0   \n",
       "2018-03-16 06:00:00           5     6            4   12.0     5.0         4.0   \n",
       "2018-08-06 20:00:00          67    20            0  104.0    90.0        76.0   \n",
       "2018-03-01 07:00:00          15     7            3   12.0     NaN         NaN   \n",
       "2018-07-25 12:00:00          83    12            2   93.0    93.0        85.0   \n",
       "2018-05-19 19:00:00          77    19            5   46.0    55.0        75.0   \n",
       "2018-05-16 12:00:00          43    12            2   83.0    41.0        44.0   \n",
       "2018-04-29 01:00:00          83     1            6  129.0   128.0        59.0   \n",
       "2018-05-30 22:00:00          79    22            2  115.0    61.0       118.0   \n",
       "\n",
       "                     rolling_1day_mean  rolling_3day_mean  \n",
       "datetime                                                   \n",
       "2018-04-20 19:00:00          65.458333          65.611111  \n",
       "2018-03-09 06:00:00          61.666667          58.083333  \n",
       "2018-03-16 06:00:00          58.875000          56.125000  \n",
       "2018-08-06 20:00:00         118.375000         108.222222  \n",
       "2018-03-01 07:00:00                NaN                NaN  \n",
       "2018-07-25 12:00:00         100.500000         105.986111  \n",
       "2018-05-19 19:00:00          88.666667          82.388889  \n",
       "2018-05-16 12:00:00          69.708333          76.666667  \n",
       "2018-04-29 01:00:00          77.416667          74.097222  \n",
       "2018-05-30 22:00:00          72.208333          75.041667  "
      ]
     },
     "metadata": {},
     "output_type": "display_data"
    },
    {
     "name": "stdout",
     "output_type": "stream",
     "text": [
      "RMSE for the validation set:  30.55690502734403\n"
     ]
    }
   ],
   "source": [
    "display(taxi.sample(10))\n",
    "features = ['hour','day_of_week','lag_1','lag_24','lag_1_week','rolling_1day_mean', 'rolling_3day_mean']\n",
    "\n",
    "#Creating a Linear Regression model\n",
    "model = LinearRegression()\n",
    "model.fit(train[features], train['num_orders'])\n",
    "valid_pred = model.predict(valid[features].dropna())\n",
    "\n",
    "print(\"RMSE for the validation set: \", mean_squared_error(valid['num_orders'], valid_pred, squared=False))"
   ]
  },
  {
   "cell_type": "markdown",
   "metadata": {},
   "source": [
    "Our linear regression model shows great results here on the validation set."
   ]
  },
  {
   "cell_type": "markdown",
   "metadata": {},
   "source": [
    "<div class=\"alert alert-success\" style=\"border-radius: 15px; box-shadow: 4px 4px 4px; border: 1px solid \">\n",
    "<h2> Reviewer's comment</h2>\n",
    "    \n",
    "Yes, the dataset is super small and does not have any features. A simple model should work fine.     \n",
    "</div>\n"
   ]
  },
  {
   "cell_type": "code",
   "execution_count": 15,
   "metadata": {},
   "outputs": [
    {
     "name": "stdout",
     "output_type": "stream",
     "text": [
      "RMSE for the validation set:  30.55690502734403\n"
     ]
    }
   ],
   "source": [
    "#Creating a Random Forest model\n",
    "model_rf = RandomForestRegressor(random_state=42)\n",
    "model_rf.fit(train[features], train['num_orders'])\n",
    "valid_pred = model.predict(valid[features].dropna())\n",
    "\n",
    "print(\"RMSE for the validation set: \", mean_squared_error(valid['num_orders'], valid_pred, squared=False))"
   ]
  },
  {
   "cell_type": "markdown",
   "metadata": {},
   "source": [
    "Random forest performs even better. We will still need to take overfitting into account."
   ]
  },
  {
   "cell_type": "markdown",
   "metadata": {},
   "source": [
    "Let's tune the hyperparameters of Random Forest and see if we can improve our results. We will need to use TimeSeriesSplit to cross validate our time series properly. Then we will use GridSearchCV in order to perform the testing. (v2)"
   ]
  },
  {
   "cell_type": "code",
   "execution_count": 16,
   "metadata": {},
   "outputs": [
    {
     "name": "stdout",
     "output_type": "stream",
     "text": [
      "Best parameters: {'max_depth': 6, 'n_estimators': 200}\n",
      "Best RMSE: 22.417745250442653\n",
      "Validation RMSE: 30.556936738593063\n"
     ]
    }
   ],
   "source": [
    "# Define parameter grid\n",
    "param_grid = {\n",
    "    'n_estimators': [25, 50, 100, 200],\n",
    "    'max_depth': [4, 6, 8, 12]\n",
    "}\n",
    "\n",
    "# Create TimeSeriesSplit object\n",
    "tscv = TimeSeriesSplit(n_splits=4)\n",
    "\n",
    "# Setup GridSearchCV\n",
    "grid_search = GridSearchCV(\n",
    "    estimator=RandomForestRegressor(random_state=42),\n",
    "    param_grid=param_grid,\n",
    "    cv=tscv,\n",
    "    scoring='neg_root_mean_squared_error',\n",
    "    n_jobs=-1\n",
    ")\n",
    "\n",
    "# Fit the model\n",
    "grid_search.fit(train[features], train['num_orders'])\n",
    "\n",
    "# Get best parameters and score\n",
    "print(\"Best parameters:\", grid_search.best_params_)\n",
    "print(\"Best RMSE:\", -grid_search.best_score_)\n",
    "\n",
    "# Make predictions with best model\n",
    "valid_pred = grid_search.predict(valid[features])\n",
    "print(\"Validation RMSE:\", mean_squared_error(valid['num_orders'], valid_pred, squared=False))"
   ]
  },
  {
   "cell_type": "markdown",
   "metadata": {},
   "source": [
    "It looks like Random Forest was already optimized!"
   ]
  },
  {
   "cell_type": "markdown",
   "metadata": {},
   "source": [
    "<div class=\"alert alert-success\" style=\"border-radius: 15px; box-shadow: 4px 4px 4px; border: 1px solid \">\n",
    "<h2> Reviewer's comment</h2>\n",
    "    \n",
    "Good job!     \n",
    "</div>\n",
    "<div class=\"alert alert-danger\" style=\"border-radius: 15px; box-shadow: 4px 4px 4px; border: 1px solid \">\n",
    "<b> Reviewer's comment</b>\n",
    "    \n",
    "Please try to implement hyperparameter tuning for at least one of the models. For this purpose, we either need to split data into three subsets or use cross-validation. If you choose the second option, please do not forget about the correct order in the data. In order to use the `GridSearchCV` method correctly, we have to employ the `TimeSeriesSplit` class, a cross-validator for time series.  You can also use advanced models and tune hyperparameters for ARIMA. \n",
    "    \n",
    "</div>\n",
    "<div class=\"alert alert-success\" style=\"border-radius: 15px; box-shadow: 4px 4px 4px; border: 1px solid \">\n",
    "<h2>   Reviewer's comment 2 </h2>\n",
    "    \n",
    "Correct! \n",
    "</div>"
   ]
  },
  {
   "cell_type": "markdown",
   "metadata": {},
   "source": [
    "__**ARIMA model did not pass testing, so we are going to train and test a SARIMAX model. (v2)**__"
   ]
  },
  {
   "cell_type": "code",
   "execution_count": 17,
   "metadata": {},
   "outputs": [
    {
     "name": "stdout",
     "output_type": "stream",
     "text": [
      "SARIMAX RMSE: 39.78\n"
     ]
    }
   ],
   "source": [
    "train_30d = train.last('30D')\n",
    "\n",
    "model_sarimax = SARIMAX(\n",
    "    endog=train_30d['num_orders'],                    \n",
    "    order=(1, 0, 0),           \n",
    "    seasonal_order=(2, 0, [1], 12),\n",
    ")\n",
    "fitted_model = model_sarimax.fit(disp=0)\n",
    "\n",
    "# Make predictions with exog data for test period\n",
    "sarimax_pred = fitted_model.predict(\n",
    "    start=valid.index[0],\n",
    "    end=valid.index[-1],\n",
    ")\n",
    "# Calculate RMSE\n",
    "sarimax_rmse = mean_squared_error(valid['num_orders'], sarimax_pred, squared=False)\n",
    "print(f\"SARIMAX RMSE: {sarimax_rmse:.2f}\")"
   ]
  },
  {
   "cell_type": "markdown",
   "metadata": {},
   "source": [
    "Results here are good, however they are redundant as we have two better models."
   ]
  },
  {
   "cell_type": "markdown",
   "metadata": {},
   "source": [
    "__We have the results we need, but it doesn't hurt to test a LightGBM model as it is fast and good against overfitting. (v2)__"
   ]
  },
  {
   "cell_type": "code",
   "execution_count": 18,
   "metadata": {},
   "outputs": [
    {
     "name": "stderr",
     "output_type": "stream",
     "text": [
      "/opt/conda/envs/python3/lib/python3.9/site-packages/lightgbm/engine.py:181: UserWarning: 'early_stopping_rounds' argument is deprecated and will be removed in a future release of LightGBM. Pass 'early_stopping()' callback via 'callbacks' argument instead.\n",
      "  _log_warning(\"'early_stopping_rounds' argument is deprecated and will be removed in a future release of LightGBM. \"\n",
      "/opt/conda/envs/python3/lib/python3.9/site-packages/lightgbm/engine.py:239: UserWarning: 'verbose_eval' argument is deprecated and will be removed in a future release of LightGBM. Pass 'log_evaluation()' callback via 'callbacks' argument instead.\n",
      "  _log_warning(\"'verbose_eval' argument is deprecated and will be removed in a future release of LightGBM. \"\n"
     ]
    },
    {
     "name": "stdout",
     "output_type": "stream",
     "text": [
      "RMSE: 29.2727\n"
     ]
    }
   ],
   "source": [
    "params = {\n",
    "    'objective': 'regression',\n",
    "    'metric': 'rmse',\n",
    "    'boosting_type': 'gbdt',\n",
    "    'num_leaves': 31,\n",
    "    'learning_rate': 0.05,\n",
    "    'feature_fraction': 0.9,\n",
    "    'bagging_fraction': 0.8,\n",
    "    'bagging_freq': 5,\n",
    "    'verbose': -1\n",
    "}\n",
    "\n",
    "# Create LightGBM datasets with features\n",
    "X_train = train[features]  \n",
    "y_train = train['num_orders'] \n",
    "X_valid = valid[features]\n",
    "y_valid = valid['num_orders']\n",
    "\n",
    "# Create LightGBM datasets\n",
    "train_dataset = lgb.Dataset(X_train, label=y_train)\n",
    "valid_dataset = lgb.Dataset(X_valid, label=y_valid, reference=train_dataset)\n",
    "model_lgb = lgb.train(\n",
    "    params,\n",
    "    train_dataset,\n",
    "    valid_sets=[train_dataset,valid_dataset],\n",
    "    num_boost_round=1000,\n",
    "    early_stopping_rounds=50,\n",
    "    verbose_eval=False \n",
    ")\n",
    "\n",
    "# Make predictions\n",
    "lgb_pred = model_lgb.predict(X_valid)\n",
    "\n",
    "# Calculate and display RMSE\n",
    "lgb_rmse = mean_squared_error(y_valid, lgb_pred, squared=False)\n",
    "print(f'RMSE: {lgb_rmse:.4f}')"
   ]
  },
  {
   "cell_type": "markdown",
   "metadata": {},
   "source": [
    "## Testing"
   ]
  },
  {
   "cell_type": "markdown",
   "metadata": {},
   "source": [
    "We only need a prediction for the next hour based on our project description. The ARIMA model has definitely shown to be good at short-term forecasting. Let's verify our results on the test set."
   ]
  },
  {
   "cell_type": "code",
   "execution_count": 19,
   "metadata": {
    "scrolled": true
   },
   "outputs": [
    {
     "name": "stdout",
     "output_type": "stream",
     "text": [
      "ARIMA RMSE on Test Dataset: 73.87\n"
     ]
    }
   ],
   "source": [
    "arima_pred = model_auto.predict(len(test))\n",
    "\n",
    "# Calculate RMSE\n",
    "arima_rmse = mean_squared_error(test['num_orders'], arima_pred, squared=False)\n",
    "print(f\"ARIMA RMSE on Test Dataset: {arima_rmse:.2f}\")"
   ]
  },
  {
   "cell_type": "markdown",
   "metadata": {},
   "source": [
    "<div class=\"alert alert-success\" style=\"border-radius: 15px; box-shadow: 4px 4px 4px; border: 1px solid \">\n",
    "<h2> Reviewer's comment</h2>\n",
    "    \n",
    "Good job!     \n",
    "</div>\n",
    "<div class=\"alert alert-danger\" style=\"border-radius: 15px; box-shadow: 4px 4px 4px; border: 1px solid \">\n",
    "<b> Reviewer's comment</b>\n",
    "    \n",
    "In the final test, we are supposed to use the best model. ARIMA was not the best on validation subset. At least you did not show a reader that other models should not be considered because of the overfitting issue.     \n",
    "</div>"
   ]
  },
  {
   "cell_type": "markdown",
   "metadata": {},
   "source": [
    "<div class=\"alert alert-success\" style=\"border-radius: 15px; box-shadow: 4px 4px 4px; border: 1px solid \">\n",
    "<h2> Reviewer's comment</h2>\n",
    "    \n",
    "Good idea! \n",
    "\n",
    "</div>\n",
    "<div class=\"alert alert-danger\" style=\"border-radius: 15px; box-shadow: 4px 4px 4px; border: 1px solid \">\n",
    "<b> Reviewer's comment</b>\n",
    "    \n",
    "However, we do not try new models in the testing section. To keep the project well-structured, let's move everything to the previous section. I understand that you want to show your thought process, but it will not enhance the readability of the project. You do not even need to show it in the final version of the project. It is enough to put all models in the previous section and add a comment where you explain that first models did not pass the test, so you decided to introduce additional models. \n",
    "    \n",
    "</div>"
   ]
  },
  {
   "cell_type": "markdown",
   "metadata": {},
   "source": [
    "<div class=\"alert alert-block alert-info\">\n",
    "<b>Student answer.</b> <a class=\"tocSkip\"></a>\n",
    "SARIMAX moved to training section.\n",
    "</div>"
   ]
  },
  {
   "cell_type": "markdown",
   "metadata": {},
   "source": [
    "Let's run our SARIMAX and LightGBM models on the test data and visualize the results."
   ]
  },
  {
   "cell_type": "code",
   "execution_count": 20,
   "metadata": {
    "scrolled": false
   },
   "outputs": [
    {
     "name": "stdout",
     "output_type": "stream",
     "text": [
      "SARIMAX RMSE on Test Dataset: 65.06\n"
     ]
    },
    {
     "data": {
      "image/png": "[encoded data removed]",
      "text/plain": [
       "<Figure size 1200x600 with 1 Axes>"
      ]
     },
     "metadata": {},
     "output_type": "display_data"
    },
    {
     "name": "stdout",
     "output_type": "stream",
     "text": [
      "LightGBM RMSE: 46.9227\n"
     ]
    },
    {
     "data": {
      "image/png": "[encoded data removed]",
      "text/plain": [
       "<Figure size 1200x600 with 1 Axes>"
      ]
     },
     "metadata": {},
     "output_type": "display_data"
    }
   ],
   "source": [
    "#RMSE for SARIMAX\n",
    "sarimax_pred = fitted_model.predict(\n",
    "    start=test.index[0],\n",
    "    end=test.index[-1],)\n",
    "sarimax_rmse = mean_squared_error(test['num_orders'], sarimax_pred, squared=False)\n",
    "print(f\"SARIMAX RMSE on Test Dataset: {sarimax_rmse:.2f}\")\n",
    "\n",
    "#Visualize SARIMAX results\n",
    "plt.figure(figsize=(12, 6))\n",
    "plt.plot(test.index[:72], test['num_orders'][:72], label='Actual', color='blue')\n",
    "plt.plot(test.index[:72], sarimax_pred[:72], label='Predicted', color='red')\n",
    "plt.xlabel('Time')\n",
    "plt.ylabel('Number of Orders')\n",
    "plt.title('Predicted vs Actual Taxi Orders')\n",
    "plt.legend()\n",
    "plt.xticks(rotation=90)\n",
    "plt.show()\n",
    "\n",
    "#RMSE for LightGBM\n",
    "X_test = test[features]\n",
    "y_test = test['num_orders']\n",
    "test_dataset = lgb.Dataset(X_test, label=y_test, reference=train_dataset)\n",
    "lgb_pred = model_lgb.predict(X_test)\n",
    "lgb_rmse = mean_squared_error(y_test, lgb_pred, squared=False)\n",
    "print(f'LightGBM RMSE: {lgb_rmse:.4f}')\n",
    "\n",
    "#Visualize LightGBM results\n",
    "plt.figure(figsize=(12, 6))\n",
    "plt.plot(test.index[:72], test['num_orders'][:72], label='Actual', color='blue')\n",
    "plt.plot(test.index[:72], lgb_pred[:72], label='Predicted', color='red')\n",
    "plt.xlabel('Time')\n",
    "plt.ylabel('Number of Orders')\n",
    "plt.title('Predicted vs Actual Taxi Orders')\n",
    "plt.legend()\n",
    "plt.xticks(rotation=90)\n",
    "plt.show()"
   ]
  },
  {
   "cell_type": "markdown",
   "metadata": {},
   "source": [
    "How does our random forest model fare?"
   ]
  },
  {
   "cell_type": "code",
   "execution_count": 21,
   "metadata": {
    "scrolled": false
   },
   "outputs": [
    {
     "data": {
      "image/png": "[encoded data removed]",
      "text/plain": [
       "<Figure size 1200x600 with 1 Axes>"
      ]
     },
     "metadata": {},
     "output_type": "display_data"
    },
    {
     "name": "stdout",
     "output_type": "stream",
     "text": [
      "Random Forest RMSE for the test set:  46.24868066602999\n"
     ]
    }
   ],
   "source": [
    "test_pred = model_rf.predict(test[features].dropna())\n",
    "\n",
    "#Visualize LightGBM results\n",
    "plt.figure(figsize=(12, 6))\n",
    "plt.plot(test.index[:72], test['num_orders'][:72], label='Actual', color='blue')\n",
    "plt.plot(test.index[:72], test_pred[:72], label='Predicted', color='red')\n",
    "plt.xlabel('Time')\n",
    "plt.ylabel('Number of Orders')\n",
    "plt.title('Predicted vs Actual Taxi Orders')\n",
    "plt.legend()\n",
    "plt.xticks(rotation=90)\n",
    "plt.show()\n",
    "\n",
    "print(\"Random Forest RMSE for the test set: \", mean_squared_error(test['num_orders'], test_pred, squared=False))"
   ]
  },
  {
   "cell_type": "markdown",
   "metadata": {},
   "source": [
    "__Our LightGBM and Random Forest models pass the validation and testing sets with an RMSE of under 48.__"
   ]
  },
  {
   "cell_type": "markdown",
   "metadata": {},
   "source": [
    "\n",
    "<div class=\"alert alert-warning\" style=\"border-radius: 15px; box-shadow: 4px 4px 4px; border: 1px solid \">\n",
    "<b> Reviewer's comment</b>\n",
    "    \n",
    "So this is another test in the testing section. </div>"
   ]
  },
  {
   "cell_type": "markdown",
   "metadata": {},
   "source": [
    "<div class=\"alert alert-success\" style=\"border-radius: 15px; box-shadow: 4px 4px 4px; border: 1px solid \">\n",
    "<h2>   Reviewer's comment 2 </h2>\n",
    "    \n",
    "Everything is correct, great job! Yes, some models can be overfitted, so sometimes we do not see good results on the test subset. Although you introduced the validation subset, it may not be enough, since th data is small. In the real tasks, your approach will be a good choice. \n",
    "</div>"
   ]
  },
  {
   "cell_type": "markdown",
   "metadata": {},
   "source": [
    "# Conclusion"
   ]
  },
  {
   "cell_type": "markdown",
   "metadata": {},
   "source": [
    "We have created and tested various models to forecast taxi orders for Sweet Lift Taxi company. Our objective RMSE to stay under was 48. We only need to forecast one hour into the future, therefore we found models that were suitable for short term forecasting. Various models were tested such as Linear Regression, ARIMA, autoregression, Random Forest, and LightGBM. Random Forest and LightGBM were able to perform successfully on both validation and test sets. Visualizations of both of these models would also further verify the accuracy of the model predictions, and indeed they passed the eye test over the first 72 hours of the test and validation sets."
   ]
  },
  {
   "cell_type": "markdown",
   "metadata": {},
   "source": [
    "<div class=\"alert alert-success\" style=\"border-radius: 15px; box-shadow: 4px 4px 4px; border: 1px solid \">\n",
    "<h2> Reviewer's comment</h2>\n",
    "    \n",
    "Very good, thank you so much! \n",
    "    \n",
    "</div>\n"
   ]
  },
  {
   "cell_type": "markdown",
   "metadata": {},
   "source": [
    "# Review checklist"
   ]
  },
  {
   "cell_type": "markdown",
   "metadata": {},
   "source": [
    "- [x]  Jupyter Notebook is open\n",
    "- [ ]  The code is error-free\n",
    "- [ ]  The cells with the code have been arranged in order of execution\n",
    "- [ ]  The data has been downloaded and prepared\n",
    "- [ ]  The data has been analyzed\n",
    "- [ ]  The model has been trained and hyperparameters have been selected\n",
    "- [ ]  The models have been evaluated. Conclusion has been provided\n",
    "- [ ] *RMSE* for the test set is not more than 48"
   ]
  }
 ],
 "metadata": {
  "ExecuteTimeLog": [
   {
    "duration": 2740,
    "start_time": "2024-11-08T05:33:58.974Z"
   },
   {
    "duration": 26,
    "start_time": "2024-11-08T05:34:43.008Z"
   },
   {
    "duration": 35,
    "start_time": "2024-11-08T05:35:30.608Z"
   },
   {
    "duration": 33,
    "start_time": "2024-11-08T05:37:11.162Z"
   },
   {
    "duration": 31,
    "start_time": "2024-11-08T05:38:43.188Z"
   },
   {
    "duration": 31,
    "start_time": "2024-11-08T05:39:06.526Z"
   },
   {
    "duration": 28,
    "start_time": "2024-11-08T05:39:22.109Z"
   },
   {
    "duration": 31,
    "start_time": "2024-11-08T05:39:40.883Z"
   },
   {
    "duration": 263,
    "start_time": "2024-11-08T05:42:13.962Z"
   },
   {
    "duration": 4,
    "start_time": "2024-11-08T05:42:18.662Z"
   },
   {
    "duration": 5,
    "start_time": "2024-11-08T05:43:28.693Z"
   },
   {
    "duration": 607,
    "start_time": "2024-11-08T05:45:27.073Z"
   },
   {
    "duration": 116,
    "start_time": "2024-11-08T05:45:59.712Z"
   },
   {
    "duration": 22,
    "start_time": "2024-11-08T05:46:34.042Z"
   },
   {
    "duration": 18,
    "start_time": "2024-11-08T05:47:50.348Z"
   },
   {
    "duration": 18,
    "start_time": "2024-11-08T05:47:58.993Z"
   },
   {
    "duration": 3,
    "start_time": "2024-11-08T05:48:17.913Z"
   },
   {
    "duration": 32,
    "start_time": "2024-11-08T05:48:17.920Z"
   },
   {
    "duration": 3,
    "start_time": "2024-11-08T05:48:17.954Z"
   },
   {
    "duration": 153,
    "start_time": "2024-11-08T05:48:17.959Z"
   },
   {
    "duration": 129,
    "start_time": "2024-11-08T05:48:59.760Z"
   },
   {
    "duration": 128,
    "start_time": "2024-11-08T05:50:01.889Z"
   },
   {
    "duration": 131,
    "start_time": "2024-11-08T05:51:28.808Z"
   },
   {
    "duration": 126,
    "start_time": "2024-11-08T05:52:23.778Z"
   },
   {
    "duration": 218,
    "start_time": "2024-11-08T05:57:20.735Z"
   },
   {
    "duration": 221,
    "start_time": "2024-11-08T05:57:43.733Z"
   },
   {
    "duration": 201,
    "start_time": "2024-11-08T05:57:49.448Z"
   },
   {
    "duration": 189,
    "start_time": "2024-11-08T05:57:59.148Z"
   },
   {
    "duration": 211,
    "start_time": "2024-11-08T05:58:14.628Z"
   },
   {
    "duration": 363,
    "start_time": "2024-11-08T06:00:49.634Z"
   },
   {
    "duration": 217,
    "start_time": "2024-11-08T06:01:00.938Z"
   },
   {
    "duration": 16,
    "start_time": "2024-11-08T06:09:14.128Z"
   },
   {
    "duration": 2,
    "start_time": "2024-11-08T06:18:05.791Z"
   },
   {
    "duration": 15,
    "start_time": "2024-11-08T06:18:25.394Z"
   },
   {
    "duration": 3,
    "start_time": "2024-11-08T06:18:45.028Z"
   },
   {
    "duration": 3,
    "start_time": "2024-11-08T06:18:48.574Z"
   },
   {
    "duration": 34,
    "start_time": "2024-11-08T06:18:48.579Z"
   },
   {
    "duration": 4,
    "start_time": "2024-11-08T06:18:48.615Z"
   },
   {
    "duration": 135,
    "start_time": "2024-11-08T06:18:48.621Z"
   },
   {
    "duration": 210,
    "start_time": "2024-11-08T06:18:48.757Z"
   },
   {
    "duration": 269,
    "start_time": "2024-11-08T06:18:48.969Z"
   },
   {
    "duration": 15,
    "start_time": "2024-11-08T06:18:49.239Z"
   },
   {
    "duration": 3,
    "start_time": "2024-11-08T06:18:49.256Z"
   },
   {
    "duration": 3,
    "start_time": "2024-11-08T06:20:24.928Z"
   },
   {
    "duration": 261,
    "start_time": "2024-11-08T06:22:54.133Z"
   },
   {
    "duration": 3,
    "start_time": "2024-11-08T06:23:15.911Z"
   },
   {
    "duration": 31,
    "start_time": "2024-11-08T06:23:15.916Z"
   },
   {
    "duration": 3,
    "start_time": "2024-11-08T06:23:15.949Z"
   },
   {
    "duration": 146,
    "start_time": "2024-11-08T06:23:15.954Z"
   },
   {
    "duration": 237,
    "start_time": "2024-11-08T06:23:16.108Z"
   },
   {
    "duration": 214,
    "start_time": "2024-11-08T06:23:16.347Z"
   },
   {
    "duration": 14,
    "start_time": "2024-11-08T06:23:16.563Z"
   },
   {
    "duration": 72,
    "start_time": "2024-11-08T06:23:16.579Z"
   },
   {
    "duration": 69,
    "start_time": "2024-11-08T06:24:57.508Z"
   },
   {
    "duration": 13,
    "start_time": "2024-11-08T06:25:29.630Z"
   },
   {
    "duration": 18,
    "start_time": "2024-11-08T06:25:39.803Z"
   },
   {
    "duration": 3,
    "start_time": "2024-11-08T06:28:29.369Z"
   },
   {
    "duration": 31,
    "start_time": "2024-11-08T06:28:29.380Z"
   },
   {
    "duration": 3,
    "start_time": "2024-11-08T06:28:29.413Z"
   },
   {
    "duration": 137,
    "start_time": "2024-11-08T06:28:29.418Z"
   },
   {
    "duration": 199,
    "start_time": "2024-11-08T06:28:29.557Z"
   },
   {
    "duration": 278,
    "start_time": "2024-11-08T06:28:29.759Z"
   },
   {
    "duration": 19,
    "start_time": "2024-11-08T06:28:30.039Z"
   },
   {
    "duration": 70,
    "start_time": "2024-11-08T06:28:30.060Z"
   },
   {
    "duration": 55,
    "start_time": "2024-11-08T06:29:43.089Z"
   },
   {
    "duration": 105,
    "start_time": "2024-11-08T06:30:09.920Z"
   },
   {
    "duration": 115,
    "start_time": "2024-11-08T06:30:23.911Z"
   },
   {
    "duration": 20,
    "start_time": "2024-11-08T06:33:05.308Z"
   },
   {
    "duration": 85,
    "start_time": "2024-11-08T06:33:35.238Z"
   },
   {
    "duration": 39,
    "start_time": "2024-11-08T06:34:24.793Z"
   },
   {
    "duration": 37,
    "start_time": "2024-11-08T06:34:38.448Z"
   },
   {
    "duration": 10,
    "start_time": "2024-11-08T06:35:15.168Z"
   },
   {
    "duration": 10,
    "start_time": "2024-11-08T06:35:47.008Z"
   },
   {
    "duration": 406,
    "start_time": "2024-11-08T06:37:51.608Z"
   },
   {
    "duration": 10,
    "start_time": "2024-11-08T06:37:54.869Z"
   },
   {
    "duration": 194,
    "start_time": "2024-11-08T06:39:35.688Z"
   },
   {
    "duration": 148,
    "start_time": "2024-11-08T06:39:47.888Z"
   },
   {
    "duration": 151,
    "start_time": "2024-11-08T06:42:48.611Z"
   },
   {
    "duration": 158,
    "start_time": "2024-11-08T06:52:53.523Z"
   },
   {
    "duration": 1093,
    "start_time": "2024-11-08T06:53:02.063Z"
   },
   {
    "duration": 40,
    "start_time": "2024-11-08T06:53:03.158Z"
   },
   {
    "duration": 9,
    "start_time": "2024-11-08T06:53:03.200Z"
   },
   {
    "duration": 148,
    "start_time": "2024-11-08T06:53:03.211Z"
   },
   {
    "duration": 206,
    "start_time": "2024-11-08T06:53:03.362Z"
   },
   {
    "duration": 281,
    "start_time": "2024-11-08T06:53:03.570Z"
   },
   {
    "duration": 19,
    "start_time": "2024-11-08T06:53:03.853Z"
   },
   {
    "duration": 440,
    "start_time": "2024-11-08T06:53:03.874Z"
   },
   {
    "duration": 246,
    "start_time": "2024-11-08T06:53:04.316Z"
   },
   {
    "duration": 1082,
    "start_time": "2024-11-08T06:58:11.790Z"
   },
   {
    "duration": 39,
    "start_time": "2024-11-08T06:58:12.874Z"
   },
   {
    "duration": 4,
    "start_time": "2024-11-08T06:58:12.915Z"
   },
   {
    "duration": 161,
    "start_time": "2024-11-08T06:58:12.921Z"
   },
   {
    "duration": 253,
    "start_time": "2024-11-08T06:58:13.085Z"
   },
   {
    "duration": 223,
    "start_time": "2024-11-08T06:58:13.340Z"
   },
   {
    "duration": 21,
    "start_time": "2024-11-08T06:58:13.565Z"
   },
   {
    "duration": 429,
    "start_time": "2024-11-08T06:58:13.587Z"
   },
   {
    "duration": 250,
    "start_time": "2024-11-08T06:58:14.018Z"
   },
   {
    "duration": 1153,
    "start_time": "2024-11-08T07:03:40.621Z"
   },
   {
    "duration": 40,
    "start_time": "2024-11-08T07:03:41.776Z"
   },
   {
    "duration": 4,
    "start_time": "2024-11-08T07:03:41.817Z"
   },
   {
    "duration": 161,
    "start_time": "2024-11-08T07:03:41.823Z"
   },
   {
    "duration": 257,
    "start_time": "2024-11-08T07:03:41.987Z"
   },
   {
    "duration": 214,
    "start_time": "2024-11-08T07:03:42.245Z"
   },
   {
    "duration": 19,
    "start_time": "2024-11-08T07:03:42.462Z"
   },
   {
    "duration": 432,
    "start_time": "2024-11-08T07:03:42.483Z"
   },
   {
    "duration": 244,
    "start_time": "2024-11-08T07:03:42.917Z"
   },
   {
    "duration": 1157,
    "start_time": "2024-11-08T07:09:36.144Z"
   },
   {
    "duration": 42,
    "start_time": "2024-11-08T07:09:37.303Z"
   },
   {
    "duration": 3,
    "start_time": "2024-11-08T07:09:37.347Z"
   },
   {
    "duration": 161,
    "start_time": "2024-11-08T07:09:37.352Z"
   },
   {
    "duration": 242,
    "start_time": "2024-11-08T07:09:37.516Z"
   },
   {
    "duration": 251,
    "start_time": "2024-11-08T07:09:37.760Z"
   },
   {
    "duration": 20,
    "start_time": "2024-11-08T07:09:38.013Z"
   },
   {
    "duration": 394,
    "start_time": "2024-11-08T07:09:38.035Z"
   },
   {
    "duration": 300,
    "start_time": "2024-11-08T07:09:38.431Z"
   },
   {
    "duration": 1134,
    "start_time": "2024-11-08T07:19:14.951Z"
   },
   {
    "duration": 39,
    "start_time": "2024-11-08T07:19:16.087Z"
   },
   {
    "duration": 3,
    "start_time": "2024-11-08T07:19:16.128Z"
   },
   {
    "duration": 159,
    "start_time": "2024-11-08T07:19:16.133Z"
   },
   {
    "duration": 238,
    "start_time": "2024-11-08T07:19:16.296Z"
   },
   {
    "duration": 225,
    "start_time": "2024-11-08T07:19:16.536Z"
   },
   {
    "duration": 20,
    "start_time": "2024-11-08T07:19:16.762Z"
   },
   {
    "duration": 432,
    "start_time": "2024-11-08T07:19:16.783Z"
   },
   {
    "duration": 257,
    "start_time": "2024-11-08T07:19:17.217Z"
   },
   {
    "duration": 577,
    "start_time": "2024-11-08T07:19:17.476Z"
   },
   {
    "duration": 0,
    "start_time": "2024-11-08T07:19:18.055Z"
   },
   {
    "duration": 137789,
    "start_time": "2024-11-08T07:20:02.850Z"
   },
   {
    "duration": 315,
    "start_time": "2024-11-08T07:22:39.534Z"
   },
   {
    "duration": 267,
    "start_time": "2024-11-08T07:24:46.835Z"
   },
   {
    "duration": 184,
    "start_time": "2024-11-08T07:26:00.016Z"
   },
   {
    "duration": 223022,
    "start_time": "2024-11-08T07:26:32.654Z"
   },
   {
    "duration": 194,
    "start_time": "2024-11-08T07:30:15.678Z"
   },
   {
    "duration": 195,
    "start_time": "2024-11-08T07:33:57.560Z"
   },
   {
    "duration": 161,
    "start_time": "2024-11-08T07:35:08.060Z"
   },
   {
    "duration": 139,
    "start_time": "2024-11-08T07:35:47.434Z"
   },
   {
    "duration": 1074,
    "start_time": "2024-11-08T07:41:58.104Z"
   },
   {
    "duration": 38,
    "start_time": "2024-11-08T07:41:59.180Z"
   },
   {
    "duration": 3,
    "start_time": "2024-11-08T07:41:59.220Z"
   },
   {
    "duration": 155,
    "start_time": "2024-11-08T07:41:59.225Z"
   },
   {
    "duration": 251,
    "start_time": "2024-11-08T07:41:59.383Z"
   },
   {
    "duration": 216,
    "start_time": "2024-11-08T07:41:59.636Z"
   },
   {
    "duration": 19,
    "start_time": "2024-11-08T07:41:59.855Z"
   },
   {
    "duration": 437,
    "start_time": "2024-11-08T07:41:59.876Z"
   },
   {
    "duration": 228,
    "start_time": "2024-11-08T07:42:00.315Z"
   },
   {
    "duration": 1129,
    "start_time": "2024-11-08T07:45:11.755Z"
   },
   {
    "duration": 40,
    "start_time": "2024-11-08T07:45:12.886Z"
   },
   {
    "duration": 3,
    "start_time": "2024-11-08T07:45:12.928Z"
   },
   {
    "duration": 155,
    "start_time": "2024-11-08T07:45:12.933Z"
   },
   {
    "duration": 252,
    "start_time": "2024-11-08T07:45:13.090Z"
   },
   {
    "duration": 219,
    "start_time": "2024-11-08T07:45:13.344Z"
   },
   {
    "duration": 20,
    "start_time": "2024-11-08T07:45:13.565Z"
   },
   {
    "duration": 405,
    "start_time": "2024-11-08T07:45:13.609Z"
   },
   {
    "duration": 233,
    "start_time": "2024-11-08T07:45:14.016Z"
   },
   {
    "duration": 323,
    "start_time": "2024-11-08T07:45:14.250Z"
   },
   {
    "duration": 0,
    "start_time": "2024-11-08T07:45:14.575Z"
   },
   {
    "duration": 1054,
    "start_time": "2024-11-08T07:51:18.775Z"
   },
   {
    "duration": 38,
    "start_time": "2024-11-08T07:51:19.831Z"
   },
   {
    "duration": 3,
    "start_time": "2024-11-08T07:51:19.871Z"
   },
   {
    "duration": 153,
    "start_time": "2024-11-08T07:51:19.876Z"
   },
   {
    "duration": 229,
    "start_time": "2024-11-08T07:51:20.032Z"
   },
   {
    "duration": 251,
    "start_time": "2024-11-08T07:51:20.263Z"
   },
   {
    "duration": 19,
    "start_time": "2024-11-08T07:51:20.517Z"
   },
   {
    "duration": 393,
    "start_time": "2024-11-08T07:51:20.538Z"
   },
   {
    "duration": 212,
    "start_time": "2024-11-08T07:51:21.008Z"
   },
   {
    "duration": 160,
    "start_time": "2024-11-08T07:56:33.051Z"
   },
   {
    "duration": 1078,
    "start_time": "2024-11-08T07:56:38.195Z"
   },
   {
    "duration": 39,
    "start_time": "2024-11-08T07:56:39.275Z"
   },
   {
    "duration": 4,
    "start_time": "2024-11-08T07:56:39.316Z"
   },
   {
    "duration": 154,
    "start_time": "2024-11-08T07:56:39.321Z"
   },
   {
    "duration": 259,
    "start_time": "2024-11-08T07:56:39.478Z"
   },
   {
    "duration": 220,
    "start_time": "2024-11-08T07:56:39.739Z"
   },
   {
    "duration": 20,
    "start_time": "2024-11-08T07:56:39.961Z"
   },
   {
    "duration": 431,
    "start_time": "2024-11-08T07:56:39.983Z"
   },
   {
    "duration": 236,
    "start_time": "2024-11-08T07:56:40.416Z"
   },
   {
    "duration": 158,
    "start_time": "2024-11-08T08:01:12.426Z"
   },
   {
    "duration": 1133,
    "start_time": "2024-11-08T08:01:17.688Z"
   },
   {
    "duration": 42,
    "start_time": "2024-11-08T08:01:18.824Z"
   },
   {
    "duration": 4,
    "start_time": "2024-11-08T08:01:18.868Z"
   },
   {
    "duration": 171,
    "start_time": "2024-11-08T08:01:18.874Z"
   },
   {
    "duration": 218,
    "start_time": "2024-11-08T08:01:19.047Z"
   },
   {
    "duration": 265,
    "start_time": "2024-11-08T08:01:19.267Z"
   },
   {
    "duration": 21,
    "start_time": "2024-11-08T08:01:19.534Z"
   },
   {
    "duration": 456,
    "start_time": "2024-11-08T08:01:19.557Z"
   },
   {
    "duration": 235,
    "start_time": "2024-11-08T08:01:20.015Z"
   },
   {
    "duration": 223507,
    "start_time": "2024-11-08T08:01:20.252Z"
   },
   {
    "duration": 215,
    "start_time": "2024-11-08T08:05:03.762Z"
   },
   {
    "duration": 11,
    "start_time": "2024-11-08T08:07:29.326Z"
   },
   {
    "duration": 3,
    "start_time": "2024-11-08T08:10:12.007Z"
   },
   {
    "duration": 7,
    "start_time": "2024-11-08T08:10:55.246Z"
   },
   {
    "duration": 97,
    "start_time": "2024-11-08T08:14:11.729Z"
   },
   {
    "duration": 20,
    "start_time": "2024-11-08T08:15:38.526Z"
   },
   {
    "duration": 33,
    "start_time": "2024-11-08T08:18:35.986Z"
   },
   {
    "duration": 22,
    "start_time": "2024-11-08T08:18:41.926Z"
   },
   {
    "duration": 1086,
    "start_time": "2024-11-08T08:26:28.070Z"
   },
   {
    "duration": 38,
    "start_time": "2024-11-08T08:26:29.158Z"
   },
   {
    "duration": 14,
    "start_time": "2024-11-08T08:26:29.197Z"
   },
   {
    "duration": 143,
    "start_time": "2024-11-08T08:26:29.212Z"
   },
   {
    "duration": 211,
    "start_time": "2024-11-08T08:26:29.358Z"
   },
   {
    "duration": 285,
    "start_time": "2024-11-08T08:26:29.571Z"
   },
   {
    "duration": 20,
    "start_time": "2024-11-08T08:26:29.858Z"
   },
   {
    "duration": 432,
    "start_time": "2024-11-08T08:26:29.879Z"
   },
   {
    "duration": 227,
    "start_time": "2024-11-08T08:26:30.313Z"
   },
   {
    "duration": 248907,
    "start_time": "2024-11-08T08:26:30.542Z"
   },
   {
    "duration": 193,
    "start_time": "2024-11-08T08:30:39.452Z"
   },
   {
    "duration": 12,
    "start_time": "2024-11-08T08:30:39.647Z"
   },
   {
    "duration": 57,
    "start_time": "2024-11-08T08:30:39.661Z"
   },
   {
    "duration": 999,
    "start_time": "2024-11-08T08:30:39.722Z"
   },
   {
    "duration": 321,
    "start_time": "2024-11-08T08:38:17.439Z"
   },
   {
    "duration": 140,
    "start_time": "2024-11-08T08:38:44.200Z"
   },
   {
    "duration": 552867,
    "start_time": "2024-11-08T08:38:50.764Z"
   },
   {
    "duration": 197,
    "start_time": "2024-11-08T08:48:03.633Z"
   },
   {
    "duration": 12,
    "start_time": "2024-11-08T08:49:07.319Z"
   },
   {
    "duration": 1116,
    "start_time": "2024-11-08T08:51:14.386Z"
   },
   {
    "duration": 37,
    "start_time": "2024-11-08T08:51:15.504Z"
   },
   {
    "duration": 4,
    "start_time": "2024-11-08T08:51:15.542Z"
   },
   {
    "duration": 156,
    "start_time": "2024-11-08T08:51:15.547Z"
   },
   {
    "duration": 247,
    "start_time": "2024-11-08T08:51:15.705Z"
   },
   {
    "duration": 219,
    "start_time": "2024-11-08T08:51:15.954Z"
   },
   {
    "duration": 52,
    "start_time": "2024-11-08T08:51:16.175Z"
   },
   {
    "duration": 393,
    "start_time": "2024-11-08T08:51:16.229Z"
   },
   {
    "duration": 264,
    "start_time": "2024-11-08T08:51:16.624Z"
   },
   {
    "duration": 1122,
    "start_time": "2024-11-08T08:52:18.084Z"
   },
   {
    "duration": 37,
    "start_time": "2024-11-08T08:52:19.209Z"
   },
   {
    "duration": 4,
    "start_time": "2024-11-08T08:52:19.248Z"
   },
   {
    "duration": 166,
    "start_time": "2024-11-08T08:52:19.253Z"
   },
   {
    "duration": 236,
    "start_time": "2024-11-08T08:52:19.422Z"
   },
   {
    "duration": 269,
    "start_time": "2024-11-08T08:52:19.660Z"
   },
   {
    "duration": 22,
    "start_time": "2024-11-08T08:52:19.931Z"
   },
   {
    "duration": 462,
    "start_time": "2024-11-08T08:52:19.955Z"
   },
   {
    "duration": 252,
    "start_time": "2024-11-08T08:52:20.420Z"
   },
   {
    "duration": 198063,
    "start_time": "2024-11-08T08:52:20.674Z"
   },
   {
    "duration": 195,
    "start_time": "2024-11-08T08:55:38.738Z"
   },
   {
    "duration": 13,
    "start_time": "2024-11-08T08:55:38.936Z"
   },
   {
    "duration": 27,
    "start_time": "2024-11-08T08:55:38.950Z"
   },
   {
    "duration": 1012,
    "start_time": "2024-11-08T08:55:39.009Z"
   },
   {
    "duration": 467118,
    "start_time": "2024-11-08T08:55:40.023Z"
   },
   {
    "duration": 11,
    "start_time": "2024-11-08T09:03:27.143Z"
   },
   {
    "duration": 201,
    "start_time": "2024-11-08T09:03:27.156Z"
   },
   {
    "duration": 308,
    "start_time": "2024-11-08T09:05:32.245Z"
   },
   {
    "duration": 1119,
    "start_time": "2024-11-08T09:11:28.619Z"
   },
   {
    "duration": 44,
    "start_time": "2024-11-08T09:11:29.741Z"
   },
   {
    "duration": 4,
    "start_time": "2024-11-08T09:11:29.786Z"
   },
   {
    "duration": 155,
    "start_time": "2024-11-08T09:11:29.792Z"
   },
   {
    "duration": 209,
    "start_time": "2024-11-08T09:11:29.951Z"
   },
   {
    "duration": 250,
    "start_time": "2024-11-08T09:11:30.161Z"
   },
   {
    "duration": 20,
    "start_time": "2024-11-08T09:11:30.413Z"
   },
   {
    "duration": 393,
    "start_time": "2024-11-08T09:11:30.435Z"
   },
   {
    "duration": 265,
    "start_time": "2024-11-08T09:11:30.830Z"
   },
   {
    "duration": 196569,
    "start_time": "2024-11-08T09:11:31.097Z"
   },
   {
    "duration": 209,
    "start_time": "2024-11-08T09:14:47.668Z"
   },
   {
    "duration": 13,
    "start_time": "2024-11-08T09:14:47.879Z"
   },
   {
    "duration": 38,
    "start_time": "2024-11-08T09:14:47.893Z"
   },
   {
    "duration": 1010,
    "start_time": "2024-11-08T09:14:47.936Z"
   },
   {
    "duration": 153705,
    "start_time": "2024-11-08T09:14:48.948Z"
   },
   {
    "duration": 54,
    "start_time": "2024-11-08T09:17:22.655Z"
   },
   {
    "duration": 169,
    "start_time": "2024-11-08T09:17:22.710Z"
   },
   {
    "duration": 51034,
    "start_time": "2024-11-08T09:21:36.602Z"
   },
   {
    "duration": 12,
    "start_time": "2024-11-08T09:22:52.561Z"
   },
   {
    "duration": 253835,
    "start_time": "2024-11-08T09:23:28.899Z"
   },
   {
    "duration": 12,
    "start_time": "2024-11-08T09:27:42.736Z"
   },
   {
    "duration": 219,
    "start_time": "2024-11-08T09:27:42.749Z"
   },
   {
    "duration": 81648,
    "start_time": "2024-11-08T09:39:20.372Z"
   },
   {
    "duration": 10,
    "start_time": "2024-11-08T09:40:42.022Z"
   },
   {
    "duration": 185,
    "start_time": "2024-11-08T09:40:42.034Z"
   },
   {
    "duration": 306,
    "start_time": "2024-11-08T09:42:55.399Z"
   },
   {
    "duration": 51,
    "start_time": "2024-11-08T09:43:24.319Z"
   },
   {
    "duration": 1130,
    "start_time": "2024-11-08T09:48:09.753Z"
   },
   {
    "duration": 39,
    "start_time": "2024-11-08T09:48:10.886Z"
   },
   {
    "duration": 4,
    "start_time": "2024-11-08T09:48:10.927Z"
   },
   {
    "duration": 155,
    "start_time": "2024-11-08T09:48:10.933Z"
   },
   {
    "duration": 254,
    "start_time": "2024-11-08T09:48:11.089Z"
   },
   {
    "duration": 230,
    "start_time": "2024-11-08T09:48:11.345Z"
   },
   {
    "duration": 32,
    "start_time": "2024-11-08T09:48:11.578Z"
   },
   {
    "duration": 400,
    "start_time": "2024-11-08T09:48:11.611Z"
   },
   {
    "duration": 224,
    "start_time": "2024-11-08T09:48:12.016Z"
   },
   {
    "duration": 102733,
    "start_time": "2024-11-08T09:48:12.243Z"
   },
   {
    "duration": 0,
    "start_time": "2024-11-08T09:49:54.978Z"
   },
   {
    "duration": 0,
    "start_time": "2024-11-08T09:49:54.979Z"
   },
   {
    "duration": 0,
    "start_time": "2024-11-08T09:49:54.981Z"
   },
   {
    "duration": 0,
    "start_time": "2024-11-08T09:49:54.982Z"
   },
   {
    "duration": 0,
    "start_time": "2024-11-08T09:49:54.983Z"
   },
   {
    "duration": 0,
    "start_time": "2024-11-08T09:49:54.985Z"
   },
   {
    "duration": 0,
    "start_time": "2024-11-08T09:49:54.986Z"
   },
   {
    "duration": 43337,
    "start_time": "2024-11-08T09:50:35.891Z"
   },
   {
    "duration": 218,
    "start_time": "2024-11-08T09:51:19.231Z"
   },
   {
    "duration": 11,
    "start_time": "2024-11-08T09:51:19.451Z"
   },
   {
    "duration": 52,
    "start_time": "2024-11-08T09:51:19.465Z"
   },
   {
    "duration": 995,
    "start_time": "2024-11-08T09:51:19.519Z"
   },
   {
    "duration": 6,
    "start_time": "2024-11-08T09:53:33.351Z"
   },
   {
    "duration": 22,
    "start_time": "2024-11-08T09:53:49.006Z"
   },
   {
    "duration": 17,
    "start_time": "2024-11-08T09:53:56.583Z"
   },
   {
    "duration": 16,
    "start_time": "2024-11-08T09:54:42.844Z"
   },
   {
    "duration": 68099,
    "start_time": "2024-11-08T09:55:08.224Z"
   },
   {
    "duration": 10,
    "start_time": "2024-11-08T09:56:16.325Z"
   },
   {
    "duration": 220,
    "start_time": "2024-11-08T09:56:16.337Z"
   },
   {
    "duration": 68612,
    "start_time": "2024-11-08T09:58:27.503Z"
   },
   {
    "duration": 10,
    "start_time": "2024-11-08T09:59:36.117Z"
   },
   {
    "duration": 204,
    "start_time": "2024-11-08T09:59:36.129Z"
   },
   {
    "duration": 57,
    "start_time": "2024-11-08T10:00:27.683Z"
   },
   {
    "duration": 257314,
    "start_time": "2024-11-08T10:00:38.803Z"
   },
   {
    "duration": 12,
    "start_time": "2024-11-08T10:04:56.118Z"
   },
   {
    "duration": 197,
    "start_time": "2024-11-08T10:04:56.131Z"
   },
   {
    "duration": 8,
    "start_time": "2024-11-08T22:28:00.581Z"
   },
   {
    "duration": 159,
    "start_time": "2024-11-08T22:28:05.738Z"
   },
   {
    "duration": 2821,
    "start_time": "2024-11-08T22:28:12.526Z"
   },
   {
    "duration": 46,
    "start_time": "2024-11-08T22:28:15.350Z"
   },
   {
    "duration": 4,
    "start_time": "2024-11-08T22:28:15.398Z"
   },
   {
    "duration": 148,
    "start_time": "2024-11-08T22:28:15.404Z"
   },
   {
    "duration": 220,
    "start_time": "2024-11-08T22:28:15.554Z"
   },
   {
    "duration": 273,
    "start_time": "2024-11-08T22:28:15.776Z"
   },
   {
    "duration": 21,
    "start_time": "2024-11-08T22:28:16.050Z"
   },
   {
    "duration": 441,
    "start_time": "2024-11-08T22:28:16.073Z"
   },
   {
    "duration": 246,
    "start_time": "2024-11-08T22:28:16.516Z"
   },
   {
    "duration": 43373,
    "start_time": "2024-11-08T22:28:16.763Z"
   },
   {
    "duration": 252,
    "start_time": "2024-11-08T22:29:00.138Z"
   },
   {
    "duration": 11,
    "start_time": "2024-11-08T22:29:00.392Z"
   },
   {
    "duration": 22,
    "start_time": "2024-11-08T22:29:00.404Z"
   },
   {
    "duration": 1036,
    "start_time": "2024-11-08T22:29:00.430Z"
   },
   {
    "duration": 258387,
    "start_time": "2024-11-08T22:29:01.467Z"
   },
   {
    "duration": 12,
    "start_time": "2024-11-08T22:33:19.856Z"
   },
   {
    "duration": 188,
    "start_time": "2024-11-08T22:33:19.870Z"
   },
   {
    "duration": 258404,
    "start_time": "2024-11-08T22:41:54.832Z"
   },
   {
    "duration": 12,
    "start_time": "2024-11-08T22:47:04.630Z"
   },
   {
    "duration": 15,
    "start_time": "2024-11-08T22:47:18.519Z"
   },
   {
    "duration": 12,
    "start_time": "2024-11-08T22:47:30.662Z"
   },
   {
    "duration": 256,
    "start_time": "2024-11-08T22:52:44.224Z"
   },
   {
    "duration": 4,
    "start_time": "2024-11-08T22:52:59.899Z"
   },
   {
    "duration": 83,
    "start_time": "2024-11-08T22:53:05.593Z"
   },
   {
    "duration": 1101,
    "start_time": "2024-11-08T22:53:36.305Z"
   },
   {
    "duration": 37,
    "start_time": "2024-11-08T22:53:37.410Z"
   },
   {
    "duration": 3,
    "start_time": "2024-11-08T22:53:37.449Z"
   },
   {
    "duration": 169,
    "start_time": "2024-11-08T22:53:37.454Z"
   },
   {
    "duration": 235,
    "start_time": "2024-11-08T22:53:37.626Z"
   },
   {
    "duration": 250,
    "start_time": "2024-11-08T22:53:37.863Z"
   },
   {
    "duration": 18,
    "start_time": "2024-11-08T22:53:38.115Z"
   },
   {
    "duration": 387,
    "start_time": "2024-11-08T22:53:38.135Z"
   },
   {
    "duration": 261,
    "start_time": "2024-11-08T22:53:38.524Z"
   },
   {
    "duration": 43940,
    "start_time": "2024-11-08T22:53:38.787Z"
   },
   {
    "duration": 276,
    "start_time": "2024-11-08T22:54:22.729Z"
   },
   {
    "duration": 12,
    "start_time": "2024-11-08T22:54:23.007Z"
   },
   {
    "duration": 30,
    "start_time": "2024-11-08T22:54:23.020Z"
   },
   {
    "duration": 998,
    "start_time": "2024-11-08T22:54:23.113Z"
   },
   {
    "duration": 258234,
    "start_time": "2024-11-08T22:54:24.112Z"
   },
   {
    "duration": 12,
    "start_time": "2024-11-08T22:58:42.348Z"
   },
   {
    "duration": 187,
    "start_time": "2024-11-08T22:58:42.361Z"
   },
   {
    "duration": 323,
    "start_time": "2024-11-08T22:58:42.550Z"
   },
   {
    "duration": 36135,
    "start_time": "2024-11-08T23:02:30.704Z"
   },
   {
    "duration": 41654,
    "start_time": "2024-11-08T23:06:20.870Z"
   },
   {
    "duration": 12742,
    "start_time": "2024-11-08T23:07:52.089Z"
   },
   {
    "duration": 17,
    "start_time": "2024-11-08T23:10:03.426Z"
   },
   {
    "duration": 20872,
    "start_time": "2024-11-08T23:10:13.944Z"
   },
   {
    "duration": 39723,
    "start_time": "2024-11-08T23:11:16.615Z"
   },
   {
    "duration": 112338,
    "start_time": "2024-11-08T23:12:01.604Z"
   },
   {
    "duration": 20985,
    "start_time": "2024-11-08T23:14:17.245Z"
   },
   {
    "duration": 22868,
    "start_time": "2024-11-08T23:14:55.849Z"
   },
   {
    "duration": 21108,
    "start_time": "2024-11-08T23:15:35.925Z"
   },
   {
    "duration": 32,
    "start_time": "2024-11-08T23:18:39.280Z"
   },
   {
    "duration": 56,
    "start_time": "2024-11-08T23:22:10.265Z"
   },
   {
    "duration": 11,
    "start_time": "2024-11-08T23:22:50.624Z"
   },
   {
    "duration": 4,
    "start_time": "2024-11-08T23:23:42.465Z"
   },
   {
    "duration": 32,
    "start_time": "2024-11-08T23:23:46.884Z"
   },
   {
    "duration": 22,
    "start_time": "2024-11-08T23:26:07.864Z"
   },
   {
    "duration": 111,
    "start_time": "2024-11-08T23:26:25.606Z"
   },
   {
    "duration": 274,
    "start_time": "2024-11-08T23:26:46.805Z"
   },
   {
    "duration": 599,
    "start_time": "2024-11-08T23:30:46.310Z"
   },
   {
    "duration": 492,
    "start_time": "2024-11-08T23:31:36.138Z"
   },
   {
    "duration": 352,
    "start_time": "2024-11-08T23:32:31.374Z"
   },
   {
    "duration": 965,
    "start_time": "2024-11-08T23:33:14.940Z"
   },
   {
    "duration": 960,
    "start_time": "2024-11-08T23:33:25.549Z"
   },
   {
    "duration": 31,
    "start_time": "2024-11-08T23:33:47.424Z"
   },
   {
    "duration": 135,
    "start_time": "2024-11-08T23:34:20.175Z"
   },
   {
    "duration": 1121,
    "start_time": "2024-11-08T23:34:40.793Z"
   },
   {
    "duration": 38,
    "start_time": "2024-11-08T23:34:41.916Z"
   },
   {
    "duration": 4,
    "start_time": "2024-11-08T23:34:41.955Z"
   },
   {
    "duration": 164,
    "start_time": "2024-11-08T23:34:41.960Z"
   },
   {
    "duration": 230,
    "start_time": "2024-11-08T23:34:42.128Z"
   },
   {
    "duration": 265,
    "start_time": "2024-11-08T23:34:42.361Z"
   },
   {
    "duration": 21,
    "start_time": "2024-11-08T23:34:42.627Z"
   },
   {
    "duration": 372,
    "start_time": "2024-11-08T23:34:42.650Z"
   },
   {
    "duration": 273,
    "start_time": "2024-11-08T23:34:43.024Z"
   },
   {
    "duration": 45511,
    "start_time": "2024-11-08T23:34:43.299Z"
   },
   {
    "duration": 216,
    "start_time": "2024-11-08T23:35:28.813Z"
   },
   {
    "duration": 13,
    "start_time": "2024-11-08T23:35:29.031Z"
   },
   {
    "duration": 62,
    "start_time": "2024-11-08T23:35:29.047Z"
   },
   {
    "duration": 1058,
    "start_time": "2024-11-08T23:35:29.113Z"
   },
   {
    "duration": 258085,
    "start_time": "2024-11-08T23:35:30.172Z"
   },
   {
    "duration": 12,
    "start_time": "2024-11-08T23:39:48.258Z"
   },
   {
    "duration": 192,
    "start_time": "2024-11-08T23:39:48.272Z"
   },
   {
    "duration": 20566,
    "start_time": "2024-11-08T23:39:48.466Z"
   },
   {
    "duration": 487,
    "start_time": "2024-11-08T23:40:09.034Z"
   },
   {
    "duration": 321,
    "start_time": "2024-11-08T23:42:41.290Z"
   },
   {
    "duration": 131,
    "start_time": "2024-11-08T23:42:44.410Z"
   },
   {
    "duration": 14006,
    "start_time": "2024-11-08T23:43:19.732Z"
   },
   {
    "duration": 1088,
    "start_time": "2024-11-08T23:49:01.603Z"
   },
   {
    "duration": 44,
    "start_time": "2024-11-08T23:49:02.693Z"
   },
   {
    "duration": 4,
    "start_time": "2024-11-08T23:49:02.739Z"
   },
   {
    "duration": 155,
    "start_time": "2024-11-08T23:49:02.745Z"
   },
   {
    "duration": 249,
    "start_time": "2024-11-08T23:49:02.902Z"
   },
   {
    "duration": 220,
    "start_time": "2024-11-08T23:49:03.154Z"
   },
   {
    "duration": 50,
    "start_time": "2024-11-08T23:49:03.375Z"
   },
   {
    "duration": 385,
    "start_time": "2024-11-08T23:49:03.426Z"
   },
   {
    "duration": 232,
    "start_time": "2024-11-08T23:49:03.813Z"
   },
   {
    "duration": 54381,
    "start_time": "2024-11-08T23:49:04.047Z"
   },
   {
    "duration": 293,
    "start_time": "2024-11-08T23:49:58.429Z"
   },
   {
    "duration": 11,
    "start_time": "2024-11-08T23:49:58.724Z"
   },
   {
    "duration": 23,
    "start_time": "2024-11-08T23:49:58.736Z"
   },
   {
    "duration": 903,
    "start_time": "2024-11-08T23:49:58.765Z"
   },
   {
    "duration": 195085,
    "start_time": "2024-11-08T23:49:59.670Z"
   },
   {
    "duration": 14,
    "start_time": "2024-11-08T23:53:14.758Z"
   },
   {
    "duration": 194,
    "start_time": "2024-11-08T23:53:14.774Z"
   },
   {
    "duration": 21051,
    "start_time": "2024-11-08T23:53:14.970Z"
   },
   {
    "duration": 588,
    "start_time": "2024-11-08T23:53:36.024Z"
   },
   {
    "duration": 288,
    "start_time": "2024-11-08T23:57:34.813Z"
   },
   {
    "duration": 1154,
    "start_time": "2024-11-08T23:58:07.231Z"
   },
   {
    "duration": 40,
    "start_time": "2024-11-08T23:58:08.387Z"
   },
   {
    "duration": 3,
    "start_time": "2024-11-08T23:58:08.429Z"
   },
   {
    "duration": 157,
    "start_time": "2024-11-08T23:58:08.434Z"
   },
   {
    "duration": 238,
    "start_time": "2024-11-08T23:58:08.593Z"
   },
   {
    "duration": 230,
    "start_time": "2024-11-08T23:58:08.833Z"
   },
   {
    "duration": 21,
    "start_time": "2024-11-08T23:58:09.066Z"
   },
   {
    "duration": 340,
    "start_time": "2024-11-08T23:58:09.089Z"
   },
   {
    "duration": 289,
    "start_time": "2024-11-08T23:58:09.431Z"
   },
   {
    "duration": 54789,
    "start_time": "2024-11-08T23:58:09.722Z"
   },
   {
    "duration": 253,
    "start_time": "2024-11-08T23:59:04.513Z"
   },
   {
    "duration": 256,
    "start_time": "2024-11-08T23:59:04.768Z"
   },
   {
    "duration": 0,
    "start_time": "2024-11-08T23:59:05.026Z"
   },
   {
    "duration": 0,
    "start_time": "2024-11-08T23:59:05.027Z"
   },
   {
    "duration": 0,
    "start_time": "2024-11-08T23:59:05.028Z"
   },
   {
    "duration": 0,
    "start_time": "2024-11-08T23:59:05.029Z"
   },
   {
    "duration": 0,
    "start_time": "2024-11-08T23:59:05.030Z"
   },
   {
    "duration": 0,
    "start_time": "2024-11-08T23:59:05.031Z"
   },
   {
    "duration": 11,
    "start_time": "2024-11-09T00:00:50.780Z"
   },
   {
    "duration": 11,
    "start_time": "2024-11-09T00:00:56.611Z"
   },
   {
    "duration": 18,
    "start_time": "2024-11-09T00:00:56.625Z"
   },
   {
    "duration": 920,
    "start_time": "2024-11-09T00:00:56.645Z"
   },
   {
    "duration": 18,
    "start_time": "2024-11-09T00:00:57.566Z"
   },
   {
    "duration": 202,
    "start_time": "2024-11-09T00:00:57.587Z"
   },
   {
    "duration": 20732,
    "start_time": "2024-11-09T00:00:57.791Z"
   },
   {
    "duration": 584,
    "start_time": "2024-11-09T00:01:18.525Z"
   },
   {
    "duration": 16,
    "start_time": "2024-11-09T00:01:50.019Z"
   },
   {
    "duration": 16,
    "start_time": "2024-11-09T00:01:55.470Z"
   },
   {
    "duration": 877,
    "start_time": "2024-11-09T00:01:55.488Z"
   },
   {
    "duration": 20,
    "start_time": "2024-11-09T00:01:56.367Z"
   },
   {
    "duration": 189,
    "start_time": "2024-11-09T00:01:56.388Z"
   },
   {
    "duration": 20559,
    "start_time": "2024-11-09T00:01:56.579Z"
   },
   {
    "duration": 801,
    "start_time": "2024-11-09T00:02:17.210Z"
   },
   {
    "duration": 20834,
    "start_time": "2024-11-09T00:03:50.903Z"
   },
   {
    "duration": 461,
    "start_time": "2024-11-09T00:06:31.765Z"
   },
   {
    "duration": 73,
    "start_time": "2024-11-09T00:07:48.359Z"
   },
   {
    "duration": 6,
    "start_time": "2024-11-09T00:08:37.860Z"
   },
   {
    "duration": 19,
    "start_time": "2024-11-09T00:08:45.831Z"
   },
   {
    "duration": 357,
    "start_time": "2024-11-09T00:09:01.280Z"
   },
   {
    "duration": 1105,
    "start_time": "2024-11-09T00:10:20.639Z"
   },
   {
    "duration": 39,
    "start_time": "2024-11-09T00:10:21.746Z"
   },
   {
    "duration": 4,
    "start_time": "2024-11-09T00:10:21.786Z"
   },
   {
    "duration": 160,
    "start_time": "2024-11-09T00:10:21.792Z"
   },
   {
    "duration": 205,
    "start_time": "2024-11-09T00:10:21.954Z"
   },
   {
    "duration": 255,
    "start_time": "2024-11-09T00:10:22.161Z"
   },
   {
    "duration": 20,
    "start_time": "2024-11-09T00:10:22.418Z"
   },
   {
    "duration": 377,
    "start_time": "2024-11-09T00:10:22.439Z"
   },
   {
    "duration": 242,
    "start_time": "2024-11-09T00:10:22.818Z"
   },
   {
    "duration": 54180,
    "start_time": "2024-11-09T00:10:23.061Z"
   },
   {
    "duration": 317,
    "start_time": "2024-11-09T00:11:17.244Z"
   },
   {
    "duration": 13,
    "start_time": "2024-11-09T00:11:17.563Z"
   },
   {
    "duration": 17,
    "start_time": "2024-11-09T00:11:17.577Z"
   },
   {
    "duration": 889,
    "start_time": "2024-11-09T00:11:17.597Z"
   },
   {
    "duration": 27,
    "start_time": "2024-11-09T00:11:18.488Z"
   },
   {
    "duration": 180,
    "start_time": "2024-11-09T00:11:18.517Z"
   },
   {
    "duration": 21137,
    "start_time": "2024-11-09T00:11:18.698Z"
   },
   {
    "duration": 578,
    "start_time": "2024-11-09T00:11:39.836Z"
   },
   {
    "duration": 0,
    "start_time": "2024-11-09T00:11:41.054Z"
   },
   {
    "duration": 20973,
    "start_time": "2024-11-09T00:12:04.951Z"
   },
   {
    "duration": 591,
    "start_time": "2024-11-09T00:12:25.926Z"
   },
   {
    "duration": 532,
    "start_time": "2024-11-09T00:14:49.791Z"
   },
   {
    "duration": 24,
    "start_time": "2024-11-09T00:16:28.371Z"
   },
   {
    "duration": 23,
    "start_time": "2024-11-09T00:17:06.056Z"
   },
   {
    "duration": 1121,
    "start_time": "2024-11-09T00:18:14.785Z"
   },
   {
    "duration": 37,
    "start_time": "2024-11-09T00:18:15.908Z"
   },
   {
    "duration": 5,
    "start_time": "2024-11-09T00:18:15.947Z"
   },
   {
    "duration": 156,
    "start_time": "2024-11-09T00:18:15.953Z"
   },
   {
    "duration": 226,
    "start_time": "2024-11-09T00:18:16.111Z"
   },
   {
    "duration": 220,
    "start_time": "2024-11-09T00:18:16.338Z"
   },
   {
    "duration": 21,
    "start_time": "2024-11-09T00:18:16.559Z"
   },
   {
    "duration": 348,
    "start_time": "2024-11-09T00:18:16.582Z"
   },
   {
    "duration": 293,
    "start_time": "2024-11-09T00:18:16.932Z"
   },
   {
    "duration": 54296,
    "start_time": "2024-11-09T00:18:17.227Z"
   },
   {
    "duration": 296,
    "start_time": "2024-11-09T00:19:11.525Z"
   },
   {
    "duration": 11,
    "start_time": "2024-11-09T00:19:11.824Z"
   },
   {
    "duration": 16,
    "start_time": "2024-11-09T00:19:11.837Z"
   },
   {
    "duration": 893,
    "start_time": "2024-11-09T00:19:11.857Z"
   },
   {
    "duration": 19,
    "start_time": "2024-11-09T00:19:12.752Z"
   },
   {
    "duration": 187,
    "start_time": "2024-11-09T00:19:12.773Z"
   },
   {
    "duration": 20968,
    "start_time": "2024-11-09T00:19:12.961Z"
   },
   {
    "duration": 583,
    "start_time": "2024-11-09T00:19:33.930Z"
   },
   {
    "duration": 288,
    "start_time": "2024-11-09T00:19:34.517Z"
   },
   {
    "duration": 20551,
    "start_time": "2024-11-09T00:23:09.482Z"
   },
   {
    "duration": 588,
    "start_time": "2024-11-09T00:23:30.035Z"
   },
   {
    "duration": 362,
    "start_time": "2024-11-09T00:23:58.441Z"
   },
   {
    "duration": 9622,
    "start_time": "2024-11-09T00:28:11.196Z"
   },
   {
    "duration": 20930,
    "start_time": "2024-11-09T00:31:52.904Z"
   },
   {
    "duration": 1084,
    "start_time": "2024-11-09T00:32:40.565Z"
   },
   {
    "duration": 36,
    "start_time": "2024-11-09T00:32:41.652Z"
   },
   {
    "duration": 3,
    "start_time": "2024-11-09T00:32:41.690Z"
   },
   {
    "duration": 165,
    "start_time": "2024-11-09T00:32:41.694Z"
   },
   {
    "duration": 205,
    "start_time": "2024-11-09T00:32:41.863Z"
   },
   {
    "duration": 276,
    "start_time": "2024-11-09T00:32:42.070Z"
   },
   {
    "duration": 20,
    "start_time": "2024-11-09T00:32:42.348Z"
   },
   {
    "duration": 355,
    "start_time": "2024-11-09T00:32:42.370Z"
   },
   {
    "duration": 263,
    "start_time": "2024-11-09T00:32:42.727Z"
   },
   {
    "duration": 54336,
    "start_time": "2024-11-09T00:32:42.991Z"
   },
   {
    "duration": 293,
    "start_time": "2024-11-09T00:33:37.329Z"
   },
   {
    "duration": 11,
    "start_time": "2024-11-09T00:33:37.624Z"
   },
   {
    "duration": 16,
    "start_time": "2024-11-09T00:33:37.637Z"
   },
   {
    "duration": 892,
    "start_time": "2024-11-09T00:33:37.657Z"
   },
   {
    "duration": 18,
    "start_time": "2024-11-09T00:33:38.550Z"
   },
   {
    "duration": 183,
    "start_time": "2024-11-09T00:33:38.570Z"
   },
   {
    "duration": 20584,
    "start_time": "2024-11-09T00:33:38.754Z"
   },
   {
    "duration": 673,
    "start_time": "2024-11-09T00:33:59.340Z"
   },
   {
    "duration": 644,
    "start_time": "2024-11-09T00:34:00.016Z"
   },
   {
    "duration": 9443,
    "start_time": "2024-11-09T00:35:44.088Z"
   },
   {
    "duration": 9403,
    "start_time": "2024-11-09T00:35:56.934Z"
   },
   {
    "duration": 9608,
    "start_time": "2024-11-09T00:36:24.823Z"
   },
   {
    "duration": 43,
    "start_time": "2024-11-09T00:36:59.418Z"
   },
   {
    "duration": 9825,
    "start_time": "2024-11-09T00:37:30.102Z"
   },
   {
    "duration": 395,
    "start_time": "2024-11-09T00:37:44.807Z"
   },
   {
    "duration": 416,
    "start_time": "2024-11-09T00:40:16.393Z"
   },
   {
    "duration": 763,
    "start_time": "2024-11-09T00:41:24.096Z"
   },
   {
    "duration": 17,
    "start_time": "2024-11-09T00:42:24.542Z"
   },
   {
    "duration": 21,
    "start_time": "2024-11-09T01:02:54.610Z"
   },
   {
    "duration": 17,
    "start_time": "2024-11-09T01:03:25.679Z"
   },
   {
    "duration": 3,
    "start_time": "2024-11-09T01:04:01.336Z"
   },
   {
    "duration": 34,
    "start_time": "2024-11-09T01:04:01.341Z"
   },
   {
    "duration": 4,
    "start_time": "2024-11-09T01:04:01.378Z"
   },
   {
    "duration": 133,
    "start_time": "2024-11-09T01:04:01.384Z"
   },
   {
    "duration": 234,
    "start_time": "2024-11-09T01:04:01.520Z"
   },
   {
    "duration": 215,
    "start_time": "2024-11-09T01:04:01.756Z"
   },
   {
    "duration": 51,
    "start_time": "2024-11-09T01:04:01.973Z"
   },
   {
    "duration": 302,
    "start_time": "2024-11-09T01:04:02.025Z"
   },
   {
    "duration": 264,
    "start_time": "2024-11-09T01:04:02.329Z"
   },
   {
    "duration": 53738,
    "start_time": "2024-11-09T01:04:02.595Z"
   },
   {
    "duration": 224,
    "start_time": "2024-11-09T01:04:56.335Z"
   },
   {
    "duration": 12,
    "start_time": "2024-11-09T01:04:56.561Z"
   },
   {
    "duration": 379,
    "start_time": "2024-11-09T01:04:56.575Z"
   },
   {
    "duration": 0,
    "start_time": "2024-11-09T01:04:56.955Z"
   },
   {
    "duration": 0,
    "start_time": "2024-11-09T01:04:56.956Z"
   },
   {
    "duration": 0,
    "start_time": "2024-11-09T01:04:56.957Z"
   },
   {
    "duration": 0,
    "start_time": "2024-11-09T01:04:56.959Z"
   },
   {
    "duration": 0,
    "start_time": "2024-11-09T01:04:56.959Z"
   },
   {
    "duration": 0,
    "start_time": "2024-11-09T01:04:56.960Z"
   },
   {
    "duration": 4,
    "start_time": "2024-11-09T01:05:17.304Z"
   },
   {
    "duration": 33,
    "start_time": "2024-11-09T01:05:17.311Z"
   },
   {
    "duration": 4,
    "start_time": "2024-11-09T01:05:17.346Z"
   },
   {
    "duration": 155,
    "start_time": "2024-11-09T01:05:17.351Z"
   },
   {
    "duration": 244,
    "start_time": "2024-11-09T01:05:17.509Z"
   },
   {
    "duration": 221,
    "start_time": "2024-11-09T01:05:17.755Z"
   },
   {
    "duration": 50,
    "start_time": "2024-11-09T01:05:17.978Z"
   },
   {
    "duration": 382,
    "start_time": "2024-11-09T01:05:18.029Z"
   },
   {
    "duration": 220,
    "start_time": "2024-11-09T01:05:18.413Z"
   },
   {
    "duration": 54501,
    "start_time": "2024-11-09T01:05:18.635Z"
   },
   {
    "duration": 246,
    "start_time": "2024-11-09T01:06:13.138Z"
   },
   {
    "duration": 12,
    "start_time": "2024-11-09T01:06:13.385Z"
   },
   {
    "duration": 50,
    "start_time": "2024-11-09T01:06:13.399Z"
   },
   {
    "duration": 0,
    "start_time": "2024-11-09T01:06:13.450Z"
   },
   {
    "duration": 0,
    "start_time": "2024-11-09T01:06:13.452Z"
   },
   {
    "duration": 0,
    "start_time": "2024-11-09T01:06:13.453Z"
   },
   {
    "duration": 0,
    "start_time": "2024-11-09T01:06:13.454Z"
   },
   {
    "duration": 1,
    "start_time": "2024-11-09T01:06:13.454Z"
   },
   {
    "duration": 0,
    "start_time": "2024-11-09T01:06:13.455Z"
   },
   {
    "duration": 17,
    "start_time": "2024-11-09T01:07:43.569Z"
   },
   {
    "duration": 956,
    "start_time": "2024-11-09T01:07:54.472Z"
   },
   {
    "duration": 18,
    "start_time": "2024-11-09T01:07:55.430Z"
   },
   {
    "duration": 9586,
    "start_time": "2024-11-09T01:07:55.450Z"
   },
   {
    "duration": 571,
    "start_time": "2024-11-09T01:08:05.039Z"
   },
   {
    "duration": 412,
    "start_time": "2024-11-09T01:08:05.611Z"
   },
   {
    "duration": 15,
    "start_time": "2024-11-09T01:08:06.025Z"
   },
   {
    "duration": 2798,
    "start_time": "2024-11-09T01:48:20.604Z"
   },
   {
    "duration": 91,
    "start_time": "2024-11-09T01:48:23.405Z"
   },
   {
    "duration": 9,
    "start_time": "2024-11-09T01:48:23.497Z"
   },
   {
    "duration": 148,
    "start_time": "2024-11-09T01:48:23.508Z"
   },
   {
    "duration": 257,
    "start_time": "2024-11-09T01:48:23.658Z"
   },
   {
    "duration": 245,
    "start_time": "2024-11-09T01:48:23.916Z"
   },
   {
    "duration": 22,
    "start_time": "2024-11-09T01:48:24.163Z"
   },
   {
    "duration": 337,
    "start_time": "2024-11-09T01:48:24.187Z"
   },
   {
    "duration": 272,
    "start_time": "2024-11-09T01:48:24.526Z"
   },
   {
    "duration": 54024,
    "start_time": "2024-11-09T01:48:24.800Z"
   },
   {
    "duration": 236,
    "start_time": "2024-11-09T01:49:18.826Z"
   },
   {
    "duration": 11,
    "start_time": "2024-11-09T01:49:19.063Z"
   },
   {
    "duration": 17,
    "start_time": "2024-11-09T01:49:19.076Z"
   },
   {
    "duration": 1009,
    "start_time": "2024-11-09T01:49:19.096Z"
   },
   {
    "duration": 20,
    "start_time": "2024-11-09T01:49:20.106Z"
   },
   {
    "duration": 9604,
    "start_time": "2024-11-09T01:49:20.128Z"
   },
   {
    "duration": 574,
    "start_time": "2024-11-09T01:49:29.734Z"
   },
   {
    "duration": 424,
    "start_time": "2024-11-09T01:49:30.309Z"
   },
   {
    "duration": 15,
    "start_time": "2024-11-09T01:49:30.735Z"
   },
   {
    "duration": 15,
    "start_time": "2024-11-09T01:53:27.190Z"
   },
   {
    "duration": 182,
    "start_time": "2024-11-09T01:54:28.289Z"
   },
   {
    "duration": 1062,
    "start_time": "2024-11-09T02:05:44.284Z"
   },
   {
    "duration": 39,
    "start_time": "2024-11-09T02:05:45.348Z"
   },
   {
    "duration": 3,
    "start_time": "2024-11-09T02:05:45.389Z"
   },
   {
    "duration": 156,
    "start_time": "2024-11-09T02:05:45.394Z"
   },
   {
    "duration": 204,
    "start_time": "2024-11-09T02:05:45.552Z"
   },
   {
    "duration": 278,
    "start_time": "2024-11-09T02:05:45.758Z"
   },
   {
    "duration": 21,
    "start_time": "2024-11-09T02:05:46.038Z"
   },
   {
    "duration": 357,
    "start_time": "2024-11-09T02:05:46.061Z"
   },
   {
    "duration": 256,
    "start_time": "2024-11-09T02:05:46.420Z"
   },
   {
    "duration": 54240,
    "start_time": "2024-11-09T02:05:46.678Z"
   },
   {
    "duration": 281,
    "start_time": "2024-11-09T02:06:40.920Z"
   },
   {
    "duration": 11,
    "start_time": "2024-11-09T02:06:41.203Z"
   },
   {
    "duration": 26,
    "start_time": "2024-11-09T02:06:41.216Z"
   },
   {
    "duration": 1016,
    "start_time": "2024-11-09T02:06:41.245Z"
   },
   {
    "duration": 18,
    "start_time": "2024-11-09T02:06:42.263Z"
   },
   {
    "duration": 9646,
    "start_time": "2024-11-09T02:06:42.282Z"
   },
   {
    "duration": 500,
    "start_time": "2024-11-09T02:06:51.930Z"
   },
   {
    "duration": 541,
    "start_time": "2024-11-09T02:06:52.432Z"
   },
   {
    "duration": 195,
    "start_time": "2024-11-09T02:06:52.975Z"
   },
   {
    "duration": 164,
    "start_time": "2024-11-11T06:19:05.923Z"
   },
   {
    "duration": 2794,
    "start_time": "2024-11-11T06:19:18.980Z"
   },
   {
    "duration": 49,
    "start_time": "2024-11-11T06:19:21.777Z"
   },
   {
    "duration": 4,
    "start_time": "2024-11-11T06:19:21.828Z"
   },
   {
    "duration": 146,
    "start_time": "2024-11-11T06:19:21.833Z"
   },
   {
    "duration": 270,
    "start_time": "2024-11-11T06:19:21.980Z"
   },
   {
    "duration": 215,
    "start_time": "2024-11-11T06:19:22.252Z"
   },
   {
    "duration": 124,
    "start_time": "2024-11-11T06:19:27.982Z"
   },
   {
    "duration": 4,
    "start_time": "2024-11-11T06:19:51.264Z"
   },
   {
    "duration": 31,
    "start_time": "2024-11-11T06:19:56.023Z"
   },
   {
    "duration": 4,
    "start_time": "2024-11-11T06:20:12.386Z"
   },
   {
    "duration": 32,
    "start_time": "2024-11-11T06:20:12.392Z"
   },
   {
    "duration": 3,
    "start_time": "2024-11-11T06:20:12.426Z"
   },
   {
    "duration": 130,
    "start_time": "2024-11-11T06:20:12.431Z"
   },
   {
    "duration": 195,
    "start_time": "2024-11-11T06:20:12.563Z"
   },
   {
    "duration": 287,
    "start_time": "2024-11-11T06:20:12.760Z"
   },
   {
    "duration": 251,
    "start_time": "2024-11-11T06:20:17.846Z"
   },
   {
    "duration": 203,
    "start_time": "2024-11-11T06:20:32.063Z"
   },
   {
    "duration": 276,
    "start_time": "2024-11-11T06:20:38.565Z"
   },
   {
    "duration": 211,
    "start_time": "2024-11-11T06:22:57.423Z"
   },
   {
    "duration": 208,
    "start_time": "2024-11-11T06:23:09.525Z"
   },
   {
    "duration": 4,
    "start_time": "2024-11-11T06:30:50.960Z"
   },
   {
    "duration": 32,
    "start_time": "2024-11-11T06:30:50.966Z"
   },
   {
    "duration": 4,
    "start_time": "2024-11-11T06:30:51.000Z"
   },
   {
    "duration": 119,
    "start_time": "2024-11-11T06:30:51.006Z"
   },
   {
    "duration": 218,
    "start_time": "2024-11-11T06:30:51.128Z"
   },
   {
    "duration": 208,
    "start_time": "2024-11-11T06:30:51.348Z"
   },
   {
    "duration": 201,
    "start_time": "2024-11-11T06:30:51.558Z"
   },
   {
    "duration": 66,
    "start_time": "2024-11-11T06:30:51.761Z"
   },
   {
    "duration": 382,
    "start_time": "2024-11-11T06:30:51.829Z"
   },
   {
    "duration": 233,
    "start_time": "2024-11-11T06:30:52.213Z"
   },
   {
    "duration": 53976,
    "start_time": "2024-11-11T06:30:52.448Z"
   },
   {
    "duration": 195,
    "start_time": "2024-11-11T06:31:46.426Z"
   },
   {
    "duration": 11,
    "start_time": "2024-11-11T06:31:46.623Z"
   },
   {
    "duration": 17,
    "start_time": "2024-11-11T06:31:46.637Z"
   },
   {
    "duration": 952,
    "start_time": "2024-11-11T06:32:18.184Z"
   },
   {
    "duration": 4936,
    "start_time": "2024-11-11T06:33:50.559Z"
   },
   {
    "duration": 4966,
    "start_time": "2024-11-11T06:36:19.123Z"
   },
   {
    "duration": 19710,
    "start_time": "2024-11-11T06:38:20.625Z"
   },
   {
    "duration": 9594,
    "start_time": "2024-11-11T06:42:29.143Z"
   },
   {
    "duration": 434,
    "start_time": "2024-11-11T06:52:41.884Z"
   },
   {
    "duration": 1101,
    "start_time": "2024-11-11T06:54:04.406Z"
   },
   {
    "duration": 37,
    "start_time": "2024-11-11T06:54:05.510Z"
   },
   {
    "duration": 3,
    "start_time": "2024-11-11T06:54:05.549Z"
   },
   {
    "duration": 147,
    "start_time": "2024-11-11T06:54:05.554Z"
   },
   {
    "duration": 235,
    "start_time": "2024-11-11T06:54:05.703Z"
   },
   {
    "duration": 214,
    "start_time": "2024-11-11T06:54:05.940Z"
   },
   {
    "duration": 195,
    "start_time": "2024-11-11T06:54:06.155Z"
   },
   {
    "duration": 22,
    "start_time": "2024-11-11T06:54:06.352Z"
   },
   {
    "duration": 350,
    "start_time": "2024-11-11T06:54:06.376Z"
   },
   {
    "duration": 265,
    "start_time": "2024-11-11T06:54:06.728Z"
   },
   {
    "duration": 54224,
    "start_time": "2024-11-11T06:54:06.995Z"
   },
   {
    "duration": 208,
    "start_time": "2024-11-11T06:55:01.222Z"
   },
   {
    "duration": 12,
    "start_time": "2024-11-11T06:55:01.431Z"
   },
   {
    "duration": 18,
    "start_time": "2024-11-11T06:55:01.446Z"
   },
   {
    "duration": 1033,
    "start_time": "2024-11-11T06:55:01.466Z"
   },
   {
    "duration": 19622,
    "start_time": "2024-11-11T06:55:02.501Z"
   },
   {
    "duration": 9513,
    "start_time": "2024-11-11T06:55:22.125Z"
   },
   {
    "duration": 568,
    "start_time": "2024-11-11T06:55:31.640Z"
   },
   {
    "duration": 19,
    "start_time": "2024-11-11T06:55:32.210Z"
   },
   {
    "duration": 417,
    "start_time": "2024-11-11T06:55:32.231Z"
   },
   {
    "duration": 193,
    "start_time": "2024-11-11T06:55:32.650Z"
   }
  ],
  "kernelspec": {
   "display_name": "Python 3 (ipykernel)",
   "language": "python",
   "name": "python3"
  },
  "language_info": {
   "codemirror_mode": {
    "name": "ipython",
    "version": 3
   },
   "file_extension": ".py",
   "mimetype": "text/x-python",
   "name": "python",
   "nbconvert_exporter": "python",
   "pygments_lexer": "ipython3",
   "version": "3.9.19"
  },
  "toc": {
   "base_numbering": 1,
   "nav_menu": {},
   "number_sections": true,
   "sideBar": true,
   "skip_h1_title": true,
   "title_cell": "Table of Contents",
   "title_sidebar": "Contents",
   "toc_cell": false,
   "toc_position": {
    "height": "calc(100% - 180px)",
    "left": "10px",
    "top": "150px",
    "width": "210.6px"
   },
   "toc_section_display": true,
   "toc_window_display": true
  }
 },
 "nbformat": 4,
 "nbformat_minor": 2
}

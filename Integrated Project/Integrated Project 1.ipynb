{
 "cells": [
  {
   "cell_type": "markdown",
   "metadata": {},
   "source": [
    "<div style=\"border:solid green 2px; padding: 20px\"> <h1 style=\"color:green; margin-bottom:20px\">Reviewer's comment v1</h1>\n",
    "\n",
    "Hello Enrique!\n",
    "\n",
    "I'm happy to review your project today 🙌\n",
    "\n",
    "You can find my comments under the heading **«Review»**. I will categorize my comments in green, blue or red boxes like this:\n",
    "\n",
    "<div class=\"alert alert-success\">\n",
    "    <b>Success:</b> if everything is done successfully\n",
    "</div>\n",
    "<div class=\"alert alert-warning\">\n",
    "    <b>Remarks:</b> if I can give some recommendations or ways to improve the project\n",
    "</div>\n",
    "<div class=\"alert alert-danger\">\n",
    "    <b>Needs fixing:</b> if the block requires some corrections. Work can't be accepted with the red comments\n",
    "</div>\n",
    "\n",
    "Please don't remove my comments. If you have any questions, don't hesitate to respond to my comments in a different section.\n",
    "    \n",
    "<div class=\"alert alert-info\"> <b>Student comments:</b> For example like this</div>     \n"
   ]
  },
  {
   "cell_type": "markdown",
   "metadata": {},
   "source": [
    "<div style=\"border:solid green 2px; padding: 20px\">\n",
    "<b>Reviewer's comment v1</b>\n",
    "    \n",
    "<b>Overall Feedback</b> \n",
    " \n",
    "Hello Enrique, \n",
    "    \n",
    "You’ve submitted another project—great work! Your commitment to pushing through the challenges of this program is admirable.\n",
    "\n",
    "After reviewing your submission, I’ve returned it with some feedback to help you make the necessary improvements. You can find my more detailed feedaback within your project file in the `Reviewer's comment v1` section.\n",
    "    \n",
    "Keep in mind that revisions are a normal and valuable part of the learning process. Use this feedback to refine your work and resubmit when you’re ready. I know you’re capable of great things, and I’m here to support you every step of the way. Keep going—you’re doing a great job! 🏄\n",
    "    \n",
    "And of course, if you have any questions along the way, remember that you can always reach out to your tutor for any clarification.\n",
    "</div>"
   ]
  },
  {
   "cell_type": "markdown",
   "metadata": {},
   "source": [
    "<div style=\"border:solid green 2px; padding: 20px\">\n",
    "<b>Reviewer's comment v2:</b>\n",
    "    \n",
    "<b>Overall Feedback</b> \n",
    "    \n",
    "Thank you for going an extra mile and making changes in your project.\n",
    "\n",
    "Now everything is perfect. No critial issues left, so your project has been accepted!\n",
    "    \n",
    "Wish you cool projects in the next sprints! ☘️   "
   ]
  },
  {
   "cell_type": "markdown",
   "metadata": {},
   "source": [
    "# Analysis of Video Game Sales Data"
   ]
  },
  {
   "cell_type": "markdown",
   "metadata": {},
   "source": [
    "We will dive into video game sales data from the online store Ice, in order to identify patterns and increase our chances of finding the next big winner and market accordingly."
   ]
  },
  {
   "cell_type": "markdown",
   "metadata": {},
   "source": [
    "<div class=\"alert alert-block alert-success\">\n",
    "<b>Reviewer's comment v1</b>\n",
    " \n",
    "Great that you've added additional information about the project goal. Could be also helpful to share steps you will complete.\n",
    "\n",
    "</div>"
   ]
  },
  {
   "cell_type": "code",
   "execution_count": 1,
   "metadata": {},
   "outputs": [],
   "source": [
    "import pandas as pd\n",
    "import numpy as np\n",
    "import matplotlib.pyplot as plt\n",
    "import seaborn as sns\n",
    "from scipy import stats"
   ]
  },
  {
   "cell_type": "code",
   "execution_count": 2,
   "metadata": {},
   "outputs": [],
   "source": [
    "games = pd.read_csv(\"/datasets/games.csv\")"
   ]
  },
  {
   "cell_type": "code",
   "execution_count": 3,
   "metadata": {},
   "outputs": [
    {
     "name": "stdout",
     "output_type": "stream",
     "text": [
      "<class 'pandas.core.frame.DataFrame'>\n",
      "RangeIndex: 16715 entries, 0 to 16714\n",
      "Data columns (total 11 columns):\n",
      " #   Column           Non-Null Count  Dtype  \n",
      "---  ------           --------------  -----  \n",
      " 0   Name             16713 non-null  object \n",
      " 1   Platform         16715 non-null  object \n",
      " 2   Year_of_Release  16446 non-null  float64\n",
      " 3   Genre            16713 non-null  object \n",
      " 4   NA_sales         16715 non-null  float64\n",
      " 5   EU_sales         16715 non-null  float64\n",
      " 6   JP_sales         16715 non-null  float64\n",
      " 7   Other_sales      16715 non-null  float64\n",
      " 8   Critic_Score     8137 non-null   float64\n",
      " 9   User_Score       10014 non-null  object \n",
      " 10  Rating           9949 non-null   object \n",
      "dtypes: float64(6), object(5)\n",
      "memory usage: 1.4+ MB\n"
     ]
    },
    {
     "data": {
      "text/html": [
       "<div>\n",
       "<style scoped>\n",
       "    .dataframe tbody tr th:only-of-type {\n",
       "        vertical-align: middle;\n",
       "    }\n",
       "\n",
       "    .dataframe tbody tr th {\n",
       "        vertical-align: top;\n",
       "    }\n",
       "\n",
       "    .dataframe thead th {\n",
       "        text-align: right;\n",
       "    }\n",
       "</style>\n",
       "<table border=\"1\" class=\"dataframe\">\n",
       "  <thead>\n",
       "    <tr style=\"text-align: right;\">\n",
       "      <th></th>\n",
       "      <th>Name</th>\n",
       "      <th>Platform</th>\n",
       "      <th>Year_of_Release</th>\n",
       "      <th>Genre</th>\n",
       "      <th>NA_sales</th>\n",
       "      <th>EU_sales</th>\n",
       "      <th>JP_sales</th>\n",
       "      <th>Other_sales</th>\n",
       "      <th>Critic_Score</th>\n",
       "      <th>User_Score</th>\n",
       "      <th>Rating</th>\n",
       "    </tr>\n",
       "  </thead>\n",
       "  <tbody>\n",
       "    <tr>\n",
       "      <th>0</th>\n",
       "      <td>Wii Sports</td>\n",
       "      <td>Wii</td>\n",
       "      <td>2006.0</td>\n",
       "      <td>Sports</td>\n",
       "      <td>41.36</td>\n",
       "      <td>28.96</td>\n",
       "      <td>3.77</td>\n",
       "      <td>8.45</td>\n",
       "      <td>76.0</td>\n",
       "      <td>8</td>\n",
       "      <td>E</td>\n",
       "    </tr>\n",
       "    <tr>\n",
       "      <th>1</th>\n",
       "      <td>Super Mario Bros.</td>\n",
       "      <td>NES</td>\n",
       "      <td>1985.0</td>\n",
       "      <td>Platform</td>\n",
       "      <td>29.08</td>\n",
       "      <td>3.58</td>\n",
       "      <td>6.81</td>\n",
       "      <td>0.77</td>\n",
       "      <td>NaN</td>\n",
       "      <td>NaN</td>\n",
       "      <td>NaN</td>\n",
       "    </tr>\n",
       "    <tr>\n",
       "      <th>2</th>\n",
       "      <td>Mario Kart Wii</td>\n",
       "      <td>Wii</td>\n",
       "      <td>2008.0</td>\n",
       "      <td>Racing</td>\n",
       "      <td>15.68</td>\n",
       "      <td>12.76</td>\n",
       "      <td>3.79</td>\n",
       "      <td>3.29</td>\n",
       "      <td>82.0</td>\n",
       "      <td>8.3</td>\n",
       "      <td>E</td>\n",
       "    </tr>\n",
       "    <tr>\n",
       "      <th>3</th>\n",
       "      <td>Wii Sports Resort</td>\n",
       "      <td>Wii</td>\n",
       "      <td>2009.0</td>\n",
       "      <td>Sports</td>\n",
       "      <td>15.61</td>\n",
       "      <td>10.93</td>\n",
       "      <td>3.28</td>\n",
       "      <td>2.95</td>\n",
       "      <td>80.0</td>\n",
       "      <td>8</td>\n",
       "      <td>E</td>\n",
       "    </tr>\n",
       "    <tr>\n",
       "      <th>4</th>\n",
       "      <td>Pokemon Red/Pokemon Blue</td>\n",
       "      <td>GB</td>\n",
       "      <td>1996.0</td>\n",
       "      <td>Role-Playing</td>\n",
       "      <td>11.27</td>\n",
       "      <td>8.89</td>\n",
       "      <td>10.22</td>\n",
       "      <td>1.00</td>\n",
       "      <td>NaN</td>\n",
       "      <td>NaN</td>\n",
       "      <td>NaN</td>\n",
       "    </tr>\n",
       "  </tbody>\n",
       "</table>\n",
       "</div>"
      ],
      "text/plain": [
       "                       Name Platform  Year_of_Release         Genre  NA_sales  \\\n",
       "0                Wii Sports      Wii           2006.0        Sports     41.36   \n",
       "1         Super Mario Bros.      NES           1985.0      Platform     29.08   \n",
       "2            Mario Kart Wii      Wii           2008.0        Racing     15.68   \n",
       "3         Wii Sports Resort      Wii           2009.0        Sports     15.61   \n",
       "4  Pokemon Red/Pokemon Blue       GB           1996.0  Role-Playing     11.27   \n",
       "\n",
       "   EU_sales  JP_sales  Other_sales  Critic_Score User_Score Rating  \n",
       "0     28.96      3.77         8.45          76.0          8      E  \n",
       "1      3.58      6.81         0.77           NaN        NaN    NaN  \n",
       "2     12.76      3.79         3.29          82.0        8.3      E  \n",
       "3     10.93      3.28         2.95          80.0          8      E  \n",
       "4      8.89     10.22         1.00           NaN        NaN    NaN  "
      ]
     },
     "metadata": {},
     "output_type": "display_data"
    }
   ],
   "source": [
    "games.info() #getting a general idea of the info in the dataset\n",
    "display(games.head())"
   ]
  },
  {
   "cell_type": "code",
   "execution_count": 4,
   "metadata": {},
   "outputs": [
    {
     "data": {
      "text/html": [
       "<div>\n",
       "<style scoped>\n",
       "    .dataframe tbody tr th:only-of-type {\n",
       "        vertical-align: middle;\n",
       "    }\n",
       "\n",
       "    .dataframe tbody tr th {\n",
       "        vertical-align: top;\n",
       "    }\n",
       "\n",
       "    .dataframe thead th {\n",
       "        text-align: right;\n",
       "    }\n",
       "</style>\n",
       "<table border=\"1\" class=\"dataframe\">\n",
       "  <thead>\n",
       "    <tr style=\"text-align: right;\">\n",
       "      <th></th>\n",
       "      <th>name</th>\n",
       "      <th>platform</th>\n",
       "      <th>year_of_release</th>\n",
       "      <th>genre</th>\n",
       "      <th>na_sales</th>\n",
       "      <th>eu_sales</th>\n",
       "      <th>jp_sales</th>\n",
       "      <th>other_sales</th>\n",
       "      <th>critic_score</th>\n",
       "      <th>user_score</th>\n",
       "      <th>rating</th>\n",
       "    </tr>\n",
       "  </thead>\n",
       "  <tbody>\n",
       "    <tr>\n",
       "      <th>0</th>\n",
       "      <td>Wii Sports</td>\n",
       "      <td>Wii</td>\n",
       "      <td>2006.0</td>\n",
       "      <td>Sports</td>\n",
       "      <td>41.36</td>\n",
       "      <td>28.96</td>\n",
       "      <td>3.77</td>\n",
       "      <td>8.45</td>\n",
       "      <td>76.0</td>\n",
       "      <td>8</td>\n",
       "      <td>E</td>\n",
       "    </tr>\n",
       "    <tr>\n",
       "      <th>1</th>\n",
       "      <td>Super Mario Bros.</td>\n",
       "      <td>NES</td>\n",
       "      <td>1985.0</td>\n",
       "      <td>Platform</td>\n",
       "      <td>29.08</td>\n",
       "      <td>3.58</td>\n",
       "      <td>6.81</td>\n",
       "      <td>0.77</td>\n",
       "      <td>NaN</td>\n",
       "      <td>NaN</td>\n",
       "      <td>NaN</td>\n",
       "    </tr>\n",
       "    <tr>\n",
       "      <th>2</th>\n",
       "      <td>Mario Kart Wii</td>\n",
       "      <td>Wii</td>\n",
       "      <td>2008.0</td>\n",
       "      <td>Racing</td>\n",
       "      <td>15.68</td>\n",
       "      <td>12.76</td>\n",
       "      <td>3.79</td>\n",
       "      <td>3.29</td>\n",
       "      <td>82.0</td>\n",
       "      <td>8.3</td>\n",
       "      <td>E</td>\n",
       "    </tr>\n",
       "    <tr>\n",
       "      <th>3</th>\n",
       "      <td>Wii Sports Resort</td>\n",
       "      <td>Wii</td>\n",
       "      <td>2009.0</td>\n",
       "      <td>Sports</td>\n",
       "      <td>15.61</td>\n",
       "      <td>10.93</td>\n",
       "      <td>3.28</td>\n",
       "      <td>2.95</td>\n",
       "      <td>80.0</td>\n",
       "      <td>8</td>\n",
       "      <td>E</td>\n",
       "    </tr>\n",
       "    <tr>\n",
       "      <th>4</th>\n",
       "      <td>Pokemon Red/Pokemon Blue</td>\n",
       "      <td>GB</td>\n",
       "      <td>1996.0</td>\n",
       "      <td>Role-Playing</td>\n",
       "      <td>11.27</td>\n",
       "      <td>8.89</td>\n",
       "      <td>10.22</td>\n",
       "      <td>1.00</td>\n",
       "      <td>NaN</td>\n",
       "      <td>NaN</td>\n",
       "      <td>NaN</td>\n",
       "    </tr>\n",
       "  </tbody>\n",
       "</table>\n",
       "</div>"
      ],
      "text/plain": [
       "                       name platform  year_of_release         genre  na_sales  \\\n",
       "0                Wii Sports      Wii           2006.0        Sports     41.36   \n",
       "1         Super Mario Bros.      NES           1985.0      Platform     29.08   \n",
       "2            Mario Kart Wii      Wii           2008.0        Racing     15.68   \n",
       "3         Wii Sports Resort      Wii           2009.0        Sports     15.61   \n",
       "4  Pokemon Red/Pokemon Blue       GB           1996.0  Role-Playing     11.27   \n",
       "\n",
       "   eu_sales  jp_sales  other_sales  critic_score user_score rating  \n",
       "0     28.96      3.77         8.45          76.0          8      E  \n",
       "1      3.58      6.81         0.77           NaN        NaN    NaN  \n",
       "2     12.76      3.79         3.29          82.0        8.3      E  \n",
       "3     10.93      3.28         2.95          80.0          8      E  \n",
       "4      8.89     10.22         1.00           NaN        NaN    NaN  "
      ]
     },
     "execution_count": 4,
     "metadata": {},
     "output_type": "execute_result"
    }
   ],
   "source": [
    "games.columns = games.columns.str.lower()\n",
    "games.head() #changing columns to lowercase for simplicity "
   ]
  },
  {
   "cell_type": "markdown",
   "metadata": {},
   "source": [
    "<div class=\"alert alert-block alert-success\">\n",
    "<b>Reviewer's comment v1:</b>\n",
    "    \n",
    "Regarding the column names change, everything is correct. The most typical approach is to use snake case first_name. You can read about it here - https://levelup.gitconnected.com/case-styles-in-python-fd9591e57f86 \n",
    "\n",
    "</div>"
   ]
  },
  {
   "cell_type": "code",
   "execution_count": 5,
   "metadata": {},
   "outputs": [
    {
     "data": {
      "text/plain": [
       "2"
      ]
     },
     "execution_count": 5,
     "metadata": {},
     "output_type": "execute_result"
    }
   ],
   "source": [
    "games['name'].isna().sum()"
   ]
  },
  {
   "cell_type": "markdown",
   "metadata": {},
   "source": [
    "<div class=\"alert alert-warning\">\n",
    "<b>Reviewer's comment v1:</b>\n",
    "    \n",
    "It could be helpful to check not only the total amount of missing values in each column but also look at the percentage of missing values. It helps to understand the overall impact. You can check percentage using, for example, this code:\n",
    "   \n",
    "\n",
    "    df.isnull().sum()/len(df)\n",
    "\n",
    "    Or you can even make a dataframe of of it using to_frame\n",
    "\n",
    "    mis_values = df.isnull().sum().to_frame('missing_values')\n",
    "    mis_values['%'] = round(df.isnull().sum()/len(df),3)\n",
    "    mis_values.sort_values(by='%', ascending=False)\n"
   ]
  },
  {
   "cell_type": "code",
   "execution_count": 6,
   "metadata": {},
   "outputs": [],
   "source": [
    "games.dropna(subset = ['name'], inplace = True)"
   ]
  },
  {
   "cell_type": "code",
   "execution_count": 7,
   "metadata": {},
   "outputs": [
    {
     "data": {
      "text/plain": [
       "0"
      ]
     },
     "execution_count": 7,
     "metadata": {},
     "output_type": "execute_result"
    }
   ],
   "source": [
    "games['name'].isna().sum() #we can just remove the two rows with no names"
   ]
  },
  {
   "cell_type": "code",
   "execution_count": 8,
   "metadata": {},
   "outputs": [
    {
     "data": {
      "text/plain": [
       "0"
      ]
     },
     "execution_count": 8,
     "metadata": {},
     "output_type": "execute_result"
    }
   ],
   "source": [
    "games.dropna(subset = ['genre'], inplace = True)\n",
    "games['genre'].isna().sum() #we can also remove the two games with no genre as this is necessary data"
   ]
  },
  {
   "cell_type": "code",
   "execution_count": 9,
   "metadata": {},
   "outputs": [
    {
     "data": {
      "text/plain": [
       "Undefined    6764\n",
       "E            3990\n",
       "T            2961\n",
       "M            1563\n",
       "E10+         1420\n",
       "EC              8\n",
       "RP              3\n",
       "K-A             3\n",
       "AO              1\n",
       "Name: rating, dtype: int64"
      ]
     },
     "execution_count": 9,
     "metadata": {},
     "output_type": "execute_result"
    }
   ],
   "source": [
    "games['rating'] = games['rating'].fillna(\"Undefined\")\n",
    "games['rating'].value_counts()"
   ]
  },
  {
   "cell_type": "markdown",
   "metadata": {},
   "source": [
    "There are too many missing ratings to discard, so we will simply just leave it as \"Undefined\". The rating system is voluntary so some games will simply not have ratings.\n",
    "\n",
    "Critic score and User Score are quite important metrics and is better that we leave the missing values as they are, since this gives the most accurate representation. "
   ]
  },
  {
   "cell_type": "markdown",
   "metadata": {},
   "source": [
    "While year of release is an important metric, trying to fill the missing values would involve looking at the platform to try to get an idea of the year of release. Since the missing values do not consitute much of the data, we will just drop them."
   ]
  },
  {
   "cell_type": "code",
   "execution_count": 10,
   "metadata": {},
   "outputs": [
    {
     "data": {
      "text/plain": [
       "name                object\n",
       "platform            object\n",
       "year_of_release    float64\n",
       "genre               object\n",
       "na_sales           float64\n",
       "eu_sales           float64\n",
       "jp_sales           float64\n",
       "other_sales        float64\n",
       "critic_score       float64\n",
       "user_score          object\n",
       "rating              object\n",
       "dtype: object"
      ]
     },
     "execution_count": 10,
     "metadata": {},
     "output_type": "execute_result"
    }
   ],
   "source": [
    "games.dtypes"
   ]
  },
  {
   "cell_type": "markdown",
   "metadata": {},
   "source": [
    "User score and critic score should definitely not be object types."
   ]
  },
  {
   "cell_type": "code",
   "execution_count": 11,
   "metadata": {},
   "outputs": [
    {
     "data": {
      "text/plain": [
       "name                object\n",
       "platform            object\n",
       "year_of_release    float64\n",
       "genre               object\n",
       "na_sales           float64\n",
       "eu_sales           float64\n",
       "jp_sales           float64\n",
       "other_sales        float64\n",
       "critic_score       float64\n",
       "user_score         float64\n",
       "rating              object\n",
       "dtype: object"
      ]
     },
     "execution_count": 11,
     "metadata": {},
     "output_type": "execute_result"
    }
   ],
   "source": [
    "games['user_score'] = pd.to_numeric(games['user_score'], errors = 'coerce') #this will change \"tbd\" values to NaN\n",
    "games['critic_score'] = pd.to_numeric(games['critic_score'], errors = 'coerce')\n",
    "games.dtypes"
   ]
  },
  {
   "cell_type": "markdown",
   "metadata": {},
   "source": [
    "Let's turn the year of release column to integer type as this makes the most sense logically (we never refer to a game released in 2000.5)"
   ]
  },
  {
   "cell_type": "code",
   "execution_count": 12,
   "metadata": {},
   "outputs": [
    {
     "data": {
      "text/plain": [
       "dtype('int64')"
      ]
     },
     "execution_count": 12,
     "metadata": {},
     "output_type": "execute_result"
    }
   ],
   "source": [
    "games.dropna(subset = ['year_of_release'], inplace = True) #dropping rows with missing year of release\n",
    "games['year_of_release'] = games['year_of_release'].astype(int) #making the column into integer type\n",
    "games['year_of_release'].dtype"
   ]
  },
  {
   "cell_type": "code",
   "execution_count": 13,
   "metadata": {},
   "outputs": [
    {
     "data": {
      "text/html": [
       "<div>\n",
       "<style scoped>\n",
       "    .dataframe tbody tr th:only-of-type {\n",
       "        vertical-align: middle;\n",
       "    }\n",
       "\n",
       "    .dataframe tbody tr th {\n",
       "        vertical-align: top;\n",
       "    }\n",
       "\n",
       "    .dataframe thead th {\n",
       "        text-align: right;\n",
       "    }\n",
       "</style>\n",
       "<table border=\"1\" class=\"dataframe\">\n",
       "  <thead>\n",
       "    <tr style=\"text-align: right;\">\n",
       "      <th></th>\n",
       "      <th>name</th>\n",
       "      <th>platform</th>\n",
       "      <th>year_of_release</th>\n",
       "      <th>genre</th>\n",
       "      <th>na_sales</th>\n",
       "      <th>eu_sales</th>\n",
       "      <th>jp_sales</th>\n",
       "      <th>other_sales</th>\n",
       "      <th>critic_score</th>\n",
       "      <th>user_score</th>\n",
       "      <th>rating</th>\n",
       "    </tr>\n",
       "  </thead>\n",
       "  <tbody>\n",
       "    <tr>\n",
       "      <th>0</th>\n",
       "      <td>Wii Sports</td>\n",
       "      <td>Wii</td>\n",
       "      <td>2006</td>\n",
       "      <td>Sports</td>\n",
       "      <td>41.36</td>\n",
       "      <td>28.96</td>\n",
       "      <td>3.77</td>\n",
       "      <td>8.45</td>\n",
       "      <td>76.0</td>\n",
       "      <td>8.0</td>\n",
       "      <td>E</td>\n",
       "    </tr>\n",
       "    <tr>\n",
       "      <th>1</th>\n",
       "      <td>Super Mario Bros.</td>\n",
       "      <td>NES</td>\n",
       "      <td>1985</td>\n",
       "      <td>Platform</td>\n",
       "      <td>29.08</td>\n",
       "      <td>3.58</td>\n",
       "      <td>6.81</td>\n",
       "      <td>0.77</td>\n",
       "      <td>NaN</td>\n",
       "      <td>NaN</td>\n",
       "      <td>Undefined</td>\n",
       "    </tr>\n",
       "    <tr>\n",
       "      <th>2</th>\n",
       "      <td>Mario Kart Wii</td>\n",
       "      <td>Wii</td>\n",
       "      <td>2008</td>\n",
       "      <td>Racing</td>\n",
       "      <td>15.68</td>\n",
       "      <td>12.76</td>\n",
       "      <td>3.79</td>\n",
       "      <td>3.29</td>\n",
       "      <td>82.0</td>\n",
       "      <td>8.3</td>\n",
       "      <td>E</td>\n",
       "    </tr>\n",
       "    <tr>\n",
       "      <th>3</th>\n",
       "      <td>Wii Sports Resort</td>\n",
       "      <td>Wii</td>\n",
       "      <td>2009</td>\n",
       "      <td>Sports</td>\n",
       "      <td>15.61</td>\n",
       "      <td>10.93</td>\n",
       "      <td>3.28</td>\n",
       "      <td>2.95</td>\n",
       "      <td>80.0</td>\n",
       "      <td>8.0</td>\n",
       "      <td>E</td>\n",
       "    </tr>\n",
       "    <tr>\n",
       "      <th>4</th>\n",
       "      <td>Pokemon Red/Pokemon Blue</td>\n",
       "      <td>GB</td>\n",
       "      <td>1996</td>\n",
       "      <td>Role-Playing</td>\n",
       "      <td>11.27</td>\n",
       "      <td>8.89</td>\n",
       "      <td>10.22</td>\n",
       "      <td>1.00</td>\n",
       "      <td>NaN</td>\n",
       "      <td>NaN</td>\n",
       "      <td>Undefined</td>\n",
       "    </tr>\n",
       "  </tbody>\n",
       "</table>\n",
       "</div>"
      ],
      "text/plain": [
       "                       name platform  year_of_release         genre  na_sales  \\\n",
       "0                Wii Sports      Wii             2006        Sports     41.36   \n",
       "1         Super Mario Bros.      NES             1985      Platform     29.08   \n",
       "2            Mario Kart Wii      Wii             2008        Racing     15.68   \n",
       "3         Wii Sports Resort      Wii             2009        Sports     15.61   \n",
       "4  Pokemon Red/Pokemon Blue       GB             1996  Role-Playing     11.27   \n",
       "\n",
       "   eu_sales  jp_sales  other_sales  critic_score  user_score     rating  \n",
       "0     28.96      3.77         8.45          76.0         8.0          E  \n",
       "1      3.58      6.81         0.77           NaN         NaN  Undefined  \n",
       "2     12.76      3.79         3.29          82.0         8.3          E  \n",
       "3     10.93      3.28         2.95          80.0         8.0          E  \n",
       "4      8.89     10.22         1.00           NaN         NaN  Undefined  "
      ]
     },
     "execution_count": 13,
     "metadata": {},
     "output_type": "execute_result"
    }
   ],
   "source": [
    "games.head()"
   ]
  },
  {
   "cell_type": "code",
   "execution_count": 14,
   "metadata": {},
   "outputs": [],
   "source": [
    "games['total_sales'] = games['na_sales'] + games['eu_sales'] + games['jp_sales'] + games['other_sales']"
   ]
  },
  {
   "cell_type": "markdown",
   "metadata": {},
   "source": [
    "<div class=\"alert alert-block alert-success\">\n",
    "<b>Reviewer's comment v1:</b>\n",
    "\n",
    "Great, everything is correct here. \n",
    "\n",
    "Btw you can also achieve the same by using \n",
    "\n",
    "`df['total_sales']=df[['na_sales','eu_sales','jp_sales','other_sales']].sum(axis=1)`"
   ]
  },
  {
   "cell_type": "code",
   "execution_count": 15,
   "metadata": {},
   "outputs": [
    {
     "data": {
      "text/html": [
       "<div>\n",
       "<style scoped>\n",
       "    .dataframe tbody tr th:only-of-type {\n",
       "        vertical-align: middle;\n",
       "    }\n",
       "\n",
       "    .dataframe tbody tr th {\n",
       "        vertical-align: top;\n",
       "    }\n",
       "\n",
       "    .dataframe thead th {\n",
       "        text-align: right;\n",
       "    }\n",
       "</style>\n",
       "<table border=\"1\" class=\"dataframe\">\n",
       "  <thead>\n",
       "    <tr style=\"text-align: right;\">\n",
       "      <th></th>\n",
       "      <th>name</th>\n",
       "      <th>platform</th>\n",
       "      <th>year_of_release</th>\n",
       "      <th>genre</th>\n",
       "      <th>na_sales</th>\n",
       "      <th>eu_sales</th>\n",
       "      <th>jp_sales</th>\n",
       "      <th>other_sales</th>\n",
       "      <th>critic_score</th>\n",
       "      <th>user_score</th>\n",
       "      <th>rating</th>\n",
       "      <th>total_sales</th>\n",
       "    </tr>\n",
       "  </thead>\n",
       "  <tbody>\n",
       "    <tr>\n",
       "      <th>0</th>\n",
       "      <td>Wii Sports</td>\n",
       "      <td>Wii</td>\n",
       "      <td>2006</td>\n",
       "      <td>Sports</td>\n",
       "      <td>41.36</td>\n",
       "      <td>28.96</td>\n",
       "      <td>3.77</td>\n",
       "      <td>8.45</td>\n",
       "      <td>76.0</td>\n",
       "      <td>8.0</td>\n",
       "      <td>E</td>\n",
       "      <td>82.54</td>\n",
       "    </tr>\n",
       "    <tr>\n",
       "      <th>1</th>\n",
       "      <td>Super Mario Bros.</td>\n",
       "      <td>NES</td>\n",
       "      <td>1985</td>\n",
       "      <td>Platform</td>\n",
       "      <td>29.08</td>\n",
       "      <td>3.58</td>\n",
       "      <td>6.81</td>\n",
       "      <td>0.77</td>\n",
       "      <td>NaN</td>\n",
       "      <td>NaN</td>\n",
       "      <td>Undefined</td>\n",
       "      <td>40.24</td>\n",
       "    </tr>\n",
       "    <tr>\n",
       "      <th>2</th>\n",
       "      <td>Mario Kart Wii</td>\n",
       "      <td>Wii</td>\n",
       "      <td>2008</td>\n",
       "      <td>Racing</td>\n",
       "      <td>15.68</td>\n",
       "      <td>12.76</td>\n",
       "      <td>3.79</td>\n",
       "      <td>3.29</td>\n",
       "      <td>82.0</td>\n",
       "      <td>8.3</td>\n",
       "      <td>E</td>\n",
       "      <td>35.52</td>\n",
       "    </tr>\n",
       "    <tr>\n",
       "      <th>3</th>\n",
       "      <td>Wii Sports Resort</td>\n",
       "      <td>Wii</td>\n",
       "      <td>2009</td>\n",
       "      <td>Sports</td>\n",
       "      <td>15.61</td>\n",
       "      <td>10.93</td>\n",
       "      <td>3.28</td>\n",
       "      <td>2.95</td>\n",
       "      <td>80.0</td>\n",
       "      <td>8.0</td>\n",
       "      <td>E</td>\n",
       "      <td>32.77</td>\n",
       "    </tr>\n",
       "    <tr>\n",
       "      <th>4</th>\n",
       "      <td>Pokemon Red/Pokemon Blue</td>\n",
       "      <td>GB</td>\n",
       "      <td>1996</td>\n",
       "      <td>Role-Playing</td>\n",
       "      <td>11.27</td>\n",
       "      <td>8.89</td>\n",
       "      <td>10.22</td>\n",
       "      <td>1.00</td>\n",
       "      <td>NaN</td>\n",
       "      <td>NaN</td>\n",
       "      <td>Undefined</td>\n",
       "      <td>31.38</td>\n",
       "    </tr>\n",
       "  </tbody>\n",
       "</table>\n",
       "</div>"
      ],
      "text/plain": [
       "                       name platform  year_of_release         genre  na_sales  \\\n",
       "0                Wii Sports      Wii             2006        Sports     41.36   \n",
       "1         Super Mario Bros.      NES             1985      Platform     29.08   \n",
       "2            Mario Kart Wii      Wii             2008        Racing     15.68   \n",
       "3         Wii Sports Resort      Wii             2009        Sports     15.61   \n",
       "4  Pokemon Red/Pokemon Blue       GB             1996  Role-Playing     11.27   \n",
       "\n",
       "   eu_sales  jp_sales  other_sales  critic_score  user_score     rating  \\\n",
       "0     28.96      3.77         8.45          76.0         8.0          E   \n",
       "1      3.58      6.81         0.77           NaN         NaN  Undefined   \n",
       "2     12.76      3.79         3.29          82.0         8.3          E   \n",
       "3     10.93      3.28         2.95          80.0         8.0          E   \n",
       "4      8.89     10.22         1.00           NaN         NaN  Undefined   \n",
       "\n",
       "   total_sales  \n",
       "0        82.54  \n",
       "1        40.24  \n",
       "2        35.52  \n",
       "3        32.77  \n",
       "4        31.38  "
      ]
     },
     "execution_count": 15,
     "metadata": {},
     "output_type": "execute_result"
    }
   ],
   "source": [
    "games.head()"
   ]
  },
  {
   "cell_type": "code",
   "execution_count": 16,
   "metadata": {},
   "outputs": [
    {
     "data": {
      "image/png": "[encoded data removed]",
      "text/plain": [
       "<Figure size 640x480 with 1 Axes>"
      ]
     },
     "metadata": {},
     "output_type": "display_data"
    }
   ],
   "source": [
    "games['year_of_release'].hist(bins = 25)\n",
    "plt.xlabel('Year of Release')\n",
    "plt.ylabel('Frequency')\n",
    "plt.show()"
   ]
  },
  {
   "cell_type": "markdown",
   "metadata": {},
   "source": [
    "It looks like our data will be most significant after the year 2000 as we have a greater amount of games to work with."
   ]
  },
  {
   "cell_type": "markdown",
   "metadata": {},
   "source": [
    "<div class=\"alert alert-block alert-success\">\n",
    "<b>Reviewer's comment v1:</b>\n",
    "    \n",
    "Yes, looks like there were almost no games before 1995.\n",
    "\n",
    "</div>"
   ]
  },
  {
   "cell_type": "code",
   "execution_count": 17,
   "metadata": {},
   "outputs": [
    {
     "data": {
      "image/png": "[encoded data removed]",
      "text/plain": [
       "<Figure size 640x480 with 1 Axes>"
      ]
     },
     "metadata": {},
     "output_type": "display_data"
    }
   ],
   "source": [
    "#we will use data from 2007 - 2013 which appears to be the \"golden age\" from this data #v2\n",
    "filtered_games = games[(games['year_of_release'] >2006)&(games['year_of_release']<2014)]\n",
    "filtered_games['year_of_release'].hist(bins = 7)\n",
    "plt.xlabel('Year of Release')\n",
    "plt.ylabel('Frequency')\n",
    "plt.show()"
   ]
  },
  {
   "cell_type": "markdown",
   "metadata": {},
   "source": [
    "<div class=\"alert alert-block alert-danger\">\n",
    "<b>Reviewer's comment v1:</b>\n",
    "    \n",
    "It is uncommon to use data for more than 2-3 years when forecasting next year's sales, even in case of traditional businesses. And in the dynamic computer games industry, taking longer time intervals should be avoided as it will definitely lead to tracking some obsolete trends. But you shouldn't take too short a period either.\n",
    "    \n",
    "Here I can advice first checking the platform lifecycle and visualize it to see what platforms still have sales.\n",
    "    \n",
    "Could you please share your thoughts or update that? \n",
    "   \n",
    "    \n",
    "Also you need to used filtered dataframe in the rest of the project."
   ]
  },
  {
   "cell_type": "markdown",
   "metadata": {},
   "source": [
    "<div class=\"alert alert-warning\">\n",
    "<b>Reviewer's comment v2:</b>\n",
    "    \n",
    "Great that you've filtered data. However here, I can actually advise focusing on the latest platform cycle: 2014-2016.\n"
   ]
  },
  {
   "cell_type": "code",
   "execution_count": 18,
   "metadata": {},
   "outputs": [
    {
     "data": {
      "text/html": [
       "<div>\n",
       "<style scoped>\n",
       "    .dataframe tbody tr th:only-of-type {\n",
       "        vertical-align: middle;\n",
       "    }\n",
       "\n",
       "    .dataframe tbody tr th {\n",
       "        vertical-align: top;\n",
       "    }\n",
       "\n",
       "    .dataframe thead th {\n",
       "        text-align: right;\n",
       "    }\n",
       "</style>\n",
       "<table border=\"1\" class=\"dataframe\">\n",
       "  <thead>\n",
       "    <tr style=\"text-align: right;\">\n",
       "      <th></th>\n",
       "      <th>total_sales</th>\n",
       "    </tr>\n",
       "    <tr>\n",
       "      <th>platform</th>\n",
       "      <th></th>\n",
       "    </tr>\n",
       "  </thead>\n",
       "  <tbody>\n",
       "    <tr>\n",
       "      <th>X360</th>\n",
       "      <td>853.15</td>\n",
       "    </tr>\n",
       "    <tr>\n",
       "      <th>PS3</th>\n",
       "      <td>842.20</td>\n",
       "    </tr>\n",
       "    <tr>\n",
       "      <th>Wii</th>\n",
       "      <td>748.96</td>\n",
       "    </tr>\n",
       "    <tr>\n",
       "      <th>DS</th>\n",
       "      <td>535.54</td>\n",
       "    </tr>\n",
       "    <tr>\n",
       "      <th>PSP</th>\n",
       "      <td>182.95</td>\n",
       "    </tr>\n",
       "    <tr>\n",
       "      <th>3DS</th>\n",
       "      <td>171.13</td>\n",
       "    </tr>\n",
       "    <tr>\n",
       "      <th>PS2</th>\n",
       "      <td>162.38</td>\n",
       "    </tr>\n",
       "    <tr>\n",
       "      <th>PC</th>\n",
       "      <td>133.52</td>\n",
       "    </tr>\n",
       "    <tr>\n",
       "      <th>WiiU</th>\n",
       "      <td>39.21</td>\n",
       "    </tr>\n",
       "    <tr>\n",
       "      <th>PSV</th>\n",
       "      <td>31.41</td>\n",
       "    </tr>\n",
       "    <tr>\n",
       "      <th>PS4</th>\n",
       "      <td>25.99</td>\n",
       "    </tr>\n",
       "    <tr>\n",
       "      <th>XOne</th>\n",
       "      <td>18.96</td>\n",
       "    </tr>\n",
       "    <tr>\n",
       "      <th>GBA</th>\n",
       "      <td>3.40</td>\n",
       "    </tr>\n",
       "    <tr>\n",
       "      <th>XB</th>\n",
       "      <td>0.73</td>\n",
       "    </tr>\n",
       "    <tr>\n",
       "      <th>GC</th>\n",
       "      <td>0.27</td>\n",
       "    </tr>\n",
       "    <tr>\n",
       "      <th>DC</th>\n",
       "      <td>0.06</td>\n",
       "    </tr>\n",
       "  </tbody>\n",
       "</table>\n",
       "</div>"
      ],
      "text/plain": [
       "          total_sales\n",
       "platform             \n",
       "X360           853.15\n",
       "PS3            842.20\n",
       "Wii            748.96\n",
       "DS             535.54\n",
       "PSP            182.95\n",
       "3DS            171.13\n",
       "PS2            162.38\n",
       "PC             133.52\n",
       "WiiU            39.21\n",
       "PSV             31.41\n",
       "PS4             25.99\n",
       "XOne            18.96\n",
       "GBA              3.40\n",
       "XB               0.73\n",
       "GC               0.27\n",
       "DC               0.06"
      ]
     },
     "execution_count": 18,
     "metadata": {},
     "output_type": "execute_result"
    }
   ],
   "source": [
    "platform_sales = filtered_games.groupby(['platform'])[['total_sales']].sum().sort_values(['total_sales'],ascending=False) #v2\n",
    "platform_sales #this is the total sales for each platform in the entire data"
   ]
  },
  {
   "cell_type": "markdown",
   "metadata": {},
   "source": [
    "Let's take a look at the lifecycle of the highest selling consoles in our filtered dataset (v2)"
   ]
  },
  {
   "cell_type": "code",
   "execution_count": 19,
   "metadata": {
    "scrolled": true
   },
   "outputs": [
    {
     "data": {
      "image/png": "[encoded data removed]",
      "text/plain": [
       "<Figure size 640x480 with 1 Axes>"
      ]
     },
     "metadata": {},
     "output_type": "display_data"
    }
   ],
   "source": [
    "xbox_360_games = games[games['platform'] == 'X360'] #we need the entire dataset to look at the Xbox 360 lifespan #v2\n",
    "plt.hist(xbox_360_games['year_of_release'], bins = 7)\n",
    "plt.show()"
   ]
  },
  {
   "cell_type": "code",
   "execution_count": 20,
   "metadata": {},
   "outputs": [
    {
     "data": {
      "image/png": "[encoded data removed]",
      "text/plain": [
       "<Figure size 640x480 with 1 Axes>"
      ]
     },
     "metadata": {},
     "output_type": "display_data"
    }
   ],
   "source": [
    "ps3_games = games[games['platform'] == 'PS3'] #we need the entire dataset to look at the PS3 lifespan #v2\n",
    "plt.hist(ps3_games['year_of_release'], bins = 7)\n",
    "plt.show()"
   ]
  },
  {
   "cell_type": "code",
   "execution_count": 21,
   "metadata": {
    "scrolled": true
   },
   "outputs": [
    {
     "data": {
      "image/png": "[encoded data removed]",
      "text/plain": [
       "<Figure size 640x480 with 1 Axes>"
      ]
     },
     "metadata": {},
     "output_type": "display_data"
    }
   ],
   "source": [
    "wii_games = games[games['platform'] == 'Wii'] #we need the entire dataset to look at the Wii lifespan #v2\n",
    "plt.hist(wii_games['year_of_release'], bins = 7)\n",
    "plt.show()"
   ]
  },
  {
   "cell_type": "code",
   "execution_count": 22,
   "metadata": {},
   "outputs": [
    {
     "data": {
      "image/png": "[encoded data removed]",
      "text/plain": [
       "<Figure size 640x480 with 1 Axes>"
      ]
     },
     "metadata": {},
     "output_type": "display_data"
    }
   ],
   "source": [
    "psp_games = games[games['platform'] == 'PSP'] #we need the entire dataset to look at the PSP lifespan #v2\n",
    "plt.hist(psp_games['year_of_release'], bins = 7)\n",
    "plt.show()"
   ]
  },
  {
   "cell_type": "markdown",
   "metadata": {},
   "source": [
    "We have visualized the life spans of some of the most popular consoles in our filtered dataset. It does seem that they all peaked during this \"golden age\" we have selected, but we can still make a few more observations. PS3 and Xbox 360 still made significant sales throughout the life of the entire original dataset, which talks to the loyalty of players from previous consoles, or just a general boom of gaming. This is also impressive as well since a console that was also popular, the Wii, seemed to fade much faster and with much less mercy, perhaps speaking to the prevalence of outliers in its sales. It does seem popular consoles tend to have about a 3-5 year boom and then return to a more steady level. If the console relied heavily on just a few titles, more than likely their market share will fade much faster and have a shorter life. One last note, it also seems gaming consoles feed off of each other's popularity, seeing that 2009-2010 marked huge years for all the consoles observed. (v2)"
   ]
  },
  {
   "cell_type": "code",
   "execution_count": 23,
   "metadata": {},
   "outputs": [
    {
     "data": {
      "image/png": "[encoded data removed]",
      "text/plain": [
       "<Figure size 640x480 with 1 Axes>"
      ]
     },
     "metadata": {},
     "output_type": "display_data"
    }
   ],
   "source": [
    "platform_sales.plot(kind = 'bar',y='total_sales', legend = False)\n",
    "plt.title(\"Total Sales of Each Platform\")\n",
    "plt.ylabel(\"Total Sales\")\n",
    "plt.xlabel(\"Platform\")\n",
    "plt.show()"
   ]
  },
  {
   "cell_type": "markdown",
   "metadata": {},
   "source": [
    "Here we can see the total all time sales for each platform, with the PS3 and Xbox 360 leading the way. Consoles like the XB, GC, and DC were nearing the end at this point in time. Let's select the Xbox One and everything to the left of that to use for our analysis. (v2)"
   ]
  },
  {
   "cell_type": "code",
   "execution_count": 24,
   "metadata": {},
   "outputs": [
    {
     "name": "stdout",
     "output_type": "stream",
     "text": [
      "DS      1778\n",
      "Wii     1231\n",
      "PS3     1060\n",
      "X360    1010\n",
      "PSP      881\n",
      "PC       573\n",
      "PS2      546\n",
      "3DS      300\n",
      "PSV      134\n",
      "WiiU      74\n",
      "XOne      19\n",
      "PS4       16\n",
      "Name: platform, dtype: int64\n"
     ]
    }
   ],
   "source": [
    "delete = 'GBA', 'XB', 'GC', 'DC'\n",
    "filtered_games = filtered_games[~filtered_games['platform'].isin(delete)]\n",
    "print(filtered_games['platform'].value_counts())"
   ]
  },
  {
   "cell_type": "markdown",
   "metadata": {},
   "source": [
    "We have now filtered the data to only the most relevant consoles."
   ]
  },
  {
   "cell_type": "code",
   "execution_count": 25,
   "metadata": {},
   "outputs": [
    {
     "data": {
      "text/html": [
       "<div>\n",
       "<style scoped>\n",
       "    .dataframe tbody tr th:only-of-type {\n",
       "        vertical-align: middle;\n",
       "    }\n",
       "\n",
       "    .dataframe tbody tr th {\n",
       "        vertical-align: top;\n",
       "    }\n",
       "\n",
       "    .dataframe thead th {\n",
       "        text-align: right;\n",
       "    }\n",
       "</style>\n",
       "<table border=\"1\" class=\"dataframe\">\n",
       "  <thead>\n",
       "    <tr style=\"text-align: right;\">\n",
       "      <th></th>\n",
       "      <th>name</th>\n",
       "      <th>platform</th>\n",
       "      <th>year_of_release</th>\n",
       "      <th>genre</th>\n",
       "      <th>na_sales</th>\n",
       "      <th>eu_sales</th>\n",
       "      <th>jp_sales</th>\n",
       "      <th>other_sales</th>\n",
       "      <th>critic_score</th>\n",
       "      <th>user_score</th>\n",
       "      <th>rating</th>\n",
       "      <th>total_sales</th>\n",
       "    </tr>\n",
       "  </thead>\n",
       "  <tbody>\n",
       "    <tr>\n",
       "      <th>2312</th>\n",
       "      <td>LEGO Pirates of the Caribbean: The Video Game</td>\n",
       "      <td>DS</td>\n",
       "      <td>2011</td>\n",
       "      <td>Action</td>\n",
       "      <td>0.34</td>\n",
       "      <td>0.46</td>\n",
       "      <td>0.00</td>\n",
       "      <td>0.10</td>\n",
       "      <td>69.0</td>\n",
       "      <td>NaN</td>\n",
       "      <td>E10+</td>\n",
       "      <td>0.90</td>\n",
       "    </tr>\n",
       "    <tr>\n",
       "      <th>7495</th>\n",
       "      <td>Tenchu: Shadow Assassins</td>\n",
       "      <td>Wii</td>\n",
       "      <td>2008</td>\n",
       "      <td>Action</td>\n",
       "      <td>0.15</td>\n",
       "      <td>0.01</td>\n",
       "      <td>0.03</td>\n",
       "      <td>0.01</td>\n",
       "      <td>70.0</td>\n",
       "      <td>7.8</td>\n",
       "      <td>M</td>\n",
       "      <td>0.20</td>\n",
       "    </tr>\n",
       "    <tr>\n",
       "      <th>7862</th>\n",
       "      <td>Tomb Raider: Underworld</td>\n",
       "      <td>DS</td>\n",
       "      <td>2008</td>\n",
       "      <td>Action</td>\n",
       "      <td>0.15</td>\n",
       "      <td>0.02</td>\n",
       "      <td>0.00</td>\n",
       "      <td>0.01</td>\n",
       "      <td>70.0</td>\n",
       "      <td>8.4</td>\n",
       "      <td>T</td>\n",
       "      <td>0.18</td>\n",
       "    </tr>\n",
       "    <tr>\n",
       "      <th>5085</th>\n",
       "      <td>Just Dance 4</td>\n",
       "      <td>WiiU</td>\n",
       "      <td>2012</td>\n",
       "      <td>Misc</td>\n",
       "      <td>0.21</td>\n",
       "      <td>0.13</td>\n",
       "      <td>0.00</td>\n",
       "      <td>0.03</td>\n",
       "      <td>66.0</td>\n",
       "      <td>7.8</td>\n",
       "      <td>E10+</td>\n",
       "      <td>0.37</td>\n",
       "    </tr>\n",
       "    <tr>\n",
       "      <th>14149</th>\n",
       "      <td>Onechanbara Z Kagura</td>\n",
       "      <td>PS3</td>\n",
       "      <td>2013</td>\n",
       "      <td>Action</td>\n",
       "      <td>0.00</td>\n",
       "      <td>0.00</td>\n",
       "      <td>0.03</td>\n",
       "      <td>0.00</td>\n",
       "      <td>NaN</td>\n",
       "      <td>NaN</td>\n",
       "      <td>Undefined</td>\n",
       "      <td>0.03</td>\n",
       "    </tr>\n",
       "    <tr>\n",
       "      <th>11274</th>\n",
       "      <td>Winter Sports 2: The Next Challenge</td>\n",
       "      <td>PS2</td>\n",
       "      <td>2008</td>\n",
       "      <td>Sports</td>\n",
       "      <td>0.04</td>\n",
       "      <td>0.03</td>\n",
       "      <td>0.00</td>\n",
       "      <td>0.01</td>\n",
       "      <td>NaN</td>\n",
       "      <td>NaN</td>\n",
       "      <td>E</td>\n",
       "      <td>0.08</td>\n",
       "    </tr>\n",
       "    <tr>\n",
       "      <th>9415</th>\n",
       "      <td>I Spy: Universe</td>\n",
       "      <td>DS</td>\n",
       "      <td>2010</td>\n",
       "      <td>Puzzle</td>\n",
       "      <td>0.12</td>\n",
       "      <td>0.00</td>\n",
       "      <td>0.00</td>\n",
       "      <td>0.01</td>\n",
       "      <td>NaN</td>\n",
       "      <td>NaN</td>\n",
       "      <td>E</td>\n",
       "      <td>0.13</td>\n",
       "    </tr>\n",
       "    <tr>\n",
       "      <th>4185</th>\n",
       "      <td>Cars: Race-O-Rama</td>\n",
       "      <td>PS2</td>\n",
       "      <td>2009</td>\n",
       "      <td>Racing</td>\n",
       "      <td>0.27</td>\n",
       "      <td>0.03</td>\n",
       "      <td>0.00</td>\n",
       "      <td>0.17</td>\n",
       "      <td>NaN</td>\n",
       "      <td>NaN</td>\n",
       "      <td>E</td>\n",
       "      <td>0.47</td>\n",
       "    </tr>\n",
       "    <tr>\n",
       "      <th>11495</th>\n",
       "      <td>Sniper: Ghost Warrior 2</td>\n",
       "      <td>PC</td>\n",
       "      <td>2013</td>\n",
       "      <td>Shooter</td>\n",
       "      <td>0.02</td>\n",
       "      <td>0.05</td>\n",
       "      <td>0.00</td>\n",
       "      <td>0.01</td>\n",
       "      <td>52.0</td>\n",
       "      <td>5.8</td>\n",
       "      <td>M</td>\n",
       "      <td>0.08</td>\n",
       "    </tr>\n",
       "    <tr>\n",
       "      <th>14284</th>\n",
       "      <td>7 Wonders: Treasures of Seven</td>\n",
       "      <td>DS</td>\n",
       "      <td>2011</td>\n",
       "      <td>Puzzle</td>\n",
       "      <td>0.01</td>\n",
       "      <td>0.02</td>\n",
       "      <td>0.00</td>\n",
       "      <td>0.00</td>\n",
       "      <td>NaN</td>\n",
       "      <td>NaN</td>\n",
       "      <td>Undefined</td>\n",
       "      <td>0.03</td>\n",
       "    </tr>\n",
       "  </tbody>\n",
       "</table>\n",
       "</div>"
      ],
      "text/plain": [
       "                                                name platform  \\\n",
       "2312   LEGO Pirates of the Caribbean: The Video Game       DS   \n",
       "7495                        Tenchu: Shadow Assassins      Wii   \n",
       "7862                         Tomb Raider: Underworld       DS   \n",
       "5085                                    Just Dance 4     WiiU   \n",
       "14149                           Onechanbara Z Kagura      PS3   \n",
       "11274            Winter Sports 2: The Next Challenge      PS2   \n",
       "9415                                 I Spy: Universe       DS   \n",
       "4185                               Cars: Race-O-Rama      PS2   \n",
       "11495                        Sniper: Ghost Warrior 2       PC   \n",
       "14284                  7 Wonders: Treasures of Seven       DS   \n",
       "\n",
       "       year_of_release    genre  na_sales  eu_sales  jp_sales  other_sales  \\\n",
       "2312              2011   Action      0.34      0.46      0.00         0.10   \n",
       "7495              2008   Action      0.15      0.01      0.03         0.01   \n",
       "7862              2008   Action      0.15      0.02      0.00         0.01   \n",
       "5085              2012     Misc      0.21      0.13      0.00         0.03   \n",
       "14149             2013   Action      0.00      0.00      0.03         0.00   \n",
       "11274             2008   Sports      0.04      0.03      0.00         0.01   \n",
       "9415              2010   Puzzle      0.12      0.00      0.00         0.01   \n",
       "4185              2009   Racing      0.27      0.03      0.00         0.17   \n",
       "11495             2013  Shooter      0.02      0.05      0.00         0.01   \n",
       "14284             2011   Puzzle      0.01      0.02      0.00         0.00   \n",
       "\n",
       "       critic_score  user_score     rating  total_sales  \n",
       "2312           69.0         NaN       E10+         0.90  \n",
       "7495           70.0         7.8          M         0.20  \n",
       "7862           70.0         8.4          T         0.18  \n",
       "5085           66.0         7.8       E10+         0.37  \n",
       "14149           NaN         NaN  Undefined         0.03  \n",
       "11274           NaN         NaN          E         0.08  \n",
       "9415            NaN         NaN          E         0.13  \n",
       "4185            NaN         NaN          E         0.47  \n",
       "11495          52.0         5.8          M         0.08  \n",
       "14284           NaN         NaN  Undefined         0.03  "
      ]
     },
     "execution_count": 25,
     "metadata": {},
     "output_type": "execute_result"
    }
   ],
   "source": [
    "filtered_games.sample(10)"
   ]
  },
  {
   "cell_type": "code",
   "execution_count": 26,
   "metadata": {},
   "outputs": [
    {
     "data": {
      "image/png": "[encoded data removed]",
      "text/plain": [
       "<Figure size 640x480 with 1 Axes>"
      ]
     },
     "metadata": {},
     "output_type": "display_data"
    }
   ],
   "source": [
    "sns.boxplot(x='platform', y='total_sales', data=filtered_games)\n",
    "plt.ylim(0,4)\n",
    "plt.show()"
   ]
  },
  {
   "cell_type": "markdown",
   "metadata": {},
   "source": [
    "Due to a large amount of outliers, we have limited the data here to view the interquartile range of each relevant console. The highest medians belong to the Xbox 360, PS3, Xbox One and PS4. The highest upper quartiles belong to these consoles as well. We can see the poorest median sales belong to the PC, PSP, and DS. (v2)"
   ]
  },
  {
   "cell_type": "code",
   "execution_count": 27,
   "metadata": {},
   "outputs": [
    {
     "data": {
      "image/png": "[encoded data removed]",
      "text/plain": [
       "<Figure size 640x480 with 1 Axes>"
      ]
     },
     "metadata": {},
     "output_type": "display_data"
    }
   ],
   "source": [
    "sns.boxplot(x='platform', y='total_sales', data=filtered_games)\n",
    "plt.show()"
   ]
  },
  {
   "cell_type": "markdown",
   "metadata": {},
   "source": [
    "<div class=\"alert alert-block alert-warning\">\n",
    "<b>Reviewer's comment v1:</b>\n",
    "\n",
    "Everything is correct here. \n",
    "Additionally you could also hide outliers by adding parameter: `showfliers = False`. "
   ]
  },
  {
   "cell_type": "markdown",
   "metadata": {},
   "source": [
    "Despite the DS having poor median sales and a pretty low interquartile range, we can see it is still a top 5 performer in total sales in our data, meaning it has definitely been carried off the performance of its best games. The Wii is a relatively middle-of-the-pack performer in this data, but it has one of the highest selling games of all time, Wii Sports, which nearly everybody has some memory of playing. The PS3 and Xbox 360 appear to be the highest performing with regards to sales AND also consistency, without relying on single high performing games (Wii Sports sold more alone than SIX CONSOLES). The strong performance of the PS4 and Xbox One should not be highly regarded since the sample is still very small at this point. (v2)"
   ]
  },
  {
   "cell_type": "code",
   "execution_count": 28,
   "metadata": {},
   "outputs": [
    {
     "data": {
      "text/html": [
       "<div>\n",
       "<style scoped>\n",
       "    .dataframe tbody tr th:only-of-type {\n",
       "        vertical-align: middle;\n",
       "    }\n",
       "\n",
       "    .dataframe tbody tr th {\n",
       "        vertical-align: top;\n",
       "    }\n",
       "\n",
       "    .dataframe thead th {\n",
       "        text-align: right;\n",
       "    }\n",
       "</style>\n",
       "<table border=\"1\" class=\"dataframe\">\n",
       "  <thead>\n",
       "    <tr style=\"text-align: right;\">\n",
       "      <th></th>\n",
       "      <th>name</th>\n",
       "      <th>platform</th>\n",
       "      <th>year_of_release</th>\n",
       "      <th>genre</th>\n",
       "      <th>na_sales</th>\n",
       "      <th>eu_sales</th>\n",
       "      <th>jp_sales</th>\n",
       "      <th>other_sales</th>\n",
       "      <th>critic_score</th>\n",
       "      <th>user_score</th>\n",
       "      <th>rating</th>\n",
       "      <th>total_sales</th>\n",
       "    </tr>\n",
       "  </thead>\n",
       "  <tbody>\n",
       "    <tr>\n",
       "      <th>208</th>\n",
       "      <td>Guitar Hero III: Legends of Rock</td>\n",
       "      <td>PS2</td>\n",
       "      <td>2007</td>\n",
       "      <td>Misc</td>\n",
       "      <td>3.49</td>\n",
       "      <td>0.01</td>\n",
       "      <td>0.01</td>\n",
       "      <td>1.48</td>\n",
       "      <td>82.0</td>\n",
       "      <td>8.2</td>\n",
       "      <td>T</td>\n",
       "      <td>4.99</td>\n",
       "    </tr>\n",
       "    <tr>\n",
       "      <th>290</th>\n",
       "      <td>God of War II</td>\n",
       "      <td>PS2</td>\n",
       "      <td>2007</td>\n",
       "      <td>Action</td>\n",
       "      <td>2.32</td>\n",
       "      <td>0.04</td>\n",
       "      <td>0.04</td>\n",
       "      <td>1.67</td>\n",
       "      <td>93.0</td>\n",
       "      <td>8.9</td>\n",
       "      <td>M</td>\n",
       "      <td>4.07</td>\n",
       "    </tr>\n",
       "    <tr>\n",
       "      <th>349</th>\n",
       "      <td>Pro Evolution Soccer 2008</td>\n",
       "      <td>PS2</td>\n",
       "      <td>2007</td>\n",
       "      <td>Sports</td>\n",
       "      <td>0.05</td>\n",
       "      <td>0.00</td>\n",
       "      <td>0.64</td>\n",
       "      <td>2.93</td>\n",
       "      <td>82.0</td>\n",
       "      <td>7.9</td>\n",
       "      <td>E</td>\n",
       "      <td>3.62</td>\n",
       "    </tr>\n",
       "    <tr>\n",
       "      <th>436</th>\n",
       "      <td>FIFA Soccer 08</td>\n",
       "      <td>PS2</td>\n",
       "      <td>2007</td>\n",
       "      <td>Sports</td>\n",
       "      <td>0.68</td>\n",
       "      <td>0.00</td>\n",
       "      <td>0.00</td>\n",
       "      <td>2.46</td>\n",
       "      <td>83.0</td>\n",
       "      <td>6.5</td>\n",
       "      <td>E</td>\n",
       "      <td>3.14</td>\n",
       "    </tr>\n",
       "    <tr>\n",
       "      <th>474</th>\n",
       "      <td>Dragon Ball Z: Budokai Tenkaichi 3</td>\n",
       "      <td>PS2</td>\n",
       "      <td>2007</td>\n",
       "      <td>Fighting</td>\n",
       "      <td>1.15</td>\n",
       "      <td>0.00</td>\n",
       "      <td>0.76</td>\n",
       "      <td>1.09</td>\n",
       "      <td>73.0</td>\n",
       "      <td>9.2</td>\n",
       "      <td>T</td>\n",
       "      <td>3.00</td>\n",
       "    </tr>\n",
       "    <tr>\n",
       "      <th>...</th>\n",
       "      <td>...</td>\n",
       "      <td>...</td>\n",
       "      <td>...</td>\n",
       "      <td>...</td>\n",
       "      <td>...</td>\n",
       "      <td>...</td>\n",
       "      <td>...</td>\n",
       "      <td>...</td>\n",
       "      <td>...</td>\n",
       "      <td>...</td>\n",
       "      <td>...</td>\n",
       "      <td>...</td>\n",
       "    </tr>\n",
       "    <tr>\n",
       "      <th>16670</th>\n",
       "      <td>Sugar + Spice! Anoko no Suteki na Nanimokamo</td>\n",
       "      <td>PS2</td>\n",
       "      <td>2008</td>\n",
       "      <td>Adventure</td>\n",
       "      <td>0.00</td>\n",
       "      <td>0.00</td>\n",
       "      <td>0.01</td>\n",
       "      <td>0.00</td>\n",
       "      <td>NaN</td>\n",
       "      <td>NaN</td>\n",
       "      <td>Undefined</td>\n",
       "      <td>0.01</td>\n",
       "    </tr>\n",
       "    <tr>\n",
       "      <th>16671</th>\n",
       "      <td>Kanokon: Esuii</td>\n",
       "      <td>PS2</td>\n",
       "      <td>2008</td>\n",
       "      <td>Adventure</td>\n",
       "      <td>0.00</td>\n",
       "      <td>0.00</td>\n",
       "      <td>0.01</td>\n",
       "      <td>0.00</td>\n",
       "      <td>NaN</td>\n",
       "      <td>NaN</td>\n",
       "      <td>Undefined</td>\n",
       "      <td>0.01</td>\n",
       "    </tr>\n",
       "    <tr>\n",
       "      <th>16683</th>\n",
       "      <td>Scarlett: Nichijou no Kyoukaisen</td>\n",
       "      <td>PS2</td>\n",
       "      <td>2008</td>\n",
       "      <td>Adventure</td>\n",
       "      <td>0.00</td>\n",
       "      <td>0.00</td>\n",
       "      <td>0.01</td>\n",
       "      <td>0.00</td>\n",
       "      <td>NaN</td>\n",
       "      <td>NaN</td>\n",
       "      <td>Undefined</td>\n",
       "      <td>0.01</td>\n",
       "    </tr>\n",
       "    <tr>\n",
       "      <th>16689</th>\n",
       "      <td>Real Rode</td>\n",
       "      <td>PS2</td>\n",
       "      <td>2008</td>\n",
       "      <td>Adventure</td>\n",
       "      <td>0.00</td>\n",
       "      <td>0.00</td>\n",
       "      <td>0.01</td>\n",
       "      <td>0.00</td>\n",
       "      <td>NaN</td>\n",
       "      <td>NaN</td>\n",
       "      <td>Undefined</td>\n",
       "      <td>0.01</td>\n",
       "    </tr>\n",
       "    <tr>\n",
       "      <th>16709</th>\n",
       "      <td>SCORE International Baja 1000: The Official Game</td>\n",
       "      <td>PS2</td>\n",
       "      <td>2008</td>\n",
       "      <td>Racing</td>\n",
       "      <td>0.00</td>\n",
       "      <td>0.00</td>\n",
       "      <td>0.00</td>\n",
       "      <td>0.00</td>\n",
       "      <td>NaN</td>\n",
       "      <td>NaN</td>\n",
       "      <td>Undefined</td>\n",
       "      <td>0.00</td>\n",
       "    </tr>\n",
       "  </tbody>\n",
       "</table>\n",
       "<p>546 rows × 12 columns</p>\n",
       "</div>"
      ],
      "text/plain": [
       "                                                   name platform  \\\n",
       "208                    Guitar Hero III: Legends of Rock      PS2   \n",
       "290                                       God of War II      PS2   \n",
       "349                           Pro Evolution Soccer 2008      PS2   \n",
       "436                                      FIFA Soccer 08      PS2   \n",
       "474                  Dragon Ball Z: Budokai Tenkaichi 3      PS2   \n",
       "...                                                 ...      ...   \n",
       "16670      Sugar + Spice! Anoko no Suteki na Nanimokamo      PS2   \n",
       "16671                                    Kanokon: Esuii      PS2   \n",
       "16683                  Scarlett: Nichijou no Kyoukaisen      PS2   \n",
       "16689                                         Real Rode      PS2   \n",
       "16709  SCORE International Baja 1000: The Official Game      PS2   \n",
       "\n",
       "       year_of_release      genre  na_sales  eu_sales  jp_sales  other_sales  \\\n",
       "208               2007       Misc      3.49      0.01      0.01         1.48   \n",
       "290               2007     Action      2.32      0.04      0.04         1.67   \n",
       "349               2007     Sports      0.05      0.00      0.64         2.93   \n",
       "436               2007     Sports      0.68      0.00      0.00         2.46   \n",
       "474               2007   Fighting      1.15      0.00      0.76         1.09   \n",
       "...                ...        ...       ...       ...       ...          ...   \n",
       "16670             2008  Adventure      0.00      0.00      0.01         0.00   \n",
       "16671             2008  Adventure      0.00      0.00      0.01         0.00   \n",
       "16683             2008  Adventure      0.00      0.00      0.01         0.00   \n",
       "16689             2008  Adventure      0.00      0.00      0.01         0.00   \n",
       "16709             2008     Racing      0.00      0.00      0.00         0.00   \n",
       "\n",
       "       critic_score  user_score     rating  total_sales  \n",
       "208            82.0         8.2          T         4.99  \n",
       "290            93.0         8.9          M         4.07  \n",
       "349            82.0         7.9          E         3.62  \n",
       "436            83.0         6.5          E         3.14  \n",
       "474            73.0         9.2          T         3.00  \n",
       "...             ...         ...        ...          ...  \n",
       "16670           NaN         NaN  Undefined         0.01  \n",
       "16671           NaN         NaN  Undefined         0.01  \n",
       "16683           NaN         NaN  Undefined         0.01  \n",
       "16689           NaN         NaN  Undefined         0.01  \n",
       "16709           NaN         NaN  Undefined         0.00  \n",
       "\n",
       "[546 rows x 12 columns]"
      ]
     },
     "execution_count": 28,
     "metadata": {},
     "output_type": "execute_result"
    }
   ],
   "source": [
    "ps2_games = filtered_games[filtered_games['platform'] == 'PS2'] #v2\n",
    "ps2_games #taking only ps2 games from the dataframe"
   ]
  },
  {
   "cell_type": "code",
   "execution_count": 29,
   "metadata": {
    "scrolled": true
   },
   "outputs": [
    {
     "data": {
      "image/png": "[encoded data removed]",
      "text/plain": [
       "<Figure size 640x480 with 1 Axes>"
      ]
     },
     "metadata": {},
     "output_type": "display_data"
    }
   ],
   "source": [
    "from matplotlib import rcParams\n",
    "sns.scatterplot(data = ps2_games, x='critic_score', y='total_sales')\n",
    "plt.rcParams['figure.figsize'] = (6, 5)\n",
    "plt.show()"
   ]
  },
  {
   "cell_type": "code",
   "execution_count": 30,
   "metadata": {},
   "outputs": [
    {
     "data": {
      "image/png": "[encoded data removed]",
      "text/plain": [
       "<Figure size 600x500 with 1 Axes>"
      ]
     },
     "metadata": {},
     "output_type": "display_data"
    }
   ],
   "source": [
    "sns.scatterplot(data = ps2_games, x='user_score', y='total_sales')\n",
    "plt.show()"
   ]
  },
  {
   "cell_type": "markdown",
   "metadata": {},
   "source": [
    "Unfortunately, the scatter plots between critic/user scores and sales for PS2 games does not tell us much. The best of the best games have the highest sales and the highest ratings, however there are still plenty of games that recevied good reviews (at least 80 critic or 8 user score) and still did not sell much. It does seem that there is more to look at besides how well a game is received. At best, we can say there's a small positive correlation since games that scores under 60 critic score or 6 user score were a shoo-in to not sell many copies. Logically, a game like Wii Sports that can appeal to EVERYBODY seems more likely to sell than a more niche game like Pokemon, even if Pokemon was much better made. "
   ]
  },
  {
   "cell_type": "markdown",
   "metadata": {},
   "source": [
    "<div class=\"alert alert-block alert-success\">\n",
    "<b>Reviewer's comment v1:</b>\n",
    "\n",
    "Well done! Very nice scatter plots.\n"
   ]
  },
  {
   "cell_type": "code",
   "execution_count": 31,
   "metadata": {},
   "outputs": [
    {
     "data": {
      "image/png": "[encoded data removed]",
      "text/plain": [
       "<Figure size 600x500 with 1 Axes>"
      ]
     },
     "metadata": {},
     "output_type": "display_data"
    }
   ],
   "source": [
    "sns.barplot(data=filtered_games, x='genre',y='total_sales')\n",
    "from matplotlib import rcParams\n",
    "plt.rcParams['figure.figsize'] = (6, 5)\n",
    "plt.xlabel('Genre')\n",
    "plt.ylabel('Total Sales')\n",
    "plt.xticks(rotation=45)\n",
    "plt.show()"
   ]
  },
  {
   "cell_type": "markdown",
   "metadata": {},
   "source": [
    "<div class=\"alert alert-success\">\n",
    "<b>Reviewer's comment v1:</b>\n",
    "\n",
    "Well done! "
   ]
  },
  {
   "cell_type": "markdown",
   "metadata": {},
   "source": [
    "<div class=\"alert alert-warning\">\n",
    "<b>Reviewer's comment v1:</b>\n",
    "\n",
    "Additionally you could rotate x labels (genres) by adding `plt.xticks(rotation=45)`"
   ]
  },
  {
   "cell_type": "markdown",
   "metadata": {},
   "source": [
    "Puzzle, adventure, and strategy games have the least total sales by genre. Sports, racing, role-playing, platform, and shooter games have the highest total sales by genre. It's hard to draw general conclusions for certain, but shooter and sports games tend to be faster paced and more competitive. Adventure games tend to be very \"grindy\" where players spend a lot of time looking for things and leveling up, making it appeal more to a dedicated niche base of players. Puzzle games are also repetitive and have much less exciting aspects compared to the top genres. (v2)"
   ]
  },
  {
   "cell_type": "code",
   "execution_count": 32,
   "metadata": {},
   "outputs": [
    {
     "name": "stdout",
     "output_type": "stream",
     "text": [
      "Top platforms in NA:\n",
      "platform\n",
      "X360    525.38\n",
      "Wii     413.93\n",
      "PS3     359.24\n",
      "DS      273.98\n",
      "PS2      64.96\n",
      "Name: na_sales, dtype: float64\n",
      "\n",
      "Top platforms in EU:\n",
      "platform\n",
      "PS3     294.29\n",
      "X360    241.56\n",
      "Wii     212.11\n",
      "DS      119.92\n",
      "PC       80.41\n",
      "Name: eu_sales, dtype: float64\n",
      "\n",
      "Top platforms in JP:\n",
      "platform\n",
      "DS     102.93\n",
      "PS3     67.11\n",
      "PSP     65.88\n",
      "Wii     59.13\n",
      "3DS     56.38\n",
      "Name: jp_sales, dtype: float64\n",
      "\n"
     ]
    }
   ],
   "source": [
    "regions = ['NA', 'EU', 'JP']\n",
    "\n",
    "# Calculate sales per platform per region\n",
    "top_platforms_by_region = {}\n",
    "for region in regions:\n",
    "    region_column = f'{region.lower()}_sales'\n",
    "    top_platforms_by_region[region] = filtered_games.groupby('platform')[region_column].sum().sort_values(ascending=False).head(5)\n",
    "\n",
    "# Print top platforms for each region\n",
    "for region, platforms in top_platforms_by_region.items():\n",
    "    print(f\"Top platforms in {region}:\")\n",
    "    print(platforms)\n",
    "    print()"
   ]
  },
  {
   "cell_type": "code",
   "execution_count": 33,
   "metadata": {},
   "outputs": [
    {
     "data": {
      "image/png": "[encoded data removed]",
      "text/plain": [
       "<Figure size 600x300 with 1 Axes>"
      ]
     },
     "metadata": {},
     "output_type": "display_data"
    }
   ],
   "source": [
    "top_platforms_by_region #v2\n",
    "df_platforms = pd.DataFrame(top_platforms_by_region)\n",
    "df_platforms.plot(kind='bar', stacked=True, figsize=(6, 3))\n",
    "plt.ylabel('Total Sales')\n",
    "plt.show()"
   ]
  },
  {
   "cell_type": "markdown",
   "metadata": {},
   "source": [
    "NA and EU regions are very similar as they have the same top 5 platforms, although the Xbox 360 had a much larger market share in NA compared to EU. A noticeable difference is the relevance of handhelds in the JP region, where the DS reigns supreme and the 3DS & PSP have a top 5 share in the region. We do see as well that the JP region just has a much smaller market share overall, perhaps due to less of a cultural significance of console video games which reign supreme in the NA and EU regions. (v2)"
   ]
  },
  {
   "cell_type": "code",
   "execution_count": 34,
   "metadata": {
    "scrolled": true
   },
   "outputs": [
    {
     "name": "stdout",
     "output_type": "stream",
     "text": [
      "Top genres in NA:\n",
      "genre\n",
      "Action          417.97\n",
      "Sports          277.25\n",
      "Shooter         271.09\n",
      "Misc            243.22\n",
      "Role-Playing    141.94\n",
      "Name: na_sales, dtype: float64\n",
      "\n",
      "Top genres in EU:\n",
      "genre\n",
      "Action     260.39\n",
      "Sports     165.62\n",
      "Shooter    164.64\n",
      "Misc       114.44\n",
      "Racing      90.50\n",
      "Name: eu_sales, dtype: float64\n",
      "\n",
      "Top genres in JP:\n",
      "genre\n",
      "Role-Playing    119.39\n",
      "Action           66.71\n",
      "Misc             43.18\n",
      "Sports           37.02\n",
      "Platform         23.30\n",
      "Name: jp_sales, dtype: float64\n",
      "\n"
     ]
    }
   ],
   "source": [
    "top_genres_by_region = {}\n",
    "for region in regions:\n",
    "    region_column = f'{region.lower()}_sales'\n",
    "    top_genres_by_region[region] = filtered_games.groupby('genre')[region_column].sum().sort_values(ascending=False).head(5)\n",
    "\n",
    "# Print top genres for each region\n",
    "for region, genres in top_genres_by_region.items():\n",
    "    print(f\"Top genres in {region}:\")\n",
    "    print(genres)\n",
    "    print()"
   ]
  },
  {
   "cell_type": "code",
   "execution_count": 35,
   "metadata": {},
   "outputs": [
    {
     "data": {
      "image/png": "[encoded data removed]",
      "text/plain": [
       "<Figure size 600x300 with 1 Axes>"
      ]
     },
     "metadata": {},
     "output_type": "display_data"
    }
   ],
   "source": [
    "top_genres_by_region #v2\n",
    "df_genres = pd.DataFrame(top_genres_by_region)\n",
    "df_genres.plot(kind='bar', stacked=True, figsize=(6, 3))\n",
    "plt.ylabel('Total Sales')\n",
    "plt.show()"
   ]
  },
  {
   "cell_type": "markdown",
   "metadata": {},
   "source": [
    "Once again, NA and EU exhibit similar market behaviors, sharing 4 of the 5 top genres. The only difference is NA leans more towards role-playing and EU leans more towards racing. The JP region is different in that they prefer role-playing over any other genre; notably Pokemon, a high seller,falls into this category. The platform category also makes an appearance for the top 5 in JP. Shooter games do not play as large a role in this region, likely because consoles have such a smaller market share over there."
   ]
  },
  {
   "cell_type": "code",
   "execution_count": 36,
   "metadata": {},
   "outputs": [
    {
     "name": "stdout",
     "output_type": "stream",
     "text": [
      "Sales by ESRB rating in NA:\n",
      "rating\n",
      "E            612.53\n",
      "M            450.13\n",
      "T            332.24\n",
      "E10+         254.34\n",
      "Undefined    186.72\n",
      "EC             1.32\n",
      "RP             0.00\n",
      "Name: na_sales, dtype: float64\n",
      "\n",
      "Sales by ESRB rating in EU:\n",
      "rating\n",
      "E            334.80\n",
      "M            292.42\n",
      "T            183.78\n",
      "Undefined    148.70\n",
      "E10+         136.58\n",
      "RP             0.03\n",
      "EC             0.00\n",
      "Name: eu_sales, dtype: float64\n",
      "\n",
      "Sales by ESRB rating in JP:\n",
      "rating\n",
      "Undefined    187.81\n",
      "E             86.12\n",
      "T             59.96\n",
      "M             33.08\n",
      "E10+          27.45\n",
      "EC             0.00\n",
      "RP             0.00\n",
      "Name: jp_sales, dtype: float64\n",
      "\n"
     ]
    }
   ],
   "source": [
    "sales_by_esrb_rating = {}\n",
    "\n",
    "for region in regions:\n",
    "    region_column = f'{region.lower()}_sales'\n",
    "    sales_by_esrb_rating[region] = filtered_games.groupby('rating')[region_column].sum().sort_values(ascending=False)\n",
    "\n",
    "# Print sales by ESRB rating for each region\n",
    "for region, esrb_ratings in sales_by_esrb_rating.items():\n",
    "    print(f\"Sales by ESRB rating in {region}:\")\n",
    "    print(esrb_ratings)\n",
    "    print()"
   ]
  },
  {
   "cell_type": "code",
   "execution_count": 37,
   "metadata": {},
   "outputs": [
    {
     "data": {
      "image/png": "[encoded data removed]",
      "text/plain": [
       "<Figure size 600x300 with 1 Axes>"
      ]
     },
     "metadata": {},
     "output_type": "display_data"
    }
   ],
   "source": [
    "sales_by_esrb_rating #v2\n",
    "df_esrb = pd.DataFrame(sales_by_esrb_rating)\n",
    "df_esrb.plot(kind='bar', stacked=True, figsize=(6, 3))\n",
    "plt.ylabel('Total Sales')\n",
    "plt.show()"
   ]
  },
  {
   "cell_type": "markdown",
   "metadata": {},
   "source": [
    "<div class=\"alert alert-danger\">\n",
    "<b>Reviewer's comment v1:</b>\n",
    "\n",
    "Could you please visualize the data above? You can use either bar plots or pie charts, and arrange multiple graphs per dimension in one row.\n",
    "\n",
    "https://matplotlib.org/stable/api/_as_gen/matplotlib.pyplot.subplot.html\n",
    " "
   ]
  },
  {
   "cell_type": "markdown",
   "metadata": {},
   "source": [
    "<div class=\"alert alert-block alert-success\">\n",
    "<b>Reviewer's comment v2:</b>\n",
    "\n",
    "Thank you for the additional updates you've made. Looks great!"
   ]
  },
  {
   "cell_type": "markdown",
   "metadata": {},
   "source": [
    "We can see now that the undefined ratings are most likely Japanese games that are rated by their own rating organization. Since we cannot know how to categorize these games from this data, we can only use the data from games that do have an ESRB rating. The E,M, and T ratings have the most sales in the NA and EU regions. E10+ is also a big seller in all 3 regions. From a marketing perspective, it seems NA and EU can be treated fairly similarly. Excluding the undefined games, JP games with a rating of E,M, and T are the highest sellers as well. "
   ]
  },
  {
   "cell_type": "markdown",
   "metadata": {},
   "source": [
    "# We are going to conduct a test between Xbox One user ratings and PC user ratings"
   ]
  },
  {
   "cell_type": "markdown",
   "metadata": {},
   "source": [
    "Null Hypotheses (H₀):\n",
    "The average user ratings for Xbox One and PC platforms are the same."
   ]
  },
  {
   "cell_type": "markdown",
   "metadata": {},
   "source": [
    "Alternative Hypotheses (H₁):\n",
    "The average user ratings for Xbox One and PC platforms are different."
   ]
  },
  {
   "cell_type": "code",
   "execution_count": 38,
   "metadata": {},
   "outputs": [
    {
     "name": "stdout",
     "output_type": "stream",
     "text": [
      "P-value: 4.5385802963771835e-06\n",
      "Reject the null hypothesis. There is a significant difference in average user ratings between Xbox One and PC.\n"
     ]
    }
   ],
   "source": [
    "alpha = 0.05\n",
    "# Filter user scores for Xbox One and PC platforms\n",
    "xbox_one_ratings = games[games['platform'] == 'XOne']['user_score'].dropna()\n",
    "pc_ratings = games[games['platform'] == 'PC']['user_score'].dropna()\n",
    "\n",
    "# Perform t-test\n",
    "t_stat, p_value = stats.ttest_ind(xbox_one_ratings, pc_ratings, equal_var=False)\n",
    "\n",
    "print(f\"P-value: {p_value}\")\n",
    "\n",
    "# Conclusion\n",
    "if p_value < alpha:\n",
    "    print(\"Reject the null hypothesis. There is a significant difference in average user ratings between Xbox One and PC.\")\n",
    "else:\n",
    "    print(\"Fail to reject the null hypothesis. There is no significant difference in average user ratings between Xbox One and PC.\")"
   ]
  },
  {
   "cell_type": "markdown",
   "metadata": {},
   "source": [
    "Based on the sample of user ratings for the Xbox One and PC, it is nearly impossible for our test to achieve this result if the average ratings for both platforms is the same. It is more likely that they are different."
   ]
  },
  {
   "cell_type": "markdown",
   "metadata": {},
   "source": [
    "# We will conduct another test between the action and sports genres"
   ]
  },
  {
   "cell_type": "markdown",
   "metadata": {},
   "source": [
    "Null Hypotheses (H₀):\n",
    "The average user ratings for Action and Sports genres are the same."
   ]
  },
  {
   "cell_type": "markdown",
   "metadata": {},
   "source": [
    "Alternative Hypotheses (H₁):\n",
    "The average user ratings for Action and Sports genres are different."
   ]
  },
  {
   "cell_type": "code",
   "execution_count": 39,
   "metadata": {},
   "outputs": [
    {
     "name": "stdout",
     "output_type": "stream",
     "text": [
      "P-value: 0.07370217419278526\n",
      "Fail to reject null hypothesis. There is no significant difference in average user ratings between Action and Sports genres.\n"
     ]
    }
   ],
   "source": [
    "alpha = 0.05\n",
    "\n",
    "#Filter data for action and sports genres\n",
    "action_ratings = games[games['genre'] == \"Action\"]['user_score'].dropna()\n",
    "sports_ratings = games[games['genre']== 'Sports']['user_score'].dropna()\n",
    "\n",
    "#Conduct test\n",
    "t_stat, p_value = stats.ttest_ind(action_ratings, sports_ratings, equal_var = False)\n",
    "print(f\"P-value: {p_value}\")\n",
    "if p_value < alpha:\n",
    "    print(\"Reject the null hypothesis. There is a significant difference in average user ratings between Action and Sports genres.\")\n",
    "else:\n",
    "    print(\"Fail to reject null hypothesis. There is no significant difference in average user ratings between Action and Sports genres.\")\n",
    "    "
   ]
  },
  {
   "cell_type": "markdown",
   "metadata": {},
   "source": [
    "Based on the sample of user ratings for the action and sports genres, it is likely for our test to achieve this result if the average ratings for both genres is the same. Therefore, we can accept that the average user ratings between the two genres is the same. "
   ]
  },
  {
   "cell_type": "markdown",
   "metadata": {},
   "source": [
    "<div class=\"alert alert-success\">\n",
    "<b>Reviewer's comment v1:</b>\n",
    "    \n",
    "- Everything is correct here. Hypotheses have been formulated correctly. \n",
    "- Your conclusions based on the results are also correct.\n",
    "- You can also additionally compare the variances of the samples before testing hypotheses in order to understand with which equal_var parameter to use the ttest_ind test method (by default, True). Here you can manually calculate variances, or use Levene's statistic test (https://docs.scipy.org/doc/scipy/reference/generated/scipy.stats.levene.html) or Barlett's test (https: //docs.scipy .org / doc / scipy / reference / generated / scipy.stats.bartlett.html # scipy.stats.bartlett)\n",
    "    "
   ]
  },
  {
   "cell_type": "markdown",
   "metadata": {},
   "source": [
    "# Conclusion"
   ]
  },
  {
   "cell_type": "markdown",
   "metadata": {},
   "source": [
    "Our original intent here was to identify patterns and increase our chances of finding the next big winner. Based on our analysis, we have found patterns and regional behavior that could help us find the next gem. NA and EU regions exhibit similar behavior regarding platforms and genre, but the NA region has the highest market share overall. Most efforts should go to these two regions regarding marketing. Consoles play a much bigger role in the Western regions, whereas handhelds play a large role in the JP region; handheld games are more likely to be a gem in the JP region. Shooters reign amongst the top genres in the Western world, but focusing on shooters in the JP region would most likely be a lost cause. User ratings don't tell us much immediately about whether a game is going to be a gem, but we do know it is very rare for a BAD game to become immensely popular. Games rated E and M tend to be the highest sellers, so while games that appeal to just adults can go far, it is also important that they can appeal to everybody. We also need to look for consistency, as the DS and Wii consoles had huge outliers that helped propel them to the top. "
   ]
  },
  {
   "cell_type": "markdown",
   "metadata": {},
   "source": [
    "<div class=\"alert alert-block alert-success\">\n",
    "<b>Reviewer's comment v1:</b>\n",
    "\n",
    "Thank you for submitting your project! I really enjoyed reviewing it and I impressed by the results that you have accomplished. \n",
    "    \n",
    "    \n",
    "It is great that you added both overall and interim  conclusions after each section in your project. \n",
    "    \n",
    "Overall, you provided correct and very detailed conclusions and insights based on your analysis.\n",
    "    \n",
    "\n"
   ]
  }
 ],
 "metadata": {
  "ExecuteTimeLog": [
   {
    "duration": 8,
    "start_time": "2024-09-13T01:28:01.298Z"
   },
   {
    "duration": 310,
    "start_time": "2024-09-13T01:28:18.673Z"
   },
   {
    "duration": 44,
    "start_time": "2024-09-13T01:28:54.093Z"
   },
   {
    "duration": 13,
    "start_time": "2024-09-13T01:28:59.533Z"
   },
   {
    "duration": 23,
    "start_time": "2024-09-13T01:29:16.998Z"
   },
   {
    "duration": 7,
    "start_time": "2024-09-13T01:30:45.174Z"
   },
   {
    "duration": 11,
    "start_time": "2024-09-13T01:31:25.067Z"
   },
   {
    "duration": 6,
    "start_time": "2024-09-13T01:35:40.627Z"
   },
   {
    "duration": 9,
    "start_time": "2024-09-13T01:44:55.874Z"
   },
   {
    "duration": 4,
    "start_time": "2024-09-13T01:45:10.574Z"
   },
   {
    "duration": 7,
    "start_time": "2024-09-13T01:48:09.833Z"
   },
   {
    "duration": 7,
    "start_time": "2024-09-13T01:48:24.194Z"
   },
   {
    "duration": 4,
    "start_time": "2024-09-13T01:49:03.959Z"
   },
   {
    "duration": 4,
    "start_time": "2024-09-13T01:49:53.634Z"
   },
   {
    "duration": 4,
    "start_time": "2024-09-13T01:49:54.633Z"
   },
   {
    "duration": 3,
    "start_time": "2024-09-13T01:50:07.674Z"
   },
   {
    "duration": 24,
    "start_time": "2024-09-13T01:50:07.683Z"
   },
   {
    "duration": 18,
    "start_time": "2024-09-13T01:50:07.709Z"
   },
   {
    "duration": 10,
    "start_time": "2024-09-13T01:50:07.729Z"
   },
   {
    "duration": 7,
    "start_time": "2024-09-13T01:50:07.740Z"
   },
   {
    "duration": 3,
    "start_time": "2024-09-13T01:50:07.749Z"
   },
   {
    "duration": 5,
    "start_time": "2024-09-13T01:50:07.754Z"
   },
   {
    "duration": 176,
    "start_time": "2024-09-13T01:51:53.513Z"
   },
   {
    "duration": 12,
    "start_time": "2024-09-13T01:52:04.509Z"
   },
   {
    "duration": 14,
    "start_time": "2024-09-13T01:52:14.815Z"
   },
   {
    "duration": 13,
    "start_time": "2024-09-13T01:52:36.666Z"
   },
   {
    "duration": 13,
    "start_time": "2024-09-13T01:52:47.239Z"
   },
   {
    "duration": 11,
    "start_time": "2024-09-13T01:52:48.573Z"
   },
   {
    "duration": 13,
    "start_time": "2024-09-13T01:52:55.497Z"
   },
   {
    "duration": 2,
    "start_time": "2024-09-13T01:53:06.815Z"
   },
   {
    "duration": 24,
    "start_time": "2024-09-13T01:53:06.819Z"
   },
   {
    "duration": 18,
    "start_time": "2024-09-13T01:53:06.844Z"
   },
   {
    "duration": 10,
    "start_time": "2024-09-13T01:53:06.863Z"
   },
   {
    "duration": 4,
    "start_time": "2024-09-13T01:53:06.876Z"
   },
   {
    "duration": 32,
    "start_time": "2024-09-13T01:53:06.881Z"
   },
   {
    "duration": 12,
    "start_time": "2024-09-13T01:53:06.915Z"
   },
   {
    "duration": 11,
    "start_time": "2024-09-13T01:53:27.280Z"
   },
   {
    "duration": 13,
    "start_time": "2024-09-13T01:53:39.413Z"
   },
   {
    "duration": 12,
    "start_time": "2024-09-13T01:53:41.973Z"
   },
   {
    "duration": 2,
    "start_time": "2024-09-13T01:53:44.896Z"
   },
   {
    "duration": 27,
    "start_time": "2024-09-13T01:53:44.900Z"
   },
   {
    "duration": 18,
    "start_time": "2024-09-13T01:53:44.929Z"
   },
   {
    "duration": 10,
    "start_time": "2024-09-13T01:53:44.949Z"
   },
   {
    "duration": 5,
    "start_time": "2024-09-13T01:53:44.961Z"
   },
   {
    "duration": 6,
    "start_time": "2024-09-13T01:53:44.968Z"
   },
   {
    "duration": 5,
    "start_time": "2024-09-13T01:54:06.814Z"
   },
   {
    "duration": 5,
    "start_time": "2024-09-13T01:54:49.913Z"
   },
   {
    "duration": 6,
    "start_time": "2024-09-13T02:01:06.899Z"
   },
   {
    "duration": 4,
    "start_time": "2024-09-13T02:01:21.138Z"
   },
   {
    "duration": 5,
    "start_time": "2024-09-13T02:01:28.658Z"
   },
   {
    "duration": 6,
    "start_time": "2024-09-13T02:01:35.563Z"
   },
   {
    "duration": 14,
    "start_time": "2024-09-13T02:01:49.673Z"
   },
   {
    "duration": 6,
    "start_time": "2024-09-13T02:02:10.853Z"
   },
   {
    "duration": 10,
    "start_time": "2024-09-13T02:03:04.355Z"
   },
   {
    "duration": 13,
    "start_time": "2024-09-13T02:03:44.709Z"
   },
   {
    "duration": 7,
    "start_time": "2024-09-13T02:24:53.374Z"
   },
   {
    "duration": 6,
    "start_time": "2024-09-13T02:25:05.694Z"
   },
   {
    "duration": 2,
    "start_time": "2024-09-13T02:25:08.275Z"
   },
   {
    "duration": 25,
    "start_time": "2024-09-13T02:25:08.280Z"
   },
   {
    "duration": 18,
    "start_time": "2024-09-13T02:25:08.306Z"
   },
   {
    "duration": 10,
    "start_time": "2024-09-13T02:25:08.326Z"
   },
   {
    "duration": 3,
    "start_time": "2024-09-13T02:25:08.339Z"
   },
   {
    "duration": 5,
    "start_time": "2024-09-13T02:25:08.344Z"
   },
   {
    "duration": 4,
    "start_time": "2024-09-13T02:25:08.351Z"
   },
   {
    "duration": 8,
    "start_time": "2024-09-13T02:25:08.357Z"
   },
   {
    "duration": 6,
    "start_time": "2024-09-13T02:25:08.366Z"
   },
   {
    "duration": 8,
    "start_time": "2024-09-13T02:26:00.913Z"
   },
   {
    "duration": 6,
    "start_time": "2024-09-13T02:41:40.346Z"
   },
   {
    "duration": 4,
    "start_time": "2024-09-13T02:48:30.716Z"
   },
   {
    "duration": 13,
    "start_time": "2024-09-13T02:56:44.234Z"
   },
   {
    "duration": 2,
    "start_time": "2024-09-13T03:04:11.270Z"
   },
   {
    "duration": 24,
    "start_time": "2024-09-13T03:04:11.275Z"
   },
   {
    "duration": 19,
    "start_time": "2024-09-13T03:04:11.300Z"
   },
   {
    "duration": 11,
    "start_time": "2024-09-13T03:04:11.321Z"
   },
   {
    "duration": 4,
    "start_time": "2024-09-13T03:04:11.335Z"
   },
   {
    "duration": 5,
    "start_time": "2024-09-13T03:04:11.341Z"
   },
   {
    "duration": 4,
    "start_time": "2024-09-13T03:04:11.348Z"
   },
   {
    "duration": 7,
    "start_time": "2024-09-13T03:04:11.355Z"
   },
   {
    "duration": 6,
    "start_time": "2024-09-13T03:04:11.364Z"
   },
   {
    "duration": 44,
    "start_time": "2024-09-13T03:04:11.371Z"
   },
   {
    "duration": 11,
    "start_time": "2024-09-13T03:04:11.417Z"
   },
   {
    "duration": 371,
    "start_time": "2024-09-13T03:06:38.434Z"
   },
   {
    "duration": 576,
    "start_time": "2024-09-13T03:07:07.260Z"
   },
   {
    "duration": 6,
    "start_time": "2024-09-13T03:08:24.706Z"
   },
   {
    "duration": 5,
    "start_time": "2024-09-13T03:08:48.713Z"
   },
   {
    "duration": 3,
    "start_time": "2024-09-13T03:09:04.114Z"
   },
   {
    "duration": 24,
    "start_time": "2024-09-13T03:09:04.120Z"
   },
   {
    "duration": 18,
    "start_time": "2024-09-13T03:09:04.146Z"
   },
   {
    "duration": 10,
    "start_time": "2024-09-13T03:09:04.165Z"
   },
   {
    "duration": 4,
    "start_time": "2024-09-13T03:09:04.178Z"
   },
   {
    "duration": 31,
    "start_time": "2024-09-13T03:09:04.184Z"
   },
   {
    "duration": 5,
    "start_time": "2024-09-13T03:09:04.216Z"
   },
   {
    "duration": 8,
    "start_time": "2024-09-13T03:09:04.222Z"
   },
   {
    "duration": 6,
    "start_time": "2024-09-13T03:09:04.232Z"
   },
   {
    "duration": 4,
    "start_time": "2024-09-13T03:09:04.240Z"
   },
   {
    "duration": 9,
    "start_time": "2024-09-13T03:09:04.246Z"
   },
   {
    "duration": 4,
    "start_time": "2024-09-13T03:09:04.256Z"
   },
   {
    "duration": 39,
    "start_time": "2024-09-13T03:09:20.315Z"
   },
   {
    "duration": 6,
    "start_time": "2024-09-13T03:09:34.974Z"
   },
   {
    "duration": 7,
    "start_time": "2024-09-13T03:10:45.233Z"
   },
   {
    "duration": 7,
    "start_time": "2024-09-13T03:10:52.773Z"
   },
   {
    "duration": 325,
    "start_time": "2024-09-13T03:11:25.456Z"
   },
   {
    "duration": 24,
    "start_time": "2024-09-13T03:11:25.783Z"
   },
   {
    "duration": 21,
    "start_time": "2024-09-13T03:11:25.812Z"
   },
   {
    "duration": 10,
    "start_time": "2024-09-13T03:11:25.834Z"
   },
   {
    "duration": 4,
    "start_time": "2024-09-13T03:11:25.848Z"
   },
   {
    "duration": 5,
    "start_time": "2024-09-13T03:11:25.854Z"
   },
   {
    "duration": 4,
    "start_time": "2024-09-13T03:11:25.861Z"
   },
   {
    "duration": 8,
    "start_time": "2024-09-13T03:11:25.867Z"
   },
   {
    "duration": 6,
    "start_time": "2024-09-13T03:11:25.913Z"
   },
   {
    "duration": 4,
    "start_time": "2024-09-13T03:11:25.920Z"
   },
   {
    "duration": 8,
    "start_time": "2024-09-13T03:11:25.927Z"
   },
   {
    "duration": 9,
    "start_time": "2024-09-13T03:11:25.936Z"
   },
   {
    "duration": 6,
    "start_time": "2024-09-13T03:13:17.273Z"
   },
   {
    "duration": 186,
    "start_time": "2024-09-13T03:13:35.093Z"
   },
   {
    "duration": 6,
    "start_time": "2024-09-13T03:13:45.954Z"
   },
   {
    "duration": 5,
    "start_time": "2024-09-13T03:13:56.513Z"
   },
   {
    "duration": 379,
    "start_time": "2024-09-13T03:14:23.094Z"
   },
   {
    "duration": 37,
    "start_time": "2024-09-13T03:16:38.934Z"
   },
   {
    "duration": 5,
    "start_time": "2024-09-13T03:17:23.352Z"
   },
   {
    "duration": 6,
    "start_time": "2024-09-13T03:18:09.813Z"
   },
   {
    "duration": 5,
    "start_time": "2024-09-13T03:18:13.652Z"
   },
   {
    "duration": 6,
    "start_time": "2024-09-13T03:18:16.553Z"
   },
   {
    "duration": 5,
    "start_time": "2024-09-13T03:18:19.280Z"
   },
   {
    "duration": 6,
    "start_time": "2024-09-13T03:18:20.974Z"
   },
   {
    "duration": 322,
    "start_time": "2024-09-13T03:21:12.953Z"
   },
   {
    "duration": 5,
    "start_time": "2024-09-13T03:25:31.913Z"
   },
   {
    "duration": 11,
    "start_time": "2024-09-13T03:25:38.663Z"
   },
   {
    "duration": 4,
    "start_time": "2024-09-13T03:26:50.793Z"
   },
   {
    "duration": 11,
    "start_time": "2024-09-13T03:26:55.934Z"
   },
   {
    "duration": 13,
    "start_time": "2024-09-13T03:33:37.833Z"
   },
   {
    "duration": 10,
    "start_time": "2024-09-13T03:33:58.973Z"
   },
   {
    "duration": 18,
    "start_time": "2024-09-13T03:34:02.753Z"
   },
   {
    "duration": 3,
    "start_time": "2024-09-13T03:34:06.402Z"
   },
   {
    "duration": 24,
    "start_time": "2024-09-13T03:34:06.407Z"
   },
   {
    "duration": 18,
    "start_time": "2024-09-13T03:34:06.433Z"
   },
   {
    "duration": 10,
    "start_time": "2024-09-13T03:34:06.453Z"
   },
   {
    "duration": 4,
    "start_time": "2024-09-13T03:34:06.466Z"
   },
   {
    "duration": 6,
    "start_time": "2024-09-13T03:34:06.471Z"
   },
   {
    "duration": 4,
    "start_time": "2024-09-13T03:34:06.478Z"
   },
   {
    "duration": 34,
    "start_time": "2024-09-13T03:34:06.484Z"
   },
   {
    "duration": 7,
    "start_time": "2024-09-13T03:34:06.519Z"
   },
   {
    "duration": 6,
    "start_time": "2024-09-13T03:34:06.527Z"
   },
   {
    "duration": 8,
    "start_time": "2024-09-13T03:34:06.534Z"
   },
   {
    "duration": 7,
    "start_time": "2024-09-13T03:34:06.544Z"
   },
   {
    "duration": 9,
    "start_time": "2024-09-13T03:34:06.553Z"
   },
   {
    "duration": 3,
    "start_time": "2024-09-13T03:34:06.565Z"
   },
   {
    "duration": 47,
    "start_time": "2024-09-13T03:34:06.570Z"
   },
   {
    "duration": 16,
    "start_time": "2024-09-13T03:34:06.619Z"
   },
   {
    "duration": 1791,
    "start_time": "2024-09-13T03:34:28.333Z"
   },
   {
    "duration": 19,
    "start_time": "2024-09-13T03:34:32.116Z"
   },
   {
    "duration": 82,
    "start_time": "2024-09-13T03:34:37.438Z"
   },
   {
    "duration": 4,
    "start_time": "2024-09-13T03:38:51.574Z"
   },
   {
    "duration": 89,
    "start_time": "2024-09-13T03:38:56.653Z"
   },
   {
    "duration": 440,
    "start_time": "2024-09-13T03:40:40.420Z"
   },
   {
    "duration": 64,
    "start_time": "2024-09-13T03:40:40.862Z"
   },
   {
    "duration": 20,
    "start_time": "2024-09-13T03:40:40.928Z"
   },
   {
    "duration": 11,
    "start_time": "2024-09-13T03:40:40.949Z"
   },
   {
    "duration": 4,
    "start_time": "2024-09-13T03:40:40.962Z"
   },
   {
    "duration": 6,
    "start_time": "2024-09-13T03:40:40.968Z"
   },
   {
    "duration": 5,
    "start_time": "2024-09-13T03:40:40.976Z"
   },
   {
    "duration": 37,
    "start_time": "2024-09-13T03:40:40.983Z"
   },
   {
    "duration": 6,
    "start_time": "2024-09-13T03:40:41.022Z"
   },
   {
    "duration": 5,
    "start_time": "2024-09-13T03:40:41.030Z"
   },
   {
    "duration": 8,
    "start_time": "2024-09-13T03:40:41.037Z"
   },
   {
    "duration": 6,
    "start_time": "2024-09-13T03:40:41.047Z"
   },
   {
    "duration": 9,
    "start_time": "2024-09-13T03:40:41.055Z"
   },
   {
    "duration": 45,
    "start_time": "2024-09-13T03:40:41.067Z"
   },
   {
    "duration": 11,
    "start_time": "2024-09-13T03:40:41.114Z"
   },
   {
    "duration": 117,
    "start_time": "2024-09-13T03:40:41.127Z"
   },
   {
    "duration": 113,
    "start_time": "2024-09-13T03:41:19.231Z"
   },
   {
    "duration": 118,
    "start_time": "2024-09-13T03:41:45.751Z"
   },
   {
    "duration": 123,
    "start_time": "2024-09-13T03:41:58.491Z"
   },
   {
    "duration": 184,
    "start_time": "2024-09-13T03:48:18.439Z"
   },
   {
    "duration": 113,
    "start_time": "2024-09-13T03:48:24.613Z"
   },
   {
    "duration": 16,
    "start_time": "2024-09-13T03:54:20.692Z"
   },
   {
    "duration": 6,
    "start_time": "2024-09-13T03:54:38.656Z"
   },
   {
    "duration": 10,
    "start_time": "2024-09-13T03:54:46.014Z"
   },
   {
    "duration": 12,
    "start_time": "2024-09-13T04:00:58.393Z"
   },
   {
    "duration": 14,
    "start_time": "2024-09-13T04:02:13.336Z"
   },
   {
    "duration": 13,
    "start_time": "2024-09-13T04:02:24.970Z"
   },
   {
    "duration": 14,
    "start_time": "2024-09-13T04:02:29.690Z"
   },
   {
    "duration": 759,
    "start_time": "2024-09-13T04:02:40.569Z"
   },
   {
    "duration": 469,
    "start_time": "2024-09-13T04:05:11.244Z"
   },
   {
    "duration": 12,
    "start_time": "2024-09-13T04:06:08.010Z"
   },
   {
    "duration": 50,
    "start_time": "2024-09-13T04:08:15.730Z"
   },
   {
    "duration": 50,
    "start_time": "2024-09-13T04:08:36.645Z"
   },
   {
    "duration": 208,
    "start_time": "2024-09-13T04:08:41.009Z"
   },
   {
    "duration": 201,
    "start_time": "2024-09-13T04:08:48.589Z"
   },
   {
    "duration": 8,
    "start_time": "2024-09-15T21:25:57.404Z"
   },
   {
    "duration": 154,
    "start_time": "2024-09-15T21:26:02.855Z"
   },
   {
    "duration": 2096,
    "start_time": "2024-09-15T21:26:07.763Z"
   },
   {
    "duration": 72,
    "start_time": "2024-09-15T21:26:09.861Z"
   },
   {
    "duration": 21,
    "start_time": "2024-09-15T21:26:09.935Z"
   },
   {
    "duration": 10,
    "start_time": "2024-09-15T21:26:09.957Z"
   },
   {
    "duration": 4,
    "start_time": "2024-09-15T21:26:09.970Z"
   },
   {
    "duration": 6,
    "start_time": "2024-09-15T21:26:09.976Z"
   },
   {
    "duration": 5,
    "start_time": "2024-09-15T21:26:09.983Z"
   },
   {
    "duration": 8,
    "start_time": "2024-09-15T21:26:09.989Z"
   },
   {
    "duration": 8,
    "start_time": "2024-09-15T21:26:10.025Z"
   },
   {
    "duration": 5,
    "start_time": "2024-09-15T21:26:10.034Z"
   },
   {
    "duration": 9,
    "start_time": "2024-09-15T21:26:10.040Z"
   },
   {
    "duration": 7,
    "start_time": "2024-09-15T21:26:10.052Z"
   },
   {
    "duration": 14,
    "start_time": "2024-09-15T21:26:10.061Z"
   },
   {
    "duration": 4,
    "start_time": "2024-09-15T21:26:10.078Z"
   },
   {
    "duration": 47,
    "start_time": "2024-09-15T21:26:10.083Z"
   },
   {
    "duration": 137,
    "start_time": "2024-09-15T21:26:10.132Z"
   },
   {
    "duration": 10,
    "start_time": "2024-09-15T21:26:10.271Z"
   },
   {
    "duration": 211,
    "start_time": "2024-09-15T21:26:10.283Z"
   },
   {
    "duration": 432,
    "start_time": "2024-09-15T21:26:10.495Z"
   },
   {
    "duration": 37,
    "start_time": "2024-09-15T21:26:45.785Z"
   },
   {
    "duration": 3,
    "start_time": "2024-09-15T21:29:48.216Z"
   },
   {
    "duration": 123,
    "start_time": "2024-09-15T21:30:36.214Z"
   },
   {
    "duration": 37,
    "start_time": "2024-09-15T21:30:56.794Z"
   },
   {
    "duration": 6,
    "start_time": "2024-09-15T21:32:08.396Z"
   },
   {
    "duration": 42,
    "start_time": "2024-09-15T21:32:22.474Z"
   },
   {
    "duration": 9,
    "start_time": "2024-09-15T21:32:27.056Z"
   },
   {
    "duration": 217,
    "start_time": "2024-09-15T21:36:04.201Z"
   },
   {
    "duration": 183,
    "start_time": "2024-09-15T21:36:33.515Z"
   },
   {
    "duration": 258,
    "start_time": "2024-09-15T21:36:50.775Z"
   },
   {
    "duration": 188,
    "start_time": "2024-09-15T21:37:04.236Z"
   },
   {
    "duration": 6,
    "start_time": "2024-09-15T21:49:42.315Z"
   },
   {
    "duration": 4,
    "start_time": "2024-09-15T21:50:01.921Z"
   },
   {
    "duration": 132,
    "start_time": "2024-09-15T21:50:21.517Z"
   },
   {
    "duration": 128,
    "start_time": "2024-09-15T21:50:27.516Z"
   },
   {
    "duration": 410,
    "start_time": "2024-09-15T21:50:38.975Z"
   },
   {
    "duration": 60,
    "start_time": "2024-09-15T21:50:39.386Z"
   },
   {
    "duration": 21,
    "start_time": "2024-09-15T21:50:39.448Z"
   },
   {
    "duration": 10,
    "start_time": "2024-09-15T21:50:39.471Z"
   },
   {
    "duration": 6,
    "start_time": "2024-09-15T21:50:39.484Z"
   },
   {
    "duration": 33,
    "start_time": "2024-09-15T21:50:39.491Z"
   },
   {
    "duration": 5,
    "start_time": "2024-09-15T21:50:39.526Z"
   },
   {
    "duration": 8,
    "start_time": "2024-09-15T21:50:39.533Z"
   },
   {
    "duration": 7,
    "start_time": "2024-09-15T21:50:39.542Z"
   },
   {
    "duration": 4,
    "start_time": "2024-09-15T21:50:39.551Z"
   },
   {
    "duration": 8,
    "start_time": "2024-09-15T21:50:39.556Z"
   },
   {
    "duration": 6,
    "start_time": "2024-09-15T21:50:39.566Z"
   },
   {
    "duration": 10,
    "start_time": "2024-09-15T21:50:39.574Z"
   },
   {
    "duration": 42,
    "start_time": "2024-09-15T21:50:39.586Z"
   },
   {
    "duration": 11,
    "start_time": "2024-09-15T21:50:39.629Z"
   },
   {
    "duration": 148,
    "start_time": "2024-09-15T21:50:39.641Z"
   },
   {
    "duration": 131,
    "start_time": "2024-09-15T21:50:39.790Z"
   },
   {
    "duration": 11,
    "start_time": "2024-09-15T21:50:39.922Z"
   },
   {
    "duration": 161,
    "start_time": "2024-09-15T21:50:39.934Z"
   },
   {
    "duration": 10,
    "start_time": "2024-09-15T21:50:40.099Z"
   },
   {
    "duration": 439,
    "start_time": "2024-09-15T21:54:29.991Z"
   },
   {
    "duration": 66,
    "start_time": "2024-09-15T21:54:30.432Z"
   },
   {
    "duration": 30,
    "start_time": "2024-09-15T21:54:30.499Z"
   },
   {
    "duration": 13,
    "start_time": "2024-09-15T21:54:30.530Z"
   },
   {
    "duration": 5,
    "start_time": "2024-09-15T21:54:30.545Z"
   },
   {
    "duration": 7,
    "start_time": "2024-09-15T21:54:30.552Z"
   },
   {
    "duration": 6,
    "start_time": "2024-09-15T21:54:30.560Z"
   },
   {
    "duration": 8,
    "start_time": "2024-09-15T21:54:30.567Z"
   },
   {
    "duration": 6,
    "start_time": "2024-09-15T21:54:30.577Z"
   },
   {
    "duration": 4,
    "start_time": "2024-09-15T21:54:30.624Z"
   },
   {
    "duration": 9,
    "start_time": "2024-09-15T21:54:30.630Z"
   },
   {
    "duration": 7,
    "start_time": "2024-09-15T21:54:30.641Z"
   },
   {
    "duration": 10,
    "start_time": "2024-09-15T21:54:30.650Z"
   },
   {
    "duration": 3,
    "start_time": "2024-09-15T21:54:30.663Z"
   },
   {
    "duration": 11,
    "start_time": "2024-09-15T21:54:30.667Z"
   },
   {
    "duration": 168,
    "start_time": "2024-09-15T21:54:30.679Z"
   },
   {
    "duration": 131,
    "start_time": "2024-09-15T21:54:30.849Z"
   },
   {
    "duration": 10,
    "start_time": "2024-09-15T21:54:30.982Z"
   },
   {
    "duration": 165,
    "start_time": "2024-09-15T21:54:30.993Z"
   },
   {
    "duration": 8,
    "start_time": "2024-09-15T21:54:31.160Z"
   },
   {
    "duration": 854,
    "start_time": "2024-09-15T21:54:42.316Z"
   },
   {
    "duration": 24,
    "start_time": "2024-09-15T21:54:43.173Z"
   },
   {
    "duration": 34,
    "start_time": "2024-09-15T21:54:43.199Z"
   },
   {
    "duration": 11,
    "start_time": "2024-09-15T21:54:43.234Z"
   },
   {
    "duration": 4,
    "start_time": "2024-09-15T21:54:43.248Z"
   },
   {
    "duration": 6,
    "start_time": "2024-09-15T21:54:43.254Z"
   },
   {
    "duration": 4,
    "start_time": "2024-09-15T21:54:43.261Z"
   },
   {
    "duration": 8,
    "start_time": "2024-09-15T21:54:43.267Z"
   },
   {
    "duration": 6,
    "start_time": "2024-09-15T21:54:43.276Z"
   },
   {
    "duration": 45,
    "start_time": "2024-09-15T21:54:43.284Z"
   },
   {
    "duration": 9,
    "start_time": "2024-09-15T21:54:43.331Z"
   },
   {
    "duration": 6,
    "start_time": "2024-09-15T21:54:43.342Z"
   },
   {
    "duration": 10,
    "start_time": "2024-09-15T21:54:43.349Z"
   },
   {
    "duration": 3,
    "start_time": "2024-09-15T21:54:43.363Z"
   },
   {
    "duration": 11,
    "start_time": "2024-09-15T21:54:43.368Z"
   },
   {
    "duration": 169,
    "start_time": "2024-09-15T21:54:43.380Z"
   },
   {
    "duration": 130,
    "start_time": "2024-09-15T21:54:43.551Z"
   },
   {
    "duration": 8,
    "start_time": "2024-09-15T21:54:43.683Z"
   },
   {
    "duration": 205,
    "start_time": "2024-09-15T21:54:43.693Z"
   },
   {
    "duration": 7,
    "start_time": "2024-09-15T21:54:43.900Z"
   },
   {
    "duration": 773,
    "start_time": "2024-09-15T21:56:28.190Z"
   },
   {
    "duration": 24,
    "start_time": "2024-09-15T21:56:28.965Z"
   },
   {
    "duration": 34,
    "start_time": "2024-09-15T21:56:28.990Z"
   },
   {
    "duration": 11,
    "start_time": "2024-09-15T21:56:29.025Z"
   },
   {
    "duration": 4,
    "start_time": "2024-09-15T21:56:29.039Z"
   },
   {
    "duration": 7,
    "start_time": "2024-09-15T21:56:29.044Z"
   },
   {
    "duration": 4,
    "start_time": "2024-09-15T21:56:29.053Z"
   },
   {
    "duration": 7,
    "start_time": "2024-09-15T21:56:29.059Z"
   },
   {
    "duration": 7,
    "start_time": "2024-09-15T21:56:29.068Z"
   },
   {
    "duration": 5,
    "start_time": "2024-09-15T21:56:29.076Z"
   },
   {
    "duration": 44,
    "start_time": "2024-09-15T21:56:29.083Z"
   },
   {
    "duration": 7,
    "start_time": "2024-09-15T21:56:29.129Z"
   },
   {
    "duration": 9,
    "start_time": "2024-09-15T21:56:29.139Z"
   },
   {
    "duration": 4,
    "start_time": "2024-09-15T21:56:29.151Z"
   },
   {
    "duration": 10,
    "start_time": "2024-09-15T21:56:29.156Z"
   },
   {
    "duration": 163,
    "start_time": "2024-09-15T21:56:29.167Z"
   },
   {
    "duration": 129,
    "start_time": "2024-09-15T21:56:29.332Z"
   },
   {
    "duration": 10,
    "start_time": "2024-09-15T21:56:29.463Z"
   },
   {
    "duration": 203,
    "start_time": "2024-09-15T21:56:29.475Z"
   },
   {
    "duration": 10,
    "start_time": "2024-09-15T21:56:29.680Z"
   },
   {
    "duration": 154,
    "start_time": "2024-09-15T21:58:06.600Z"
   },
   {
    "duration": 175,
    "start_time": "2024-09-15T22:00:42.460Z"
   },
   {
    "duration": 7,
    "start_time": "2024-09-15T22:01:49.045Z"
   },
   {
    "duration": 12,
    "start_time": "2024-09-15T22:06:07.856Z"
   },
   {
    "duration": 365,
    "start_time": "2024-09-15T22:07:40.375Z"
   },
   {
    "duration": 511,
    "start_time": "2024-09-15T22:08:01.329Z"
   },
   {
    "duration": 419,
    "start_time": "2024-09-15T22:08:22.354Z"
   },
   {
    "duration": 41,
    "start_time": "2024-09-15T22:08:32.415Z"
   },
   {
    "duration": 429,
    "start_time": "2024-09-15T22:08:57.235Z"
   },
   {
    "duration": 14,
    "start_time": "2024-09-15T22:09:09.376Z"
   },
   {
    "duration": 406,
    "start_time": "2024-09-15T22:09:15.415Z"
   },
   {
    "duration": 205,
    "start_time": "2024-09-15T22:09:34.700Z"
   },
   {
    "duration": 203,
    "start_time": "2024-09-15T22:10:11.498Z"
   },
   {
    "duration": 203,
    "start_time": "2024-09-15T22:10:39.675Z"
   },
   {
    "duration": 283,
    "start_time": "2024-09-15T22:10:46.060Z"
   },
   {
    "duration": 215,
    "start_time": "2024-09-15T22:10:54.695Z"
   },
   {
    "duration": 384,
    "start_time": "2024-09-15T22:11:35.815Z"
   },
   {
    "duration": 4,
    "start_time": "2024-09-15T22:11:53.377Z"
   },
   {
    "duration": 216,
    "start_time": "2024-09-15T22:11:57.917Z"
   },
   {
    "duration": 217,
    "start_time": "2024-09-15T22:12:04.979Z"
   },
   {
    "duration": 296,
    "start_time": "2024-09-15T22:12:58.375Z"
   },
   {
    "duration": 206,
    "start_time": "2024-09-15T22:13:15.019Z"
   },
   {
    "duration": 265,
    "start_time": "2024-09-15T22:13:24.559Z"
   },
   {
    "duration": 218,
    "start_time": "2024-09-15T22:14:17.396Z"
   },
   {
    "duration": 5,
    "start_time": "2024-09-15T22:40:53.575Z"
   },
   {
    "duration": 17,
    "start_time": "2024-09-15T22:41:02.416Z"
   },
   {
    "duration": 221,
    "start_time": "2024-09-15T22:43:45.076Z"
   },
   {
    "duration": 108,
    "start_time": "2024-09-15T22:44:52.916Z"
   },
   {
    "duration": 108,
    "start_time": "2024-09-15T22:45:26.517Z"
   },
   {
    "duration": 141,
    "start_time": "2024-09-15T22:45:49.948Z"
   },
   {
    "duration": 115,
    "start_time": "2024-09-15T22:45:57.635Z"
   },
   {
    "duration": 110,
    "start_time": "2024-09-15T22:46:08.725Z"
   },
   {
    "duration": 215,
    "start_time": "2024-09-15T22:47:14.956Z"
   },
   {
    "duration": 220,
    "start_time": "2024-09-15T22:47:29.800Z"
   },
   {
    "duration": 236,
    "start_time": "2024-09-15T22:47:37.475Z"
   },
   {
    "duration": 228,
    "start_time": "2024-09-15T22:48:37.488Z"
   },
   {
    "duration": 16,
    "start_time": "2024-09-15T22:59:22.636Z"
   },
   {
    "duration": 784,
    "start_time": "2024-09-15T23:01:34.918Z"
   },
   {
    "duration": 29,
    "start_time": "2024-09-15T23:01:35.705Z"
   },
   {
    "duration": 21,
    "start_time": "2024-09-15T23:01:35.736Z"
   },
   {
    "duration": 10,
    "start_time": "2024-09-15T23:01:35.760Z"
   },
   {
    "duration": 4,
    "start_time": "2024-09-15T23:01:35.773Z"
   },
   {
    "duration": 6,
    "start_time": "2024-09-15T23:01:35.779Z"
   },
   {
    "duration": 5,
    "start_time": "2024-09-15T23:01:35.787Z"
   },
   {
    "duration": 37,
    "start_time": "2024-09-15T23:01:35.794Z"
   },
   {
    "duration": 8,
    "start_time": "2024-09-15T23:01:35.833Z"
   },
   {
    "duration": 4,
    "start_time": "2024-09-15T23:01:35.844Z"
   },
   {
    "duration": 8,
    "start_time": "2024-09-15T23:01:35.850Z"
   },
   {
    "duration": 7,
    "start_time": "2024-09-15T23:01:35.861Z"
   },
   {
    "duration": 9,
    "start_time": "2024-09-15T23:01:35.869Z"
   },
   {
    "duration": 4,
    "start_time": "2024-09-15T23:01:35.880Z"
   },
   {
    "duration": 11,
    "start_time": "2024-09-15T23:01:35.925Z"
   },
   {
    "duration": 143,
    "start_time": "2024-09-15T23:01:35.937Z"
   },
   {
    "duration": 128,
    "start_time": "2024-09-15T23:01:36.082Z"
   },
   {
    "duration": 18,
    "start_time": "2024-09-15T23:01:36.212Z"
   },
   {
    "duration": 207,
    "start_time": "2024-09-15T23:01:36.231Z"
   },
   {
    "duration": 7,
    "start_time": "2024-09-15T23:01:36.439Z"
   },
   {
    "duration": 12,
    "start_time": "2024-09-15T23:01:36.448Z"
   },
   {
    "duration": 240,
    "start_time": "2024-09-15T23:01:36.462Z"
   },
   {
    "duration": 221,
    "start_time": "2024-09-15T23:01:36.704Z"
   },
   {
    "duration": 17,
    "start_time": "2024-09-15T23:01:36.927Z"
   },
   {
    "duration": 244,
    "start_time": "2024-09-15T23:01:36.945Z"
   },
   {
    "duration": 236,
    "start_time": "2024-09-15T23:01:37.192Z"
   },
   {
    "duration": 808,
    "start_time": "2024-09-15T23:06:56.545Z"
   },
   {
    "duration": 24,
    "start_time": "2024-09-15T23:06:57.355Z"
   },
   {
    "duration": 21,
    "start_time": "2024-09-15T23:06:57.380Z"
   },
   {
    "duration": 23,
    "start_time": "2024-09-15T23:06:57.402Z"
   },
   {
    "duration": 4,
    "start_time": "2024-09-15T23:06:57.429Z"
   },
   {
    "duration": 6,
    "start_time": "2024-09-15T23:06:57.435Z"
   },
   {
    "duration": 5,
    "start_time": "2024-09-15T23:06:57.443Z"
   },
   {
    "duration": 8,
    "start_time": "2024-09-15T23:06:57.450Z"
   },
   {
    "duration": 6,
    "start_time": "2024-09-15T23:06:57.459Z"
   },
   {
    "duration": 4,
    "start_time": "2024-09-15T23:06:57.467Z"
   },
   {
    "duration": 8,
    "start_time": "2024-09-15T23:06:57.474Z"
   },
   {
    "duration": 54,
    "start_time": "2024-09-15T23:06:57.483Z"
   },
   {
    "duration": 12,
    "start_time": "2024-09-15T23:06:57.539Z"
   },
   {
    "duration": 3,
    "start_time": "2024-09-15T23:06:57.554Z"
   },
   {
    "duration": 11,
    "start_time": "2024-09-15T23:06:57.559Z"
   },
   {
    "duration": 154,
    "start_time": "2024-09-15T23:06:57.572Z"
   },
   {
    "duration": 132,
    "start_time": "2024-09-15T23:06:57.728Z"
   },
   {
    "duration": 9,
    "start_time": "2024-09-15T23:06:57.862Z"
   },
   {
    "duration": 218,
    "start_time": "2024-09-15T23:06:57.873Z"
   },
   {
    "duration": 7,
    "start_time": "2024-09-15T23:06:58.093Z"
   },
   {
    "duration": 24,
    "start_time": "2024-09-15T23:06:58.101Z"
   },
   {
    "duration": 234,
    "start_time": "2024-09-15T23:06:58.127Z"
   },
   {
    "duration": 214,
    "start_time": "2024-09-15T23:06:58.364Z"
   },
   {
    "duration": 17,
    "start_time": "2024-09-15T23:06:58.579Z"
   },
   {
    "duration": 229,
    "start_time": "2024-09-15T23:06:58.598Z"
   },
   {
    "duration": 227,
    "start_time": "2024-09-15T23:06:58.829Z"
   },
   {
    "duration": 377,
    "start_time": "2024-09-15T23:09:22.558Z"
   },
   {
    "duration": 380,
    "start_time": "2024-09-15T23:09:23.008Z"
   },
   {
    "duration": 381,
    "start_time": "2024-09-15T23:09:27.599Z"
   },
   {
    "duration": 485,
    "start_time": "2024-09-15T23:10:26.868Z"
   },
   {
    "duration": 377,
    "start_time": "2024-09-15T23:10:37.515Z"
   },
   {
    "duration": 394,
    "start_time": "2024-09-15T23:10:44.479Z"
   },
   {
    "duration": 461,
    "start_time": "2024-09-15T23:11:25.708Z"
   },
   {
    "duration": 455,
    "start_time": "2024-09-15T23:14:22.272Z"
   },
   {
    "duration": 399,
    "start_time": "2024-09-15T23:14:30.514Z"
   },
   {
    "duration": 402,
    "start_time": "2024-09-15T23:14:36.733Z"
   },
   {
    "duration": 405,
    "start_time": "2024-09-15T23:14:42.713Z"
   },
   {
    "duration": 431,
    "start_time": "2024-09-15T23:14:53.913Z"
   },
   {
    "duration": 415,
    "start_time": "2024-09-15T23:15:00.493Z"
   },
   {
    "duration": 411,
    "start_time": "2024-09-15T23:15:06.433Z"
   },
   {
    "duration": 418,
    "start_time": "2024-09-15T23:15:14.918Z"
   },
   {
    "duration": 449,
    "start_time": "2024-09-15T23:15:34.637Z"
   },
   {
    "duration": 160,
    "start_time": "2024-09-16T01:36:20.001Z"
   },
   {
    "duration": 15,
    "start_time": "2024-09-16T01:36:43.581Z"
   },
   {
    "duration": 2557,
    "start_time": "2024-09-16T01:36:50.933Z"
   },
   {
    "duration": 43,
    "start_time": "2024-09-16T01:36:53.493Z"
   },
   {
    "duration": 22,
    "start_time": "2024-09-16T01:36:53.537Z"
   },
   {
    "duration": 10,
    "start_time": "2024-09-16T01:36:53.561Z"
   },
   {
    "duration": 5,
    "start_time": "2024-09-16T01:36:53.574Z"
   },
   {
    "duration": 7,
    "start_time": "2024-09-16T01:36:53.580Z"
   },
   {
    "duration": 4,
    "start_time": "2024-09-16T01:36:53.589Z"
   },
   {
    "duration": 8,
    "start_time": "2024-09-16T01:36:53.595Z"
   },
   {
    "duration": 7,
    "start_time": "2024-09-16T01:36:53.604Z"
   },
   {
    "duration": 4,
    "start_time": "2024-09-16T01:36:53.643Z"
   },
   {
    "duration": 8,
    "start_time": "2024-09-16T01:36:53.649Z"
   },
   {
    "duration": 9,
    "start_time": "2024-09-16T01:36:53.659Z"
   },
   {
    "duration": 9,
    "start_time": "2024-09-16T01:36:53.670Z"
   },
   {
    "duration": 4,
    "start_time": "2024-09-16T01:36:53.683Z"
   },
   {
    "duration": 11,
    "start_time": "2024-09-16T01:36:53.688Z"
   },
   {
    "duration": 167,
    "start_time": "2024-09-16T01:36:53.701Z"
   },
   {
    "duration": 137,
    "start_time": "2024-09-16T01:36:53.869Z"
   },
   {
    "duration": 10,
    "start_time": "2024-09-16T01:36:54.008Z"
   },
   {
    "duration": 171,
    "start_time": "2024-09-16T01:36:54.020Z"
   },
   {
    "duration": 7,
    "start_time": "2024-09-16T01:36:54.193Z"
   },
   {
    "duration": 13,
    "start_time": "2024-09-16T01:36:54.201Z"
   },
   {
    "duration": 247,
    "start_time": "2024-09-16T01:36:54.216Z"
   },
   {
    "duration": 283,
    "start_time": "2024-09-16T01:36:54.466Z"
   },
   {
    "duration": 18,
    "start_time": "2024-09-16T01:36:54.751Z"
   },
   {
    "duration": 242,
    "start_time": "2024-09-16T01:36:54.770Z"
   },
   {
    "duration": 238,
    "start_time": "2024-09-16T01:36:55.014Z"
   },
   {
    "duration": 379,
    "start_time": "2024-09-16T01:36:55.254Z"
   },
   {
    "duration": 13,
    "start_time": "2024-09-16T01:36:55.635Z"
   },
   {
    "duration": 474,
    "start_time": "2024-09-16T01:39:24.741Z"
   },
   {
    "duration": 10,
    "start_time": "2024-09-16T01:50:14.408Z"
   },
   {
    "duration": 10,
    "start_time": "2024-09-16T01:58:45.249Z"
   },
   {
    "duration": 240,
    "start_time": "2024-09-16T02:08:02.949Z"
   },
   {
    "duration": 8,
    "start_time": "2024-09-16T02:08:22.069Z"
   },
   {
    "duration": 21,
    "start_time": "2024-09-16T02:14:14.610Z"
   },
   {
    "duration": 4,
    "start_time": "2024-09-16T02:14:43.787Z"
   },
   {
    "duration": 50,
    "start_time": "2024-09-16T02:14:43.793Z"
   },
   {
    "duration": 19,
    "start_time": "2024-09-16T02:14:43.845Z"
   },
   {
    "duration": 10,
    "start_time": "2024-09-16T02:14:43.866Z"
   },
   {
    "duration": 4,
    "start_time": "2024-09-16T02:14:43.878Z"
   },
   {
    "duration": 4,
    "start_time": "2024-09-16T02:14:43.885Z"
   },
   {
    "duration": 4,
    "start_time": "2024-09-16T02:14:43.891Z"
   },
   {
    "duration": 8,
    "start_time": "2024-09-16T02:14:43.896Z"
   },
   {
    "duration": 38,
    "start_time": "2024-09-16T02:14:43.905Z"
   },
   {
    "duration": 4,
    "start_time": "2024-09-16T02:14:43.945Z"
   },
   {
    "duration": 9,
    "start_time": "2024-09-16T02:14:43.951Z"
   },
   {
    "duration": 8,
    "start_time": "2024-09-16T02:14:43.962Z"
   },
   {
    "duration": 10,
    "start_time": "2024-09-16T02:14:43.971Z"
   },
   {
    "duration": 3,
    "start_time": "2024-09-16T02:14:43.985Z"
   },
   {
    "duration": 10,
    "start_time": "2024-09-16T02:14:43.990Z"
   },
   {
    "duration": 322,
    "start_time": "2024-09-16T02:14:44.002Z"
   },
   {
    "duration": 224,
    "start_time": "2024-09-16T02:14:44.326Z"
   },
   {
    "duration": 9,
    "start_time": "2024-09-16T02:14:44.552Z"
   },
   {
    "duration": 264,
    "start_time": "2024-09-16T02:14:44.564Z"
   },
   {
    "duration": 14,
    "start_time": "2024-09-16T02:14:44.830Z"
   },
   {
    "duration": 12,
    "start_time": "2024-09-16T02:14:44.846Z"
   },
   {
    "duration": 371,
    "start_time": "2024-09-16T02:14:44.860Z"
   },
   {
    "duration": 314,
    "start_time": "2024-09-16T02:14:45.233Z"
   },
   {
    "duration": 18,
    "start_time": "2024-09-16T02:14:45.549Z"
   },
   {
    "duration": 449,
    "start_time": "2024-09-16T02:14:45.569Z"
   },
   {
    "duration": 424,
    "start_time": "2024-09-16T02:14:46.020Z"
   },
   {
    "duration": 541,
    "start_time": "2024-09-16T02:14:46.446Z"
   },
   {
    "duration": 10,
    "start_time": "2024-09-16T02:14:46.989Z"
   },
   {
    "duration": 9,
    "start_time": "2024-09-16T02:14:47.000Z"
   },
   {
    "duration": 33,
    "start_time": "2024-09-16T02:14:47.010Z"
   },
   {
    "duration": 20,
    "start_time": "2024-09-16T02:14:47.044Z"
   },
   {
    "duration": 9,
    "start_time": "2024-09-16T02:15:39.539Z"
   },
   {
    "duration": 861,
    "start_time": "2024-09-16T02:17:13.669Z"
   },
   {
    "duration": 30,
    "start_time": "2024-09-16T02:17:14.532Z"
   },
   {
    "duration": 24,
    "start_time": "2024-09-16T02:17:14.565Z"
   },
   {
    "duration": 11,
    "start_time": "2024-09-16T02:17:14.591Z"
   },
   {
    "duration": 6,
    "start_time": "2024-09-16T02:17:14.605Z"
   },
   {
    "duration": 32,
    "start_time": "2024-09-16T02:17:14.612Z"
   },
   {
    "duration": 6,
    "start_time": "2024-09-16T02:17:14.646Z"
   },
   {
    "duration": 9,
    "start_time": "2024-09-16T02:17:14.654Z"
   },
   {
    "duration": 6,
    "start_time": "2024-09-16T02:17:14.665Z"
   },
   {
    "duration": 4,
    "start_time": "2024-09-16T02:17:14.673Z"
   },
   {
    "duration": 10,
    "start_time": "2024-09-16T02:17:14.679Z"
   },
   {
    "duration": 7,
    "start_time": "2024-09-16T02:17:14.692Z"
   },
   {
    "duration": 48,
    "start_time": "2024-09-16T02:17:14.701Z"
   },
   {
    "duration": 4,
    "start_time": "2024-09-16T02:17:14.752Z"
   },
   {
    "duration": 12,
    "start_time": "2024-09-16T02:17:14.758Z"
   },
   {
    "duration": 166,
    "start_time": "2024-09-16T02:17:14.772Z"
   },
   {
    "duration": 129,
    "start_time": "2024-09-16T02:17:14.940Z"
   },
   {
    "duration": 9,
    "start_time": "2024-09-16T02:17:15.071Z"
   },
   {
    "duration": 224,
    "start_time": "2024-09-16T02:17:15.082Z"
   },
   {
    "duration": 8,
    "start_time": "2024-09-16T02:17:15.308Z"
   },
   {
    "duration": 25,
    "start_time": "2024-09-16T02:17:15.319Z"
   },
   {
    "duration": 236,
    "start_time": "2024-09-16T02:17:15.346Z"
   },
   {
    "duration": 212,
    "start_time": "2024-09-16T02:17:15.584Z"
   },
   {
    "duration": 16,
    "start_time": "2024-09-16T02:17:15.798Z"
   },
   {
    "duration": 237,
    "start_time": "2024-09-16T02:17:15.816Z"
   },
   {
    "duration": 228,
    "start_time": "2024-09-16T02:17:16.055Z"
   },
   {
    "duration": 380,
    "start_time": "2024-09-16T02:17:16.284Z"
   },
   {
    "duration": 10,
    "start_time": "2024-09-16T02:17:16.665Z"
   },
   {
    "duration": 9,
    "start_time": "2024-09-16T02:17:16.676Z"
   },
   {
    "duration": 8,
    "start_time": "2024-09-16T02:17:16.687Z"
   },
   {
    "duration": 8,
    "start_time": "2024-09-16T02:17:16.696Z"
   },
   {
    "duration": 687,
    "start_time": "2024-09-16T02:21:05.123Z"
   },
   {
    "duration": 41,
    "start_time": "2024-09-16T02:21:07.751Z"
   },
   {
    "duration": 44,
    "start_time": "2024-09-16T02:21:50.619Z"
   },
   {
    "duration": 9,
    "start_time": "2024-09-16T02:22:34.239Z"
   },
   {
    "duration": 9,
    "start_time": "2024-09-16T02:23:14.419Z"
   },
   {
    "duration": 10,
    "start_time": "2024-09-16T02:23:25.779Z"
   },
   {
    "duration": 7,
    "start_time": "2024-09-16T02:27:57.221Z"
   },
   {
    "duration": 4,
    "start_time": "2024-09-16T02:28:07.080Z"
   },
   {
    "duration": 8,
    "start_time": "2024-09-16T02:28:37.239Z"
   },
   {
    "duration": 8,
    "start_time": "2024-09-16T02:29:11.894Z"
   },
   {
    "duration": 8,
    "start_time": "2024-09-16T02:29:26.121Z"
   },
   {
    "duration": 9,
    "start_time": "2024-09-16T02:29:43.379Z"
   },
   {
    "duration": 2448,
    "start_time": "2024-09-16T06:14:05.290Z"
   },
   {
    "duration": 43,
    "start_time": "2024-09-16T06:14:07.740Z"
   },
   {
    "duration": 21,
    "start_time": "2024-09-16T06:14:07.785Z"
   },
   {
    "duration": 11,
    "start_time": "2024-09-16T06:14:07.807Z"
   },
   {
    "duration": 3,
    "start_time": "2024-09-16T06:14:07.821Z"
   },
   {
    "duration": 5,
    "start_time": "2024-09-16T06:14:07.826Z"
   },
   {
    "duration": 5,
    "start_time": "2024-09-16T06:14:07.833Z"
   },
   {
    "duration": 7,
    "start_time": "2024-09-16T06:14:07.840Z"
   },
   {
    "duration": 6,
    "start_time": "2024-09-16T06:14:07.849Z"
   },
   {
    "duration": 4,
    "start_time": "2024-09-16T06:14:07.857Z"
   },
   {
    "duration": 46,
    "start_time": "2024-09-16T06:14:07.862Z"
   },
   {
    "duration": 7,
    "start_time": "2024-09-16T06:14:07.909Z"
   },
   {
    "duration": 10,
    "start_time": "2024-09-16T06:14:07.917Z"
   },
   {
    "duration": 4,
    "start_time": "2024-09-16T06:14:07.931Z"
   },
   {
    "duration": 11,
    "start_time": "2024-09-16T06:14:07.936Z"
   },
   {
    "duration": 157,
    "start_time": "2024-09-16T06:14:07.949Z"
   },
   {
    "duration": 131,
    "start_time": "2024-09-16T06:14:08.108Z"
   },
   {
    "duration": 12,
    "start_time": "2024-09-16T06:14:08.241Z"
   },
   {
    "duration": 166,
    "start_time": "2024-09-16T06:14:08.256Z"
   },
   {
    "duration": 7,
    "start_time": "2024-09-16T06:14:08.424Z"
   },
   {
    "duration": 13,
    "start_time": "2024-09-16T06:14:08.432Z"
   },
   {
    "duration": 237,
    "start_time": "2024-09-16T06:14:08.447Z"
   },
   {
    "duration": 269,
    "start_time": "2024-09-16T06:14:08.687Z"
   },
   {
    "duration": 17,
    "start_time": "2024-09-16T06:14:08.957Z"
   },
   {
    "duration": 233,
    "start_time": "2024-09-16T06:14:08.976Z"
   },
   {
    "duration": 227,
    "start_time": "2024-09-16T06:14:09.211Z"
   },
   {
    "duration": 371,
    "start_time": "2024-09-16T06:14:09.440Z"
   },
   {
    "duration": 10,
    "start_time": "2024-09-16T06:14:09.813Z"
   },
   {
    "duration": 9,
    "start_time": "2024-09-16T06:14:09.825Z"
   },
   {
    "duration": 10,
    "start_time": "2024-09-16T06:14:09.836Z"
   },
   {
    "duration": 7,
    "start_time": "2024-09-16T06:14:09.848Z"
   },
   {
    "duration": 7,
    "start_time": "2024-09-16T06:14:09.856Z"
   },
   {
    "duration": 700,
    "start_time": "2024-09-16T06:32:02.704Z"
   },
   {
    "duration": 537,
    "start_time": "2024-09-16T06:32:09.045Z"
   },
   {
    "duration": 475,
    "start_time": "2024-09-16T06:32:12.447Z"
   },
   {
    "duration": 468,
    "start_time": "2024-09-16T06:33:07.781Z"
   },
   {
    "duration": 456,
    "start_time": "2024-09-16T06:33:13.121Z"
   },
   {
    "duration": 162,
    "start_time": "2024-09-19T05:12:37.510Z"
   },
   {
    "duration": 2560,
    "start_time": "2024-09-19T05:12:44.868Z"
   },
   {
    "duration": 41,
    "start_time": "2024-09-19T05:12:47.430Z"
   },
   {
    "duration": 26,
    "start_time": "2024-09-19T05:12:47.473Z"
   },
   {
    "duration": 11,
    "start_time": "2024-09-19T05:12:47.501Z"
   },
   {
    "duration": 5,
    "start_time": "2024-09-19T05:12:47.514Z"
   },
   {
    "duration": 7,
    "start_time": "2024-09-19T05:12:47.521Z"
   },
   {
    "duration": 5,
    "start_time": "2024-09-19T05:12:47.530Z"
   },
   {
    "duration": 9,
    "start_time": "2024-09-19T05:12:47.536Z"
   },
   {
    "duration": 41,
    "start_time": "2024-09-19T05:12:47.547Z"
   },
   {
    "duration": 5,
    "start_time": "2024-09-19T05:12:47.589Z"
   },
   {
    "duration": 9,
    "start_time": "2024-09-19T05:12:47.597Z"
   },
   {
    "duration": 7,
    "start_time": "2024-09-19T05:12:47.608Z"
   },
   {
    "duration": 11,
    "start_time": "2024-09-19T05:12:47.616Z"
   },
   {
    "duration": 4,
    "start_time": "2024-09-19T05:12:47.631Z"
   },
   {
    "duration": 11,
    "start_time": "2024-09-19T05:12:47.636Z"
   },
   {
    "duration": 138,
    "start_time": "2024-09-19T05:12:47.687Z"
   },
   {
    "duration": 141,
    "start_time": "2024-09-19T05:12:47.827Z"
   },
   {
    "duration": 18,
    "start_time": "2024-09-19T05:12:47.969Z"
   },
   {
    "duration": 318,
    "start_time": "2024-09-19T05:12:47.989Z"
   },
   {
    "duration": 170,
    "start_time": "2024-09-19T05:12:48.309Z"
   },
   {
    "duration": 9,
    "start_time": "2024-09-19T05:12:48.482Z"
   },
   {
    "duration": 18,
    "start_time": "2024-09-19T05:12:48.494Z"
   },
   {
    "duration": 259,
    "start_time": "2024-09-19T05:12:48.514Z"
   },
   {
    "duration": 223,
    "start_time": "2024-09-19T05:12:48.774Z"
   },
   {
    "duration": 18,
    "start_time": "2024-09-19T05:12:48.999Z"
   },
   {
    "duration": 319,
    "start_time": "2024-09-19T05:12:49.019Z"
   },
   {
    "duration": 234,
    "start_time": "2024-09-19T05:12:49.340Z"
   },
   {
    "duration": 393,
    "start_time": "2024-09-19T05:12:49.576Z"
   },
   {
    "duration": 17,
    "start_time": "2024-09-19T05:12:49.971Z"
   },
   {
    "duration": 10,
    "start_time": "2024-09-19T05:12:49.990Z"
   },
   {
    "duration": 10,
    "start_time": "2024-09-19T05:12:50.001Z"
   },
   {
    "duration": 7,
    "start_time": "2024-09-19T05:12:50.012Z"
   },
   {
    "duration": 7,
    "start_time": "2024-09-19T05:12:50.021Z"
   },
   {
    "duration": 230,
    "start_time": "2024-09-19T05:18:47.830Z"
   },
   {
    "duration": 220,
    "start_time": "2024-09-19T05:18:58.088Z"
   },
   {
    "duration": 10,
    "start_time": "2024-09-19T05:19:25.441Z"
   },
   {
    "duration": 230,
    "start_time": "2024-09-19T05:19:38.272Z"
   },
   {
    "duration": 7,
    "start_time": "2024-09-19T05:22:03.525Z"
   },
   {
    "duration": 14,
    "start_time": "2024-09-19T05:22:18.891Z"
   },
   {
    "duration": 318,
    "start_time": "2024-09-19T05:22:34.165Z"
   },
   {
    "duration": 298,
    "start_time": "2024-09-19T05:22:44.650Z"
   },
   {
    "duration": 387,
    "start_time": "2024-09-19T05:22:50.470Z"
   },
   {
    "duration": 284,
    "start_time": "2024-09-19T05:23:12.025Z"
   },
   {
    "duration": 3,
    "start_time": "2024-09-19T05:23:45.897Z"
   },
   {
    "duration": 22,
    "start_time": "2024-09-19T05:23:45.902Z"
   },
   {
    "duration": 18,
    "start_time": "2024-09-19T05:23:45.926Z"
   },
   {
    "duration": 13,
    "start_time": "2024-09-19T05:23:45.946Z"
   },
   {
    "duration": 27,
    "start_time": "2024-09-19T05:23:45.962Z"
   },
   {
    "duration": 6,
    "start_time": "2024-09-19T05:23:45.992Z"
   },
   {
    "duration": 5,
    "start_time": "2024-09-19T05:23:45.999Z"
   },
   {
    "duration": 7,
    "start_time": "2024-09-19T05:23:46.007Z"
   },
   {
    "duration": 7,
    "start_time": "2024-09-19T05:23:46.016Z"
   },
   {
    "duration": 4,
    "start_time": "2024-09-19T05:23:46.024Z"
   },
   {
    "duration": 9,
    "start_time": "2024-09-19T05:23:46.030Z"
   },
   {
    "duration": 48,
    "start_time": "2024-09-19T05:23:46.040Z"
   },
   {
    "duration": 11,
    "start_time": "2024-09-19T05:23:46.090Z"
   },
   {
    "duration": 3,
    "start_time": "2024-09-19T05:23:46.105Z"
   },
   {
    "duration": 11,
    "start_time": "2024-09-19T05:23:46.110Z"
   },
   {
    "duration": 246,
    "start_time": "2024-09-19T05:23:46.122Z"
   },
   {
    "duration": 216,
    "start_time": "2024-09-19T05:23:46.370Z"
   },
   {
    "duration": 12,
    "start_time": "2024-09-19T05:23:46.588Z"
   },
   {
    "duration": 256,
    "start_time": "2024-09-19T05:23:46.602Z"
   },
   {
    "duration": 6,
    "start_time": "2024-09-19T05:23:46.860Z"
   },
   {
    "duration": 25,
    "start_time": "2024-09-19T05:23:46.868Z"
   },
   {
    "duration": 328,
    "start_time": "2024-09-19T05:23:46.895Z"
   },
   {
    "duration": 312,
    "start_time": "2024-09-19T05:23:47.224Z"
   },
   {
    "duration": 17,
    "start_time": "2024-09-19T05:23:47.537Z"
   },
   {
    "duration": 517,
    "start_time": "2024-09-19T05:23:47.556Z"
   },
   {
    "duration": 432,
    "start_time": "2024-09-19T05:23:48.075Z"
   },
   {
    "duration": 495,
    "start_time": "2024-09-19T05:23:48.509Z"
   },
   {
    "duration": 10,
    "start_time": "2024-09-19T05:23:49.007Z"
   },
   {
    "duration": 10,
    "start_time": "2024-09-19T05:23:49.018Z"
   },
   {
    "duration": 9,
    "start_time": "2024-09-19T05:23:49.030Z"
   },
   {
    "duration": 7,
    "start_time": "2024-09-19T05:23:49.041Z"
   },
   {
    "duration": 36,
    "start_time": "2024-09-19T05:23:49.050Z"
   },
   {
    "duration": 834,
    "start_time": "2024-09-19T05:25:42.244Z"
   },
   {
    "duration": 24,
    "start_time": "2024-09-19T05:25:43.080Z"
   },
   {
    "duration": 24,
    "start_time": "2024-09-19T05:25:43.106Z"
   },
   {
    "duration": 12,
    "start_time": "2024-09-19T05:25:43.132Z"
   },
   {
    "duration": 6,
    "start_time": "2024-09-19T05:25:43.147Z"
   },
   {
    "duration": 33,
    "start_time": "2024-09-19T05:25:43.156Z"
   },
   {
    "duration": 5,
    "start_time": "2024-09-19T05:25:43.191Z"
   },
   {
    "duration": 10,
    "start_time": "2024-09-19T05:25:43.198Z"
   },
   {
    "duration": 6,
    "start_time": "2024-09-19T05:25:43.210Z"
   },
   {
    "duration": 4,
    "start_time": "2024-09-19T05:25:43.218Z"
   },
   {
    "duration": 9,
    "start_time": "2024-09-19T05:25:43.224Z"
   },
   {
    "duration": 8,
    "start_time": "2024-09-19T05:25:43.235Z"
   },
   {
    "duration": 54,
    "start_time": "2024-09-19T05:25:43.244Z"
   },
   {
    "duration": 4,
    "start_time": "2024-09-19T05:25:43.303Z"
   },
   {
    "duration": 11,
    "start_time": "2024-09-19T05:25:43.309Z"
   },
   {
    "duration": 153,
    "start_time": "2024-09-19T05:25:43.321Z"
   },
   {
    "duration": 130,
    "start_time": "2024-09-19T05:25:43.475Z"
   },
   {
    "duration": 11,
    "start_time": "2024-09-19T05:25:43.607Z"
   },
   {
    "duration": 219,
    "start_time": "2024-09-19T05:25:43.620Z"
   },
   {
    "duration": 6,
    "start_time": "2024-09-19T05:25:43.841Z"
   },
   {
    "duration": 12,
    "start_time": "2024-09-19T05:25:43.850Z"
   },
   {
    "duration": 216,
    "start_time": "2024-09-19T05:25:43.864Z"
   },
   {
    "duration": 200,
    "start_time": "2024-09-19T05:25:44.086Z"
   },
   {
    "duration": 17,
    "start_time": "2024-09-19T05:25:44.289Z"
   },
   {
    "duration": 236,
    "start_time": "2024-09-19T05:25:44.308Z"
   },
   {
    "duration": 241,
    "start_time": "2024-09-19T05:25:44.547Z"
   },
   {
    "duration": 399,
    "start_time": "2024-09-19T05:25:44.790Z"
   },
   {
    "duration": 11,
    "start_time": "2024-09-19T05:25:45.191Z"
   },
   {
    "duration": 9,
    "start_time": "2024-09-19T05:25:45.203Z"
   },
   {
    "duration": 10,
    "start_time": "2024-09-19T05:25:45.214Z"
   },
   {
    "duration": 8,
    "start_time": "2024-09-19T05:25:45.226Z"
   },
   {
    "duration": 8,
    "start_time": "2024-09-19T05:25:45.236Z"
   },
   {
    "duration": 18,
    "start_time": "2024-09-19T05:33:02.708Z"
   },
   {
    "duration": 513,
    "start_time": "2024-09-19T05:33:12.646Z"
   },
   {
    "duration": 202,
    "start_time": "2024-09-19T05:33:36.625Z"
   },
   {
    "duration": 221,
    "start_time": "2024-09-19T05:34:13.366Z"
   },
   {
    "duration": 198,
    "start_time": "2024-09-19T05:34:29.765Z"
   },
   {
    "duration": 207,
    "start_time": "2024-09-19T05:35:48.384Z"
   },
   {
    "duration": 204,
    "start_time": "2024-09-19T05:37:10.584Z"
   },
   {
    "duration": 120,
    "start_time": "2024-09-19T05:37:14.645Z"
   },
   {
    "duration": 3,
    "start_time": "2024-09-19T05:37:17.550Z"
   },
   {
    "duration": 21,
    "start_time": "2024-09-19T05:37:17.564Z"
   },
   {
    "duration": 18,
    "start_time": "2024-09-19T05:37:17.587Z"
   },
   {
    "duration": 10,
    "start_time": "2024-09-19T05:37:17.607Z"
   },
   {
    "duration": 5,
    "start_time": "2024-09-19T05:37:17.619Z"
   },
   {
    "duration": 6,
    "start_time": "2024-09-19T05:37:17.628Z"
   },
   {
    "duration": 4,
    "start_time": "2024-09-19T05:37:17.635Z"
   },
   {
    "duration": 8,
    "start_time": "2024-09-19T05:37:17.642Z"
   },
   {
    "duration": 8,
    "start_time": "2024-09-19T05:37:17.688Z"
   },
   {
    "duration": 4,
    "start_time": "2024-09-19T05:37:17.698Z"
   },
   {
    "duration": 9,
    "start_time": "2024-09-19T05:37:17.704Z"
   },
   {
    "duration": 7,
    "start_time": "2024-09-19T05:37:17.714Z"
   },
   {
    "duration": 10,
    "start_time": "2024-09-19T05:37:17.723Z"
   },
   {
    "duration": 4,
    "start_time": "2024-09-19T05:37:17.734Z"
   },
   {
    "duration": 46,
    "start_time": "2024-09-19T05:37:17.742Z"
   },
   {
    "duration": 157,
    "start_time": "2024-09-19T05:37:17.791Z"
   },
   {
    "duration": 138,
    "start_time": "2024-09-19T05:37:17.950Z"
   },
   {
    "duration": 9,
    "start_time": "2024-09-19T05:37:18.090Z"
   },
   {
    "duration": 178,
    "start_time": "2024-09-19T05:37:18.101Z"
   },
   {
    "duration": 11,
    "start_time": "2024-09-19T05:37:18.281Z"
   },
   {
    "duration": 13,
    "start_time": "2024-09-19T05:37:18.293Z"
   },
   {
    "duration": 222,
    "start_time": "2024-09-19T05:37:18.307Z"
   },
   {
    "duration": 286,
    "start_time": "2024-09-19T05:37:18.531Z"
   },
   {
    "duration": 17,
    "start_time": "2024-09-19T05:37:18.819Z"
   },
   {
    "duration": 135,
    "start_time": "2024-09-19T05:37:18.838Z"
   },
   {
    "duration": 131,
    "start_time": "2024-09-19T05:37:18.975Z"
   },
   {
    "duration": 403,
    "start_time": "2024-09-19T05:37:19.108Z"
   },
   {
    "duration": 10,
    "start_time": "2024-09-19T05:37:19.513Z"
   },
   {
    "duration": 9,
    "start_time": "2024-09-19T05:37:19.524Z"
   },
   {
    "duration": 9,
    "start_time": "2024-09-19T05:37:19.535Z"
   },
   {
    "duration": 9,
    "start_time": "2024-09-19T05:37:19.545Z"
   },
   {
    "duration": 37,
    "start_time": "2024-09-19T05:37:19.556Z"
   },
   {
    "duration": 127,
    "start_time": "2024-09-19T05:37:33.384Z"
   },
   {
    "duration": 100,
    "start_time": "2024-09-19T05:38:16.686Z"
   },
   {
    "duration": 87,
    "start_time": "2024-09-19T05:38:28.554Z"
   },
   {
    "duration": 89,
    "start_time": "2024-09-19T05:38:38.065Z"
   },
   {
    "duration": 70,
    "start_time": "2024-09-19T05:38:49.445Z"
   },
   {
    "duration": 74,
    "start_time": "2024-09-19T05:38:59.544Z"
   },
   {
    "duration": 109,
    "start_time": "2024-09-19T05:39:21.324Z"
   },
   {
    "duration": 105,
    "start_time": "2024-09-19T05:39:32.349Z"
   },
   {
    "duration": 398,
    "start_time": "2024-09-19T05:40:46.729Z"
   },
   {
    "duration": 411,
    "start_time": "2024-09-19T05:41:04.362Z"
   },
   {
    "duration": 10,
    "start_time": "2024-09-19T05:42:12.179Z"
   },
   {
    "duration": 10,
    "start_time": "2024-09-19T05:43:44.609Z"
   },
   {
    "duration": 9,
    "start_time": "2024-09-19T05:44:20.744Z"
   },
   {
    "duration": 880,
    "start_time": "2024-09-19T05:45:12.888Z"
   },
   {
    "duration": 29,
    "start_time": "2024-09-19T05:45:13.770Z"
   },
   {
    "duration": 23,
    "start_time": "2024-09-19T05:45:13.801Z"
   },
   {
    "duration": 11,
    "start_time": "2024-09-19T05:45:13.827Z"
   },
   {
    "duration": 5,
    "start_time": "2024-09-19T05:45:13.839Z"
   },
   {
    "duration": 7,
    "start_time": "2024-09-19T05:45:13.845Z"
   },
   {
    "duration": 32,
    "start_time": "2024-09-19T05:45:13.854Z"
   },
   {
    "duration": 9,
    "start_time": "2024-09-19T05:45:13.888Z"
   },
   {
    "duration": 7,
    "start_time": "2024-09-19T05:45:13.899Z"
   },
   {
    "duration": 5,
    "start_time": "2024-09-19T05:45:13.909Z"
   },
   {
    "duration": 9,
    "start_time": "2024-09-19T05:45:13.915Z"
   },
   {
    "duration": 7,
    "start_time": "2024-09-19T05:45:13.926Z"
   },
   {
    "duration": 10,
    "start_time": "2024-09-19T05:45:13.935Z"
   },
   {
    "duration": 41,
    "start_time": "2024-09-19T05:45:13.947Z"
   },
   {
    "duration": 11,
    "start_time": "2024-09-19T05:45:13.990Z"
   },
   {
    "duration": 150,
    "start_time": "2024-09-19T05:45:14.003Z"
   },
   {
    "duration": 122,
    "start_time": "2024-09-19T05:45:14.155Z"
   },
   {
    "duration": 14,
    "start_time": "2024-09-19T05:45:14.279Z"
   },
   {
    "duration": 222,
    "start_time": "2024-09-19T05:45:14.295Z"
   },
   {
    "duration": 7,
    "start_time": "2024-09-19T05:45:14.519Z"
   },
   {
    "duration": 13,
    "start_time": "2024-09-19T05:45:14.528Z"
   },
   {
    "duration": 215,
    "start_time": "2024-09-19T05:45:14.542Z"
   },
   {
    "duration": 206,
    "start_time": "2024-09-19T05:45:14.759Z"
   },
   {
    "duration": 26,
    "start_time": "2024-09-19T05:45:14.967Z"
   },
   {
    "duration": 127,
    "start_time": "2024-09-19T05:45:14.995Z"
   },
   {
    "duration": 120,
    "start_time": "2024-09-19T05:45:15.124Z"
   },
   {
    "duration": 443,
    "start_time": "2024-09-19T05:45:15.246Z"
   },
   {
    "duration": 9,
    "start_time": "2024-09-19T05:45:15.693Z"
   },
   {
    "duration": 9,
    "start_time": "2024-09-19T05:45:15.704Z"
   },
   {
    "duration": 9,
    "start_time": "2024-09-19T05:45:15.715Z"
   },
   {
    "duration": 8,
    "start_time": "2024-09-19T05:45:15.725Z"
   },
   {
    "duration": 9,
    "start_time": "2024-09-19T05:45:15.735Z"
   },
   {
    "duration": 332,
    "start_time": "2024-09-19T05:48:23.751Z"
   },
   {
    "duration": 300,
    "start_time": "2024-09-19T05:55:44.648Z"
   },
   {
    "duration": 97,
    "start_time": "2024-09-19T05:56:03.495Z"
   },
   {
    "duration": 13,
    "start_time": "2024-09-19T05:56:25.924Z"
   },
   {
    "duration": 108,
    "start_time": "2024-09-19T05:57:26.450Z"
   },
   {
    "duration": 106,
    "start_time": "2024-09-19T05:57:38.619Z"
   },
   {
    "duration": 244,
    "start_time": "2024-09-19T06:00:52.609Z"
   },
   {
    "duration": 106,
    "start_time": "2024-09-19T06:02:21.029Z"
   },
   {
    "duration": 15,
    "start_time": "2024-09-19T06:02:40.028Z"
   },
   {
    "duration": 100,
    "start_time": "2024-09-19T06:03:26.329Z"
   },
   {
    "duration": 154,
    "start_time": "2024-09-19T06:07:45.606Z"
   },
   {
    "duration": 5,
    "start_time": "2024-09-19T06:08:36.308Z"
   },
   {
    "duration": 13,
    "start_time": "2024-09-19T06:08:48.730Z"
   },
   {
    "duration": 88,
    "start_time": "2024-09-19T06:09:36.429Z"
   },
   {
    "duration": 15,
    "start_time": "2024-09-19T06:09:51.574Z"
   },
   {
    "duration": 88,
    "start_time": "2024-09-19T06:09:55.345Z"
   },
   {
    "duration": 91,
    "start_time": "2024-09-19T06:10:13.494Z"
   },
   {
    "duration": 96,
    "start_time": "2024-09-19T06:10:23.467Z"
   },
   {
    "duration": 112,
    "start_time": "2024-09-19T06:11:57.805Z"
   },
   {
    "duration": 559,
    "start_time": "2024-09-19T06:12:52.060Z"
   },
   {
    "duration": 5,
    "start_time": "2024-09-19T06:18:24.636Z"
   },
   {
    "duration": 5,
    "start_time": "2024-09-19T06:20:30.770Z"
   },
   {
    "duration": 4,
    "start_time": "2024-09-19T06:20:35.650Z"
   },
   {
    "duration": 4,
    "start_time": "2024-09-19T06:20:41.030Z"
   },
   {
    "duration": 4,
    "start_time": "2024-09-19T06:20:56.231Z"
   },
   {
    "duration": 4,
    "start_time": "2024-09-19T06:21:24.510Z"
   },
   {
    "duration": 4,
    "start_time": "2024-09-19T06:21:34.070Z"
   },
   {
    "duration": 4,
    "start_time": "2024-09-19T06:21:39.030Z"
   },
   {
    "duration": 14,
    "start_time": "2024-09-19T06:21:58.892Z"
   },
   {
    "duration": 5,
    "start_time": "2024-09-19T06:22:12.530Z"
   },
   {
    "duration": 3,
    "start_time": "2024-09-19T06:23:00.451Z"
   },
   {
    "duration": 15,
    "start_time": "2024-09-19T06:25:34.490Z"
   },
   {
    "duration": 2,
    "start_time": "2024-09-19T06:27:45.470Z"
   },
   {
    "duration": 4,
    "start_time": "2024-09-19T06:27:52.868Z"
   },
   {
    "duration": 13,
    "start_time": "2024-09-19T06:28:23.315Z"
   },
   {
    "duration": 14,
    "start_time": "2024-09-19T06:28:57.010Z"
   },
   {
    "duration": 14,
    "start_time": "2024-09-19T06:29:58.570Z"
   },
   {
    "duration": 14,
    "start_time": "2024-09-19T06:31:20.550Z"
   },
   {
    "duration": 3,
    "start_time": "2024-09-19T06:31:29.406Z"
   },
   {
    "duration": 23,
    "start_time": "2024-09-19T06:31:29.412Z"
   },
   {
    "duration": 19,
    "start_time": "2024-09-19T06:31:29.437Z"
   },
   {
    "duration": 11,
    "start_time": "2024-09-19T06:31:29.458Z"
   },
   {
    "duration": 16,
    "start_time": "2024-09-19T06:31:29.471Z"
   },
   {
    "duration": 5,
    "start_time": "2024-09-19T06:31:29.489Z"
   },
   {
    "duration": 5,
    "start_time": "2024-09-19T06:31:29.496Z"
   },
   {
    "duration": 7,
    "start_time": "2024-09-19T06:31:29.504Z"
   },
   {
    "duration": 6,
    "start_time": "2024-09-19T06:31:29.512Z"
   },
   {
    "duration": 4,
    "start_time": "2024-09-19T06:31:29.520Z"
   },
   {
    "duration": 8,
    "start_time": "2024-09-19T06:31:29.526Z"
   },
   {
    "duration": 8,
    "start_time": "2024-09-19T06:31:29.536Z"
   },
   {
    "duration": 51,
    "start_time": "2024-09-19T06:31:29.545Z"
   },
   {
    "duration": 3,
    "start_time": "2024-09-19T06:31:29.600Z"
   },
   {
    "duration": 10,
    "start_time": "2024-09-19T06:31:29.605Z"
   },
   {
    "duration": 149,
    "start_time": "2024-09-19T06:31:29.617Z"
   },
   {
    "duration": 120,
    "start_time": "2024-09-19T06:31:29.768Z"
   },
   {
    "duration": 9,
    "start_time": "2024-09-19T06:31:29.890Z"
   },
   {
    "duration": 571,
    "start_time": "2024-09-19T06:31:29.900Z"
   },
   {
    "duration": 0,
    "start_time": "2024-09-19T06:31:30.472Z"
   },
   {
    "duration": 0,
    "start_time": "2024-09-19T06:31:30.474Z"
   },
   {
    "duration": 0,
    "start_time": "2024-09-19T06:31:30.476Z"
   },
   {
    "duration": 0,
    "start_time": "2024-09-19T06:31:30.477Z"
   },
   {
    "duration": 0,
    "start_time": "2024-09-19T06:31:30.487Z"
   },
   {
    "duration": 0,
    "start_time": "2024-09-19T06:31:30.488Z"
   },
   {
    "duration": 0,
    "start_time": "2024-09-19T06:31:30.489Z"
   },
   {
    "duration": 0,
    "start_time": "2024-09-19T06:31:30.490Z"
   },
   {
    "duration": 0,
    "start_time": "2024-09-19T06:31:30.491Z"
   },
   {
    "duration": 0,
    "start_time": "2024-09-19T06:31:30.492Z"
   },
   {
    "duration": 0,
    "start_time": "2024-09-19T06:31:30.493Z"
   },
   {
    "duration": 0,
    "start_time": "2024-09-19T06:31:30.494Z"
   },
   {
    "duration": 0,
    "start_time": "2024-09-19T06:31:30.496Z"
   },
   {
    "duration": 0,
    "start_time": "2024-09-19T06:31:30.497Z"
   },
   {
    "duration": 822,
    "start_time": "2024-09-19T06:32:15.252Z"
   },
   {
    "duration": 28,
    "start_time": "2024-09-19T06:32:16.076Z"
   },
   {
    "duration": 21,
    "start_time": "2024-09-19T06:32:16.107Z"
   },
   {
    "duration": 11,
    "start_time": "2024-09-19T06:32:16.129Z"
   },
   {
    "duration": 4,
    "start_time": "2024-09-19T06:32:16.143Z"
   },
   {
    "duration": 6,
    "start_time": "2024-09-19T06:32:16.149Z"
   },
   {
    "duration": 31,
    "start_time": "2024-09-19T06:32:16.156Z"
   },
   {
    "duration": 9,
    "start_time": "2024-09-19T06:32:16.189Z"
   },
   {
    "duration": 8,
    "start_time": "2024-09-19T06:32:16.199Z"
   },
   {
    "duration": 5,
    "start_time": "2024-09-19T06:32:16.208Z"
   },
   {
    "duration": 8,
    "start_time": "2024-09-19T06:32:16.215Z"
   },
   {
    "duration": 6,
    "start_time": "2024-09-19T06:32:16.225Z"
   },
   {
    "duration": 10,
    "start_time": "2024-09-19T06:32:16.233Z"
   },
   {
    "duration": 43,
    "start_time": "2024-09-19T06:32:16.246Z"
   },
   {
    "duration": 12,
    "start_time": "2024-09-19T06:32:16.290Z"
   },
   {
    "duration": 145,
    "start_time": "2024-09-19T06:32:16.303Z"
   },
   {
    "duration": 120,
    "start_time": "2024-09-19T06:32:16.449Z"
   },
   {
    "duration": 18,
    "start_time": "2024-09-19T06:32:16.570Z"
   },
   {
    "duration": 210,
    "start_time": "2024-09-19T06:32:16.590Z"
   },
   {
    "duration": 7,
    "start_time": "2024-09-19T06:32:16.802Z"
   },
   {
    "duration": 12,
    "start_time": "2024-09-19T06:32:16.810Z"
   },
   {
    "duration": 215,
    "start_time": "2024-09-19T06:32:16.824Z"
   },
   {
    "duration": 195,
    "start_time": "2024-09-19T06:32:17.040Z"
   },
   {
    "duration": 17,
    "start_time": "2024-09-19T06:32:17.237Z"
   },
   {
    "duration": 122,
    "start_time": "2024-09-19T06:32:17.256Z"
   },
   {
    "duration": 116,
    "start_time": "2024-09-19T06:32:17.379Z"
   },
   {
    "duration": 370,
    "start_time": "2024-09-19T06:32:17.497Z"
   },
   {
    "duration": 9,
    "start_time": "2024-09-19T06:32:17.870Z"
   },
   {
    "duration": 303,
    "start_time": "2024-09-19T06:32:17.886Z"
   },
   {
    "duration": 0,
    "start_time": "2024-09-19T06:32:18.190Z"
   },
   {
    "duration": 0,
    "start_time": "2024-09-19T06:32:18.192Z"
   },
   {
    "duration": 0,
    "start_time": "2024-09-19T06:32:18.194Z"
   },
   {
    "duration": 0,
    "start_time": "2024-09-19T06:32:18.195Z"
   },
   {
    "duration": 6,
    "start_time": "2024-09-19T06:32:48.450Z"
   },
   {
    "duration": 5,
    "start_time": "2024-09-19T06:34:28.129Z"
   },
   {
    "duration": 368,
    "start_time": "2024-09-19T06:34:32.209Z"
   },
   {
    "duration": 5,
    "start_time": "2024-09-19T06:35:26.372Z"
   },
   {
    "duration": 4,
    "start_time": "2024-09-19T06:37:15.224Z"
   },
   {
    "duration": 237,
    "start_time": "2024-09-19T06:37:47.309Z"
   },
   {
    "duration": 154,
    "start_time": "2024-09-19T06:37:52.189Z"
   },
   {
    "duration": 18,
    "start_time": "2024-09-19T06:40:32.588Z"
   },
   {
    "duration": 17,
    "start_time": "2024-09-19T06:40:42.410Z"
   },
   {
    "duration": 17,
    "start_time": "2024-09-19T06:40:57.669Z"
   },
   {
    "duration": 17,
    "start_time": "2024-09-19T06:43:15.768Z"
   },
   {
    "duration": 117,
    "start_time": "2024-09-19T06:43:32.090Z"
   },
   {
    "duration": 170,
    "start_time": "2024-09-19T06:44:21.689Z"
   },
   {
    "duration": 129,
    "start_time": "2024-09-19T06:44:30.574Z"
   },
   {
    "duration": 861,
    "start_time": "2024-09-19T06:45:30.413Z"
   },
   {
    "duration": 29,
    "start_time": "2024-09-19T06:45:31.276Z"
   },
   {
    "duration": 21,
    "start_time": "2024-09-19T06:45:31.307Z"
   },
   {
    "duration": 11,
    "start_time": "2024-09-19T06:45:31.329Z"
   },
   {
    "duration": 6,
    "start_time": "2024-09-19T06:45:31.343Z"
   },
   {
    "duration": 8,
    "start_time": "2024-09-19T06:45:31.350Z"
   },
   {
    "duration": 31,
    "start_time": "2024-09-19T06:45:31.359Z"
   },
   {
    "duration": 9,
    "start_time": "2024-09-19T06:45:31.392Z"
   },
   {
    "duration": 7,
    "start_time": "2024-09-19T06:45:31.402Z"
   },
   {
    "duration": 3,
    "start_time": "2024-09-19T06:45:31.411Z"
   },
   {
    "duration": 9,
    "start_time": "2024-09-19T06:45:31.416Z"
   },
   {
    "duration": 7,
    "start_time": "2024-09-19T06:45:31.426Z"
   },
   {
    "duration": 16,
    "start_time": "2024-09-19T06:45:31.434Z"
   },
   {
    "duration": 4,
    "start_time": "2024-09-19T06:45:31.490Z"
   },
   {
    "duration": 11,
    "start_time": "2024-09-19T06:45:31.496Z"
   },
   {
    "duration": 147,
    "start_time": "2024-09-19T06:45:31.508Z"
   },
   {
    "duration": 121,
    "start_time": "2024-09-19T06:45:31.657Z"
   },
   {
    "duration": 14,
    "start_time": "2024-09-19T06:45:31.779Z"
   },
   {
    "duration": 206,
    "start_time": "2024-09-19T06:45:31.795Z"
   },
   {
    "duration": 6,
    "start_time": "2024-09-19T06:45:32.003Z"
   },
   {
    "duration": 12,
    "start_time": "2024-09-19T06:45:32.011Z"
   },
   {
    "duration": 210,
    "start_time": "2024-09-19T06:45:32.025Z"
   },
   {
    "duration": 198,
    "start_time": "2024-09-19T06:45:32.236Z"
   },
   {
    "duration": 18,
    "start_time": "2024-09-19T06:45:32.436Z"
   },
   {
    "duration": 124,
    "start_time": "2024-09-19T06:45:32.456Z"
   },
   {
    "duration": 112,
    "start_time": "2024-09-19T06:45:32.586Z"
   },
   {
    "duration": 340,
    "start_time": "2024-09-19T06:45:32.700Z"
   },
   {
    "duration": 9,
    "start_time": "2024-09-19T06:45:33.042Z"
   },
   {
    "duration": 169,
    "start_time": "2024-09-19T06:45:33.052Z"
   },
   {
    "duration": 10,
    "start_time": "2024-09-19T06:45:33.223Z"
   },
   {
    "duration": 9,
    "start_time": "2024-09-19T06:45:33.234Z"
   },
   {
    "duration": 8,
    "start_time": "2024-09-19T06:45:33.244Z"
   },
   {
    "duration": 34,
    "start_time": "2024-09-19T06:45:33.253Z"
   },
   {
    "duration": 140,
    "start_time": "2024-09-19T06:46:43.342Z"
   },
   {
    "duration": 137,
    "start_time": "2024-09-19T06:47:40.492Z"
   },
   {
    "duration": 225,
    "start_time": "2024-09-19T06:48:06.312Z"
   },
   {
    "duration": 146,
    "start_time": "2024-09-19T06:49:43.393Z"
   },
   {
    "duration": 618,
    "start_time": "2024-09-19T06:55:46.345Z"
   },
   {
    "duration": 5,
    "start_time": "2024-09-19T06:56:03.744Z"
   },
   {
    "duration": 17,
    "start_time": "2024-09-19T06:58:11.325Z"
   },
   {
    "duration": 832,
    "start_time": "2024-09-19T06:58:57.215Z"
   },
   {
    "duration": 25,
    "start_time": "2024-09-19T06:58:58.049Z"
   },
   {
    "duration": 26,
    "start_time": "2024-09-19T06:58:58.076Z"
   },
   {
    "duration": 13,
    "start_time": "2024-09-19T06:58:58.103Z"
   },
   {
    "duration": 5,
    "start_time": "2024-09-19T06:58:58.119Z"
   },
   {
    "duration": 11,
    "start_time": "2024-09-19T06:58:58.126Z"
   },
   {
    "duration": 6,
    "start_time": "2024-09-19T06:58:58.139Z"
   },
   {
    "duration": 8,
    "start_time": "2024-09-19T06:58:58.147Z"
   },
   {
    "duration": 36,
    "start_time": "2024-09-19T06:58:58.156Z"
   },
   {
    "duration": 4,
    "start_time": "2024-09-19T06:58:58.193Z"
   },
   {
    "duration": 8,
    "start_time": "2024-09-19T06:58:58.199Z"
   },
   {
    "duration": 7,
    "start_time": "2024-09-19T06:58:58.209Z"
   },
   {
    "duration": 9,
    "start_time": "2024-09-19T06:58:58.218Z"
   },
   {
    "duration": 3,
    "start_time": "2024-09-19T06:58:58.231Z"
   },
   {
    "duration": 10,
    "start_time": "2024-09-19T06:58:58.236Z"
   },
   {
    "duration": 173,
    "start_time": "2024-09-19T06:58:58.248Z"
   },
   {
    "duration": 120,
    "start_time": "2024-09-19T06:58:58.423Z"
   },
   {
    "duration": 10,
    "start_time": "2024-09-19T06:58:58.545Z"
   },
   {
    "duration": 3,
    "start_time": "2024-09-19T06:59:47.250Z"
   },
   {
    "duration": 23,
    "start_time": "2024-09-19T06:59:47.255Z"
   },
   {
    "duration": 18,
    "start_time": "2024-09-19T06:59:47.280Z"
   },
   {
    "duration": 10,
    "start_time": "2024-09-19T06:59:47.300Z"
   },
   {
    "duration": 4,
    "start_time": "2024-09-19T06:59:47.313Z"
   },
   {
    "duration": 5,
    "start_time": "2024-09-19T06:59:47.319Z"
   },
   {
    "duration": 4,
    "start_time": "2024-09-19T06:59:47.326Z"
   },
   {
    "duration": 7,
    "start_time": "2024-09-19T06:59:47.332Z"
   },
   {
    "duration": 6,
    "start_time": "2024-09-19T06:59:47.341Z"
   },
   {
    "duration": 39,
    "start_time": "2024-09-19T06:59:47.349Z"
   },
   {
    "duration": 9,
    "start_time": "2024-09-19T06:59:47.390Z"
   },
   {
    "duration": 8,
    "start_time": "2024-09-19T06:59:47.401Z"
   },
   {
    "duration": 10,
    "start_time": "2024-09-19T06:59:47.412Z"
   },
   {
    "duration": 4,
    "start_time": "2024-09-19T06:59:47.424Z"
   },
   {
    "duration": 11,
    "start_time": "2024-09-19T06:59:47.430Z"
   },
   {
    "duration": 176,
    "start_time": "2024-09-19T06:59:47.443Z"
   },
   {
    "duration": 191,
    "start_time": "2024-09-19T06:59:47.621Z"
   },
   {
    "duration": 9,
    "start_time": "2024-09-19T06:59:47.814Z"
   },
   {
    "duration": 15005,
    "start_time": "2024-09-19T06:59:47.826Z"
   },
   {
    "duration": 255,
    "start_time": "2024-09-19T07:00:02.833Z"
   },
   {
    "duration": 6,
    "start_time": "2024-09-19T07:00:03.090Z"
   },
   {
    "duration": 15,
    "start_time": "2024-09-19T07:00:03.098Z"
   },
   {
    "duration": 231,
    "start_time": "2024-09-19T07:00:03.115Z"
   },
   {
    "duration": 202,
    "start_time": "2024-09-19T07:00:03.348Z"
   },
   {
    "duration": 18,
    "start_time": "2024-09-19T07:00:03.552Z"
   },
   {
    "duration": 116,
    "start_time": "2024-09-19T07:00:03.572Z"
   },
   {
    "duration": 118,
    "start_time": "2024-09-19T07:00:03.691Z"
   },
   {
    "duration": 350,
    "start_time": "2024-09-19T07:00:03.811Z"
   },
   {
    "duration": 10,
    "start_time": "2024-09-19T07:00:04.162Z"
   },
   {
    "duration": 151,
    "start_time": "2024-09-19T07:00:04.173Z"
   },
   {
    "duration": 10,
    "start_time": "2024-09-19T07:00:04.326Z"
   },
   {
    "duration": 154,
    "start_time": "2024-09-19T07:00:04.337Z"
   },
   {
    "duration": 8,
    "start_time": "2024-09-19T07:00:04.494Z"
   },
   {
    "duration": 147,
    "start_time": "2024-09-19T07:00:04.503Z"
   },
   {
    "duration": 10,
    "start_time": "2024-09-19T07:00:04.651Z"
   },
   {
    "duration": 8,
    "start_time": "2024-09-19T07:00:04.663Z"
   },
   {
    "duration": 175,
    "start_time": "2024-09-19T07:00:33.049Z"
   },
   {
    "duration": 107,
    "start_time": "2024-09-19T07:00:46.049Z"
   },
   {
    "duration": 98,
    "start_time": "2024-09-19T07:00:52.492Z"
   },
   {
    "duration": 99,
    "start_time": "2024-09-19T07:02:18.989Z"
   },
   {
    "duration": 93,
    "start_time": "2024-09-19T07:03:16.135Z"
   },
   {
    "duration": 97,
    "start_time": "2024-09-19T07:16:46.136Z"
   },
   {
    "duration": 101,
    "start_time": "2024-09-19T07:17:26.292Z"
   },
   {
    "duration": 114,
    "start_time": "2024-09-19T07:19:34.199Z"
   },
   {
    "duration": 103,
    "start_time": "2024-09-19T07:19:41.433Z"
   },
   {
    "duration": 112,
    "start_time": "2024-09-19T07:20:17.990Z"
   },
   {
    "duration": 102,
    "start_time": "2024-09-19T07:20:26.836Z"
   },
   {
    "duration": 96,
    "start_time": "2024-09-19T07:22:26.931Z"
   },
   {
    "duration": 822,
    "start_time": "2024-09-19T07:27:09.850Z"
   },
   {
    "duration": 29,
    "start_time": "2024-09-19T07:27:10.674Z"
   },
   {
    "duration": 23,
    "start_time": "2024-09-19T07:27:10.704Z"
   },
   {
    "duration": 14,
    "start_time": "2024-09-19T07:27:10.730Z"
   },
   {
    "duration": 5,
    "start_time": "2024-09-19T07:27:10.746Z"
   },
   {
    "duration": 7,
    "start_time": "2024-09-19T07:27:10.752Z"
   },
   {
    "duration": 29,
    "start_time": "2024-09-19T07:27:10.760Z"
   },
   {
    "duration": 8,
    "start_time": "2024-09-19T07:27:10.791Z"
   },
   {
    "duration": 6,
    "start_time": "2024-09-19T07:27:10.801Z"
   },
   {
    "duration": 4,
    "start_time": "2024-09-19T07:27:10.810Z"
   },
   {
    "duration": 8,
    "start_time": "2024-09-19T07:27:10.816Z"
   },
   {
    "duration": 7,
    "start_time": "2024-09-19T07:27:10.825Z"
   },
   {
    "duration": 9,
    "start_time": "2024-09-19T07:27:10.834Z"
   },
   {
    "duration": 5,
    "start_time": "2024-09-19T07:27:10.887Z"
   },
   {
    "duration": 11,
    "start_time": "2024-09-19T07:27:10.893Z"
   },
   {
    "duration": 148,
    "start_time": "2024-09-19T07:27:10.906Z"
   },
   {
    "duration": 121,
    "start_time": "2024-09-19T07:27:11.056Z"
   },
   {
    "duration": 14,
    "start_time": "2024-09-19T07:27:11.180Z"
   },
   {
    "duration": 163,
    "start_time": "2024-09-19T07:27:11.196Z"
   },
   {
    "duration": 106,
    "start_time": "2024-09-19T07:27:11.360Z"
   },
   {
    "duration": 101,
    "start_time": "2024-09-19T07:27:11.468Z"
   },
   {
    "duration": 106,
    "start_time": "2024-09-19T07:27:11.572Z"
   },
   {
    "duration": 157,
    "start_time": "2024-09-19T07:27:11.680Z"
   },
   {
    "duration": 7,
    "start_time": "2024-09-19T07:27:11.838Z"
   },
   {
    "duration": 12,
    "start_time": "2024-09-19T07:27:11.847Z"
   },
   {
    "duration": 215,
    "start_time": "2024-09-19T07:27:11.861Z"
   },
   {
    "duration": 205,
    "start_time": "2024-09-19T07:27:12.078Z"
   },
   {
    "duration": 17,
    "start_time": "2024-09-19T07:27:12.288Z"
   },
   {
    "duration": 119,
    "start_time": "2024-09-19T07:27:12.307Z"
   },
   {
    "duration": 119,
    "start_time": "2024-09-19T07:27:12.428Z"
   },
   {
    "duration": 413,
    "start_time": "2024-09-19T07:27:12.549Z"
   },
   {
    "duration": 10,
    "start_time": "2024-09-19T07:27:12.964Z"
   },
   {
    "duration": 159,
    "start_time": "2024-09-19T07:27:12.986Z"
   },
   {
    "duration": 17,
    "start_time": "2024-09-19T07:27:13.147Z"
   },
   {
    "duration": 157,
    "start_time": "2024-09-19T07:27:13.167Z"
   },
   {
    "duration": 8,
    "start_time": "2024-09-19T07:27:13.327Z"
   },
   {
    "duration": 148,
    "start_time": "2024-09-19T07:27:13.338Z"
   },
   {
    "duration": 10,
    "start_time": "2024-09-19T07:27:13.488Z"
   },
   {
    "duration": 7,
    "start_time": "2024-09-19T07:27:13.500Z"
   },
   {
    "duration": 807,
    "start_time": "2024-09-19T09:28:07.616Z"
   },
   {
    "duration": 40,
    "start_time": "2024-09-19T09:28:08.425Z"
   },
   {
    "duration": 20,
    "start_time": "2024-09-19T09:28:08.467Z"
   },
   {
    "duration": 18,
    "start_time": "2024-09-19T09:28:08.489Z"
   },
   {
    "duration": 4,
    "start_time": "2024-09-19T09:28:08.509Z"
   },
   {
    "duration": 8,
    "start_time": "2024-09-19T09:28:08.515Z"
   },
   {
    "duration": 9,
    "start_time": "2024-09-19T09:28:08.525Z"
   },
   {
    "duration": 9,
    "start_time": "2024-09-19T09:28:08.537Z"
   },
   {
    "duration": 6,
    "start_time": "2024-09-19T09:28:08.547Z"
   },
   {
    "duration": 4,
    "start_time": "2024-09-19T09:28:08.556Z"
   },
   {
    "duration": 9,
    "start_time": "2024-09-19T09:28:08.562Z"
   },
   {
    "duration": 7,
    "start_time": "2024-09-19T09:28:08.572Z"
   },
   {
    "duration": 9,
    "start_time": "2024-09-19T09:28:08.581Z"
   },
   {
    "duration": 44,
    "start_time": "2024-09-19T09:28:08.591Z"
   },
   {
    "duration": 11,
    "start_time": "2024-09-19T09:28:08.636Z"
   },
   {
    "duration": 144,
    "start_time": "2024-09-19T09:28:08.649Z"
   },
   {
    "duration": 119,
    "start_time": "2024-09-19T09:28:08.796Z"
   },
   {
    "duration": 17,
    "start_time": "2024-09-19T09:28:08.917Z"
   },
   {
    "duration": 156,
    "start_time": "2024-09-19T09:28:08.936Z"
   },
   {
    "duration": 101,
    "start_time": "2024-09-19T09:28:09.094Z"
   },
   {
    "duration": 104,
    "start_time": "2024-09-19T09:28:09.198Z"
   },
   {
    "duration": 105,
    "start_time": "2024-09-19T09:28:09.306Z"
   },
   {
    "duration": 148,
    "start_time": "2024-09-19T09:28:09.413Z"
   },
   {
    "duration": 6,
    "start_time": "2024-09-19T09:28:09.562Z"
   },
   {
    "duration": 12,
    "start_time": "2024-09-19T09:28:09.570Z"
   },
   {
    "duration": 213,
    "start_time": "2024-09-19T09:28:09.584Z"
   },
   {
    "duration": 194,
    "start_time": "2024-09-19T09:28:09.799Z"
   },
   {
    "duration": 17,
    "start_time": "2024-09-19T09:28:09.998Z"
   },
   {
    "duration": 127,
    "start_time": "2024-09-19T09:28:10.016Z"
   },
   {
    "duration": 126,
    "start_time": "2024-09-19T09:28:10.145Z"
   },
   {
    "duration": 432,
    "start_time": "2024-09-19T09:28:10.273Z"
   },
   {
    "duration": 9,
    "start_time": "2024-09-19T09:28:10.706Z"
   },
   {
    "duration": 146,
    "start_time": "2024-09-19T09:28:10.716Z"
   },
   {
    "duration": 8,
    "start_time": "2024-09-19T09:28:10.863Z"
   },
   {
    "duration": 149,
    "start_time": "2024-09-19T09:28:10.873Z"
   },
   {
    "duration": 13,
    "start_time": "2024-09-19T09:28:11.024Z"
   },
   {
    "duration": 145,
    "start_time": "2024-09-19T09:28:11.039Z"
   },
   {
    "duration": 8,
    "start_time": "2024-09-19T09:28:11.186Z"
   },
   {
    "duration": 8,
    "start_time": "2024-09-19T09:28:11.195Z"
   },
   {
    "duration": 845,
    "start_time": "2024-09-19T09:29:17.645Z"
   },
   {
    "duration": 30,
    "start_time": "2024-09-19T09:29:18.492Z"
   },
   {
    "duration": 30,
    "start_time": "2024-09-19T09:29:18.523Z"
   },
   {
    "duration": 10,
    "start_time": "2024-09-19T09:29:18.555Z"
   },
   {
    "duration": 5,
    "start_time": "2024-09-19T09:29:18.567Z"
   },
   {
    "duration": 6,
    "start_time": "2024-09-19T09:29:18.574Z"
   },
   {
    "duration": 4,
    "start_time": "2024-09-19T09:29:18.582Z"
   },
   {
    "duration": 44,
    "start_time": "2024-09-19T09:29:18.588Z"
   },
   {
    "duration": 7,
    "start_time": "2024-09-19T09:29:18.634Z"
   },
   {
    "duration": 4,
    "start_time": "2024-09-19T09:29:18.645Z"
   },
   {
    "duration": 9,
    "start_time": "2024-09-19T09:29:18.651Z"
   },
   {
    "duration": 7,
    "start_time": "2024-09-19T09:29:18.662Z"
   },
   {
    "duration": 10,
    "start_time": "2024-09-19T09:29:18.672Z"
   },
   {
    "duration": 3,
    "start_time": "2024-09-19T09:29:18.685Z"
   },
   {
    "duration": 50,
    "start_time": "2024-09-19T09:29:18.690Z"
   },
   {
    "duration": 140,
    "start_time": "2024-09-19T09:29:18.742Z"
   },
   {
    "duration": 121,
    "start_time": "2024-09-19T09:29:18.884Z"
   },
   {
    "duration": 9,
    "start_time": "2024-09-19T09:29:19.007Z"
   },
   {
    "duration": 154,
    "start_time": "2024-09-19T09:29:19.018Z"
   },
   {
    "duration": 107,
    "start_time": "2024-09-19T09:29:19.174Z"
   },
   {
    "duration": 100,
    "start_time": "2024-09-19T09:29:19.283Z"
   },
   {
    "duration": 106,
    "start_time": "2024-09-19T09:29:19.384Z"
   },
   {
    "duration": 156,
    "start_time": "2024-09-19T09:29:19.492Z"
   },
   {
    "duration": 6,
    "start_time": "2024-09-19T09:29:19.650Z"
   },
   {
    "duration": 12,
    "start_time": "2024-09-19T09:29:19.658Z"
   },
   {
    "duration": 225,
    "start_time": "2024-09-19T09:29:19.672Z"
   },
   {
    "duration": 194,
    "start_time": "2024-09-19T09:29:19.899Z"
   },
   {
    "duration": 16,
    "start_time": "2024-09-19T09:29:20.096Z"
   },
   {
    "duration": 119,
    "start_time": "2024-09-19T09:29:20.115Z"
   },
   {
    "duration": 118,
    "start_time": "2024-09-19T09:29:20.236Z"
   },
   {
    "duration": 428,
    "start_time": "2024-09-19T09:29:20.356Z"
   },
   {
    "duration": 9,
    "start_time": "2024-09-19T09:29:20.785Z"
   },
   {
    "duration": 142,
    "start_time": "2024-09-19T09:29:20.796Z"
   },
   {
    "duration": 8,
    "start_time": "2024-09-19T09:29:20.940Z"
   },
   {
    "duration": 156,
    "start_time": "2024-09-19T09:29:20.949Z"
   },
   {
    "duration": 9,
    "start_time": "2024-09-19T09:29:21.107Z"
   },
   {
    "duration": 142,
    "start_time": "2024-09-19T09:29:21.118Z"
   },
   {
    "duration": 8,
    "start_time": "2024-09-19T09:29:21.261Z"
   },
   {
    "duration": 8,
    "start_time": "2024-09-19T09:29:21.271Z"
   }
  ],
  "kernelspec": {
   "display_name": "Python 3 (ipykernel)",
   "language": "python",
   "name": "python3"
  },
  "language_info": {
   "codemirror_mode": {
    "name": "ipython",
    "version": 3
   },
   "file_extension": ".py",
   "mimetype": "text/x-python",
   "name": "python",
   "nbconvert_exporter": "python",
   "pygments_lexer": "ipython3",
   "version": "3.12.4"
  },
  "toc": {
   "base_numbering": 1,
   "nav_menu": {},
   "number_sections": true,
   "sideBar": true,
   "skip_h1_title": true,
   "title_cell": "Table of Contents",
   "title_sidebar": "Contents",
   "toc_cell": false,
   "toc_position": {},
   "toc_section_display": true,
   "toc_window_display": false
  }
 },
 "nbformat": 4,
 "nbformat_minor": 4
}

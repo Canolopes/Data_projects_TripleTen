{
 "cells": [
  {
   "cell_type": "markdown",
   "metadata": {},
   "source": [
    "Hello Enrique!\n",
    "\n",
    "I’m happy to review your project today.\n",
    "I will mark your mistakes and give you some hints how it is possible to fix them. We are getting ready for real job, where your team leader/senior colleague will do exactly the same. Don't worry and study with pleasure! \n",
    "\n",
    "Below you will find my comments - **please do not move, modify or delete them**.\n",
    "\n",
    "You can find my comments in green, yellow or red boxes like this:\n",
    "\n",
    "<div class=\"alert alert-block alert-success\">\n",
    "<b>Reviewer's comment</b> <a class=\"tocSkip\"></a>\n",
    "\n",
    "Success. Everything is done succesfully.\n",
    "</div>\n",
    "\n",
    "<div class=\"alert alert-block alert-warning\">\n",
    "<b>Reviewer's comment</b> <a class=\"tocSkip\"></a>\n",
    "\n",
    "Remarks. Some recommendations.\n",
    "</div>\n",
    "\n",
    "<div class=\"alert alert-block alert-danger\">\n",
    "\n",
    "<b>Reviewer's comment</b> <a class=\"tocSkip\"></a>\n",
    "\n",
    "Needs fixing. The block requires some corrections. Work can't be accepted with the red comments.\n",
    "</div>\n",
    "\n",
    "You can answer me by using this:\n",
    "\n",
    "<div class=\"alert alert-block alert-info\">\n",
    "<b>Student answer.</b> <a class=\"tocSkip\"></a>\n",
    "\n",
    "Text here.\n",
    "</div>"
   ]
  },
  {
   "cell_type": "markdown",
   "metadata": {},
   "source": [
    "# Model Creation for Beta Bank Customer Data"
   ]
  },
  {
   "cell_type": "markdown",
   "metadata": {},
   "source": [
    "# Introduction"
   ]
  },
  {
   "cell_type": "markdown",
   "metadata": {},
   "source": [
    "Beta bank customers are slowly dwindling more and more over time. The bank has decided to just try to keep existing customers instead of attract new ones. We will need to create a model to predict when a client will leave. We must investigate and pre-process our data to have it ready for our model testing. We will also need to take into account imbalances in our data and check our model to avoid additional errors or biases."
   ]
  },
  {
   "cell_type": "markdown",
   "metadata": {},
   "source": [
    "__Our F1 score needs to be at least 0.59__ "
   ]
  },
  {
   "cell_type": "code",
   "execution_count": 1,
   "metadata": {},
   "outputs": [],
   "source": [
    "#Import our libraries\n",
    "\n",
    "import pandas as pd\n",
    "import numpy as np\n",
    "from sklearn.model_selection import train_test_split\n",
    "from sklearn.preprocessing import StandardScaler\n",
    "import matplotlib.pyplot as plt\n",
    "from sklearn.ensemble import RandomForestClassifier\n",
    "from sklearn.metrics import f1_score, roc_auc_score, accuracy_score, roc_curve\n",
    "from sklearn.tree import DecisionTreeClassifier\n",
    "from sklearn.linear_model import LogisticRegression\n",
    "from sklearn.utils import shuffle"
   ]
  },
  {
   "cell_type": "code",
   "execution_count": 2,
   "metadata": {},
   "outputs": [
    {
     "name": "stdout",
     "output_type": "stream",
     "text": [
      "<class 'pandas.core.frame.DataFrame'>\n",
      "RangeIndex: 10000 entries, 0 to 9999\n",
      "Data columns (total 14 columns):\n",
      " #   Column           Non-Null Count  Dtype  \n",
      "---  ------           --------------  -----  \n",
      " 0   RowNumber        10000 non-null  int64  \n",
      " 1   CustomerId       10000 non-null  int64  \n",
      " 2   Surname          10000 non-null  object \n",
      " 3   CreditScore      10000 non-null  int64  \n",
      " 4   Geography        10000 non-null  object \n",
      " 5   Gender           10000 non-null  object \n",
      " 6   Age              10000 non-null  int64  \n",
      " 7   Tenure           9091 non-null   float64\n",
      " 8   Balance          10000 non-null  float64\n",
      " 9   NumOfProducts    10000 non-null  int64  \n",
      " 10  HasCrCard        10000 non-null  int64  \n",
      " 11  IsActiveMember   10000 non-null  int64  \n",
      " 12  EstimatedSalary  10000 non-null  float64\n",
      " 13  Exited           10000 non-null  int64  \n",
      "dtypes: float64(3), int64(8), object(3)\n",
      "memory usage: 1.1+ MB\n",
      "None\n"
     ]
    },
    {
     "data": {
      "text/html": [
       "<div>\n",
       "<style scoped>\n",
       "    .dataframe tbody tr th:only-of-type {\n",
       "        vertical-align: middle;\n",
       "    }\n",
       "\n",
       "    .dataframe tbody tr th {\n",
       "        vertical-align: top;\n",
       "    }\n",
       "\n",
       "    .dataframe thead th {\n",
       "        text-align: right;\n",
       "    }\n",
       "</style>\n",
       "<table border=\"1\" class=\"dataframe\">\n",
       "  <thead>\n",
       "    <tr style=\"text-align: right;\">\n",
       "      <th></th>\n",
       "      <th>RowNumber</th>\n",
       "      <th>CustomerId</th>\n",
       "      <th>Surname</th>\n",
       "      <th>CreditScore</th>\n",
       "      <th>Geography</th>\n",
       "      <th>Gender</th>\n",
       "      <th>Age</th>\n",
       "      <th>Tenure</th>\n",
       "      <th>Balance</th>\n",
       "      <th>NumOfProducts</th>\n",
       "      <th>HasCrCard</th>\n",
       "      <th>IsActiveMember</th>\n",
       "      <th>EstimatedSalary</th>\n",
       "      <th>Exited</th>\n",
       "    </tr>\n",
       "  </thead>\n",
       "  <tbody>\n",
       "    <tr>\n",
       "      <th>0</th>\n",
       "      <td>1</td>\n",
       "      <td>15634602</td>\n",
       "      <td>Hargrave</td>\n",
       "      <td>619</td>\n",
       "      <td>France</td>\n",
       "      <td>Female</td>\n",
       "      <td>42</td>\n",
       "      <td>2.0</td>\n",
       "      <td>0.00</td>\n",
       "      <td>1</td>\n",
       "      <td>1</td>\n",
       "      <td>1</td>\n",
       "      <td>101348.88</td>\n",
       "      <td>1</td>\n",
       "    </tr>\n",
       "    <tr>\n",
       "      <th>1</th>\n",
       "      <td>2</td>\n",
       "      <td>15647311</td>\n",
       "      <td>Hill</td>\n",
       "      <td>608</td>\n",
       "      <td>Spain</td>\n",
       "      <td>Female</td>\n",
       "      <td>41</td>\n",
       "      <td>1.0</td>\n",
       "      <td>83807.86</td>\n",
       "      <td>1</td>\n",
       "      <td>0</td>\n",
       "      <td>1</td>\n",
       "      <td>112542.58</td>\n",
       "      <td>0</td>\n",
       "    </tr>\n",
       "    <tr>\n",
       "      <th>2</th>\n",
       "      <td>3</td>\n",
       "      <td>15619304</td>\n",
       "      <td>Onio</td>\n",
       "      <td>502</td>\n",
       "      <td>France</td>\n",
       "      <td>Female</td>\n",
       "      <td>42</td>\n",
       "      <td>8.0</td>\n",
       "      <td>159660.80</td>\n",
       "      <td>3</td>\n",
       "      <td>1</td>\n",
       "      <td>0</td>\n",
       "      <td>113931.57</td>\n",
       "      <td>1</td>\n",
       "    </tr>\n",
       "    <tr>\n",
       "      <th>3</th>\n",
       "      <td>4</td>\n",
       "      <td>15701354</td>\n",
       "      <td>Boni</td>\n",
       "      <td>699</td>\n",
       "      <td>France</td>\n",
       "      <td>Female</td>\n",
       "      <td>39</td>\n",
       "      <td>1.0</td>\n",
       "      <td>0.00</td>\n",
       "      <td>2</td>\n",
       "      <td>0</td>\n",
       "      <td>0</td>\n",
       "      <td>93826.63</td>\n",
       "      <td>0</td>\n",
       "    </tr>\n",
       "    <tr>\n",
       "      <th>4</th>\n",
       "      <td>5</td>\n",
       "      <td>15737888</td>\n",
       "      <td>Mitchell</td>\n",
       "      <td>850</td>\n",
       "      <td>Spain</td>\n",
       "      <td>Female</td>\n",
       "      <td>43</td>\n",
       "      <td>2.0</td>\n",
       "      <td>125510.82</td>\n",
       "      <td>1</td>\n",
       "      <td>1</td>\n",
       "      <td>1</td>\n",
       "      <td>79084.10</td>\n",
       "      <td>0</td>\n",
       "    </tr>\n",
       "    <tr>\n",
       "      <th>5</th>\n",
       "      <td>6</td>\n",
       "      <td>15574012</td>\n",
       "      <td>Chu</td>\n",
       "      <td>645</td>\n",
       "      <td>Spain</td>\n",
       "      <td>Male</td>\n",
       "      <td>44</td>\n",
       "      <td>8.0</td>\n",
       "      <td>113755.78</td>\n",
       "      <td>2</td>\n",
       "      <td>1</td>\n",
       "      <td>0</td>\n",
       "      <td>149756.71</td>\n",
       "      <td>1</td>\n",
       "    </tr>\n",
       "    <tr>\n",
       "      <th>6</th>\n",
       "      <td>7</td>\n",
       "      <td>15592531</td>\n",
       "      <td>Bartlett</td>\n",
       "      <td>822</td>\n",
       "      <td>France</td>\n",
       "      <td>Male</td>\n",
       "      <td>50</td>\n",
       "      <td>7.0</td>\n",
       "      <td>0.00</td>\n",
       "      <td>2</td>\n",
       "      <td>1</td>\n",
       "      <td>1</td>\n",
       "      <td>10062.80</td>\n",
       "      <td>0</td>\n",
       "    </tr>\n",
       "    <tr>\n",
       "      <th>7</th>\n",
       "      <td>8</td>\n",
       "      <td>15656148</td>\n",
       "      <td>Obinna</td>\n",
       "      <td>376</td>\n",
       "      <td>Germany</td>\n",
       "      <td>Female</td>\n",
       "      <td>29</td>\n",
       "      <td>4.0</td>\n",
       "      <td>115046.74</td>\n",
       "      <td>4</td>\n",
       "      <td>1</td>\n",
       "      <td>0</td>\n",
       "      <td>119346.88</td>\n",
       "      <td>1</td>\n",
       "    </tr>\n",
       "    <tr>\n",
       "      <th>8</th>\n",
       "      <td>9</td>\n",
       "      <td>15792365</td>\n",
       "      <td>He</td>\n",
       "      <td>501</td>\n",
       "      <td>France</td>\n",
       "      <td>Male</td>\n",
       "      <td>44</td>\n",
       "      <td>4.0</td>\n",
       "      <td>142051.07</td>\n",
       "      <td>2</td>\n",
       "      <td>0</td>\n",
       "      <td>1</td>\n",
       "      <td>74940.50</td>\n",
       "      <td>0</td>\n",
       "    </tr>\n",
       "    <tr>\n",
       "      <th>9</th>\n",
       "      <td>10</td>\n",
       "      <td>15592389</td>\n",
       "      <td>H?</td>\n",
       "      <td>684</td>\n",
       "      <td>France</td>\n",
       "      <td>Male</td>\n",
       "      <td>27</td>\n",
       "      <td>2.0</td>\n",
       "      <td>134603.88</td>\n",
       "      <td>1</td>\n",
       "      <td>1</td>\n",
       "      <td>1</td>\n",
       "      <td>71725.73</td>\n",
       "      <td>0</td>\n",
       "    </tr>\n",
       "  </tbody>\n",
       "</table>\n",
       "</div>"
      ],
      "text/plain": [
       "   RowNumber  CustomerId   Surname  CreditScore Geography  Gender  Age  \\\n",
       "0          1    15634602  Hargrave          619    France  Female   42   \n",
       "1          2    15647311      Hill          608     Spain  Female   41   \n",
       "2          3    15619304      Onio          502    France  Female   42   \n",
       "3          4    15701354      Boni          699    France  Female   39   \n",
       "4          5    15737888  Mitchell          850     Spain  Female   43   \n",
       "5          6    15574012       Chu          645     Spain    Male   44   \n",
       "6          7    15592531  Bartlett          822    France    Male   50   \n",
       "7          8    15656148    Obinna          376   Germany  Female   29   \n",
       "8          9    15792365        He          501    France    Male   44   \n",
       "9         10    15592389        H?          684    France    Male   27   \n",
       "\n",
       "   Tenure    Balance  NumOfProducts  HasCrCard  IsActiveMember  \\\n",
       "0     2.0       0.00              1          1               1   \n",
       "1     1.0   83807.86              1          0               1   \n",
       "2     8.0  159660.80              3          1               0   \n",
       "3     1.0       0.00              2          0               0   \n",
       "4     2.0  125510.82              1          1               1   \n",
       "5     8.0  113755.78              2          1               0   \n",
       "6     7.0       0.00              2          1               1   \n",
       "7     4.0  115046.74              4          1               0   \n",
       "8     4.0  142051.07              2          0               1   \n",
       "9     2.0  134603.88              1          1               1   \n",
       "\n",
       "   EstimatedSalary  Exited  \n",
       "0        101348.88       1  \n",
       "1        112542.58       0  \n",
       "2        113931.57       1  \n",
       "3         93826.63       0  \n",
       "4         79084.10       0  \n",
       "5        149756.71       1  \n",
       "6         10062.80       0  \n",
       "7        119346.88       1  \n",
       "8         74940.50       0  \n",
       "9         71725.73       0  "
      ]
     },
     "execution_count": 2,
     "metadata": {},
     "output_type": "execute_result"
    }
   ],
   "source": [
    "#Unpack our data\n",
    "\n",
    "bank_data = pd.read_csv('/datasets/Churn.csv')\n",
    "print(bank_data.info())\n",
    "bank_data.head(10)"
   ]
  },
  {
   "cell_type": "markdown",
   "metadata": {},
   "source": [
    "Let's begin with the surname and row number column; they have no logical value to us in predicting if a customer will churn. There's no need to confuse our model trying to take these columns into account, so we will drop them."
   ]
  },
  {
   "cell_type": "code",
   "execution_count": 3,
   "metadata": {
    "scrolled": true
   },
   "outputs": [
    {
     "data": {
      "text/html": [
       "<div>\n",
       "<style scoped>\n",
       "    .dataframe tbody tr th:only-of-type {\n",
       "        vertical-align: middle;\n",
       "    }\n",
       "\n",
       "    .dataframe tbody tr th {\n",
       "        vertical-align: top;\n",
       "    }\n",
       "\n",
       "    .dataframe thead th {\n",
       "        text-align: right;\n",
       "    }\n",
       "</style>\n",
       "<table border=\"1\" class=\"dataframe\">\n",
       "  <thead>\n",
       "    <tr style=\"text-align: right;\">\n",
       "      <th></th>\n",
       "      <th>CustomerId</th>\n",
       "      <th>CreditScore</th>\n",
       "      <th>Geography</th>\n",
       "      <th>Gender</th>\n",
       "      <th>Age</th>\n",
       "      <th>Tenure</th>\n",
       "      <th>Balance</th>\n",
       "      <th>NumOfProducts</th>\n",
       "      <th>HasCrCard</th>\n",
       "      <th>IsActiveMember</th>\n",
       "      <th>EstimatedSalary</th>\n",
       "      <th>Exited</th>\n",
       "    </tr>\n",
       "  </thead>\n",
       "  <tbody>\n",
       "    <tr>\n",
       "      <th>0</th>\n",
       "      <td>15634602</td>\n",
       "      <td>619</td>\n",
       "      <td>France</td>\n",
       "      <td>Female</td>\n",
       "      <td>42</td>\n",
       "      <td>2.0</td>\n",
       "      <td>0.00</td>\n",
       "      <td>1</td>\n",
       "      <td>1</td>\n",
       "      <td>1</td>\n",
       "      <td>101348.88</td>\n",
       "      <td>1</td>\n",
       "    </tr>\n",
       "    <tr>\n",
       "      <th>1</th>\n",
       "      <td>15647311</td>\n",
       "      <td>608</td>\n",
       "      <td>Spain</td>\n",
       "      <td>Female</td>\n",
       "      <td>41</td>\n",
       "      <td>1.0</td>\n",
       "      <td>83807.86</td>\n",
       "      <td>1</td>\n",
       "      <td>0</td>\n",
       "      <td>1</td>\n",
       "      <td>112542.58</td>\n",
       "      <td>0</td>\n",
       "    </tr>\n",
       "    <tr>\n",
       "      <th>2</th>\n",
       "      <td>15619304</td>\n",
       "      <td>502</td>\n",
       "      <td>France</td>\n",
       "      <td>Female</td>\n",
       "      <td>42</td>\n",
       "      <td>8.0</td>\n",
       "      <td>159660.80</td>\n",
       "      <td>3</td>\n",
       "      <td>1</td>\n",
       "      <td>0</td>\n",
       "      <td>113931.57</td>\n",
       "      <td>1</td>\n",
       "    </tr>\n",
       "  </tbody>\n",
       "</table>\n",
       "</div>"
      ],
      "text/plain": [
       "   CustomerId  CreditScore Geography  Gender  Age  Tenure    Balance  \\\n",
       "0    15634602          619    France  Female   42     2.0       0.00   \n",
       "1    15647311          608     Spain  Female   41     1.0   83807.86   \n",
       "2    15619304          502    France  Female   42     8.0  159660.80   \n",
       "\n",
       "   NumOfProducts  HasCrCard  IsActiveMember  EstimatedSalary  Exited  \n",
       "0              1          1               1        101348.88       1  \n",
       "1              1          0               1        112542.58       0  \n",
       "2              3          1               0        113931.57       1  "
      ]
     },
     "execution_count": 3,
     "metadata": {},
     "output_type": "execute_result"
    }
   ],
   "source": [
    "bank_data = bank_data.drop(['Surname', 'RowNumber'], axis =1) #dropping the surname column\n",
    "bank_data.head(3)"
   ]
  },
  {
   "cell_type": "markdown",
   "metadata": {},
   "source": [
    "Equally, the customer ID serves no purpose to us as we cannot take any calculations from this column."
   ]
  },
  {
   "cell_type": "code",
   "execution_count": 4,
   "metadata": {},
   "outputs": [
    {
     "data": {
      "text/html": [
       "<div>\n",
       "<style scoped>\n",
       "    .dataframe tbody tr th:only-of-type {\n",
       "        vertical-align: middle;\n",
       "    }\n",
       "\n",
       "    .dataframe tbody tr th {\n",
       "        vertical-align: top;\n",
       "    }\n",
       "\n",
       "    .dataframe thead th {\n",
       "        text-align: right;\n",
       "    }\n",
       "</style>\n",
       "<table border=\"1\" class=\"dataframe\">\n",
       "  <thead>\n",
       "    <tr style=\"text-align: right;\">\n",
       "      <th></th>\n",
       "      <th>CreditScore</th>\n",
       "      <th>Geography</th>\n",
       "      <th>Gender</th>\n",
       "      <th>Age</th>\n",
       "      <th>Tenure</th>\n",
       "      <th>Balance</th>\n",
       "      <th>NumOfProducts</th>\n",
       "      <th>HasCrCard</th>\n",
       "      <th>IsActiveMember</th>\n",
       "      <th>EstimatedSalary</th>\n",
       "      <th>Exited</th>\n",
       "    </tr>\n",
       "  </thead>\n",
       "  <tbody>\n",
       "    <tr>\n",
       "      <th>0</th>\n",
       "      <td>619</td>\n",
       "      <td>France</td>\n",
       "      <td>Female</td>\n",
       "      <td>42</td>\n",
       "      <td>2.0</td>\n",
       "      <td>0.00</td>\n",
       "      <td>1</td>\n",
       "      <td>1</td>\n",
       "      <td>1</td>\n",
       "      <td>101348.88</td>\n",
       "      <td>1</td>\n",
       "    </tr>\n",
       "    <tr>\n",
       "      <th>1</th>\n",
       "      <td>608</td>\n",
       "      <td>Spain</td>\n",
       "      <td>Female</td>\n",
       "      <td>41</td>\n",
       "      <td>1.0</td>\n",
       "      <td>83807.86</td>\n",
       "      <td>1</td>\n",
       "      <td>0</td>\n",
       "      <td>1</td>\n",
       "      <td>112542.58</td>\n",
       "      <td>0</td>\n",
       "    </tr>\n",
       "    <tr>\n",
       "      <th>2</th>\n",
       "      <td>502</td>\n",
       "      <td>France</td>\n",
       "      <td>Female</td>\n",
       "      <td>42</td>\n",
       "      <td>8.0</td>\n",
       "      <td>159660.80</td>\n",
       "      <td>3</td>\n",
       "      <td>1</td>\n",
       "      <td>0</td>\n",
       "      <td>113931.57</td>\n",
       "      <td>1</td>\n",
       "    </tr>\n",
       "  </tbody>\n",
       "</table>\n",
       "</div>"
      ],
      "text/plain": [
       "   CreditScore Geography  Gender  Age  Tenure    Balance  NumOfProducts  \\\n",
       "0          619    France  Female   42     2.0       0.00              1   \n",
       "1          608     Spain  Female   41     1.0   83807.86              1   \n",
       "2          502    France  Female   42     8.0  159660.80              3   \n",
       "\n",
       "   HasCrCard  IsActiveMember  EstimatedSalary  Exited  \n",
       "0          1               1        101348.88       1  \n",
       "1          0               1        112542.58       0  \n",
       "2          1               0        113931.57       1  "
      ]
     },
     "execution_count": 4,
     "metadata": {},
     "output_type": "execute_result"
    }
   ],
   "source": [
    "bank_data = bank_data.drop('CustomerId', axis =1)\n",
    "bank_data.head(3)"
   ]
  },
  {
   "cell_type": "markdown",
   "metadata": {},
   "source": [
    "The tenure column is missing values, so let's examine this."
   ]
  },
  {
   "cell_type": "code",
   "execution_count": 5,
   "metadata": {},
   "outputs": [
    {
     "data": {
      "text/plain": [
       "1.0     952\n",
       "2.0     950\n",
       "8.0     933\n",
       "3.0     928\n",
       "5.0     927\n",
       "7.0     925\n",
       "4.0     885\n",
       "9.0     882\n",
       "6.0     881\n",
       "10.0    446\n",
       "0.0     382\n",
       "Name: Tenure, dtype: int64"
      ]
     },
     "execution_count": 5,
     "metadata": {},
     "output_type": "execute_result"
    }
   ],
   "source": [
    "bank_data['Tenure'].value_counts()"
   ]
  },
  {
   "cell_type": "markdown",
   "metadata": {},
   "source": [
    "The missing values represent about a tenth of the total data. We may conclude that these customers decided to not have a fixed deposit tenure. It would be better to not drop these values since they still represent an important class in our data. However, it can interfere with model creation, so let's use the median value as a placeholder."
   ]
  },
  {
   "cell_type": "code",
   "execution_count": 6,
   "metadata": {},
   "outputs": [
    {
     "data": {
      "text/plain": [
       "5.0     1836\n",
       "1.0      952\n",
       "2.0      950\n",
       "8.0      933\n",
       "3.0      928\n",
       "7.0      925\n",
       "4.0      885\n",
       "9.0      882\n",
       "6.0      881\n",
       "10.0     446\n",
       "0.0      382\n",
       "Name: Tenure, dtype: int64"
      ]
     },
     "execution_count": 6,
     "metadata": {},
     "output_type": "execute_result"
    }
   ],
   "source": [
    "bank_data['Tenure'] = bank_data['Tenure'].fillna(bank_data['Tenure'].median())\n",
    "bank_data['Tenure'].value_counts()"
   ]
  },
  {
   "cell_type": "markdown",
   "metadata": {},
   "source": [
    "Our last issue is that the geography and gender columns are categorical. While these metrics are definitely important in our analysis, we will need to quantify them for our model first."
   ]
  },
  {
   "cell_type": "code",
   "execution_count": 7,
   "metadata": {},
   "outputs": [
    {
     "data": {
      "text/plain": [
       "Male      5457\n",
       "Female    4543\n",
       "Name: Gender, dtype: int64"
      ]
     },
     "execution_count": 7,
     "metadata": {},
     "output_type": "execute_result"
    }
   ],
   "source": [
    "#first let's see the split of female and male customers at the bank\n",
    "\n",
    "bank_data['Gender'].value_counts()"
   ]
  },
  {
   "cell_type": "markdown",
   "metadata": {},
   "source": [
    "It is fairly even, so our model should not have a bias here."
   ]
  },
  {
   "cell_type": "code",
   "execution_count": 8,
   "metadata": {},
   "outputs": [
    {
     "data": {
      "text/plain": [
       "France     5014\n",
       "Germany    2509\n",
       "Spain      2477\n",
       "Name: Geography, dtype: int64"
      ]
     },
     "execution_count": 8,
     "metadata": {},
     "output_type": "execute_result"
    }
   ],
   "source": [
    "#let's also check the split of geographical values \n",
    "\n",
    "bank_data['Geography'].value_counts()"
   ]
  },
  {
   "cell_type": "markdown",
   "metadata": {},
   "source": [
    "France definitely has the lead here, but not an overwhelming one. For now, we will not take this imbalance into account."
   ]
  },
  {
   "cell_type": "code",
   "execution_count": 9,
   "metadata": {},
   "outputs": [
    {
     "data": {
      "text/html": [
       "<div>\n",
       "<style scoped>\n",
       "    .dataframe tbody tr th:only-of-type {\n",
       "        vertical-align: middle;\n",
       "    }\n",
       "\n",
       "    .dataframe tbody tr th {\n",
       "        vertical-align: top;\n",
       "    }\n",
       "\n",
       "    .dataframe thead th {\n",
       "        text-align: right;\n",
       "    }\n",
       "</style>\n",
       "<table border=\"1\" class=\"dataframe\">\n",
       "  <thead>\n",
       "    <tr style=\"text-align: right;\">\n",
       "      <th></th>\n",
       "      <th>CreditScore</th>\n",
       "      <th>Age</th>\n",
       "      <th>Tenure</th>\n",
       "      <th>Balance</th>\n",
       "      <th>NumOfProducts</th>\n",
       "      <th>HasCrCard</th>\n",
       "      <th>IsActiveMember</th>\n",
       "      <th>EstimatedSalary</th>\n",
       "      <th>Exited</th>\n",
       "      <th>Geography_Germany</th>\n",
       "      <th>Geography_Spain</th>\n",
       "      <th>Gender_Male</th>\n",
       "    </tr>\n",
       "  </thead>\n",
       "  <tbody>\n",
       "    <tr>\n",
       "      <th>0</th>\n",
       "      <td>619</td>\n",
       "      <td>42</td>\n",
       "      <td>2.0</td>\n",
       "      <td>0.00</td>\n",
       "      <td>1</td>\n",
       "      <td>1</td>\n",
       "      <td>1</td>\n",
       "      <td>101348.88</td>\n",
       "      <td>1</td>\n",
       "      <td>0</td>\n",
       "      <td>0</td>\n",
       "      <td>0</td>\n",
       "    </tr>\n",
       "    <tr>\n",
       "      <th>1</th>\n",
       "      <td>608</td>\n",
       "      <td>41</td>\n",
       "      <td>1.0</td>\n",
       "      <td>83807.86</td>\n",
       "      <td>1</td>\n",
       "      <td>0</td>\n",
       "      <td>1</td>\n",
       "      <td>112542.58</td>\n",
       "      <td>0</td>\n",
       "      <td>0</td>\n",
       "      <td>1</td>\n",
       "      <td>0</td>\n",
       "    </tr>\n",
       "    <tr>\n",
       "      <th>2</th>\n",
       "      <td>502</td>\n",
       "      <td>42</td>\n",
       "      <td>8.0</td>\n",
       "      <td>159660.80</td>\n",
       "      <td>3</td>\n",
       "      <td>1</td>\n",
       "      <td>0</td>\n",
       "      <td>113931.57</td>\n",
       "      <td>1</td>\n",
       "      <td>0</td>\n",
       "      <td>0</td>\n",
       "      <td>0</td>\n",
       "    </tr>\n",
       "    <tr>\n",
       "      <th>3</th>\n",
       "      <td>699</td>\n",
       "      <td>39</td>\n",
       "      <td>1.0</td>\n",
       "      <td>0.00</td>\n",
       "      <td>2</td>\n",
       "      <td>0</td>\n",
       "      <td>0</td>\n",
       "      <td>93826.63</td>\n",
       "      <td>0</td>\n",
       "      <td>0</td>\n",
       "      <td>0</td>\n",
       "      <td>0</td>\n",
       "    </tr>\n",
       "    <tr>\n",
       "      <th>4</th>\n",
       "      <td>850</td>\n",
       "      <td>43</td>\n",
       "      <td>2.0</td>\n",
       "      <td>125510.82</td>\n",
       "      <td>1</td>\n",
       "      <td>1</td>\n",
       "      <td>1</td>\n",
       "      <td>79084.10</td>\n",
       "      <td>0</td>\n",
       "      <td>0</td>\n",
       "      <td>1</td>\n",
       "      <td>0</td>\n",
       "    </tr>\n",
       "  </tbody>\n",
       "</table>\n",
       "</div>"
      ],
      "text/plain": [
       "   CreditScore  Age  Tenure    Balance  NumOfProducts  HasCrCard  \\\n",
       "0          619   42     2.0       0.00              1          1   \n",
       "1          608   41     1.0   83807.86              1          0   \n",
       "2          502   42     8.0  159660.80              3          1   \n",
       "3          699   39     1.0       0.00              2          0   \n",
       "4          850   43     2.0  125510.82              1          1   \n",
       "\n",
       "   IsActiveMember  EstimatedSalary  Exited  Geography_Germany  \\\n",
       "0               1        101348.88       1                  0   \n",
       "1               1        112542.58       0                  0   \n",
       "2               0        113931.57       1                  0   \n",
       "3               0         93826.63       0                  0   \n",
       "4               1         79084.10       0                  0   \n",
       "\n",
       "   Geography_Spain  Gender_Male  \n",
       "0                0            0  \n",
       "1                1            0  \n",
       "2                0            0  \n",
       "3                0            0  \n",
       "4                1            0  "
      ]
     },
     "execution_count": 9,
     "metadata": {},
     "output_type": "execute_result"
    }
   ],
   "source": [
    "#turning gender and geography columns into numeric columns\n",
    "\n",
    "bank_data = pd.get_dummies(bank_data, columns=['Geography', 'Gender'], drop_first=True)\n",
    "bank_data.head()"
   ]
  },
  {
   "cell_type": "markdown",
   "metadata": {},
   "source": [
    "We have now quanitified gender and geography. Although we don't have a \"gender female\" or \"geography France\" column, it can be inferred by the results of the other columns."
   ]
  },
  {
   "cell_type": "code",
   "execution_count": 10,
   "metadata": {},
   "outputs": [
    {
     "name": "stdout",
     "output_type": "stream",
     "text": [
      "<class 'pandas.core.frame.DataFrame'>\n",
      "RangeIndex: 10000 entries, 0 to 9999\n",
      "Data columns (total 12 columns):\n",
      " #   Column             Non-Null Count  Dtype  \n",
      "---  ------             --------------  -----  \n",
      " 0   CreditScore        10000 non-null  int64  \n",
      " 1   Age                10000 non-null  int64  \n",
      " 2   Tenure             10000 non-null  float64\n",
      " 3   Balance            10000 non-null  float64\n",
      " 4   NumOfProducts      10000 non-null  int64  \n",
      " 5   HasCrCard          10000 non-null  int64  \n",
      " 6   IsActiveMember     10000 non-null  int64  \n",
      " 7   EstimatedSalary    10000 non-null  float64\n",
      " 8   Exited             10000 non-null  int64  \n",
      " 9   Geography_Germany  10000 non-null  uint8  \n",
      " 10  Geography_Spain    10000 non-null  uint8  \n",
      " 11  Gender_Male        10000 non-null  uint8  \n",
      "dtypes: float64(3), int64(6), uint8(3)\n",
      "memory usage: 732.5 KB\n"
     ]
    }
   ],
   "source": [
    "bank_data.info()"
   ]
  },
  {
   "cell_type": "markdown",
   "metadata": {},
   "source": [
    "<div class=\"alert alert-block alert-success\">\n",
    "<b>Reviewer's comment V1</b> <a class=\"tocSkip\"></a>\n",
    "\n",
    "Everything is correct. Well done!\n",
    "\n",
    "</div>"
   ]
  },
  {
   "cell_type": "markdown",
   "metadata": {},
   "source": [
    "We are now working with all numeric columns. Let's look at the balance for the rest of the classes in our features. (v2)"
   ]
  },
  {
   "cell_type": "markdown",
   "metadata": {},
   "source": [
    "<div class=\"alert alert-block alert-danger\">\n",
    "<b>Reviewer's comment V1</b> <a class=\"tocSkip\"></a>\n",
    "\n",
    "Before to work with ML models you should 'Examine the balance of classes.'. For instance, you can use method .value_counts() to do it.\n",
    "\n",
    "</div>"
   ]
  },
  {
   "cell_type": "markdown",
   "metadata": {},
   "source": [
    "<div class=\"alert alert-block alert-warning\">\n",
    "<b>Reviewer's comment V2</b> <a class=\"tocSkip\"></a>\n",
    " \n",
    "Your target is 'Exited'. And so you need to 'Examine the balance of classes' in this column.\n",
    "    \n",
    "</div>"
   ]
  },
  {
   "cell_type": "code",
   "execution_count": 11,
   "metadata": {},
   "outputs": [
    {
     "data": {
      "image/png": "[encoded data removed]",
      "text/plain": [
       "<Figure size 640x480 with 1 Axes>"
      ]
     },
     "metadata": {},
     "output_type": "display_data"
    }
   ],
   "source": [
    "bank_data['CreditScore'].plot(kind='hist')\n",
    "plt.xlabel('Credit Score')\n",
    "plt.show()"
   ]
  },
  {
   "cell_type": "markdown",
   "metadata": {},
   "source": [
    "The distribution is quite normal for credit score, but customers with good credit (650+) making up a majority. "
   ]
  },
  {
   "cell_type": "code",
   "execution_count": 12,
   "metadata": {
    "scrolled": true
   },
   "outputs": [
    {
     "data": {
      "image/png": "[encoded data removed]",
      "text/plain": [
       "<Figure size 640x480 with 1 Axes>"
      ]
     },
     "metadata": {},
     "output_type": "display_data"
    }
   ],
   "source": [
    "bank_data['Age'].plot(kind='hist')\n",
    "plt.xlabel('Age')\n",
    "plt.show()"
   ]
  },
  {
   "cell_type": "markdown",
   "metadata": {},
   "source": [
    "There definitely is an imbalance towards younger people in this bank with customers under 40 making up a large majority."
   ]
  },
  {
   "cell_type": "code",
   "execution_count": 13,
   "metadata": {
    "scrolled": true
   },
   "outputs": [
    {
     "data": {
      "image/png": "[encoded data removed]",
      "text/plain": [
       "<Figure size 640x480 with 1 Axes>"
      ]
     },
     "metadata": {},
     "output_type": "display_data"
    }
   ],
   "source": [
    "bank_data['Balance'].plot(kind='hist')\n",
    "plt.xlabel('Balance')\n",
    "plt.show()"
   ]
  },
  {
   "cell_type": "markdown",
   "metadata": {},
   "source": [
    "This one has a much different distribution, with many customers having no balance, or within the 100,000 to 150,000 range. "
   ]
  },
  {
   "cell_type": "code",
   "execution_count": 14,
   "metadata": {
    "scrolled": true
   },
   "outputs": [
    {
     "data": {
      "image/png": "[encoded data removed]",
      "text/plain": [
       "<Figure size 640x480 with 1 Axes>"
      ]
     },
     "metadata": {},
     "output_type": "display_data"
    }
   ],
   "source": [
    "bank_data['Tenure'].plot(kind='hist')\n",
    "plt.xlabel('Tenure')\n",
    "plt.show()"
   ]
  },
  {
   "cell_type": "markdown",
   "metadata": {},
   "source": [
    "Tenure is actually quite even across the board except at the value for 5 years where we replaced missing values for the median value."
   ]
  },
  {
   "cell_type": "code",
   "execution_count": 15,
   "metadata": {},
   "outputs": [
    {
     "data": {
      "text/plain": [
       "1    5084\n",
       "2    4590\n",
       "3     266\n",
       "4      60\n",
       "Name: NumOfProducts, dtype: int64"
      ]
     },
     "execution_count": 15,
     "metadata": {},
     "output_type": "execute_result"
    }
   ],
   "source": [
    "bank_data['NumOfProducts'].value_counts()"
   ]
  },
  {
   "cell_type": "markdown",
   "metadata": {},
   "source": [
    "Not many values here, but a large imbalance for less products. "
   ]
  },
  {
   "cell_type": "code",
   "execution_count": 16,
   "metadata": {},
   "outputs": [
    {
     "data": {
      "text/plain": [
       "1    7055\n",
       "0    2945\n",
       "Name: HasCrCard, dtype: int64"
      ]
     },
     "execution_count": 16,
     "metadata": {},
     "output_type": "execute_result"
    }
   ],
   "source": [
    "bank_data['HasCrCard'].value_counts()"
   ]
  },
  {
   "cell_type": "markdown",
   "metadata": {},
   "source": [
    "Definitely an imbalance here for customers HAVING a credit card with the bank."
   ]
  },
  {
   "cell_type": "code",
   "execution_count": 17,
   "metadata": {
    "scrolled": true
   },
   "outputs": [
    {
     "data": {
      "text/plain": [
       "1    5151\n",
       "0    4849\n",
       "Name: IsActiveMember, dtype: int64"
      ]
     },
     "execution_count": 17,
     "metadata": {},
     "output_type": "execute_result"
    }
   ],
   "source": [
    "bank_data['IsActiveMember'].value_counts()"
   ]
  },
  {
   "cell_type": "markdown",
   "metadata": {},
   "source": [
    "This class is actually quite balanced. "
   ]
  },
  {
   "cell_type": "code",
   "execution_count": 18,
   "metadata": {},
   "outputs": [
    {
     "data": {
      "image/png": "[encoded data removed]",
      "text/plain": [
       "<Figure size 640x480 with 1 Axes>"
      ]
     },
     "metadata": {},
     "output_type": "display_data"
    }
   ],
   "source": [
    "bank_data['EstimatedSalary'].plot(kind='hist')\n",
    "plt.xlabel('Estimated Salary')\n",
    "plt.show()"
   ]
  },
  {
   "cell_type": "markdown",
   "metadata": {},
   "source": [
    "Esimated salary is also another class that is pretty balanced. "
   ]
  },
  {
   "cell_type": "markdown",
   "metadata": {},
   "source": [
    "## Preparing the Models"
   ]
  },
  {
   "cell_type": "code",
   "execution_count": 19,
   "metadata": {},
   "outputs": [],
   "source": [
    "#establish our features and target\n",
    "\n",
    "features = bank_data.drop('Exited', axis=1)\n",
    "target = bank_data['Exited']\n",
    "\n",
    "#create a 60/20/20 split for training, validation, and test set respectively\n",
    "\n",
    "#first create our training set and a temporary set of 40%\n",
    "feature_train, feature_temp, target_train, target_temp = train_test_split(features, target, test_size = 0.4, random_state=12345)\n",
    "\n",
    "#now let's split the temporary set into our validation and test sets of 20% each (40 * 0.5)\n",
    "feature_valid, feature_test, target_valid, target_test = train_test_split(feature_temp, target_temp, test_size = 0.5, random_state = 12345)"
   ]
  },
  {
   "cell_type": "markdown",
   "metadata": {},
   "source": [
    "Let's test a random forest model."
   ]
  },
  {
   "cell_type": "code",
   "execution_count": 20,
   "metadata": {},
   "outputs": [
    {
     "name": "stdout",
     "output_type": "stream",
     "text": [
      "F1 Score of our Random Forest model: 0.5748502994011976\n"
     ]
    }
   ],
   "source": [
    "#model creation and testing with validation set\n",
    "\n",
    "model_rf = RandomForestClassifier(random_state = 12345)\n",
    "model_rf.fit(feature_train, target_train) #Train our model\n",
    "predictions_valid = model_rf.predict(feature_valid)\n",
    "f1_score_rf = f1_score(target_valid, predictions_valid)\n",
    "\n",
    "print(f\"F1 Score of our Random Forest model: {f1_score_rf}\")"
   ]
  },
  {
   "cell_type": "markdown",
   "metadata": {},
   "source": [
    "Solid start, however overfitting could be an issue, as well as our F1 score not meeting our minimum. But we do have a place to begin now."
   ]
  },
  {
   "cell_type": "markdown",
   "metadata": {},
   "source": [
    "Let's test a decision tree model."
   ]
  },
  {
   "cell_type": "code",
   "execution_count": 21,
   "metadata": {},
   "outputs": [
    {
     "name": "stdout",
     "output_type": "stream",
     "text": [
      "F1 Score of our Decision Tree model: 0.5036319612590799\n"
     ]
    }
   ],
   "source": [
    "#model creation and testing with validation set\n",
    "\n",
    "model_dt = DecisionTreeClassifier(random_state = 12345)\n",
    "model_dt.fit(feature_train, target_train)\n",
    "predictions_valid = model_dt.predict(feature_valid)\n",
    "f1_score_dt = f1_score(target_valid, predictions_valid)\n",
    "\n",
    "print(f\"F1 Score of our Decision Tree model: {f1_score_dt}\")"
   ]
  },
  {
   "cell_type": "markdown",
   "metadata": {},
   "source": [
    "This model is a little worse across the board, but still solid considering our lack of optimizations so far."
   ]
  },
  {
   "cell_type": "markdown",
   "metadata": {},
   "source": [
    "## Optimization and Class Balancing"
   ]
  },
  {
   "cell_type": "code",
   "execution_count": 22,
   "metadata": {},
   "outputs": [
    {
     "data": {
      "text/html": [
       "<div>\n",
       "<style scoped>\n",
       "    .dataframe tbody tr th:only-of-type {\n",
       "        vertical-align: middle;\n",
       "    }\n",
       "\n",
       "    .dataframe tbody tr th {\n",
       "        vertical-align: top;\n",
       "    }\n",
       "\n",
       "    .dataframe thead th {\n",
       "        text-align: right;\n",
       "    }\n",
       "</style>\n",
       "<table border=\"1\" class=\"dataframe\">\n",
       "  <thead>\n",
       "    <tr style=\"text-align: right;\">\n",
       "      <th></th>\n",
       "      <th>CreditScore</th>\n",
       "      <th>Age</th>\n",
       "      <th>Tenure</th>\n",
       "      <th>Balance</th>\n",
       "      <th>NumOfProducts</th>\n",
       "      <th>HasCrCard</th>\n",
       "      <th>IsActiveMember</th>\n",
       "      <th>EstimatedSalary</th>\n",
       "      <th>Exited</th>\n",
       "      <th>Geography_Germany</th>\n",
       "      <th>Geography_Spain</th>\n",
       "      <th>Gender_Male</th>\n",
       "    </tr>\n",
       "  </thead>\n",
       "  <tbody>\n",
       "    <tr>\n",
       "      <th>0</th>\n",
       "      <td>619</td>\n",
       "      <td>42</td>\n",
       "      <td>2.0</td>\n",
       "      <td>0.00</td>\n",
       "      <td>1</td>\n",
       "      <td>1</td>\n",
       "      <td>1</td>\n",
       "      <td>101348.88</td>\n",
       "      <td>1</td>\n",
       "      <td>0</td>\n",
       "      <td>0</td>\n",
       "      <td>0</td>\n",
       "    </tr>\n",
       "    <tr>\n",
       "      <th>1</th>\n",
       "      <td>608</td>\n",
       "      <td>41</td>\n",
       "      <td>1.0</td>\n",
       "      <td>83807.86</td>\n",
       "      <td>1</td>\n",
       "      <td>0</td>\n",
       "      <td>1</td>\n",
       "      <td>112542.58</td>\n",
       "      <td>0</td>\n",
       "      <td>0</td>\n",
       "      <td>1</td>\n",
       "      <td>0</td>\n",
       "    </tr>\n",
       "    <tr>\n",
       "      <th>2</th>\n",
       "      <td>502</td>\n",
       "      <td>42</td>\n",
       "      <td>8.0</td>\n",
       "      <td>159660.80</td>\n",
       "      <td>3</td>\n",
       "      <td>1</td>\n",
       "      <td>0</td>\n",
       "      <td>113931.57</td>\n",
       "      <td>1</td>\n",
       "      <td>0</td>\n",
       "      <td>0</td>\n",
       "      <td>0</td>\n",
       "    </tr>\n",
       "  </tbody>\n",
       "</table>\n",
       "</div>"
      ],
      "text/plain": [
       "   CreditScore  Age  Tenure    Balance  NumOfProducts  HasCrCard  \\\n",
       "0          619   42     2.0       0.00              1          1   \n",
       "1          608   41     1.0   83807.86              1          0   \n",
       "2          502   42     8.0  159660.80              3          1   \n",
       "\n",
       "   IsActiveMember  EstimatedSalary  Exited  Geography_Germany  \\\n",
       "0               1        101348.88       1                  0   \n",
       "1               1        112542.58       0                  0   \n",
       "2               0        113931.57       1                  0   \n",
       "\n",
       "   Geography_Spain  Gender_Male  \n",
       "0                0            0  \n",
       "1                1            0  \n",
       "2                0            0  "
      ]
     },
     "execution_count": 22,
     "metadata": {},
     "output_type": "execute_result"
    }
   ],
   "source": [
    "bank_data.head(3) #recalling our data"
   ]
  },
  {
   "cell_type": "markdown",
   "metadata": {},
   "source": [
    "It would make the most sense to scale our age, credit score, tenure, number of products, salary, and balance columns. We want our algorithm to take all of these columns equally into account."
   ]
  },
  {
   "cell_type": "code",
   "execution_count": 23,
   "metadata": {},
   "outputs": [
    {
     "name": "stderr",
     "output_type": "stream",
     "text": [
      "/tmp/ipykernel_255/1884085129.py:7: SettingWithCopyWarning: \n",
      "A value is trying to be set on a copy of a slice from a DataFrame.\n",
      "Try using .loc[row_indexer,col_indexer] = value instead\n",
      "\n",
      "See the caveats in the documentation: https://pandas.pydata.org/pandas-docs/stable/user_guide/indexing.html#returning-a-view-versus-a-copy\n",
      "  feature_train[numeric] = scaler.transform(feature_train[numeric])\n",
      "/opt/conda/envs/python3/lib/python3.9/site-packages/pandas/core/indexing.py:1738: SettingWithCopyWarning: \n",
      "A value is trying to be set on a copy of a slice from a DataFrame.\n",
      "Try using .loc[row_indexer,col_indexer] = value instead\n",
      "\n",
      "See the caveats in the documentation: https://pandas.pydata.org/pandas-docs/stable/user_guide/indexing.html#returning-a-view-versus-a-copy\n",
      "  self._setitem_single_column(loc, value[:, i].tolist(), pi)\n",
      "/tmp/ipykernel_255/1884085129.py:8: SettingWithCopyWarning: \n",
      "A value is trying to be set on a copy of a slice from a DataFrame.\n",
      "Try using .loc[row_indexer,col_indexer] = value instead\n",
      "\n",
      "See the caveats in the documentation: https://pandas.pydata.org/pandas-docs/stable/user_guide/indexing.html#returning-a-view-versus-a-copy\n",
      "  feature_valid[numeric] = scaler.transform(feature_valid[numeric])\n",
      "/opt/conda/envs/python3/lib/python3.9/site-packages/pandas/core/indexing.py:1738: SettingWithCopyWarning: \n",
      "A value is trying to be set on a copy of a slice from a DataFrame.\n",
      "Try using .loc[row_indexer,col_indexer] = value instead\n",
      "\n",
      "See the caveats in the documentation: https://pandas.pydata.org/pandas-docs/stable/user_guide/indexing.html#returning-a-view-versus-a-copy\n",
      "  self._setitem_single_column(loc, value[:, i].tolist(), pi)\n",
      "/tmp/ipykernel_255/1884085129.py:9: SettingWithCopyWarning: \n",
      "A value is trying to be set on a copy of a slice from a DataFrame.\n",
      "Try using .loc[row_indexer,col_indexer] = value instead\n",
      "\n",
      "See the caveats in the documentation: https://pandas.pydata.org/pandas-docs/stable/user_guide/indexing.html#returning-a-view-versus-a-copy\n",
      "  feature_test[numeric] = scaler.transform(feature_test[numeric]) #v2\n",
      "/opt/conda/envs/python3/lib/python3.9/site-packages/pandas/core/indexing.py:1738: SettingWithCopyWarning: \n",
      "A value is trying to be set on a copy of a slice from a DataFrame.\n",
      "Try using .loc[row_indexer,col_indexer] = value instead\n",
      "\n",
      "See the caveats in the documentation: https://pandas.pydata.org/pandas-docs/stable/user_guide/indexing.html#returning-a-view-versus-a-copy\n",
      "  self._setitem_single_column(loc, value[:, i].tolist(), pi)\n"
     ]
    },
    {
     "data": {
      "text/html": [
       "<div>\n",
       "<style scoped>\n",
       "    .dataframe tbody tr th:only-of-type {\n",
       "        vertical-align: middle;\n",
       "    }\n",
       "\n",
       "    .dataframe tbody tr th {\n",
       "        vertical-align: top;\n",
       "    }\n",
       "\n",
       "    .dataframe thead th {\n",
       "        text-align: right;\n",
       "    }\n",
       "</style>\n",
       "<table border=\"1\" class=\"dataframe\">\n",
       "  <thead>\n",
       "    <tr style=\"text-align: right;\">\n",
       "      <th></th>\n",
       "      <th>CreditScore</th>\n",
       "      <th>Age</th>\n",
       "      <th>Tenure</th>\n",
       "      <th>Balance</th>\n",
       "      <th>NumOfProducts</th>\n",
       "      <th>HasCrCard</th>\n",
       "      <th>IsActiveMember</th>\n",
       "      <th>EstimatedSalary</th>\n",
       "      <th>Geography_Germany</th>\n",
       "      <th>Geography_Spain</th>\n",
       "      <th>Gender_Male</th>\n",
       "    </tr>\n",
       "  </thead>\n",
       "  <tbody>\n",
       "    <tr>\n",
       "      <th>7479</th>\n",
       "      <td>-0.886751</td>\n",
       "      <td>-0.373192</td>\n",
       "      <td>1.082277</td>\n",
       "      <td>1.232271</td>\n",
       "      <td>-0.891560</td>\n",
       "      <td>1</td>\n",
       "      <td>0</td>\n",
       "      <td>-0.187705</td>\n",
       "      <td>0</td>\n",
       "      <td>1</td>\n",
       "      <td>1</td>\n",
       "    </tr>\n",
       "    <tr>\n",
       "      <th>3411</th>\n",
       "      <td>0.608663</td>\n",
       "      <td>-0.183385</td>\n",
       "      <td>1.082277</td>\n",
       "      <td>0.600563</td>\n",
       "      <td>-0.891560</td>\n",
       "      <td>0</td>\n",
       "      <td>0</td>\n",
       "      <td>-0.333945</td>\n",
       "      <td>0</td>\n",
       "      <td>0</td>\n",
       "      <td>0</td>\n",
       "    </tr>\n",
       "    <tr>\n",
       "      <th>6027</th>\n",
       "      <td>2.052152</td>\n",
       "      <td>0.480939</td>\n",
       "      <td>-0.737696</td>\n",
       "      <td>1.027098</td>\n",
       "      <td>0.830152</td>\n",
       "      <td>0</td>\n",
       "      <td>1</td>\n",
       "      <td>1.503095</td>\n",
       "      <td>1</td>\n",
       "      <td>0</td>\n",
       "      <td>1</td>\n",
       "    </tr>\n",
       "    <tr>\n",
       "      <th>1247</th>\n",
       "      <td>-1.457915</td>\n",
       "      <td>-1.417129</td>\n",
       "      <td>0.354288</td>\n",
       "      <td>-1.233163</td>\n",
       "      <td>0.830152</td>\n",
       "      <td>1</td>\n",
       "      <td>0</td>\n",
       "      <td>-1.071061</td>\n",
       "      <td>0</td>\n",
       "      <td>0</td>\n",
       "      <td>1</td>\n",
       "    </tr>\n",
       "    <tr>\n",
       "      <th>3716</th>\n",
       "      <td>0.130961</td>\n",
       "      <td>-1.132419</td>\n",
       "      <td>-1.101690</td>\n",
       "      <td>1.140475</td>\n",
       "      <td>-0.891560</td>\n",
       "      <td>0</td>\n",
       "      <td>0</td>\n",
       "      <td>1.524268</td>\n",
       "      <td>1</td>\n",
       "      <td>0</td>\n",
       "      <td>0</td>\n",
       "    </tr>\n",
       "  </tbody>\n",
       "</table>\n",
       "</div>"
      ],
      "text/plain": [
       "      CreditScore       Age    Tenure   Balance  NumOfProducts  HasCrCard  \\\n",
       "7479    -0.886751 -0.373192  1.082277  1.232271      -0.891560          1   \n",
       "3411     0.608663 -0.183385  1.082277  0.600563      -0.891560          0   \n",
       "6027     2.052152  0.480939 -0.737696  1.027098       0.830152          0   \n",
       "1247    -1.457915 -1.417129  0.354288 -1.233163       0.830152          1   \n",
       "3716     0.130961 -1.132419 -1.101690  1.140475      -0.891560          0   \n",
       "\n",
       "      IsActiveMember  EstimatedSalary  Geography_Germany  Geography_Spain  \\\n",
       "7479               0        -0.187705                  0                1   \n",
       "3411               0        -0.333945                  0                0   \n",
       "6027               1         1.503095                  1                0   \n",
       "1247               0        -1.071061                  0                0   \n",
       "3716               0         1.524268                  1                0   \n",
       "\n",
       "      Gender_Male  \n",
       "7479            1  \n",
       "3411            0  \n",
       "6027            1  \n",
       "1247            1  \n",
       "3716            0  "
      ]
     },
     "execution_count": 23,
     "metadata": {},
     "output_type": "execute_result"
    }
   ],
   "source": [
    "#put our numeric columns into a list\n",
    "\n",
    "numeric = ['CreditScore', 'Age', 'NumOfProducts','Tenure', 'Balance', 'EstimatedSalary']\n",
    "\n",
    "scaler = StandardScaler() #scale our numeric columns\n",
    "scaler.fit(feature_train[numeric])\n",
    "feature_train[numeric] = scaler.transform(feature_train[numeric])\n",
    "feature_valid[numeric] = scaler.transform(feature_valid[numeric])\n",
    "feature_test[numeric] = scaler.transform(feature_test[numeric]) #v2\n",
    "\n",
    "feature_train.head()"
   ]
  },
  {
   "cell_type": "markdown",
   "metadata": {},
   "source": [
    "~~Let's create a new random forest model with our scaled data.~~"
   ]
  },
  {
   "cell_type": "markdown",
   "metadata": {},
   "source": [
    "~~#model creation and testing with validation set on scaled data\n",
    "model_rf_scaled = RandomForestClassifier(random_state = 12345)\n",
    "model_rf_scaled.fit(feature_train, target_train) #Train our model\n",
    "predictions = model_rf_scaled.predict(feature_valid)\n",
    "f1_score_rf_scaled = f1_score(target_valid, predictions)\n",
    "print(f\"F1 Score of our Random Forest model: {f1_score_rf_scaled}\")~~"
   ]
  },
  {
   "cell_type": "markdown",
   "metadata": {},
   "source": [
    "~~Our F1 score has increased by a tad, but nothing to write home about.~~"
   ]
  },
  {
   "cell_type": "markdown",
   "metadata": {},
   "source": [
    "<div class=\"alert alert-block alert-info\">\n",
    "<b>Reviewer's comment V1</b> <a class=\"tocSkip\"></a>\n",
    "\n",
    "Scaling can affect only on linear models. It can't affect on tree-based models. Just keep it in mind:)\n",
    "\n",
    "</div>"
   ]
  },
  {
   "cell_type": "markdown",
   "metadata": {},
   "source": [
    "~~Now we will try the same thing with our decision tree model.~~"
   ]
  },
  {
   "cell_type": "markdown",
   "metadata": {},
   "source": [
    "~~#model creation and testing with validation set on scaled data\n",
    "model_dt_scaled = DecisionTreeClassifier(random_state = 12345)\n",
    "model_dt_scaled.fit(feature_train, target_train)\n",
    "predictions_valid = model_dt_scaled.predict(feature_valid)\n",
    "f1_score_dt_scaled = f1_score(target_valid, predictions_valid)\n",
    "print(f\"F1 Score of our Decision Tree model: {f1_score_dt_scaled}\")~~"
   ]
  },
  {
   "cell_type": "markdown",
   "metadata": {},
   "source": [
    "Let's try a new model: Logistic Regression."
   ]
  },
  {
   "cell_type": "code",
   "execution_count": 24,
   "metadata": {},
   "outputs": [
    {
     "name": "stdout",
     "output_type": "stream",
     "text": [
      "F1 Score of our Logistic Regression model: 0.4888507718696398\n",
      "AUC-ROC score of our Logistic Regression model: 0.7637310291013133\n"
     ]
    }
   ],
   "source": [
    "model_lr = LogisticRegression(random_state=12345, solver='liblinear', class_weight = 'balanced') #apply class weight balance\n",
    "model_lr = model_lr.fit(feature_train, target_train)\n",
    "predictions = model_lr.predict(feature_valid)\n",
    "f1_score_lr = f1_score(target_valid, predictions)\n",
    "probabilities_valid = model_lr.predict_proba(feature_valid)\n",
    "probabilities_one_valid = probabilities_valid[:, 1]\n",
    "auc_roc = roc_auc_score(target_valid, probabilities_one_valid)\n",
    "\n",
    "print(f\"F1 Score of our Logistic Regression model: {f1_score_lr}\")\n",
    "print(f\"AUC-ROC score of our Logistic Regression model: {auc_roc}\")"
   ]
  },
  {
   "cell_type": "markdown",
   "metadata": {},
   "source": [
    "Let's tune a random forest model for comparison. We will be balancing the class weights in the class weight argument. (v2)"
   ]
  },
  {
   "cell_type": "code",
   "execution_count": 25,
   "metadata": {},
   "outputs": [
    {
     "name": "stdout",
     "output_type": "stream",
     "text": [
      "F1 score of the best model on the validation set: (n_estimators = 7): 0.6288770053475936\n",
      "AUC-ROC score of the best Random Forest model: 0.8508799654002263\n"
     ]
    }
   ],
   "source": [
    "best_f1_score = 0\n",
    "best_est = 0\n",
    "for est in range(1, 25): \n",
    "    model = RandomForestClassifier(random_state=12345, max_depth = 7, n_estimators=est, class_weight='balanced') #balance classes\n",
    "    model.fit(feature_train, target_train)\n",
    "    predictions = model.predict(feature_valid)\n",
    "    score = f1_score(target_valid, predictions)\n",
    "    if score > best_f1_score:\n",
    "        best_f1_score = score\n",
    "        best_est = est\n",
    "probabilities_valid = model.predict_proba(feature_valid)\n",
    "probabilities_one_valid = probabilities_valid[:, 1]\n",
    "auc_roc = roc_auc_score(target_valid, probabilities_one_valid)  \n",
    "\n",
    "print(\"F1 score of the best model on the validation set: (n_estimators = {}): {}\".format(best_est, best_f1_score))\n",
    "print(f\"AUC-ROC score of the best Random Forest model: {auc_roc}\")"
   ]
  },
  {
   "cell_type": "markdown",
   "metadata": {},
   "source": [
    "We have a good model here that meets our F1 score minimum and has a solid AUC-ROC score as well. (v2)"
   ]
  },
  {
   "cell_type": "code",
   "execution_count": 26,
   "metadata": {},
   "outputs": [
    {
     "name": "stdout",
     "output_type": "stream",
     "text": [
      "F1 score of the best model on the test set: 0.602308499475341\n",
      "AUC-ROC score of our best Random Forest model on the test set: 0.8450974483975469\n"
     ]
    }
   ],
   "source": [
    "model = RandomForestClassifier(random_state=12345, max_depth = 7, n_estimators=7, class_weight='balanced')\n",
    "model.fit(feature_train, target_train)\n",
    "predictions = model.predict(feature_test)\n",
    "score = f1_score(target_test, predictions)\n",
    "probabilities_test = model.predict_proba(feature_test)\n",
    "probabilities_one_test = probabilities_test[:, 1]\n",
    "auc_roc = roc_auc_score(target_test, probabilities_one_test)\n",
    "\n",
    "print(f\"F1 score of the best model on the test set: {score}\")\n",
    "print(f\"AUC-ROC score of our best Random Forest model on the test set: {auc_roc}\")"
   ]
  },
  {
   "cell_type": "markdown",
   "metadata": {},
   "source": [
    "__Our best random forest model has met our minimum threshold for F1 score on the test set!__ (v2)"
   ]
  },
  {
   "cell_type": "markdown",
   "metadata": {},
   "source": [
    "We could stop here but let's see how downsampling affects our model. (v2)"
   ]
  },
  {
   "cell_type": "code",
   "execution_count": 27,
   "metadata": {},
   "outputs": [],
   "source": [
    "def downsample(features, target, fraction):\n",
    "    features_zeros = features[target == 0]\n",
    "    features_ones = features[target == 1]\n",
    "    target_zeros = target[target == 0]\n",
    "    target_ones = target[target == 1]\n",
    "\n",
    "    features_downsampled = pd.concat(\n",
    "        [features_zeros.sample(frac=fraction, random_state=12345)]\n",
    "        + [features_ones])\n",
    "    target_downsampled = pd.concat(\n",
    "        [target_zeros.sample(frac=fraction, random_state=12345)]\n",
    "        + [target_ones])\n",
    "\n",
    "    features_downsampled, target_downsampled = shuffle(\n",
    "        features_downsampled, target_downsampled, random_state=12345)\n",
    "\n",
    "    return features_downsampled, target_downsampled\n",
    "\n",
    "\n",
    "features_downsampled, target_downsampled = downsample(feature_train, target_train, 0.75)"
   ]
  },
  {
   "cell_type": "code",
   "execution_count": 28,
   "metadata": {},
   "outputs": [
    {
     "name": "stdout",
     "output_type": "stream",
     "text": [
      "F1 score of the best model on the validation set (n_estimators = 37): 0.6276150627615062\n"
     ]
    }
   ],
   "source": [
    "#find the best random forest model with our downsampled data\n",
    "\n",
    "best_f1_score = 0\n",
    "best_est = 0\n",
    "for est in range(1, 50): # choose hyperparameter range\n",
    "    model = RandomForestClassifier(random_state=12345, n_estimators=est, max_depth=7, class_weight = 'balanced')\n",
    "    model.fit(features_downsampled, target_downsampled)\n",
    "    predictions = model.predict(feature_valid)\n",
    "    score = f1_score(target_valid, predictions)\n",
    "    if score > best_f1_score:\n",
    "        best_f1_score = score\n",
    "        best_est = est\n",
    "\n",
    "print(\"F1 score of the best model on the validation set (n_estimators = {}): {}\".format(best_est, best_f1_score))"
   ]
  },
  {
   "cell_type": "code",
   "execution_count": 29,
   "metadata": {},
   "outputs": [
    {
     "name": "stdout",
     "output_type": "stream",
     "text": [
      "F1 Score of our Random Forest model: 0.6006191950464397\n",
      "AUC-ROC score of our best Random Forest model on the test set: 0.8507340298109198\n"
     ]
    }
   ],
   "source": [
    "model = RandomForestClassifier(random_state=12345, max_depth = 7, n_estimators=37, class_weight='balanced')\n",
    "model.fit(features_downsampled, target_downsampled)\n",
    "predictions = model.predict(feature_test)\n",
    "score = f1_score(target_test, predictions)\n",
    "probabilities_test = model.predict_proba(feature_test)\n",
    "probabilities_one_test = probabilities_test[:, 1]\n",
    "auc_roc = roc_auc_score(target_test, probabilities_one_test)\n",
    "\n",
    "print(f\"F1 Score of our Random Forest model: {score}\")\n",
    "print(f\"AUC-ROC score of our best Random Forest model on the test set: {auc_roc}\")"
   ]
  },
  {
   "cell_type": "markdown",
   "metadata": {},
   "source": [
    "The F1 has dropped slightly, but still above the threshold. The AUC-ROC score has improved. Let's use the model with the improved AUC-ROC."
   ]
  },
  {
   "cell_type": "markdown",
   "metadata": {},
   "source": [
    "~~Our models may be suffering from overfitting, we can check our hyperparameters.~~"
   ]
  },
  {
   "cell_type": "markdown",
   "metadata": {},
   "source": [
    "~~#creating a random tree model and lowering our estimator range and keeping a fixed low max depth \n",
    "#we will also be balancing the class weight\n",
    "best_f1_score = 0\n",
    "best_est = 0\n",
    "for est in range(1, 10):\n",
    "    model = RandomForestClassifier(random_state=12345,max_depth =5, n_estimators=est, class_weight='balanced') #keep max_depth low\n",
    "    model.fit(feature_train, target_train)\n",
    "    predictions = model.predict(feature_valid)\n",
    "    score = f1_score(target_valid, predictions)\n",
    "    if score > best_f1_score:\n",
    "        best_f1_score = score\n",
    "        best_est = est\n",
    "print(\"F1 score of the best model on the validation set (n_estimators = {}): {}\".format(best_est, best_f1_score))~~"
   ]
  },
  {
   "cell_type": "markdown",
   "metadata": {},
   "source": [
    "~~model = RandomForestClassifier(random_state=12345,max_depth =5, n_estimators=9, class_weight='balanced') #using best model\n",
    "model.fit(feature_train, target_train)\n",
    "predictions = model.predict(feature_test)\n",
    "score = f1_score(target_test, predictions)\n",
    "print(f\"F1 Score of our Random Forest model: {score}\")~~"
   ]
  },
  {
   "cell_type": "markdown",
   "metadata": {},
   "source": [
    "~~Unfortunately we suffer the same fate as our model does not pass the test set. The random forest model may not be serving our purpose, let us retry with a logistic regression model using the downsampled data.~~"
   ]
  },
  {
   "cell_type": "markdown",
   "metadata": {},
   "source": [
    "~~#experiment with the fraction argument\n",
    "features_downsampled, target_downsampled = downsample(feature_train, target_train, 0.3)\n",
    "model_lr = LogisticRegression(random_state=12345, solver='liblinear', class_weight='balanced') #apply class weight balance\n",
    "model_lr = model_lr.fit(features_downsampled, target_downsampled)\n",
    "predictions = model_lr.predict(feature_valid)\n",
    "f1_score_lr = f1_score(target_valid, predictions)\n",
    "print(f\"F1 Score of our Logistic Regression model: {f1_score_lr}\")~~"
   ]
  },
  {
   "cell_type": "markdown",
   "metadata": {},
   "source": [
    "~~Small improvement, but still much left to be desired. Let's experiment with threshold adjustment and find the threshold with the highest F1 score.~~"
   ]
  },
  {
   "cell_type": "markdown",
   "metadata": {},
   "source": [
    "~~model = LogisticRegression(random_state=12345 ,class_weight='balanced')\n",
    "model.fit(features_downsampled, target_downsampled)\n",
    "probabilities_valid = model.predict_proba(feature_valid)\n",
    "probabilities_one_valid = probabilities_valid[:, 1]\n",
    "for threshold in np.arange(0.25, 0.8, 0.05):\n",
    "    predicted_valid = probabilities_one_valid > threshold\n",
    "    f1_score_lr = f1_score(target_valid, predicted_valid)\n",
    "    print('Threshold = {:.2f} | F1 Score = {:.2f}'.format(threshold, f1_score_lr))~~"
   ]
  },
  {
   "cell_type": "markdown",
   "metadata": {},
   "source": [
    "~~Shoot and a miss, our threshold adjustment only slightly moves the needle for us.~~"
   ]
  },
  {
   "cell_type": "markdown",
   "metadata": {},
   "source": [
    "<div class=\"alert alert-block alert-danger\">\n",
    "<b>Reviewer's comment V1</b> <a class=\"tocSkip\"></a>\n",
    "\n",
    "You forgot to scale test data. That's why the model quality on the test data is low for each model:)\n",
    "\n",
    "</div>"
   ]
  },
  {
   "cell_type": "markdown",
   "metadata": {},
   "source": [
    "<div class=\"alert alert-block alert-success\">\n",
    "<b>Reviewer's comment V2</b> <a class=\"tocSkip\"></a>\n",
    "\n",
    "Well done!\n",
    "\n",
    "</div>"
   ]
  },
  {
   "cell_type": "markdown",
   "metadata": {},
   "source": [
    "v2: Fixed and updated :)"
   ]
  },
  {
   "cell_type": "markdown",
   "metadata": {},
   "source": [
    "~~## Revisiting the Data and Rebalancing~~"
   ]
  },
  {
   "cell_type": "markdown",
   "metadata": {},
   "source": [
    "<div class=\"alert alert-block alert-danger\">\n",
    "<b>Reviewer's comment V1</b> <a class=\"tocSkip\"></a>\n",
    "\n",
    "After you fix the problem in the section 2 it's better to remove the section 3 because it will be a duplicate code.\n",
    "\n",
    "</div>"
   ]
  },
  {
   "cell_type": "markdown",
   "metadata": {},
   "source": [
    "<div class=\"alert alert-block alert-success\">\n",
    "<b>Reviewer's comment V2</b> <a class=\"tocSkip\"></a>\n",
    "\n",
    "Thank you:)\n",
    "\n",
    "</div>"
   ]
  },
  {
   "cell_type": "markdown",
   "metadata": {},
   "source": [
    "v2: Fixed and section no longer needed."
   ]
  },
  {
   "cell_type": "markdown",
   "metadata": {},
   "source": [
    "## Measure ROC Curve"
   ]
  },
  {
   "cell_type": "markdown",
   "metadata": {},
   "source": [
    "Let's see how our model compares to a random model by plotting a ROC curve. (v2)"
   ]
  },
  {
   "cell_type": "code",
   "execution_count": 30,
   "metadata": {},
   "outputs": [
    {
     "name": "stdout",
     "output_type": "stream",
     "text": [
      "0.8507340298109198\n"
     ]
    }
   ],
   "source": [
    "best_model = model\n",
    "probabilities_test = best_model.predict_proba(feature_test)\n",
    "probabilities_one_test = probabilities_test[:, 1]\n",
    "fpr, tpr, thresholds = roc_curve(target_test, probabilities_one_test)\n",
    "auc_roc = roc_auc_score(target_test, probabilities_one_test)\n",
    "print(auc_roc)"
   ]
  },
  {
   "cell_type": "code",
   "execution_count": 31,
   "metadata": {},
   "outputs": [
    {
     "data": {
      "image/png": "[encoded data removed]",
      "text/plain": [
       "<Figure size 640x480 with 1 Axes>"
      ]
     },
     "metadata": {},
     "output_type": "display_data"
    }
   ],
   "source": [
    "# Plot the ROC curve\n",
    "plt.plot(fpr, tpr)\n",
    "plt.plot([0, 1], [0, 1], linestyle='--')\n",
    "plt.xlim([0.0,1.0])\n",
    "plt.ylim([0.0,1.0])\n",
    "plt.xlabel(\"False Positive Rate\")\n",
    "plt.ylabel(\"True Positive Rate\")\n",
    "plt.title(\"ROC curve\")\n",
    "plt.show()"
   ]
  },
  {
   "cell_type": "markdown",
   "metadata": {},
   "source": [
    "We have now created a high quality model. The high curve represents a better TPR (true positive rate) that performs much better than a random model. "
   ]
  },
  {
   "cell_type": "markdown",
   "metadata": {},
   "source": [
    "<div class=\"alert alert-block alert-danger\">\n",
    "<b>Reviewer's comment V1</b> <a class=\"tocSkip\"></a>\n",
    "\n",
    "1. It's a bit weird to calculate f1 score on test data but roc-auc score on validation data for the best model:)\n",
    "2. Could you, please calculate roc-auc score each time you calculate f1 score? You have 2 metrics in this project and so you need to calculate them both each time. \n",
    "\n",
    "</div>"
   ]
  },
  {
   "cell_type": "markdown",
   "metadata": {},
   "source": [
    "<div class=\"alert alert-block alert-success\">\n",
    "<b>Reviewer's comment V2</b> <a class=\"tocSkip\"></a>\n",
    "\n",
    "Everything is correct. Good job!\n",
    "\n",
    "</div>"
   ]
  },
  {
   "cell_type": "markdown",
   "metadata": {},
   "source": [
    "v2: Fixed, AUC-ROC is used on test set and now presents better results :)"
   ]
  },
  {
   "cell_type": "markdown",
   "metadata": {},
   "source": [
    "# Conclusion"
   ]
  },
  {
   "cell_type": "markdown",
   "metadata": {},
   "source": [
    "We have tested several models, first not taking class balance into account, and then fine-tuning and fixing our class imbalance. It was certainly a tedious process, but we tested several models that were tested with unedited data, downsampled data, and scaled data. Scaling our data and downsampling proved to be quite helpful. Our final model was a random forest model using downsampled which met the minimum threshold for our F1 score of 0.59 on validation and test sets. The ROC curve also demonstrated that this model is significantly better than a random guessing model. "
   ]
  }
 ],
 "metadata": {
  "ExecuteTimeLog": [
   {
    "duration": 2586,
    "start_time": "2024-09-27T05:35:11.431Z"
   },
   {
    "duration": 40,
    "start_time": "2024-09-27T05:36:06.830Z"
   },
   {
    "duration": 24,
    "start_time": "2024-09-27T05:36:16.905Z"
   },
   {
    "duration": 24,
    "start_time": "2024-09-27T05:36:33.643Z"
   },
   {
    "duration": 24,
    "start_time": "2024-09-27T05:36:42.585Z"
   },
   {
    "duration": 25,
    "start_time": "2024-09-27T05:36:48.319Z"
   },
   {
    "duration": 879,
    "start_time": "2024-09-27T05:43:30.245Z"
   },
   {
    "duration": 4,
    "start_time": "2024-09-27T05:43:41.265Z"
   },
   {
    "duration": 36,
    "start_time": "2024-09-27T05:43:55.387Z"
   },
   {
    "duration": 35,
    "start_time": "2024-09-27T05:44:27.095Z"
   },
   {
    "duration": 35,
    "start_time": "2024-09-27T05:44:35.555Z"
   },
   {
    "duration": 3,
    "start_time": "2024-09-27T05:45:07.887Z"
   },
   {
    "duration": 24,
    "start_time": "2024-09-27T05:45:07.893Z"
   },
   {
    "duration": 34,
    "start_time": "2024-09-27T05:45:07.919Z"
   },
   {
    "duration": 13,
    "start_time": "2024-09-27T05:45:51.047Z"
   },
   {
    "duration": 29,
    "start_time": "2024-09-27T05:46:12.925Z"
   },
   {
    "duration": 5,
    "start_time": "2024-09-27T05:47:24.720Z"
   },
   {
    "duration": 13,
    "start_time": "2024-09-27T05:50:11.997Z"
   },
   {
    "duration": 7,
    "start_time": "2024-09-27T05:50:18.707Z"
   },
   {
    "duration": 5,
    "start_time": "2024-09-27T05:50:31.239Z"
   },
   {
    "duration": 10,
    "start_time": "2024-09-27T05:57:04.968Z"
   },
   {
    "duration": 10,
    "start_time": "2024-09-27T05:59:48.916Z"
   },
   {
    "duration": 6,
    "start_time": "2024-09-27T06:03:35.605Z"
   },
   {
    "duration": 5,
    "start_time": "2024-09-27T06:04:48.062Z"
   },
   {
    "duration": 12,
    "start_time": "2024-09-27T06:08:10.304Z"
   },
   {
    "duration": 868,
    "start_time": "2024-09-27T06:08:41.247Z"
   },
   {
    "duration": 34,
    "start_time": "2024-09-27T06:08:42.117Z"
   },
   {
    "duration": 19,
    "start_time": "2024-09-27T06:08:42.152Z"
   },
   {
    "duration": 10,
    "start_time": "2024-09-27T06:08:42.173Z"
   },
   {
    "duration": 6,
    "start_time": "2024-09-27T06:08:42.184Z"
   },
   {
    "duration": 5,
    "start_time": "2024-09-27T06:08:42.191Z"
   },
   {
    "duration": 5,
    "start_time": "2024-09-27T06:08:42.198Z"
   },
   {
    "duration": 12,
    "start_time": "2024-09-27T06:08:42.204Z"
   },
   {
    "duration": 689,
    "start_time": "2024-09-27T06:09:14.322Z"
   },
   {
    "duration": 43,
    "start_time": "2024-09-27T06:10:07.661Z"
   },
   {
    "duration": 170,
    "start_time": "2024-09-27T06:11:42.821Z"
   },
   {
    "duration": 882,
    "start_time": "2024-09-27T06:11:51.932Z"
   },
   {
    "duration": 32,
    "start_time": "2024-09-27T06:11:52.817Z"
   },
   {
    "duration": 9,
    "start_time": "2024-09-27T06:11:52.851Z"
   },
   {
    "duration": 10,
    "start_time": "2024-09-27T06:11:52.871Z"
   },
   {
    "duration": 5,
    "start_time": "2024-09-27T06:11:52.883Z"
   },
   {
    "duration": 6,
    "start_time": "2024-09-27T06:11:52.889Z"
   },
   {
    "duration": 5,
    "start_time": "2024-09-27T06:11:52.897Z"
   },
   {
    "duration": 12,
    "start_time": "2024-09-27T06:11:52.904Z"
   },
   {
    "duration": 642,
    "start_time": "2024-09-27T06:12:43.880Z"
   },
   {
    "duration": 916,
    "start_time": "2024-09-27T06:12:54.820Z"
   },
   {
    "duration": 37,
    "start_time": "2024-09-27T06:12:55.739Z"
   },
   {
    "duration": 10,
    "start_time": "2024-09-27T06:12:55.778Z"
   },
   {
    "duration": 9,
    "start_time": "2024-09-27T06:12:55.790Z"
   },
   {
    "duration": 6,
    "start_time": "2024-09-27T06:12:55.802Z"
   },
   {
    "duration": 5,
    "start_time": "2024-09-27T06:12:55.809Z"
   },
   {
    "duration": 5,
    "start_time": "2024-09-27T06:12:55.816Z"
   },
   {
    "duration": 51,
    "start_time": "2024-09-27T06:12:55.822Z"
   },
   {
    "duration": 11,
    "start_time": "2024-09-27T06:15:42.681Z"
   },
   {
    "duration": 2,
    "start_time": "2024-09-27T06:32:54.481Z"
   },
   {
    "duration": 29,
    "start_time": "2024-09-27T06:32:54.488Z"
   },
   {
    "duration": 11,
    "start_time": "2024-09-27T06:32:54.520Z"
   },
   {
    "duration": 11,
    "start_time": "2024-09-27T06:32:54.533Z"
   },
   {
    "duration": 6,
    "start_time": "2024-09-27T06:32:54.545Z"
   },
   {
    "duration": 5,
    "start_time": "2024-09-27T06:32:54.570Z"
   },
   {
    "duration": 6,
    "start_time": "2024-09-27T06:32:54.577Z"
   },
   {
    "duration": 12,
    "start_time": "2024-09-27T06:32:54.585Z"
   },
   {
    "duration": 9,
    "start_time": "2024-09-27T06:32:54.599Z"
   },
   {
    "duration": 8,
    "start_time": "2024-09-27T06:32:54.609Z"
   },
   {
    "duration": 8,
    "start_time": "2024-09-27T06:33:35.640Z"
   },
   {
    "duration": 3,
    "start_time": "2024-09-27T06:34:55.896Z"
   },
   {
    "duration": 460,
    "start_time": "2024-09-27T06:37:42.658Z"
   },
   {
    "duration": 71,
    "start_time": "2024-09-27T06:40:58.321Z"
   },
   {
    "duration": 884,
    "start_time": "2024-09-27T06:47:04.546Z"
   },
   {
    "duration": 39,
    "start_time": "2024-09-27T06:47:05.432Z"
   },
   {
    "duration": 10,
    "start_time": "2024-09-27T06:47:05.472Z"
   },
   {
    "duration": 9,
    "start_time": "2024-09-27T06:47:05.484Z"
   },
   {
    "duration": 6,
    "start_time": "2024-09-27T06:47:05.495Z"
   },
   {
    "duration": 5,
    "start_time": "2024-09-27T06:47:05.503Z"
   },
   {
    "duration": 5,
    "start_time": "2024-09-27T06:47:05.509Z"
   },
   {
    "duration": 14,
    "start_time": "2024-09-27T06:47:05.516Z"
   },
   {
    "duration": 47,
    "start_time": "2024-09-27T06:47:05.531Z"
   },
   {
    "duration": 8,
    "start_time": "2024-09-27T06:47:05.580Z"
   },
   {
    "duration": 3,
    "start_time": "2024-09-27T06:49:26.745Z"
   },
   {
    "duration": 428,
    "start_time": "2024-09-27T06:51:58.286Z"
   },
   {
    "duration": 14,
    "start_time": "2024-09-27T06:54:11.630Z"
   },
   {
    "duration": 7,
    "start_time": "2024-09-27T06:54:35.524Z"
   },
   {
    "duration": 4,
    "start_time": "2024-09-27T06:55:27.724Z"
   },
   {
    "duration": 6,
    "start_time": "2024-09-27T06:55:43.114Z"
   },
   {
    "duration": 920,
    "start_time": "2024-09-27T06:56:05.384Z"
   },
   {
    "duration": 38,
    "start_time": "2024-09-27T06:56:06.306Z"
   },
   {
    "duration": 24,
    "start_time": "2024-09-27T06:56:06.346Z"
   },
   {
    "duration": 9,
    "start_time": "2024-09-27T06:56:06.372Z"
   },
   {
    "duration": 5,
    "start_time": "2024-09-27T06:56:06.384Z"
   },
   {
    "duration": 6,
    "start_time": "2024-09-27T06:56:06.391Z"
   },
   {
    "duration": 5,
    "start_time": "2024-09-27T06:56:06.398Z"
   },
   {
    "duration": 5,
    "start_time": "2024-09-27T06:56:06.405Z"
   },
   {
    "duration": 14,
    "start_time": "2024-09-27T06:56:06.411Z"
   },
   {
    "duration": 45,
    "start_time": "2024-09-27T06:56:06.427Z"
   },
   {
    "duration": 8,
    "start_time": "2024-09-27T06:56:06.473Z"
   },
   {
    "duration": 884,
    "start_time": "2024-09-27T06:56:06.482Z"
   },
   {
    "duration": 582,
    "start_time": "2024-09-27T06:56:16.126Z"
   },
   {
    "duration": 4,
    "start_time": "2024-09-27T06:56:39.161Z"
   },
   {
    "duration": 5,
    "start_time": "2024-09-27T06:57:55.446Z"
   },
   {
    "duration": 615,
    "start_time": "2024-09-27T06:58:10.634Z"
   },
   {
    "duration": 590,
    "start_time": "2024-09-27T07:01:01.202Z"
   },
   {
    "duration": 578,
    "start_time": "2024-09-27T07:01:08.161Z"
   },
   {
    "duration": 874,
    "start_time": "2024-09-27T07:01:24.068Z"
   },
   {
    "duration": 37,
    "start_time": "2024-09-27T07:01:24.944Z"
   },
   {
    "duration": 9,
    "start_time": "2024-09-27T07:01:24.983Z"
   },
   {
    "duration": 10,
    "start_time": "2024-09-27T07:01:24.995Z"
   },
   {
    "duration": 5,
    "start_time": "2024-09-27T07:01:25.006Z"
   },
   {
    "duration": 6,
    "start_time": "2024-09-27T07:01:25.013Z"
   },
   {
    "duration": 5,
    "start_time": "2024-09-27T07:01:25.020Z"
   },
   {
    "duration": 5,
    "start_time": "2024-09-27T07:01:25.027Z"
   },
   {
    "duration": 13,
    "start_time": "2024-09-27T07:01:25.070Z"
   },
   {
    "duration": 8,
    "start_time": "2024-09-27T07:01:25.086Z"
   },
   {
    "duration": 7,
    "start_time": "2024-09-27T07:01:25.096Z"
   },
   {
    "duration": 600,
    "start_time": "2024-09-27T07:01:25.104Z"
   },
   {
    "duration": 839,
    "start_time": "2024-09-27T07:02:11.958Z"
   },
   {
    "duration": 934,
    "start_time": "2024-09-27T07:02:18.873Z"
   },
   {
    "duration": 32,
    "start_time": "2024-09-27T07:02:19.809Z"
   },
   {
    "duration": 9,
    "start_time": "2024-09-27T07:02:19.843Z"
   },
   {
    "duration": 23,
    "start_time": "2024-09-27T07:02:19.854Z"
   },
   {
    "duration": 5,
    "start_time": "2024-09-27T07:02:19.879Z"
   },
   {
    "duration": 7,
    "start_time": "2024-09-27T07:02:19.885Z"
   },
   {
    "duration": 5,
    "start_time": "2024-09-27T07:02:19.893Z"
   },
   {
    "duration": 5,
    "start_time": "2024-09-27T07:02:19.899Z"
   },
   {
    "duration": 13,
    "start_time": "2024-09-27T07:02:19.906Z"
   },
   {
    "duration": 8,
    "start_time": "2024-09-27T07:02:19.920Z"
   },
   {
    "duration": 46,
    "start_time": "2024-09-27T07:02:19.930Z"
   },
   {
    "duration": 869,
    "start_time": "2024-09-27T07:02:19.978Z"
   },
   {
    "duration": 577,
    "start_time": "2024-09-27T07:03:57.668Z"
   },
   {
    "duration": 4,
    "start_time": "2024-09-27T07:04:03.494Z"
   },
   {
    "duration": 30,
    "start_time": "2024-09-27T07:04:03.500Z"
   },
   {
    "duration": 10,
    "start_time": "2024-09-27T07:04:03.532Z"
   },
   {
    "duration": 8,
    "start_time": "2024-09-27T07:04:03.544Z"
   },
   {
    "duration": 5,
    "start_time": "2024-09-27T07:04:03.555Z"
   },
   {
    "duration": 14,
    "start_time": "2024-09-27T07:04:03.561Z"
   },
   {
    "duration": 5,
    "start_time": "2024-09-27T07:04:03.576Z"
   },
   {
    "duration": 6,
    "start_time": "2024-09-27T07:04:03.582Z"
   },
   {
    "duration": 13,
    "start_time": "2024-09-27T07:04:03.589Z"
   },
   {
    "duration": 9,
    "start_time": "2024-09-27T07:04:03.604Z"
   },
   {
    "duration": 7,
    "start_time": "2024-09-27T07:04:03.614Z"
   },
   {
    "duration": 618,
    "start_time": "2024-09-27T07:04:03.623Z"
   },
   {
    "duration": 891,
    "start_time": "2024-09-27T07:04:10.508Z"
   },
   {
    "duration": 31,
    "start_time": "2024-09-27T07:04:11.401Z"
   },
   {
    "duration": 9,
    "start_time": "2024-09-27T07:04:11.434Z"
   },
   {
    "duration": 9,
    "start_time": "2024-09-27T07:04:11.445Z"
   },
   {
    "duration": 5,
    "start_time": "2024-09-27T07:04:11.471Z"
   },
   {
    "duration": 6,
    "start_time": "2024-09-27T07:04:11.477Z"
   },
   {
    "duration": 4,
    "start_time": "2024-09-27T07:04:11.485Z"
   },
   {
    "duration": 5,
    "start_time": "2024-09-27T07:04:11.491Z"
   },
   {
    "duration": 13,
    "start_time": "2024-09-27T07:04:11.497Z"
   },
   {
    "duration": 9,
    "start_time": "2024-09-27T07:04:11.512Z"
   },
   {
    "duration": 7,
    "start_time": "2024-09-27T07:04:11.522Z"
   },
   {
    "duration": 856,
    "start_time": "2024-09-27T07:04:11.571Z"
   },
   {
    "duration": 596,
    "start_time": "2024-09-27T07:04:56.328Z"
   },
   {
    "duration": 3,
    "start_time": "2024-09-27T07:05:00.257Z"
   },
   {
    "duration": 30,
    "start_time": "2024-09-27T07:05:00.262Z"
   },
   {
    "duration": 10,
    "start_time": "2024-09-27T07:05:00.293Z"
   },
   {
    "duration": 10,
    "start_time": "2024-09-27T07:05:00.305Z"
   },
   {
    "duration": 4,
    "start_time": "2024-09-27T07:05:00.318Z"
   },
   {
    "duration": 6,
    "start_time": "2024-09-27T07:05:00.324Z"
   },
   {
    "duration": 5,
    "start_time": "2024-09-27T07:05:00.331Z"
   },
   {
    "duration": 8,
    "start_time": "2024-09-27T07:05:00.370Z"
   },
   {
    "duration": 14,
    "start_time": "2024-09-27T07:05:00.379Z"
   },
   {
    "duration": 9,
    "start_time": "2024-09-27T07:05:00.395Z"
   },
   {
    "duration": 8,
    "start_time": "2024-09-27T07:05:00.406Z"
   },
   {
    "duration": 600,
    "start_time": "2024-09-27T07:05:00.415Z"
   },
   {
    "duration": 580,
    "start_time": "2024-09-27T07:05:19.233Z"
   },
   {
    "duration": 3,
    "start_time": "2024-09-27T07:05:22.677Z"
   },
   {
    "duration": 29,
    "start_time": "2024-09-27T07:05:22.683Z"
   },
   {
    "duration": 9,
    "start_time": "2024-09-27T07:05:22.714Z"
   },
   {
    "duration": 9,
    "start_time": "2024-09-27T07:05:22.725Z"
   },
   {
    "duration": 5,
    "start_time": "2024-09-27T07:05:22.736Z"
   },
   {
    "duration": 30,
    "start_time": "2024-09-27T07:05:22.743Z"
   },
   {
    "duration": 5,
    "start_time": "2024-09-27T07:05:22.775Z"
   },
   {
    "duration": 6,
    "start_time": "2024-09-27T07:05:22.782Z"
   },
   {
    "duration": 13,
    "start_time": "2024-09-27T07:05:22.790Z"
   },
   {
    "duration": 9,
    "start_time": "2024-09-27T07:05:22.804Z"
   },
   {
    "duration": 7,
    "start_time": "2024-09-27T07:05:22.815Z"
   },
   {
    "duration": 605,
    "start_time": "2024-09-27T07:05:22.825Z"
   },
   {
    "duration": 3,
    "start_time": "2024-09-27T07:06:21.033Z"
   },
   {
    "duration": 4,
    "start_time": "2024-09-27T07:09:35.353Z"
   },
   {
    "duration": 29,
    "start_time": "2024-09-27T07:09:35.359Z"
   },
   {
    "duration": 9,
    "start_time": "2024-09-27T07:09:35.390Z"
   },
   {
    "duration": 10,
    "start_time": "2024-09-27T07:09:35.401Z"
   },
   {
    "duration": 5,
    "start_time": "2024-09-27T07:09:35.412Z"
   },
   {
    "duration": 5,
    "start_time": "2024-09-27T07:09:35.418Z"
   },
   {
    "duration": 4,
    "start_time": "2024-09-27T07:09:35.425Z"
   },
   {
    "duration": 6,
    "start_time": "2024-09-27T07:09:35.431Z"
   },
   {
    "duration": 14,
    "start_time": "2024-09-27T07:09:35.471Z"
   },
   {
    "duration": 8,
    "start_time": "2024-09-27T07:09:35.487Z"
   },
   {
    "duration": 7,
    "start_time": "2024-09-27T07:09:35.497Z"
   },
   {
    "duration": 336,
    "start_time": "2024-09-27T07:09:35.506Z"
   },
   {
    "duration": 2,
    "start_time": "2024-09-27T07:09:35.844Z"
   },
   {
    "duration": 3,
    "start_time": "2024-09-27T07:09:49.527Z"
   },
   {
    "duration": 30,
    "start_time": "2024-09-27T07:09:49.532Z"
   },
   {
    "duration": 9,
    "start_time": "2024-09-27T07:09:49.564Z"
   },
   {
    "duration": 10,
    "start_time": "2024-09-27T07:09:49.574Z"
   },
   {
    "duration": 5,
    "start_time": "2024-09-27T07:09:49.587Z"
   },
   {
    "duration": 6,
    "start_time": "2024-09-27T07:09:49.593Z"
   },
   {
    "duration": 5,
    "start_time": "2024-09-27T07:09:49.600Z"
   },
   {
    "duration": 5,
    "start_time": "2024-09-27T07:09:49.607Z"
   },
   {
    "duration": 13,
    "start_time": "2024-09-27T07:09:49.613Z"
   },
   {
    "duration": 50,
    "start_time": "2024-09-27T07:09:49.628Z"
   },
   {
    "duration": 7,
    "start_time": "2024-09-27T07:09:49.680Z"
   },
   {
    "duration": 585,
    "start_time": "2024-09-27T07:09:49.689Z"
   },
   {
    "duration": 2,
    "start_time": "2024-09-27T07:09:50.276Z"
   },
   {
    "duration": 41,
    "start_time": "2024-09-27T07:11:29.633Z"
   },
   {
    "duration": 3,
    "start_time": "2024-09-27T07:11:32.675Z"
   },
   {
    "duration": 29,
    "start_time": "2024-09-27T07:11:32.681Z"
   },
   {
    "duration": 10,
    "start_time": "2024-09-27T07:11:32.712Z"
   },
   {
    "duration": 9,
    "start_time": "2024-09-27T07:11:32.723Z"
   },
   {
    "duration": 6,
    "start_time": "2024-09-27T07:11:32.735Z"
   },
   {
    "duration": 32,
    "start_time": "2024-09-27T07:11:32.742Z"
   },
   {
    "duration": 5,
    "start_time": "2024-09-27T07:11:32.775Z"
   },
   {
    "duration": 5,
    "start_time": "2024-09-27T07:11:32.781Z"
   },
   {
    "duration": 13,
    "start_time": "2024-09-27T07:11:32.787Z"
   },
   {
    "duration": 9,
    "start_time": "2024-09-27T07:11:32.802Z"
   },
   {
    "duration": 7,
    "start_time": "2024-09-27T07:11:32.812Z"
   },
   {
    "duration": 612,
    "start_time": "2024-09-27T07:11:32.820Z"
   },
   {
    "duration": 45,
    "start_time": "2024-09-27T07:11:33.433Z"
   },
   {
    "duration": 3,
    "start_time": "2024-09-27T07:11:42.697Z"
   },
   {
    "duration": 28,
    "start_time": "2024-09-27T07:11:42.702Z"
   },
   {
    "duration": 10,
    "start_time": "2024-09-27T07:11:42.732Z"
   },
   {
    "duration": 9,
    "start_time": "2024-09-27T07:11:42.743Z"
   },
   {
    "duration": 6,
    "start_time": "2024-09-27T07:11:42.755Z"
   },
   {
    "duration": 9,
    "start_time": "2024-09-27T07:11:42.763Z"
   },
   {
    "duration": 4,
    "start_time": "2024-09-27T07:11:42.774Z"
   },
   {
    "duration": 5,
    "start_time": "2024-09-27T07:11:42.780Z"
   },
   {
    "duration": 13,
    "start_time": "2024-09-27T07:11:42.786Z"
   },
   {
    "duration": 9,
    "start_time": "2024-09-27T07:11:42.800Z"
   },
   {
    "duration": 8,
    "start_time": "2024-09-27T07:11:42.811Z"
   },
   {
    "duration": 608,
    "start_time": "2024-09-27T07:11:42.821Z"
   },
   {
    "duration": 49,
    "start_time": "2024-09-27T07:11:43.431Z"
   },
   {
    "duration": 864,
    "start_time": "2024-09-27T07:12:11.944Z"
   },
   {
    "duration": 32,
    "start_time": "2024-09-27T07:12:12.810Z"
   },
   {
    "duration": 9,
    "start_time": "2024-09-27T07:12:12.844Z"
   },
   {
    "duration": 21,
    "start_time": "2024-09-27T07:12:12.856Z"
   },
   {
    "duration": 5,
    "start_time": "2024-09-27T07:12:12.879Z"
   },
   {
    "duration": 6,
    "start_time": "2024-09-27T07:12:12.885Z"
   },
   {
    "duration": 5,
    "start_time": "2024-09-27T07:12:12.892Z"
   },
   {
    "duration": 5,
    "start_time": "2024-09-27T07:12:12.899Z"
   },
   {
    "duration": 14,
    "start_time": "2024-09-27T07:12:12.905Z"
   },
   {
    "duration": 8,
    "start_time": "2024-09-27T07:12:12.922Z"
   },
   {
    "duration": 44,
    "start_time": "2024-09-27T07:12:12.932Z"
   },
   {
    "duration": 593,
    "start_time": "2024-09-27T07:12:12.977Z"
   },
   {
    "duration": 317,
    "start_time": "2024-09-27T07:12:13.572Z"
   },
   {
    "duration": 31,
    "start_time": "2024-09-27T07:12:38.508Z"
   },
   {
    "duration": 43,
    "start_time": "2024-09-27T07:12:51.641Z"
   },
   {
    "duration": 42,
    "start_time": "2024-09-27T07:14:19.033Z"
   },
   {
    "duration": 3,
    "start_time": "2024-09-27T07:14:21.982Z"
   },
   {
    "duration": 31,
    "start_time": "2024-09-27T07:14:21.988Z"
   },
   {
    "duration": 9,
    "start_time": "2024-09-27T07:14:22.021Z"
   },
   {
    "duration": 10,
    "start_time": "2024-09-27T07:14:22.032Z"
   },
   {
    "duration": 5,
    "start_time": "2024-09-27T07:14:22.044Z"
   },
   {
    "duration": 23,
    "start_time": "2024-09-27T07:14:22.051Z"
   },
   {
    "duration": 4,
    "start_time": "2024-09-27T07:14:22.076Z"
   },
   {
    "duration": 5,
    "start_time": "2024-09-27T07:14:22.082Z"
   },
   {
    "duration": 13,
    "start_time": "2024-09-27T07:14:22.089Z"
   },
   {
    "duration": 9,
    "start_time": "2024-09-27T07:14:22.104Z"
   },
   {
    "duration": 8,
    "start_time": "2024-09-27T07:14:22.114Z"
   },
   {
    "duration": 607,
    "start_time": "2024-09-27T07:14:22.123Z"
   },
   {
    "duration": 37,
    "start_time": "2024-09-27T07:14:22.733Z"
   },
   {
    "duration": 575,
    "start_time": "2024-09-27T07:14:34.864Z"
   },
   {
    "duration": 8,
    "start_time": "2024-09-27T07:19:39.526Z"
   },
   {
    "duration": 18,
    "start_time": "2024-09-27T07:27:00.429Z"
   },
   {
    "duration": 18,
    "start_time": "2024-09-27T07:27:05.363Z"
   },
   {
    "duration": 17,
    "start_time": "2024-09-27T07:27:11.470Z"
   },
   {
    "duration": 20,
    "start_time": "2024-09-27T07:29:51.983Z"
   },
   {
    "duration": 574,
    "start_time": "2024-09-27T07:30:57.845Z"
   },
   {
    "duration": 574,
    "start_time": "2024-09-27T07:32:08.803Z"
   },
   {
    "duration": 579,
    "start_time": "2024-09-27T07:33:10.384Z"
   },
   {
    "duration": 583,
    "start_time": "2024-09-27T07:33:21.283Z"
   },
   {
    "duration": 32,
    "start_time": "2024-09-27T07:37:15.403Z"
   },
   {
    "duration": 3,
    "start_time": "2024-09-27T07:42:21.944Z"
   },
   {
    "duration": 16,
    "start_time": "2024-09-27T07:44:15.163Z"
   },
   {
    "duration": 15,
    "start_time": "2024-09-27T07:44:22.443Z"
   },
   {
    "duration": 16,
    "start_time": "2024-09-27T07:44:28.624Z"
   },
   {
    "duration": 15,
    "start_time": "2024-09-27T07:45:18.464Z"
   },
   {
    "duration": 16,
    "start_time": "2024-09-27T07:45:41.728Z"
   },
   {
    "duration": 32,
    "start_time": "2024-09-27T07:46:04.143Z"
   },
   {
    "duration": 176,
    "start_time": "2024-09-27T07:48:32.043Z"
   },
   {
    "duration": 16,
    "start_time": "2024-09-27T07:48:40.894Z"
   },
   {
    "duration": 25,
    "start_time": "2024-09-27T07:58:59.758Z"
   },
   {
    "duration": 219,
    "start_time": "2024-09-27T07:59:06.523Z"
   },
   {
    "duration": 2607,
    "start_time": "2024-09-27T08:00:48.705Z"
   },
   {
    "duration": 2616,
    "start_time": "2024-09-27T08:01:49.283Z"
   },
   {
    "duration": 2584,
    "start_time": "2024-09-27T08:02:09.043Z"
   },
   {
    "duration": 938,
    "start_time": "2024-09-27T08:02:40.072Z"
   },
   {
    "duration": 33,
    "start_time": "2024-09-27T08:02:41.012Z"
   },
   {
    "duration": 10,
    "start_time": "2024-09-27T08:02:41.047Z"
   },
   {
    "duration": 14,
    "start_time": "2024-09-27T08:02:41.058Z"
   },
   {
    "duration": 6,
    "start_time": "2024-09-27T08:02:41.075Z"
   },
   {
    "duration": 6,
    "start_time": "2024-09-27T08:02:41.082Z"
   },
   {
    "duration": 5,
    "start_time": "2024-09-27T08:02:41.090Z"
   },
   {
    "duration": 5,
    "start_time": "2024-09-27T08:02:41.097Z"
   },
   {
    "duration": 14,
    "start_time": "2024-09-27T08:02:41.104Z"
   },
   {
    "duration": 53,
    "start_time": "2024-09-27T08:02:41.120Z"
   },
   {
    "duration": 9,
    "start_time": "2024-09-27T08:02:41.175Z"
   },
   {
    "duration": 605,
    "start_time": "2024-09-27T08:02:41.185Z"
   },
   {
    "duration": 31,
    "start_time": "2024-09-27T08:02:41.792Z"
   },
   {
    "duration": 9,
    "start_time": "2024-09-27T08:02:41.826Z"
   },
   {
    "duration": 40,
    "start_time": "2024-09-27T08:02:41.837Z"
   },
   {
    "duration": 586,
    "start_time": "2024-09-27T08:02:41.879Z"
   },
   {
    "duration": 32,
    "start_time": "2024-09-27T08:02:42.470Z"
   },
   {
    "duration": 19,
    "start_time": "2024-09-27T08:02:42.503Z"
   },
   {
    "duration": 64,
    "start_time": "2024-09-27T08:02:42.523Z"
   },
   {
    "duration": 2759,
    "start_time": "2024-09-27T08:02:42.589Z"
   },
   {
    "duration": 4,
    "start_time": "2024-09-27T08:10:01.524Z"
   },
   {
    "duration": 231,
    "start_time": "2024-09-27T08:13:25.707Z"
   },
   {
    "duration": 14,
    "start_time": "2024-09-27T08:14:06.204Z"
   },
   {
    "duration": 66,
    "start_time": "2024-09-27T08:16:41.147Z"
   },
   {
    "duration": 63,
    "start_time": "2024-09-27T08:16:49.749Z"
   },
   {
    "duration": 207,
    "start_time": "2024-09-27T08:17:02.760Z"
   },
   {
    "duration": 63,
    "start_time": "2024-09-27T08:17:22.869Z"
   },
   {
    "duration": 76,
    "start_time": "2024-09-27T08:19:52.339Z"
   },
   {
    "duration": 920,
    "start_time": "2024-09-27T08:20:08.270Z"
   },
   {
    "duration": 32,
    "start_time": "2024-09-27T08:20:09.193Z"
   },
   {
    "duration": 9,
    "start_time": "2024-09-27T08:20:09.227Z"
   },
   {
    "duration": 9,
    "start_time": "2024-09-27T08:20:09.238Z"
   },
   {
    "duration": 24,
    "start_time": "2024-09-27T08:20:09.249Z"
   },
   {
    "duration": 5,
    "start_time": "2024-09-27T08:20:09.276Z"
   },
   {
    "duration": 6,
    "start_time": "2024-09-27T08:20:09.282Z"
   },
   {
    "duration": 5,
    "start_time": "2024-09-27T08:20:09.289Z"
   },
   {
    "duration": 13,
    "start_time": "2024-09-27T08:20:09.296Z"
   },
   {
    "duration": 10,
    "start_time": "2024-09-27T08:20:09.310Z"
   },
   {
    "duration": 8,
    "start_time": "2024-09-27T08:20:09.322Z"
   },
   {
    "duration": 617,
    "start_time": "2024-09-27T08:20:09.331Z"
   },
   {
    "duration": 39,
    "start_time": "2024-09-27T08:20:09.950Z"
   },
   {
    "duration": 7,
    "start_time": "2024-09-27T08:20:09.993Z"
   },
   {
    "duration": 22,
    "start_time": "2024-09-27T08:20:10.002Z"
   },
   {
    "duration": 597,
    "start_time": "2024-09-27T08:20:10.025Z"
   },
   {
    "duration": 31,
    "start_time": "2024-09-27T08:20:10.624Z"
   },
   {
    "duration": 29,
    "start_time": "2024-09-27T08:20:10.657Z"
   },
   {
    "duration": 87,
    "start_time": "2024-09-27T08:20:10.687Z"
   },
   {
    "duration": 2698,
    "start_time": "2024-09-27T08:20:10.776Z"
   },
   {
    "duration": 10,
    "start_time": "2024-09-27T08:20:13.475Z"
   },
   {
    "duration": 303,
    "start_time": "2024-09-27T08:20:13.486Z"
   },
   {
    "duration": 64,
    "start_time": "2024-09-27T08:20:16.568Z"
   },
   {
    "duration": 2566,
    "start_time": "2024-09-27T08:21:59.372Z"
   },
   {
    "duration": 7087,
    "start_time": "2024-09-27T08:23:47.107Z"
   },
   {
    "duration": 2579,
    "start_time": "2024-09-27T08:24:01.649Z"
   },
   {
    "duration": 986,
    "start_time": "2024-09-27T08:24:25.687Z"
   },
   {
    "duration": 2631,
    "start_time": "2024-09-27T08:24:51.547Z"
   },
   {
    "duration": 10256,
    "start_time": "2024-09-27T08:24:59.932Z"
   },
   {
    "duration": 2628,
    "start_time": "2024-09-27T08:25:16.448Z"
   },
   {
    "duration": 2607,
    "start_time": "2024-09-27T08:26:08.007Z"
   },
   {
    "duration": 28549,
    "start_time": "2024-09-27T08:26:50.308Z"
   },
   {
    "duration": 901,
    "start_time": "2024-09-27T08:28:44.103Z"
   },
   {
    "duration": 32,
    "start_time": "2024-09-27T08:28:45.006Z"
   },
   {
    "duration": 10,
    "start_time": "2024-09-27T08:28:45.040Z"
   },
   {
    "duration": 21,
    "start_time": "2024-09-27T08:28:45.051Z"
   },
   {
    "duration": 6,
    "start_time": "2024-09-27T08:28:45.076Z"
   },
   {
    "duration": 7,
    "start_time": "2024-09-27T08:28:45.083Z"
   },
   {
    "duration": 5,
    "start_time": "2024-09-27T08:28:45.091Z"
   },
   {
    "duration": 5,
    "start_time": "2024-09-27T08:28:45.097Z"
   },
   {
    "duration": 13,
    "start_time": "2024-09-27T08:28:45.104Z"
   },
   {
    "duration": 9,
    "start_time": "2024-09-27T08:28:45.119Z"
   },
   {
    "duration": 46,
    "start_time": "2024-09-27T08:28:45.130Z"
   },
   {
    "duration": 603,
    "start_time": "2024-09-27T08:28:45.178Z"
   },
   {
    "duration": 31,
    "start_time": "2024-09-27T08:28:45.783Z"
   },
   {
    "duration": 8,
    "start_time": "2024-09-27T08:28:45.818Z"
   },
   {
    "duration": 44,
    "start_time": "2024-09-27T08:28:45.828Z"
   },
   {
    "duration": 595,
    "start_time": "2024-09-27T08:28:45.875Z"
   },
   {
    "duration": 31,
    "start_time": "2024-09-27T08:28:46.471Z"
   },
   {
    "duration": 16,
    "start_time": "2024-09-27T08:28:46.504Z"
   },
   {
    "duration": 60,
    "start_time": "2024-09-27T08:28:46.521Z"
   },
   {
    "duration": 28540,
    "start_time": "2024-09-27T08:28:46.583Z"
   },
   {
    "duration": 13,
    "start_time": "2024-09-27T08:29:15.125Z"
   },
   {
    "duration": 28201,
    "start_time": "2024-09-27T08:29:15.140Z"
   },
   {
    "duration": 10146,
    "start_time": "2024-09-27T08:31:10.263Z"
   },
   {
    "duration": 9,
    "start_time": "2024-09-27T08:32:24.617Z"
   },
   {
    "duration": 18283,
    "start_time": "2024-09-27T08:32:27.082Z"
   },
   {
    "duration": 18306,
    "start_time": "2024-09-27T08:33:36.483Z"
   },
   {
    "duration": 10,
    "start_time": "2024-09-27T08:33:57.663Z"
   },
   {
    "duration": 13550,
    "start_time": "2024-09-27T08:33:59.903Z"
   },
   {
    "duration": 10,
    "start_time": "2024-09-27T08:34:20.723Z"
   },
   {
    "duration": 23458,
    "start_time": "2024-09-27T08:34:24.483Z"
   },
   {
    "duration": 202,
    "start_time": "2024-09-27T08:37:45.782Z"
   },
   {
    "duration": 206,
    "start_time": "2024-09-27T08:37:59.377Z"
   },
   {
    "duration": 204,
    "start_time": "2024-09-27T08:38:40.863Z"
   },
   {
    "duration": 926,
    "start_time": "2024-09-27T08:39:15.278Z"
   },
   {
    "duration": 32,
    "start_time": "2024-09-27T08:39:16.206Z"
   },
   {
    "duration": 9,
    "start_time": "2024-09-27T08:39:16.240Z"
   },
   {
    "duration": 21,
    "start_time": "2024-09-27T08:39:16.252Z"
   },
   {
    "duration": 5,
    "start_time": "2024-09-27T08:39:16.276Z"
   },
   {
    "duration": 6,
    "start_time": "2024-09-27T08:39:16.283Z"
   },
   {
    "duration": 4,
    "start_time": "2024-09-27T08:39:16.291Z"
   },
   {
    "duration": 5,
    "start_time": "2024-09-27T08:39:16.298Z"
   },
   {
    "duration": 17,
    "start_time": "2024-09-27T08:39:16.304Z"
   },
   {
    "duration": 54,
    "start_time": "2024-09-27T08:39:16.322Z"
   },
   {
    "duration": 9,
    "start_time": "2024-09-27T08:39:16.378Z"
   },
   {
    "duration": 597,
    "start_time": "2024-09-27T08:39:16.388Z"
   },
   {
    "duration": 32,
    "start_time": "2024-09-27T08:39:16.987Z"
   },
   {
    "duration": 8,
    "start_time": "2024-09-27T08:39:17.023Z"
   },
   {
    "duration": 41,
    "start_time": "2024-09-27T08:39:17.032Z"
   },
   {
    "duration": 595,
    "start_time": "2024-09-27T08:39:17.074Z"
   },
   {
    "duration": 31,
    "start_time": "2024-09-27T08:39:17.671Z"
   },
   {
    "duration": 19,
    "start_time": "2024-09-27T08:39:17.704Z"
   },
   {
    "duration": 59,
    "start_time": "2024-09-27T08:39:17.724Z"
   },
   {
    "duration": 28395,
    "start_time": "2024-09-27T08:39:17.787Z"
   },
   {
    "duration": 10,
    "start_time": "2024-09-27T08:39:46.184Z"
   },
   {
    "duration": 23398,
    "start_time": "2024-09-27T08:39:46.196Z"
   },
   {
    "duration": 214,
    "start_time": "2024-09-27T08:40:09.595Z"
   },
   {
    "duration": 231,
    "start_time": "2024-09-27T08:45:32.878Z"
   },
   {
    "duration": 46,
    "start_time": "2024-09-27T08:45:54.538Z"
   },
   {
    "duration": 47,
    "start_time": "2024-09-27T08:46:07.796Z"
   },
   {
    "duration": 46,
    "start_time": "2024-09-27T08:46:13.017Z"
   },
   {
    "duration": 49,
    "start_time": "2024-09-27T08:46:43.360Z"
   },
   {
    "duration": 48,
    "start_time": "2024-09-27T08:47:24.657Z"
   },
   {
    "duration": 50,
    "start_time": "2024-09-27T08:47:42.057Z"
   },
   {
    "duration": 50,
    "start_time": "2024-09-27T08:48:03.438Z"
   },
   {
    "duration": 16,
    "start_time": "2024-09-27T08:49:00.056Z"
   },
   {
    "duration": 914,
    "start_time": "2024-09-27T08:51:11.394Z"
   },
   {
    "duration": 34,
    "start_time": "2024-09-27T08:51:12.310Z"
   },
   {
    "duration": 10,
    "start_time": "2024-09-27T08:51:12.345Z"
   },
   {
    "duration": 10,
    "start_time": "2024-09-27T08:51:12.369Z"
   },
   {
    "duration": 5,
    "start_time": "2024-09-27T08:51:12.382Z"
   },
   {
    "duration": 7,
    "start_time": "2024-09-27T08:51:12.388Z"
   },
   {
    "duration": 5,
    "start_time": "2024-09-27T08:51:12.396Z"
   },
   {
    "duration": 5,
    "start_time": "2024-09-27T08:51:12.402Z"
   },
   {
    "duration": 13,
    "start_time": "2024-09-27T08:51:12.409Z"
   },
   {
    "duration": 49,
    "start_time": "2024-09-27T08:51:12.423Z"
   },
   {
    "duration": 9,
    "start_time": "2024-09-27T08:51:12.473Z"
   },
   {
    "duration": 581,
    "start_time": "2024-09-27T08:51:12.484Z"
   },
   {
    "duration": 31,
    "start_time": "2024-09-27T08:51:13.070Z"
   },
   {
    "duration": 8,
    "start_time": "2024-09-27T08:51:13.105Z"
   },
   {
    "duration": 21,
    "start_time": "2024-09-27T08:51:13.115Z"
   },
   {
    "duration": 607,
    "start_time": "2024-09-27T08:51:13.138Z"
   },
   {
    "duration": 35,
    "start_time": "2024-09-27T08:51:13.748Z"
   },
   {
    "duration": 20,
    "start_time": "2024-09-27T08:51:13.785Z"
   },
   {
    "duration": 66,
    "start_time": "2024-09-27T08:51:13.807Z"
   },
   {
    "duration": 28359,
    "start_time": "2024-09-27T08:51:13.875Z"
   },
   {
    "duration": 10,
    "start_time": "2024-09-27T08:51:42.236Z"
   },
   {
    "duration": 23601,
    "start_time": "2024-09-27T08:51:42.248Z"
   },
   {
    "duration": 213,
    "start_time": "2024-09-27T08:52:05.851Z"
   },
   {
    "duration": 52,
    "start_time": "2024-09-27T08:52:06.066Z"
   },
   {
    "duration": 4,
    "start_time": "2024-09-27T08:57:35.299Z"
   },
   {
    "duration": 681,
    "start_time": "2024-09-27T08:58:10.119Z"
   },
   {
    "duration": 212,
    "start_time": "2024-09-27T08:58:36.044Z"
   },
   {
    "duration": 23116,
    "start_time": "2024-09-27T09:03:15.059Z"
   },
   {
    "duration": 202,
    "start_time": "2024-09-27T09:03:43.739Z"
   },
   {
    "duration": 378,
    "start_time": "2024-09-27T09:03:50.800Z"
   },
   {
    "duration": 23354,
    "start_time": "2024-09-27T09:04:17.870Z"
   },
   {
    "duration": 387,
    "start_time": "2024-09-27T09:04:41.227Z"
   },
   {
    "duration": 207,
    "start_time": "2024-09-27T09:04:49.709Z"
   },
   {
    "duration": 869,
    "start_time": "2024-09-27T09:05:45.335Z"
   },
   {
    "duration": 34,
    "start_time": "2024-09-27T09:05:46.207Z"
   },
   {
    "duration": 10,
    "start_time": "2024-09-27T09:05:46.243Z"
   },
   {
    "duration": 20,
    "start_time": "2024-09-27T09:05:46.256Z"
   },
   {
    "duration": 5,
    "start_time": "2024-09-27T09:05:46.277Z"
   },
   {
    "duration": 6,
    "start_time": "2024-09-27T09:05:46.283Z"
   },
   {
    "duration": 5,
    "start_time": "2024-09-27T09:05:46.291Z"
   },
   {
    "duration": 6,
    "start_time": "2024-09-27T09:05:46.297Z"
   },
   {
    "duration": 18,
    "start_time": "2024-09-27T09:05:46.304Z"
   },
   {
    "duration": 42,
    "start_time": "2024-09-27T09:05:46.328Z"
   },
   {
    "duration": 9,
    "start_time": "2024-09-27T09:05:46.372Z"
   },
   {
    "duration": 600,
    "start_time": "2024-09-27T09:05:46.382Z"
   },
   {
    "duration": 31,
    "start_time": "2024-09-27T09:05:46.984Z"
   },
   {
    "duration": 8,
    "start_time": "2024-09-27T09:05:47.018Z"
   },
   {
    "duration": 21,
    "start_time": "2024-09-27T09:05:47.027Z"
   },
   {
    "duration": 603,
    "start_time": "2024-09-27T09:05:47.049Z"
   },
   {
    "duration": 35,
    "start_time": "2024-09-27T09:05:47.654Z"
   },
   {
    "duration": 18,
    "start_time": "2024-09-27T09:05:47.690Z"
   },
   {
    "duration": 70,
    "start_time": "2024-09-27T09:05:47.710Z"
   },
   {
    "duration": 28330,
    "start_time": "2024-09-27T09:05:47.785Z"
   },
   {
    "duration": 9,
    "start_time": "2024-09-27T09:06:16.117Z"
   },
   {
    "duration": 23249,
    "start_time": "2024-09-27T09:06:16.128Z"
   },
   {
    "duration": 212,
    "start_time": "2024-09-27T09:06:39.380Z"
   },
   {
    "duration": 49,
    "start_time": "2024-09-27T09:06:39.594Z"
   },
   {
    "duration": 9,
    "start_time": "2024-09-27T09:11:40.154Z"
   },
   {
    "duration": 6,
    "start_time": "2024-09-27T09:11:55.754Z"
   },
   {
    "duration": 5,
    "start_time": "2024-09-27T09:12:19.974Z"
   },
   {
    "duration": 7,
    "start_time": "2024-09-27T09:12:41.414Z"
   },
   {
    "duration": 155,
    "start_time": "2024-09-27T20:32:24.472Z"
   },
   {
    "duration": 2660,
    "start_time": "2024-09-27T20:32:28.002Z"
   },
   {
    "duration": 43,
    "start_time": "2024-09-27T20:32:30.664Z"
   },
   {
    "duration": 9,
    "start_time": "2024-09-27T20:32:30.709Z"
   },
   {
    "duration": 9,
    "start_time": "2024-09-27T20:32:30.721Z"
   },
   {
    "duration": 5,
    "start_time": "2024-09-27T20:32:30.733Z"
   },
   {
    "duration": 6,
    "start_time": "2024-09-27T20:32:30.740Z"
   },
   {
    "duration": 5,
    "start_time": "2024-09-27T20:32:30.748Z"
   },
   {
    "duration": 5,
    "start_time": "2024-09-27T20:32:30.754Z"
   },
   {
    "duration": 52,
    "start_time": "2024-09-27T20:32:30.760Z"
   },
   {
    "duration": 9,
    "start_time": "2024-09-27T20:32:30.814Z"
   },
   {
    "duration": 8,
    "start_time": "2024-09-27T20:32:30.825Z"
   },
   {
    "duration": 599,
    "start_time": "2024-09-27T20:32:30.834Z"
   },
   {
    "duration": 31,
    "start_time": "2024-09-27T20:32:31.435Z"
   },
   {
    "duration": 7,
    "start_time": "2024-09-27T20:32:31.470Z"
   },
   {
    "duration": 40,
    "start_time": "2024-09-27T20:32:31.479Z"
   },
   {
    "duration": 588,
    "start_time": "2024-09-27T20:32:31.521Z"
   },
   {
    "duration": 31,
    "start_time": "2024-09-27T20:32:32.111Z"
   },
   {
    "duration": 15,
    "start_time": "2024-09-27T20:32:32.143Z"
   },
   {
    "duration": 58,
    "start_time": "2024-09-27T20:32:32.160Z"
   },
   {
    "duration": 28409,
    "start_time": "2024-09-27T20:32:32.220Z"
   },
   {
    "duration": 10,
    "start_time": "2024-09-27T20:33:00.631Z"
   },
   {
    "duration": 23391,
    "start_time": "2024-09-27T20:33:00.643Z"
   },
   {
    "duration": 214,
    "start_time": "2024-09-27T20:33:24.035Z"
   },
   {
    "duration": 8,
    "start_time": "2024-09-27T20:33:24.251Z"
   },
   {
    "duration": 8,
    "start_time": "2024-09-27T20:33:24.261Z"
   },
   {
    "duration": 10,
    "start_time": "2024-09-27T20:33:24.270Z"
   },
   {
    "duration": 750,
    "start_time": "2024-09-27T20:40:08.422Z"
   },
   {
    "duration": 1286,
    "start_time": "2024-09-27T20:42:15.125Z"
   },
   {
    "duration": 918,
    "start_time": "2024-09-27T20:42:26.415Z"
   },
   {
    "duration": 32,
    "start_time": "2024-09-27T20:42:27.335Z"
   },
   {
    "duration": 9,
    "start_time": "2024-09-27T20:42:27.368Z"
   },
   {
    "duration": 26,
    "start_time": "2024-09-27T20:42:27.379Z"
   },
   {
    "duration": 4,
    "start_time": "2024-09-27T20:42:27.408Z"
   },
   {
    "duration": 6,
    "start_time": "2024-09-27T20:42:27.414Z"
   },
   {
    "duration": 5,
    "start_time": "2024-09-27T20:42:27.422Z"
   },
   {
    "duration": 6,
    "start_time": "2024-09-27T20:42:27.428Z"
   },
   {
    "duration": 13,
    "start_time": "2024-09-27T20:42:27.436Z"
   },
   {
    "duration": 9,
    "start_time": "2024-09-27T20:42:27.450Z"
   },
   {
    "duration": 46,
    "start_time": "2024-09-27T20:42:27.460Z"
   },
   {
    "duration": 586,
    "start_time": "2024-09-27T20:42:27.508Z"
   },
   {
    "duration": 38,
    "start_time": "2024-09-27T20:42:28.096Z"
   },
   {
    "duration": 8,
    "start_time": "2024-09-27T20:42:28.137Z"
   },
   {
    "duration": 21,
    "start_time": "2024-09-27T20:42:28.147Z"
   },
   {
    "duration": 596,
    "start_time": "2024-09-27T20:42:28.170Z"
   },
   {
    "duration": 37,
    "start_time": "2024-09-27T20:42:28.768Z"
   },
   {
    "duration": 16,
    "start_time": "2024-09-27T20:42:28.807Z"
   },
   {
    "duration": 84,
    "start_time": "2024-09-27T20:42:28.825Z"
   },
   {
    "duration": 28405,
    "start_time": "2024-09-27T20:42:28.911Z"
   },
   {
    "duration": 14,
    "start_time": "2024-09-27T20:42:57.318Z"
   },
   {
    "duration": 23336,
    "start_time": "2024-09-27T20:42:57.334Z"
   },
   {
    "duration": 212,
    "start_time": "2024-09-27T20:43:20.671Z"
   },
   {
    "duration": 9,
    "start_time": "2024-09-27T20:43:20.884Z"
   },
   {
    "duration": 7,
    "start_time": "2024-09-27T20:43:20.906Z"
   },
   {
    "duration": 13,
    "start_time": "2024-09-27T20:43:20.915Z"
   },
   {
    "duration": 1040,
    "start_time": "2024-09-27T20:43:20.930Z"
   },
   {
    "duration": 307,
    "start_time": "2024-09-27T20:44:36.963Z"
   },
   {
    "duration": 329,
    "start_time": "2024-09-27T20:44:45.338Z"
   },
   {
    "duration": 361,
    "start_time": "2024-09-27T20:44:50.797Z"
   },
   {
    "duration": 225,
    "start_time": "2024-09-27T20:44:54.420Z"
   },
   {
    "duration": 256,
    "start_time": "2024-09-27T20:44:58.041Z"
   },
   {
    "duration": 290,
    "start_time": "2024-09-27T20:45:01.163Z"
   },
   {
    "duration": 313,
    "start_time": "2024-09-27T20:45:03.838Z"
   },
   {
    "duration": 12017,
    "start_time": "2024-09-27T20:46:03.152Z"
   },
   {
    "duration": 158,
    "start_time": "2024-09-27T20:46:23.536Z"
   },
   {
    "duration": 166,
    "start_time": "2024-09-27T20:46:26.179Z"
   },
   {
    "duration": 207,
    "start_time": "2024-09-27T20:46:28.805Z"
   },
   {
    "duration": 147,
    "start_time": "2024-09-27T20:46:31.096Z"
   },
   {
    "duration": 911,
    "start_time": "2024-09-27T20:47:52.081Z"
   },
   {
    "duration": 909,
    "start_time": "2024-09-27T20:48:04.324Z"
   },
   {
    "duration": 51,
    "start_time": "2024-09-27T20:48:05.235Z"
   },
   {
    "duration": 9,
    "start_time": "2024-09-27T20:48:05.287Z"
   },
   {
    "duration": 9,
    "start_time": "2024-09-27T20:48:05.298Z"
   },
   {
    "duration": 5,
    "start_time": "2024-09-27T20:48:05.309Z"
   },
   {
    "duration": 6,
    "start_time": "2024-09-27T20:48:05.315Z"
   },
   {
    "duration": 5,
    "start_time": "2024-09-27T20:48:05.322Z"
   },
   {
    "duration": 6,
    "start_time": "2024-09-27T20:48:05.328Z"
   },
   {
    "duration": 13,
    "start_time": "2024-09-27T20:48:05.335Z"
   },
   {
    "duration": 9,
    "start_time": "2024-09-27T20:48:05.350Z"
   },
   {
    "duration": 8,
    "start_time": "2024-09-27T20:48:05.360Z"
   },
   {
    "duration": 615,
    "start_time": "2024-09-27T20:48:05.369Z"
   },
   {
    "duration": 39,
    "start_time": "2024-09-27T20:48:05.987Z"
   },
   {
    "duration": 8,
    "start_time": "2024-09-27T20:48:06.029Z"
   },
   {
    "duration": 21,
    "start_time": "2024-09-27T20:48:06.038Z"
   },
   {
    "duration": 599,
    "start_time": "2024-09-27T20:48:06.062Z"
   },
   {
    "duration": 32,
    "start_time": "2024-09-27T20:48:06.663Z"
   },
   {
    "duration": 21,
    "start_time": "2024-09-27T20:48:06.696Z"
   },
   {
    "duration": 88,
    "start_time": "2024-09-27T20:48:06.719Z"
   },
   {
    "duration": 28343,
    "start_time": "2024-09-27T20:48:06.811Z"
   },
   {
    "duration": 10,
    "start_time": "2024-09-27T20:48:35.156Z"
   },
   {
    "duration": 23501,
    "start_time": "2024-09-27T20:48:35.168Z"
   },
   {
    "duration": 218,
    "start_time": "2024-09-27T20:48:58.671Z"
   },
   {
    "duration": 15,
    "start_time": "2024-09-27T20:48:58.891Z"
   },
   {
    "duration": 7,
    "start_time": "2024-09-27T20:48:58.907Z"
   },
   {
    "duration": 12,
    "start_time": "2024-09-27T20:48:58.916Z"
   },
   {
    "duration": 165,
    "start_time": "2024-09-27T20:48:58.929Z"
   },
   {
    "duration": 897,
    "start_time": "2024-09-27T20:49:32.081Z"
   },
   {
    "duration": 52,
    "start_time": "2024-09-27T20:49:32.981Z"
   },
   {
    "duration": 10,
    "start_time": "2024-09-27T20:49:33.035Z"
   },
   {
    "duration": 10,
    "start_time": "2024-09-27T20:49:33.046Z"
   },
   {
    "duration": 5,
    "start_time": "2024-09-27T20:49:33.058Z"
   },
   {
    "duration": 7,
    "start_time": "2024-09-27T20:49:33.064Z"
   },
   {
    "duration": 5,
    "start_time": "2024-09-27T20:49:33.072Z"
   },
   {
    "duration": 33,
    "start_time": "2024-09-27T20:49:33.078Z"
   },
   {
    "duration": 17,
    "start_time": "2024-09-27T20:49:33.113Z"
   },
   {
    "duration": 9,
    "start_time": "2024-09-27T20:49:33.131Z"
   },
   {
    "duration": 8,
    "start_time": "2024-09-27T20:49:33.141Z"
   },
   {
    "duration": 628,
    "start_time": "2024-09-27T20:49:33.150Z"
   },
   {
    "duration": 35,
    "start_time": "2024-09-27T20:49:33.780Z"
   },
   {
    "duration": 8,
    "start_time": "2024-09-27T20:49:33.819Z"
   },
   {
    "duration": 20,
    "start_time": "2024-09-27T20:49:33.828Z"
   },
   {
    "duration": 599,
    "start_time": "2024-09-27T20:49:33.849Z"
   },
   {
    "duration": 31,
    "start_time": "2024-09-27T20:49:34.450Z"
   },
   {
    "duration": 33,
    "start_time": "2024-09-27T20:49:34.482Z"
   },
   {
    "duration": 92,
    "start_time": "2024-09-27T20:49:34.516Z"
   },
   {
    "duration": 1926,
    "start_time": "2024-09-27T20:49:34.611Z"
   },
   {
    "duration": 15,
    "start_time": "2024-09-27T20:49:36.538Z"
   },
   {
    "duration": 5940,
    "start_time": "2024-09-27T20:49:36.555Z"
   },
   {
    "duration": 218,
    "start_time": "2024-09-27T20:49:42.497Z"
   },
   {
    "duration": 9,
    "start_time": "2024-09-27T20:49:42.718Z"
   },
   {
    "duration": 8,
    "start_time": "2024-09-27T20:49:42.729Z"
   },
   {
    "duration": 12,
    "start_time": "2024-09-27T20:49:42.739Z"
   },
   {
    "duration": 172,
    "start_time": "2024-09-27T20:49:42.752Z"
   },
   {
    "duration": 152,
    "start_time": "2024-09-27T20:50:39.445Z"
   },
   {
    "duration": 869,
    "start_time": "2024-09-27T20:52:44.479Z"
   },
   {
    "duration": 32,
    "start_time": "2024-09-27T20:52:45.350Z"
   },
   {
    "duration": 9,
    "start_time": "2024-09-27T20:52:45.383Z"
   },
   {
    "duration": 10,
    "start_time": "2024-09-27T20:52:45.405Z"
   },
   {
    "duration": 6,
    "start_time": "2024-09-27T20:52:45.417Z"
   },
   {
    "duration": 6,
    "start_time": "2024-09-27T20:52:45.425Z"
   },
   {
    "duration": 4,
    "start_time": "2024-09-27T20:52:45.433Z"
   },
   {
    "duration": 5,
    "start_time": "2024-09-27T20:52:45.439Z"
   },
   {
    "duration": 13,
    "start_time": "2024-09-27T20:52:45.446Z"
   },
   {
    "duration": 50,
    "start_time": "2024-09-27T20:52:45.460Z"
   },
   {
    "duration": 7,
    "start_time": "2024-09-27T20:52:45.512Z"
   },
   {
    "duration": 585,
    "start_time": "2024-09-27T20:52:45.521Z"
   },
   {
    "duration": 30,
    "start_time": "2024-09-27T20:52:46.108Z"
   },
   {
    "duration": 8,
    "start_time": "2024-09-27T20:52:46.141Z"
   },
   {
    "duration": 20,
    "start_time": "2024-09-27T20:52:46.151Z"
   },
   {
    "duration": 602,
    "start_time": "2024-09-27T20:52:46.173Z"
   },
   {
    "duration": 39,
    "start_time": "2024-09-27T20:52:46.777Z"
   },
   {
    "duration": 19,
    "start_time": "2024-09-27T20:52:46.818Z"
   },
   {
    "duration": 79,
    "start_time": "2024-09-27T20:52:46.839Z"
   },
   {
    "duration": 1947,
    "start_time": "2024-09-27T20:52:46.920Z"
   },
   {
    "duration": 10,
    "start_time": "2024-09-27T20:52:48.868Z"
   },
   {
    "duration": 5958,
    "start_time": "2024-09-27T20:52:48.880Z"
   },
   {
    "duration": 206,
    "start_time": "2024-09-27T20:52:54.840Z"
   },
   {
    "duration": 8,
    "start_time": "2024-09-27T20:52:55.048Z"
   },
   {
    "duration": 7,
    "start_time": "2024-09-27T20:52:55.058Z"
   },
   {
    "duration": 9,
    "start_time": "2024-09-27T20:52:55.067Z"
   },
   {
    "duration": 218,
    "start_time": "2024-09-27T20:52:55.077Z"
   },
   {
    "duration": 3,
    "start_time": "2024-09-27T20:53:45.027Z"
   },
   {
    "duration": 29,
    "start_time": "2024-09-27T20:53:45.032Z"
   },
   {
    "duration": 9,
    "start_time": "2024-09-27T20:53:45.063Z"
   },
   {
    "duration": 8,
    "start_time": "2024-09-27T20:53:45.075Z"
   },
   {
    "duration": 4,
    "start_time": "2024-09-27T20:53:45.087Z"
   },
   {
    "duration": 16,
    "start_time": "2024-09-27T20:53:45.093Z"
   },
   {
    "duration": 5,
    "start_time": "2024-09-27T20:53:45.110Z"
   },
   {
    "duration": 5,
    "start_time": "2024-09-27T20:53:45.117Z"
   },
   {
    "duration": 14,
    "start_time": "2024-09-27T20:53:45.123Z"
   },
   {
    "duration": 8,
    "start_time": "2024-09-27T20:53:45.138Z"
   },
   {
    "duration": 6,
    "start_time": "2024-09-27T20:53:45.148Z"
   },
   {
    "duration": 608,
    "start_time": "2024-09-27T20:53:45.156Z"
   },
   {
    "duration": 40,
    "start_time": "2024-09-27T20:53:45.765Z"
   },
   {
    "duration": 8,
    "start_time": "2024-09-27T20:53:45.809Z"
   },
   {
    "duration": 19,
    "start_time": "2024-09-27T20:53:45.819Z"
   },
   {
    "duration": 587,
    "start_time": "2024-09-27T20:53:45.840Z"
   },
   {
    "duration": 31,
    "start_time": "2024-09-27T20:53:46.429Z"
   },
   {
    "duration": 45,
    "start_time": "2024-09-27T20:53:46.462Z"
   },
   {
    "duration": 95,
    "start_time": "2024-09-27T20:53:46.512Z"
   },
   {
    "duration": 1848,
    "start_time": "2024-09-27T20:53:46.611Z"
   },
   {
    "duration": 11,
    "start_time": "2024-09-27T20:53:48.461Z"
   },
   {
    "duration": 5962,
    "start_time": "2024-09-27T20:53:48.475Z"
   },
   {
    "duration": 210,
    "start_time": "2024-09-27T20:53:54.439Z"
   },
   {
    "duration": 9,
    "start_time": "2024-09-27T20:53:54.650Z"
   },
   {
    "duration": 8,
    "start_time": "2024-09-27T20:53:54.660Z"
   },
   {
    "duration": 9,
    "start_time": "2024-09-27T20:53:54.669Z"
   },
   {
    "duration": 216,
    "start_time": "2024-09-27T20:53:54.679Z"
   },
   {
    "duration": 3,
    "start_time": "2024-09-27T20:54:20.059Z"
   },
   {
    "duration": 30,
    "start_time": "2024-09-27T20:54:20.065Z"
   },
   {
    "duration": 8,
    "start_time": "2024-09-27T20:54:20.097Z"
   },
   {
    "duration": 9,
    "start_time": "2024-09-27T20:54:20.107Z"
   },
   {
    "duration": 4,
    "start_time": "2024-09-27T20:54:20.118Z"
   },
   {
    "duration": 6,
    "start_time": "2024-09-27T20:54:20.124Z"
   },
   {
    "duration": 6,
    "start_time": "2024-09-27T20:54:20.132Z"
   },
   {
    "duration": 5,
    "start_time": "2024-09-27T20:54:20.139Z"
   },
   {
    "duration": 14,
    "start_time": "2024-09-27T20:54:20.146Z"
   },
   {
    "duration": 45,
    "start_time": "2024-09-27T20:54:20.163Z"
   },
   {
    "duration": 7,
    "start_time": "2024-09-27T20:54:20.211Z"
   },
   {
    "duration": 578,
    "start_time": "2024-09-27T20:54:20.220Z"
   },
   {
    "duration": 32,
    "start_time": "2024-09-27T20:54:20.800Z"
   },
   {
    "duration": 9,
    "start_time": "2024-09-27T20:54:20.834Z"
   },
   {
    "duration": 19,
    "start_time": "2024-09-27T20:54:20.845Z"
   },
   {
    "duration": 593,
    "start_time": "2024-09-27T20:54:20.866Z"
   },
   {
    "duration": 31,
    "start_time": "2024-09-27T20:54:21.461Z"
   },
   {
    "duration": 27,
    "start_time": "2024-09-27T20:54:21.494Z"
   },
   {
    "duration": 87,
    "start_time": "2024-09-27T20:54:21.523Z"
   },
   {
    "duration": 1915,
    "start_time": "2024-09-27T20:54:21.611Z"
   },
   {
    "duration": 10,
    "start_time": "2024-09-27T20:54:23.527Z"
   },
   {
    "duration": 5917,
    "start_time": "2024-09-27T20:54:23.539Z"
   },
   {
    "duration": 211,
    "start_time": "2024-09-27T20:54:29.458Z"
   },
   {
    "duration": 10,
    "start_time": "2024-09-27T20:54:29.671Z"
   },
   {
    "duration": 22,
    "start_time": "2024-09-27T20:54:29.683Z"
   },
   {
    "duration": 7,
    "start_time": "2024-09-27T20:54:29.708Z"
   },
   {
    "duration": 198,
    "start_time": "2024-09-27T20:54:29.717Z"
   },
   {
    "duration": 842,
    "start_time": "2024-09-27T20:56:26.899Z"
   },
   {
    "duration": 32,
    "start_time": "2024-09-27T20:56:27.743Z"
   },
   {
    "duration": 9,
    "start_time": "2024-09-27T20:56:27.777Z"
   },
   {
    "duration": 21,
    "start_time": "2024-09-27T20:56:27.788Z"
   },
   {
    "duration": 5,
    "start_time": "2024-09-27T20:56:27.811Z"
   },
   {
    "duration": 7,
    "start_time": "2024-09-27T20:56:27.817Z"
   },
   {
    "duration": 5,
    "start_time": "2024-09-27T20:56:27.825Z"
   },
   {
    "duration": 4,
    "start_time": "2024-09-27T20:56:27.832Z"
   },
   {
    "duration": 13,
    "start_time": "2024-09-27T20:56:27.838Z"
   },
   {
    "duration": 8,
    "start_time": "2024-09-27T20:56:27.853Z"
   },
   {
    "duration": 48,
    "start_time": "2024-09-27T20:56:27.863Z"
   },
   {
    "duration": 583,
    "start_time": "2024-09-27T20:56:27.912Z"
   },
   {
    "duration": 36,
    "start_time": "2024-09-27T20:56:28.496Z"
   },
   {
    "duration": 8,
    "start_time": "2024-09-27T20:56:28.534Z"
   },
   {
    "duration": 22,
    "start_time": "2024-09-27T20:56:28.543Z"
   },
   {
    "duration": 602,
    "start_time": "2024-09-27T20:56:28.566Z"
   },
   {
    "duration": 35,
    "start_time": "2024-09-27T20:56:29.170Z"
   },
   {
    "duration": 15,
    "start_time": "2024-09-27T20:56:29.206Z"
   },
   {
    "duration": 13,
    "start_time": "2024-09-27T20:56:29.223Z"
   },
   {
    "duration": 1993,
    "start_time": "2024-09-27T20:56:29.238Z"
   },
   {
    "duration": 10,
    "start_time": "2024-09-27T20:56:31.233Z"
   },
   {
    "duration": 5983,
    "start_time": "2024-09-27T20:56:31.244Z"
   },
   {
    "duration": 212,
    "start_time": "2024-09-27T20:56:37.229Z"
   },
   {
    "duration": 2,
    "start_time": "2024-09-27T20:56:37.442Z"
   },
   {
    "duration": 202,
    "start_time": "2024-09-27T20:56:37.446Z"
   },
   {
    "duration": 4,
    "start_time": "2024-09-27T20:57:52.458Z"
   },
   {
    "duration": 29,
    "start_time": "2024-09-27T20:57:52.464Z"
   },
   {
    "duration": 11,
    "start_time": "2024-09-27T20:57:52.495Z"
   },
   {
    "duration": 10,
    "start_time": "2024-09-27T20:57:52.507Z"
   },
   {
    "duration": 5,
    "start_time": "2024-09-27T20:57:52.520Z"
   },
   {
    "duration": 5,
    "start_time": "2024-09-27T20:57:52.527Z"
   },
   {
    "duration": 5,
    "start_time": "2024-09-27T20:57:52.533Z"
   },
   {
    "duration": 5,
    "start_time": "2024-09-27T20:57:52.540Z"
   },
   {
    "duration": 12,
    "start_time": "2024-09-27T20:57:52.547Z"
   },
   {
    "duration": 46,
    "start_time": "2024-09-27T20:57:52.560Z"
   },
   {
    "duration": 9,
    "start_time": "2024-09-27T20:57:52.608Z"
   },
   {
    "duration": 595,
    "start_time": "2024-09-27T20:57:52.619Z"
   },
   {
    "duration": 31,
    "start_time": "2024-09-27T20:57:53.216Z"
   },
   {
    "duration": 8,
    "start_time": "2024-09-27T20:57:53.251Z"
   },
   {
    "duration": 20,
    "start_time": "2024-09-27T20:57:53.261Z"
   },
   {
    "duration": 600,
    "start_time": "2024-09-27T20:57:53.282Z"
   },
   {
    "duration": 40,
    "start_time": "2024-09-27T20:57:53.884Z"
   },
   {
    "duration": 15,
    "start_time": "2024-09-27T20:57:53.925Z"
   },
   {
    "duration": 66,
    "start_time": "2024-09-27T20:57:53.942Z"
   },
   {
    "duration": 1874,
    "start_time": "2024-09-27T20:57:54.010Z"
   },
   {
    "duration": 20,
    "start_time": "2024-09-27T20:57:55.886Z"
   },
   {
    "duration": 5926,
    "start_time": "2024-09-27T20:57:55.907Z"
   },
   {
    "duration": 213,
    "start_time": "2024-09-27T20:58:01.835Z"
   },
   {
    "duration": 199,
    "start_time": "2024-09-27T20:58:02.049Z"
   },
   {
    "duration": 40,
    "start_time": "2024-09-27T20:59:58.591Z"
   },
   {
    "duration": 588,
    "start_time": "2024-09-27T21:04:33.257Z"
   },
   {
    "duration": 485,
    "start_time": "2024-09-27T21:04:44.407Z"
   },
   {
    "duration": 526,
    "start_time": "2024-09-27T21:04:47.238Z"
   },
   {
    "duration": 528,
    "start_time": "2024-09-27T21:04:50.236Z"
   },
   {
    "duration": 582,
    "start_time": "2024-09-27T21:04:51.737Z"
   },
   {
    "duration": 642,
    "start_time": "2024-09-27T21:04:54.477Z"
   },
   {
    "duration": 688,
    "start_time": "2024-09-27T21:04:57.280Z"
   },
   {
    "duration": 743,
    "start_time": "2024-09-27T21:05:01.741Z"
   },
   {
    "duration": 840,
    "start_time": "2024-09-27T21:05:05.220Z"
   },
   {
    "duration": 686,
    "start_time": "2024-09-27T21:05:08.348Z"
   },
   {
    "duration": 642,
    "start_time": "2024-09-27T21:05:10.997Z"
   },
   {
    "duration": 586,
    "start_time": "2024-09-27T21:05:13.057Z"
   },
   {
    "duration": 58,
    "start_time": "2024-09-27T21:05:56.816Z"
   },
   {
    "duration": 467,
    "start_time": "2024-09-27T21:06:21.821Z"
   },
   {
    "duration": 525,
    "start_time": "2024-09-27T21:06:25.319Z"
   },
   {
    "duration": 152,
    "start_time": "2024-09-27T21:06:32.137Z"
   },
   {
    "duration": 30,
    "start_time": "2024-09-27T21:06:45.918Z"
   },
   {
    "duration": 8,
    "start_time": "2024-09-27T21:08:22.087Z"
   },
   {
    "duration": 866,
    "start_time": "2024-09-27T21:09:56.694Z"
   },
   {
    "duration": 32,
    "start_time": "2024-09-27T21:09:57.562Z"
   },
   {
    "duration": 18,
    "start_time": "2024-09-27T21:09:57.595Z"
   },
   {
    "duration": 10,
    "start_time": "2024-09-27T21:09:57.615Z"
   },
   {
    "duration": 5,
    "start_time": "2024-09-27T21:09:57.628Z"
   },
   {
    "duration": 5,
    "start_time": "2024-09-27T21:09:57.634Z"
   },
   {
    "duration": 5,
    "start_time": "2024-09-27T21:09:57.641Z"
   },
   {
    "duration": 6,
    "start_time": "2024-09-27T21:09:57.647Z"
   },
   {
    "duration": 51,
    "start_time": "2024-09-27T21:09:57.654Z"
   },
   {
    "duration": 8,
    "start_time": "2024-09-27T21:09:57.707Z"
   },
   {
    "duration": 9,
    "start_time": "2024-09-27T21:09:57.717Z"
   },
   {
    "duration": 590,
    "start_time": "2024-09-27T21:09:57.727Z"
   },
   {
    "duration": 32,
    "start_time": "2024-09-27T21:09:58.319Z"
   },
   {
    "duration": 8,
    "start_time": "2024-09-27T21:09:58.355Z"
   },
   {
    "duration": 20,
    "start_time": "2024-09-27T21:09:58.365Z"
   },
   {
    "duration": 589,
    "start_time": "2024-09-27T21:09:58.406Z"
   },
   {
    "duration": 37,
    "start_time": "2024-09-27T21:09:58.997Z"
   },
   {
    "duration": 19,
    "start_time": "2024-09-27T21:09:59.035Z"
   },
   {
    "duration": 63,
    "start_time": "2024-09-27T21:09:59.055Z"
   },
   {
    "duration": 1971,
    "start_time": "2024-09-27T21:09:59.121Z"
   },
   {
    "duration": 14,
    "start_time": "2024-09-27T21:10:01.095Z"
   },
   {
    "duration": 5978,
    "start_time": "2024-09-27T21:10:01.110Z"
   },
   {
    "duration": 211,
    "start_time": "2024-09-27T21:10:07.090Z"
   },
   {
    "duration": 194,
    "start_time": "2024-09-27T21:10:07.305Z"
   },
   {
    "duration": 39,
    "start_time": "2024-09-27T21:10:07.500Z"
   },
   {
    "duration": 159,
    "start_time": "2024-09-27T21:10:07.540Z"
   },
   {
    "duration": 30,
    "start_time": "2024-09-27T21:10:07.701Z"
   },
   {
    "duration": 15,
    "start_time": "2024-09-27T21:14:24.703Z"
   },
   {
    "duration": 15,
    "start_time": "2024-09-27T21:15:30.726Z"
   },
   {
    "duration": 14,
    "start_time": "2024-09-27T21:16:08.425Z"
   },
   {
    "duration": 12,
    "start_time": "2024-09-27T21:16:23.384Z"
   },
   {
    "duration": 14,
    "start_time": "2024-09-27T21:16:33.923Z"
   },
   {
    "duration": 13,
    "start_time": "2024-09-27T21:17:48.562Z"
   },
   {
    "duration": 20,
    "start_time": "2024-09-27T21:17:51.683Z"
   },
   {
    "duration": 13,
    "start_time": "2024-09-27T21:18:00.905Z"
   },
   {
    "duration": 14,
    "start_time": "2024-09-27T21:18:04.563Z"
   },
   {
    "duration": 13,
    "start_time": "2024-09-27T21:18:07.765Z"
   },
   {
    "duration": 13,
    "start_time": "2024-09-27T21:30:27.044Z"
   },
   {
    "duration": 15,
    "start_time": "2024-09-27T21:31:33.375Z"
   },
   {
    "duration": 19,
    "start_time": "2024-09-27T21:31:36.914Z"
   },
   {
    "duration": 16,
    "start_time": "2024-09-27T21:31:46.728Z"
   },
   {
    "duration": 14,
    "start_time": "2024-09-27T21:31:52.403Z"
   },
   {
    "duration": 16,
    "start_time": "2024-09-27T21:31:56.022Z"
   },
   {
    "duration": 16,
    "start_time": "2024-09-27T21:31:58.820Z"
   },
   {
    "duration": 16,
    "start_time": "2024-09-27T21:32:01.397Z"
   },
   {
    "duration": 18,
    "start_time": "2024-09-27T21:32:03.743Z"
   },
   {
    "duration": 19,
    "start_time": "2024-09-27T21:32:06.528Z"
   },
   {
    "duration": 19,
    "start_time": "2024-09-27T21:32:09.483Z"
   },
   {
    "duration": 16,
    "start_time": "2024-09-27T21:32:12.583Z"
   },
   {
    "duration": 17,
    "start_time": "2024-09-27T21:32:17.703Z"
   },
   {
    "duration": 15,
    "start_time": "2024-09-27T21:32:21.324Z"
   },
   {
    "duration": 16,
    "start_time": "2024-09-27T21:32:25.664Z"
   },
   {
    "duration": 19,
    "start_time": "2024-09-27T21:33:19.685Z"
   },
   {
    "duration": 17,
    "start_time": "2024-09-27T21:33:24.148Z"
   },
   {
    "duration": 5,
    "start_time": "2024-09-27T21:44:10.713Z"
   },
   {
    "duration": 230,
    "start_time": "2024-09-27T21:44:15.405Z"
   },
   {
    "duration": 5,
    "start_time": "2024-09-27T21:44:20.201Z"
   },
   {
    "duration": 29,
    "start_time": "2024-09-27T21:44:20.208Z"
   },
   {
    "duration": 9,
    "start_time": "2024-09-27T21:44:20.239Z"
   },
   {
    "duration": 9,
    "start_time": "2024-09-27T21:44:20.249Z"
   },
   {
    "duration": 4,
    "start_time": "2024-09-27T21:44:20.261Z"
   },
   {
    "duration": 5,
    "start_time": "2024-09-27T21:44:20.267Z"
   },
   {
    "duration": 33,
    "start_time": "2024-09-27T21:44:20.274Z"
   },
   {
    "duration": 5,
    "start_time": "2024-09-27T21:44:20.309Z"
   },
   {
    "duration": 13,
    "start_time": "2024-09-27T21:44:20.315Z"
   },
   {
    "duration": 9,
    "start_time": "2024-09-27T21:44:20.329Z"
   },
   {
    "duration": 7,
    "start_time": "2024-09-27T21:44:20.339Z"
   },
   {
    "duration": 598,
    "start_time": "2024-09-27T21:44:20.348Z"
   },
   {
    "duration": 31,
    "start_time": "2024-09-27T21:44:20.948Z"
   },
   {
    "duration": 9,
    "start_time": "2024-09-27T21:44:20.983Z"
   },
   {
    "duration": 26,
    "start_time": "2024-09-27T21:44:21.005Z"
   },
   {
    "duration": 577,
    "start_time": "2024-09-27T21:44:21.033Z"
   },
   {
    "duration": 30,
    "start_time": "2024-09-27T21:44:21.612Z"
   },
   {
    "duration": 15,
    "start_time": "2024-09-27T21:44:21.644Z"
   },
   {
    "duration": 1938,
    "start_time": "2024-09-27T21:44:21.660Z"
   },
   {
    "duration": 9,
    "start_time": "2024-09-27T21:44:23.600Z"
   },
   {
    "duration": 5907,
    "start_time": "2024-09-27T21:44:23.610Z"
   },
   {
    "duration": 212,
    "start_time": "2024-09-27T21:44:29.520Z"
   },
   {
    "duration": 195,
    "start_time": "2024-09-27T21:44:29.733Z"
   },
   {
    "duration": 37,
    "start_time": "2024-09-27T21:44:29.929Z"
   },
   {
    "duration": 38,
    "start_time": "2024-09-27T21:44:29.968Z"
   },
   {
    "duration": 19,
    "start_time": "2024-09-27T21:44:30.007Z"
   },
   {
    "duration": 32,
    "start_time": "2024-09-27T21:44:31.979Z"
   },
   {
    "duration": 32,
    "start_time": "2024-09-27T21:45:29.566Z"
   },
   {
    "duration": 105,
    "start_time": "2024-09-27T21:45:40.405Z"
   },
   {
    "duration": 71,
    "start_time": "2024-09-27T21:45:51.041Z"
   },
   {
    "duration": 128,
    "start_time": "2024-09-27T21:46:16.583Z"
   },
   {
    "duration": 61,
    "start_time": "2024-09-27T21:47:25.645Z"
   },
   {
    "duration": 27,
    "start_time": "2024-09-27T21:47:30.296Z"
   },
   {
    "duration": 58,
    "start_time": "2024-09-27T21:48:14.143Z"
   },
   {
    "duration": 574,
    "start_time": "2024-09-27T21:48:21.799Z"
   },
   {
    "duration": 593,
    "start_time": "2024-09-27T21:48:33.040Z"
   },
   {
    "duration": 567,
    "start_time": "2024-09-27T21:48:48.767Z"
   },
   {
    "duration": 18,
    "start_time": "2024-09-27T21:49:19.760Z"
   },
   {
    "duration": 567,
    "start_time": "2024-09-27T21:49:30.660Z"
   },
   {
    "duration": 566,
    "start_time": "2024-09-27T21:49:56.180Z"
   },
   {
    "duration": 46,
    "start_time": "2024-09-27T21:50:50.145Z"
   },
   {
    "duration": 337,
    "start_time": "2024-09-27T21:51:02.341Z"
   },
   {
    "duration": 327,
    "start_time": "2024-09-27T21:51:09.440Z"
   },
   {
    "duration": 18,
    "start_time": "2024-09-27T21:51:34.565Z"
   },
   {
    "duration": 329,
    "start_time": "2024-09-27T21:56:17.945Z"
   },
   {
    "duration": 626,
    "start_time": "2024-09-27T22:00:04.440Z"
   },
   {
    "duration": 631,
    "start_time": "2024-09-27T22:00:41.180Z"
   },
   {
    "duration": 638,
    "start_time": "2024-09-27T22:02:04.940Z"
   },
   {
    "duration": 515,
    "start_time": "2024-09-27T22:02:30.705Z"
   },
   {
    "duration": 538,
    "start_time": "2024-09-27T22:03:22.305Z"
   },
   {
    "duration": 512,
    "start_time": "2024-09-27T22:03:30.901Z"
   },
   {
    "duration": 504,
    "start_time": "2024-09-27T22:04:44.485Z"
   },
   {
    "duration": 614,
    "start_time": "2024-09-27T22:04:51.616Z"
   },
   {
    "duration": 518,
    "start_time": "2024-09-27T22:05:06.340Z"
   },
   {
    "duration": 336,
    "start_time": "2024-09-27T22:05:16.401Z"
   },
   {
    "duration": 365,
    "start_time": "2024-09-27T22:05:20.903Z"
   },
   {
    "duration": 380,
    "start_time": "2024-09-27T22:05:25.150Z"
   },
   {
    "duration": 397,
    "start_time": "2024-09-27T22:05:28.920Z"
   },
   {
    "duration": 416,
    "start_time": "2024-09-27T22:05:33.547Z"
   },
   {
    "duration": 434,
    "start_time": "2024-09-27T22:05:38.178Z"
   },
   {
    "duration": 457,
    "start_time": "2024-09-27T22:05:46.519Z"
   },
   {
    "duration": 363,
    "start_time": "2024-09-27T22:05:50.981Z"
   },
   {
    "duration": 375,
    "start_time": "2024-09-27T22:05:55.040Z"
   },
   {
    "duration": 379,
    "start_time": "2024-09-27T22:06:01.280Z"
   },
   {
    "duration": 400,
    "start_time": "2024-09-27T22:06:05.127Z"
   },
   {
    "duration": 401,
    "start_time": "2024-09-27T22:06:08.904Z"
   },
   {
    "duration": 430,
    "start_time": "2024-09-27T22:06:12.610Z"
   },
   {
    "duration": 343,
    "start_time": "2024-09-27T22:06:16.285Z"
   },
   {
    "duration": 347,
    "start_time": "2024-09-27T22:06:19.620Z"
   },
   {
    "duration": 357,
    "start_time": "2024-09-27T22:06:23.666Z"
   },
   {
    "duration": 367,
    "start_time": "2024-09-27T22:06:27.281Z"
   },
   {
    "duration": 367,
    "start_time": "2024-09-27T22:06:30.185Z"
   },
   {
    "duration": 374,
    "start_time": "2024-09-27T22:06:37.831Z"
   },
   {
    "duration": 380,
    "start_time": "2024-09-27T22:06:41.591Z"
   },
   {
    "duration": 379,
    "start_time": "2024-09-27T22:06:45.231Z"
   },
   {
    "duration": 375,
    "start_time": "2024-09-27T22:06:49.461Z"
   },
   {
    "duration": 368,
    "start_time": "2024-09-27T22:06:53.124Z"
   },
   {
    "duration": 376,
    "start_time": "2024-09-27T22:06:58.498Z"
   },
   {
    "duration": 386,
    "start_time": "2024-09-27T22:07:02.215Z"
   },
   {
    "duration": 382,
    "start_time": "2024-09-27T22:07:05.226Z"
   },
   {
    "duration": 391,
    "start_time": "2024-09-27T22:07:08.800Z"
   },
   {
    "duration": 399,
    "start_time": "2024-09-27T22:07:12.256Z"
   },
   {
    "duration": 394,
    "start_time": "2024-09-27T22:07:15.139Z"
   },
   {
    "duration": 409,
    "start_time": "2024-09-27T22:07:18.096Z"
   },
   {
    "duration": 380,
    "start_time": "2024-09-27T22:07:21.260Z"
   },
   {
    "duration": 382,
    "start_time": "2024-09-27T22:08:41.090Z"
   },
   {
    "duration": 47,
    "start_time": "2024-09-27T22:23:29.345Z"
   },
   {
    "duration": 36,
    "start_time": "2024-09-27T22:23:38.427Z"
   },
   {
    "duration": 37,
    "start_time": "2024-09-27T22:23:51.705Z"
   },
   {
    "duration": 37,
    "start_time": "2024-09-27T22:24:00.700Z"
   },
   {
    "duration": 37,
    "start_time": "2024-09-27T22:24:04.306Z"
   },
   {
    "duration": 36,
    "start_time": "2024-09-27T22:24:35.491Z"
   },
   {
    "duration": 37,
    "start_time": "2024-09-27T22:25:03.417Z"
   },
   {
    "duration": 3,
    "start_time": "2024-09-27T22:25:29.925Z"
   },
   {
    "duration": 29,
    "start_time": "2024-09-27T22:25:29.952Z"
   },
   {
    "duration": 9,
    "start_time": "2024-09-27T22:25:29.983Z"
   },
   {
    "duration": 9,
    "start_time": "2024-09-27T22:25:29.993Z"
   },
   {
    "duration": 5,
    "start_time": "2024-09-27T22:25:30.003Z"
   },
   {
    "duration": 5,
    "start_time": "2024-09-27T22:25:30.010Z"
   },
   {
    "duration": 5,
    "start_time": "2024-09-27T22:25:30.017Z"
   },
   {
    "duration": 6,
    "start_time": "2024-09-27T22:25:30.023Z"
   },
   {
    "duration": 12,
    "start_time": "2024-09-27T22:25:30.030Z"
   },
   {
    "duration": 9,
    "start_time": "2024-09-27T22:25:30.043Z"
   },
   {
    "duration": 7,
    "start_time": "2024-09-27T22:25:30.053Z"
   },
   {
    "duration": 625,
    "start_time": "2024-09-27T22:25:30.062Z"
   },
   {
    "duration": 39,
    "start_time": "2024-09-27T22:25:30.690Z"
   },
   {
    "duration": 9,
    "start_time": "2024-09-27T22:25:30.730Z"
   },
   {
    "duration": 20,
    "start_time": "2024-09-27T22:25:30.742Z"
   },
   {
    "duration": 599,
    "start_time": "2024-09-27T22:25:30.764Z"
   },
   {
    "duration": 30,
    "start_time": "2024-09-27T22:25:31.367Z"
   },
   {
    "duration": 14,
    "start_time": "2024-09-27T22:25:31.405Z"
   },
   {
    "duration": 1914,
    "start_time": "2024-09-27T22:25:31.421Z"
   },
   {
    "duration": 11,
    "start_time": "2024-09-27T22:25:33.337Z"
   },
   {
    "duration": 5931,
    "start_time": "2024-09-27T22:25:33.349Z"
   },
   {
    "duration": 212,
    "start_time": "2024-09-27T22:25:39.282Z"
   },
   {
    "duration": 210,
    "start_time": "2024-09-27T22:25:39.495Z"
   },
   {
    "duration": 38,
    "start_time": "2024-09-27T22:25:39.707Z"
   },
   {
    "duration": 18,
    "start_time": "2024-09-27T22:25:39.747Z"
   },
   {
    "duration": 153,
    "start_time": "2024-09-27T22:25:39.767Z"
   },
   {
    "duration": 44,
    "start_time": "2024-09-27T22:28:20.921Z"
   },
   {
    "duration": 47,
    "start_time": "2024-09-27T22:28:31.890Z"
   },
   {
    "duration": 43,
    "start_time": "2024-09-27T22:28:36.350Z"
   },
   {
    "duration": 46,
    "start_time": "2024-09-27T22:28:39.990Z"
   },
   {
    "duration": 48,
    "start_time": "2024-09-27T22:30:50.070Z"
   },
   {
    "duration": 63,
    "start_time": "2024-09-27T22:31:05.662Z"
   },
   {
    "duration": 92,
    "start_time": "2024-09-27T22:31:12.324Z"
   },
   {
    "duration": 114,
    "start_time": "2024-09-27T22:31:54.295Z"
   },
   {
    "duration": 98,
    "start_time": "2024-09-27T22:32:10.619Z"
   },
   {
    "duration": 104,
    "start_time": "2024-09-27T22:32:19.801Z"
   },
   {
    "duration": 38,
    "start_time": "2024-09-27T22:32:41.077Z"
   },
   {
    "duration": 29,
    "start_time": "2024-09-27T22:33:47.497Z"
   },
   {
    "duration": 16,
    "start_time": "2024-09-27T22:37:09.355Z"
   },
   {
    "duration": 10,
    "start_time": "2024-09-27T22:37:25.540Z"
   },
   {
    "duration": 348,
    "start_time": "2024-09-27T22:38:39.732Z"
   },
   {
    "duration": 274,
    "start_time": "2024-09-27T22:38:47.275Z"
   },
   {
    "duration": 278,
    "start_time": "2024-09-27T22:38:49.752Z"
   },
   {
    "duration": 317,
    "start_time": "2024-09-27T22:38:51.565Z"
   },
   {
    "duration": 347,
    "start_time": "2024-09-27T22:38:54.685Z"
   },
   {
    "duration": 371,
    "start_time": "2024-09-27T22:38:57.934Z"
   },
   {
    "duration": 402,
    "start_time": "2024-09-27T22:39:00.637Z"
   },
   {
    "duration": 434,
    "start_time": "2024-09-27T22:39:06.441Z"
   },
   {
    "duration": 464,
    "start_time": "2024-09-27T22:39:10.950Z"
   },
   {
    "duration": 355,
    "start_time": "2024-09-27T22:39:15.970Z"
   },
   {
    "duration": 68,
    "start_time": "2024-09-27T22:40:01.402Z"
   },
   {
    "duration": 186,
    "start_time": "2024-09-27T22:41:19.540Z"
   },
   {
    "duration": 228,
    "start_time": "2024-09-27T22:41:24.690Z"
   },
   {
    "duration": 276,
    "start_time": "2024-09-27T22:41:27.960Z"
   },
   {
    "duration": 315,
    "start_time": "2024-09-27T22:41:30.903Z"
   },
   {
    "duration": 45,
    "start_time": "2024-09-27T22:41:38.345Z"
   },
   {
    "duration": 2,
    "start_time": "2024-09-27T22:49:14.836Z"
   },
   {
    "duration": 854,
    "start_time": "2024-09-27T22:49:24.686Z"
   },
   {
    "duration": 32,
    "start_time": "2024-09-27T22:49:25.542Z"
   },
   {
    "duration": 10,
    "start_time": "2024-09-27T22:49:25.576Z"
   },
   {
    "duration": 24,
    "start_time": "2024-09-27T22:49:25.588Z"
   },
   {
    "duration": 5,
    "start_time": "2024-09-27T22:49:25.615Z"
   },
   {
    "duration": 7,
    "start_time": "2024-09-27T22:49:25.621Z"
   },
   {
    "duration": 5,
    "start_time": "2024-09-27T22:49:25.629Z"
   },
   {
    "duration": 5,
    "start_time": "2024-09-27T22:49:25.636Z"
   },
   {
    "duration": 13,
    "start_time": "2024-09-27T22:49:25.642Z"
   },
   {
    "duration": 8,
    "start_time": "2024-09-27T22:49:25.656Z"
   },
   {
    "duration": 45,
    "start_time": "2024-09-27T22:49:25.665Z"
   },
   {
    "duration": 582,
    "start_time": "2024-09-27T22:49:25.712Z"
   },
   {
    "duration": 36,
    "start_time": "2024-09-27T22:49:26.296Z"
   },
   {
    "duration": 8,
    "start_time": "2024-09-27T22:49:26.335Z"
   },
   {
    "duration": 21,
    "start_time": "2024-09-27T22:49:26.344Z"
   },
   {
    "duration": 597,
    "start_time": "2024-09-27T22:49:26.366Z"
   },
   {
    "duration": 40,
    "start_time": "2024-09-27T22:49:26.965Z"
   },
   {
    "duration": 15,
    "start_time": "2024-09-27T22:49:27.007Z"
   },
   {
    "duration": 1958,
    "start_time": "2024-09-27T22:49:27.026Z"
   },
   {
    "duration": 10,
    "start_time": "2024-09-27T22:49:28.985Z"
   },
   {
    "duration": 5942,
    "start_time": "2024-09-27T22:49:28.996Z"
   },
   {
    "duration": 210,
    "start_time": "2024-09-27T22:49:34.940Z"
   },
   {
    "duration": 200,
    "start_time": "2024-09-27T22:49:35.152Z"
   },
   {
    "duration": 37,
    "start_time": "2024-09-27T22:49:35.354Z"
   },
   {
    "duration": 28,
    "start_time": "2024-09-27T22:49:35.393Z"
   },
   {
    "duration": 93,
    "start_time": "2024-09-27T22:49:35.422Z"
   },
   {
    "duration": 89,
    "start_time": "2024-09-27T22:49:35.516Z"
   },
   {
    "duration": 315,
    "start_time": "2024-09-27T22:49:35.607Z"
   },
   {
    "duration": 44,
    "start_time": "2024-09-27T22:49:35.923Z"
   },
   {
    "duration": 2,
    "start_time": "2024-09-27T22:49:35.968Z"
   },
   {
    "duration": 38,
    "start_time": "2024-09-27T22:52:41.214Z"
   },
   {
    "duration": 3,
    "start_time": "2024-09-27T22:53:20.421Z"
   },
   {
    "duration": 31,
    "start_time": "2024-09-27T22:53:20.426Z"
   },
   {
    "duration": 10,
    "start_time": "2024-09-27T22:53:20.459Z"
   },
   {
    "duration": 8,
    "start_time": "2024-09-27T22:53:20.471Z"
   },
   {
    "duration": 26,
    "start_time": "2024-09-27T22:53:20.481Z"
   },
   {
    "duration": 6,
    "start_time": "2024-09-27T22:53:20.508Z"
   },
   {
    "duration": 5,
    "start_time": "2024-09-27T22:53:20.515Z"
   },
   {
    "duration": 5,
    "start_time": "2024-09-27T22:53:20.522Z"
   },
   {
    "duration": 13,
    "start_time": "2024-09-27T22:53:20.528Z"
   },
   {
    "duration": 9,
    "start_time": "2024-09-27T22:53:20.542Z"
   },
   {
    "duration": 7,
    "start_time": "2024-09-27T22:53:20.554Z"
   },
   {
    "duration": 605,
    "start_time": "2024-09-27T22:53:20.562Z"
   },
   {
    "duration": 39,
    "start_time": "2024-09-27T22:53:21.169Z"
   },
   {
    "duration": 9,
    "start_time": "2024-09-27T22:53:21.210Z"
   },
   {
    "duration": 21,
    "start_time": "2024-09-27T22:53:21.221Z"
   },
   {
    "duration": 592,
    "start_time": "2024-09-27T22:53:21.244Z"
   },
   {
    "duration": 31,
    "start_time": "2024-09-27T22:53:21.838Z"
   },
   {
    "duration": 37,
    "start_time": "2024-09-27T22:53:21.870Z"
   },
   {
    "duration": 1885,
    "start_time": "2024-09-27T22:53:21.909Z"
   },
   {
    "duration": 14,
    "start_time": "2024-09-27T22:53:23.796Z"
   },
   {
    "duration": 5938,
    "start_time": "2024-09-27T22:53:23.812Z"
   },
   {
    "duration": 206,
    "start_time": "2024-09-27T22:53:29.754Z"
   },
   {
    "duration": 194,
    "start_time": "2024-09-27T22:53:29.961Z"
   },
   {
    "duration": 36,
    "start_time": "2024-09-27T22:53:30.157Z"
   },
   {
    "duration": 29,
    "start_time": "2024-09-27T22:53:30.195Z"
   },
   {
    "duration": 96,
    "start_time": "2024-09-27T22:53:30.225Z"
   },
   {
    "duration": 83,
    "start_time": "2024-09-27T22:53:30.326Z"
   },
   {
    "duration": 339,
    "start_time": "2024-09-27T22:53:30.411Z"
   },
   {
    "duration": 44,
    "start_time": "2024-09-27T22:53:30.754Z"
   },
   {
    "duration": 35,
    "start_time": "2024-09-27T22:53:30.806Z"
   },
   {
    "duration": 38,
    "start_time": "2024-09-27T22:55:42.795Z"
   },
   {
    "duration": 35,
    "start_time": "2024-09-27T22:56:14.519Z"
   },
   {
    "duration": 36,
    "start_time": "2024-09-27T23:02:33.711Z"
   },
   {
    "duration": 22,
    "start_time": "2024-09-27T23:04:30.932Z"
   },
   {
    "duration": 314,
    "start_time": "2024-09-27T23:05:25.508Z"
   },
   {
    "duration": 235,
    "start_time": "2024-09-27T23:05:33.029Z"
   },
   {
    "duration": 282,
    "start_time": "2024-09-27T23:05:36.479Z"
   },
   {
    "duration": 314,
    "start_time": "2024-09-27T23:05:40.403Z"
   },
   {
    "duration": 45,
    "start_time": "2024-09-27T23:06:35.655Z"
   },
   {
    "duration": 351,
    "start_time": "2024-09-27T23:06:49.710Z"
   },
   {
    "duration": 370,
    "start_time": "2024-09-27T23:06:53.261Z"
   },
   {
    "duration": 350,
    "start_time": "2024-09-27T23:06:56.551Z"
   },
   {
    "duration": 69,
    "start_time": "2024-09-27T23:07:02.825Z"
   },
   {
    "duration": 333,
    "start_time": "2024-09-27T23:07:18.609Z"
   },
   {
    "duration": 350,
    "start_time": "2024-09-27T23:07:25.864Z"
   },
   {
    "duration": 68,
    "start_time": "2024-09-27T23:07:37.560Z"
   },
   {
    "duration": 158,
    "start_time": "2024-09-27T23:11:15.603Z"
   },
   {
    "duration": 186,
    "start_time": "2024-09-27T23:11:26.288Z"
   },
   {
    "duration": 136,
    "start_time": "2024-09-27T23:11:59.840Z"
   },
   {
    "duration": 153,
    "start_time": "2024-09-27T23:12:01.787Z"
   },
   {
    "duration": 179,
    "start_time": "2024-09-27T23:12:04.651Z"
   },
   {
    "duration": 189,
    "start_time": "2024-09-27T23:12:06.745Z"
   },
   {
    "duration": 163,
    "start_time": "2024-09-27T23:12:09.360Z"
   },
   {
    "duration": 33,
    "start_time": "2024-09-27T23:12:20.817Z"
   },
   {
    "duration": 873,
    "start_time": "2024-09-27T23:13:52.385Z"
   },
   {
    "duration": 33,
    "start_time": "2024-09-27T23:13:53.261Z"
   },
   {
    "duration": 14,
    "start_time": "2024-09-27T23:13:53.295Z"
   },
   {
    "duration": 9,
    "start_time": "2024-09-27T23:13:53.311Z"
   },
   {
    "duration": 5,
    "start_time": "2024-09-27T23:13:53.322Z"
   },
   {
    "duration": 6,
    "start_time": "2024-09-27T23:13:53.328Z"
   },
   {
    "duration": 4,
    "start_time": "2024-09-27T23:13:53.336Z"
   },
   {
    "duration": 5,
    "start_time": "2024-09-27T23:13:53.342Z"
   },
   {
    "duration": 12,
    "start_time": "2024-09-27T23:13:53.349Z"
   },
   {
    "duration": 49,
    "start_time": "2024-09-27T23:13:53.364Z"
   },
   {
    "duration": 8,
    "start_time": "2024-09-27T23:13:53.414Z"
   },
   {
    "duration": 590,
    "start_time": "2024-09-27T23:13:53.424Z"
   },
   {
    "duration": 30,
    "start_time": "2024-09-27T23:13:54.016Z"
   },
   {
    "duration": 8,
    "start_time": "2024-09-27T23:13:54.048Z"
   },
   {
    "duration": 21,
    "start_time": "2024-09-27T23:13:54.057Z"
   },
   {
    "duration": 613,
    "start_time": "2024-09-27T23:13:54.080Z"
   },
   {
    "duration": 38,
    "start_time": "2024-09-27T23:13:54.694Z"
   },
   {
    "duration": 16,
    "start_time": "2024-09-27T23:13:54.733Z"
   },
   {
    "duration": 1954,
    "start_time": "2024-09-27T23:13:54.751Z"
   },
   {
    "duration": 11,
    "start_time": "2024-09-27T23:13:56.707Z"
   },
   {
    "duration": 5935,
    "start_time": "2024-09-27T23:13:56.719Z"
   },
   {
    "duration": 215,
    "start_time": "2024-09-27T23:14:02.656Z"
   },
   {
    "duration": 203,
    "start_time": "2024-09-27T23:14:02.872Z"
   },
   {
    "duration": 44,
    "start_time": "2024-09-27T23:14:03.078Z"
   },
   {
    "duration": 16,
    "start_time": "2024-09-27T23:14:03.124Z"
   },
   {
    "duration": 74,
    "start_time": "2024-09-27T23:14:03.142Z"
   },
   {
    "duration": 11,
    "start_time": "2024-09-27T23:14:03.217Z"
   },
   {
    "duration": 316,
    "start_time": "2024-09-27T23:14:03.306Z"
   },
   {
    "duration": 43,
    "start_time": "2024-09-27T23:14:03.624Z"
   },
   {
    "duration": 46,
    "start_time": "2024-09-27T23:14:03.668Z"
   },
   {
    "duration": 20,
    "start_time": "2024-09-27T23:14:03.715Z"
   },
   {
    "duration": 365,
    "start_time": "2024-09-27T23:14:03.737Z"
   },
   {
    "duration": 74,
    "start_time": "2024-09-27T23:14:04.104Z"
   },
   {
    "duration": 176,
    "start_time": "2024-09-27T23:14:04.180Z"
   },
   {
    "duration": 33,
    "start_time": "2024-09-27T23:14:04.357Z"
   },
   {
    "duration": 3,
    "start_time": "2024-09-27T23:17:57.576Z"
   },
   {
    "duration": 226,
    "start_time": "2024-09-27T23:24:59.482Z"
   },
   {
    "duration": 14,
    "start_time": "2024-09-27T23:25:09.548Z"
   },
   {
    "duration": 8,
    "start_time": "2024-09-27T23:25:16.662Z"
   },
   {
    "duration": 19,
    "start_time": "2024-09-27T23:26:34.014Z"
   },
   {
    "duration": 132,
    "start_time": "2024-09-27T23:26:44.301Z"
   },
   {
    "duration": 161,
    "start_time": "2024-09-27T23:27:37.728Z"
   },
   {
    "duration": 97,
    "start_time": "2024-09-27T23:29:20.836Z"
   },
   {
    "duration": 97,
    "start_time": "2024-09-27T23:29:56.381Z"
   },
   {
    "duration": 118,
    "start_time": "2024-09-27T23:30:08.052Z"
   },
   {
    "duration": 152,
    "start_time": "2024-09-27T23:31:49.602Z"
   },
   {
    "duration": 252,
    "start_time": "2024-09-27T23:32:38.231Z"
   },
   {
    "duration": 232,
    "start_time": "2024-09-27T23:32:52.683Z"
   },
   {
    "duration": 241,
    "start_time": "2024-09-27T23:32:55.763Z"
   },
   {
    "duration": 240,
    "start_time": "2024-09-27T23:32:57.862Z"
   },
   {
    "duration": 212,
    "start_time": "2024-09-27T23:33:00.867Z"
   },
   {
    "duration": 211,
    "start_time": "2024-09-27T23:33:09.757Z"
   },
   {
    "duration": 43,
    "start_time": "2024-09-27T23:33:16.048Z"
   },
   {
    "duration": 10,
    "start_time": "2024-09-27T23:33:20.921Z"
   },
   {
    "duration": 97,
    "start_time": "2024-09-27T23:33:24.342Z"
   },
   {
    "duration": 14,
    "start_time": "2024-09-27T23:37:04.968Z"
   },
   {
    "duration": 13,
    "start_time": "2024-09-27T23:37:08.942Z"
   },
   {
    "duration": 881,
    "start_time": "2024-09-27T23:42:18.751Z"
   },
   {
    "duration": 32,
    "start_time": "2024-09-27T23:42:19.634Z"
   },
   {
    "duration": 9,
    "start_time": "2024-09-27T23:42:19.668Z"
   },
   {
    "duration": 11,
    "start_time": "2024-09-27T23:42:19.678Z"
   },
   {
    "duration": 5,
    "start_time": "2024-09-27T23:42:19.706Z"
   },
   {
    "duration": 6,
    "start_time": "2024-09-27T23:42:19.712Z"
   },
   {
    "duration": 5,
    "start_time": "2024-09-27T23:42:19.720Z"
   },
   {
    "duration": 5,
    "start_time": "2024-09-27T23:42:19.727Z"
   },
   {
    "duration": 16,
    "start_time": "2024-09-27T23:42:19.734Z"
   },
   {
    "duration": 9,
    "start_time": "2024-09-27T23:42:19.752Z"
   },
   {
    "duration": 44,
    "start_time": "2024-09-27T23:42:19.762Z"
   },
   {
    "duration": 576,
    "start_time": "2024-09-27T23:42:19.808Z"
   },
   {
    "duration": 36,
    "start_time": "2024-09-27T23:42:20.386Z"
   },
   {
    "duration": 7,
    "start_time": "2024-09-27T23:42:20.426Z"
   },
   {
    "duration": 21,
    "start_time": "2024-09-27T23:42:20.434Z"
   },
   {
    "duration": 592,
    "start_time": "2024-09-27T23:42:20.456Z"
   },
   {
    "duration": 30,
    "start_time": "2024-09-27T23:42:21.050Z"
   },
   {
    "duration": 26,
    "start_time": "2024-09-27T23:42:21.081Z"
   },
   {
    "duration": 1944,
    "start_time": "2024-09-27T23:42:21.109Z"
   },
   {
    "duration": 11,
    "start_time": "2024-09-27T23:42:23.055Z"
   },
   {
    "duration": 6032,
    "start_time": "2024-09-27T23:42:23.067Z"
   },
   {
    "duration": 207,
    "start_time": "2024-09-27T23:42:29.104Z"
   },
   {
    "duration": 194,
    "start_time": "2024-09-27T23:42:29.313Z"
   },
   {
    "duration": 37,
    "start_time": "2024-09-27T23:42:29.508Z"
   },
   {
    "duration": 18,
    "start_time": "2024-09-27T23:42:29.547Z"
   },
   {
    "duration": 103,
    "start_time": "2024-09-27T23:42:29.604Z"
   },
   {
    "duration": 11,
    "start_time": "2024-09-27T23:42:29.710Z"
   },
   {
    "duration": 363,
    "start_time": "2024-09-27T23:42:29.722Z"
   },
   {
    "duration": 52,
    "start_time": "2024-09-27T23:42:30.087Z"
   },
   {
    "duration": 34,
    "start_time": "2024-09-27T23:42:30.141Z"
   },
   {
    "duration": 33,
    "start_time": "2024-09-27T23:42:30.176Z"
   },
   {
    "duration": 361,
    "start_time": "2024-09-27T23:42:30.210Z"
   },
   {
    "duration": 76,
    "start_time": "2024-09-27T23:42:30.573Z"
   },
   {
    "duration": 231,
    "start_time": "2024-09-27T23:42:30.650Z"
   },
   {
    "duration": 47,
    "start_time": "2024-09-27T23:42:30.883Z"
   },
   {
    "duration": 10,
    "start_time": "2024-09-27T23:42:30.931Z"
   },
   {
    "duration": 126,
    "start_time": "2024-09-27T23:42:30.944Z"
   },
   {
    "duration": 2736,
    "start_time": "2024-09-30T18:55:25.222Z"
   },
   {
    "duration": 43,
    "start_time": "2024-09-30T18:55:27.960Z"
   },
   {
    "duration": 9,
    "start_time": "2024-09-30T18:55:28.005Z"
   },
   {
    "duration": 9,
    "start_time": "2024-09-30T18:55:28.016Z"
   },
   {
    "duration": 5,
    "start_time": "2024-09-30T18:55:28.027Z"
   },
   {
    "duration": 7,
    "start_time": "2024-09-30T18:55:28.033Z"
   },
   {
    "duration": 6,
    "start_time": "2024-09-30T18:55:28.042Z"
   },
   {
    "duration": 6,
    "start_time": "2024-09-30T18:55:28.050Z"
   },
   {
    "duration": 49,
    "start_time": "2024-09-30T18:55:28.057Z"
   },
   {
    "duration": 11,
    "start_time": "2024-09-30T18:55:28.108Z"
   },
   {
    "duration": 6,
    "start_time": "2024-09-30T18:55:28.121Z"
   },
   {
    "duration": 9,
    "start_time": "2024-09-30T18:55:28.129Z"
   },
   {
    "duration": 614,
    "start_time": "2024-09-30T18:55:28.139Z"
   },
   {
    "duration": 31,
    "start_time": "2024-09-30T18:55:28.757Z"
   },
   {
    "duration": 22,
    "start_time": "2024-09-30T18:55:28.789Z"
   },
   {
    "duration": 20,
    "start_time": "2024-09-30T18:55:28.812Z"
   },
   {
    "duration": 591,
    "start_time": "2024-09-30T18:55:28.834Z"
   },
   {
    "duration": 33,
    "start_time": "2024-09-30T18:55:29.426Z"
   },
   {
    "duration": 45,
    "start_time": "2024-09-30T18:55:29.461Z"
   },
   {
    "duration": 1887,
    "start_time": "2024-09-30T18:55:29.511Z"
   },
   {
    "duration": 15,
    "start_time": "2024-09-30T18:55:31.399Z"
   },
   {
    "duration": 6002,
    "start_time": "2024-09-30T18:55:31.416Z"
   },
   {
    "duration": 211,
    "start_time": "2024-09-30T18:55:37.420Z"
   },
   {
    "duration": 198,
    "start_time": "2024-09-30T18:55:37.632Z"
   },
   {
    "duration": 37,
    "start_time": "2024-09-30T18:55:37.831Z"
   },
   {
    "duration": 37,
    "start_time": "2024-09-30T18:55:37.869Z"
   },
   {
    "duration": 102,
    "start_time": "2024-09-30T18:55:37.907Z"
   },
   {
    "duration": 13,
    "start_time": "2024-09-30T18:55:38.010Z"
   },
   {
    "duration": 364,
    "start_time": "2024-09-30T18:55:38.025Z"
   },
   {
    "duration": 48,
    "start_time": "2024-09-30T18:55:38.391Z"
   },
   {
    "duration": 33,
    "start_time": "2024-09-30T18:55:38.441Z"
   },
   {
    "duration": 41,
    "start_time": "2024-09-30T18:55:38.475Z"
   },
   {
    "duration": 354,
    "start_time": "2024-09-30T18:55:38.518Z"
   },
   {
    "duration": 76,
    "start_time": "2024-09-30T18:55:38.874Z"
   },
   {
    "duration": 216,
    "start_time": "2024-09-30T18:55:38.952Z"
   },
   {
    "duration": 52,
    "start_time": "2024-09-30T18:55:39.170Z"
   },
   {
    "duration": 9,
    "start_time": "2024-09-30T18:55:39.223Z"
   },
   {
    "duration": 117,
    "start_time": "2024-09-30T18:55:39.234Z"
   },
   {
    "duration": 4107,
    "start_time": "2024-09-30T18:56:22.036Z"
   },
   {
    "duration": 4065,
    "start_time": "2024-09-30T18:56:29.773Z"
   },
   {
    "duration": 96,
    "start_time": "2024-09-30T18:56:49.894Z"
   },
   {
    "duration": 112,
    "start_time": "2024-09-30T18:58:01.683Z"
   },
   {
    "duration": 104,
    "start_time": "2024-09-30T18:58:10.447Z"
   },
   {
    "duration": 110,
    "start_time": "2024-09-30T19:00:26.433Z"
   },
   {
    "duration": 111,
    "start_time": "2024-09-30T19:01:03.270Z"
   },
   {
    "duration": 106,
    "start_time": "2024-09-30T19:01:24.254Z"
   },
   {
    "duration": 107,
    "start_time": "2024-09-30T19:02:45.013Z"
   },
   {
    "duration": 105,
    "start_time": "2024-09-30T19:05:48.154Z"
   },
   {
    "duration": 105,
    "start_time": "2024-09-30T19:11:11.238Z"
   },
   {
    "duration": 5,
    "start_time": "2024-09-30T19:11:24.053Z"
   },
   {
    "duration": 922,
    "start_time": "2024-09-30T19:12:09.624Z"
   },
   {
    "duration": 31,
    "start_time": "2024-09-30T19:12:10.549Z"
   },
   {
    "duration": 9,
    "start_time": "2024-09-30T19:12:10.582Z"
   },
   {
    "duration": 21,
    "start_time": "2024-09-30T19:12:10.592Z"
   },
   {
    "duration": 4,
    "start_time": "2024-09-30T19:12:10.616Z"
   },
   {
    "duration": 6,
    "start_time": "2024-09-30T19:12:10.622Z"
   },
   {
    "duration": 6,
    "start_time": "2024-09-30T19:12:10.630Z"
   },
   {
    "duration": 5,
    "start_time": "2024-09-30T19:12:10.638Z"
   },
   {
    "duration": 17,
    "start_time": "2024-09-30T19:12:10.644Z"
   },
   {
    "duration": 49,
    "start_time": "2024-09-30T19:12:10.662Z"
   },
   {
    "duration": 169,
    "start_time": "2024-09-30T19:12:10.713Z"
   },
   {
    "duration": 116,
    "start_time": "2024-09-30T19:12:10.884Z"
   },
   {
    "duration": 116,
    "start_time": "2024-09-30T19:12:11.005Z"
   },
   {
    "duration": 113,
    "start_time": "2024-09-30T19:12:11.125Z"
   },
   {
    "duration": 6,
    "start_time": "2024-09-30T19:12:11.240Z"
   },
   {
    "duration": 8,
    "start_time": "2024-09-30T19:12:11.247Z"
   },
   {
    "duration": 594,
    "start_time": "2024-09-30T19:12:11.257Z"
   },
   {
    "duration": 31,
    "start_time": "2024-09-30T19:12:11.852Z"
   },
   {
    "duration": 21,
    "start_time": "2024-09-30T19:12:11.884Z"
   },
   {
    "duration": 20,
    "start_time": "2024-09-30T19:12:11.909Z"
   },
   {
    "duration": 597,
    "start_time": "2024-09-30T19:12:11.931Z"
   },
   {
    "duration": 30,
    "start_time": "2024-09-30T19:12:12.530Z"
   },
   {
    "duration": 44,
    "start_time": "2024-09-30T19:12:12.561Z"
   },
   {
    "duration": 1899,
    "start_time": "2024-09-30T19:12:12.607Z"
   },
   {
    "duration": 13,
    "start_time": "2024-09-30T19:12:14.508Z"
   },
   {
    "duration": 5905,
    "start_time": "2024-09-30T19:12:14.523Z"
   },
   {
    "duration": 210,
    "start_time": "2024-09-30T19:12:20.429Z"
   },
   {
    "duration": 199,
    "start_time": "2024-09-30T19:12:20.641Z"
   },
   {
    "duration": 37,
    "start_time": "2024-09-30T19:12:20.841Z"
   },
   {
    "duration": 29,
    "start_time": "2024-09-30T19:12:20.879Z"
   },
   {
    "duration": 97,
    "start_time": "2024-09-30T19:12:20.910Z"
   },
   {
    "duration": 12,
    "start_time": "2024-09-30T19:12:21.008Z"
   },
   {
    "duration": 380,
    "start_time": "2024-09-30T19:12:21.021Z"
   },
   {
    "duration": 44,
    "start_time": "2024-09-30T19:12:21.403Z"
   },
   {
    "duration": 34,
    "start_time": "2024-09-30T19:12:21.449Z"
   },
   {
    "duration": 37,
    "start_time": "2024-09-30T19:12:21.484Z"
   },
   {
    "duration": 361,
    "start_time": "2024-09-30T19:12:21.523Z"
   },
   {
    "duration": 72,
    "start_time": "2024-09-30T19:12:21.887Z"
   },
   {
    "duration": 223,
    "start_time": "2024-09-30T19:12:21.962Z"
   },
   {
    "duration": 52,
    "start_time": "2024-09-30T19:12:22.187Z"
   },
   {
    "duration": 8,
    "start_time": "2024-09-30T19:12:22.243Z"
   },
   {
    "duration": 111,
    "start_time": "2024-09-30T19:12:22.252Z"
   },
   {
    "duration": 5,
    "start_time": "2024-09-30T19:15:15.455Z"
   },
   {
    "duration": 4,
    "start_time": "2024-09-30T19:16:50.034Z"
   },
   {
    "duration": 615,
    "start_time": "2024-09-30T19:17:48.474Z"
   },
   {
    "duration": 111,
    "start_time": "2024-09-30T19:17:59.304Z"
   },
   {
    "duration": 113,
    "start_time": "2024-09-30T19:19:15.354Z"
   },
   {
    "duration": 185,
    "start_time": "2024-09-30T19:19:24.853Z"
   },
   {
    "duration": 111,
    "start_time": "2024-09-30T19:19:37.735Z"
   },
   {
    "duration": 917,
    "start_time": "2024-09-30T19:20:07.521Z"
   },
   {
    "duration": 31,
    "start_time": "2024-09-30T19:20:08.441Z"
   },
   {
    "duration": 8,
    "start_time": "2024-09-30T19:20:08.474Z"
   },
   {
    "duration": 27,
    "start_time": "2024-09-30T19:20:08.484Z"
   },
   {
    "duration": 11,
    "start_time": "2024-09-30T19:20:08.513Z"
   },
   {
    "duration": 6,
    "start_time": "2024-09-30T19:20:08.525Z"
   },
   {
    "duration": 4,
    "start_time": "2024-09-30T19:20:08.533Z"
   },
   {
    "duration": 5,
    "start_time": "2024-09-30T19:20:08.539Z"
   },
   {
    "duration": 13,
    "start_time": "2024-09-30T19:20:08.545Z"
   },
   {
    "duration": 9,
    "start_time": "2024-09-30T19:20:08.559Z"
   },
   {
    "duration": 192,
    "start_time": "2024-09-30T19:20:08.570Z"
   },
   {
    "duration": 120,
    "start_time": "2024-09-30T19:20:08.764Z"
   },
   {
    "duration": 114,
    "start_time": "2024-09-30T19:20:08.885Z"
   },
   {
    "duration": 109,
    "start_time": "2024-09-30T19:20:09.004Z"
   },
   {
    "duration": 5,
    "start_time": "2024-09-30T19:20:09.115Z"
   },
   {
    "duration": 5,
    "start_time": "2024-09-30T19:20:09.121Z"
   },
   {
    "duration": 4,
    "start_time": "2024-09-30T19:20:09.128Z"
   },
   {
    "duration": 153,
    "start_time": "2024-09-30T19:20:09.134Z"
   },
   {
    "duration": 8,
    "start_time": "2024-09-30T19:20:09.289Z"
   },
   {
    "duration": 584,
    "start_time": "2024-09-30T19:20:09.298Z"
   },
   {
    "duration": 39,
    "start_time": "2024-09-30T19:20:09.883Z"
   },
   {
    "duration": 8,
    "start_time": "2024-09-30T19:20:09.924Z"
   },
   {
    "duration": 21,
    "start_time": "2024-09-30T19:20:09.933Z"
   },
   {
    "duration": 591,
    "start_time": "2024-09-30T19:20:09.956Z"
   },
   {
    "duration": 31,
    "start_time": "2024-09-30T19:20:10.549Z"
   },
   {
    "duration": 28,
    "start_time": "2024-09-30T19:20:10.582Z"
   },
   {
    "duration": 1894,
    "start_time": "2024-09-30T19:20:10.611Z"
   },
   {
    "duration": 10,
    "start_time": "2024-09-30T19:20:12.507Z"
   },
   {
    "duration": 5952,
    "start_time": "2024-09-30T19:20:12.518Z"
   },
   {
    "duration": 207,
    "start_time": "2024-09-30T19:20:18.472Z"
   },
   {
    "duration": 193,
    "start_time": "2024-09-30T19:20:18.681Z"
   },
   {
    "duration": 44,
    "start_time": "2024-09-30T19:20:18.876Z"
   },
   {
    "duration": 15,
    "start_time": "2024-09-30T19:20:18.922Z"
   },
   {
    "duration": 87,
    "start_time": "2024-09-30T19:20:18.939Z"
   },
   {
    "duration": 86,
    "start_time": "2024-09-30T19:20:19.027Z"
   },
   {
    "duration": 337,
    "start_time": "2024-09-30T19:20:19.114Z"
   },
   {
    "duration": 45,
    "start_time": "2024-09-30T19:20:19.453Z"
   },
   {
    "duration": 33,
    "start_time": "2024-09-30T19:20:19.506Z"
   },
   {
    "duration": 21,
    "start_time": "2024-09-30T19:20:19.540Z"
   },
   {
    "duration": 369,
    "start_time": "2024-09-30T19:20:19.562Z"
   },
   {
    "duration": 72,
    "start_time": "2024-09-30T19:20:19.935Z"
   },
   {
    "duration": 224,
    "start_time": "2024-09-30T19:20:20.008Z"
   },
   {
    "duration": 42,
    "start_time": "2024-09-30T19:20:20.234Z"
   },
   {
    "duration": 9,
    "start_time": "2024-09-30T19:20:20.277Z"
   },
   {
    "duration": 128,
    "start_time": "2024-09-30T19:20:20.287Z"
   },
   {
    "duration": 929,
    "start_time": "2024-09-30T19:21:19.797Z"
   },
   {
    "duration": 32,
    "start_time": "2024-09-30T19:21:20.728Z"
   },
   {
    "duration": 13,
    "start_time": "2024-09-30T19:21:20.762Z"
   },
   {
    "duration": 28,
    "start_time": "2024-09-30T19:21:20.777Z"
   },
   {
    "duration": 6,
    "start_time": "2024-09-30T19:21:20.809Z"
   },
   {
    "duration": 7,
    "start_time": "2024-09-30T19:21:20.817Z"
   },
   {
    "duration": 7,
    "start_time": "2024-09-30T19:21:20.826Z"
   },
   {
    "duration": 6,
    "start_time": "2024-09-30T19:21:20.835Z"
   },
   {
    "duration": 15,
    "start_time": "2024-09-30T19:21:20.844Z"
   },
   {
    "duration": 45,
    "start_time": "2024-09-30T19:21:20.861Z"
   },
   {
    "duration": 171,
    "start_time": "2024-09-30T19:21:20.907Z"
   },
   {
    "duration": 130,
    "start_time": "2024-09-30T19:21:21.079Z"
   },
   {
    "duration": 133,
    "start_time": "2024-09-30T19:21:21.210Z"
   },
   {
    "duration": 121,
    "start_time": "2024-09-30T19:21:21.348Z"
   },
   {
    "duration": 9,
    "start_time": "2024-09-30T19:21:21.471Z"
   },
   {
    "duration": 7,
    "start_time": "2024-09-30T19:21:21.482Z"
   },
   {
    "duration": 18,
    "start_time": "2024-09-30T19:21:21.490Z"
   },
   {
    "duration": 138,
    "start_time": "2024-09-30T19:21:21.510Z"
   },
   {
    "duration": 9,
    "start_time": "2024-09-30T19:21:21.652Z"
   },
   {
    "duration": 597,
    "start_time": "2024-09-30T19:21:21.662Z"
   },
   {
    "duration": 30,
    "start_time": "2024-09-30T19:21:22.261Z"
   },
   {
    "duration": 16,
    "start_time": "2024-09-30T19:21:22.293Z"
   },
   {
    "duration": 21,
    "start_time": "2024-09-30T19:21:22.311Z"
   },
   {
    "duration": 616,
    "start_time": "2024-09-30T19:21:22.334Z"
   },
   {
    "duration": 30,
    "start_time": "2024-09-30T19:21:22.952Z"
   },
   {
    "duration": 34,
    "start_time": "2024-09-30T19:21:22.984Z"
   },
   {
    "duration": 1926,
    "start_time": "2024-09-30T19:21:23.019Z"
   },
   {
    "duration": 9,
    "start_time": "2024-09-30T19:21:24.947Z"
   },
   {
    "duration": 6028,
    "start_time": "2024-09-30T19:21:24.957Z"
   },
   {
    "duration": 220,
    "start_time": "2024-09-30T19:21:30.987Z"
   },
   {
    "duration": 209,
    "start_time": "2024-09-30T19:21:31.210Z"
   },
   {
    "duration": 37,
    "start_time": "2024-09-30T19:21:31.421Z"
   },
   {
    "duration": 14,
    "start_time": "2024-09-30T19:21:31.459Z"
   },
   {
    "duration": 130,
    "start_time": "2024-09-30T19:21:31.475Z"
   },
   {
    "duration": 13,
    "start_time": "2024-09-30T19:21:31.609Z"
   },
   {
    "duration": 365,
    "start_time": "2024-09-30T19:21:31.624Z"
   },
   {
    "duration": 48,
    "start_time": "2024-09-30T19:21:31.991Z"
   },
   {
    "duration": 35,
    "start_time": "2024-09-30T19:21:32.040Z"
   },
   {
    "duration": 37,
    "start_time": "2024-09-30T19:21:32.076Z"
   },
   {
    "duration": 367,
    "start_time": "2024-09-30T19:21:32.114Z"
   },
   {
    "duration": 77,
    "start_time": "2024-09-30T19:21:32.486Z"
   },
   {
    "duration": 231,
    "start_time": "2024-09-30T19:21:32.565Z"
   },
   {
    "duration": 43,
    "start_time": "2024-09-30T19:21:32.799Z"
   },
   {
    "duration": 8,
    "start_time": "2024-09-30T19:21:32.844Z"
   },
   {
    "duration": 116,
    "start_time": "2024-09-30T19:21:32.854Z"
   },
   {
    "duration": 25,
    "start_time": "2024-09-30T19:23:07.703Z"
   },
   {
    "duration": 25,
    "start_time": "2024-09-30T19:23:45.729Z"
   },
   {
    "duration": 15,
    "start_time": "2024-09-30T19:24:38.451Z"
   },
   {
    "duration": 1783,
    "start_time": "2024-09-30T19:25:10.949Z"
   },
   {
    "duration": 890,
    "start_time": "2024-09-30T19:26:05.760Z"
   },
   {
    "duration": 31,
    "start_time": "2024-09-30T19:26:06.652Z"
   },
   {
    "duration": 20,
    "start_time": "2024-09-30T19:26:06.685Z"
   },
   {
    "duration": 10,
    "start_time": "2024-09-30T19:26:06.707Z"
   },
   {
    "duration": 5,
    "start_time": "2024-09-30T19:26:06.720Z"
   },
   {
    "duration": 6,
    "start_time": "2024-09-30T19:26:06.726Z"
   },
   {
    "duration": 4,
    "start_time": "2024-09-30T19:26:06.733Z"
   },
   {
    "duration": 6,
    "start_time": "2024-09-30T19:26:06.739Z"
   },
   {
    "duration": 14,
    "start_time": "2024-09-30T19:26:06.746Z"
   },
   {
    "duration": 46,
    "start_time": "2024-09-30T19:26:06.761Z"
   },
   {
    "duration": 170,
    "start_time": "2024-09-30T19:26:06.808Z"
   },
   {
    "duration": 113,
    "start_time": "2024-09-30T19:26:06.980Z"
   },
   {
    "duration": 118,
    "start_time": "2024-09-30T19:26:07.094Z"
   },
   {
    "duration": 111,
    "start_time": "2024-09-30T19:26:07.217Z"
   },
   {
    "duration": 4,
    "start_time": "2024-09-30T19:26:07.330Z"
   },
   {
    "duration": 4,
    "start_time": "2024-09-30T19:26:07.336Z"
   },
   {
    "duration": 4,
    "start_time": "2024-09-30T19:26:07.342Z"
   },
   {
    "duration": 134,
    "start_time": "2024-09-30T19:26:07.348Z"
   },
   {
    "duration": 7,
    "start_time": "2024-09-30T19:26:07.484Z"
   },
   {
    "duration": 590,
    "start_time": "2024-09-30T19:26:07.493Z"
   },
   {
    "duration": 39,
    "start_time": "2024-09-30T19:26:08.084Z"
   },
   {
    "duration": 8,
    "start_time": "2024-09-30T19:26:08.125Z"
   },
   {
    "duration": 25,
    "start_time": "2024-09-30T19:26:08.135Z"
   },
   {
    "duration": 44,
    "start_time": "2024-09-30T19:26:08.162Z"
   },
   {
    "duration": 1862,
    "start_time": "2024-09-30T19:26:08.207Z"
   },
   {
    "duration": 10,
    "start_time": "2024-09-30T19:26:10.071Z"
   },
   {
    "duration": 5961,
    "start_time": "2024-09-30T19:26:10.082Z"
   },
   {
    "duration": 216,
    "start_time": "2024-09-30T19:26:16.045Z"
   },
   {
    "duration": 202,
    "start_time": "2024-09-30T19:26:16.263Z"
   },
   {
    "duration": 47,
    "start_time": "2024-09-30T19:26:16.466Z"
   },
   {
    "duration": 16,
    "start_time": "2024-09-30T19:26:16.515Z"
   },
   {
    "duration": 89,
    "start_time": "2024-09-30T19:26:16.536Z"
   },
   {
    "duration": 84,
    "start_time": "2024-09-30T19:26:16.629Z"
   },
   {
    "duration": 338,
    "start_time": "2024-09-30T19:26:16.715Z"
   },
   {
    "duration": 52,
    "start_time": "2024-09-30T19:26:17.055Z"
   },
   {
    "duration": 33,
    "start_time": "2024-09-30T19:26:17.109Z"
   },
   {
    "duration": 21,
    "start_time": "2024-09-30T19:26:17.143Z"
   },
   {
    "duration": 371,
    "start_time": "2024-09-30T19:26:17.165Z"
   },
   {
    "duration": 75,
    "start_time": "2024-09-30T19:26:17.538Z"
   },
   {
    "duration": 221,
    "start_time": "2024-09-30T19:26:17.615Z"
   },
   {
    "duration": 43,
    "start_time": "2024-09-30T19:26:17.846Z"
   },
   {
    "duration": 17,
    "start_time": "2024-09-30T19:26:17.890Z"
   },
   {
    "duration": 106,
    "start_time": "2024-09-30T19:26:17.909Z"
   },
   {
    "duration": 6,
    "start_time": "2024-09-30T19:29:07.613Z"
   },
   {
    "duration": 31,
    "start_time": "2024-09-30T19:29:20.083Z"
   },
   {
    "duration": 1764,
    "start_time": "2024-09-30T19:30:06.776Z"
   },
   {
    "duration": 1038,
    "start_time": "2024-09-30T19:30:21.473Z"
   },
   {
    "duration": 798,
    "start_time": "2024-09-30T19:30:25.155Z"
   },
   {
    "duration": 904,
    "start_time": "2024-09-30T19:30:29.094Z"
   },
   {
    "duration": 1048,
    "start_time": "2024-09-30T19:30:32.233Z"
   },
   {
    "duration": 1133,
    "start_time": "2024-09-30T19:30:35.048Z"
   },
   {
    "duration": 1227,
    "start_time": "2024-09-30T19:30:38.514Z"
   },
   {
    "duration": 1239,
    "start_time": "2024-09-30T19:31:36.971Z"
   },
   {
    "duration": 1236,
    "start_time": "2024-09-30T19:32:03.248Z"
   },
   {
    "duration": 1235,
    "start_time": "2024-09-30T19:36:05.876Z"
   },
   {
    "duration": 78,
    "start_time": "2024-09-30T19:38:22.534Z"
   },
   {
    "duration": 2,
    "start_time": "2024-09-30T19:39:07.528Z"
   },
   {
    "duration": 5,
    "start_time": "2024-09-30T19:41:10.896Z"
   },
   {
    "duration": 3435,
    "start_time": "2024-09-30T19:41:14.570Z"
   },
   {
    "duration": 3804,
    "start_time": "2024-09-30T19:41:23.215Z"
   },
   {
    "duration": 3121,
    "start_time": "2024-09-30T19:41:30.154Z"
   },
   {
    "duration": 4163,
    "start_time": "2024-09-30T19:41:35.375Z"
   },
   {
    "duration": 3836,
    "start_time": "2024-09-30T19:41:41.997Z"
   },
   {
    "duration": 4158,
    "start_time": "2024-09-30T19:41:50.853Z"
   },
   {
    "duration": 4080,
    "start_time": "2024-09-30T19:42:36.025Z"
   },
   {
    "duration": 95,
    "start_time": "2024-09-30T19:43:41.235Z"
   },
   {
    "duration": 12,
    "start_time": "2024-09-30T19:48:36.214Z"
   },
   {
    "duration": 95,
    "start_time": "2024-09-30T19:48:47.118Z"
   },
   {
    "duration": 12,
    "start_time": "2024-09-30T19:49:40.053Z"
   },
   {
    "duration": 98,
    "start_time": "2024-09-30T19:50:00.073Z"
   },
   {
    "duration": 900,
    "start_time": "2024-09-30T19:51:55.529Z"
   },
   {
    "duration": 32,
    "start_time": "2024-09-30T19:51:56.431Z"
   },
   {
    "duration": 9,
    "start_time": "2024-09-30T19:51:56.465Z"
   },
   {
    "duration": 9,
    "start_time": "2024-09-30T19:51:56.475Z"
   },
   {
    "duration": 4,
    "start_time": "2024-09-30T19:51:56.506Z"
   },
   {
    "duration": 6,
    "start_time": "2024-09-30T19:51:56.512Z"
   },
   {
    "duration": 5,
    "start_time": "2024-09-30T19:51:56.519Z"
   },
   {
    "duration": 5,
    "start_time": "2024-09-30T19:51:56.525Z"
   },
   {
    "duration": 13,
    "start_time": "2024-09-30T19:51:56.532Z"
   },
   {
    "duration": 9,
    "start_time": "2024-09-30T19:51:56.546Z"
   },
   {
    "duration": 198,
    "start_time": "2024-09-30T19:51:56.557Z"
   },
   {
    "duration": 132,
    "start_time": "2024-09-30T19:51:56.757Z"
   },
   {
    "duration": 111,
    "start_time": "2024-09-30T19:51:56.890Z"
   },
   {
    "duration": 110,
    "start_time": "2024-09-30T19:51:57.006Z"
   },
   {
    "duration": 5,
    "start_time": "2024-09-30T19:51:57.118Z"
   },
   {
    "duration": 5,
    "start_time": "2024-09-30T19:51:57.124Z"
   },
   {
    "duration": 5,
    "start_time": "2024-09-30T19:51:57.130Z"
   },
   {
    "duration": 136,
    "start_time": "2024-09-30T19:51:57.136Z"
   },
   {
    "duration": 8,
    "start_time": "2024-09-30T19:51:57.273Z"
   },
   {
    "duration": 593,
    "start_time": "2024-09-30T19:51:57.282Z"
   },
   {
    "duration": 41,
    "start_time": "2024-09-30T19:51:57.877Z"
   },
   {
    "duration": 9,
    "start_time": "2024-09-30T19:51:57.919Z"
   },
   {
    "duration": 26,
    "start_time": "2024-09-30T19:51:57.929Z"
   },
   {
    "duration": 51,
    "start_time": "2024-09-30T19:51:57.956Z"
   },
   {
    "duration": 1333,
    "start_time": "2024-09-30T19:51:58.008Z"
   },
   {
    "duration": 86,
    "start_time": "2024-09-30T19:51:59.343Z"
   },
   {
    "duration": 10,
    "start_time": "2024-09-30T19:51:59.431Z"
   },
   {
    "duration": 4145,
    "start_time": "2024-09-30T19:51:59.442Z"
   },
   {
    "duration": 102,
    "start_time": "2024-09-30T19:52:03.588Z"
   },
   {
    "duration": 20,
    "start_time": "2024-09-30T19:52:03.691Z"
   },
   {
    "duration": 107,
    "start_time": "2024-09-30T19:52:03.712Z"
   },
   {
    "duration": 1263,
    "start_time": "2024-09-30T19:54:32.898Z"
   },
   {
    "duration": 840,
    "start_time": "2024-09-30T19:54:53.099Z"
   },
   {
    "duration": 31,
    "start_time": "2024-09-30T19:54:53.941Z"
   },
   {
    "duration": 9,
    "start_time": "2024-09-30T19:54:53.974Z"
   },
   {
    "duration": 22,
    "start_time": "2024-09-30T19:54:53.984Z"
   },
   {
    "duration": 5,
    "start_time": "2024-09-30T19:54:54.008Z"
   },
   {
    "duration": 7,
    "start_time": "2024-09-30T19:54:54.014Z"
   },
   {
    "duration": 5,
    "start_time": "2024-09-30T19:54:54.022Z"
   },
   {
    "duration": 6,
    "start_time": "2024-09-30T19:54:54.029Z"
   },
   {
    "duration": 12,
    "start_time": "2024-09-30T19:54:54.037Z"
   },
   {
    "duration": 10,
    "start_time": "2024-09-30T19:54:54.050Z"
   },
   {
    "duration": 218,
    "start_time": "2024-09-30T19:54:54.061Z"
   },
   {
    "duration": 124,
    "start_time": "2024-09-30T19:54:54.281Z"
   },
   {
    "duration": 113,
    "start_time": "2024-09-30T19:54:54.406Z"
   },
   {
    "duration": 112,
    "start_time": "2024-09-30T19:54:54.523Z"
   },
   {
    "duration": 4,
    "start_time": "2024-09-30T19:54:54.637Z"
   },
   {
    "duration": 4,
    "start_time": "2024-09-30T19:54:54.643Z"
   },
   {
    "duration": 4,
    "start_time": "2024-09-30T19:54:54.649Z"
   },
   {
    "duration": 138,
    "start_time": "2024-09-30T19:54:54.655Z"
   },
   {
    "duration": 15,
    "start_time": "2024-09-30T19:54:54.795Z"
   },
   {
    "duration": 593,
    "start_time": "2024-09-30T19:54:54.812Z"
   },
   {
    "duration": 30,
    "start_time": "2024-09-30T19:54:55.407Z"
   },
   {
    "duration": 9,
    "start_time": "2024-09-30T19:54:55.438Z"
   },
   {
    "duration": 31,
    "start_time": "2024-09-30T19:54:55.449Z"
   },
   {
    "duration": 32,
    "start_time": "2024-09-30T19:54:55.482Z"
   },
   {
    "duration": 1323,
    "start_time": "2024-09-30T19:54:55.516Z"
   },
   {
    "duration": 88,
    "start_time": "2024-09-30T19:54:56.840Z"
   },
   {
    "duration": 8,
    "start_time": "2024-09-30T19:54:56.930Z"
   },
   {
    "duration": 4086,
    "start_time": "2024-09-30T19:54:56.940Z"
   },
   {
    "duration": 103,
    "start_time": "2024-09-30T19:55:01.027Z"
   },
   {
    "duration": 11,
    "start_time": "2024-09-30T19:55:01.132Z"
   },
   {
    "duration": 112,
    "start_time": "2024-09-30T19:55:01.144Z"
   },
   {
    "duration": 41,
    "start_time": "2024-09-30T19:56:20.853Z"
   },
   {
    "duration": 4154,
    "start_time": "2024-09-30T19:56:41.874Z"
   },
   {
    "duration": 150,
    "start_time": "2024-09-30T19:56:49.454Z"
   },
   {
    "duration": 1263,
    "start_time": "2024-09-30T19:57:15.554Z"
   },
   {
    "duration": 41,
    "start_time": "2024-09-30T19:57:24.929Z"
   },
   {
    "duration": 142,
    "start_time": "2024-09-30T19:57:36.394Z"
   },
   {
    "duration": 901,
    "start_time": "2024-09-30T19:59:18.437Z"
   },
   {
    "duration": 31,
    "start_time": "2024-09-30T19:59:19.340Z"
   },
   {
    "duration": 9,
    "start_time": "2024-09-30T19:59:19.373Z"
   },
   {
    "duration": 23,
    "start_time": "2024-09-30T19:59:19.383Z"
   },
   {
    "duration": 5,
    "start_time": "2024-09-30T19:59:19.408Z"
   },
   {
    "duration": 7,
    "start_time": "2024-09-30T19:59:19.414Z"
   },
   {
    "duration": 5,
    "start_time": "2024-09-30T19:59:19.422Z"
   },
   {
    "duration": 5,
    "start_time": "2024-09-30T19:59:19.429Z"
   },
   {
    "duration": 14,
    "start_time": "2024-09-30T19:59:19.436Z"
   },
   {
    "duration": 7,
    "start_time": "2024-09-30T19:59:19.453Z"
   },
   {
    "duration": 209,
    "start_time": "2024-09-30T19:59:19.462Z"
   },
   {
    "duration": 114,
    "start_time": "2024-09-30T19:59:19.673Z"
   },
   {
    "duration": 109,
    "start_time": "2024-09-30T19:59:19.788Z"
   },
   {
    "duration": 108,
    "start_time": "2024-09-30T19:59:19.906Z"
   },
   {
    "duration": 6,
    "start_time": "2024-09-30T19:59:20.015Z"
   },
   {
    "duration": 5,
    "start_time": "2024-09-30T19:59:20.022Z"
   },
   {
    "duration": 5,
    "start_time": "2024-09-30T19:59:20.028Z"
   },
   {
    "duration": 133,
    "start_time": "2024-09-30T19:59:20.034Z"
   },
   {
    "duration": 7,
    "start_time": "2024-09-30T19:59:20.169Z"
   },
   {
    "duration": 587,
    "start_time": "2024-09-30T19:59:20.178Z"
   },
   {
    "duration": 39,
    "start_time": "2024-09-30T19:59:20.767Z"
   },
   {
    "duration": 8,
    "start_time": "2024-09-30T19:59:20.808Z"
   },
   {
    "duration": 26,
    "start_time": "2024-09-30T19:59:20.818Z"
   },
   {
    "duration": 59,
    "start_time": "2024-09-30T19:59:20.847Z"
   },
   {
    "duration": 1331,
    "start_time": "2024-09-30T19:59:20.907Z"
   },
   {
    "duration": 40,
    "start_time": "2024-09-30T19:59:22.239Z"
   },
   {
    "duration": 9,
    "start_time": "2024-09-30T19:59:22.280Z"
   },
   {
    "duration": 4165,
    "start_time": "2024-09-30T19:59:22.291Z"
   },
   {
    "duration": 144,
    "start_time": "2024-09-30T19:59:26.458Z"
   },
   {
    "duration": 13,
    "start_time": "2024-09-30T19:59:26.603Z"
   },
   {
    "duration": 112,
    "start_time": "2024-09-30T19:59:26.618Z"
   },
   {
    "duration": 13,
    "start_time": "2024-09-30T20:02:45.054Z"
   },
   {
    "duration": 98,
    "start_time": "2024-09-30T20:02:49.653Z"
   },
   {
    "duration": 891,
    "start_time": "2024-09-30T20:03:02.563Z"
   },
   {
    "duration": 32,
    "start_time": "2024-09-30T20:03:03.457Z"
   },
   {
    "duration": 18,
    "start_time": "2024-09-30T20:03:03.491Z"
   },
   {
    "duration": 9,
    "start_time": "2024-09-30T20:03:03.510Z"
   },
   {
    "duration": 5,
    "start_time": "2024-09-30T20:03:03.521Z"
   },
   {
    "duration": 5,
    "start_time": "2024-09-30T20:03:03.528Z"
   },
   {
    "duration": 5,
    "start_time": "2024-09-30T20:03:03.534Z"
   },
   {
    "duration": 7,
    "start_time": "2024-09-30T20:03:03.540Z"
   },
   {
    "duration": 13,
    "start_time": "2024-09-30T20:03:03.548Z"
   },
   {
    "duration": 46,
    "start_time": "2024-09-30T20:03:03.563Z"
   },
   {
    "duration": 172,
    "start_time": "2024-09-30T20:03:03.610Z"
   },
   {
    "duration": 122,
    "start_time": "2024-09-30T20:03:03.783Z"
   },
   {
    "duration": 113,
    "start_time": "2024-09-30T20:03:03.907Z"
   },
   {
    "duration": 116,
    "start_time": "2024-09-30T20:03:04.024Z"
   },
   {
    "duration": 9,
    "start_time": "2024-09-30T20:03:04.142Z"
   },
   {
    "duration": 6,
    "start_time": "2024-09-30T20:03:04.153Z"
   },
   {
    "duration": 4,
    "start_time": "2024-09-30T20:03:04.160Z"
   },
   {
    "duration": 134,
    "start_time": "2024-09-30T20:03:04.166Z"
   },
   {
    "duration": 7,
    "start_time": "2024-09-30T20:03:04.305Z"
   },
   {
    "duration": 582,
    "start_time": "2024-09-30T20:03:04.314Z"
   },
   {
    "duration": 34,
    "start_time": "2024-09-30T20:03:04.898Z"
   },
   {
    "duration": 9,
    "start_time": "2024-09-30T20:03:04.934Z"
   },
   {
    "duration": 25,
    "start_time": "2024-09-30T20:03:04.944Z"
   },
   {
    "duration": 43,
    "start_time": "2024-09-30T20:03:04.970Z"
   },
   {
    "duration": 1351,
    "start_time": "2024-09-30T20:03:05.014Z"
   },
   {
    "duration": 49,
    "start_time": "2024-09-30T20:03:06.367Z"
   },
   {
    "duration": 9,
    "start_time": "2024-09-30T20:03:06.417Z"
   },
   {
    "duration": 4114,
    "start_time": "2024-09-30T20:03:06.428Z"
   },
   {
    "duration": 145,
    "start_time": "2024-09-30T20:03:10.544Z"
   },
   {
    "duration": 17,
    "start_time": "2024-09-30T20:03:10.691Z"
   },
   {
    "duration": 110,
    "start_time": "2024-09-30T20:03:10.709Z"
   },
   {
    "duration": 942,
    "start_time": "2024-09-30T20:04:22.013Z"
   },
   {
    "duration": 33,
    "start_time": "2024-09-30T20:04:22.957Z"
   },
   {
    "duration": 20,
    "start_time": "2024-09-30T20:04:22.992Z"
   },
   {
    "duration": 11,
    "start_time": "2024-09-30T20:04:23.014Z"
   },
   {
    "duration": 5,
    "start_time": "2024-09-30T20:04:23.027Z"
   },
   {
    "duration": 5,
    "start_time": "2024-09-30T20:04:23.034Z"
   },
   {
    "duration": 4,
    "start_time": "2024-09-30T20:04:23.041Z"
   },
   {
    "duration": 6,
    "start_time": "2024-09-30T20:04:23.047Z"
   },
   {
    "duration": 13,
    "start_time": "2024-09-30T20:04:23.054Z"
   },
   {
    "duration": 10,
    "start_time": "2024-09-30T20:04:23.105Z"
   },
   {
    "duration": 170,
    "start_time": "2024-09-30T20:04:23.117Z"
   },
   {
    "duration": 117,
    "start_time": "2024-09-30T20:04:23.289Z"
   },
   {
    "duration": 115,
    "start_time": "2024-09-30T20:04:23.408Z"
   },
   {
    "duration": 114,
    "start_time": "2024-09-30T20:04:23.527Z"
   },
   {
    "duration": 5,
    "start_time": "2024-09-30T20:04:23.643Z"
   },
   {
    "duration": 4,
    "start_time": "2024-09-30T20:04:23.650Z"
   },
   {
    "duration": 4,
    "start_time": "2024-09-30T20:04:23.656Z"
   },
   {
    "duration": 141,
    "start_time": "2024-09-30T20:04:23.661Z"
   },
   {
    "duration": 7,
    "start_time": "2024-09-30T20:04:23.805Z"
   },
   {
    "duration": 591,
    "start_time": "2024-09-30T20:04:23.814Z"
   },
   {
    "duration": 30,
    "start_time": "2024-09-30T20:04:24.407Z"
   },
   {
    "duration": 8,
    "start_time": "2024-09-30T20:04:24.439Z"
   },
   {
    "duration": 26,
    "start_time": "2024-09-30T20:04:24.449Z"
   },
   {
    "duration": 43,
    "start_time": "2024-09-30T20:04:24.476Z"
   },
   {
    "duration": 1359,
    "start_time": "2024-09-30T20:04:24.521Z"
   },
   {
    "duration": 49,
    "start_time": "2024-09-30T20:04:25.882Z"
   },
   {
    "duration": 9,
    "start_time": "2024-09-30T20:04:25.932Z"
   },
   {
    "duration": 4104,
    "start_time": "2024-09-30T20:04:25.943Z"
   },
   {
    "duration": 146,
    "start_time": "2024-09-30T20:04:30.049Z"
   },
   {
    "duration": 13,
    "start_time": "2024-09-30T20:04:30.204Z"
   },
   {
    "duration": 105,
    "start_time": "2024-09-30T20:04:30.220Z"
   }
  ],
  "kernelspec": {
   "display_name": "Python 3 (ipykernel)",
   "language": "python",
   "name": "python3"
  },
  "language_info": {
   "codemirror_mode": {
    "name": "ipython",
    "version": 3
   },
   "file_extension": ".py",
   "mimetype": "text/x-python",
   "name": "python",
   "nbconvert_exporter": "python",
   "pygments_lexer": "ipython3",
   "version": "3.12.4"
  },
  "toc": {
   "base_numbering": 1,
   "nav_menu": {},
   "number_sections": true,
   "sideBar": true,
   "skip_h1_title": true,
   "title_cell": "Table of Contents",
   "title_sidebar": "Contents",
   "toc_cell": false,
   "toc_position": {},
   "toc_section_display": true,
   "toc_window_display": false
  }
 },
 "nbformat": 4,
 "nbformat_minor": 4
}

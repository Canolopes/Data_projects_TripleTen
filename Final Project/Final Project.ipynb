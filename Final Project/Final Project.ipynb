{
 "cells": [
  {
   "cell_type": "markdown",
   "metadata": {},
   "source": [
    "Hello Enrique!\n",
    "\n",
    "I’m happy to review your project today.\n",
    "I will mark your mistakes and give you some hints how it is possible to fix them. We are getting ready for real job, where your team leader/senior colleague will do exactly the same. Don't worry and study with pleasure! \n",
    "\n",
    "Below you will find my comments - **please do not move, modify or delete them**.\n",
    "\n",
    "You can find my comments in green, yellow or red boxes like this:\n",
    "\n",
    "<div class=\"alert alert-block alert-success\">\n",
    "<b>Reviewer's comment</b> <a class=\"tocSkip\"></a>\n",
    "\n",
    "Success. Everything is done succesfully.\n",
    "</div>\n",
    "\n",
    "<div class=\"alert alert-block alert-warning\">\n",
    "<b>Reviewer's comment</b> <a class=\"tocSkip\"></a>\n",
    "\n",
    "Remarks. Some recommendations.\n",
    "</div>\n",
    "\n",
    "<div class=\"alert alert-block alert-danger\">\n",
    "\n",
    "<b>Reviewer's comment</b> <a class=\"tocSkip\"></a>\n",
    "\n",
    "Needs fixing. The block requires some corrections. Work can't be accepted with the red comments.\n",
    "</div>\n",
    "\n",
    "You can answer me by using this:\n",
    "\n",
    "<div class=\"alert alert-block alert-info\">\n",
    "<b>Student answer.</b> <a class=\"tocSkip\"></a>\n",
    "\n",
    "Thank you so much for the feedback, I appreacaite it! I should have double checked before submitting. Thanks! \n",
    "</div>\n"
   ]
  },
  {
   "cell_type": "markdown",
   "metadata": {},
   "source": [
    "# Interconnect EDA and Model Creation: Solution Code"
   ]
  },
  {
   "cell_type": "markdown",
   "metadata": {},
   "source": [
    "## Initialization"
   ]
  },
  {
   "cell_type": "code",
   "execution_count": 1,
   "metadata": {},
   "outputs": [],
   "source": [
    "import pandas as pd\n",
    "import numpy as np\n",
    "from lightgbm import LGBMClassifier\n",
    "from catboost import CatBoostClassifier\n",
    "from sklearn.linear_model import LogisticRegression\n",
    "from sklearn.ensemble import RandomForestClassifier\n",
    "from sklearn.neighbors import KNeighborsClassifier\n",
    "from sklearn.dummy import DummyClassifier\n",
    "from sklearn.model_selection import GridSearchCV\n",
    "from sklearn.preprocessing import StandardScaler\n",
    "from sklearn.model_selection import train_test_split\n",
    "import matplotlib.pyplot as plt\n",
    "import seaborn as sns\n",
    "from sklearn.metrics import roc_curve, roc_auc_score\n",
    "\n",
    "contract = pd.read_csv('/datasets/final_provider/contract.csv')\n",
    "personal = pd.read_csv('/datasets/final_provider/personal.csv')\n",
    "internet = pd.read_csv('/datasets/final_provider/internet.csv')\n",
    "phone = pd.read_csv('/datasets/final_provider/phone.csv')"
   ]
  },
  {
   "cell_type": "markdown",
   "metadata": {},
   "source": [
    "## Data Preprocessing"
   ]
  },
  {
   "cell_type": "code",
   "execution_count": 2,
   "metadata": {},
   "outputs": [
    {
     "name": "stdout",
     "output_type": "stream",
     "text": [
      "<class 'pandas.core.frame.DataFrame'>\n",
      "Int64Index: 7043 entries, 0 to 7042\n",
      "Data columns (total 20 columns):\n",
      " #   Column            Non-Null Count  Dtype  \n",
      "---  ------            --------------  -----  \n",
      " 0   customerID        7043 non-null   object \n",
      " 1   BeginDate         7043 non-null   object \n",
      " 2   EndDate           7043 non-null   object \n",
      " 3   Type              7043 non-null   object \n",
      " 4   PaperlessBilling  7043 non-null   object \n",
      " 5   PaymentMethod     7043 non-null   object \n",
      " 6   MonthlyCharges    7043 non-null   float64\n",
      " 7   TotalCharges      7043 non-null   object \n",
      " 8   gender            7043 non-null   object \n",
      " 9   SeniorCitizen     7043 non-null   int64  \n",
      " 10  Partner           7043 non-null   object \n",
      " 11  Dependents        7043 non-null   object \n",
      " 12  InternetService   5517 non-null   object \n",
      " 13  OnlineSecurity    5517 non-null   object \n",
      " 14  OnlineBackup      5517 non-null   object \n",
      " 15  DeviceProtection  5517 non-null   object \n",
      " 16  TechSupport       5517 non-null   object \n",
      " 17  StreamingTV       5517 non-null   object \n",
      " 18  StreamingMovies   5517 non-null   object \n",
      " 19  MultipleLines     6361 non-null   object \n",
      "dtypes: float64(1), int64(1), object(18)\n",
      "memory usage: 1.1+ MB\n"
     ]
    },
    {
     "data": {
      "text/plain": [
       "None"
      ]
     },
     "metadata": {},
     "output_type": "display_data"
    },
    {
     "data": {
      "text/html": [
       "<div>\n",
       "<style scoped>\n",
       "    .dataframe tbody tr th:only-of-type {\n",
       "        vertical-align: middle;\n",
       "    }\n",
       "\n",
       "    .dataframe tbody tr th {\n",
       "        vertical-align: top;\n",
       "    }\n",
       "\n",
       "    .dataframe thead th {\n",
       "        text-align: right;\n",
       "    }\n",
       "</style>\n",
       "<table border=\"1\" class=\"dataframe\">\n",
       "  <thead>\n",
       "    <tr style=\"text-align: right;\">\n",
       "      <th></th>\n",
       "      <th>customerID</th>\n",
       "      <th>BeginDate</th>\n",
       "      <th>EndDate</th>\n",
       "      <th>Type</th>\n",
       "      <th>PaperlessBilling</th>\n",
       "      <th>PaymentMethod</th>\n",
       "      <th>MonthlyCharges</th>\n",
       "      <th>TotalCharges</th>\n",
       "      <th>gender</th>\n",
       "      <th>SeniorCitizen</th>\n",
       "      <th>Partner</th>\n",
       "      <th>Dependents</th>\n",
       "      <th>InternetService</th>\n",
       "      <th>OnlineSecurity</th>\n",
       "      <th>OnlineBackup</th>\n",
       "      <th>DeviceProtection</th>\n",
       "      <th>TechSupport</th>\n",
       "      <th>StreamingTV</th>\n",
       "      <th>StreamingMovies</th>\n",
       "      <th>MultipleLines</th>\n",
       "    </tr>\n",
       "  </thead>\n",
       "  <tbody>\n",
       "    <tr>\n",
       "      <th>0</th>\n",
       "      <td>7590-VHVEG</td>\n",
       "      <td>2020-01-01</td>\n",
       "      <td>No</td>\n",
       "      <td>Month-to-month</td>\n",
       "      <td>Yes</td>\n",
       "      <td>Electronic check</td>\n",
       "      <td>29.85</td>\n",
       "      <td>29.85</td>\n",
       "      <td>Female</td>\n",
       "      <td>0</td>\n",
       "      <td>Yes</td>\n",
       "      <td>No</td>\n",
       "      <td>DSL</td>\n",
       "      <td>No</td>\n",
       "      <td>Yes</td>\n",
       "      <td>No</td>\n",
       "      <td>No</td>\n",
       "      <td>No</td>\n",
       "      <td>No</td>\n",
       "      <td>NaN</td>\n",
       "    </tr>\n",
       "    <tr>\n",
       "      <th>1</th>\n",
       "      <td>5575-GNVDE</td>\n",
       "      <td>2017-04-01</td>\n",
       "      <td>No</td>\n",
       "      <td>One year</td>\n",
       "      <td>No</td>\n",
       "      <td>Mailed check</td>\n",
       "      <td>56.95</td>\n",
       "      <td>1889.5</td>\n",
       "      <td>Male</td>\n",
       "      <td>0</td>\n",
       "      <td>No</td>\n",
       "      <td>No</td>\n",
       "      <td>DSL</td>\n",
       "      <td>Yes</td>\n",
       "      <td>No</td>\n",
       "      <td>Yes</td>\n",
       "      <td>No</td>\n",
       "      <td>No</td>\n",
       "      <td>No</td>\n",
       "      <td>No</td>\n",
       "    </tr>\n",
       "    <tr>\n",
       "      <th>2</th>\n",
       "      <td>3668-QPYBK</td>\n",
       "      <td>2019-10-01</td>\n",
       "      <td>2019-12-01 00:00:00</td>\n",
       "      <td>Month-to-month</td>\n",
       "      <td>Yes</td>\n",
       "      <td>Mailed check</td>\n",
       "      <td>53.85</td>\n",
       "      <td>108.15</td>\n",
       "      <td>Male</td>\n",
       "      <td>0</td>\n",
       "      <td>No</td>\n",
       "      <td>No</td>\n",
       "      <td>DSL</td>\n",
       "      <td>Yes</td>\n",
       "      <td>Yes</td>\n",
       "      <td>No</td>\n",
       "      <td>No</td>\n",
       "      <td>No</td>\n",
       "      <td>No</td>\n",
       "      <td>No</td>\n",
       "    </tr>\n",
       "    <tr>\n",
       "      <th>3</th>\n",
       "      <td>7795-CFOCW</td>\n",
       "      <td>2016-05-01</td>\n",
       "      <td>No</td>\n",
       "      <td>One year</td>\n",
       "      <td>No</td>\n",
       "      <td>Bank transfer (automatic)</td>\n",
       "      <td>42.30</td>\n",
       "      <td>1840.75</td>\n",
       "      <td>Male</td>\n",
       "      <td>0</td>\n",
       "      <td>No</td>\n",
       "      <td>No</td>\n",
       "      <td>DSL</td>\n",
       "      <td>Yes</td>\n",
       "      <td>No</td>\n",
       "      <td>Yes</td>\n",
       "      <td>Yes</td>\n",
       "      <td>No</td>\n",
       "      <td>No</td>\n",
       "      <td>NaN</td>\n",
       "    </tr>\n",
       "    <tr>\n",
       "      <th>4</th>\n",
       "      <td>9237-HQITU</td>\n",
       "      <td>2019-09-01</td>\n",
       "      <td>2019-11-01 00:00:00</td>\n",
       "      <td>Month-to-month</td>\n",
       "      <td>Yes</td>\n",
       "      <td>Electronic check</td>\n",
       "      <td>70.70</td>\n",
       "      <td>151.65</td>\n",
       "      <td>Female</td>\n",
       "      <td>0</td>\n",
       "      <td>No</td>\n",
       "      <td>No</td>\n",
       "      <td>Fiber optic</td>\n",
       "      <td>No</td>\n",
       "      <td>No</td>\n",
       "      <td>No</td>\n",
       "      <td>No</td>\n",
       "      <td>No</td>\n",
       "      <td>No</td>\n",
       "      <td>No</td>\n",
       "    </tr>\n",
       "  </tbody>\n",
       "</table>\n",
       "</div>"
      ],
      "text/plain": [
       "   customerID   BeginDate              EndDate            Type  \\\n",
       "0  7590-VHVEG  2020-01-01                   No  Month-to-month   \n",
       "1  5575-GNVDE  2017-04-01                   No        One year   \n",
       "2  3668-QPYBK  2019-10-01  2019-12-01 00:00:00  Month-to-month   \n",
       "3  7795-CFOCW  2016-05-01                   No        One year   \n",
       "4  9237-HQITU  2019-09-01  2019-11-01 00:00:00  Month-to-month   \n",
       "\n",
       "  PaperlessBilling              PaymentMethod  MonthlyCharges TotalCharges  \\\n",
       "0              Yes           Electronic check           29.85        29.85   \n",
       "1               No               Mailed check           56.95       1889.5   \n",
       "2              Yes               Mailed check           53.85       108.15   \n",
       "3               No  Bank transfer (automatic)           42.30      1840.75   \n",
       "4              Yes           Electronic check           70.70       151.65   \n",
       "\n",
       "   gender  SeniorCitizen Partner Dependents InternetService OnlineSecurity  \\\n",
       "0  Female              0     Yes         No             DSL             No   \n",
       "1    Male              0      No         No             DSL            Yes   \n",
       "2    Male              0      No         No             DSL            Yes   \n",
       "3    Male              0      No         No             DSL            Yes   \n",
       "4  Female              0      No         No     Fiber optic             No   \n",
       "\n",
       "  OnlineBackup DeviceProtection TechSupport StreamingTV StreamingMovies  \\\n",
       "0          Yes               No          No          No              No   \n",
       "1           No              Yes          No          No              No   \n",
       "2          Yes               No          No          No              No   \n",
       "3           No              Yes         Yes          No              No   \n",
       "4           No               No          No          No              No   \n",
       "\n",
       "  MultipleLines  \n",
       "0           NaN  \n",
       "1            No  \n",
       "2            No  \n",
       "3           NaN  \n",
       "4            No  "
      ]
     },
     "execution_count": 2,
     "metadata": {},
     "output_type": "execute_result"
    }
   ],
   "source": [
    "#Merging all dataframes into one\n",
    "\n",
    "full_data = contract.merge(personal, on='customerID', how='left')\\\n",
    "             .merge(internet, on='customerID', how='left')\\\n",
    "             .merge(phone, on='customerID', how='left')\n",
    "display(full_data.info())\n",
    "full_data.head()"
   ]
  },
  {
   "cell_type": "code",
   "execution_count": 3,
   "metadata": {},
   "outputs": [
    {
     "name": "stdout",
     "output_type": "stream",
     "text": [
      "<class 'pandas.core.frame.DataFrame'>\n",
      "Int64Index: 7043 entries, 0 to 7042\n",
      "Data columns (total 20 columns):\n",
      " #   Column            Non-Null Count  Dtype         \n",
      "---  ------            --------------  -----         \n",
      " 0   customerID        7043 non-null   object        \n",
      " 1   BeginDate         7043 non-null   datetime64[ns]\n",
      " 2   EndDate           7043 non-null   object        \n",
      " 3   Type              7043 non-null   object        \n",
      " 4   PaperlessBilling  7043 non-null   object        \n",
      " 5   PaymentMethod     7043 non-null   object        \n",
      " 6   MonthlyCharges    7043 non-null   float64       \n",
      " 7   TotalCharges      7032 non-null   float64       \n",
      " 8   gender            7043 non-null   object        \n",
      " 9   SeniorCitizen     7043 non-null   int64         \n",
      " 10  Partner           7043 non-null   object        \n",
      " 11  Dependents        7043 non-null   object        \n",
      " 12  InternetService   5517 non-null   object        \n",
      " 13  OnlineSecurity    5517 non-null   object        \n",
      " 14  OnlineBackup      5517 non-null   object        \n",
      " 15  DeviceProtection  5517 non-null   object        \n",
      " 16  TechSupport       5517 non-null   object        \n",
      " 17  StreamingTV       5517 non-null   object        \n",
      " 18  StreamingMovies   5517 non-null   object        \n",
      " 19  MultipleLines     6361 non-null   object        \n",
      "dtypes: datetime64[ns](1), float64(2), int64(1), object(16)\n",
      "memory usage: 1.1+ MB\n"
     ]
    }
   ],
   "source": [
    "#Convert date columns to datetime\n",
    "full_data['BeginDate']= pd.to_datetime(full_data['BeginDate'])\n",
    "\n",
    "#Total charges should also be float type\n",
    "full_data['TotalCharges'] = pd.to_numeric(full_data['TotalCharges'], errors='coerce')\n",
    "full_data.info()"
   ]
  },
  {
   "cell_type": "markdown",
   "metadata": {},
   "source": [
    "The 'EndDate' column contains string and also is our target for this task, so in this case we will leave the column unedited.\n",
    "\n",
    "__We will now determine how to fill the NaNs that have arisen from the merge.__"
   ]
  },
  {
   "cell_type": "code",
   "execution_count": 4,
   "metadata": {},
   "outputs": [
    {
     "data": {
      "text/plain": [
       "Fiber optic    0.561175\n",
       "DSL            0.438825\n",
       "Name: InternetService, dtype: float64"
      ]
     },
     "metadata": {},
     "output_type": "display_data"
    },
    {
     "data": {
      "image/png": "[encoded data removed]",
      "text/plain": [
       "<Figure size 640x480 with 1 Axes>"
      ]
     },
     "metadata": {},
     "output_type": "display_data"
    }
   ],
   "source": [
    "display(full_data['InternetService'].value_counts(normalize=True))\n",
    "full_data['InternetService'].value_counts(normalize=True).plot(kind = 'bar')\n",
    "plt.title('Distribution of Internet Service Types')\n",
    "plt.ylabel('Proportion')\n",
    "plt.show()"
   ]
  },
  {
   "cell_type": "code",
   "execution_count": 5,
   "metadata": {
    "scrolled": true
   },
   "outputs": [
    {
     "name": "stdout",
     "output_type": "stream",
     "text": [
      "\n",
      "Distribution for InternetService before filling:\n",
      "Fiber optic    0.561175\n",
      "DSL            0.438825\n",
      "Name: InternetService, dtype: float64\n",
      "\n",
      "Distribution for InternetService after filling:\n",
      "DSL            0.560415\n",
      "Fiber optic    0.439585\n",
      "Name: InternetService, dtype: float64\n",
      "--------------------------------------------------\n",
      "\n",
      "Distribution for OnlineSecurity before filling:\n",
      "No     0.63404\n",
      "Yes    0.36596\n",
      "Name: OnlineSecurity, dtype: float64\n",
      "\n",
      "Distribution for OnlineSecurity after filling:\n",
      "No     0.713332\n",
      "Yes    0.286668\n",
      "Name: OnlineSecurity, dtype: float64\n",
      "--------------------------------------------------\n",
      "\n",
      "Distribution for OnlineBackup before filling:\n",
      "No     0.559724\n",
      "Yes    0.440276\n",
      "Name: OnlineBackup, dtype: float64\n",
      "\n",
      "Distribution for OnlineBackup after filling:\n",
      "No     0.655119\n",
      "Yes    0.344881\n",
      "Name: OnlineBackup, dtype: float64\n",
      "--------------------------------------------------\n",
      "\n",
      "Distribution for DeviceProtection before filling:\n",
      "No     0.560993\n",
      "Yes    0.439007\n",
      "Name: DeviceProtection, dtype: float64\n",
      "\n",
      "Distribution for DeviceProtection after filling:\n",
      "Yes    0.560557\n",
      "No     0.439443\n",
      "Name: DeviceProtection, dtype: float64\n",
      "--------------------------------------------------\n",
      "\n",
      "Distribution for TechSupport before filling:\n",
      "No     0.629509\n",
      "Yes    0.370491\n",
      "Name: TechSupport, dtype: float64\n",
      "\n",
      "Distribution for TechSupport after filling:\n",
      "No     0.709783\n",
      "Yes    0.290217\n",
      "Name: TechSupport, dtype: float64\n",
      "--------------------------------------------------\n",
      "\n",
      "Distribution for StreamingTV before filling:\n",
      "No     0.509335\n",
      "Yes    0.490665\n",
      "Name: StreamingTV, dtype: float64\n",
      "\n",
      "Distribution for StreamingTV after filling:\n",
      "No     0.615647\n",
      "Yes    0.384353\n",
      "Name: StreamingTV, dtype: float64\n",
      "--------------------------------------------------\n",
      "\n",
      "Distribution for StreamingMovies before filling:\n",
      "No     0.504803\n",
      "Yes    0.495197\n",
      "Name: StreamingMovies, dtype: float64\n",
      "\n",
      "Distribution for StreamingMovies after filling:\n",
      "No     0.612097\n",
      "Yes    0.387903\n",
      "Name: StreamingMovies, dtype: float64\n",
      "--------------------------------------------------\n",
      "\n",
      "Distribution for MultipleLines before filling:\n",
      "No     0.532935\n",
      "Yes    0.467065\n",
      "Name: MultipleLines, dtype: float64\n",
      "\n",
      "Distribution for MultipleLines after filling:\n",
      "Yes    0.518671\n",
      "No     0.481329\n",
      "Name: MultipleLines, dtype: float64\n",
      "--------------------------------------------------\n"
     ]
    }
   ],
   "source": [
    "#Fill based on distribution\n",
    "\n",
    "def fill_proportional(data, columns):\n",
    "    np.random.seed(999)\n",
    "    \n",
    "    for col in columns:\n",
    "        # Get and display original distribution\n",
    "        print(f\"\\nDistribution for {col} before filling:\")\n",
    "        print(data[col].value_counts(normalize=True))\n",
    "        \n",
    "        # Fill values proportionally\n",
    "        value_counts = data[col].value_counts(normalize=True)\n",
    "        data[col] = data[col].fillna(\n",
    "            pd.np.random.choice(\n",
    "                a=list(value_counts.index),\n",
    "                p=list(value_counts),\n",
    "                size=1\n",
    "            )[0]\n",
    "        )\n",
    "        \n",
    "        # Display new distribution\n",
    "        print(f\"\\nDistribution for {col} after filling:\")\n",
    "        print(data[col].value_counts(normalize=True))\n",
    "        print(\"-\" * 50)\n",
    "    \n",
    "    return data\n",
    "\n",
    "# Use the function with your columns\n",
    "columns_to_fill = ['InternetService', 'OnlineSecurity', 'OnlineBackup', \n",
    "                   'DeviceProtection', 'TechSupport', 'StreamingTV', \n",
    "                   'StreamingMovies', 'MultipleLines']\n",
    "\n",
    "full_data = fill_proportional(full_data, columns_to_fill)"
   ]
  },
  {
   "cell_type": "markdown",
   "metadata": {},
   "source": [
    "It makes no sense to use median here, and using mode will create further imbalance. Filling based on the distribution gives us a truer representation of our data instead of using mode."
   ]
  },
  {
   "cell_type": "code",
   "execution_count": 6,
   "metadata": {
    "scrolled": true
   },
   "outputs": [
    {
     "name": "stdout",
     "output_type": "stream",
     "text": [
      "<class 'pandas.core.frame.DataFrame'>\n",
      "Int64Index: 7043 entries, 0 to 7042\n",
      "Data columns (total 20 columns):\n",
      " #   Column            Non-Null Count  Dtype         \n",
      "---  ------            --------------  -----         \n",
      " 0   customerID        7043 non-null   object        \n",
      " 1   BeginDate         7043 non-null   datetime64[ns]\n",
      " 2   EndDate           7043 non-null   object        \n",
      " 3   Type              7043 non-null   object        \n",
      " 4   PaperlessBilling  7043 non-null   object        \n",
      " 5   PaymentMethod     7043 non-null   object        \n",
      " 6   MonthlyCharges    7043 non-null   float64       \n",
      " 7   TotalCharges      7032 non-null   float64       \n",
      " 8   gender            7043 non-null   object        \n",
      " 9   SeniorCitizen     7043 non-null   int64         \n",
      " 10  Partner           7043 non-null   object        \n",
      " 11  Dependents        7043 non-null   object        \n",
      " 12  InternetService   7043 non-null   object        \n",
      " 13  OnlineSecurity    7043 non-null   object        \n",
      " 14  OnlineBackup      7043 non-null   object        \n",
      " 15  DeviceProtection  7043 non-null   object        \n",
      " 16  TechSupport       7043 non-null   object        \n",
      " 17  StreamingTV       7043 non-null   object        \n",
      " 18  StreamingMovies   7043 non-null   object        \n",
      " 19  MultipleLines     7043 non-null   object        \n",
      "dtypes: datetime64[ns](1), float64(2), int64(1), object(16)\n",
      "memory usage: 1.1+ MB\n"
     ]
    }
   ],
   "source": [
    "full_data.info()"
   ]
  },
  {
   "cell_type": "code",
   "execution_count": 7,
   "metadata": {},
   "outputs": [
    {
     "name": "stdout",
     "output_type": "stream",
     "text": [
      "<class 'pandas.core.frame.DataFrame'>\n",
      "Int64Index: 7032 entries, 0 to 7042\n",
      "Data columns (total 20 columns):\n",
      " #   Column            Non-Null Count  Dtype         \n",
      "---  ------            --------------  -----         \n",
      " 0   customerID        7032 non-null   object        \n",
      " 1   BeginDate         7032 non-null   datetime64[ns]\n",
      " 2   EndDate           7032 non-null   object        \n",
      " 3   Type              7032 non-null   object        \n",
      " 4   PaperlessBilling  7032 non-null   object        \n",
      " 5   PaymentMethod     7032 non-null   object        \n",
      " 6   MonthlyCharges    7032 non-null   float64       \n",
      " 7   TotalCharges      7032 non-null   float64       \n",
      " 8   gender            7032 non-null   object        \n",
      " 9   SeniorCitizen     7032 non-null   int64         \n",
      " 10  Partner           7032 non-null   object        \n",
      " 11  Dependents        7032 non-null   object        \n",
      " 12  InternetService   7032 non-null   object        \n",
      " 13  OnlineSecurity    7032 non-null   object        \n",
      " 14  OnlineBackup      7032 non-null   object        \n",
      " 15  DeviceProtection  7032 non-null   object        \n",
      " 16  TechSupport       7032 non-null   object        \n",
      " 17  StreamingTV       7032 non-null   object        \n",
      " 18  StreamingMovies   7032 non-null   object        \n",
      " 19  MultipleLines     7032 non-null   object        \n",
      "dtypes: datetime64[ns](1), float64(2), int64(1), object(16)\n",
      "memory usage: 1.1+ MB\n"
     ]
    }
   ],
   "source": [
    "#Safely remove the 11 missing values\n",
    "full_data = full_data.dropna()\n",
    "full_data.info()"
   ]
  },
  {
   "cell_type": "markdown",
   "metadata": {},
   "source": [
    "All of our NaNs have been filled!\n",
    "\n",
    "__Let's engineer new features from the 'BeginDate' column.__"
   ]
  },
  {
   "cell_type": "code",
   "execution_count": 8,
   "metadata": {},
   "outputs": [
    {
     "data": {
      "text/html": [
       "<div>\n",
       "<style scoped>\n",
       "    .dataframe tbody tr th:only-of-type {\n",
       "        vertical-align: middle;\n",
       "    }\n",
       "\n",
       "    .dataframe tbody tr th {\n",
       "        vertical-align: top;\n",
       "    }\n",
       "\n",
       "    .dataframe thead th {\n",
       "        text-align: right;\n",
       "    }\n",
       "</style>\n",
       "<table border=\"1\" class=\"dataframe\">\n",
       "  <thead>\n",
       "    <tr style=\"text-align: right;\">\n",
       "      <th></th>\n",
       "      <th>customerID</th>\n",
       "      <th>BeginDate</th>\n",
       "      <th>EndDate</th>\n",
       "      <th>Type</th>\n",
       "      <th>PaperlessBilling</th>\n",
       "      <th>PaymentMethod</th>\n",
       "      <th>MonthlyCharges</th>\n",
       "      <th>TotalCharges</th>\n",
       "      <th>gender</th>\n",
       "      <th>SeniorCitizen</th>\n",
       "      <th>...</th>\n",
       "      <th>InternetService</th>\n",
       "      <th>OnlineSecurity</th>\n",
       "      <th>OnlineBackup</th>\n",
       "      <th>DeviceProtection</th>\n",
       "      <th>TechSupport</th>\n",
       "      <th>StreamingTV</th>\n",
       "      <th>StreamingMovies</th>\n",
       "      <th>MultipleLines</th>\n",
       "      <th>BeginMonth</th>\n",
       "      <th>BeginYear</th>\n",
       "    </tr>\n",
       "  </thead>\n",
       "  <tbody>\n",
       "    <tr>\n",
       "      <th>5904</th>\n",
       "      <td>9402-CXWPL</td>\n",
       "      <td>2014-04-01</td>\n",
       "      <td>No</td>\n",
       "      <td>One year</td>\n",
       "      <td>No</td>\n",
       "      <td>Electronic check</td>\n",
       "      <td>98.90</td>\n",
       "      <td>6838.60</td>\n",
       "      <td>Female</td>\n",
       "      <td>0</td>\n",
       "      <td>...</td>\n",
       "      <td>Fiber optic</td>\n",
       "      <td>No</td>\n",
       "      <td>Yes</td>\n",
       "      <td>No</td>\n",
       "      <td>No</td>\n",
       "      <td>Yes</td>\n",
       "      <td>Yes</td>\n",
       "      <td>Yes</td>\n",
       "      <td>4</td>\n",
       "      <td>2014</td>\n",
       "    </tr>\n",
       "    <tr>\n",
       "      <th>3341</th>\n",
       "      <td>1125-SNVCK</td>\n",
       "      <td>2016-01-01</td>\n",
       "      <td>No</td>\n",
       "      <td>Month-to-month</td>\n",
       "      <td>No</td>\n",
       "      <td>Mailed check</td>\n",
       "      <td>43.80</td>\n",
       "      <td>2106.05</td>\n",
       "      <td>Female</td>\n",
       "      <td>1</td>\n",
       "      <td>...</td>\n",
       "      <td>DSL</td>\n",
       "      <td>No</td>\n",
       "      <td>No</td>\n",
       "      <td>No</td>\n",
       "      <td>No</td>\n",
       "      <td>No</td>\n",
       "      <td>No</td>\n",
       "      <td>No</td>\n",
       "      <td>1</td>\n",
       "      <td>2016</td>\n",
       "    </tr>\n",
       "    <tr>\n",
       "      <th>5442</th>\n",
       "      <td>2481-SBOYW</td>\n",
       "      <td>2015-01-01</td>\n",
       "      <td>No</td>\n",
       "      <td>Two year</td>\n",
       "      <td>Yes</td>\n",
       "      <td>Credit card (automatic)</td>\n",
       "      <td>25.00</td>\n",
       "      <td>1498.35</td>\n",
       "      <td>Female</td>\n",
       "      <td>0</td>\n",
       "      <td>...</td>\n",
       "      <td>DSL</td>\n",
       "      <td>No</td>\n",
       "      <td>No</td>\n",
       "      <td>Yes</td>\n",
       "      <td>No</td>\n",
       "      <td>No</td>\n",
       "      <td>No</td>\n",
       "      <td>Yes</td>\n",
       "      <td>1</td>\n",
       "      <td>2015</td>\n",
       "    </tr>\n",
       "    <tr>\n",
       "      <th>2011</th>\n",
       "      <td>1492-QGCLU</td>\n",
       "      <td>2015-09-01</td>\n",
       "      <td>No</td>\n",
       "      <td>Month-to-month</td>\n",
       "      <td>No</td>\n",
       "      <td>Electronic check</td>\n",
       "      <td>85.70</td>\n",
       "      <td>4616.10</td>\n",
       "      <td>Male</td>\n",
       "      <td>0</td>\n",
       "      <td>...</td>\n",
       "      <td>DSL</td>\n",
       "      <td>Yes</td>\n",
       "      <td>No</td>\n",
       "      <td>Yes</td>\n",
       "      <td>Yes</td>\n",
       "      <td>Yes</td>\n",
       "      <td>Yes</td>\n",
       "      <td>Yes</td>\n",
       "      <td>9</td>\n",
       "      <td>2015</td>\n",
       "    </tr>\n",
       "    <tr>\n",
       "      <th>4700</th>\n",
       "      <td>5365-LLFYV</td>\n",
       "      <td>2019-12-01</td>\n",
       "      <td>No</td>\n",
       "      <td>Month-to-month</td>\n",
       "      <td>Yes</td>\n",
       "      <td>Mailed check</td>\n",
       "      <td>45.85</td>\n",
       "      <td>105.60</td>\n",
       "      <td>Female</td>\n",
       "      <td>0</td>\n",
       "      <td>...</td>\n",
       "      <td>DSL</td>\n",
       "      <td>No</td>\n",
       "      <td>No</td>\n",
       "      <td>No</td>\n",
       "      <td>No</td>\n",
       "      <td>No</td>\n",
       "      <td>No</td>\n",
       "      <td>No</td>\n",
       "      <td>12</td>\n",
       "      <td>2019</td>\n",
       "    </tr>\n",
       "    <tr>\n",
       "      <th>2000</th>\n",
       "      <td>7020-OZKXZ</td>\n",
       "      <td>2019-05-01</td>\n",
       "      <td>No</td>\n",
       "      <td>Month-to-month</td>\n",
       "      <td>No</td>\n",
       "      <td>Credit card (automatic)</td>\n",
       "      <td>75.50</td>\n",
       "      <td>637.40</td>\n",
       "      <td>Female</td>\n",
       "      <td>1</td>\n",
       "      <td>...</td>\n",
       "      <td>Fiber optic</td>\n",
       "      <td>No</td>\n",
       "      <td>No</td>\n",
       "      <td>Yes</td>\n",
       "      <td>No</td>\n",
       "      <td>No</td>\n",
       "      <td>No</td>\n",
       "      <td>No</td>\n",
       "      <td>5</td>\n",
       "      <td>2019</td>\n",
       "    </tr>\n",
       "    <tr>\n",
       "      <th>5696</th>\n",
       "      <td>0156-FVPTA</td>\n",
       "      <td>2018-01-01</td>\n",
       "      <td>2019-11-01 00:00:00</td>\n",
       "      <td>Month-to-month</td>\n",
       "      <td>Yes</td>\n",
       "      <td>Electronic check</td>\n",
       "      <td>54.20</td>\n",
       "      <td>1152.70</td>\n",
       "      <td>Male</td>\n",
       "      <td>0</td>\n",
       "      <td>...</td>\n",
       "      <td>DSL</td>\n",
       "      <td>Yes</td>\n",
       "      <td>No</td>\n",
       "      <td>No</td>\n",
       "      <td>Yes</td>\n",
       "      <td>No</td>\n",
       "      <td>No</td>\n",
       "      <td>No</td>\n",
       "      <td>1</td>\n",
       "      <td>2018</td>\n",
       "    </tr>\n",
       "    <tr>\n",
       "      <th>1872</th>\n",
       "      <td>9938-PRCVK</td>\n",
       "      <td>2016-09-01</td>\n",
       "      <td>No</td>\n",
       "      <td>Two year</td>\n",
       "      <td>No</td>\n",
       "      <td>Bank transfer (automatic)</td>\n",
       "      <td>19.70</td>\n",
       "      <td>804.25</td>\n",
       "      <td>Female</td>\n",
       "      <td>0</td>\n",
       "      <td>...</td>\n",
       "      <td>DSL</td>\n",
       "      <td>No</td>\n",
       "      <td>No</td>\n",
       "      <td>Yes</td>\n",
       "      <td>No</td>\n",
       "      <td>No</td>\n",
       "      <td>No</td>\n",
       "      <td>No</td>\n",
       "      <td>9</td>\n",
       "      <td>2016</td>\n",
       "    </tr>\n",
       "    <tr>\n",
       "      <th>1585</th>\n",
       "      <td>4522-XRWWI</td>\n",
       "      <td>2016-08-01</td>\n",
       "      <td>No</td>\n",
       "      <td>One year</td>\n",
       "      <td>No</td>\n",
       "      <td>Credit card (automatic)</td>\n",
       "      <td>80.45</td>\n",
       "      <td>3375.90</td>\n",
       "      <td>Male</td>\n",
       "      <td>0</td>\n",
       "      <td>...</td>\n",
       "      <td>DSL</td>\n",
       "      <td>Yes</td>\n",
       "      <td>No</td>\n",
       "      <td>No</td>\n",
       "      <td>Yes</td>\n",
       "      <td>Yes</td>\n",
       "      <td>Yes</td>\n",
       "      <td>Yes</td>\n",
       "      <td>8</td>\n",
       "      <td>2016</td>\n",
       "    </tr>\n",
       "    <tr>\n",
       "      <th>2970</th>\n",
       "      <td>2815-CPTUL</td>\n",
       "      <td>2019-07-01</td>\n",
       "      <td>2019-12-01 00:00:00</td>\n",
       "      <td>Month-to-month</td>\n",
       "      <td>Yes</td>\n",
       "      <td>Mailed check</td>\n",
       "      <td>70.25</td>\n",
       "      <td>331.90</td>\n",
       "      <td>Male</td>\n",
       "      <td>1</td>\n",
       "      <td>...</td>\n",
       "      <td>Fiber optic</td>\n",
       "      <td>No</td>\n",
       "      <td>No</td>\n",
       "      <td>No</td>\n",
       "      <td>No</td>\n",
       "      <td>No</td>\n",
       "      <td>No</td>\n",
       "      <td>No</td>\n",
       "      <td>7</td>\n",
       "      <td>2019</td>\n",
       "    </tr>\n",
       "  </tbody>\n",
       "</table>\n",
       "<p>10 rows × 22 columns</p>\n",
       "</div>"
      ],
      "text/plain": [
       "      customerID  BeginDate              EndDate            Type  \\\n",
       "5904  9402-CXWPL 2014-04-01                   No        One year   \n",
       "3341  1125-SNVCK 2016-01-01                   No  Month-to-month   \n",
       "5442  2481-SBOYW 2015-01-01                   No        Two year   \n",
       "2011  1492-QGCLU 2015-09-01                   No  Month-to-month   \n",
       "4700  5365-LLFYV 2019-12-01                   No  Month-to-month   \n",
       "2000  7020-OZKXZ 2019-05-01                   No  Month-to-month   \n",
       "5696  0156-FVPTA 2018-01-01  2019-11-01 00:00:00  Month-to-month   \n",
       "1872  9938-PRCVK 2016-09-01                   No        Two year   \n",
       "1585  4522-XRWWI 2016-08-01                   No        One year   \n",
       "2970  2815-CPTUL 2019-07-01  2019-12-01 00:00:00  Month-to-month   \n",
       "\n",
       "     PaperlessBilling              PaymentMethod  MonthlyCharges  \\\n",
       "5904               No           Electronic check           98.90   \n",
       "3341               No               Mailed check           43.80   \n",
       "5442              Yes    Credit card (automatic)           25.00   \n",
       "2011               No           Electronic check           85.70   \n",
       "4700              Yes               Mailed check           45.85   \n",
       "2000               No    Credit card (automatic)           75.50   \n",
       "5696              Yes           Electronic check           54.20   \n",
       "1872               No  Bank transfer (automatic)           19.70   \n",
       "1585               No    Credit card (automatic)           80.45   \n",
       "2970              Yes               Mailed check           70.25   \n",
       "\n",
       "      TotalCharges  gender  SeniorCitizen  ... InternetService OnlineSecurity  \\\n",
       "5904       6838.60  Female              0  ...     Fiber optic             No   \n",
       "3341       2106.05  Female              1  ...             DSL             No   \n",
       "5442       1498.35  Female              0  ...             DSL             No   \n",
       "2011       4616.10    Male              0  ...             DSL            Yes   \n",
       "4700        105.60  Female              0  ...             DSL             No   \n",
       "2000        637.40  Female              1  ...     Fiber optic             No   \n",
       "5696       1152.70    Male              0  ...             DSL            Yes   \n",
       "1872        804.25  Female              0  ...             DSL             No   \n",
       "1585       3375.90    Male              0  ...             DSL            Yes   \n",
       "2970        331.90    Male              1  ...     Fiber optic             No   \n",
       "\n",
       "     OnlineBackup DeviceProtection TechSupport StreamingTV StreamingMovies  \\\n",
       "5904          Yes               No          No         Yes             Yes   \n",
       "3341           No               No          No          No              No   \n",
       "5442           No              Yes          No          No              No   \n",
       "2011           No              Yes         Yes         Yes             Yes   \n",
       "4700           No               No          No          No              No   \n",
       "2000           No              Yes          No          No              No   \n",
       "5696           No               No         Yes          No              No   \n",
       "1872           No              Yes          No          No              No   \n",
       "1585           No               No         Yes         Yes             Yes   \n",
       "2970           No               No          No          No              No   \n",
       "\n",
       "     MultipleLines BeginMonth BeginYear  \n",
       "5904           Yes          4      2014  \n",
       "3341            No          1      2016  \n",
       "5442           Yes          1      2015  \n",
       "2011           Yes          9      2015  \n",
       "4700            No         12      2019  \n",
       "2000            No          5      2019  \n",
       "5696            No          1      2018  \n",
       "1872            No          9      2016  \n",
       "1585           Yes          8      2016  \n",
       "2970            No          7      2019  \n",
       "\n",
       "[10 rows x 22 columns]"
      ]
     },
     "metadata": {},
     "output_type": "display_data"
    },
    {
     "data": {
      "image/png": "[encoded data removed]",
      "text/plain": [
       "<Figure size 640x480 with 1 Axes>"
      ]
     },
     "metadata": {},
     "output_type": "display_data"
    }
   ],
   "source": [
    "# Extract month and year into new columns\n",
    "full_data['BeginMonth'] = full_data['BeginDate'].dt.month\n",
    "full_data['BeginYear'] = full_data['BeginDate'].dt.year\n",
    "display(full_data.sample(10))\n",
    "full_data['BeginMonth'].value_counts(normalize=True).plot(kind = 'bar')\n",
    "plt.title('Distribution of Beginning Month of Service')\n",
    "plt.xlabel('Month')\n",
    "plt.ylabel('Proportion')\n",
    "plt.show()"
   ]
  },
  {
   "cell_type": "markdown",
   "metadata": {},
   "source": [
    "The 'BeginDate' and 'customerID' column won't help us in model creation, so it is best to drop it."
   ]
  },
  {
   "cell_type": "code",
   "execution_count": 9,
   "metadata": {},
   "outputs": [
    {
     "data": {
      "text/html": [
       "<div>\n",
       "<style scoped>\n",
       "    .dataframe tbody tr th:only-of-type {\n",
       "        vertical-align: middle;\n",
       "    }\n",
       "\n",
       "    .dataframe tbody tr th {\n",
       "        vertical-align: top;\n",
       "    }\n",
       "\n",
       "    .dataframe thead th {\n",
       "        text-align: right;\n",
       "    }\n",
       "</style>\n",
       "<table border=\"1\" class=\"dataframe\">\n",
       "  <thead>\n",
       "    <tr style=\"text-align: right;\">\n",
       "      <th></th>\n",
       "      <th>EndDate</th>\n",
       "      <th>Type</th>\n",
       "      <th>PaperlessBilling</th>\n",
       "      <th>PaymentMethod</th>\n",
       "      <th>MonthlyCharges</th>\n",
       "      <th>TotalCharges</th>\n",
       "      <th>gender</th>\n",
       "      <th>SeniorCitizen</th>\n",
       "      <th>Partner</th>\n",
       "      <th>Dependents</th>\n",
       "      <th>InternetService</th>\n",
       "      <th>OnlineSecurity</th>\n",
       "      <th>OnlineBackup</th>\n",
       "      <th>DeviceProtection</th>\n",
       "      <th>TechSupport</th>\n",
       "      <th>StreamingTV</th>\n",
       "      <th>StreamingMovies</th>\n",
       "      <th>MultipleLines</th>\n",
       "      <th>BeginMonth</th>\n",
       "      <th>BeginYear</th>\n",
       "    </tr>\n",
       "  </thead>\n",
       "  <tbody>\n",
       "    <tr>\n",
       "      <th>0</th>\n",
       "      <td>No</td>\n",
       "      <td>Month-to-month</td>\n",
       "      <td>Yes</td>\n",
       "      <td>Electronic check</td>\n",
       "      <td>29.85</td>\n",
       "      <td>29.85</td>\n",
       "      <td>Female</td>\n",
       "      <td>0</td>\n",
       "      <td>Yes</td>\n",
       "      <td>No</td>\n",
       "      <td>DSL</td>\n",
       "      <td>No</td>\n",
       "      <td>Yes</td>\n",
       "      <td>No</td>\n",
       "      <td>No</td>\n",
       "      <td>No</td>\n",
       "      <td>No</td>\n",
       "      <td>Yes</td>\n",
       "      <td>1</td>\n",
       "      <td>2020</td>\n",
       "    </tr>\n",
       "    <tr>\n",
       "      <th>1</th>\n",
       "      <td>No</td>\n",
       "      <td>One year</td>\n",
       "      <td>No</td>\n",
       "      <td>Mailed check</td>\n",
       "      <td>56.95</td>\n",
       "      <td>1889.50</td>\n",
       "      <td>Male</td>\n",
       "      <td>0</td>\n",
       "      <td>No</td>\n",
       "      <td>No</td>\n",
       "      <td>DSL</td>\n",
       "      <td>Yes</td>\n",
       "      <td>No</td>\n",
       "      <td>Yes</td>\n",
       "      <td>No</td>\n",
       "      <td>No</td>\n",
       "      <td>No</td>\n",
       "      <td>No</td>\n",
       "      <td>4</td>\n",
       "      <td>2017</td>\n",
       "    </tr>\n",
       "    <tr>\n",
       "      <th>2</th>\n",
       "      <td>2019-12-01 00:00:00</td>\n",
       "      <td>Month-to-month</td>\n",
       "      <td>Yes</td>\n",
       "      <td>Mailed check</td>\n",
       "      <td>53.85</td>\n",
       "      <td>108.15</td>\n",
       "      <td>Male</td>\n",
       "      <td>0</td>\n",
       "      <td>No</td>\n",
       "      <td>No</td>\n",
       "      <td>DSL</td>\n",
       "      <td>Yes</td>\n",
       "      <td>Yes</td>\n",
       "      <td>No</td>\n",
       "      <td>No</td>\n",
       "      <td>No</td>\n",
       "      <td>No</td>\n",
       "      <td>No</td>\n",
       "      <td>10</td>\n",
       "      <td>2019</td>\n",
       "    </tr>\n",
       "    <tr>\n",
       "      <th>3</th>\n",
       "      <td>No</td>\n",
       "      <td>One year</td>\n",
       "      <td>No</td>\n",
       "      <td>Bank transfer (automatic)</td>\n",
       "      <td>42.30</td>\n",
       "      <td>1840.75</td>\n",
       "      <td>Male</td>\n",
       "      <td>0</td>\n",
       "      <td>No</td>\n",
       "      <td>No</td>\n",
       "      <td>DSL</td>\n",
       "      <td>Yes</td>\n",
       "      <td>No</td>\n",
       "      <td>Yes</td>\n",
       "      <td>Yes</td>\n",
       "      <td>No</td>\n",
       "      <td>No</td>\n",
       "      <td>Yes</td>\n",
       "      <td>5</td>\n",
       "      <td>2016</td>\n",
       "    </tr>\n",
       "    <tr>\n",
       "      <th>4</th>\n",
       "      <td>2019-11-01 00:00:00</td>\n",
       "      <td>Month-to-month</td>\n",
       "      <td>Yes</td>\n",
       "      <td>Electronic check</td>\n",
       "      <td>70.70</td>\n",
       "      <td>151.65</td>\n",
       "      <td>Female</td>\n",
       "      <td>0</td>\n",
       "      <td>No</td>\n",
       "      <td>No</td>\n",
       "      <td>Fiber optic</td>\n",
       "      <td>No</td>\n",
       "      <td>No</td>\n",
       "      <td>No</td>\n",
       "      <td>No</td>\n",
       "      <td>No</td>\n",
       "      <td>No</td>\n",
       "      <td>No</td>\n",
       "      <td>9</td>\n",
       "      <td>2019</td>\n",
       "    </tr>\n",
       "  </tbody>\n",
       "</table>\n",
       "</div>"
      ],
      "text/plain": [
       "               EndDate            Type PaperlessBilling  \\\n",
       "0                   No  Month-to-month              Yes   \n",
       "1                   No        One year               No   \n",
       "2  2019-12-01 00:00:00  Month-to-month              Yes   \n",
       "3                   No        One year               No   \n",
       "4  2019-11-01 00:00:00  Month-to-month              Yes   \n",
       "\n",
       "               PaymentMethod  MonthlyCharges  TotalCharges  gender  \\\n",
       "0           Electronic check           29.85         29.85  Female   \n",
       "1               Mailed check           56.95       1889.50    Male   \n",
       "2               Mailed check           53.85        108.15    Male   \n",
       "3  Bank transfer (automatic)           42.30       1840.75    Male   \n",
       "4           Electronic check           70.70        151.65  Female   \n",
       "\n",
       "   SeniorCitizen Partner Dependents InternetService OnlineSecurity  \\\n",
       "0              0     Yes         No             DSL             No   \n",
       "1              0      No         No             DSL            Yes   \n",
       "2              0      No         No             DSL            Yes   \n",
       "3              0      No         No             DSL            Yes   \n",
       "4              0      No         No     Fiber optic             No   \n",
       "\n",
       "  OnlineBackup DeviceProtection TechSupport StreamingTV StreamingMovies  \\\n",
       "0          Yes               No          No          No              No   \n",
       "1           No              Yes          No          No              No   \n",
       "2          Yes               No          No          No              No   \n",
       "3           No              Yes         Yes          No              No   \n",
       "4           No               No          No          No              No   \n",
       "\n",
       "  MultipleLines  BeginMonth  BeginYear  \n",
       "0           Yes           1       2020  \n",
       "1            No           4       2017  \n",
       "2            No          10       2019  \n",
       "3           Yes           5       2016  \n",
       "4            No           9       2019  "
      ]
     },
     "execution_count": 9,
     "metadata": {},
     "output_type": "execute_result"
    }
   ],
   "source": [
    "full_data = full_data.drop(['BeginDate', 'customerID'], axis=1)\n",
    "full_data.head()"
   ]
  },
  {
   "cell_type": "markdown",
   "metadata": {},
   "source": [
    "## One-Hot Encoding and Scaling"
   ]
  },
  {
   "cell_type": "code",
   "execution_count": 10,
   "metadata": {},
   "outputs": [
    {
     "data": {
      "text/html": [
       "<div>\n",
       "<style scoped>\n",
       "    .dataframe tbody tr th:only-of-type {\n",
       "        vertical-align: middle;\n",
       "    }\n",
       "\n",
       "    .dataframe tbody tr th {\n",
       "        vertical-align: top;\n",
       "    }\n",
       "\n",
       "    .dataframe thead th {\n",
       "        text-align: right;\n",
       "    }\n",
       "</style>\n",
       "<table border=\"1\" class=\"dataframe\">\n",
       "  <thead>\n",
       "    <tr style=\"text-align: right;\">\n",
       "      <th></th>\n",
       "      <th>EndDate</th>\n",
       "      <th>MonthlyCharges</th>\n",
       "      <th>TotalCharges</th>\n",
       "      <th>SeniorCitizen</th>\n",
       "      <th>BeginMonth</th>\n",
       "      <th>BeginYear</th>\n",
       "      <th>Type_One year</th>\n",
       "      <th>Type_Two year</th>\n",
       "      <th>PaperlessBilling_Yes</th>\n",
       "      <th>PaymentMethod_Credit card (automatic)</th>\n",
       "      <th>...</th>\n",
       "      <th>Partner_Yes</th>\n",
       "      <th>Dependents_Yes</th>\n",
       "      <th>InternetService_Fiber optic</th>\n",
       "      <th>OnlineSecurity_Yes</th>\n",
       "      <th>OnlineBackup_Yes</th>\n",
       "      <th>DeviceProtection_Yes</th>\n",
       "      <th>TechSupport_Yes</th>\n",
       "      <th>StreamingTV_Yes</th>\n",
       "      <th>StreamingMovies_Yes</th>\n",
       "      <th>MultipleLines_Yes</th>\n",
       "    </tr>\n",
       "  </thead>\n",
       "  <tbody>\n",
       "    <tr>\n",
       "      <th>1426</th>\n",
       "      <td>No</td>\n",
       "      <td>92.00</td>\n",
       "      <td>6585.20</td>\n",
       "      <td>1</td>\n",
       "      <td>3</td>\n",
       "      <td>2014</td>\n",
       "      <td>1</td>\n",
       "      <td>0</td>\n",
       "      <td>1</td>\n",
       "      <td>0</td>\n",
       "      <td>...</td>\n",
       "      <td>1</td>\n",
       "      <td>0</td>\n",
       "      <td>1</td>\n",
       "      <td>1</td>\n",
       "      <td>1</td>\n",
       "      <td>1</td>\n",
       "      <td>1</td>\n",
       "      <td>0</td>\n",
       "      <td>0</td>\n",
       "      <td>1</td>\n",
       "    </tr>\n",
       "    <tr>\n",
       "      <th>4182</th>\n",
       "      <td>2020-01-01 00:00:00</td>\n",
       "      <td>98.65</td>\n",
       "      <td>2862.75</td>\n",
       "      <td>1</td>\n",
       "      <td>8</td>\n",
       "      <td>2017</td>\n",
       "      <td>0</td>\n",
       "      <td>0</td>\n",
       "      <td>0</td>\n",
       "      <td>0</td>\n",
       "      <td>...</td>\n",
       "      <td>0</td>\n",
       "      <td>0</td>\n",
       "      <td>1</td>\n",
       "      <td>0</td>\n",
       "      <td>0</td>\n",
       "      <td>0</td>\n",
       "      <td>1</td>\n",
       "      <td>1</td>\n",
       "      <td>1</td>\n",
       "      <td>1</td>\n",
       "    </tr>\n",
       "    <tr>\n",
       "      <th>6996</th>\n",
       "      <td>2019-10-01 00:00:00</td>\n",
       "      <td>66.50</td>\n",
       "      <td>2728.60</td>\n",
       "      <td>0</td>\n",
       "      <td>5</td>\n",
       "      <td>2016</td>\n",
       "      <td>1</td>\n",
       "      <td>0</td>\n",
       "      <td>1</td>\n",
       "      <td>0</td>\n",
       "      <td>...</td>\n",
       "      <td>1</td>\n",
       "      <td>1</td>\n",
       "      <td>0</td>\n",
       "      <td>0</td>\n",
       "      <td>1</td>\n",
       "      <td>0</td>\n",
       "      <td>1</td>\n",
       "      <td>0</td>\n",
       "      <td>1</td>\n",
       "      <td>0</td>\n",
       "    </tr>\n",
       "    <tr>\n",
       "      <th>2062</th>\n",
       "      <td>No</td>\n",
       "      <td>25.15</td>\n",
       "      <td>1683.60</td>\n",
       "      <td>0</td>\n",
       "      <td>8</td>\n",
       "      <td>2014</td>\n",
       "      <td>0</td>\n",
       "      <td>1</td>\n",
       "      <td>1</td>\n",
       "      <td>1</td>\n",
       "      <td>...</td>\n",
       "      <td>0</td>\n",
       "      <td>0</td>\n",
       "      <td>0</td>\n",
       "      <td>0</td>\n",
       "      <td>0</td>\n",
       "      <td>1</td>\n",
       "      <td>0</td>\n",
       "      <td>0</td>\n",
       "      <td>0</td>\n",
       "      <td>1</td>\n",
       "    </tr>\n",
       "    <tr>\n",
       "      <th>1728</th>\n",
       "      <td>No</td>\n",
       "      <td>81.65</td>\n",
       "      <td>3618.70</td>\n",
       "      <td>0</td>\n",
       "      <td>5</td>\n",
       "      <td>2016</td>\n",
       "      <td>0</td>\n",
       "      <td>1</td>\n",
       "      <td>0</td>\n",
       "      <td>0</td>\n",
       "      <td>...</td>\n",
       "      <td>0</td>\n",
       "      <td>0</td>\n",
       "      <td>0</td>\n",
       "      <td>1</td>\n",
       "      <td>0</td>\n",
       "      <td>1</td>\n",
       "      <td>1</td>\n",
       "      <td>1</td>\n",
       "      <td>1</td>\n",
       "      <td>0</td>\n",
       "    </tr>\n",
       "    <tr>\n",
       "      <th>6692</th>\n",
       "      <td>No</td>\n",
       "      <td>74.65</td>\n",
       "      <td>3090.65</td>\n",
       "      <td>0</td>\n",
       "      <td>9</td>\n",
       "      <td>2016</td>\n",
       "      <td>0</td>\n",
       "      <td>0</td>\n",
       "      <td>1</td>\n",
       "      <td>0</td>\n",
       "      <td>...</td>\n",
       "      <td>0</td>\n",
       "      <td>0</td>\n",
       "      <td>0</td>\n",
       "      <td>1</td>\n",
       "      <td>0</td>\n",
       "      <td>1</td>\n",
       "      <td>1</td>\n",
       "      <td>0</td>\n",
       "      <td>1</td>\n",
       "      <td>1</td>\n",
       "    </tr>\n",
       "    <tr>\n",
       "      <th>301</th>\n",
       "      <td>2019-10-01 00:00:00</td>\n",
       "      <td>95.45</td>\n",
       "      <td>396.10</td>\n",
       "      <td>1</td>\n",
       "      <td>6</td>\n",
       "      <td>2019</td>\n",
       "      <td>0</td>\n",
       "      <td>0</td>\n",
       "      <td>1</td>\n",
       "      <td>0</td>\n",
       "      <td>...</td>\n",
       "      <td>0</td>\n",
       "      <td>0</td>\n",
       "      <td>1</td>\n",
       "      <td>0</td>\n",
       "      <td>0</td>\n",
       "      <td>0</td>\n",
       "      <td>0</td>\n",
       "      <td>1</td>\n",
       "      <td>1</td>\n",
       "      <td>1</td>\n",
       "    </tr>\n",
       "    <tr>\n",
       "      <th>2397</th>\n",
       "      <td>2019-12-01 00:00:00</td>\n",
       "      <td>88.35</td>\n",
       "      <td>88.35</td>\n",
       "      <td>0</td>\n",
       "      <td>11</td>\n",
       "      <td>2019</td>\n",
       "      <td>0</td>\n",
       "      <td>0</td>\n",
       "      <td>1</td>\n",
       "      <td>0</td>\n",
       "      <td>...</td>\n",
       "      <td>0</td>\n",
       "      <td>0</td>\n",
       "      <td>1</td>\n",
       "      <td>0</td>\n",
       "      <td>0</td>\n",
       "      <td>0</td>\n",
       "      <td>0</td>\n",
       "      <td>1</td>\n",
       "      <td>1</td>\n",
       "      <td>0</td>\n",
       "    </tr>\n",
       "    <tr>\n",
       "      <th>5697</th>\n",
       "      <td>2019-12-01 00:00:00</td>\n",
       "      <td>109.50</td>\n",
       "      <td>7674.55</td>\n",
       "      <td>0</td>\n",
       "      <td>2</td>\n",
       "      <td>2014</td>\n",
       "      <td>1</td>\n",
       "      <td>0</td>\n",
       "      <td>1</td>\n",
       "      <td>0</td>\n",
       "      <td>...</td>\n",
       "      <td>1</td>\n",
       "      <td>0</td>\n",
       "      <td>1</td>\n",
       "      <td>0</td>\n",
       "      <td>1</td>\n",
       "      <td>1</td>\n",
       "      <td>1</td>\n",
       "      <td>1</td>\n",
       "      <td>1</td>\n",
       "      <td>1</td>\n",
       "    </tr>\n",
       "    <tr>\n",
       "      <th>2032</th>\n",
       "      <td>2019-11-01 00:00:00</td>\n",
       "      <td>88.15</td>\n",
       "      <td>1390.60</td>\n",
       "      <td>0</td>\n",
       "      <td>8</td>\n",
       "      <td>2018</td>\n",
       "      <td>0</td>\n",
       "      <td>0</td>\n",
       "      <td>0</td>\n",
       "      <td>0</td>\n",
       "      <td>...</td>\n",
       "      <td>1</td>\n",
       "      <td>0</td>\n",
       "      <td>1</td>\n",
       "      <td>0</td>\n",
       "      <td>0</td>\n",
       "      <td>0</td>\n",
       "      <td>0</td>\n",
       "      <td>1</td>\n",
       "      <td>1</td>\n",
       "      <td>0</td>\n",
       "    </tr>\n",
       "  </tbody>\n",
       "</table>\n",
       "<p>10 rows × 23 columns</p>\n",
       "</div>"
      ],
      "text/plain": [
       "                  EndDate  MonthlyCharges  TotalCharges  SeniorCitizen  \\\n",
       "1426                   No           92.00       6585.20              1   \n",
       "4182  2020-01-01 00:00:00           98.65       2862.75              1   \n",
       "6996  2019-10-01 00:00:00           66.50       2728.60              0   \n",
       "2062                   No           25.15       1683.60              0   \n",
       "1728                   No           81.65       3618.70              0   \n",
       "6692                   No           74.65       3090.65              0   \n",
       "301   2019-10-01 00:00:00           95.45        396.10              1   \n",
       "2397  2019-12-01 00:00:00           88.35         88.35              0   \n",
       "5697  2019-12-01 00:00:00          109.50       7674.55              0   \n",
       "2032  2019-11-01 00:00:00           88.15       1390.60              0   \n",
       "\n",
       "      BeginMonth  BeginYear  Type_One year  Type_Two year  \\\n",
       "1426           3       2014              1              0   \n",
       "4182           8       2017              0              0   \n",
       "6996           5       2016              1              0   \n",
       "2062           8       2014              0              1   \n",
       "1728           5       2016              0              1   \n",
       "6692           9       2016              0              0   \n",
       "301            6       2019              0              0   \n",
       "2397          11       2019              0              0   \n",
       "5697           2       2014              1              0   \n",
       "2032           8       2018              0              0   \n",
       "\n",
       "      PaperlessBilling_Yes  PaymentMethod_Credit card (automatic)  ...  \\\n",
       "1426                     1                                      0  ...   \n",
       "4182                     0                                      0  ...   \n",
       "6996                     1                                      0  ...   \n",
       "2062                     1                                      1  ...   \n",
       "1728                     0                                      0  ...   \n",
       "6692                     1                                      0  ...   \n",
       "301                      1                                      0  ...   \n",
       "2397                     1                                      0  ...   \n",
       "5697                     1                                      0  ...   \n",
       "2032                     0                                      0  ...   \n",
       "\n",
       "      Partner_Yes  Dependents_Yes  InternetService_Fiber optic  \\\n",
       "1426            1               0                            1   \n",
       "4182            0               0                            1   \n",
       "6996            1               1                            0   \n",
       "2062            0               0                            0   \n",
       "1728            0               0                            0   \n",
       "6692            0               0                            0   \n",
       "301             0               0                            1   \n",
       "2397            0               0                            1   \n",
       "5697            1               0                            1   \n",
       "2032            1               0                            1   \n",
       "\n",
       "      OnlineSecurity_Yes  OnlineBackup_Yes  DeviceProtection_Yes  \\\n",
       "1426                   1                 1                     1   \n",
       "4182                   0                 0                     0   \n",
       "6996                   0                 1                     0   \n",
       "2062                   0                 0                     1   \n",
       "1728                   1                 0                     1   \n",
       "6692                   1                 0                     1   \n",
       "301                    0                 0                     0   \n",
       "2397                   0                 0                     0   \n",
       "5697                   0                 1                     1   \n",
       "2032                   0                 0                     0   \n",
       "\n",
       "      TechSupport_Yes  StreamingTV_Yes  StreamingMovies_Yes  MultipleLines_Yes  \n",
       "1426                1                0                    0                  1  \n",
       "4182                1                1                    1                  1  \n",
       "6996                1                0                    1                  0  \n",
       "2062                0                0                    0                  1  \n",
       "1728                1                1                    1                  0  \n",
       "6692                1                0                    1                  1  \n",
       "301                 0                1                    1                  1  \n",
       "2397                0                1                    1                  0  \n",
       "5697                1                1                    1                  1  \n",
       "2032                0                1                    1                  0  \n",
       "\n",
       "[10 rows x 23 columns]"
      ]
     },
     "metadata": {},
     "output_type": "display_data"
    },
    {
     "name": "stdout",
     "output_type": "stream",
     "text": [
      "<class 'pandas.core.frame.DataFrame'>\n",
      "Int64Index: 7032 entries, 0 to 7042\n",
      "Data columns (total 23 columns):\n",
      " #   Column                                 Non-Null Count  Dtype  \n",
      "---  ------                                 --------------  -----  \n",
      " 0   EndDate                                7032 non-null   object \n",
      " 1   MonthlyCharges                         7032 non-null   float64\n",
      " 2   TotalCharges                           7032 non-null   float64\n",
      " 3   SeniorCitizen                          7032 non-null   int64  \n",
      " 4   BeginMonth                             7032 non-null   int64  \n",
      " 5   BeginYear                              7032 non-null   int64  \n",
      " 6   Type_One year                          7032 non-null   uint8  \n",
      " 7   Type_Two year                          7032 non-null   uint8  \n",
      " 8   PaperlessBilling_Yes                   7032 non-null   uint8  \n",
      " 9   PaymentMethod_Credit card (automatic)  7032 non-null   uint8  \n",
      " 10  PaymentMethod_Electronic check         7032 non-null   uint8  \n",
      " 11  PaymentMethod_Mailed check             7032 non-null   uint8  \n",
      " 12  gender_Male                            7032 non-null   uint8  \n",
      " 13  Partner_Yes                            7032 non-null   uint8  \n",
      " 14  Dependents_Yes                         7032 non-null   uint8  \n",
      " 15  InternetService_Fiber optic            7032 non-null   uint8  \n",
      " 16  OnlineSecurity_Yes                     7032 non-null   uint8  \n",
      " 17  OnlineBackup_Yes                       7032 non-null   uint8  \n",
      " 18  DeviceProtection_Yes                   7032 non-null   uint8  \n",
      " 19  TechSupport_Yes                        7032 non-null   uint8  \n",
      " 20  StreamingTV_Yes                        7032 non-null   uint8  \n",
      " 21  StreamingMovies_Yes                    7032 non-null   uint8  \n",
      " 22  MultipleLines_Yes                      7032 non-null   uint8  \n",
      "dtypes: float64(2), int64(3), object(1), uint8(17)\n",
      "memory usage: 501.3+ KB\n"
     ]
    }
   ],
   "source": [
    "# OHE all of the categorical columns\n",
    "categorical_columns = [col for col in full_data.select_dtypes(include=['object']).columns if col != 'EndDate']\n",
    "\n",
    "# Create one-hot encoded features\n",
    "full_data = pd.get_dummies(full_data, columns=categorical_columns, drop_first=True)\n",
    "display(full_data.sample(10))\n",
    "full_data.info()"
   ]
  },
  {
   "cell_type": "code",
   "execution_count": 11,
   "metadata": {},
   "outputs": [
    {
     "data": {
      "text/html": [
       "<div>\n",
       "<style scoped>\n",
       "    .dataframe tbody tr th:only-of-type {\n",
       "        vertical-align: middle;\n",
       "    }\n",
       "\n",
       "    .dataframe tbody tr th {\n",
       "        vertical-align: top;\n",
       "    }\n",
       "\n",
       "    .dataframe thead th {\n",
       "        text-align: right;\n",
       "    }\n",
       "</style>\n",
       "<table border=\"1\" class=\"dataframe\">\n",
       "  <thead>\n",
       "    <tr style=\"text-align: right;\">\n",
       "      <th></th>\n",
       "      <th>EndDate</th>\n",
       "      <th>MonthlyCharges</th>\n",
       "      <th>TotalCharges</th>\n",
       "      <th>SeniorCitizen</th>\n",
       "      <th>BeginMonth</th>\n",
       "      <th>BeginYear</th>\n",
       "      <th>Type_One year</th>\n",
       "      <th>Type_Two year</th>\n",
       "      <th>PaperlessBilling_Yes</th>\n",
       "      <th>PaymentMethod_Credit card (automatic)</th>\n",
       "      <th>...</th>\n",
       "      <th>Partner_Yes</th>\n",
       "      <th>Dependents_Yes</th>\n",
       "      <th>InternetService_Fiber optic</th>\n",
       "      <th>OnlineSecurity_Yes</th>\n",
       "      <th>OnlineBackup_Yes</th>\n",
       "      <th>DeviceProtection_Yes</th>\n",
       "      <th>TechSupport_Yes</th>\n",
       "      <th>StreamingTV_Yes</th>\n",
       "      <th>StreamingMovies_Yes</th>\n",
       "      <th>MultipleLines_Yes</th>\n",
       "    </tr>\n",
       "  </thead>\n",
       "  <tbody>\n",
       "    <tr>\n",
       "      <th>3006</th>\n",
       "      <td>2020-01-01 00:00:00</td>\n",
       "      <td>0.337450</td>\n",
       "      <td>-0.549962</td>\n",
       "      <td>2.271039</td>\n",
       "      <td>11</td>\n",
       "      <td>2018</td>\n",
       "      <td>-0.514537</td>\n",
       "      <td>-0.561364</td>\n",
       "      <td>0.828939</td>\n",
       "      <td>-0.525351</td>\n",
       "      <td>...</td>\n",
       "      <td>-0.965608</td>\n",
       "      <td>-0.652305</td>\n",
       "      <td>1.127527</td>\n",
       "      <td>-0.633746</td>\n",
       "      <td>-0.725516</td>\n",
       "      <td>-1.128178</td>\n",
       "      <td>-0.639260</td>\n",
       "      <td>-0.790186</td>\n",
       "      <td>-0.796849</td>\n",
       "      <td>0.963411</td>\n",
       "    </tr>\n",
       "    <tr>\n",
       "      <th>3839</th>\n",
       "      <td>No</td>\n",
       "      <td>-1.487450</td>\n",
       "      <td>-0.881934</td>\n",
       "      <td>-0.440327</td>\n",
       "      <td>11</td>\n",
       "      <td>2018</td>\n",
       "      <td>-0.514537</td>\n",
       "      <td>-0.561364</td>\n",
       "      <td>-1.206361</td>\n",
       "      <td>-0.525351</td>\n",
       "      <td>...</td>\n",
       "      <td>1.035617</td>\n",
       "      <td>1.533025</td>\n",
       "      <td>-0.886896</td>\n",
       "      <td>-0.633746</td>\n",
       "      <td>-0.725516</td>\n",
       "      <td>0.886385</td>\n",
       "      <td>-0.639260</td>\n",
       "      <td>-0.790186</td>\n",
       "      <td>-0.796849</td>\n",
       "      <td>-1.037979</td>\n",
       "    </tr>\n",
       "    <tr>\n",
       "      <th>3560</th>\n",
       "      <td>No</td>\n",
       "      <td>-0.694666</td>\n",
       "      <td>-0.884537</td>\n",
       "      <td>-0.440327</td>\n",
       "      <td>7</td>\n",
       "      <td>2019</td>\n",
       "      <td>-0.514537</td>\n",
       "      <td>-0.561364</td>\n",
       "      <td>-1.206361</td>\n",
       "      <td>-0.525351</td>\n",
       "      <td>...</td>\n",
       "      <td>-0.965608</td>\n",
       "      <td>-0.652305</td>\n",
       "      <td>-0.886896</td>\n",
       "      <td>-0.633746</td>\n",
       "      <td>-0.725516</td>\n",
       "      <td>-1.128178</td>\n",
       "      <td>-0.639260</td>\n",
       "      <td>-0.790186</td>\n",
       "      <td>-0.796849</td>\n",
       "      <td>-1.037979</td>\n",
       "    </tr>\n",
       "    <tr>\n",
       "      <th>843</th>\n",
       "      <td>No</td>\n",
       "      <td>-1.128453</td>\n",
       "      <td>-0.833492</td>\n",
       "      <td>-0.440327</td>\n",
       "      <td>1</td>\n",
       "      <td>2019</td>\n",
       "      <td>-0.514537</td>\n",
       "      <td>-0.561364</td>\n",
       "      <td>0.828939</td>\n",
       "      <td>-0.525351</td>\n",
       "      <td>...</td>\n",
       "      <td>-0.965608</td>\n",
       "      <td>-0.652305</td>\n",
       "      <td>-0.886896</td>\n",
       "      <td>1.577918</td>\n",
       "      <td>-0.725516</td>\n",
       "      <td>-1.128178</td>\n",
       "      <td>-0.639260</td>\n",
       "      <td>-0.790186</td>\n",
       "      <td>-0.796849</td>\n",
       "      <td>0.963411</td>\n",
       "    </tr>\n",
       "    <tr>\n",
       "      <th>5562</th>\n",
       "      <td>No</td>\n",
       "      <td>0.400607</td>\n",
       "      <td>0.879044</td>\n",
       "      <td>2.271039</td>\n",
       "      <td>6</td>\n",
       "      <td>2015</td>\n",
       "      <td>-0.514537</td>\n",
       "      <td>-0.561364</td>\n",
       "      <td>0.828939</td>\n",
       "      <td>-0.525351</td>\n",
       "      <td>...</td>\n",
       "      <td>1.035617</td>\n",
       "      <td>-0.652305</td>\n",
       "      <td>1.127527</td>\n",
       "      <td>-0.633746</td>\n",
       "      <td>-0.725516</td>\n",
       "      <td>-1.128178</td>\n",
       "      <td>1.564308</td>\n",
       "      <td>-0.790186</td>\n",
       "      <td>-0.796849</td>\n",
       "      <td>0.963411</td>\n",
       "    </tr>\n",
       "    <tr>\n",
       "      <th>5187</th>\n",
       "      <td>No</td>\n",
       "      <td>1.316381</td>\n",
       "      <td>0.816483</td>\n",
       "      <td>2.271039</td>\n",
       "      <td>9</td>\n",
       "      <td>2016</td>\n",
       "      <td>-0.514537</td>\n",
       "      <td>-0.561364</td>\n",
       "      <td>0.828939</td>\n",
       "      <td>-0.525351</td>\n",
       "      <td>...</td>\n",
       "      <td>-0.965608</td>\n",
       "      <td>-0.652305</td>\n",
       "      <td>1.127527</td>\n",
       "      <td>-0.633746</td>\n",
       "      <td>1.378330</td>\n",
       "      <td>0.886385</td>\n",
       "      <td>-0.639260</td>\n",
       "      <td>1.265525</td>\n",
       "      <td>1.254943</td>\n",
       "      <td>0.963411</td>\n",
       "    </tr>\n",
       "    <tr>\n",
       "      <th>3645</th>\n",
       "      <td>No</td>\n",
       "      <td>-1.520691</td>\n",
       "      <td>-0.937810</td>\n",
       "      <td>-0.440327</td>\n",
       "      <td>5</td>\n",
       "      <td>2019</td>\n",
       "      <td>-0.514537</td>\n",
       "      <td>-0.561364</td>\n",
       "      <td>-1.206361</td>\n",
       "      <td>-0.525351</td>\n",
       "      <td>...</td>\n",
       "      <td>-0.965608</td>\n",
       "      <td>-0.652305</td>\n",
       "      <td>-0.886896</td>\n",
       "      <td>-0.633746</td>\n",
       "      <td>-0.725516</td>\n",
       "      <td>0.886385</td>\n",
       "      <td>-0.639260</td>\n",
       "      <td>-0.790186</td>\n",
       "      <td>-0.796849</td>\n",
       "      <td>-1.037979</td>\n",
       "    </tr>\n",
       "    <tr>\n",
       "      <th>3638</th>\n",
       "      <td>2019-10-01 00:00:00</td>\n",
       "      <td>-0.486913</td>\n",
       "      <td>-0.956583</td>\n",
       "      <td>2.271039</td>\n",
       "      <td>8</td>\n",
       "      <td>2019</td>\n",
       "      <td>-0.514537</td>\n",
       "      <td>-0.561364</td>\n",
       "      <td>-1.206361</td>\n",
       "      <td>1.903490</td>\n",
       "      <td>...</td>\n",
       "      <td>1.035617</td>\n",
       "      <td>-0.652305</td>\n",
       "      <td>-0.886896</td>\n",
       "      <td>-0.633746</td>\n",
       "      <td>1.378330</td>\n",
       "      <td>-1.128178</td>\n",
       "      <td>-0.639260</td>\n",
       "      <td>-0.790186</td>\n",
       "      <td>-0.796849</td>\n",
       "      <td>-1.037979</td>\n",
       "    </tr>\n",
       "    <tr>\n",
       "      <th>1046</th>\n",
       "      <td>No</td>\n",
       "      <td>0.305872</td>\n",
       "      <td>0.703407</td>\n",
       "      <td>-0.440327</td>\n",
       "      <td>10</td>\n",
       "      <td>2015</td>\n",
       "      <td>1.943495</td>\n",
       "      <td>-0.561364</td>\n",
       "      <td>-1.206361</td>\n",
       "      <td>1.903490</td>\n",
       "      <td>...</td>\n",
       "      <td>-0.965608</td>\n",
       "      <td>-0.652305</td>\n",
       "      <td>-0.886896</td>\n",
       "      <td>1.577918</td>\n",
       "      <td>-0.725516</td>\n",
       "      <td>0.886385</td>\n",
       "      <td>1.564308</td>\n",
       "      <td>1.265525</td>\n",
       "      <td>-0.796849</td>\n",
       "      <td>0.963411</td>\n",
       "    </tr>\n",
       "    <tr>\n",
       "      <th>2528</th>\n",
       "      <td>2019-11-01 00:00:00</td>\n",
       "      <td>0.508638</td>\n",
       "      <td>-0.707665</td>\n",
       "      <td>-0.440327</td>\n",
       "      <td>3</td>\n",
       "      <td>2019</td>\n",
       "      <td>-0.514537</td>\n",
       "      <td>-0.561364</td>\n",
       "      <td>0.828939</td>\n",
       "      <td>-0.525351</td>\n",
       "      <td>...</td>\n",
       "      <td>-0.965608</td>\n",
       "      <td>-0.652305</td>\n",
       "      <td>1.127527</td>\n",
       "      <td>-0.633746</td>\n",
       "      <td>-0.725516</td>\n",
       "      <td>-1.128178</td>\n",
       "      <td>-0.639260</td>\n",
       "      <td>1.265525</td>\n",
       "      <td>-0.796849</td>\n",
       "      <td>-1.037979</td>\n",
       "    </tr>\n",
       "  </tbody>\n",
       "</table>\n",
       "<p>10 rows × 23 columns</p>\n",
       "</div>"
      ],
      "text/plain": [
       "                  EndDate  MonthlyCharges  TotalCharges  SeniorCitizen  \\\n",
       "3006  2020-01-01 00:00:00        0.337450     -0.549962       2.271039   \n",
       "3839                   No       -1.487450     -0.881934      -0.440327   \n",
       "3560                   No       -0.694666     -0.884537      -0.440327   \n",
       "843                    No       -1.128453     -0.833492      -0.440327   \n",
       "5562                   No        0.400607      0.879044       2.271039   \n",
       "5187                   No        1.316381      0.816483       2.271039   \n",
       "3645                   No       -1.520691     -0.937810      -0.440327   \n",
       "3638  2019-10-01 00:00:00       -0.486913     -0.956583       2.271039   \n",
       "1046                   No        0.305872      0.703407      -0.440327   \n",
       "2528  2019-11-01 00:00:00        0.508638     -0.707665      -0.440327   \n",
       "\n",
       "      BeginMonth  BeginYear  Type_One year  Type_Two year  \\\n",
       "3006          11       2018      -0.514537      -0.561364   \n",
       "3839          11       2018      -0.514537      -0.561364   \n",
       "3560           7       2019      -0.514537      -0.561364   \n",
       "843            1       2019      -0.514537      -0.561364   \n",
       "5562           6       2015      -0.514537      -0.561364   \n",
       "5187           9       2016      -0.514537      -0.561364   \n",
       "3645           5       2019      -0.514537      -0.561364   \n",
       "3638           8       2019      -0.514537      -0.561364   \n",
       "1046          10       2015       1.943495      -0.561364   \n",
       "2528           3       2019      -0.514537      -0.561364   \n",
       "\n",
       "      PaperlessBilling_Yes  PaymentMethod_Credit card (automatic)  ...  \\\n",
       "3006              0.828939                              -0.525351  ...   \n",
       "3839             -1.206361                              -0.525351  ...   \n",
       "3560             -1.206361                              -0.525351  ...   \n",
       "843               0.828939                              -0.525351  ...   \n",
       "5562              0.828939                              -0.525351  ...   \n",
       "5187              0.828939                              -0.525351  ...   \n",
       "3645             -1.206361                              -0.525351  ...   \n",
       "3638             -1.206361                               1.903490  ...   \n",
       "1046             -1.206361                               1.903490  ...   \n",
       "2528              0.828939                              -0.525351  ...   \n",
       "\n",
       "      Partner_Yes  Dependents_Yes  InternetService_Fiber optic  \\\n",
       "3006    -0.965608       -0.652305                     1.127527   \n",
       "3839     1.035617        1.533025                    -0.886896   \n",
       "3560    -0.965608       -0.652305                    -0.886896   \n",
       "843     -0.965608       -0.652305                    -0.886896   \n",
       "5562     1.035617       -0.652305                     1.127527   \n",
       "5187    -0.965608       -0.652305                     1.127527   \n",
       "3645    -0.965608       -0.652305                    -0.886896   \n",
       "3638     1.035617       -0.652305                    -0.886896   \n",
       "1046    -0.965608       -0.652305                    -0.886896   \n",
       "2528    -0.965608       -0.652305                     1.127527   \n",
       "\n",
       "      OnlineSecurity_Yes  OnlineBackup_Yes  DeviceProtection_Yes  \\\n",
       "3006           -0.633746         -0.725516             -1.128178   \n",
       "3839           -0.633746         -0.725516              0.886385   \n",
       "3560           -0.633746         -0.725516             -1.128178   \n",
       "843             1.577918         -0.725516             -1.128178   \n",
       "5562           -0.633746         -0.725516             -1.128178   \n",
       "5187           -0.633746          1.378330              0.886385   \n",
       "3645           -0.633746         -0.725516              0.886385   \n",
       "3638           -0.633746          1.378330             -1.128178   \n",
       "1046            1.577918         -0.725516              0.886385   \n",
       "2528           -0.633746         -0.725516             -1.128178   \n",
       "\n",
       "      TechSupport_Yes  StreamingTV_Yes  StreamingMovies_Yes  MultipleLines_Yes  \n",
       "3006        -0.639260        -0.790186            -0.796849           0.963411  \n",
       "3839        -0.639260        -0.790186            -0.796849          -1.037979  \n",
       "3560        -0.639260        -0.790186            -0.796849          -1.037979  \n",
       "843         -0.639260        -0.790186            -0.796849           0.963411  \n",
       "5562         1.564308        -0.790186            -0.796849           0.963411  \n",
       "5187        -0.639260         1.265525             1.254943           0.963411  \n",
       "3645        -0.639260        -0.790186            -0.796849          -1.037979  \n",
       "3638        -0.639260        -0.790186            -0.796849          -1.037979  \n",
       "1046         1.564308         1.265525            -0.796849           0.963411  \n",
       "2528        -0.639260         1.265525            -0.796849          -1.037979  \n",
       "\n",
       "[10 rows x 23 columns]"
      ]
     },
     "execution_count": 11,
     "metadata": {},
     "output_type": "execute_result"
    }
   ],
   "source": [
    "# Select numerical columns excluding target\n",
    "numeric_columns = [col for col in full_data.select_dtypes(include=['int64', 'float64', 'uint8']).columns if col not in ['EndDate', 'BeginMonth', 'BeginYear']]\n",
    "\n",
    "# Initialize scaler\n",
    "scaler = StandardScaler()\n",
    "\n",
    "# Scale numeric columns\n",
    "full_data[numeric_columns] = scaler.fit_transform(full_data[numeric_columns])\n",
    "full_data.sample(10)"
   ]
  },
  {
   "cell_type": "markdown",
   "metadata": {},
   "source": [
    "<div class=\"alert alert-block alert-warning\">\n",
    "<b>Reviewer's comment</b> <a class=\"tocSkip\"></a>\n",
    "\n",
    "Actually, we need to scale only numerical features but not categorical ones. We do scaling to make all the features have similar scale. But after OHE categorical features have the perfect scale. They can be only 0 and 1. You don't need to rescale them. In some cases rescaling even makes the model work worse.\n",
    "\n",
    "</div>"
   ]
  },
  {
   "cell_type": "code",
   "execution_count": 12,
   "metadata": {},
   "outputs": [
    {
     "name": "stdout",
     "output_type": "stream",
     "text": [
      "Means: MonthlyCharges                           6.062651e-17\n",
      "TotalCharges                            -1.119064e-16\n",
      "SeniorCitizen                            2.627149e-17\n",
      "Type_One year                            1.033177e-16\n",
      "Type_Two year                           -1.869317e-17\n",
      "PaperlessBilling_Yes                    -4.067029e-17\n",
      "PaymentMethod_Credit card (automatic)   -8.361407e-17\n",
      "PaymentMethod_Electronic check           5.986868e-17\n",
      "PaymentMethod_Mailed check               4.395422e-17\n",
      "gender_Male                             -7.679358e-17\n",
      "Partner_Yes                              6.264740e-17\n",
      "Dependents_Yes                           6.466828e-17\n",
      "InternetService_Fiber optic              1.970362e-17\n",
      "OnlineSecurity_Yes                      -1.503032e-17\n",
      "OnlineBackup_Yes                        -4.408053e-17\n",
      "DeviceProtection_Yes                     8.285623e-17\n",
      "TechSupport_Yes                          2.728193e-17\n",
      "StreamingTV_Yes                          8.487712e-17\n",
      "StreamingMovies_Yes                      6.668916e-17\n",
      "MultipleLines_Yes                       -2.273494e-17\n",
      "dtype: float64\n",
      "\n",
      "Standard deviations: MonthlyCharges                           1.000071\n",
      "TotalCharges                             1.000071\n",
      "SeniorCitizen                            1.000071\n",
      "Type_One year                            1.000071\n",
      "Type_Two year                            1.000071\n",
      "PaperlessBilling_Yes                     1.000071\n",
      "PaymentMethod_Credit card (automatic)    1.000071\n",
      "PaymentMethod_Electronic check           1.000071\n",
      "PaymentMethod_Mailed check               1.000071\n",
      "gender_Male                              1.000071\n",
      "Partner_Yes                              1.000071\n",
      "Dependents_Yes                           1.000071\n",
      "InternetService_Fiber optic              1.000071\n",
      "OnlineSecurity_Yes                       1.000071\n",
      "OnlineBackup_Yes                         1.000071\n",
      "DeviceProtection_Yes                     1.000071\n",
      "TechSupport_Yes                          1.000071\n",
      "StreamingTV_Yes                          1.000071\n",
      "StreamingMovies_Yes                      1.000071\n",
      "MultipleLines_Yes                        1.000071\n",
      "dtype: float64\n"
     ]
    }
   ],
   "source": [
    "#Verify scaling\n",
    "print(\"Means:\", full_data[numeric_columns].mean())\n",
    "print(\"\\nStandard deviations:\", full_data[numeric_columns].std())"
   ]
  },
  {
   "cell_type": "markdown",
   "metadata": {},
   "source": [
    "## Split and Training"
   ]
  },
  {
   "cell_type": "code",
   "execution_count": 13,
   "metadata": {},
   "outputs": [
    {
     "name": "stdout",
     "output_type": "stream",
     "text": [
      "Train set: 4219 (60.0%)\n",
      "Validation set: 1406 (20.0%)\n",
      "Test set: 1407 (20.0%)\n"
     ]
    }
   ],
   "source": [
    "#Establish features and target\n",
    "features = full_data.drop('EndDate', axis = 1)\n",
    "target = (full_data['EndDate'].str.lower() == 'no').astype(int)\n",
    "\n",
    "#Implement a 60/20/20 split for training, validation, and testing\n",
    "features_train, features_temp, target_train, target_temp = train_test_split(features, target, test_size = 0.4, random_state = 12345)\n",
    "features_valid, features_test, target_valid, target_test = train_test_split(features_temp, target_temp, test_size = 0.5, random_state = 12345)\n",
    "print(f\"Train set: {len(features_train)} ({len(features_train)/len(features)*100:.1f}%)\")\n",
    "print(f\"Validation set: {len(features_valid)} ({len(features_valid)/len(features)*100:.1f}%)\")\n",
    "print(f\"Test set: {len(features_test)} ({len(features_test)/len(features)*100:.1f}%)\")"
   ]
  },
  {
   "cell_type": "code",
   "execution_count": 14,
   "metadata": {},
   "outputs": [
    {
     "data": {
      "text/plain": [
       "1    5163\n",
       "0    1869\n",
       "Name: EndDate, dtype: int64"
      ]
     },
     "execution_count": 14,
     "metadata": {},
     "output_type": "execute_result"
    }
   ],
   "source": [
    "target.value_counts()"
   ]
  },
  {
   "cell_type": "markdown",
   "metadata": {},
   "source": [
    "In order for our model to train, we have redefined all churn dates as \"0\", and all active customers as \"1\"."
   ]
  },
  {
   "cell_type": "markdown",
   "metadata": {},
   "source": [
    "### Dummy Model"
   ]
  },
  {
   "cell_type": "code",
   "execution_count": 15,
   "metadata": {},
   "outputs": [
    {
     "data": {
      "image/png": "[encoded data removed]",
      "text/plain": [
       "<Figure size 800x600 with 1 Axes>"
      ]
     },
     "metadata": {},
     "output_type": "display_data"
    }
   ],
   "source": [
    "# Initialize the dummy classifier with most_frequent strategy\n",
    "dummy_clf = DummyClassifier(strategy='most_frequent', random_state=42)\n",
    "\n",
    "# Fit the model\n",
    "dummy_clf.fit(features_train, target_train)\n",
    "\n",
    "# Get probability predictions\n",
    "dummy_probs = dummy_clf.predict_proba(features_train)[:, 1]\n",
    "\n",
    "# Calculate ROC curve points\n",
    "fpr, tpr, _ = roc_curve(target_train, dummy_probs)\n",
    "\n",
    "# Calculate AUC score\n",
    "dummy_score = roc_auc_score(target_train, dummy_probs)\n",
    "\n",
    "# Plot ROC curve\n",
    "plt.figure(figsize=(8, 6))\n",
    "plt.plot(fpr, tpr, label=f'Dummy Classifier (AUC = {dummy_score:.3f})')\n",
    "plt.plot([0, 1], [0, 1], 'k--', label='Random')\n",
    "plt.xlabel('False Positive Rate')\n",
    "plt.ylabel('True Positive Rate')\n",
    "plt.title('ROC Curve - Dummy Classifier')\n",
    "plt.legend()\n",
    "plt.grid(True)\n",
    "plt.show()"
   ]
  },
  {
   "cell_type": "markdown",
   "metadata": {},
   "source": [
    "This gives us our baseline for model performance. All models should have a ROC curve with sigificant area above the dummy model curve to prove it is better than just guessing the most frequent value (\"1\" for active customers)."
   ]
  },
  {
   "cell_type": "markdown",
   "metadata": {},
   "source": [
    "### Logistic Regression"
   ]
  },
  {
   "cell_type": "code",
   "execution_count": 16,
   "metadata": {},
   "outputs": [
    {
     "name": "stdout",
     "output_type": "stream",
     "text": [
      "AUC-ROC score for Logistic Regression on Training Set: 0.8427398258449181\n",
      "AUC-ROC score for Logistic Regression on Validation Set: 0.8419331699757058\n"
     ]
    },
    {
     "name": "stderr",
     "output_type": "stream",
     "text": [
      "/opt/conda/envs/python3/lib/python3.9/site-packages/sklearn/linear_model/_logistic.py:763: ConvergenceWarning: lbfgs failed to converge (status=1):\n",
      "STOP: TOTAL NO. of ITERATIONS REACHED LIMIT.\n",
      "\n",
      "Increase the number of iterations (max_iter) or scale the data as shown in:\n",
      "    https://scikit-learn.org/stable/modules/preprocessing.html\n",
      "Please also refer to the documentation for alternative solver options:\n",
      "    https://scikit-learn.org/stable/modules/linear_model.html#logistic-regression\n",
      "  n_iter_i = _check_optimize_result(\n"
     ]
    }
   ],
   "source": [
    "#Train LogisticRegression\n",
    "model = LogisticRegression()\n",
    "model = model.fit(features_train, target_train)\n",
    "predictions_train = model.predict_proba(features_train)[:, 1]\n",
    "predictions_valid = model.predict_proba(features_valid)[:, 1]\n",
    "score_train = roc_auc_score(target_train, predictions_train)\n",
    "score_valid = roc_auc_score(target_valid, predictions_valid)\n",
    "print(f'AUC-ROC score for Logistic Regression on Training Set: {score_train}')\n",
    "print(f'AUC-ROC score for Logistic Regression on Validation Set: {score_valid}')"
   ]
  },
  {
   "cell_type": "markdown",
   "metadata": {},
   "source": [
    "Already good results on training and validation, but let's continue for better."
   ]
  },
  {
   "cell_type": "markdown",
   "metadata": {},
   "source": [
    "### Random Forest"
   ]
  },
  {
   "cell_type": "code",
   "execution_count": 17,
   "metadata": {},
   "outputs": [
    {
     "name": "stdout",
     "output_type": "stream",
     "text": [
      "Best parameters: {'max_depth': 9, 'n_estimators': 200}\n",
      "Best ROC AUC score for Training Set: 0.8761587490807811\n",
      "Validation ROC AUC: 0.8821547499371702\n"
     ]
    }
   ],
   "source": [
    "#Testing various parameters for RF\n",
    "param_grid = {\n",
    "    'n_estimators': [100,200],\n",
    "    'max_depth': [6,9]\n",
    "}\n",
    "rf = RandomForestClassifier(random_state=42)\n",
    "grid_search = GridSearchCV(\n",
    "    estimator=rf,\n",
    "    param_grid=param_grid,\n",
    "    cv=5,\n",
    "    scoring='roc_auc'\n",
    ")\n",
    "\n",
    "grid_search.fit(features_train, target_train)\n",
    "print(\"Best parameters:\", grid_search.best_params_)\n",
    "print(\"Best ROC AUC score for Training Set:\", grid_search.best_score_)\n",
    "best_rf = grid_search.best_estimator_\n",
    "valid_probs = best_rf.predict_proba(features_valid)[:, 1]\n",
    "valid_score = roc_auc_score(target_valid, valid_probs)\n",
    "print(f\"Validation ROC AUC: {valid_score}\")"
   ]
  },
  {
   "cell_type": "markdown",
   "metadata": {},
   "source": [
    "We meet our threshold for success and this model can move to testing. Let's continue with other models."
   ]
  },
  {
   "cell_type": "markdown",
   "metadata": {},
   "source": [
    "### LightGBM"
   ]
  },
  {
   "cell_type": "code",
   "execution_count": 18,
   "metadata": {},
   "outputs": [
    {
     "name": "stdout",
     "output_type": "stream",
     "text": [
      "Best parameters: {'learning_rate': 0.1, 'max_depth': 5, 'n_estimators': 200}\n",
      "Best ROC AUC score: 0.9097522083481195\n",
      "Validation ROC AUC: 0.925345040629974\n"
     ]
    }
   ],
   "source": [
    "#Test LightGBM paramters\n",
    "param_grid = {\n",
    "    'n_estimators': [100, 200],\n",
    "    'max_depth': [3, 5],\n",
    "    'learning_rate': [0.01, 0.1]\n",
    "}\n",
    "lgbm = LGBMClassifier(random_state=42)\n",
    "grid_search = GridSearchCV(\n",
    "    estimator=lgbm,\n",
    "    param_grid=param_grid,\n",
    "    cv=5,\n",
    "    scoring='roc_auc'\n",
    ")\n",
    "\n",
    "grid_search.fit(features_train, target_train)\n",
    "print(\"Best parameters:\", grid_search.best_params_)\n",
    "print(\"Best ROC AUC score:\", grid_search.best_score_)\n",
    "best_lgbm = grid_search.best_estimator_\n",
    "valid_probs = best_lgbm.predict_proba(features_valid)[:, 1]\n",
    "valid_score = roc_auc_score(target_valid, valid_probs)\n",
    "print(f\"Validation ROC AUC: {valid_score}\")"
   ]
  },
  {
   "cell_type": "markdown",
   "metadata": {},
   "source": [
    "This model also performs well and can move to testing."
   ]
  },
  {
   "cell_type": "markdown",
   "metadata": {},
   "source": [
    "### KNN Classifier"
   ]
  },
  {
   "cell_type": "code",
   "execution_count": 19,
   "metadata": {},
   "outputs": [
    {
     "name": "stdout",
     "output_type": "stream",
     "text": [
      "Best parameters: {'n_neighbors': 7, 'weights': 'distance'}\n",
      "Best ROC AUC score: 0.8020484984835476\n",
      "Validation ROC AUC: 0.7971786776409483\n"
     ]
    }
   ],
   "source": [
    "#Test KNN parameters\n",
    "param_grid = {\n",
    "    'n_neighbors': [3, 5, 7],\n",
    "    'weights': ['uniform', 'distance']\n",
    "}\n",
    "knn = KNeighborsClassifier()\n",
    "grid_search = GridSearchCV(\n",
    "    estimator=knn,\n",
    "    param_grid=param_grid,\n",
    "    cv=5,\n",
    "    scoring='roc_auc'\n",
    ")\n",
    "grid_search.fit(features_train, target_train)\n",
    "print(\"Best parameters:\", grid_search.best_params_)\n",
    "print(\"Best ROC AUC score:\", grid_search.best_score_)\n",
    "best_knn = grid_search.best_estimator_\n",
    "valid_probs = best_knn.predict_proba(features_valid)[:, 1]\n",
    "valid_score = roc_auc_score(target_valid, valid_probs)\n",
    "print(f\"Validation ROC AUC: {valid_score}\")"
   ]
  },
  {
   "cell_type": "markdown",
   "metadata": {},
   "source": [
    "KNN is not quite good enough for us here."
   ]
  },
  {
   "cell_type": "markdown",
   "metadata": {},
   "source": [
    "## Testing and ROC Curves"
   ]
  },
  {
   "cell_type": "markdown",
   "metadata": {},
   "source": [
    "### Random Forest Testing and ROC Curve"
   ]
  },
  {
   "cell_type": "code",
   "execution_count": 20,
   "metadata": {},
   "outputs": [
    {
     "data": {
      "image/png": "[encoded data removed]",
      "text/plain": [
       "<Figure size 1000x600 with 1 Axes>"
      ]
     },
     "metadata": {},
     "output_type": "display_data"
    }
   ],
   "source": [
    "# Get probability predictions on test set\n",
    "test_probs = best_rf.predict_proba(features_test)[:, 1]\n",
    "\n",
    "# Calculate ROC curve points\n",
    "test_fpr, test_tpr, _ = roc_curve(target_test, test_probs)\n",
    "\n",
    "# Calculate AUC score\n",
    "test_auc = roc_auc_score(target_test, test_probs)\n",
    "\n",
    "# Plot ROC curve\n",
    "plt.figure(figsize=(10, 6))\n",
    "plt.plot(test_fpr, test_tpr, label=f'Test Set (AUC = {test_auc:.3f})')\n",
    "plt.plot([0, 1], [0, 1], 'k--', label='Random')\n",
    "plt.xlabel('False Positive Rate')\n",
    "plt.ylabel('True Positive Rate')\n",
    "plt.title('ROC Curve - Test Set Performance')\n",
    "plt.legend()\n",
    "plt.grid(True)\n",
    "plt.show()"
   ]
  },
  {
   "cell_type": "markdown",
   "metadata": {},
   "source": [
    "Our best Random Forest model significantly outperforms the dummy model and does not have a steep drop off in testing.\n",
    "\n",
    "__Final AUC-ROC: 0.866__"
   ]
  },
  {
   "cell_type": "markdown",
   "metadata": {},
   "source": [
    "### LightGBM Testing and ROC Curve"
   ]
  },
  {
   "cell_type": "code",
   "execution_count": 21,
   "metadata": {},
   "outputs": [
    {
     "data": {
      "image/png": "[encoded data removed]",
      "text/plain": [
       "<Figure size 1000x600 with 1 Axes>"
      ]
     },
     "metadata": {},
     "output_type": "display_data"
    }
   ],
   "source": [
    "# Get probability predictions on test set\n",
    "test_probs = best_lgbm.predict_proba(features_test)[:, 1]\n",
    "\n",
    "# Calculate ROC curve points\n",
    "test_fpr, test_tpr, _ = roc_curve(target_test, test_probs)\n",
    "\n",
    "# Calculate AUC score\n",
    "test_auc = roc_auc_score(target_test, test_probs)\n",
    "\n",
    "# Plot ROC curve\n",
    "plt.figure(figsize=(10, 6))\n",
    "plt.plot(test_fpr, test_tpr, label=f'Test Set (AUC = {test_auc:.3f})')\n",
    "plt.plot([0, 1], [0, 1], 'k--', label='Random')\n",
    "plt.xlabel('False Positive Rate')\n",
    "plt.ylabel('True Positive Rate')\n",
    "plt.title('ROC Curve - Test Set Performance')\n",
    "plt.legend()\n",
    "plt.grid(True)\n",
    "plt.show()"
   ]
  },
  {
   "cell_type": "markdown",
   "metadata": {},
   "source": [
    "This model massively outperforms the dummy model and maintains performance in the testing set.\n",
    "\n",
    "__Final AUC-ROC: 0.91__"
   ]
  },
  {
   "cell_type": "markdown",
   "metadata": {},
   "source": [
    "__We have found our best model to be the LightGBM model.__"
   ]
  },
  {
   "cell_type": "markdown",
   "metadata": {},
   "source": [
    "**Best Parameters: learning_rate: 0.1, max_depth: 5, n_estimators: 200**"
   ]
  },
  {
   "cell_type": "markdown",
   "metadata": {},
   "source": [
    "# Conclusion"
   ]
  },
  {
   "cell_type": "markdown",
   "metadata": {},
   "source": [
    "We were tasked with creating a model to predict customer churn based on four sets of customer data.\n",
    "\n",
    "We performed the following steps to achieve our objective:\n",
    "\n",
    "* Performed preprocessing of data to prepare for model creation.\n",
    "\n",
    "* Tested various models and hyperparameters to find the best model.\n",
    "\n",
    "* Identified our best model with a AUC-ROC score of 0.91.\n",
    "\n",
    "* Verified the performance of our best model against the benchmark dummy model in training, validation, and testing.\n",
    "\n",
    "* Verified the sturdiness of our model by graphing the ROC curve against the dummy model. \n",
    "\n",
    "* Identified our final best model as our LightGBM model.\n",
    "\n",
    "It is clear that we achieved our objective and created a robust model to predict customer churn."
   ]
  },
  {
   "cell_type": "markdown",
   "metadata": {},
   "source": [
    "<div class=\"alert alert-block alert-success\">\n",
    "<b>Reviewer's comment</b> <a class=\"tocSkip\"></a>\n",
    "\n",
    "You did a great job! Everything is correct. Well done! Based on your roc-auc score you achieved 6.0/6.0 sp. To be honest, not a many students can achieve such a high score:)\n",
    "    \n",
    "Good luck with your new job search!\n",
    "\n",
    "</div>"
   ]
  },
  {
   "cell_type": "code",
   "execution_count": null,
   "metadata": {},
   "outputs": [],
   "source": []
  }
 ],
 "metadata": {
  "ExecuteTimeLog": [
   {
    "duration": 2949,
    "start_time": "2024-11-19T22:35:55.923Z"
   },
   {
    "duration": 20,
    "start_time": "2024-11-19T22:41:31.868Z"
   },
   {
    "duration": 31,
    "start_time": "2024-11-19T22:41:40.679Z"
   },
   {
    "duration": 27,
    "start_time": "2024-11-19T22:42:02.567Z"
   },
   {
    "duration": 687,
    "start_time": "2024-11-19T23:05:26.074Z"
   },
   {
    "duration": 333,
    "start_time": "2024-11-19T23:06:25.365Z"
   },
   {
    "duration": 11,
    "start_time": "2024-11-19T23:07:01.195Z"
   },
   {
    "duration": 7,
    "start_time": "2024-11-19T23:14:31.906Z"
   },
   {
    "duration": 7,
    "start_time": "2024-11-19T23:16:49.209Z"
   },
   {
    "duration": 15,
    "start_time": "2024-11-19T23:16:57.734Z"
   },
   {
    "duration": 7,
    "start_time": "2024-11-19T23:17:59.944Z"
   },
   {
    "duration": 11,
    "start_time": "2024-11-19T23:18:12.347Z"
   },
   {
    "duration": 8,
    "start_time": "2024-11-19T23:18:32.829Z"
   },
   {
    "duration": 8,
    "start_time": "2024-11-19T23:18:48.169Z"
   },
   {
    "duration": 6,
    "start_time": "2024-11-19T23:18:51.326Z"
   },
   {
    "duration": 9,
    "start_time": "2024-11-19T23:18:54.020Z"
   },
   {
    "duration": 1097,
    "start_time": "2024-11-19T23:19:46.398Z"
   },
   {
    "duration": 32,
    "start_time": "2024-11-19T23:19:47.498Z"
   },
   {
    "duration": 5,
    "start_time": "2024-11-19T23:19:47.532Z"
   },
   {
    "duration": 6,
    "start_time": "2024-11-19T23:19:47.539Z"
   },
   {
    "duration": 8,
    "start_time": "2024-11-19T23:19:47.548Z"
   },
   {
    "duration": 1145,
    "start_time": "2024-11-19T23:20:47.213Z"
   },
   {
    "duration": 30,
    "start_time": "2024-11-19T23:20:48.361Z"
   },
   {
    "duration": 4,
    "start_time": "2024-11-19T23:20:48.393Z"
   },
   {
    "duration": 16,
    "start_time": "2024-11-19T23:20:48.399Z"
   },
   {
    "duration": 8,
    "start_time": "2024-11-19T23:20:48.417Z"
   },
   {
    "duration": 7,
    "start_time": "2024-11-19T23:21:50.361Z"
   },
   {
    "duration": 11,
    "start_time": "2024-11-19T23:22:52.258Z"
   },
   {
    "duration": 1182,
    "start_time": "2024-11-19T23:23:01.656Z"
   },
   {
    "duration": 32,
    "start_time": "2024-11-19T23:23:02.840Z"
   },
   {
    "duration": 5,
    "start_time": "2024-11-19T23:23:02.874Z"
   },
   {
    "duration": 8,
    "start_time": "2024-11-19T23:23:02.880Z"
   },
   {
    "duration": 7,
    "start_time": "2024-11-19T23:23:02.909Z"
   },
   {
    "duration": 4,
    "start_time": "2024-11-19T23:23:02.918Z"
   },
   {
    "duration": 9,
    "start_time": "2024-11-19T23:23:02.924Z"
   },
   {
    "duration": 235,
    "start_time": "2024-11-19T23:23:22.617Z"
   },
   {
    "duration": 22,
    "start_time": "2024-11-19T23:23:29.436Z"
   },
   {
    "duration": 8,
    "start_time": "2024-11-19T23:23:41.026Z"
   },
   {
    "duration": 1142,
    "start_time": "2024-11-19T23:25:46.738Z"
   },
   {
    "duration": 33,
    "start_time": "2024-11-19T23:25:47.882Z"
   },
   {
    "duration": 4,
    "start_time": "2024-11-19T23:25:47.917Z"
   },
   {
    "duration": 7,
    "start_time": "2024-11-19T23:25:47.923Z"
   },
   {
    "duration": 9,
    "start_time": "2024-11-19T23:25:47.932Z"
   },
   {
    "duration": 5,
    "start_time": "2024-11-19T23:25:47.942Z"
   },
   {
    "duration": 7,
    "start_time": "2024-11-19T23:25:47.949Z"
   },
   {
    "duration": 9,
    "start_time": "2024-11-19T23:27:46.819Z"
   },
   {
    "duration": 6,
    "start_time": "2024-11-19T23:27:58.239Z"
   },
   {
    "duration": 8,
    "start_time": "2024-11-19T23:28:00.045Z"
   },
   {
    "duration": 8,
    "start_time": "2024-11-19T23:28:12.715Z"
   },
   {
    "duration": 6,
    "start_time": "2024-11-19T23:28:15.676Z"
   },
   {
    "duration": 8,
    "start_time": "2024-11-19T23:28:17.097Z"
   },
   {
    "duration": 1082,
    "start_time": "2024-11-19T23:28:22.364Z"
   },
   {
    "duration": 30,
    "start_time": "2024-11-19T23:28:23.448Z"
   },
   {
    "duration": 5,
    "start_time": "2024-11-19T23:28:23.480Z"
   },
   {
    "duration": 7,
    "start_time": "2024-11-19T23:28:23.487Z"
   },
   {
    "duration": 19,
    "start_time": "2024-11-19T23:28:23.496Z"
   },
   {
    "duration": 5,
    "start_time": "2024-11-19T23:28:23.517Z"
   },
   {
    "duration": 7,
    "start_time": "2024-11-19T23:28:23.524Z"
   },
   {
    "duration": 149,
    "start_time": "2024-11-19T23:30:01.099Z"
   },
   {
    "duration": 1109,
    "start_time": "2024-11-19T23:30:12.654Z"
   },
   {
    "duration": 30,
    "start_time": "2024-11-19T23:30:13.765Z"
   },
   {
    "duration": 4,
    "start_time": "2024-11-19T23:30:13.797Z"
   },
   {
    "duration": 7,
    "start_time": "2024-11-19T23:30:13.810Z"
   },
   {
    "duration": 162,
    "start_time": "2024-11-19T23:30:13.819Z"
   },
   {
    "duration": 0,
    "start_time": "2024-11-19T23:30:13.982Z"
   },
   {
    "duration": 0,
    "start_time": "2024-11-19T23:30:13.984Z"
   },
   {
    "duration": 20,
    "start_time": "2024-11-19T23:31:31.516Z"
   },
   {
    "duration": 1047,
    "start_time": "2024-11-19T23:31:40.281Z"
   },
   {
    "duration": 28,
    "start_time": "2024-11-19T23:31:41.330Z"
   },
   {
    "duration": 5,
    "start_time": "2024-11-19T23:31:41.360Z"
   },
   {
    "duration": 7,
    "start_time": "2024-11-19T23:31:41.368Z"
   },
   {
    "duration": 168,
    "start_time": "2024-11-19T23:31:41.378Z"
   },
   {
    "duration": 0,
    "start_time": "2024-11-19T23:31:41.548Z"
   },
   {
    "duration": 0,
    "start_time": "2024-11-19T23:31:41.549Z"
   },
   {
    "duration": 22,
    "start_time": "2024-11-19T23:33:16.203Z"
   },
   {
    "duration": 10,
    "start_time": "2024-11-19T23:35:11.304Z"
   },
   {
    "duration": 1149,
    "start_time": "2024-11-19T23:35:23.946Z"
   },
   {
    "duration": 30,
    "start_time": "2024-11-19T23:35:25.098Z"
   },
   {
    "duration": 5,
    "start_time": "2024-11-19T23:35:25.130Z"
   },
   {
    "duration": 7,
    "start_time": "2024-11-19T23:35:25.137Z"
   },
   {
    "duration": 8,
    "start_time": "2024-11-19T23:35:25.147Z"
   },
   {
    "duration": 7,
    "start_time": "2024-11-19T23:35:25.156Z"
   },
   {
    "duration": 8,
    "start_time": "2024-11-19T23:35:25.165Z"
   },
   {
    "duration": 1068,
    "start_time": "2024-11-19T23:35:44.870Z"
   },
   {
    "duration": 31,
    "start_time": "2024-11-19T23:35:45.941Z"
   },
   {
    "duration": 4,
    "start_time": "2024-11-19T23:35:45.974Z"
   },
   {
    "duration": 7,
    "start_time": "2024-11-19T23:35:45.980Z"
   },
   {
    "duration": 25,
    "start_time": "2024-11-19T23:35:45.989Z"
   },
   {
    "duration": 8,
    "start_time": "2024-11-19T23:35:46.016Z"
   },
   {
    "duration": 8,
    "start_time": "2024-11-19T23:35:46.026Z"
   },
   {
    "duration": 37,
    "start_time": "2024-11-19T23:39:26.394Z"
   },
   {
    "duration": 1130,
    "start_time": "2024-11-19T23:39:34.332Z"
   },
   {
    "duration": 30,
    "start_time": "2024-11-19T23:39:35.464Z"
   },
   {
    "duration": 5,
    "start_time": "2024-11-19T23:39:35.496Z"
   },
   {
    "duration": 12,
    "start_time": "2024-11-19T23:39:35.503Z"
   },
   {
    "duration": 36,
    "start_time": "2024-11-19T23:39:35.517Z"
   },
   {
    "duration": 1085,
    "start_time": "2024-11-19T23:40:35.061Z"
   },
   {
    "duration": 30,
    "start_time": "2024-11-19T23:40:36.148Z"
   },
   {
    "duration": 4,
    "start_time": "2024-11-19T23:40:36.180Z"
   },
   {
    "duration": 8,
    "start_time": "2024-11-19T23:40:36.186Z"
   },
   {
    "duration": 36,
    "start_time": "2024-11-19T23:40:36.209Z"
   },
   {
    "duration": 1111,
    "start_time": "2024-11-19T23:41:06.899Z"
   },
   {
    "duration": 29,
    "start_time": "2024-11-19T23:41:08.012Z"
   },
   {
    "duration": 5,
    "start_time": "2024-11-19T23:41:08.043Z"
   },
   {
    "duration": 7,
    "start_time": "2024-11-19T23:41:08.051Z"
   },
   {
    "duration": 56,
    "start_time": "2024-11-19T23:41:08.060Z"
   },
   {
    "duration": 13,
    "start_time": "2024-11-19T23:42:53.048Z"
   },
   {
    "duration": 5,
    "start_time": "2024-11-19T23:43:56.732Z"
   },
   {
    "duration": 41,
    "start_time": "2024-11-19T23:45:11.163Z"
   },
   {
    "duration": 523,
    "start_time": "2024-11-19T23:46:53.924Z"
   },
   {
    "duration": 1075,
    "start_time": "2024-11-19T23:47:18.249Z"
   },
   {
    "duration": 43,
    "start_time": "2024-11-19T23:47:19.326Z"
   },
   {
    "duration": 5,
    "start_time": "2024-11-19T23:47:19.371Z"
   },
   {
    "duration": 7,
    "start_time": "2024-11-19T23:47:19.377Z"
   },
   {
    "duration": 53,
    "start_time": "2024-11-19T23:47:19.386Z"
   },
   {
    "duration": 12,
    "start_time": "2024-11-19T23:47:19.441Z"
   },
   {
    "duration": 19,
    "start_time": "2024-11-19T23:47:19.455Z"
   },
   {
    "duration": 4,
    "start_time": "2024-11-19T23:48:59.688Z"
   },
   {
    "duration": 954,
    "start_time": "2024-11-19T23:49:13.108Z"
   },
   {
    "duration": 1087,
    "start_time": "2024-11-19T23:49:24.034Z"
   },
   {
    "duration": 45,
    "start_time": "2024-11-19T23:49:25.124Z"
   },
   {
    "duration": 6,
    "start_time": "2024-11-19T23:49:25.172Z"
   },
   {
    "duration": 29,
    "start_time": "2024-11-19T23:49:25.180Z"
   },
   {
    "duration": 41,
    "start_time": "2024-11-19T23:49:25.211Z"
   },
   {
    "duration": 13,
    "start_time": "2024-11-19T23:49:25.254Z"
   },
   {
    "duration": 19,
    "start_time": "2024-11-19T23:49:25.269Z"
   },
   {
    "duration": 16,
    "start_time": "2024-11-19T23:49:25.309Z"
   },
   {
    "duration": 965,
    "start_time": "2024-11-19T23:50:48.509Z"
   },
   {
    "duration": 1124,
    "start_time": "2024-11-19T23:50:54.615Z"
   },
   {
    "duration": 45,
    "start_time": "2024-11-19T23:50:55.741Z"
   },
   {
    "duration": 5,
    "start_time": "2024-11-19T23:50:55.788Z"
   },
   {
    "duration": 19,
    "start_time": "2024-11-19T23:50:55.795Z"
   },
   {
    "duration": 35,
    "start_time": "2024-11-19T23:50:55.817Z"
   },
   {
    "duration": 13,
    "start_time": "2024-11-19T23:50:55.853Z"
   },
   {
    "duration": 41,
    "start_time": "2024-11-19T23:50:55.868Z"
   },
   {
    "duration": 14,
    "start_time": "2024-11-19T23:50:55.911Z"
   },
   {
    "duration": 100,
    "start_time": "2024-11-19T23:58:06.846Z"
   },
   {
    "duration": 99,
    "start_time": "2024-11-19T23:58:25.390Z"
   },
   {
    "duration": 43,
    "start_time": "2024-11-19T23:58:34.465Z"
   },
   {
    "duration": 30,
    "start_time": "2024-11-19T23:58:41.689Z"
   },
   {
    "duration": 1079,
    "start_time": "2024-11-20T00:00:50.973Z"
   },
   {
    "duration": 42,
    "start_time": "2024-11-20T00:00:52.055Z"
   },
   {
    "duration": 11,
    "start_time": "2024-11-20T00:00:52.099Z"
   },
   {
    "duration": 6,
    "start_time": "2024-11-20T00:00:52.112Z"
   },
   {
    "duration": 36,
    "start_time": "2024-11-20T00:00:52.121Z"
   },
   {
    "duration": 13,
    "start_time": "2024-11-20T00:00:52.158Z"
   },
   {
    "duration": 53,
    "start_time": "2024-11-20T00:00:52.173Z"
   },
   {
    "duration": 14,
    "start_time": "2024-11-20T00:00:52.228Z"
   },
   {
    "duration": 246,
    "start_time": "2024-11-20T00:00:52.244Z"
   },
   {
    "duration": 1127,
    "start_time": "2024-11-20T00:02:03.127Z"
   },
   {
    "duration": 43,
    "start_time": "2024-11-20T00:02:04.256Z"
   },
   {
    "duration": 4,
    "start_time": "2024-11-20T00:02:04.302Z"
   },
   {
    "duration": 5,
    "start_time": "2024-11-20T00:02:04.308Z"
   },
   {
    "duration": 35,
    "start_time": "2024-11-20T00:02:04.316Z"
   },
   {
    "duration": 14,
    "start_time": "2024-11-20T00:02:04.353Z"
   },
   {
    "duration": 44,
    "start_time": "2024-11-20T00:02:04.370Z"
   },
   {
    "duration": 14,
    "start_time": "2024-11-20T00:02:04.416Z"
   },
   {
    "duration": 137,
    "start_time": "2024-11-20T00:02:04.432Z"
   },
   {
    "duration": 235,
    "start_time": "2024-11-20T00:03:56.462Z"
   },
   {
    "duration": 661,
    "start_time": "2024-11-20T00:06:38.060Z"
   },
   {
    "duration": 1129,
    "start_time": "2024-11-20T00:06:45.835Z"
   },
   {
    "duration": 42,
    "start_time": "2024-11-20T00:06:46.967Z"
   },
   {
    "duration": 886,
    "start_time": "2024-11-20T00:06:47.011Z"
   },
   {
    "duration": 0,
    "start_time": "2024-11-20T00:06:47.899Z"
   },
   {
    "duration": 0,
    "start_time": "2024-11-20T00:06:47.900Z"
   },
   {
    "duration": 0,
    "start_time": "2024-11-20T00:06:47.908Z"
   },
   {
    "duration": 0,
    "start_time": "2024-11-20T00:06:47.909Z"
   },
   {
    "duration": 0,
    "start_time": "2024-11-20T00:06:47.910Z"
   },
   {
    "duration": 0,
    "start_time": "2024-11-20T00:06:47.912Z"
   },
   {
    "duration": 69,
    "start_time": "2024-11-20T00:07:33.298Z"
   },
   {
    "duration": 55,
    "start_time": "2024-11-20T00:08:19.665Z"
   },
   {
    "duration": 1035,
    "start_time": "2024-11-20T00:08:28.101Z"
   },
   {
    "duration": 44,
    "start_time": "2024-11-20T00:08:29.137Z"
   },
   {
    "duration": 797,
    "start_time": "2024-11-20T00:08:29.183Z"
   },
   {
    "duration": 0,
    "start_time": "2024-11-20T00:08:29.982Z"
   },
   {
    "duration": 0,
    "start_time": "2024-11-20T00:08:29.984Z"
   },
   {
    "duration": 0,
    "start_time": "2024-11-20T00:08:29.985Z"
   },
   {
    "duration": 0,
    "start_time": "2024-11-20T00:08:29.986Z"
   },
   {
    "duration": 0,
    "start_time": "2024-11-20T00:08:29.987Z"
   },
   {
    "duration": 0,
    "start_time": "2024-11-20T00:08:29.989Z"
   },
   {
    "duration": 10,
    "start_time": "2024-11-20T00:09:27.463Z"
   },
   {
    "duration": 18,
    "start_time": "2024-11-20T00:09:40.101Z"
   },
   {
    "duration": 1212,
    "start_time": "2024-11-20T00:10:43.235Z"
   },
   {
    "duration": 44,
    "start_time": "2024-11-20T00:10:44.450Z"
   },
   {
    "duration": 23,
    "start_time": "2024-11-20T00:10:44.496Z"
   },
   {
    "duration": 7,
    "start_time": "2024-11-20T00:10:44.520Z"
   },
   {
    "duration": 36,
    "start_time": "2024-11-20T00:10:44.529Z"
   },
   {
    "duration": 14,
    "start_time": "2024-11-20T00:10:44.568Z"
   },
   {
    "duration": 49,
    "start_time": "2024-11-20T00:10:44.583Z"
   },
   {
    "duration": 14,
    "start_time": "2024-11-20T00:10:44.634Z"
   },
   {
    "duration": 60,
    "start_time": "2024-11-20T00:10:44.650Z"
   },
   {
    "duration": 1059,
    "start_time": "2024-11-20T00:11:52.680Z"
   },
   {
    "duration": 48,
    "start_time": "2024-11-20T00:11:53.741Z"
   },
   {
    "duration": 31,
    "start_time": "2024-11-20T00:11:53.791Z"
   },
   {
    "duration": 6,
    "start_time": "2024-11-20T00:11:53.824Z"
   },
   {
    "duration": 35,
    "start_time": "2024-11-20T00:11:53.833Z"
   },
   {
    "duration": 12,
    "start_time": "2024-11-20T00:11:53.870Z"
   },
   {
    "duration": 44,
    "start_time": "2024-11-20T00:11:53.884Z"
   },
   {
    "duration": 19,
    "start_time": "2024-11-20T00:11:53.929Z"
   },
   {
    "duration": 14,
    "start_time": "2024-11-20T00:11:53.949Z"
   },
   {
    "duration": 58,
    "start_time": "2024-11-20T00:11:53.965Z"
   },
   {
    "duration": 1124,
    "start_time": "2024-11-20T00:13:10.603Z"
   },
   {
    "duration": 45,
    "start_time": "2024-11-20T00:13:11.729Z"
   },
   {
    "duration": 17,
    "start_time": "2024-11-20T00:13:11.776Z"
   },
   {
    "duration": 20,
    "start_time": "2024-11-20T00:13:11.794Z"
   },
   {
    "duration": 39,
    "start_time": "2024-11-20T00:13:11.817Z"
   },
   {
    "duration": 15,
    "start_time": "2024-11-20T00:13:11.858Z"
   },
   {
    "duration": 43,
    "start_time": "2024-11-20T00:13:11.875Z"
   },
   {
    "duration": 20,
    "start_time": "2024-11-20T00:13:11.920Z"
   },
   {
    "duration": 14,
    "start_time": "2024-11-20T00:13:11.943Z"
   },
   {
    "duration": 56,
    "start_time": "2024-11-20T00:13:11.959Z"
   },
   {
    "duration": 248,
    "start_time": "2024-11-20T00:14:35.940Z"
   },
   {
    "duration": 34,
    "start_time": "2024-11-20T00:14:45.280Z"
   },
   {
    "duration": 29,
    "start_time": "2024-11-20T00:15:26.202Z"
   },
   {
    "duration": 40,
    "start_time": "2024-11-20T00:15:36.633Z"
   },
   {
    "duration": 10,
    "start_time": "2024-11-20T00:16:05.778Z"
   },
   {
    "duration": 1170,
    "start_time": "2024-11-20T00:18:16.327Z"
   },
   {
    "duration": 49,
    "start_time": "2024-11-20T00:18:17.500Z"
   },
   {
    "duration": 17,
    "start_time": "2024-11-20T00:18:17.551Z"
   },
   {
    "duration": 6,
    "start_time": "2024-11-20T00:18:17.570Z"
   },
   {
    "duration": 57,
    "start_time": "2024-11-20T00:18:17.579Z"
   },
   {
    "duration": 13,
    "start_time": "2024-11-20T00:18:17.638Z"
   },
   {
    "duration": 18,
    "start_time": "2024-11-20T00:18:17.652Z"
   },
   {
    "duration": 46,
    "start_time": "2024-11-20T00:18:17.672Z"
   },
   {
    "duration": 15,
    "start_time": "2024-11-20T00:18:17.721Z"
   },
   {
    "duration": 36,
    "start_time": "2024-11-20T00:18:17.738Z"
   },
   {
    "duration": 62,
    "start_time": "2024-11-20T00:18:17.775Z"
   },
   {
    "duration": 10,
    "start_time": "2024-11-20T00:18:17.840Z"
   },
   {
    "duration": 642,
    "start_time": "2024-11-20T00:19:21.101Z"
   },
   {
    "duration": 1118,
    "start_time": "2024-11-20T00:19:32.030Z"
   },
   {
    "duration": 45,
    "start_time": "2024-11-20T00:19:33.150Z"
   },
   {
    "duration": 24,
    "start_time": "2024-11-20T00:19:33.198Z"
   },
   {
    "duration": 373,
    "start_time": "2024-11-20T00:19:33.224Z"
   },
   {
    "duration": 0,
    "start_time": "2024-11-20T00:19:33.600Z"
   },
   {
    "duration": 0,
    "start_time": "2024-11-20T00:19:33.609Z"
   },
   {
    "duration": 0,
    "start_time": "2024-11-20T00:19:33.610Z"
   },
   {
    "duration": 0,
    "start_time": "2024-11-20T00:19:33.611Z"
   },
   {
    "duration": 0,
    "start_time": "2024-11-20T00:19:33.612Z"
   },
   {
    "duration": 0,
    "start_time": "2024-11-20T00:19:33.613Z"
   },
   {
    "duration": 0,
    "start_time": "2024-11-20T00:19:33.614Z"
   },
   {
    "duration": 0,
    "start_time": "2024-11-20T00:19:33.615Z"
   },
   {
    "duration": 41,
    "start_time": "2024-11-20T00:20:20.864Z"
   },
   {
    "duration": 93,
    "start_time": "2024-11-20T00:20:52.442Z"
   },
   {
    "duration": 94,
    "start_time": "2024-11-20T00:21:08.045Z"
   },
   {
    "duration": 179,
    "start_time": "2024-11-20T00:21:25.723Z"
   },
   {
    "duration": 95,
    "start_time": "2024-11-20T00:21:58.344Z"
   },
   {
    "duration": 1128,
    "start_time": "2024-11-20T00:22:13.603Z"
   },
   {
    "duration": 48,
    "start_time": "2024-11-20T00:22:14.733Z"
   },
   {
    "duration": 30,
    "start_time": "2024-11-20T00:22:14.784Z"
   },
   {
    "duration": 125,
    "start_time": "2024-11-20T00:22:14.816Z"
   },
   {
    "duration": 39,
    "start_time": "2024-11-20T00:22:14.944Z"
   },
   {
    "duration": 28,
    "start_time": "2024-11-20T00:22:14.985Z"
   },
   {
    "duration": 18,
    "start_time": "2024-11-20T00:22:15.014Z"
   },
   {
    "duration": 19,
    "start_time": "2024-11-20T00:22:15.034Z"
   },
   {
    "duration": 14,
    "start_time": "2024-11-20T00:22:15.054Z"
   },
   {
    "duration": 58,
    "start_time": "2024-11-20T00:22:15.070Z"
   },
   {
    "duration": 41,
    "start_time": "2024-11-20T00:22:15.130Z"
   },
   {
    "duration": 9,
    "start_time": "2024-11-20T00:22:15.173Z"
   },
   {
    "duration": 1122,
    "start_time": "2024-11-20T00:24:14.845Z"
   },
   {
    "duration": 43,
    "start_time": "2024-11-20T00:24:15.969Z"
   },
   {
    "duration": 16,
    "start_time": "2024-11-20T00:24:16.013Z"
   },
   {
    "duration": 116,
    "start_time": "2024-11-20T00:24:16.031Z"
   },
   {
    "duration": 38,
    "start_time": "2024-11-20T00:24:16.149Z"
   },
   {
    "duration": 28,
    "start_time": "2024-11-20T00:24:16.189Z"
   },
   {
    "duration": 19,
    "start_time": "2024-11-20T00:24:16.219Z"
   },
   {
    "duration": 1233,
    "start_time": "2024-11-20T00:24:29.957Z"
   },
   {
    "duration": 128,
    "start_time": "2024-11-20T00:24:58.102Z"
   },
   {
    "duration": 174,
    "start_time": "2024-11-20T00:25:28.766Z"
   },
   {
    "duration": 149,
    "start_time": "2024-11-20T00:26:24.727Z"
   },
   {
    "duration": 5,
    "start_time": "2024-11-20T00:31:52.378Z"
   },
   {
    "duration": 29,
    "start_time": "2024-11-20T00:32:07.216Z"
   },
   {
    "duration": 1077,
    "start_time": "2024-11-20T00:32:23.761Z"
   },
   {
    "duration": 42,
    "start_time": "2024-11-20T00:32:24.840Z"
   },
   {
    "duration": 24,
    "start_time": "2024-11-20T00:32:24.884Z"
   },
   {
    "duration": 108,
    "start_time": "2024-11-20T00:32:24.910Z"
   },
   {
    "duration": 36,
    "start_time": "2024-11-20T00:32:25.020Z"
   },
   {
    "duration": 13,
    "start_time": "2024-11-20T00:32:25.058Z"
   },
   {
    "duration": 42,
    "start_time": "2024-11-20T00:32:25.073Z"
   },
   {
    "duration": 145,
    "start_time": "2024-11-20T00:32:25.117Z"
   },
   {
    "duration": 14,
    "start_time": "2024-11-20T00:32:25.264Z"
   },
   {
    "duration": 45,
    "start_time": "2024-11-20T00:32:25.281Z"
   },
   {
    "duration": 43,
    "start_time": "2024-11-20T00:32:25.329Z"
   },
   {
    "duration": 9,
    "start_time": "2024-11-20T00:32:25.373Z"
   },
   {
    "duration": 38,
    "start_time": "2024-11-20T00:33:39.418Z"
   },
   {
    "duration": 1063,
    "start_time": "2024-11-20T00:33:48.283Z"
   },
   {
    "duration": 45,
    "start_time": "2024-11-20T00:33:49.348Z"
   },
   {
    "duration": 24,
    "start_time": "2024-11-20T00:33:49.395Z"
   },
   {
    "duration": 129,
    "start_time": "2024-11-20T00:33:49.421Z"
   },
   {
    "duration": 37,
    "start_time": "2024-11-20T00:33:49.553Z"
   },
   {
    "duration": 24,
    "start_time": "2024-11-20T00:33:49.592Z"
   },
   {
    "duration": 18,
    "start_time": "2024-11-20T00:33:49.618Z"
   },
   {
    "duration": 157,
    "start_time": "2024-11-20T00:33:49.638Z"
   },
   {
    "duration": 24,
    "start_time": "2024-11-20T00:33:49.797Z"
   },
   {
    "duration": 33,
    "start_time": "2024-11-20T00:33:49.823Z"
   },
   {
    "duration": 55,
    "start_time": "2024-11-20T00:33:49.858Z"
   },
   {
    "duration": 9,
    "start_time": "2024-11-20T00:33:49.915Z"
   },
   {
    "duration": 1069,
    "start_time": "2024-11-20T00:35:21.661Z"
   },
   {
    "duration": 43,
    "start_time": "2024-11-20T00:35:22.732Z"
   },
   {
    "duration": 16,
    "start_time": "2024-11-20T00:35:22.777Z"
   },
   {
    "duration": 127,
    "start_time": "2024-11-20T00:35:22.795Z"
   },
   {
    "duration": 36,
    "start_time": "2024-11-20T00:35:22.926Z"
   },
   {
    "duration": 13,
    "start_time": "2024-11-20T00:35:22.964Z"
   },
   {
    "duration": 39,
    "start_time": "2024-11-20T00:35:22.979Z"
   },
   {
    "duration": 147,
    "start_time": "2024-11-20T00:35:23.020Z"
   },
   {
    "duration": 15,
    "start_time": "2024-11-20T00:35:23.169Z"
   },
   {
    "duration": 51,
    "start_time": "2024-11-20T00:35:23.186Z"
   },
   {
    "duration": 39,
    "start_time": "2024-11-20T00:35:23.239Z"
   },
   {
    "duration": 8,
    "start_time": "2024-11-20T00:35:23.280Z"
   },
   {
    "duration": 39,
    "start_time": "2024-11-20T00:56:24.698Z"
   },
   {
    "duration": 1045,
    "start_time": "2024-11-20T00:56:29.384Z"
   },
   {
    "duration": 43,
    "start_time": "2024-11-20T00:56:30.432Z"
   },
   {
    "duration": 16,
    "start_time": "2024-11-20T00:56:30.476Z"
   },
   {
    "duration": 110,
    "start_time": "2024-11-20T00:56:30.509Z"
   },
   {
    "duration": 37,
    "start_time": "2024-11-20T00:56:30.622Z"
   },
   {
    "duration": 13,
    "start_time": "2024-11-20T00:56:30.662Z"
   },
   {
    "duration": 40,
    "start_time": "2024-11-20T00:56:30.677Z"
   },
   {
    "duration": 154,
    "start_time": "2024-11-20T00:56:30.719Z"
   },
   {
    "duration": 14,
    "start_time": "2024-11-20T00:56:30.875Z"
   },
   {
    "duration": 48,
    "start_time": "2024-11-20T00:56:30.891Z"
   },
   {
    "duration": 40,
    "start_time": "2024-11-20T00:56:30.941Z"
   },
   {
    "duration": 9,
    "start_time": "2024-11-20T00:56:30.983Z"
   },
   {
    "duration": 7,
    "start_time": "2024-11-20T01:01:40.525Z"
   },
   {
    "duration": 332,
    "start_time": "2024-11-20T01:02:35.098Z"
   },
   {
    "duration": 8,
    "start_time": "2024-11-20T01:03:31.497Z"
   },
   {
    "duration": 1131,
    "start_time": "2024-11-20T01:03:35.606Z"
   },
   {
    "duration": 44,
    "start_time": "2024-11-20T01:03:36.739Z"
   },
   {
    "duration": 24,
    "start_time": "2024-11-20T01:03:36.785Z"
   },
   {
    "duration": 110,
    "start_time": "2024-11-20T01:03:36.811Z"
   },
   {
    "duration": 40,
    "start_time": "2024-11-20T01:03:36.923Z"
   },
   {
    "duration": 17,
    "start_time": "2024-11-20T01:03:36.965Z"
   },
   {
    "duration": 39,
    "start_time": "2024-11-20T01:03:36.985Z"
   },
   {
    "duration": 156,
    "start_time": "2024-11-20T01:03:37.027Z"
   },
   {
    "duration": 28,
    "start_time": "2024-11-20T01:03:37.187Z"
   },
   {
    "duration": 35,
    "start_time": "2024-11-20T01:03:37.218Z"
   },
   {
    "duration": 55,
    "start_time": "2024-11-20T01:03:37.255Z"
   },
   {
    "duration": 10,
    "start_time": "2024-11-20T01:03:37.312Z"
   },
   {
    "duration": 8,
    "start_time": "2024-11-20T01:03:37.324Z"
   },
   {
    "duration": 9,
    "start_time": "2024-11-20T01:03:55.408Z"
   },
   {
    "duration": 963,
    "start_time": "2024-11-20T01:06:05.970Z"
   },
   {
    "duration": 729,
    "start_time": "2024-11-20T01:06:19.486Z"
   },
   {
    "duration": 1100,
    "start_time": "2024-11-20T01:06:34.727Z"
   },
   {
    "duration": 445,
    "start_time": "2024-11-20T01:09:30.229Z"
   },
   {
    "duration": 11,
    "start_time": "2024-11-20T01:11:14.382Z"
   },
   {
    "duration": 5,
    "start_time": "2024-11-20T01:11:28.287Z"
   },
   {
    "duration": 1122,
    "start_time": "2024-11-20T01:11:43.709Z"
   },
   {
    "duration": 43,
    "start_time": "2024-11-20T01:11:44.834Z"
   },
   {
    "duration": 16,
    "start_time": "2024-11-20T01:11:44.879Z"
   },
   {
    "duration": 122,
    "start_time": "2024-11-20T01:11:44.896Z"
   },
   {
    "duration": 38,
    "start_time": "2024-11-20T01:11:45.021Z"
   },
   {
    "duration": 13,
    "start_time": "2024-11-20T01:11:45.061Z"
   },
   {
    "duration": 39,
    "start_time": "2024-11-20T01:11:45.075Z"
   },
   {
    "duration": 147,
    "start_time": "2024-11-20T01:11:45.116Z"
   },
   {
    "duration": 16,
    "start_time": "2024-11-20T01:11:45.265Z"
   },
   {
    "duration": 47,
    "start_time": "2024-11-20T01:11:45.282Z"
   },
   {
    "duration": 40,
    "start_time": "2024-11-20T01:11:45.330Z"
   },
   {
    "duration": 9,
    "start_time": "2024-11-20T01:11:45.371Z"
   },
   {
    "duration": 30,
    "start_time": "2024-11-20T01:11:45.381Z"
   },
   {
    "duration": 4,
    "start_time": "2024-11-20T01:11:45.414Z"
   },
   {
    "duration": 318,
    "start_time": "2024-11-20T01:11:45.419Z"
   },
   {
    "duration": 11,
    "start_time": "2024-11-20T01:12:48.989Z"
   },
   {
    "duration": 6,
    "start_time": "2024-11-20T01:12:50.151Z"
   },
   {
    "duration": 1114,
    "start_time": "2024-11-20T01:12:55.963Z"
   },
   {
    "duration": 63,
    "start_time": "2024-11-20T01:12:57.079Z"
   },
   {
    "duration": 23,
    "start_time": "2024-11-20T01:12:57.144Z"
   },
   {
    "duration": 150,
    "start_time": "2024-11-20T01:12:57.168Z"
   },
   {
    "duration": 45,
    "start_time": "2024-11-20T01:12:57.323Z"
   },
   {
    "duration": 14,
    "start_time": "2024-11-20T01:12:57.375Z"
   },
   {
    "duration": 35,
    "start_time": "2024-11-20T01:12:57.392Z"
   },
   {
    "duration": 205,
    "start_time": "2024-11-20T01:12:57.429Z"
   },
   {
    "duration": 18,
    "start_time": "2024-11-20T01:12:57.637Z"
   },
   {
    "duration": 61,
    "start_time": "2024-11-20T01:12:57.657Z"
   },
   {
    "duration": 64,
    "start_time": "2024-11-20T01:12:57.721Z"
   },
   {
    "duration": 29,
    "start_time": "2024-11-20T01:12:57.786Z"
   },
   {
    "duration": 10,
    "start_time": "2024-11-20T01:12:57.819Z"
   },
   {
    "duration": 5,
    "start_time": "2024-11-20T01:12:57.832Z"
   },
   {
    "duration": 372,
    "start_time": "2024-11-20T01:12:57.839Z"
   },
   {
    "duration": 1085,
    "start_time": "2024-11-20T01:13:36.984Z"
   },
   {
    "duration": 43,
    "start_time": "2024-11-20T01:13:38.072Z"
   },
   {
    "duration": 16,
    "start_time": "2024-11-20T01:13:38.117Z"
   },
   {
    "duration": 124,
    "start_time": "2024-11-20T01:13:38.134Z"
   },
   {
    "duration": 35,
    "start_time": "2024-11-20T01:13:38.262Z"
   },
   {
    "duration": 13,
    "start_time": "2024-11-20T01:13:38.308Z"
   },
   {
    "duration": 18,
    "start_time": "2024-11-20T01:13:38.323Z"
   },
   {
    "duration": 163,
    "start_time": "2024-11-20T01:13:38.342Z"
   },
   {
    "duration": 15,
    "start_time": "2024-11-20T01:13:38.508Z"
   },
   {
    "duration": 34,
    "start_time": "2024-11-20T01:13:38.524Z"
   },
   {
    "duration": 60,
    "start_time": "2024-11-20T01:13:38.560Z"
   },
   {
    "duration": 8,
    "start_time": "2024-11-20T01:13:38.622Z"
   },
   {
    "duration": 9,
    "start_time": "2024-11-20T01:13:38.631Z"
   },
   {
    "duration": 5,
    "start_time": "2024-11-20T01:13:38.642Z"
   },
   {
    "duration": 322,
    "start_time": "2024-11-20T01:13:38.648Z"
   },
   {
    "duration": 6,
    "start_time": "2024-11-20T01:14:34.576Z"
   },
   {
    "duration": 1080,
    "start_time": "2024-11-20T01:14:45.303Z"
   },
   {
    "duration": 43,
    "start_time": "2024-11-20T01:14:46.385Z"
   },
   {
    "duration": 16,
    "start_time": "2024-11-20T01:14:46.429Z"
   },
   {
    "duration": 119,
    "start_time": "2024-11-20T01:14:46.447Z"
   },
   {
    "duration": 47,
    "start_time": "2024-11-20T01:14:46.569Z"
   },
   {
    "duration": 14,
    "start_time": "2024-11-20T01:14:46.617Z"
   },
   {
    "duration": 19,
    "start_time": "2024-11-20T01:14:46.632Z"
   },
   {
    "duration": 168,
    "start_time": "2024-11-20T01:14:46.653Z"
   },
   {
    "duration": 15,
    "start_time": "2024-11-20T01:14:46.823Z"
   },
   {
    "duration": 36,
    "start_time": "2024-11-20T01:14:46.840Z"
   },
   {
    "duration": 64,
    "start_time": "2024-11-20T01:14:46.877Z"
   },
   {
    "duration": 9,
    "start_time": "2024-11-20T01:14:46.942Z"
   },
   {
    "duration": 5,
    "start_time": "2024-11-20T01:14:46.952Z"
   },
   {
    "duration": 279,
    "start_time": "2024-11-20T01:14:46.960Z"
   },
   {
    "duration": 0,
    "start_time": "2024-11-20T01:14:47.241Z"
   },
   {
    "duration": 11,
    "start_time": "2024-11-20T01:16:10.493Z"
   },
   {
    "duration": 61,
    "start_time": "2024-11-20T01:16:12.366Z"
   },
   {
    "duration": 6,
    "start_time": "2024-11-20T01:16:34.523Z"
   },
   {
    "duration": 164,
    "start_time": "2024-11-20T01:18:55.146Z"
   },
   {
    "duration": 1139,
    "start_time": "2024-11-20T01:19:17.300Z"
   },
   {
    "duration": 44,
    "start_time": "2024-11-20T01:19:18.442Z"
   },
   {
    "duration": 23,
    "start_time": "2024-11-20T01:19:18.488Z"
   },
   {
    "duration": 117,
    "start_time": "2024-11-20T01:19:18.513Z"
   },
   {
    "duration": 40,
    "start_time": "2024-11-20T01:19:18.633Z"
   },
   {
    "duration": 13,
    "start_time": "2024-11-20T01:19:18.675Z"
   },
   {
    "duration": 36,
    "start_time": "2024-11-20T01:19:18.689Z"
   },
   {
    "duration": 152,
    "start_time": "2024-11-20T01:19:18.727Z"
   },
   {
    "duration": 15,
    "start_time": "2024-11-20T01:19:18.881Z"
   },
   {
    "duration": 43,
    "start_time": "2024-11-20T01:19:18.898Z"
   },
   {
    "duration": 38,
    "start_time": "2024-11-20T01:19:18.943Z"
   },
   {
    "duration": 26,
    "start_time": "2024-11-20T01:19:18.983Z"
   },
   {
    "duration": 9,
    "start_time": "2024-11-20T01:19:19.011Z"
   },
   {
    "duration": 4,
    "start_time": "2024-11-20T01:19:19.023Z"
   },
   {
    "duration": 193,
    "start_time": "2024-11-20T01:19:19.029Z"
   },
   {
    "duration": 482,
    "start_time": "2024-11-20T01:21:48.197Z"
   },
   {
    "duration": 200,
    "start_time": "2024-11-20T01:21:55.218Z"
   },
   {
    "duration": 39,
    "start_time": "2024-11-20T01:25:41.542Z"
   },
   {
    "duration": 23,
    "start_time": "2024-11-20T01:27:00.458Z"
   },
   {
    "duration": 150,
    "start_time": "2024-11-20T01:27:14.647Z"
   },
   {
    "duration": 235,
    "start_time": "2024-11-20T01:32:41.438Z"
   },
   {
    "duration": 444,
    "start_time": "2024-11-20T01:33:04.604Z"
   },
   {
    "duration": 120,
    "start_time": "2024-11-20T01:33:07.764Z"
   },
   {
    "duration": 138,
    "start_time": "2024-11-20T01:33:12.578Z"
   },
   {
    "duration": 161,
    "start_time": "2024-11-20T01:33:14.797Z"
   },
   {
    "duration": 34,
    "start_time": "2024-11-20T01:34:10.838Z"
   },
   {
    "duration": 17365,
    "start_time": "2024-11-20T01:38:00.449Z"
   },
   {
    "duration": 17230,
    "start_time": "2024-11-20T01:41:36.760Z"
   },
   {
    "duration": 6768,
    "start_time": "2024-11-20T01:42:25.898Z"
   },
   {
    "duration": 5,
    "start_time": "2024-11-20T01:43:17.493Z"
   },
   {
    "duration": 39,
    "start_time": "2024-11-20T01:44:26.423Z"
   },
   {
    "duration": 39,
    "start_time": "2024-11-20T01:44:45.123Z"
   },
   {
    "duration": 326,
    "start_time": "2024-11-20T01:49:50.879Z"
   },
   {
    "duration": 1062,
    "start_time": "2024-11-20T01:49:59.382Z"
   },
   {
    "duration": 44,
    "start_time": "2024-11-20T01:50:00.446Z"
   },
   {
    "duration": 17,
    "start_time": "2024-11-20T01:50:00.492Z"
   },
   {
    "duration": 116,
    "start_time": "2024-11-20T01:50:00.510Z"
   },
   {
    "duration": 39,
    "start_time": "2024-11-20T01:50:00.630Z"
   },
   {
    "duration": 16,
    "start_time": "2024-11-20T01:50:00.670Z"
   },
   {
    "duration": 39,
    "start_time": "2024-11-20T01:50:00.688Z"
   },
   {
    "duration": 154,
    "start_time": "2024-11-20T01:50:00.729Z"
   },
   {
    "duration": 15,
    "start_time": "2024-11-20T01:50:00.885Z"
   },
   {
    "duration": 35,
    "start_time": "2024-11-20T01:50:00.909Z"
   },
   {
    "duration": 40,
    "start_time": "2024-11-20T01:50:00.945Z"
   },
   {
    "duration": 24,
    "start_time": "2024-11-20T01:50:00.987Z"
   },
   {
    "duration": 10,
    "start_time": "2024-11-20T01:50:01.013Z"
   },
   {
    "duration": 4,
    "start_time": "2024-11-20T01:50:01.026Z"
   },
   {
    "duration": 158,
    "start_time": "2024-11-20T01:50:01.032Z"
   },
   {
    "duration": 656,
    "start_time": "2024-11-20T01:50:01.192Z"
   },
   {
    "duration": 0,
    "start_time": "2024-11-20T01:50:01.850Z"
   },
   {
    "duration": 134,
    "start_time": "2024-11-20T01:50:48.791Z"
   },
   {
    "duration": 6867,
    "start_time": "2024-11-20T01:52:17.296Z"
   },
   {
    "duration": 6858,
    "start_time": "2024-11-20T01:52:35.376Z"
   },
   {
    "duration": 6739,
    "start_time": "2024-11-20T01:53:03.717Z"
   },
   {
    "duration": 10182,
    "start_time": "2024-11-20T01:57:22.757Z"
   },
   {
    "duration": 10309,
    "start_time": "2024-11-20T01:57:48.815Z"
   },
   {
    "duration": 2,
    "start_time": "2024-11-20T01:58:50.543Z"
   },
   {
    "duration": 1093,
    "start_time": "2024-11-20T01:59:03.632Z"
   },
   {
    "duration": 43,
    "start_time": "2024-11-20T01:59:04.727Z"
   },
   {
    "duration": 16,
    "start_time": "2024-11-20T01:59:04.772Z"
   },
   {
    "duration": 118,
    "start_time": "2024-11-20T01:59:04.790Z"
   },
   {
    "duration": 36,
    "start_time": "2024-11-20T01:59:04.911Z"
   },
   {
    "duration": 12,
    "start_time": "2024-11-20T01:59:04.949Z"
   },
   {
    "duration": 19,
    "start_time": "2024-11-20T01:59:04.963Z"
   },
   {
    "duration": 170,
    "start_time": "2024-11-20T01:59:04.984Z"
   },
   {
    "duration": 20,
    "start_time": "2024-11-20T01:59:05.155Z"
   },
   {
    "duration": 53,
    "start_time": "2024-11-20T01:59:05.178Z"
   },
   {
    "duration": 39,
    "start_time": "2024-11-20T01:59:05.233Z"
   },
   {
    "duration": 9,
    "start_time": "2024-11-20T01:59:05.273Z"
   },
   {
    "duration": 30,
    "start_time": "2024-11-20T01:59:05.283Z"
   },
   {
    "duration": 4,
    "start_time": "2024-11-20T01:59:05.315Z"
   },
   {
    "duration": 150,
    "start_time": "2024-11-20T01:59:05.321Z"
   },
   {
    "duration": 246,
    "start_time": "2024-11-20T01:59:05.473Z"
   },
   {
    "duration": 6884,
    "start_time": "2024-11-20T01:59:05.723Z"
   },
   {
    "duration": 10503,
    "start_time": "2024-11-20T01:59:12.609Z"
   },
   {
    "duration": 4724,
    "start_time": "2024-11-20T02:01:24.254Z"
   },
   {
    "duration": 183,
    "start_time": "2024-11-20T02:05:08.310Z"
   },
   {
    "duration": 207,
    "start_time": "2024-11-20T02:07:34.036Z"
   }
  ],
  "kernelspec": {
   "display_name": "Python 3 (ipykernel)",
   "language": "python",
   "name": "python3"
  },
  "language_info": {
   "codemirror_mode": {
    "name": "ipython",
    "version": 3
   },
   "file_extension": ".py",
   "mimetype": "text/x-python",
   "name": "python",
   "nbconvert_exporter": "python",
   "pygments_lexer": "ipython3",
   "version": "3.12.4"
  },
  "toc": {
   "base_numbering": 1,
   "nav_menu": {},
   "number_sections": true,
   "sideBar": true,
   "skip_h1_title": true,
   "title_cell": "Table of Contents",
   "title_sidebar": "Contents",
   "toc_cell": false,
   "toc_position": {},
   "toc_section_display": true,
   "toc_window_display": false
  }
 },
 "nbformat": 4,
 "nbformat_minor": 4
}

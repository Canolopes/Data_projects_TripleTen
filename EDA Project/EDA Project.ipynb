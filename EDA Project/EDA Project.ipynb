{
 "cells": [
  {
   "cell_type": "markdown",
   "id": "adc05737",
   "metadata": {},
   "source": [
    "<div style=\"border:solid green 2px; padding: 20px\">\n",
    "    \n",
    "<div class=\"alert alert-success\">\n",
    "<b>Review summary, v. 3</b> \n",
    "    \n",
    "Hello Enrique. Thanks for prompt update. Now everything looks good. Your project is complete, congratulations.\n",
    "    \n",
    "Thanks again for your work on it. And good luck to you with your next projects and further studies."
   ]
  },
  {
   "cell_type": "markdown",
   "id": "25927f53",
   "metadata": {},
   "source": [
    "<div style=\"border:solid green 2px; padding: 20px\">\n",
    "    \n",
    "<div class=\"alert alert-success\">\n",
    "<b>Review summary, v.2</b> \n",
    "    \n",
    "Enrique, thanks for submitting the project. You've done a very good job and I enjoyed reviewing it.\n",
    "    \n",
    "- You followed the project structure.\n",
    "- You stidued the data thoroughly.\n",
    "- You treated the missing values very well.\n",
    "- The charts you plotted clearly answered the questions.\n",
    "       \n",
    "    \n",
    "    \n",
    "<div class=\"alert alert-danger\">\n",
    "    \n",
    "\n",
    "    \n",
    "There are only a few critical comments that need to be corrected. You will find them in the red-coloured cells in relevant sections. Could you please try to correct them and send the project back to me?\n",
    "\n",
    "</div>\n",
    "    \n",
    "You may also work on the yellow comments. If you have any questions please write them when you return your project. \n",
    "    \n",
    "I'll be looking forward to getting your updated notebook."
   ]
  },
  {
   "cell_type": "markdown",
   "id": "7d690f1a",
   "metadata": {},
   "source": [
    "<div style=\"border:solid blue 2px; padding: 20px\">\n",
    "  \n",
    "**Hello Enrique.**\n",
    "\n",
    "I'm happy to review your project today. \n",
    "\n",
    "You will find my comments in coloured cells marked as 'Reviewer's comment'. The cell colour will vary based on the contents - I am explaining it further below. \n",
    "\n",
    "**Note:** Please do not remove or change my comments - they will help me in my future reviews and will make the process smoother for both of us. \n",
    "\n",
    "<div class=\"alert alert-success\"; style=\"border-left: 7px solid green\">\n",
    "<b>✅ Reviewer's comment</b> \n",
    "    \n",
    "Such comment will mark efficient solutions and good ideas that can be used in other projects.\n",
    "</div>\n",
    "\n",
    "<div class=\"alert alert-warning\"; style=\"border-left: 7px solid gold\">\n",
    "<b>⚠️ Reviewer's comment</b> \n",
    "    \n",
    "The parts marked with yellow comments indicate that there is room for optimisation. Though the correction is not necessary it is good if you implement it.\n",
    "</div>\n",
    "\n",
    "<div class=\"alert alert-danger\"; style=\"border-left: 7px solid red\">\n",
    "<b>⛔️ Reviewer's comment</b> \n",
    "    \n",
    "If you see such a comment, it means that there is a problem that needs to be fixed. Please note that I won't be able to accept your project until the issue is resolved.\n",
    "</div>\n",
    "\n",
    "You are also very welcome to leave your comments / describe the corrections you've done / ask me questions, marking them with a different colour. You can use the example below: \n",
    "\n",
    "<div class=\"alert alert-info\"; style=\"border-left: 7px solid blue\">\n",
    "<b>Student's comment</b>"
   ]
  },
  {
   "cell_type": "markdown",
   "id": "17a5944e",
   "metadata": {},
   "source": [
    "<div style=\"border:solid green 2px; padding: 20px\">\n",
    "    \n",
    "<div class=\"alert alert-success\">\n",
    "<b>Review summary</b> \n",
    "    \n",
    "Enrique, thanks for submitting the project. You've done a very good job and I enjoyed reviewing it.\n",
    "    \n",
    "- You followed the project structure.\n",
    "- You stidued the data thoroughly.\n",
    "- You treated the missing values very well.\n",
    "- The charts you plotted clearly answered the questions.\n",
    "       \n",
    "    \n",
    "    \n",
    "<div class=\"alert alert-danger\">\n",
    "    \n",
    "\n",
    "    \n",
    "There are only a few critical comments that need to be corrected. You will find them in the red-coloured cells in relevant sections. Could you please try to correct them and send the project back to me?\n",
    "\n",
    "</div>\n",
    "    \n",
    "You may also work on the yellow comments. If you have any questions please write them when you return your project. \n",
    "    \n",
    "I'll be looking forward to getting your updated notebook."
   ]
  },
  {
   "cell_type": "markdown",
   "id": "804c3a89",
   "metadata": {},
   "source": [
    "<div class=\"alert alert-success\"; style=\"border-left: 7px solid green\">\n",
    "<b>✅ Reviewer's comment, v. 2</b> \n",
    "    \n",
    "✔️ \n",
    "    \n",
    "\n",
    "\n",
    "<div class=\"alert alert-danger\"; style=\"border-left: 7px solid red\">\n",
    "<b>⛔️ Reviewer's comment, v. 1</b> \n",
    "\n",
    "\n",
    "    \n",
    "Title and introduction are required for every project. Could you please add them? And make sure you do not forget to include it in your further projects. \n",
    "    \n",
    "It is optimal if introduction consists of:\n",
    "    \n",
    "- brief description of the situation;\n",
    "- goal of the project;\n",
    "- description of the data we are going to use.\n",
    "</div>\n"
   ]
  },
  {
   "cell_type": "markdown",
   "id": "ac279ca9",
   "metadata": {},
   "source": [
    "# EXPLORATORY ANALYSIS OF INSTACART DATASETS (v3)"
   ]
  },
  {
   "cell_type": "markdown",
   "id": "ad4ba387",
   "metadata": {},
   "source": [
    "(v2) In this analysis, we are going to be working with datasets from the Instacart app. The \"orders\" dataset will be dealing with information pertaining to order date of week and hour of day, as well as the amount of times a customer has ordered from the app before. The \"products\" dataset gives us information on the products customers are buying. The \"aisles\" dataset gives us general information of what kind of aisles that the products belong to on Instacart. The \"departments\" dataset gives us information on grocery department category. The \"order_products\" dataset shows us if customers have reordered and also information on what sequential order that items were placed into the cart. We are going to process this information to answer various questions and illustrate our answers, for example: \n",
    "\"Which products are ordered most frequently?\"\n",
    "\"How many people place orders each hour of the day?\"\n",
    "\"Which items are most frequently ordered FIRST?\""
   ]
  },
  {
   "cell_type": "code",
   "execution_count": 1,
   "id": "fbf1adab",
   "metadata": {},
   "outputs": [],
   "source": [
    "import pandas as pd"
   ]
  },
  {
   "cell_type": "code",
   "execution_count": null,
   "id": "ad36396d",
   "metadata": {},
   "outputs": [],
   "source": []
  },
  {
   "cell_type": "code",
   "execution_count": 2,
   "id": "ad6a1efa",
   "metadata": {},
   "outputs": [
    {
     "name": "stdout",
     "output_type": "stream",
     "text": [
      "<class 'pandas.core.frame.DataFrame'>\n",
      "RangeIndex: 478967 entries, 0 to 478966\n",
      "Data columns (total 6 columns):\n",
      " #   Column                  Non-Null Count   Dtype  \n",
      "---  ------                  --------------   -----  \n",
      " 0   order_id                478967 non-null  int64  \n",
      " 1   user_id                 478967 non-null  int64  \n",
      " 2   order_number            478967 non-null  int64  \n",
      " 3   order_dow               478967 non-null  int64  \n",
      " 4   order_hour_of_day       478967 non-null  int64  \n",
      " 5   days_since_prior_order  450148 non-null  float64\n",
      "dtypes: float64(1), int64(5)\n",
      "memory usage: 21.9 MB\n"
     ]
    }
   ],
   "source": [
    "orders = pd.read_csv('/datasets/instacart_orders.csv', sep= ';')\n",
    "orders.info() #v2"
   ]
  },
  {
   "cell_type": "code",
   "execution_count": 3,
   "id": "95dc5e6d",
   "metadata": {},
   "outputs": [
    {
     "data": {
      "text/html": [
       "<div>\n",
       "<style scoped>\n",
       "    .dataframe tbody tr th:only-of-type {\n",
       "        vertical-align: middle;\n",
       "    }\n",
       "\n",
       "    .dataframe tbody tr th {\n",
       "        vertical-align: top;\n",
       "    }\n",
       "\n",
       "    .dataframe thead th {\n",
       "        text-align: right;\n",
       "    }\n",
       "</style>\n",
       "<table border=\"1\" class=\"dataframe\">\n",
       "  <thead>\n",
       "    <tr style=\"text-align: right;\">\n",
       "      <th></th>\n",
       "      <th>order_id</th>\n",
       "      <th>user_id</th>\n",
       "      <th>order_number</th>\n",
       "      <th>order_dow</th>\n",
       "      <th>order_hour_of_day</th>\n",
       "      <th>days_since_prior_order</th>\n",
       "    </tr>\n",
       "  </thead>\n",
       "  <tbody>\n",
       "    <tr>\n",
       "      <th>0</th>\n",
       "      <td>1515936</td>\n",
       "      <td>183418</td>\n",
       "      <td>11</td>\n",
       "      <td>6</td>\n",
       "      <td>13</td>\n",
       "      <td>30.0</td>\n",
       "    </tr>\n",
       "    <tr>\n",
       "      <th>1</th>\n",
       "      <td>1690866</td>\n",
       "      <td>163593</td>\n",
       "      <td>5</td>\n",
       "      <td>5</td>\n",
       "      <td>12</td>\n",
       "      <td>9.0</td>\n",
       "    </tr>\n",
       "    <tr>\n",
       "      <th>2</th>\n",
       "      <td>1454967</td>\n",
       "      <td>39980</td>\n",
       "      <td>4</td>\n",
       "      <td>5</td>\n",
       "      <td>19</td>\n",
       "      <td>2.0</td>\n",
       "    </tr>\n",
       "    <tr>\n",
       "      <th>3</th>\n",
       "      <td>1768857</td>\n",
       "      <td>82516</td>\n",
       "      <td>56</td>\n",
       "      <td>0</td>\n",
       "      <td>20</td>\n",
       "      <td>10.0</td>\n",
       "    </tr>\n",
       "    <tr>\n",
       "      <th>4</th>\n",
       "      <td>3007858</td>\n",
       "      <td>196724</td>\n",
       "      <td>2</td>\n",
       "      <td>4</td>\n",
       "      <td>12</td>\n",
       "      <td>17.0</td>\n",
       "    </tr>\n",
       "  </tbody>\n",
       "</table>\n",
       "</div>"
      ],
      "text/plain": [
       "   order_id  user_id  order_number  order_dow  order_hour_of_day  \\\n",
       "0   1515936   183418            11          6                 13   \n",
       "1   1690866   163593             5          5                 12   \n",
       "2   1454967    39980             4          5                 19   \n",
       "3   1768857    82516            56          0                 20   \n",
       "4   3007858   196724             2          4                 12   \n",
       "\n",
       "   days_since_prior_order  \n",
       "0                    30.0  \n",
       "1                     9.0  \n",
       "2                     2.0  \n",
       "3                    10.0  \n",
       "4                    17.0  "
      ]
     },
     "execution_count": 3,
     "metadata": {},
     "output_type": "execute_result"
    }
   ],
   "source": [
    "orders.head()"
   ]
  },
  {
   "cell_type": "code",
   "execution_count": 4,
   "id": "5130e05e",
   "metadata": {
    "scrolled": true
   },
   "outputs": [
    {
     "name": "stdout",
     "output_type": "stream",
     "text": [
      "<class 'pandas.core.frame.DataFrame'>\n",
      "RangeIndex: 49694 entries, 0 to 49693\n",
      "Data columns (total 4 columns):\n",
      " #   Column         Non-Null Count  Dtype \n",
      "---  ------         --------------  ----- \n",
      " 0   product_id     49694 non-null  int64 \n",
      " 1   product_name   48436 non-null  object\n",
      " 2   aisle_id       49694 non-null  int64 \n",
      " 3   department_id  49694 non-null  int64 \n",
      "dtypes: int64(3), object(1)\n",
      "memory usage: 1.5+ MB\n"
     ]
    }
   ],
   "source": [
    "products = pd.read_csv('/datasets/products.csv', sep=';')\n",
    "products.info() #v2"
   ]
  },
  {
   "cell_type": "code",
   "execution_count": 5,
   "id": "0a5fadcd",
   "metadata": {},
   "outputs": [
    {
     "data": {
      "text/html": [
       "<div>\n",
       "<style scoped>\n",
       "    .dataframe tbody tr th:only-of-type {\n",
       "        vertical-align: middle;\n",
       "    }\n",
       "\n",
       "    .dataframe tbody tr th {\n",
       "        vertical-align: top;\n",
       "    }\n",
       "\n",
       "    .dataframe thead th {\n",
       "        text-align: right;\n",
       "    }\n",
       "</style>\n",
       "<table border=\"1\" class=\"dataframe\">\n",
       "  <thead>\n",
       "    <tr style=\"text-align: right;\">\n",
       "      <th></th>\n",
       "      <th>product_id</th>\n",
       "      <th>product_name</th>\n",
       "      <th>aisle_id</th>\n",
       "      <th>department_id</th>\n",
       "    </tr>\n",
       "  </thead>\n",
       "  <tbody>\n",
       "    <tr>\n",
       "      <th>0</th>\n",
       "      <td>1</td>\n",
       "      <td>Chocolate Sandwich Cookies</td>\n",
       "      <td>61</td>\n",
       "      <td>19</td>\n",
       "    </tr>\n",
       "    <tr>\n",
       "      <th>1</th>\n",
       "      <td>2</td>\n",
       "      <td>All-Seasons Salt</td>\n",
       "      <td>104</td>\n",
       "      <td>13</td>\n",
       "    </tr>\n",
       "    <tr>\n",
       "      <th>2</th>\n",
       "      <td>3</td>\n",
       "      <td>Robust Golden Unsweetened Oolong Tea</td>\n",
       "      <td>94</td>\n",
       "      <td>7</td>\n",
       "    </tr>\n",
       "    <tr>\n",
       "      <th>3</th>\n",
       "      <td>4</td>\n",
       "      <td>Smart Ones Classic Favorites Mini Rigatoni Wit...</td>\n",
       "      <td>38</td>\n",
       "      <td>1</td>\n",
       "    </tr>\n",
       "    <tr>\n",
       "      <th>4</th>\n",
       "      <td>5</td>\n",
       "      <td>Green Chile Anytime Sauce</td>\n",
       "      <td>5</td>\n",
       "      <td>13</td>\n",
       "    </tr>\n",
       "  </tbody>\n",
       "</table>\n",
       "</div>"
      ],
      "text/plain": [
       "   product_id                                       product_name  aisle_id  \\\n",
       "0           1                         Chocolate Sandwich Cookies        61   \n",
       "1           2                                   All-Seasons Salt       104   \n",
       "2           3               Robust Golden Unsweetened Oolong Tea        94   \n",
       "3           4  Smart Ones Classic Favorites Mini Rigatoni Wit...        38   \n",
       "4           5                          Green Chile Anytime Sauce         5   \n",
       "\n",
       "   department_id  \n",
       "0             19  \n",
       "1             13  \n",
       "2              7  \n",
       "3              1  \n",
       "4             13  "
      ]
     },
     "execution_count": 5,
     "metadata": {},
     "output_type": "execute_result"
    }
   ],
   "source": [
    "products.head()"
   ]
  },
  {
   "cell_type": "code",
   "execution_count": 6,
   "id": "d8370c05",
   "metadata": {
    "scrolled": true
   },
   "outputs": [
    {
     "name": "stdout",
     "output_type": "stream",
     "text": [
      "<class 'pandas.core.frame.DataFrame'>\n",
      "RangeIndex: 134 entries, 0 to 133\n",
      "Data columns (total 2 columns):\n",
      " #   Column    Non-Null Count  Dtype \n",
      "---  ------    --------------  ----- \n",
      " 0   aisle_id  134 non-null    int64 \n",
      " 1   aisle     134 non-null    object\n",
      "dtypes: int64(1), object(1)\n",
      "memory usage: 2.2+ KB\n"
     ]
    }
   ],
   "source": [
    "aisles = pd.read_csv('/datasets/aisles.csv', sep=';')\n",
    "aisles.info() #v2"
   ]
  },
  {
   "cell_type": "code",
   "execution_count": 7,
   "id": "7f57c094",
   "metadata": {},
   "outputs": [
    {
     "data": {
      "text/html": [
       "<div>\n",
       "<style scoped>\n",
       "    .dataframe tbody tr th:only-of-type {\n",
       "        vertical-align: middle;\n",
       "    }\n",
       "\n",
       "    .dataframe tbody tr th {\n",
       "        vertical-align: top;\n",
       "    }\n",
       "\n",
       "    .dataframe thead th {\n",
       "        text-align: right;\n",
       "    }\n",
       "</style>\n",
       "<table border=\"1\" class=\"dataframe\">\n",
       "  <thead>\n",
       "    <tr style=\"text-align: right;\">\n",
       "      <th></th>\n",
       "      <th>aisle_id</th>\n",
       "      <th>aisle</th>\n",
       "    </tr>\n",
       "  </thead>\n",
       "  <tbody>\n",
       "    <tr>\n",
       "      <th>0</th>\n",
       "      <td>1</td>\n",
       "      <td>prepared soups salads</td>\n",
       "    </tr>\n",
       "    <tr>\n",
       "      <th>1</th>\n",
       "      <td>2</td>\n",
       "      <td>specialty cheeses</td>\n",
       "    </tr>\n",
       "    <tr>\n",
       "      <th>2</th>\n",
       "      <td>3</td>\n",
       "      <td>energy granola bars</td>\n",
       "    </tr>\n",
       "    <tr>\n",
       "      <th>3</th>\n",
       "      <td>4</td>\n",
       "      <td>instant foods</td>\n",
       "    </tr>\n",
       "    <tr>\n",
       "      <th>4</th>\n",
       "      <td>5</td>\n",
       "      <td>marinades meat preparation</td>\n",
       "    </tr>\n",
       "  </tbody>\n",
       "</table>\n",
       "</div>"
      ],
      "text/plain": [
       "   aisle_id                       aisle\n",
       "0         1       prepared soups salads\n",
       "1         2           specialty cheeses\n",
       "2         3         energy granola bars\n",
       "3         4               instant foods\n",
       "4         5  marinades meat preparation"
      ]
     },
     "execution_count": 7,
     "metadata": {},
     "output_type": "execute_result"
    }
   ],
   "source": [
    "aisles.head()"
   ]
  },
  {
   "cell_type": "code",
   "execution_count": 8,
   "id": "59e2090f",
   "metadata": {
    "scrolled": true
   },
   "outputs": [
    {
     "name": "stdout",
     "output_type": "stream",
     "text": [
      "<class 'pandas.core.frame.DataFrame'>\n",
      "RangeIndex: 21 entries, 0 to 20\n",
      "Data columns (total 2 columns):\n",
      " #   Column         Non-Null Count  Dtype \n",
      "---  ------         --------------  ----- \n",
      " 0   department_id  21 non-null     int64 \n",
      " 1   department     21 non-null     object\n",
      "dtypes: int64(1), object(1)\n",
      "memory usage: 464.0+ bytes\n"
     ]
    }
   ],
   "source": [
    "departments = pd.read_csv('/datasets/departments.csv', sep =';')\n",
    "departments.info () #v2"
   ]
  },
  {
   "cell_type": "code",
   "execution_count": 9,
   "id": "b23d9053",
   "metadata": {},
   "outputs": [
    {
     "data": {
      "text/html": [
       "<div>\n",
       "<style scoped>\n",
       "    .dataframe tbody tr th:only-of-type {\n",
       "        vertical-align: middle;\n",
       "    }\n",
       "\n",
       "    .dataframe tbody tr th {\n",
       "        vertical-align: top;\n",
       "    }\n",
       "\n",
       "    .dataframe thead th {\n",
       "        text-align: right;\n",
       "    }\n",
       "</style>\n",
       "<table border=\"1\" class=\"dataframe\">\n",
       "  <thead>\n",
       "    <tr style=\"text-align: right;\">\n",
       "      <th></th>\n",
       "      <th>department_id</th>\n",
       "      <th>department</th>\n",
       "    </tr>\n",
       "  </thead>\n",
       "  <tbody>\n",
       "    <tr>\n",
       "      <th>0</th>\n",
       "      <td>1</td>\n",
       "      <td>frozen</td>\n",
       "    </tr>\n",
       "    <tr>\n",
       "      <th>1</th>\n",
       "      <td>2</td>\n",
       "      <td>other</td>\n",
       "    </tr>\n",
       "    <tr>\n",
       "      <th>2</th>\n",
       "      <td>3</td>\n",
       "      <td>bakery</td>\n",
       "    </tr>\n",
       "    <tr>\n",
       "      <th>3</th>\n",
       "      <td>4</td>\n",
       "      <td>produce</td>\n",
       "    </tr>\n",
       "    <tr>\n",
       "      <th>4</th>\n",
       "      <td>5</td>\n",
       "      <td>alcohol</td>\n",
       "    </tr>\n",
       "  </tbody>\n",
       "</table>\n",
       "</div>"
      ],
      "text/plain": [
       "   department_id department\n",
       "0              1     frozen\n",
       "1              2      other\n",
       "2              3     bakery\n",
       "3              4    produce\n",
       "4              5    alcohol"
      ]
     },
     "execution_count": 9,
     "metadata": {},
     "output_type": "execute_result"
    }
   ],
   "source": [
    "departments.head()"
   ]
  },
  {
   "cell_type": "code",
   "execution_count": 10,
   "id": "6fc81694",
   "metadata": {
    "scrolled": true
   },
   "outputs": [
    {
     "name": "stdout",
     "output_type": "stream",
     "text": [
      "<class 'pandas.core.frame.DataFrame'>\n",
      "RangeIndex: 4545007 entries, 0 to 4545006\n",
      "Data columns (total 4 columns):\n",
      " #   Column             Non-Null Count    Dtype  \n",
      "---  ------             --------------    -----  \n",
      " 0   order_id           4545007 non-null  int64  \n",
      " 1   product_id         4545007 non-null  int64  \n",
      " 2   add_to_cart_order  4544171 non-null  float64\n",
      " 3   reordered          4545007 non-null  int64  \n",
      "dtypes: float64(1), int64(3)\n",
      "memory usage: 138.7 MB\n"
     ]
    }
   ],
   "source": [
    "order_products = pd.read_csv('/datasets/order_products.csv', sep=';')\n",
    "order_products.info(show_counts = True) #v2"
   ]
  },
  {
   "cell_type": "code",
   "execution_count": 11,
   "id": "e68b05e0",
   "metadata": {},
   "outputs": [
    {
     "data": {
      "text/html": [
       "<div>\n",
       "<style scoped>\n",
       "    .dataframe tbody tr th:only-of-type {\n",
       "        vertical-align: middle;\n",
       "    }\n",
       "\n",
       "    .dataframe tbody tr th {\n",
       "        vertical-align: top;\n",
       "    }\n",
       "\n",
       "    .dataframe thead th {\n",
       "        text-align: right;\n",
       "    }\n",
       "</style>\n",
       "<table border=\"1\" class=\"dataframe\">\n",
       "  <thead>\n",
       "    <tr style=\"text-align: right;\">\n",
       "      <th></th>\n",
       "      <th>order_id</th>\n",
       "      <th>product_id</th>\n",
       "      <th>add_to_cart_order</th>\n",
       "      <th>reordered</th>\n",
       "    </tr>\n",
       "  </thead>\n",
       "  <tbody>\n",
       "    <tr>\n",
       "      <th>0</th>\n",
       "      <td>2141543</td>\n",
       "      <td>11440</td>\n",
       "      <td>17.0</td>\n",
       "      <td>0</td>\n",
       "    </tr>\n",
       "    <tr>\n",
       "      <th>1</th>\n",
       "      <td>567889</td>\n",
       "      <td>1560</td>\n",
       "      <td>1.0</td>\n",
       "      <td>1</td>\n",
       "    </tr>\n",
       "    <tr>\n",
       "      <th>2</th>\n",
       "      <td>2261212</td>\n",
       "      <td>26683</td>\n",
       "      <td>1.0</td>\n",
       "      <td>1</td>\n",
       "    </tr>\n",
       "    <tr>\n",
       "      <th>3</th>\n",
       "      <td>491251</td>\n",
       "      <td>8670</td>\n",
       "      <td>35.0</td>\n",
       "      <td>1</td>\n",
       "    </tr>\n",
       "    <tr>\n",
       "      <th>4</th>\n",
       "      <td>2571142</td>\n",
       "      <td>1940</td>\n",
       "      <td>5.0</td>\n",
       "      <td>1</td>\n",
       "    </tr>\n",
       "  </tbody>\n",
       "</table>\n",
       "</div>"
      ],
      "text/plain": [
       "   order_id  product_id  add_to_cart_order  reordered\n",
       "0   2141543       11440               17.0          0\n",
       "1    567889        1560                1.0          1\n",
       "2   2261212       26683                1.0          1\n",
       "3    491251        8670               35.0          1\n",
       "4   2571142        1940                5.0          1"
      ]
     },
     "execution_count": 11,
     "metadata": {},
     "output_type": "execute_result"
    }
   ],
   "source": [
    "order_products.head()"
   ]
  },
  {
   "cell_type": "markdown",
   "id": "13dc6e9f",
   "metadata": {},
   "source": [
    "<div class=\"alert alert-success\"; style=\"border-left: 7px solid green\">\n",
    "<b>✅ Reviewer's comment, v. 3</b> \n",
    "    \n",
    "✔️ \n",
    "    \n",
    "\n",
    "\n",
    "<div class=\"alert alert-danger\"; style=\"border-left: 7px solid red\">\n",
    "<b>⛔️ Reviewer's comment, v. 2</b> \n",
    "    \n",
    "Please also use head method for each dataframe to see the first lines of it and understand how the data looks.\n",
    "\n",
    "<div class=\"alert alert-danger\"; style=\"border-left: 7px solid red\">\n",
    "<b>⛔️ Reviewer's comment, v. 1</b> \n",
    "\n",
    "In this section, please also get familiar with the datasets. First, use `head()` method to display first lines. And then use `info()` method. It will allow you to see the size of the dataframe, which types of data are used (whether the types are optimal), whether there are missing data in the dataframes.\n",
    "    \n",
    "After you've studied the data don't forget to write a brief summary of your observations."
   ]
  },
  {
   "cell_type": "markdown",
   "id": "07357848-dc64-4156-9cc3-01ff4365226d",
   "metadata": {},
   "source": [
    "## Find and remove duplicate values (and describe why you make your choices)"
   ]
  },
  {
   "cell_type": "markdown",
   "id": "f179f0a9",
   "metadata": {},
   "source": [
    "### `orders` data frame"
   ]
  },
  {
   "cell_type": "code",
   "execution_count": 12,
   "id": "b99297a5-405a-463d-8535-9adc3da4ad74",
   "metadata": {},
   "outputs": [
    {
     "data": {
      "text/plain": [
       "15"
      ]
     },
     "execution_count": 12,
     "metadata": {},
     "output_type": "execute_result"
    }
   ],
   "source": [
    "orders.duplicated().sum()# Check for duplicated orders\n",
    "#v2"
   ]
  },
  {
   "cell_type": "markdown",
   "id": "1ded08a3",
   "metadata": {},
   "source": [
    "<div class=\"alert alert-success\"; style=\"border-left: 7px solid green\">\n",
    "<b>✅ Reviewer's comment, v. 2</b> \n",
    "    \n",
    "✔️ \n",
    "    \n",
    "\n",
    "\n",
    "<div class=\"alert alert-danger\"; style=\"border-left: 7px solid red\">\n",
    "<b>⛔️ Reviewer's comment, v. 1</b> \n",
    "\n",
    "Please display the number of the duplicates. You don't need to study the dataframes again here."
   ]
  },
  {
   "cell_type": "code",
   "execution_count": 13,
   "id": "0d44de5d",
   "metadata": {
    "scrolled": true
   },
   "outputs": [
    {
     "data": {
      "text/html": [
       "<div>\n",
       "<style scoped>\n",
       "    .dataframe tbody tr th:only-of-type {\n",
       "        vertical-align: middle;\n",
       "    }\n",
       "\n",
       "    .dataframe tbody tr th {\n",
       "        vertical-align: top;\n",
       "    }\n",
       "\n",
       "    .dataframe thead th {\n",
       "        text-align: right;\n",
       "    }\n",
       "</style>\n",
       "<table border=\"1\" class=\"dataframe\">\n",
       "  <thead>\n",
       "    <tr style=\"text-align: right;\">\n",
       "      <th></th>\n",
       "      <th>order_id</th>\n",
       "      <th>user_id</th>\n",
       "      <th>order_number</th>\n",
       "      <th>order_dow</th>\n",
       "      <th>order_hour_of_day</th>\n",
       "      <th>days_since_prior_order</th>\n",
       "    </tr>\n",
       "  </thead>\n",
       "  <tbody>\n",
       "    <tr>\n",
       "      <th>1295</th>\n",
       "      <td>1474941</td>\n",
       "      <td>115569</td>\n",
       "      <td>5</td>\n",
       "      <td>2</td>\n",
       "      <td>2</td>\n",
       "      <td>28.0</td>\n",
       "    </tr>\n",
       "    <tr>\n",
       "      <th>2391</th>\n",
       "      <td>1640269</td>\n",
       "      <td>173965</td>\n",
       "      <td>15</td>\n",
       "      <td>2</td>\n",
       "      <td>2</td>\n",
       "      <td>2.0</td>\n",
       "    </tr>\n",
       "    <tr>\n",
       "      <th>2550</th>\n",
       "      <td>1223696</td>\n",
       "      <td>55276</td>\n",
       "      <td>11</td>\n",
       "      <td>2</td>\n",
       "      <td>2</td>\n",
       "      <td>30.0</td>\n",
       "    </tr>\n",
       "    <tr>\n",
       "      <th>5965</th>\n",
       "      <td>579194</td>\n",
       "      <td>85018</td>\n",
       "      <td>14</td>\n",
       "      <td>2</td>\n",
       "      <td>2</td>\n",
       "      <td>11.0</td>\n",
       "    </tr>\n",
       "    <tr>\n",
       "      <th>17680</th>\n",
       "      <td>2004230</td>\n",
       "      <td>203121</td>\n",
       "      <td>4</td>\n",
       "      <td>2</td>\n",
       "      <td>2</td>\n",
       "      <td>8.0</td>\n",
       "    </tr>\n",
       "  </tbody>\n",
       "</table>\n",
       "</div>"
      ],
      "text/plain": [
       "       order_id  user_id  order_number  order_dow  order_hour_of_day  \\\n",
       "1295    1474941   115569             5          2                  2   \n",
       "2391    1640269   173965            15          2                  2   \n",
       "2550    1223696    55276            11          2                  2   \n",
       "5965     579194    85018            14          2                  2   \n",
       "17680   2004230   203121             4          2                  2   \n",
       "\n",
       "       days_since_prior_order  \n",
       "1295                     28.0  \n",
       "2391                      2.0  \n",
       "2550                     30.0  \n",
       "5965                     11.0  \n",
       "17680                     8.0  "
      ]
     },
     "execution_count": 13,
     "metadata": {},
     "output_type": "execute_result"
    }
   ],
   "source": [
    "wed_orders = orders[(orders['order_hour_of_day'] == 2)&(orders['order_dow']== 2)]\n",
    "# Check for all orders placed Wednesday at 2:00 AM\n",
    "wed_orders.head() #using Monday = 0 for date of the week, order hour of day is using 24-hr format"
   ]
  },
  {
   "cell_type": "code",
   "execution_count": 14,
   "id": "480563c7",
   "metadata": {},
   "outputs": [],
   "source": [
    "# Remove duplicate orders\n",
    "orders = orders.drop_duplicates().reset_index() #only represents a miniscule part of the data, can remove safely"
   ]
  },
  {
   "cell_type": "code",
   "execution_count": 15,
   "id": "0b2396a2",
   "metadata": {},
   "outputs": [
    {
     "data": {
      "text/plain": [
       "0"
      ]
     },
     "execution_count": 15,
     "metadata": {},
     "output_type": "execute_result"
    }
   ],
   "source": [
    "# Double check for duplicate rows\n",
    "orders.duplicated().sum()"
   ]
  },
  {
   "cell_type": "markdown",
   "id": "2782f188",
   "metadata": {},
   "source": [
    "<div class=\"alert alert-success\"; style=\"border-left: 7px solid green\">\n",
    "<b>✅ Reviewer's comment, v. 1</b> \n",
    "    \n",
    "Well done on the checks above."
   ]
  },
  {
   "cell_type": "code",
   "execution_count": 16,
   "id": "f6113ef1",
   "metadata": {},
   "outputs": [
    {
     "data": {
      "text/plain": [
       "0"
      ]
     },
     "execution_count": 16,
     "metadata": {},
     "output_type": "execute_result"
    }
   ],
   "source": [
    "# Double check for duplicate order IDs only\n",
    "orders['order_id'].duplicated().sum() #v2"
   ]
  },
  {
   "cell_type": "markdown",
   "id": "acf09e20",
   "metadata": {},
   "source": [
    "<div class=\"alert alert-success\"; style=\"border-left: 7px solid green\">\n",
    "<b>✅ Reviewer's comment, v. 2</b> \n",
    "    \n",
    "✔️ Ok, now we can be sure there are no duplicated order IDs.\n",
    "    \n",
    "\n",
    "\n",
    "<div class=\"alert alert-danger\"; style=\"border-left: 7px solid red\">\n",
    "<b>⛔️ Reviewer's comment, v. 1</b> \n",
    "\n",
    "Please display the number of the duplicates. With the sample method you might have got 25 non-duplicated rows, but this is not a guarantee there are no duplicates at all.\n",
    "    \n",
    "    "
   ]
  },
  {
   "cell_type": "markdown",
   "id": "5e8905ae",
   "metadata": {},
   "source": []
  },
  {
   "cell_type": "markdown",
   "id": "93ce60df",
   "metadata": {},
   "source": [
    "(v2) In this section, we have safely removed the duplicates from this dataset. The duplicate orders only represent a miniscule part of the data, so they are not needed for our analysis. We have double checked that the 'order_id' column has no duplicate values."
   ]
  },
  {
   "cell_type": "markdown",
   "id": "e2a43d22",
   "metadata": {},
   "source": [
    "<div class=\"alert alert-success\"; style=\"border-left: 7px solid green\">\n",
    "<b>✅ Reviewer's comment, v. 2</b> \n",
    "    \n",
    "✔️ Good.\n",
    "    \n",
    "\n",
    "\n",
    "<div class=\"alert alert-danger\"; style=\"border-left: 7px solid red\">\n",
    "<b>⛔️ Reviewer's comment, v. 1</b> \n",
    "\n",
    "Please also note that you need to add a conclusion / summary after each section. Please write your observations here, and after each section below."
   ]
  },
  {
   "cell_type": "markdown",
   "id": "45e6bc46",
   "metadata": {},
   "source": [
    "### `products` data frame"
   ]
  },
  {
   "cell_type": "code",
   "execution_count": 17,
   "id": "5f526b5b-8175-46fa-a0fd-441767d50e64",
   "metadata": {},
   "outputs": [
    {
     "data": {
      "text/plain": [
       "0"
      ]
     },
     "execution_count": 17,
     "metadata": {},
     "output_type": "execute_result"
    }
   ],
   "source": [
    "products.duplicated().sum()# Check for fully duplicate rows\n",
    "#v2"
   ]
  },
  {
   "cell_type": "markdown",
   "id": "505cd768",
   "metadata": {},
   "source": [
    "<div class=\"alert alert-success\"; style=\"border-left: 7px solid green\">\n",
    "<b>✅ Reviewer's comment, v. 2</b> \n",
    "    \n",
    "✔️ OK, there are no full duplicates.\n",
    "    \n",
    "\n",
    "\n",
    "<div class=\"alert alert-danger\"; style=\"border-left: 7px solid red\">\n",
    "<b>⛔️ Reviewer's comment, v. 1</b> \n",
    "\n",
    "\n",
    "    \n",
    "Please display the number of the duplicates."
   ]
  },
  {
   "cell_type": "code",
   "execution_count": 18,
   "id": "88daa4f4",
   "metadata": {},
   "outputs": [
    {
     "data": {
      "text/html": [
       "<div>\n",
       "<style scoped>\n",
       "    .dataframe tbody tr th:only-of-type {\n",
       "        vertical-align: middle;\n",
       "    }\n",
       "\n",
       "    .dataframe tbody tr th {\n",
       "        vertical-align: top;\n",
       "    }\n",
       "\n",
       "    .dataframe thead th {\n",
       "        text-align: right;\n",
       "    }\n",
       "</style>\n",
       "<table border=\"1\" class=\"dataframe\">\n",
       "  <thead>\n",
       "    <tr style=\"text-align: right;\">\n",
       "      <th></th>\n",
       "      <th>product_id</th>\n",
       "      <th>product_name</th>\n",
       "      <th>aisle_id</th>\n",
       "      <th>department_id</th>\n",
       "    </tr>\n",
       "  </thead>\n",
       "  <tbody>\n",
       "  </tbody>\n",
       "</table>\n",
       "</div>"
      ],
      "text/plain": [
       "Empty DataFrame\n",
       "Columns: [product_id, product_name, aisle_id, department_id]\n",
       "Index: []"
      ]
     },
     "execution_count": 18,
     "metadata": {},
     "output_type": "execute_result"
    }
   ],
   "source": [
    "# Check for just duplicate product IDs\n",
    "dup_products = products[products.duplicated(subset=['product_id'], keep = False)]\n",
    "dup_products #it appears that there are no rows where only the product id is a duplicate"
   ]
  },
  {
   "cell_type": "code",
   "execution_count": 19,
   "id": "c773f0bf",
   "metadata": {},
   "outputs": [
    {
     "data": {
      "text/plain": [
       "1361"
      ]
     },
     "execution_count": 19,
     "metadata": {},
     "output_type": "execute_result"
    }
   ],
   "source": [
    "# Check for just duplicate product names (convert names to lowercase to compare better)\n",
    "lowercase_products = products['product_name'].str.lower() #made the product name column into lowercase\n",
    "lowercase_products.duplicated().sum() #v2"
   ]
  },
  {
   "cell_type": "markdown",
   "id": "e0bb4b80",
   "metadata": {},
   "source": [
    "<div class=\"alert alert-success\"; style=\"border-left: 7px solid green\">\n",
    "<b>✅ Reviewer's comment, v. 2</b> \n",
    "    \n",
    "✔️ But there are 1361 duplicated product names, if we change all of them to lower case.\n",
    "    \n",
    "\n",
    "\n",
    "<div class=\"alert alert-danger\"; style=\"border-left: 7px solid red\">\n",
    "<b>⛔️ Reviewer's comment, v. 1</b> \n",
    "\n",
    "Please check for the duplicates in the `lowercase_products`."
   ]
  },
  {
   "cell_type": "code",
   "execution_count": 20,
   "id": "01efd02e",
   "metadata": {},
   "outputs": [],
   "source": [
    "# Check for duplicate product names that aren't missing\n",
    "#lowercase_products = lowercase_products.drop_duplicates().dropna() #v2 #drop missing values #v2\n",
    "#lowercase_products.duplicated().sum() #v2\n"
   ]
  },
  {
   "cell_type": "code",
   "execution_count": 21,
   "id": "82d8a72b",
   "metadata": {},
   "outputs": [
    {
     "data": {
      "text/plain": [
       "104"
      ]
     },
     "execution_count": 21,
     "metadata": {},
     "output_type": "execute_result"
    }
   ],
   "source": [
    "# Added by reviewer\n",
    "lowercase_products = lowercase_products.dropna() \n",
    "lowercase_products.duplicated().sum() \n"
   ]
  },
  {
   "cell_type": "markdown",
   "id": "f79d464b",
   "metadata": {},
   "source": [
    "<div class=\"alert alert-success\"; style=\"border-left: 7px solid green\">\n",
    "<b>✅ Reviewer's comment, v. 3</b> \n",
    "    \n",
    "✔️ \n",
    "    \n",
    "\n",
    "\n",
    "<div class=\"alert alert-warning\"; style=\"border-left: 7px solid gold\">\n",
    "<b>⚠️ Reviewer's comment, v. 2</b> \n",
    "\n",
    "Sorry, my comment below was misleading. Please see the correct way to get rid of the missing values and check the number of the duplicates.\n",
    "    \n",
    "So, while we saw that there are 1361 duplicates, most of them turned out to be just missing values (they are also considered duplicates). Thus, we have 104 duplicates. We don't need to drop them, as all of them have unique product IDs.\n",
    "    \n",
    "\n",
    "    \n",
    "<div class=\"alert alert-danger\"; style=\"border-left: 7px solid red\">\n",
    "<b>⛔️ Reviewer's comment, v. 1</b> \n",
    "\n",
    "After you've dropped the missing values in `lowercase_products` you need to check the number of the duplicates again. The rest is not required."
   ]
  },
  {
   "cell_type": "markdown",
   "id": "349d74c5",
   "metadata": {},
   "source": [
    "^ Hello! I admit this was a mess and it got me pretty stumped!\n",
    "\n",
    "(v2) I keep trying to call lowercase_products back to products['product_name'] but the duplicates remain. Please advise 😓"
   ]
  },
  {
   "cell_type": "markdown",
   "id": "f6482664",
   "metadata": {},
   "source": [
    "(v3) Thanks for the fix!"
   ]
  },
  {
   "cell_type": "markdown",
   "id": "dacbb55b",
   "metadata": {},
   "source": [
    "<div class=\"alert alert-success\"; style=\"border-left: 7px solid green\">\n",
    "<b>✅ Reviewer's comment, v. 3</b> \n",
    "    \n",
    "✔️ \n",
    "    \n",
    "\n",
    "\n",
    "<div class=\"alert alert-warning\"; style=\"border-left: 7px solid gold\">\n",
    "<b>⚠️ Reviewer's comment, v. 2</b> \n",
    "\n",
    "You don't need to code in the above cell.\n",
    "    \n",
    "\n",
    "    \n",
    "<strike>\n"
   ]
  },
  {
   "cell_type": "markdown",
   "id": "fa32f372",
   "metadata": {},
   "source": [
    "(v3) Cell removed. "
   ]
  },
  {
   "cell_type": "markdown",
   "id": "9da8d293",
   "metadata": {},
   "source": []
  },
  {
   "cell_type": "markdown",
   "id": "60f30db1",
   "metadata": {},
   "source": [
    "### `departments` data frame"
   ]
  },
  {
   "cell_type": "code",
   "execution_count": 23,
   "id": "fb410ad4-0fbf-4b80-bb09-23fdea79afe3",
   "metadata": {},
   "outputs": [
    {
     "data": {
      "text/plain": [
       "0"
      ]
     },
     "execution_count": 23,
     "metadata": {},
     "output_type": "execute_result"
    }
   ],
   "source": [
    "departments.duplicated().sum() #check for duplicate rows\n"
   ]
  },
  {
   "cell_type": "code",
   "execution_count": 24,
   "id": "332b12bb",
   "metadata": {},
   "outputs": [
    {
     "data": {
      "text/html": [
       "<div>\n",
       "<style scoped>\n",
       "    .dataframe tbody tr th:only-of-type {\n",
       "        vertical-align: middle;\n",
       "    }\n",
       "\n",
       "    .dataframe tbody tr th {\n",
       "        vertical-align: top;\n",
       "    }\n",
       "\n",
       "    .dataframe thead th {\n",
       "        text-align: right;\n",
       "    }\n",
       "</style>\n",
       "<table border=\"1\" class=\"dataframe\">\n",
       "  <thead>\n",
       "    <tr style=\"text-align: right;\">\n",
       "      <th></th>\n",
       "      <th>department_id</th>\n",
       "      <th>department</th>\n",
       "    </tr>\n",
       "  </thead>\n",
       "  <tbody>\n",
       "    <tr>\n",
       "      <th>0</th>\n",
       "      <td>1</td>\n",
       "      <td>frozen</td>\n",
       "    </tr>\n",
       "    <tr>\n",
       "      <th>1</th>\n",
       "      <td>2</td>\n",
       "      <td>other</td>\n",
       "    </tr>\n",
       "    <tr>\n",
       "      <th>2</th>\n",
       "      <td>3</td>\n",
       "      <td>bakery</td>\n",
       "    </tr>\n",
       "    <tr>\n",
       "      <th>3</th>\n",
       "      <td>4</td>\n",
       "      <td>produce</td>\n",
       "    </tr>\n",
       "    <tr>\n",
       "      <th>4</th>\n",
       "      <td>5</td>\n",
       "      <td>alcohol</td>\n",
       "    </tr>\n",
       "    <tr>\n",
       "      <th>5</th>\n",
       "      <td>6</td>\n",
       "      <td>international</td>\n",
       "    </tr>\n",
       "    <tr>\n",
       "      <th>6</th>\n",
       "      <td>7</td>\n",
       "      <td>beverages</td>\n",
       "    </tr>\n",
       "    <tr>\n",
       "      <th>7</th>\n",
       "      <td>8</td>\n",
       "      <td>pets</td>\n",
       "    </tr>\n",
       "    <tr>\n",
       "      <th>8</th>\n",
       "      <td>9</td>\n",
       "      <td>dry goods pasta</td>\n",
       "    </tr>\n",
       "    <tr>\n",
       "      <th>9</th>\n",
       "      <td>10</td>\n",
       "      <td>bulk</td>\n",
       "    </tr>\n",
       "    <tr>\n",
       "      <th>10</th>\n",
       "      <td>11</td>\n",
       "      <td>personal care</td>\n",
       "    </tr>\n",
       "    <tr>\n",
       "      <th>11</th>\n",
       "      <td>12</td>\n",
       "      <td>meat seafood</td>\n",
       "    </tr>\n",
       "    <tr>\n",
       "      <th>12</th>\n",
       "      <td>13</td>\n",
       "      <td>pantry</td>\n",
       "    </tr>\n",
       "    <tr>\n",
       "      <th>13</th>\n",
       "      <td>14</td>\n",
       "      <td>breakfast</td>\n",
       "    </tr>\n",
       "    <tr>\n",
       "      <th>14</th>\n",
       "      <td>15</td>\n",
       "      <td>canned goods</td>\n",
       "    </tr>\n",
       "    <tr>\n",
       "      <th>15</th>\n",
       "      <td>16</td>\n",
       "      <td>dairy eggs</td>\n",
       "    </tr>\n",
       "    <tr>\n",
       "      <th>16</th>\n",
       "      <td>17</td>\n",
       "      <td>household</td>\n",
       "    </tr>\n",
       "    <tr>\n",
       "      <th>17</th>\n",
       "      <td>18</td>\n",
       "      <td>babies</td>\n",
       "    </tr>\n",
       "    <tr>\n",
       "      <th>18</th>\n",
       "      <td>19</td>\n",
       "      <td>snacks</td>\n",
       "    </tr>\n",
       "    <tr>\n",
       "      <th>19</th>\n",
       "      <td>20</td>\n",
       "      <td>deli</td>\n",
       "    </tr>\n",
       "    <tr>\n",
       "      <th>20</th>\n",
       "      <td>21</td>\n",
       "      <td>missing</td>\n",
       "    </tr>\n",
       "  </tbody>\n",
       "</table>\n",
       "</div>"
      ],
      "text/plain": [
       "    department_id       department\n",
       "0               1           frozen\n",
       "1               2            other\n",
       "2               3           bakery\n",
       "3               4          produce\n",
       "4               5          alcohol\n",
       "5               6    international\n",
       "6               7        beverages\n",
       "7               8             pets\n",
       "8               9  dry goods pasta\n",
       "9              10             bulk\n",
       "10             11    personal care\n",
       "11             12     meat seafood\n",
       "12             13           pantry\n",
       "13             14        breakfast\n",
       "14             15     canned goods\n",
       "15             16       dairy eggs\n",
       "16             17        household\n",
       "17             18           babies\n",
       "18             19           snacks\n",
       "19             20             deli\n",
       "20             21          missing"
      ]
     },
     "execution_count": 24,
     "metadata": {},
     "output_type": "execute_result"
    }
   ],
   "source": [
    "departments"
   ]
  },
  {
   "cell_type": "markdown",
   "id": "bd30d78e",
   "metadata": {},
   "source": []
  },
  {
   "cell_type": "markdown",
   "id": "42e4c190",
   "metadata": {},
   "source": [
    "<div class=\"alert alert-success\"; style=\"border-left: 7px solid green\">\n",
    "<b>✅ Reviewer's comment, v. 1</b> \n",
    "    \n",
    "Well done."
   ]
  },
  {
   "cell_type": "markdown",
   "id": "889349c1",
   "metadata": {},
   "source": [
    "### `aisles` data frame"
   ]
  },
  {
   "cell_type": "code",
   "execution_count": 25,
   "id": "9da89fb9-4679-40f5-ad0d-c34df753a3f8",
   "metadata": {},
   "outputs": [
    {
     "data": {
      "text/html": [
       "<div>\n",
       "<style scoped>\n",
       "    .dataframe tbody tr th:only-of-type {\n",
       "        vertical-align: middle;\n",
       "    }\n",
       "\n",
       "    .dataframe tbody tr th {\n",
       "        vertical-align: top;\n",
       "    }\n",
       "\n",
       "    .dataframe thead th {\n",
       "        text-align: right;\n",
       "    }\n",
       "</style>\n",
       "<table border=\"1\" class=\"dataframe\">\n",
       "  <thead>\n",
       "    <tr style=\"text-align: right;\">\n",
       "      <th></th>\n",
       "      <th>aisle_id</th>\n",
       "      <th>aisle</th>\n",
       "    </tr>\n",
       "  </thead>\n",
       "  <tbody>\n",
       "    <tr>\n",
       "      <th>0</th>\n",
       "      <td>1</td>\n",
       "      <td>prepared soups salads</td>\n",
       "    </tr>\n",
       "    <tr>\n",
       "      <th>1</th>\n",
       "      <td>2</td>\n",
       "      <td>specialty cheeses</td>\n",
       "    </tr>\n",
       "    <tr>\n",
       "      <th>2</th>\n",
       "      <td>3</td>\n",
       "      <td>energy granola bars</td>\n",
       "    </tr>\n",
       "    <tr>\n",
       "      <th>3</th>\n",
       "      <td>4</td>\n",
       "      <td>instant foods</td>\n",
       "    </tr>\n",
       "    <tr>\n",
       "      <th>4</th>\n",
       "      <td>5</td>\n",
       "      <td>marinades meat preparation</td>\n",
       "    </tr>\n",
       "    <tr>\n",
       "      <th>...</th>\n",
       "      <td>...</td>\n",
       "      <td>...</td>\n",
       "    </tr>\n",
       "    <tr>\n",
       "      <th>129</th>\n",
       "      <td>130</td>\n",
       "      <td>hot cereal pancake mixes</td>\n",
       "    </tr>\n",
       "    <tr>\n",
       "      <th>130</th>\n",
       "      <td>131</td>\n",
       "      <td>dry pasta</td>\n",
       "    </tr>\n",
       "    <tr>\n",
       "      <th>131</th>\n",
       "      <td>132</td>\n",
       "      <td>beauty</td>\n",
       "    </tr>\n",
       "    <tr>\n",
       "      <th>132</th>\n",
       "      <td>133</td>\n",
       "      <td>muscles joints pain relief</td>\n",
       "    </tr>\n",
       "    <tr>\n",
       "      <th>133</th>\n",
       "      <td>134</td>\n",
       "      <td>specialty wines champagnes</td>\n",
       "    </tr>\n",
       "  </tbody>\n",
       "</table>\n",
       "<p>134 rows × 2 columns</p>\n",
       "</div>"
      ],
      "text/plain": [
       "     aisle_id                       aisle\n",
       "0           1       prepared soups salads\n",
       "1           2           specialty cheeses\n",
       "2           3         energy granola bars\n",
       "3           4               instant foods\n",
       "4           5  marinades meat preparation\n",
       "..        ...                         ...\n",
       "129       130    hot cereal pancake mixes\n",
       "130       131                   dry pasta\n",
       "131       132                      beauty\n",
       "132       133  muscles joints pain relief\n",
       "133       134  specialty wines champagnes\n",
       "\n",
       "[134 rows x 2 columns]"
      ]
     },
     "execution_count": 25,
     "metadata": {},
     "output_type": "execute_result"
    }
   ],
   "source": [
    "aisles"
   ]
  },
  {
   "cell_type": "code",
   "execution_count": 26,
   "id": "da7c2822",
   "metadata": {},
   "outputs": [
    {
     "data": {
      "text/plain": [
       "0"
      ]
     },
     "execution_count": 26,
     "metadata": {},
     "output_type": "execute_result"
    }
   ],
   "source": [
    "aisles.duplicated().sum()"
   ]
  },
  {
   "cell_type": "markdown",
   "id": "9c42e680",
   "metadata": {},
   "source": [
    "<div class=\"alert alert-success\"; style=\"border-left: 7px solid green\">\n",
    "<b>✅ Reviewer's comment, v. 2</b> \n",
    "    \n",
    "✔️ Good, no duplicates here.\n",
    "    \n",
    "\n",
    "\n",
    "<div class=\"alert alert-danger\"; style=\"border-left: 7px solid red\">\n",
    "<b>⛔️ Reviewer's comment, v. 1</b> \n",
    "\n",
    "Could you please check for the duplicates in the dataframe?"
   ]
  },
  {
   "cell_type": "markdown",
   "id": "ac63826f",
   "metadata": {},
   "source": []
  },
  {
   "cell_type": "markdown",
   "id": "274cd06a",
   "metadata": {},
   "source": [
    "### `order_products` data frame"
   ]
  },
  {
   "cell_type": "code",
   "execution_count": 27,
   "id": "52326689-84a8-4b8f-a881-7c68780f62c9",
   "metadata": {},
   "outputs": [
    {
     "data": {
      "text/plain": [
       "0"
      ]
     },
     "execution_count": 27,
     "metadata": {},
     "output_type": "execute_result"
    }
   ],
   "source": [
    "# Check for fullly duplicate rows\n",
    "order_products.duplicated().sum()"
   ]
  },
  {
   "cell_type": "code",
   "execution_count": 57,
   "id": "7b861391",
   "metadata": {},
   "outputs": [
    {
     "data": {
      "text/html": [
       "<div>\n",
       "<style scoped>\n",
       "    .dataframe tbody tr th:only-of-type {\n",
       "        vertical-align: middle;\n",
       "    }\n",
       "\n",
       "    .dataframe tbody tr th {\n",
       "        vertical-align: top;\n",
       "    }\n",
       "\n",
       "    .dataframe thead th {\n",
       "        text-align: right;\n",
       "    }\n",
       "</style>\n",
       "<table border=\"1\" class=\"dataframe\">\n",
       "  <thead>\n",
       "    <tr style=\"text-align: right;\">\n",
       "      <th></th>\n",
       "      <th>order_id</th>\n",
       "      <th>product_id</th>\n",
       "      <th>add_to_cart_order</th>\n",
       "      <th>reordered</th>\n",
       "    </tr>\n",
       "  </thead>\n",
       "  <tbody>\n",
       "  </tbody>\n",
       "</table>\n",
       "</div>"
      ],
      "text/plain": [
       "Empty DataFrame\n",
       "Columns: [order_id, product_id, add_to_cart_order, reordered]\n",
       "Index: []"
      ]
     },
     "execution_count": 57,
     "metadata": {},
     "output_type": "execute_result"
    }
   ],
   "source": [
    "# Double check for any other tricky duplicates\n",
    "dup_order_products = order_products[order_products.duplicated(subset = ['order_id', 'product_id'], keep=False)]\n",
    "dup_order_products #v3"
   ]
  },
  {
   "cell_type": "markdown",
   "id": "14e8a6f6",
   "metadata": {},
   "source": [
    "(v3) There are no contents in \"dup_order_products\"."
   ]
  },
  {
   "cell_type": "markdown",
   "id": "705ec209",
   "metadata": {},
   "source": [
    "<div class=\"alert alert-success\"; style=\"border-left: 7px solid green\">\n",
    "<b>✅ Reviewer's comment, v. 3</b> \n",
    "    \n",
    "✔️ Yes, you are right.\n",
    "    \n",
    "\n",
    "\n",
    "<div class=\"alert alert-danger\"; style=\"border-left: 7px solid red\">\n",
    "<b>⛔️ Reviewer's comment, v. 2</b> \n",
    "\n",
    "The first line above is correct. But in the second line you should not use `duplicated()` function as you already selected the duplicated rows if there are any. So, you could use the `len()` function to get the number of rows or simply display the contents of `dup_order_products` dataframe to see if there are any duplicates. Could you please do one of those?  \n",
    "    \n",
    "<div class=\"alert alert-danger\"; style=\"border-left: 7px solid red\">\n",
    "<b>⛔️ Reviewer's comment, v. 1</b> \n",
    "\n",
    "\n",
    "\n",
    "When checking for duplcates, we should not only target at full duplicates, but also check for the uniqueness of the combinations that should not be repeated. In this case, for example, there should be no repeatition of `order_id` + `product_id`. \n",
    "    \n",
    "Could you please check that?\n",
    "\n",
    "    \n",
    "<a class=\"tocSkip\"></a><s>\n"
   ]
  },
  {
   "cell_type": "markdown",
   "id": "0b890492",
   "metadata": {},
   "source": []
  },
  {
   "cell_type": "markdown",
   "id": "0b92244c",
   "metadata": {},
   "source": [
    "We have processed the \"order_products\" dataset and searched for duplicates and tricky duplicates. Thankfully, we had neither."
   ]
  },
  {
   "cell_type": "markdown",
   "id": "1e46de76",
   "metadata": {},
   "source": [
    "## Find and remove missing values\n"
   ]
  },
  {
   "cell_type": "markdown",
   "id": "c0aebd78",
   "metadata": {},
   "source": [
    "### `products` data frame"
   ]
  },
  {
   "cell_type": "code",
   "execution_count": 29,
   "id": "fe4a8b0f",
   "metadata": {},
   "outputs": [
    {
     "data": {
      "text/plain": [
       "product_id          0\n",
       "product_name     1258\n",
       "aisle_id            0\n",
       "department_id       0\n",
       "dtype: int64"
      ]
     },
     "execution_count": 29,
     "metadata": {},
     "output_type": "execute_result"
    }
   ],
   "source": [
    "products.isna().sum() #v2"
   ]
  },
  {
   "cell_type": "markdown",
   "id": "a70eb79e",
   "metadata": {},
   "source": [
    "<div class=\"alert alert-success\"; style=\"border-left: 7px solid green\">\n",
    "<b>✅ Reviewer's comment, v. 3</b> \n",
    "    \n",
    "✔️ \n",
    "    \n",
    "\n",
    "\n",
    "<div class=\"alert alert-danger\"; style=\"border-left: 7px solid red\">\n",
    "<b>⛔️ Reviewer's comment, v. 1</b> \n",
    "\n",
    "Please check the missing values in the dataframe first."
   ]
  },
  {
   "cell_type": "code",
   "execution_count": 30,
   "id": "e96167bc",
   "metadata": {},
   "outputs": [
    {
     "data": {
      "text/html": [
       "<div>\n",
       "<style scoped>\n",
       "    .dataframe tbody tr th:only-of-type {\n",
       "        vertical-align: middle;\n",
       "    }\n",
       "\n",
       "    .dataframe tbody tr th {\n",
       "        vertical-align: top;\n",
       "    }\n",
       "\n",
       "    .dataframe thead th {\n",
       "        text-align: right;\n",
       "    }\n",
       "</style>\n",
       "<table border=\"1\" class=\"dataframe\">\n",
       "  <thead>\n",
       "    <tr style=\"text-align: right;\">\n",
       "      <th></th>\n",
       "      <th>product_id</th>\n",
       "      <th>product_name</th>\n",
       "      <th>aisle_id</th>\n",
       "      <th>department_id</th>\n",
       "    </tr>\n",
       "  </thead>\n",
       "  <tbody>\n",
       "    <tr>\n",
       "      <th>37</th>\n",
       "      <td>38</td>\n",
       "      <td>NaN</td>\n",
       "      <td>100</td>\n",
       "      <td>21</td>\n",
       "    </tr>\n",
       "    <tr>\n",
       "      <th>71</th>\n",
       "      <td>72</td>\n",
       "      <td>NaN</td>\n",
       "      <td>100</td>\n",
       "      <td>21</td>\n",
       "    </tr>\n",
       "    <tr>\n",
       "      <th>109</th>\n",
       "      <td>110</td>\n",
       "      <td>NaN</td>\n",
       "      <td>100</td>\n",
       "      <td>21</td>\n",
       "    </tr>\n",
       "    <tr>\n",
       "      <th>296</th>\n",
       "      <td>297</td>\n",
       "      <td>NaN</td>\n",
       "      <td>100</td>\n",
       "      <td>21</td>\n",
       "    </tr>\n",
       "    <tr>\n",
       "      <th>416</th>\n",
       "      <td>417</td>\n",
       "      <td>NaN</td>\n",
       "      <td>100</td>\n",
       "      <td>21</td>\n",
       "    </tr>\n",
       "    <tr>\n",
       "      <th>...</th>\n",
       "      <td>...</td>\n",
       "      <td>...</td>\n",
       "      <td>...</td>\n",
       "      <td>...</td>\n",
       "    </tr>\n",
       "    <tr>\n",
       "      <th>49552</th>\n",
       "      <td>49553</td>\n",
       "      <td>NaN</td>\n",
       "      <td>100</td>\n",
       "      <td>21</td>\n",
       "    </tr>\n",
       "    <tr>\n",
       "      <th>49574</th>\n",
       "      <td>49575</td>\n",
       "      <td>NaN</td>\n",
       "      <td>100</td>\n",
       "      <td>21</td>\n",
       "    </tr>\n",
       "    <tr>\n",
       "      <th>49640</th>\n",
       "      <td>49641</td>\n",
       "      <td>NaN</td>\n",
       "      <td>100</td>\n",
       "      <td>21</td>\n",
       "    </tr>\n",
       "    <tr>\n",
       "      <th>49663</th>\n",
       "      <td>49664</td>\n",
       "      <td>NaN</td>\n",
       "      <td>100</td>\n",
       "      <td>21</td>\n",
       "    </tr>\n",
       "    <tr>\n",
       "      <th>49668</th>\n",
       "      <td>49669</td>\n",
       "      <td>NaN</td>\n",
       "      <td>100</td>\n",
       "      <td>21</td>\n",
       "    </tr>\n",
       "  </tbody>\n",
       "</table>\n",
       "<p>1258 rows × 4 columns</p>\n",
       "</div>"
      ],
      "text/plain": [
       "       product_id product_name  aisle_id  department_id\n",
       "37             38          NaN       100             21\n",
       "71             72          NaN       100             21\n",
       "109           110          NaN       100             21\n",
       "296           297          NaN       100             21\n",
       "416           417          NaN       100             21\n",
       "...           ...          ...       ...            ...\n",
       "49552       49553          NaN       100             21\n",
       "49574       49575          NaN       100             21\n",
       "49640       49641          NaN       100             21\n",
       "49663       49664          NaN       100             21\n",
       "49668       49669          NaN       100             21\n",
       "\n",
       "[1258 rows x 4 columns]"
      ]
     },
     "execution_count": 30,
     "metadata": {},
     "output_type": "execute_result"
    }
   ],
   "source": [
    "# Are all of the missing product names associated with aisle ID 100?\n",
    "missing_product_names = products[(products['product_name'].isna())&(products['aisle_id']==100)]\n",
    "missing_product_names #1258 rows have missing product names for aisle id 100\n",
    "all_missing_product_names = products[(products['product_name'].isna())]\n",
    "all_missing_product_names #1258 rows have missing product names in the whole dataframe, so they are all in aisle 100"
   ]
  },
  {
   "cell_type": "code",
   "execution_count": 31,
   "id": "8fd0a541",
   "metadata": {},
   "outputs": [
    {
     "data": {
      "text/html": [
       "<div>\n",
       "<style scoped>\n",
       "    .dataframe tbody tr th:only-of-type {\n",
       "        vertical-align: middle;\n",
       "    }\n",
       "\n",
       "    .dataframe tbody tr th {\n",
       "        vertical-align: top;\n",
       "    }\n",
       "\n",
       "    .dataframe thead th {\n",
       "        text-align: right;\n",
       "    }\n",
       "</style>\n",
       "<table border=\"1\" class=\"dataframe\">\n",
       "  <thead>\n",
       "    <tr style=\"text-align: right;\">\n",
       "      <th></th>\n",
       "      <th>product_id</th>\n",
       "      <th>product_name</th>\n",
       "      <th>aisle_id</th>\n",
       "      <th>department_id</th>\n",
       "    </tr>\n",
       "  </thead>\n",
       "  <tbody>\n",
       "    <tr>\n",
       "      <th>37</th>\n",
       "      <td>38</td>\n",
       "      <td>NaN</td>\n",
       "      <td>100</td>\n",
       "      <td>21</td>\n",
       "    </tr>\n",
       "    <tr>\n",
       "      <th>71</th>\n",
       "      <td>72</td>\n",
       "      <td>NaN</td>\n",
       "      <td>100</td>\n",
       "      <td>21</td>\n",
       "    </tr>\n",
       "    <tr>\n",
       "      <th>109</th>\n",
       "      <td>110</td>\n",
       "      <td>NaN</td>\n",
       "      <td>100</td>\n",
       "      <td>21</td>\n",
       "    </tr>\n",
       "    <tr>\n",
       "      <th>296</th>\n",
       "      <td>297</td>\n",
       "      <td>NaN</td>\n",
       "      <td>100</td>\n",
       "      <td>21</td>\n",
       "    </tr>\n",
       "    <tr>\n",
       "      <th>416</th>\n",
       "      <td>417</td>\n",
       "      <td>NaN</td>\n",
       "      <td>100</td>\n",
       "      <td>21</td>\n",
       "    </tr>\n",
       "    <tr>\n",
       "      <th>...</th>\n",
       "      <td>...</td>\n",
       "      <td>...</td>\n",
       "      <td>...</td>\n",
       "      <td>...</td>\n",
       "    </tr>\n",
       "    <tr>\n",
       "      <th>49552</th>\n",
       "      <td>49553</td>\n",
       "      <td>NaN</td>\n",
       "      <td>100</td>\n",
       "      <td>21</td>\n",
       "    </tr>\n",
       "    <tr>\n",
       "      <th>49574</th>\n",
       "      <td>49575</td>\n",
       "      <td>NaN</td>\n",
       "      <td>100</td>\n",
       "      <td>21</td>\n",
       "    </tr>\n",
       "    <tr>\n",
       "      <th>49640</th>\n",
       "      <td>49641</td>\n",
       "      <td>NaN</td>\n",
       "      <td>100</td>\n",
       "      <td>21</td>\n",
       "    </tr>\n",
       "    <tr>\n",
       "      <th>49663</th>\n",
       "      <td>49664</td>\n",
       "      <td>NaN</td>\n",
       "      <td>100</td>\n",
       "      <td>21</td>\n",
       "    </tr>\n",
       "    <tr>\n",
       "      <th>49668</th>\n",
       "      <td>49669</td>\n",
       "      <td>NaN</td>\n",
       "      <td>100</td>\n",
       "      <td>21</td>\n",
       "    </tr>\n",
       "  </tbody>\n",
       "</table>\n",
       "<p>1258 rows × 4 columns</p>\n",
       "</div>"
      ],
      "text/plain": [
       "       product_id product_name  aisle_id  department_id\n",
       "37             38          NaN       100             21\n",
       "71             72          NaN       100             21\n",
       "109           110          NaN       100             21\n",
       "296           297          NaN       100             21\n",
       "416           417          NaN       100             21\n",
       "...           ...          ...       ...            ...\n",
       "49552       49553          NaN       100             21\n",
       "49574       49575          NaN       100             21\n",
       "49640       49641          NaN       100             21\n",
       "49663       49664          NaN       100             21\n",
       "49668       49669          NaN       100             21\n",
       "\n",
       "[1258 rows x 4 columns]"
      ]
     },
     "execution_count": 31,
     "metadata": {},
     "output_type": "execute_result"
    }
   ],
   "source": [
    "# Are all of the missing product names associated with department ID 21?\n",
    "dep_21_missing = products[(products['product_name'].isna())&(products['department_id'] == 21)]\n",
    "dep_21_missing #same amount of rows as aisle 100 so yes, all missing product names are also in department 21"
   ]
  },
  {
   "cell_type": "code",
   "execution_count": 32,
   "id": "325c3464",
   "metadata": {
    "scrolled": true
   },
   "outputs": [
    {
     "name": "stdout",
     "output_type": "stream",
     "text": [
      "    department_id department\n",
      "20             21    missing\n"
     ]
    },
    {
     "data": {
      "text/html": [
       "<div>\n",
       "<style scoped>\n",
       "    .dataframe tbody tr th:only-of-type {\n",
       "        vertical-align: middle;\n",
       "    }\n",
       "\n",
       "    .dataframe tbody tr th {\n",
       "        vertical-align: top;\n",
       "    }\n",
       "\n",
       "    .dataframe thead th {\n",
       "        text-align: right;\n",
       "    }\n",
       "</style>\n",
       "<table border=\"1\" class=\"dataframe\">\n",
       "  <thead>\n",
       "    <tr style=\"text-align: right;\">\n",
       "      <th></th>\n",
       "      <th>aisle_id</th>\n",
       "      <th>aisle</th>\n",
       "    </tr>\n",
       "  </thead>\n",
       "  <tbody>\n",
       "    <tr>\n",
       "      <th>99</th>\n",
       "      <td>100</td>\n",
       "      <td>missing</td>\n",
       "    </tr>\n",
       "  </tbody>\n",
       "</table>\n",
       "</div>"
      ],
      "text/plain": [
       "    aisle_id    aisle\n",
       "99       100  missing"
      ]
     },
     "execution_count": 32,
     "metadata": {},
     "output_type": "execute_result"
    }
   ],
   "source": [
    "# What is this ailse and department?\n",
    "aisles.query('aisle_id == 100') #the aisle is named \"missing\"\n",
    "print(departments.query('department_id == 21')) #v3\n",
    "#department 21 is also called \"missing\", it is a small dataframe so we only don't absolutely need query\n",
    "#(but it is good practice)\n",
    "aisles.query('aisle_id ==100')"
   ]
  },
  {
   "cell_type": "markdown",
   "id": "9bee5b2c",
   "metadata": {},
   "source": [
    "<div class=\"alert alert-success\"; style=\"border-left: 7px solid green\">\n",
    "<b>✅ Reviewer's comment, v. 3</b> \n",
    "    \n",
    "✔️ Good.\n",
    "    \n",
    "\n",
    "\n",
    "<div class=\"alert alert-danger\"; style=\"border-left: 7px solid red\">\n",
    "<b>⛔️ Reviewer's comment, v. 2</b> \n",
    "\n",
    "Now, you are displaying only aisle name. But you need to display both - aisle and department. Without using a function you can display only the contents of the last line in the code cell. If you want to display something from the preceding lines you need to use either `display()` function or `print()` function. Could you please display both, department and aisle names?\n",
    "    \n",
    "<div class=\"alert alert-danger\"; style=\"border-left: 7px solid red\">\n",
    "<b>⛔️ Reviewer's comment, v. 1</b> \n",
    "\n",
    "Could you please display the aisle name as well?"
   ]
  },
  {
   "cell_type": "code",
   "execution_count": 33,
   "id": "6b295120",
   "metadata": {},
   "outputs": [
    {
     "data": {
      "text/plain": [
       "0"
      ]
     },
     "execution_count": 33,
     "metadata": {},
     "output_type": "execute_result"
    }
   ],
   "source": [
    "# Fill missing product names with 'Unknown'\n",
    "products['product_name'] = products['product_name'].fillna('Unknown') #fill NaN with 'Unknown'\n",
    "products['product_name'].isna().sum() #check missing value counts"
   ]
  },
  {
   "cell_type": "markdown",
   "id": "8d194021",
   "metadata": {},
   "source": [
    "<div class=\"alert alert-success\"; style=\"border-left: 7px solid green\">\n",
    "<b>✅ Reviewer's comment, v. 1</b> \n",
    "    \n",
    "You did all the necessary checks correcly."
   ]
  },
  {
   "cell_type": "markdown",
   "id": "4c488874",
   "metadata": {},
   "source": [
    "<div class=\"alert alert-success\"; style=\"border-left: 7px solid green\">\n",
    "<b>✅ Reviewer's comment, v. 2</b> \n",
    "    \n",
    "✔️ Yes, you are right - we studied the missing product names, they all are associated with aisle 100 and department 21, which names are 'missing'.\n",
    "    \n",
    "\n",
    "\n",
    "<div class=\"alert alert-danger\"; style=\"border-left: 7px solid red\">\n",
    "<b>⛔️ Reviewer's comment, v. 1</b> \n",
    "\n",
    "Just do not forget to write the conclusion."
   ]
  },
  {
   "cell_type": "markdown",
   "id": "eb16c27e",
   "metadata": {},
   "source": [
    "(v2) We have checked the products dataset for duplicates, replaced their values with \"Unknown\" , and also figured out which aisle and department they are associated with. "
   ]
  },
  {
   "cell_type": "markdown",
   "id": "fc70e5ad",
   "metadata": {},
   "source": []
  },
  {
   "cell_type": "markdown",
   "id": "7eb45c86",
   "metadata": {},
   "source": [
    "### `orders` data frame"
   ]
  },
  {
   "cell_type": "code",
   "execution_count": 34,
   "id": "93e41d96",
   "metadata": {},
   "outputs": [
    {
     "name": "stdout",
     "output_type": "stream",
     "text": [
      "<class 'pandas.core.frame.DataFrame'>\n",
      "Int64Index: 28817 entries, 28 to 478930\n",
      "Data columns (total 7 columns):\n",
      " #   Column                  Non-Null Count  Dtype  \n",
      "---  ------                  --------------  -----  \n",
      " 0   index                   28817 non-null  int64  \n",
      " 1   order_id                28817 non-null  int64  \n",
      " 2   user_id                 28817 non-null  int64  \n",
      " 3   order_number            28817 non-null  int64  \n",
      " 4   order_dow               28817 non-null  int64  \n",
      " 5   order_hour_of_day       28817 non-null  int64  \n",
      " 6   days_since_prior_order  0 non-null      float64\n",
      "dtypes: float64(1), int64(6)\n",
      "memory usage: 1.8 MB\n"
     ]
    }
   ],
   "source": [
    "first_order = orders[orders['order_number'] == 1]\n",
    "first_order.info() #this has zero non-null values, or in other words ONLY null (missing) values"
   ]
  },
  {
   "cell_type": "code",
   "execution_count": 35,
   "id": "166e5a86",
   "metadata": {},
   "outputs": [
    {
     "data": {
      "text/plain": [
       "28817"
      ]
     },
     "execution_count": 35,
     "metadata": {},
     "output_type": "execute_result"
    }
   ],
   "source": [
    "# Are there any missing values where it's not a customer's first order?\n",
    "orders['days_since_prior_order'].isna().sum()"
   ]
  },
  {
   "cell_type": "markdown",
   "id": "0025a63b",
   "metadata": {},
   "source": [
    "Comparing the missing value count for the entire 'orders' DataFrame\n",
    "and the DataFrame with only the first order yields the same amount of missing values\n",
    "So there are NO missing values where it's not a customer's first order"
   ]
  },
  {
   "cell_type": "markdown",
   "id": "3dc33c35",
   "metadata": {},
   "source": [
    "<div class=\"alert alert-success\"; style=\"border-left: 7px solid green\">\n",
    "<b>✅ Reviewer's comment, v. 1</b> \n",
    "    \n",
    "You are right."
   ]
  },
  {
   "cell_type": "markdown",
   "id": "ce6dca7e",
   "metadata": {},
   "source": [
    "(v2) We have checked for missing values in the \"orders\" dataset and concluded that there are missing values only when it is a customer's first order."
   ]
  },
  {
   "cell_type": "markdown",
   "id": "4e23d089",
   "metadata": {},
   "source": []
  },
  {
   "cell_type": "markdown",
   "id": "69dc9ca4",
   "metadata": {},
   "source": [
    "### `order_products` data frame"
   ]
  },
  {
   "cell_type": "code",
   "execution_count": 36,
   "id": "b8240253",
   "metadata": {},
   "outputs": [
    {
     "data": {
      "text/plain": [
       "order_id               0\n",
       "product_id             0\n",
       "add_to_cart_order    836\n",
       "reordered              0\n",
       "dtype: int64"
      ]
     },
     "execution_count": 36,
     "metadata": {},
     "output_type": "execute_result"
    }
   ],
   "source": [
    "order_products.isna().sum()"
   ]
  },
  {
   "cell_type": "markdown",
   "id": "597c866e",
   "metadata": {},
   "source": [
    "<div class=\"alert alert-success\"; style=\"border-left: 7px solid green\">\n",
    "<b>✅ Reviewer's comment, v. 2</b> \n",
    "    \n",
    "✔️ \n",
    "    \n",
    "\n",
    "\n",
    "<div class=\"alert alert-danger\"; style=\"border-left: 7px solid red\">\n",
    "<b>⛔️ Reviewer's comment, v. 1</b> \n",
    "\n",
    "Please check the number of the missing values first."
   ]
  },
  {
   "cell_type": "code",
   "execution_count": 37,
   "id": "9a78e5ee",
   "metadata": {},
   "outputs": [
    {
     "data": {
      "text/plain": [
       "1"
      ]
     },
     "execution_count": 37,
     "metadata": {},
     "output_type": "execute_result"
    }
   ],
   "source": [
    "# What are the min and max values in this column?\n",
    "order_products['add_to_cart_order'].min() #1 is the minimum here\n",
    "order_products['add_to_cart_order'].max() #64 is the max here\n",
    "#it would make no sense to search for maximum order_id and product_id as they are not quantitative values\n",
    "order_products['reordered'].min() #minimum is 0\n",
    "order_products['reordered'].max() #maximum is 1, assuming this means the customer reordered is true"
   ]
  },
  {
   "cell_type": "code",
   "execution_count": 38,
   "id": "ab9d0c2b",
   "metadata": {},
   "outputs": [
    {
     "data": {
      "text/plain": [
       "True"
      ]
     },
     "execution_count": 38,
     "metadata": {},
     "output_type": "execute_result"
    }
   ],
   "source": [
    "# Save all order IDs with at least one missing value in 'add_to_cart_order'\n",
    "miss_cart_order_ids = order_products[order_products['add_to_cart_order'].isna()]['order_id'].unique() #v2\n",
    "filtered_order_products = order_products[order_products['order_id'].isin(miss_cart_order_ids)]\n",
    "order_count_by_id = filtered_order_products.groupby('order_id').size()\n",
    "all_have_more_than_64_products = (order_count_by_id > 64).all()\n",
    "all_have_more_than_64_products"
   ]
  },
  {
   "cell_type": "code",
   "execution_count": 39,
   "id": "54c31695",
   "metadata": {},
   "outputs": [],
   "source": [
    "# Do all orders with missing values have more than 64 products?\n"
   ]
  },
  {
   "cell_type": "markdown",
   "id": "fd2f02e1",
   "metadata": {},
   "source": [
    "Yes, this makes the most sense as customers cannot order less than the minimum of 1 product."
   ]
  },
  {
   "cell_type": "markdown",
   "id": "339725d2",
   "metadata": {},
   "source": [
    "<div class=\"alert alert-success\"; style=\"border-left: 7px solid green\">\n",
    "<b>✅ Reviewer's comment, v. 2</b> \n",
    "    \n",
    "✔️ You did it right now.\n",
    "   \n",
    "And we can think of the following explanation here - as you remember the maximum add-to-cart-order number is 64. \n",
    " \n",
    "And all of the orders with the missing values have more than 64 products in it. So, it looks like there is a problem of assigning an add-to-cart-order number if the item is added to the cart after 64th. Probably, it is some technical issue. \n",
    "    \n",
    "<div class=\"alert alert-danger\"; style=\"border-left: 7px solid red\">\n",
    "<b>⛔️ Reviewer's comment, v. 1</b> \n",
    "\n",
    "To answer the question you need to: \n",
    "    \n",
    "1. Save the IDs of the orders with missing `add_to_cart_order` to a list. \n",
    "2. Select all the entries attributed to those order IDs into a separate dataframe.\n",
    "3. Group this new dataframe by order ID and check sizes of those groups - to find the minimum size.\n",
    "    \n",
    "Could you please try to do this?"
   ]
  },
  {
   "cell_type": "code",
   "execution_count": 40,
   "id": "7a987d08",
   "metadata": {},
   "outputs": [
    {
     "data": {
      "text/html": [
       "<div>\n",
       "<style scoped>\n",
       "    .dataframe tbody tr th:only-of-type {\n",
       "        vertical-align: middle;\n",
       "    }\n",
       "\n",
       "    .dataframe tbody tr th {\n",
       "        vertical-align: top;\n",
       "    }\n",
       "\n",
       "    .dataframe thead th {\n",
       "        text-align: right;\n",
       "    }\n",
       "</style>\n",
       "<table border=\"1\" class=\"dataframe\">\n",
       "  <thead>\n",
       "    <tr style=\"text-align: right;\">\n",
       "      <th></th>\n",
       "      <th>order_id</th>\n",
       "      <th>product_id</th>\n",
       "      <th>add_to_cart_order</th>\n",
       "      <th>reordered</th>\n",
       "    </tr>\n",
       "  </thead>\n",
       "  <tbody>\n",
       "    <tr>\n",
       "      <th>951079</th>\n",
       "      <td>2136777</td>\n",
       "      <td>46321</td>\n",
       "      <td>999</td>\n",
       "      <td>0</td>\n",
       "    </tr>\n",
       "    <tr>\n",
       "      <th>1889291</th>\n",
       "      <td>3125735</td>\n",
       "      <td>32701</td>\n",
       "      <td>999</td>\n",
       "      <td>1</td>\n",
       "    </tr>\n",
       "    <tr>\n",
       "      <th>1661040</th>\n",
       "      <td>2721963</td>\n",
       "      <td>16616</td>\n",
       "      <td>999</td>\n",
       "      <td>0</td>\n",
       "    </tr>\n",
       "    <tr>\n",
       "      <th>921753</th>\n",
       "      <td>1677118</td>\n",
       "      <td>13516</td>\n",
       "      <td>999</td>\n",
       "      <td>1</td>\n",
       "    </tr>\n",
       "    <tr>\n",
       "      <th>2165935</th>\n",
       "      <td>1386261</td>\n",
       "      <td>8133</td>\n",
       "      <td>999</td>\n",
       "      <td>0</td>\n",
       "    </tr>\n",
       "    <tr>\n",
       "      <th>4405705</th>\n",
       "      <td>1386261</td>\n",
       "      <td>32463</td>\n",
       "      <td>999</td>\n",
       "      <td>0</td>\n",
       "    </tr>\n",
       "    <tr>\n",
       "      <th>3023524</th>\n",
       "      <td>2136777</td>\n",
       "      <td>36724</td>\n",
       "      <td>999</td>\n",
       "      <td>1</td>\n",
       "    </tr>\n",
       "    <tr>\n",
       "      <th>102527</th>\n",
       "      <td>903110</td>\n",
       "      <td>41960</td>\n",
       "      <td>999</td>\n",
       "      <td>1</td>\n",
       "    </tr>\n",
       "    <tr>\n",
       "      <th>2742623</th>\n",
       "      <td>3308010</td>\n",
       "      <td>23645</td>\n",
       "      <td>999</td>\n",
       "      <td>1</td>\n",
       "    </tr>\n",
       "    <tr>\n",
       "      <th>3543181</th>\n",
       "      <td>1717990</td>\n",
       "      <td>41774</td>\n",
       "      <td>999</td>\n",
       "      <td>0</td>\n",
       "    </tr>\n",
       "    <tr>\n",
       "      <th>583941</th>\n",
       "      <td>1959075</td>\n",
       "      <td>11422</td>\n",
       "      <td>999</td>\n",
       "      <td>1</td>\n",
       "    </tr>\n",
       "    <tr>\n",
       "      <th>1556527</th>\n",
       "      <td>3308010</td>\n",
       "      <td>48109</td>\n",
       "      <td>999</td>\n",
       "      <td>1</td>\n",
       "    </tr>\n",
       "    <tr>\n",
       "      <th>2131765</th>\n",
       "      <td>2449164</td>\n",
       "      <td>24009</td>\n",
       "      <td>999</td>\n",
       "      <td>0</td>\n",
       "    </tr>\n",
       "    <tr>\n",
       "      <th>3950033</th>\n",
       "      <td>1961723</td>\n",
       "      <td>46724</td>\n",
       "      <td>999</td>\n",
       "      <td>0</td>\n",
       "    </tr>\n",
       "    <tr>\n",
       "      <th>630756</th>\n",
       "      <td>3308010</td>\n",
       "      <td>39450</td>\n",
       "      <td>999</td>\n",
       "      <td>1</td>\n",
       "    </tr>\n",
       "    <tr>\n",
       "      <th>285571</th>\n",
       "      <td>1386261</td>\n",
       "      <td>42846</td>\n",
       "      <td>999</td>\n",
       "      <td>0</td>\n",
       "    </tr>\n",
       "    <tr>\n",
       "      <th>3235336</th>\n",
       "      <td>2136777</td>\n",
       "      <td>37788</td>\n",
       "      <td>999</td>\n",
       "      <td>1</td>\n",
       "    </tr>\n",
       "    <tr>\n",
       "      <th>4294367</th>\n",
       "      <td>3347453</td>\n",
       "      <td>20876</td>\n",
       "      <td>999</td>\n",
       "      <td>0</td>\n",
       "    </tr>\n",
       "    <tr>\n",
       "      <th>4217570</th>\n",
       "      <td>171934</td>\n",
       "      <td>26376</td>\n",
       "      <td>999</td>\n",
       "      <td>0</td>\n",
       "    </tr>\n",
       "    <tr>\n",
       "      <th>398151</th>\n",
       "      <td>388234</td>\n",
       "      <td>7751</td>\n",
       "      <td>999</td>\n",
       "      <td>0</td>\n",
       "    </tr>\n",
       "    <tr>\n",
       "      <th>3786462</th>\n",
       "      <td>102236</td>\n",
       "      <td>27966</td>\n",
       "      <td>999</td>\n",
       "      <td>0</td>\n",
       "    </tr>\n",
       "    <tr>\n",
       "      <th>1356591</th>\n",
       "      <td>2926893</td>\n",
       "      <td>27663</td>\n",
       "      <td>999</td>\n",
       "      <td>0</td>\n",
       "    </tr>\n",
       "    <tr>\n",
       "      <th>3393290</th>\n",
       "      <td>1888628</td>\n",
       "      <td>8021</td>\n",
       "      <td>999</td>\n",
       "      <td>0</td>\n",
       "    </tr>\n",
       "    <tr>\n",
       "      <th>1249443</th>\n",
       "      <td>1673227</td>\n",
       "      <td>14378</td>\n",
       "      <td>999</td>\n",
       "      <td>0</td>\n",
       "    </tr>\n",
       "    <tr>\n",
       "      <th>4194693</th>\n",
       "      <td>1717990</td>\n",
       "      <td>5876</td>\n",
       "      <td>999</td>\n",
       "      <td>1</td>\n",
       "    </tr>\n",
       "  </tbody>\n",
       "</table>\n",
       "</div>"
      ],
      "text/plain": [
       "         order_id  product_id  add_to_cart_order  reordered\n",
       "951079    2136777       46321                999          0\n",
       "1889291   3125735       32701                999          1\n",
       "1661040   2721963       16616                999          0\n",
       "921753    1677118       13516                999          1\n",
       "2165935   1386261        8133                999          0\n",
       "4405705   1386261       32463                999          0\n",
       "3023524   2136777       36724                999          1\n",
       "102527     903110       41960                999          1\n",
       "2742623   3308010       23645                999          1\n",
       "3543181   1717990       41774                999          0\n",
       "583941    1959075       11422                999          1\n",
       "1556527   3308010       48109                999          1\n",
       "2131765   2449164       24009                999          0\n",
       "3950033   1961723       46724                999          0\n",
       "630756    3308010       39450                999          1\n",
       "285571    1386261       42846                999          0\n",
       "3235336   2136777       37788                999          1\n",
       "4294367   3347453       20876                999          0\n",
       "4217570    171934       26376                999          0\n",
       "398151     388234        7751                999          0\n",
       "3786462    102236       27966                999          0\n",
       "1356591   2926893       27663                999          0\n",
       "3393290   1888628        8021                999          0\n",
       "1249443   1673227       14378                999          0\n",
       "4194693   1717990        5876                999          1"
      ]
     },
     "execution_count": 40,
     "metadata": {},
     "output_type": "execute_result"
    }
   ],
   "source": [
    "# Replace missing values with 999 and convert column to integer type\n",
    "\n",
    "order_products['add_to_cart_order'] = order_products['add_to_cart_order'].fillna('999') #filling missing values\n",
    "order_products['add_to_cart_order'] = pd.to_numeric(order_products['add_to_cart_order'], errors = 'coerce')\n",
    "order_products['add_to_cart_order'] = order_products['add_to_cart_order'].astype('int') #changing from float to int\n",
    "large_orders = order_products.query('add_to_cart_order == 999')\n",
    "large_orders.sample(25) #checking the results"
   ]
  },
  {
   "cell_type": "markdown",
   "id": "0effd51d",
   "metadata": {},
   "source": [
    "<div class=\"alert alert-success\"; style=\"border-left: 7px solid green\">\n",
    "<b>✅ Reviewer's comment, v. 1</b> \n",
    "    \n",
    "Good."
   ]
  },
  {
   "cell_type": "markdown",
   "id": "fea4bcc7",
   "metadata": {},
   "source": []
  },
  {
   "cell_type": "markdown",
   "id": "3d0135a4",
   "metadata": {},
   "source": [
    "In this section, we have checked for missing values in the \"order_products\" dataset and determined that all missing values correspond to orders with more than 64 products. We have replaced this value with \"999\". "
   ]
  },
  {
   "cell_type": "markdown",
   "id": "turkish-kidney",
   "metadata": {},
   "source": [
    "# [A] Easy (must complete all to pass)"
   ]
  },
  {
   "cell_type": "markdown",
   "id": "short-capability",
   "metadata": {},
   "source": [
    "### [A1] Verify that the `'order_hour_of_day'` and `'order_dow'` values in the `orders` tables are sensible (i.e. `'order_hour_of_day'` ranges from 0 to 23 and `'order_dow'` ranges from 0 to 6)"
   ]
  },
  {
   "cell_type": "code",
   "execution_count": 41,
   "id": "growing-fruit",
   "metadata": {
    "scrolled": true
   },
   "outputs": [
    {
     "data": {
      "text/plain": [
       "array([ 0,  1,  2,  3,  4,  5,  6,  7,  8,  9, 10, 11, 12, 13, 14, 15, 16,\n",
       "       17, 18, 19, 20, 21, 22, 23])"
      ]
     },
     "execution_count": 41,
     "metadata": {},
     "output_type": "execute_result"
    }
   ],
   "source": [
    "orders['order_hour_of_day'].sort_values().unique()"
   ]
  },
  {
   "cell_type": "markdown",
   "id": "3b6d69fc",
   "metadata": {},
   "source": [
    "We see here that the values correspond to the 24 hour format."
   ]
  },
  {
   "cell_type": "code",
   "execution_count": 42,
   "id": "accessory-malaysia",
   "metadata": {},
   "outputs": [
    {
     "data": {
      "text/plain": [
       "array([0, 1, 2, 3, 4, 5, 6])"
      ]
     },
     "execution_count": 42,
     "metadata": {},
     "output_type": "execute_result"
    }
   ],
   "source": [
    "orders['order_dow'].sort_values().unique()"
   ]
  },
  {
   "cell_type": "markdown",
   "id": "8336c0a5",
   "metadata": {},
   "source": [
    "We see here that the values correspond to the 7 days of the week."
   ]
  },
  {
   "cell_type": "markdown",
   "id": "b9b274f2",
   "metadata": {},
   "source": [
    "<div class=\"alert alert-success\"; style=\"border-left: 7px solid green\">\n",
    "<b>✅ Reviewer's comment, v. 1</b> \n",
    "    \n",
    "Well done."
   ]
  },
  {
   "cell_type": "markdown",
   "id": "a6743a70",
   "metadata": {},
   "source": [
    "### [A2] What time of day do people shop for groceries?"
   ]
  },
  {
   "cell_type": "code",
   "execution_count": 43,
   "id": "a36cca27",
   "metadata": {},
   "outputs": [
    {
     "data": {
      "image/png": "[encoded data removed]",
      "text/plain": [
       "<Figure size 640x480 with 1 Axes>"
      ]
     },
     "metadata": {},
     "output_type": "display_data"
    }
   ],
   "source": [
    "import matplotlib.pyplot as plt\n",
    "orders['order_hour_of_day'].plot(kind = 'hist', bins = 24, title= 'Time of day that people shop for groceries')\n",
    "plt.xlabel(\"Hour in 24-hour format\")\n",
    "plt.show() #v3, total flub\n",
    "#v2"
   ]
  },
  {
   "cell_type": "markdown",
   "id": "3f737eff",
   "metadata": {},
   "source": [
    "We can see the customers shop for groceries at all times of the day,\n",
    "however it is drastically higher beginning at 7am and peaking at 10am.\n",
    "The amount of orders tapers off for the rest of the day until really declining at about 10pm. "
   ]
  },
  {
   "cell_type": "markdown",
   "id": "24ccb6f5",
   "metadata": {},
   "source": [
    "<div class=\"alert alert-success\"; style=\"border-left: 7px solid green\">\n",
    "<b>✅ Reviewer's comment, v. 3</b> \n",
    "    \n",
    "✔️ \n",
    "    \n",
    "\n",
    "\n",
    "<div class=\"alert alert-warning\"; style=\"border-left: 7px solid gold\">\n",
    "<b>⚠️ Reviewer's comment, v. 2</b> \n",
    "\n",
    "\n",
    "Good chart. Please write `plt.show()` instead of `plt.show`. Then the technical lines above the chart won't be displayed.    \n",
    "\n",
    "    \n",
    "<div class=\"alert alert-danger\"; style=\"border-left: 7px solid red\">\n",
    "<b>⛔️ Reviewer's comment, v. 1</b> \n",
    "\n",
    "You need to add chart here and in the next two tasks (it's stated in the project brief). Could you please do that?"
   ]
  },
  {
   "cell_type": "code",
   "execution_count": null,
   "id": "2286df08",
   "metadata": {},
   "outputs": [],
   "source": []
  },
  {
   "cell_type": "markdown",
   "id": "11270eed",
   "metadata": {},
   "source": []
  },
  {
   "cell_type": "markdown",
   "id": "documented-command",
   "metadata": {},
   "source": [
    "### [A3] What day of the week do people shop for groceries?"
   ]
  },
  {
   "cell_type": "code",
   "execution_count": null,
   "id": "chief-digit",
   "metadata": {},
   "outputs": [],
   "source": []
  },
  {
   "cell_type": "markdown",
   "id": "dominant-lightning",
   "metadata": {},
   "source": []
  },
  {
   "cell_type": "code",
   "execution_count": 44,
   "id": "175b8d45",
   "metadata": {},
   "outputs": [
    {
     "data": {
      "image/png": "[encoded data removed]",
      "text/plain": [
       "<Figure size 640x480 with 1 Axes>"
      ]
     },
     "metadata": {},
     "output_type": "display_data"
    }
   ],
   "source": [
    "orders['order_dow'].plot(kind = 'hist', bins = 7, title = 'Day of the week people shop for groceries')\n",
    "plt.xlabel('Day of the week (Monday = 0)')\n",
    "plt.show() #v3"
   ]
  },
  {
   "cell_type": "markdown",
   "id": "7cef263f",
   "metadata": {},
   "source": [
    "The data tells us that people shop for groceries on all days of the week, with the highest amount of orders on Monday\n",
    "and the lowest amount of orders on Friday"
   ]
  },
  {
   "cell_type": "markdown",
   "id": "017d3a36",
   "metadata": {},
   "source": [
    "<div class=\"alert alert-success\"; style=\"border-left: 7px solid green\">\n",
    "<b>✅ Reviewer's comment, v. 2</b> \n",
    "    \n",
    "✔️ Good."
   ]
  },
  {
   "cell_type": "markdown",
   "id": "cutting-concert",
   "metadata": {},
   "source": [
    "### [A4] How long do people wait until placing another order?"
   ]
  },
  {
   "cell_type": "code",
   "execution_count": 45,
   "id": "c231f523",
   "metadata": {},
   "outputs": [
    {
     "data": {
      "text/plain": [
       "11.101813900274362"
      ]
     },
     "execution_count": 45,
     "metadata": {},
     "output_type": "execute_result"
    }
   ],
   "source": [
    "orders['days_since_prior_order'].mean()"
   ]
  },
  {
   "cell_type": "code",
   "execution_count": 46,
   "id": "6dbf0b33",
   "metadata": {},
   "outputs": [
    {
     "data": {
      "image/png": "[encoded data removed]",
      "text/plain": [
       "<Figure size 640x480 with 1 Axes>"
      ]
     },
     "metadata": {},
     "output_type": "display_data"
    }
   ],
   "source": [
    "orders['days_since_prior_order'].plot(kind = 'hist', bins =10, title ='Amount of time waited before reordering')\n",
    "plt.xlabel('Amount of days waited')\n",
    "plt.show()"
   ]
  },
  {
   "cell_type": "markdown",
   "id": "discrete-vertex",
   "metadata": {},
   "source": []
  },
  {
   "cell_type": "markdown",
   "id": "a04f6da0",
   "metadata": {},
   "source": [
    "On average, people are waiting about 11 days until placing another order. Perhaps incentivize a new order at this time?\n",
    "\n",
    "(v2) We can also observe that many people in the dataset are only waiting about 7 days or less to reorder. The amount of people reordering after 10 days rapidly declines until about 25-30 days, where there is a sudden increase of customers reordering. Perhaps people only like to order once a month."
   ]
  },
  {
   "cell_type": "markdown",
   "id": "c6175ac7",
   "metadata": {},
   "source": [
    "<div class=\"alert alert-success\"; style=\"border-left: 7px solid green\">\n",
    "<b>✅ Reviewer's comment, v. 2</b> \n",
    "    \n",
    "✔️ Yes, you are right."
   ]
  },
  {
   "cell_type": "markdown",
   "id": "8d926614",
   "metadata": {},
   "source": []
  },
  {
   "cell_type": "markdown",
   "id": "tight-staff",
   "metadata": {},
   "source": [
    "# [B] Medium (must complete all to pass)"
   ]
  },
  {
   "cell_type": "markdown",
   "id": "packed-classic",
   "metadata": {},
   "source": [
    "### [B1] Is there a difference in `'order_hour_of_day'` distributions on Wednesdays and Saturdays? Plot the histograms for both days and describe the differences that you see."
   ]
  },
  {
   "cell_type": "code",
   "execution_count": null,
   "id": "d89b8403",
   "metadata": {},
   "outputs": [],
   "source": []
  },
  {
   "cell_type": "code",
   "execution_count": 47,
   "id": "94e54e8a",
   "metadata": {},
   "outputs": [
    {
     "data": {
      "image/png": "[encoded data removed]",
      "text/plain": [
       "<Figure size 640x480 with 1 Axes>"
      ]
     },
     "metadata": {},
     "output_type": "display_data"
    }
   ],
   "source": [
    "wed_orders = orders[orders['order_dow'] == 2]\n",
    "sat_orders = orders[orders['order_dow'] == 5]\n",
    "wed_orders['order_hour_of_day'].plot(kind = 'hist', bins = 24, ylabel = \"Amount\", title = 'Wednesday vs. Saturday orders by hour')\n",
    "sat_orders['order_hour_of_day'].plot(kind = 'hist', bins = 24, ylabel = \"Amount\", alpha = 0.7)\n",
    "plt.xlabel('Hour in 24-hr format') #v2\n",
    "plt.legend(['Wednesday', 'Saturday'])\n",
    "plt.show()"
   ]
  },
  {
   "cell_type": "markdown",
   "id": "df816bbf",
   "metadata": {},
   "source": [
    "I'm not sure why my y-label is not working here!"
   ]
  },
  {
   "cell_type": "markdown",
   "id": "73b802f4",
   "metadata": {},
   "source": [
    "<div class=\"alert alert-success\"; style=\"border-left: 7px solid green\">\n",
    "<b>✅ Reviewer's comment, v. 3</b> \n",
    "    \n",
    "✔️ \n",
    "    \n",
    "\n",
    "\n",
    "<div class=\"alert alert-warning\"; style=\"border-left: 7px solid gold\">\n",
    "<b>⚠️ Reviewer's comment, v. 1</b> \n",
    "\n",
    "Please see above - I added the method, with which you can label the axis."
   ]
  },
  {
   "cell_type": "markdown",
   "id": "a008744c",
   "metadata": {},
   "source": [
    "Here we can see the distribution in orders per hour is very similar for both of these days. Wednesday tends to be consistently higher in peak hours but not by much."
   ]
  },
  {
   "cell_type": "markdown",
   "id": "02d855b1",
   "metadata": {},
   "source": [
    "<div class=\"alert alert-success\"; style=\"border-left: 7px solid green\">\n",
    "<b>✅ Reviewer's comment, v. 1</b> \n",
    "    \n",
    "OK."
   ]
  },
  {
   "cell_type": "markdown",
   "id": "charitable-congo",
   "metadata": {},
   "source": []
  },
  {
   "cell_type": "markdown",
   "id": "e3891143",
   "metadata": {},
   "source": [
    "### [B2] What's the distribution for the number of orders per customer?"
   ]
  },
  {
   "cell_type": "code",
   "execution_count": 48,
   "id": "d8c26c23",
   "metadata": {},
   "outputs": [
    {
     "data": {
      "text/plain": [
       "149605    28\n",
       "193164    26\n",
       "78375     25\n",
       "148162    24\n",
       "66664     24\n",
       "          ..\n",
       "166116     1\n",
       "63564      1\n",
       "170214     1\n",
       "51274      1\n",
       "2047       1\n",
       "Name: user_id, Length: 157437, dtype: int64"
      ]
     },
     "execution_count": 48,
     "metadata": {},
     "output_type": "execute_result"
    }
   ],
   "source": [
    "customer_order_counts = orders['user_id'].value_counts()\n",
    "customer_order_counts"
   ]
  },
  {
   "cell_type": "code",
   "execution_count": 49,
   "id": "00e69a66",
   "metadata": {},
   "outputs": [
    {
     "data": {
      "image/png": "[encoded data removed]",
      "text/plain": [
       "<Figure size 640x480 with 1 Axes>"
      ]
     },
     "metadata": {},
     "output_type": "display_data"
    }
   ],
   "source": [
    "customer_order_counts.plot(kind = 'hist', bins = 10, title = 'Frequency of Number of Orders Placed')\n",
    "plt.xlabel('Number of Orders Placed')\n",
    "plt.show()"
   ]
  },
  {
   "cell_type": "markdown",
   "id": "60093a87",
   "metadata": {},
   "source": [
    "Common sense dictates that all customers placed at least one order, however\n",
    "we can also see that the number of customers that placed at least 5 orders is DRASTICALLY lower, and after 10 orders it has dropped off to just a small fraction of customers. 25 orders and above is practically non-existent."
   ]
  },
  {
   "cell_type": "markdown",
   "id": "8607ac65",
   "metadata": {},
   "source": [
    "<div class=\"alert alert-success\"; style=\"border-left: 7px solid green\">\n",
    "<b>✅ Reviewer's comment, v. 1</b> \n",
    "    \n",
    "Good chart and correct conclusion."
   ]
  },
  {
   "cell_type": "markdown",
   "id": "d2eff7d5",
   "metadata": {},
   "source": []
  },
  {
   "cell_type": "markdown",
   "id": "54a0319c",
   "metadata": {},
   "source": [
    "### [B3] What are the top 20 popular products (display their id and name)?"
   ]
  },
  {
   "cell_type": "code",
   "execution_count": 50,
   "id": "exterior-arizona",
   "metadata": {
    "scrolled": true
   },
   "outputs": [],
   "source": [
    "product_counts = order_products['product_id'].sort_values().value_counts().reset_index()\n",
    "product_counts.columns = ['product_id', 'order_count']\n",
    "top_20 = product_counts.merge(products, on = 'product_id', how = 'left')"
   ]
  },
  {
   "cell_type": "code",
   "execution_count": 51,
   "id": "universal-facial",
   "metadata": {},
   "outputs": [
    {
     "data": {
      "text/html": [
       "<div>\n",
       "<style scoped>\n",
       "    .dataframe tbody tr th:only-of-type {\n",
       "        vertical-align: middle;\n",
       "    }\n",
       "\n",
       "    .dataframe tbody tr th {\n",
       "        vertical-align: top;\n",
       "    }\n",
       "\n",
       "    .dataframe thead th {\n",
       "        text-align: right;\n",
       "    }\n",
       "</style>\n",
       "<table border=\"1\" class=\"dataframe\">\n",
       "  <thead>\n",
       "    <tr style=\"text-align: right;\">\n",
       "      <th></th>\n",
       "      <th>product_id</th>\n",
       "      <th>order_count</th>\n",
       "      <th>product_name</th>\n",
       "      <th>aisle_id</th>\n",
       "      <th>department_id</th>\n",
       "    </tr>\n",
       "  </thead>\n",
       "  <tbody>\n",
       "    <tr>\n",
       "      <th>0</th>\n",
       "      <td>24852</td>\n",
       "      <td>66050</td>\n",
       "      <td>banana</td>\n",
       "      <td>24</td>\n",
       "      <td>4</td>\n",
       "    </tr>\n",
       "    <tr>\n",
       "      <th>1</th>\n",
       "      <td>13176</td>\n",
       "      <td>53297</td>\n",
       "      <td>bag of organic bananas</td>\n",
       "      <td>24</td>\n",
       "      <td>4</td>\n",
       "    </tr>\n",
       "    <tr>\n",
       "      <th>2</th>\n",
       "      <td>21137</td>\n",
       "      <td>37039</td>\n",
       "      <td>organic strawberries</td>\n",
       "      <td>24</td>\n",
       "      <td>4</td>\n",
       "    </tr>\n",
       "    <tr>\n",
       "      <th>3</th>\n",
       "      <td>21903</td>\n",
       "      <td>33971</td>\n",
       "      <td>organic baby spinach</td>\n",
       "      <td>123</td>\n",
       "      <td>4</td>\n",
       "    </tr>\n",
       "    <tr>\n",
       "      <th>4</th>\n",
       "      <td>47209</td>\n",
       "      <td>29773</td>\n",
       "      <td>organic hass avocado</td>\n",
       "      <td>24</td>\n",
       "      <td>4</td>\n",
       "    </tr>\n",
       "    <tr>\n",
       "      <th>5</th>\n",
       "      <td>47766</td>\n",
       "      <td>24689</td>\n",
       "      <td>organic avocado</td>\n",
       "      <td>24</td>\n",
       "      <td>4</td>\n",
       "    </tr>\n",
       "    <tr>\n",
       "      <th>6</th>\n",
       "      <td>47626</td>\n",
       "      <td>21495</td>\n",
       "      <td>large lemon</td>\n",
       "      <td>24</td>\n",
       "      <td>4</td>\n",
       "    </tr>\n",
       "    <tr>\n",
       "      <th>7</th>\n",
       "      <td>16797</td>\n",
       "      <td>20018</td>\n",
       "      <td>strawberries</td>\n",
       "      <td>24</td>\n",
       "      <td>4</td>\n",
       "    </tr>\n",
       "    <tr>\n",
       "      <th>8</th>\n",
       "      <td>26209</td>\n",
       "      <td>19690</td>\n",
       "      <td>limes</td>\n",
       "      <td>24</td>\n",
       "      <td>4</td>\n",
       "    </tr>\n",
       "    <tr>\n",
       "      <th>9</th>\n",
       "      <td>27845</td>\n",
       "      <td>19600</td>\n",
       "      <td>organic whole milk</td>\n",
       "      <td>84</td>\n",
       "      <td>16</td>\n",
       "    </tr>\n",
       "    <tr>\n",
       "      <th>10</th>\n",
       "      <td>27966</td>\n",
       "      <td>19197</td>\n",
       "      <td>organic raspberries</td>\n",
       "      <td>123</td>\n",
       "      <td>4</td>\n",
       "    </tr>\n",
       "    <tr>\n",
       "      <th>11</th>\n",
       "      <td>22935</td>\n",
       "      <td>15898</td>\n",
       "      <td>organic yellow onion</td>\n",
       "      <td>83</td>\n",
       "      <td>4</td>\n",
       "    </tr>\n",
       "    <tr>\n",
       "      <th>12</th>\n",
       "      <td>24964</td>\n",
       "      <td>15292</td>\n",
       "      <td>organic garlic</td>\n",
       "      <td>83</td>\n",
       "      <td>4</td>\n",
       "    </tr>\n",
       "    <tr>\n",
       "      <th>13</th>\n",
       "      <td>45007</td>\n",
       "      <td>14584</td>\n",
       "      <td>organic zucchini</td>\n",
       "      <td>83</td>\n",
       "      <td>4</td>\n",
       "    </tr>\n",
       "    <tr>\n",
       "      <th>14</th>\n",
       "      <td>39275</td>\n",
       "      <td>13879</td>\n",
       "      <td>organic blueberries</td>\n",
       "      <td>123</td>\n",
       "      <td>4</td>\n",
       "    </tr>\n",
       "    <tr>\n",
       "      <th>15</th>\n",
       "      <td>49683</td>\n",
       "      <td>13675</td>\n",
       "      <td>cucumber kirby</td>\n",
       "      <td>83</td>\n",
       "      <td>4</td>\n",
       "    </tr>\n",
       "    <tr>\n",
       "      <th>16</th>\n",
       "      <td>28204</td>\n",
       "      <td>12544</td>\n",
       "      <td>organic fuji apple</td>\n",
       "      <td>24</td>\n",
       "      <td>4</td>\n",
       "    </tr>\n",
       "    <tr>\n",
       "      <th>17</th>\n",
       "      <td>5876</td>\n",
       "      <td>12232</td>\n",
       "      <td>organic lemon</td>\n",
       "      <td>24</td>\n",
       "      <td>4</td>\n",
       "    </tr>\n",
       "    <tr>\n",
       "      <th>18</th>\n",
       "      <td>8277</td>\n",
       "      <td>11993</td>\n",
       "      <td>apple honeycrisp organic</td>\n",
       "      <td>24</td>\n",
       "      <td>4</td>\n",
       "    </tr>\n",
       "    <tr>\n",
       "      <th>19</th>\n",
       "      <td>40706</td>\n",
       "      <td>11781</td>\n",
       "      <td>organic grape tomatoes</td>\n",
       "      <td>123</td>\n",
       "      <td>4</td>\n",
       "    </tr>\n",
       "  </tbody>\n",
       "</table>\n",
       "</div>"
      ],
      "text/plain": [
       "    product_id  order_count              product_name  aisle_id  department_id\n",
       "0        24852        66050                    banana        24              4\n",
       "1        13176        53297    bag of organic bananas        24              4\n",
       "2        21137        37039      organic strawberries        24              4\n",
       "3        21903        33971      organic baby spinach       123              4\n",
       "4        47209        29773      organic hass avocado        24              4\n",
       "5        47766        24689           organic avocado        24              4\n",
       "6        47626        21495               large lemon        24              4\n",
       "7        16797        20018              strawberries        24              4\n",
       "8        26209        19690                     limes        24              4\n",
       "9        27845        19600        organic whole milk        84             16\n",
       "10       27966        19197       organic raspberries       123              4\n",
       "11       22935        15898      organic yellow onion        83              4\n",
       "12       24964        15292            organic garlic        83              4\n",
       "13       45007        14584          organic zucchini        83              4\n",
       "14       39275        13879       organic blueberries       123              4\n",
       "15       49683        13675            cucumber kirby        83              4\n",
       "16       28204        12544        organic fuji apple        24              4\n",
       "17        5876        12232             organic lemon        24              4\n",
       "18        8277        11993  apple honeycrisp organic        24              4\n",
       "19       40706        11781    organic grape tomatoes       123              4"
      ]
     },
     "execution_count": 51,
     "metadata": {},
     "output_type": "execute_result"
    }
   ],
   "source": [
    "top_20 = top_20.sort_values(by='order_count', ascending=False).head(20)\n",
    "top_20"
   ]
  },
  {
   "cell_type": "markdown",
   "id": "c77603d3",
   "metadata": {},
   "source": [
    "<div class=\"alert alert-success\"; style=\"border-left: 7px solid green\">\n",
    "<b>✅ Reviewer's comment, v. 1</b> \n",
    "    \n",
    "This is correct list."
   ]
  },
  {
   "cell_type": "code",
   "execution_count": null,
   "id": "bbcdd20b",
   "metadata": {},
   "outputs": [],
   "source": []
  },
  {
   "cell_type": "markdown",
   "id": "7df00f47",
   "metadata": {},
   "source": []
  },
  {
   "cell_type": "markdown",
   "id": "gross-theme",
   "metadata": {},
   "source": [
    "# [C] Hard (must complete at least two to pass)"
   ]
  },
  {
   "cell_type": "markdown",
   "id": "romantic-deposit",
   "metadata": {},
   "source": [
    "### [C1] How many items do people typically buy in one order? What does the distribution look like?"
   ]
  },
  {
   "cell_type": "code",
   "execution_count": 52,
   "id": "virtual-punch",
   "metadata": {},
   "outputs": [
    {
     "data": {
      "text/plain": [
       "order_id\n",
       "4          13\n",
       "9          15\n",
       "11          5\n",
       "19          3\n",
       "20          8\n",
       "           ..\n",
       "3421034    17\n",
       "3421053     9\n",
       "3421071     5\n",
       "3421077     4\n",
       "3421079     1\n",
       "Length: 450046, dtype: int64"
      ]
     },
     "execution_count": 52,
     "metadata": {},
     "output_type": "execute_result"
    }
   ],
   "source": [
    "items_per_order = order_products.groupby('order_id').size()\n",
    "items_per_order"
   ]
  },
  {
   "cell_type": "code",
   "execution_count": 53,
   "id": "sensitive-breathing",
   "metadata": {},
   "outputs": [
    {
     "data": {
      "image/png": "[encoded data removed]",
      "text/plain": [
       "<Figure size 640x480 with 1 Axes>"
      ]
     },
     "metadata": {},
     "output_type": "display_data"
    }
   ],
   "source": [
    "items_per_order.plot(kind = 'hist', bins = 40, title = \"Typical number of items bought in one order\") #v2\n",
    "plt.xlabel('Items bought in one order')\n",
    "plt.show()"
   ]
  },
  {
   "cell_type": "markdown",
   "id": "c5b0b1e3",
   "metadata": {},
   "source": [
    "We can see that most people typically buy ten or less products when using Instacart. The distribution of customers that buy\n",
    "10 or more products drastically decreases, and 30 or more products has a very small distribution of orders."
   ]
  },
  {
   "cell_type": "markdown",
   "id": "f15b36d5",
   "metadata": {},
   "source": [
    "<div class=\"alert alert-success\"; style=\"border-left: 7px solid green\">\n",
    "<b>✅ Reviewer's comment, v. 3</b> \n",
    "    \n",
    "✔️ \n",
    "    \n",
    "\n",
    "\n",
    "<div class=\"alert alert-warning\"; style=\"border-left: 7px solid gold\">\n",
    "<b>⚠️ Reviewer's comment, v. 1</b> \n",
    "\n",
    "You can look at the full distribution, without limiting it to 60 items.\n",
    "    \n",
    "---\n",
    "    \n",
    "You need to add brackets after `plt.show`, then the method will work.\n",
    "    \n",
    "---\n",
    "\n",
    "\n",
    "Please pay attention to formatting the charts. In the next projects the following aspects will be checked:\n",
    "    \n",
    "- whether chart has a title (can be added with `plt.title('Title')` code), \n",
    "- whether axes have names (can be named with `plt.ylabel('Name of y-axis')` and `plt.xlabel('Name of x-axis')`),\n",
    "- whether technical info above the chart is removed by using `plt.show()` or `;` after the plotting function.\n",
    "    \n",
    "\n"
   ]
  },
  {
   "cell_type": "markdown",
   "id": "12150e07",
   "metadata": {},
   "source": [
    "<div class=\"alert alert-success\"; style=\"border-left: 7px solid green\">\n",
    "<b>✅ Reviewer's comment, v. 1</b> \n",
    "    \n",
    "Overall, you made correct conclusions from the chart."
   ]
  },
  {
   "cell_type": "code",
   "execution_count": null,
   "id": "9252bcb4",
   "metadata": {},
   "outputs": [],
   "source": []
  },
  {
   "cell_type": "markdown",
   "id": "5e6b5537",
   "metadata": {},
   "source": [
    "### [C2] What are the top 20 items that are reordered most frequently (display their names and product IDs)?"
   ]
  },
  {
   "cell_type": "code",
   "execution_count": null,
   "id": "9374e55a",
   "metadata": {},
   "outputs": [],
   "source": []
  },
  {
   "cell_type": "code",
   "execution_count": null,
   "id": "possible-change",
   "metadata": {
    "scrolled": true
   },
   "outputs": [],
   "source": []
  },
  {
   "cell_type": "code",
   "execution_count": null,
   "id": "professional-surfing",
   "metadata": {
    "scrolled": true
   },
   "outputs": [],
   "source": []
  },
  {
   "cell_type": "code",
   "execution_count": null,
   "id": "48dd3658",
   "metadata": {},
   "outputs": [],
   "source": []
  },
  {
   "cell_type": "markdown",
   "id": "80e70c74",
   "metadata": {},
   "source": []
  },
  {
   "cell_type": "markdown",
   "id": "9d312b14",
   "metadata": {},
   "source": [
    "### [C3] For each product, what proportion of its orders are reorders?"
   ]
  },
  {
   "cell_type": "code",
   "execution_count": null,
   "id": "8ae9f4b1",
   "metadata": {},
   "outputs": [],
   "source": []
  },
  {
   "cell_type": "code",
   "execution_count": null,
   "id": "103e7fe1",
   "metadata": {},
   "outputs": [],
   "source": []
  },
  {
   "cell_type": "code",
   "execution_count": null,
   "id": "social-individual",
   "metadata": {},
   "outputs": [],
   "source": []
  },
  {
   "cell_type": "markdown",
   "id": "subject-boxing",
   "metadata": {},
   "source": [
    "### [C4] For each customer, what proportion of their products ordered are reorders?"
   ]
  },
  {
   "cell_type": "code",
   "execution_count": null,
   "id": "medical-couple",
   "metadata": {
    "scrolled": true
   },
   "outputs": [],
   "source": []
  },
  {
   "cell_type": "code",
   "execution_count": null,
   "id": "8892e4b4",
   "metadata": {},
   "outputs": [],
   "source": []
  },
  {
   "cell_type": "markdown",
   "id": "92d35137",
   "metadata": {},
   "source": [
    "### [C5] What are the top 20 items that people put in their carts first? "
   ]
  },
  {
   "cell_type": "code",
   "execution_count": 54,
   "id": "0ae57274",
   "metadata": {
    "scrolled": true
   },
   "outputs": [],
   "source": [
    "first_items = order_products[order_products['add_to_cart_order'] == 1]\n",
    "first_item_counts = first_items['product_id'].value_counts().reset_index()\n",
    "first_item_counts.columns = ['product_id', 'first_item_count']\n"
   ]
  },
  {
   "cell_type": "code",
   "execution_count": 55,
   "id": "forty-netherlands",
   "metadata": {
    "scrolled": true
   },
   "outputs": [],
   "source": [
    "top_first_items = pd.merge(first_item_counts, products, on='product_id')"
   ]
  },
  {
   "cell_type": "code",
   "execution_count": 56,
   "id": "08e41ec2",
   "metadata": {},
   "outputs": [
    {
     "data": {
      "text/html": [
       "<div>\n",
       "<style scoped>\n",
       "    .dataframe tbody tr th:only-of-type {\n",
       "        vertical-align: middle;\n",
       "    }\n",
       "\n",
       "    .dataframe tbody tr th {\n",
       "        vertical-align: top;\n",
       "    }\n",
       "\n",
       "    .dataframe thead th {\n",
       "        text-align: right;\n",
       "    }\n",
       "</style>\n",
       "<table border=\"1\" class=\"dataframe\">\n",
       "  <thead>\n",
       "    <tr style=\"text-align: right;\">\n",
       "      <th></th>\n",
       "      <th>product_id</th>\n",
       "      <th>first_item_count</th>\n",
       "      <th>product_name</th>\n",
       "      <th>aisle_id</th>\n",
       "      <th>department_id</th>\n",
       "    </tr>\n",
       "  </thead>\n",
       "  <tbody>\n",
       "    <tr>\n",
       "      <th>0</th>\n",
       "      <td>24852</td>\n",
       "      <td>15562</td>\n",
       "      <td>banana</td>\n",
       "      <td>24</td>\n",
       "      <td>4</td>\n",
       "    </tr>\n",
       "    <tr>\n",
       "      <th>1</th>\n",
       "      <td>13176</td>\n",
       "      <td>11026</td>\n",
       "      <td>bag of organic bananas</td>\n",
       "      <td>24</td>\n",
       "      <td>4</td>\n",
       "    </tr>\n",
       "    <tr>\n",
       "      <th>2</th>\n",
       "      <td>27845</td>\n",
       "      <td>4363</td>\n",
       "      <td>organic whole milk</td>\n",
       "      <td>84</td>\n",
       "      <td>16</td>\n",
       "    </tr>\n",
       "    <tr>\n",
       "      <th>3</th>\n",
       "      <td>21137</td>\n",
       "      <td>3946</td>\n",
       "      <td>organic strawberries</td>\n",
       "      <td>24</td>\n",
       "      <td>4</td>\n",
       "    </tr>\n",
       "    <tr>\n",
       "      <th>4</th>\n",
       "      <td>47209</td>\n",
       "      <td>3390</td>\n",
       "      <td>organic hass avocado</td>\n",
       "      <td>24</td>\n",
       "      <td>4</td>\n",
       "    </tr>\n",
       "    <tr>\n",
       "      <th>5</th>\n",
       "      <td>21903</td>\n",
       "      <td>3336</td>\n",
       "      <td>organic baby spinach</td>\n",
       "      <td>123</td>\n",
       "      <td>4</td>\n",
       "    </tr>\n",
       "    <tr>\n",
       "      <th>6</th>\n",
       "      <td>47766</td>\n",
       "      <td>3044</td>\n",
       "      <td>organic avocado</td>\n",
       "      <td>24</td>\n",
       "      <td>4</td>\n",
       "    </tr>\n",
       "    <tr>\n",
       "      <th>7</th>\n",
       "      <td>19660</td>\n",
       "      <td>2336</td>\n",
       "      <td>spring water</td>\n",
       "      <td>115</td>\n",
       "      <td>7</td>\n",
       "    </tr>\n",
       "    <tr>\n",
       "      <th>8</th>\n",
       "      <td>16797</td>\n",
       "      <td>2308</td>\n",
       "      <td>strawberries</td>\n",
       "      <td>24</td>\n",
       "      <td>4</td>\n",
       "    </tr>\n",
       "    <tr>\n",
       "      <th>9</th>\n",
       "      <td>27966</td>\n",
       "      <td>2024</td>\n",
       "      <td>organic raspberries</td>\n",
       "      <td>123</td>\n",
       "      <td>4</td>\n",
       "    </tr>\n",
       "    <tr>\n",
       "      <th>10</th>\n",
       "      <td>44632</td>\n",
       "      <td>1914</td>\n",
       "      <td>sparkling water grapefruit</td>\n",
       "      <td>115</td>\n",
       "      <td>7</td>\n",
       "    </tr>\n",
       "    <tr>\n",
       "      <th>11</th>\n",
       "      <td>49235</td>\n",
       "      <td>1797</td>\n",
       "      <td>organic half &amp; half</td>\n",
       "      <td>53</td>\n",
       "      <td>16</td>\n",
       "    </tr>\n",
       "    <tr>\n",
       "      <th>12</th>\n",
       "      <td>47626</td>\n",
       "      <td>1737</td>\n",
       "      <td>large lemon</td>\n",
       "      <td>24</td>\n",
       "      <td>4</td>\n",
       "    </tr>\n",
       "    <tr>\n",
       "      <th>13</th>\n",
       "      <td>196</td>\n",
       "      <td>1733</td>\n",
       "      <td>soda</td>\n",
       "      <td>77</td>\n",
       "      <td>7</td>\n",
       "    </tr>\n",
       "    <tr>\n",
       "      <th>14</th>\n",
       "      <td>38689</td>\n",
       "      <td>1397</td>\n",
       "      <td>organic reduced fat milk</td>\n",
       "      <td>84</td>\n",
       "      <td>16</td>\n",
       "    </tr>\n",
       "    <tr>\n",
       "      <th>15</th>\n",
       "      <td>26209</td>\n",
       "      <td>1370</td>\n",
       "      <td>limes</td>\n",
       "      <td>24</td>\n",
       "      <td>4</td>\n",
       "    </tr>\n",
       "    <tr>\n",
       "      <th>16</th>\n",
       "      <td>12341</td>\n",
       "      <td>1340</td>\n",
       "      <td>hass avocados</td>\n",
       "      <td>32</td>\n",
       "      <td>4</td>\n",
       "    </tr>\n",
       "    <tr>\n",
       "      <th>17</th>\n",
       "      <td>5785</td>\n",
       "      <td>1310</td>\n",
       "      <td>organic reduced fat 2% milk</td>\n",
       "      <td>84</td>\n",
       "      <td>16</td>\n",
       "    </tr>\n",
       "    <tr>\n",
       "      <th>18</th>\n",
       "      <td>27086</td>\n",
       "      <td>1309</td>\n",
       "      <td>half &amp; half</td>\n",
       "      <td>53</td>\n",
       "      <td>16</td>\n",
       "    </tr>\n",
       "    <tr>\n",
       "      <th>19</th>\n",
       "      <td>22935</td>\n",
       "      <td>1246</td>\n",
       "      <td>organic yellow onion</td>\n",
       "      <td>83</td>\n",
       "      <td>4</td>\n",
       "    </tr>\n",
       "  </tbody>\n",
       "</table>\n",
       "</div>"
      ],
      "text/plain": [
       "    product_id  first_item_count                 product_name  aisle_id  \\\n",
       "0        24852             15562                       banana        24   \n",
       "1        13176             11026       bag of organic bananas        24   \n",
       "2        27845              4363           organic whole milk        84   \n",
       "3        21137              3946         organic strawberries        24   \n",
       "4        47209              3390         organic hass avocado        24   \n",
       "5        21903              3336         organic baby spinach       123   \n",
       "6        47766              3044              organic avocado        24   \n",
       "7        19660              2336                 spring water       115   \n",
       "8        16797              2308                 strawberries        24   \n",
       "9        27966              2024          organic raspberries       123   \n",
       "10       44632              1914   sparkling water grapefruit       115   \n",
       "11       49235              1797          organic half & half        53   \n",
       "12       47626              1737                  large lemon        24   \n",
       "13         196              1733                         soda        77   \n",
       "14       38689              1397     organic reduced fat milk        84   \n",
       "15       26209              1370                        limes        24   \n",
       "16       12341              1340                hass avocados        32   \n",
       "17        5785              1310  organic reduced fat 2% milk        84   \n",
       "18       27086              1309                  half & half        53   \n",
       "19       22935              1246         organic yellow onion        83   \n",
       "\n",
       "    department_id  \n",
       "0               4  \n",
       "1               4  \n",
       "2              16  \n",
       "3               4  \n",
       "4               4  \n",
       "5               4  \n",
       "6               4  \n",
       "7               7  \n",
       "8               4  \n",
       "9               4  \n",
       "10              7  \n",
       "11             16  \n",
       "12              4  \n",
       "13              7  \n",
       "14             16  \n",
       "15              4  \n",
       "16              4  \n",
       "17             16  \n",
       "18             16  \n",
       "19              4  "
      ]
     },
     "execution_count": 56,
     "metadata": {},
     "output_type": "execute_result"
    }
   ],
   "source": [
    "top_20_first_items = top_first_items.sort_values(by='first_item_count', ascending=False).head(20)\n",
    "top_20_first_items"
   ]
  },
  {
   "cell_type": "markdown",
   "id": "28ce9872",
   "metadata": {},
   "source": []
  },
  {
   "cell_type": "markdown",
   "id": "134b8e14",
   "metadata": {},
   "source": [
    "This is the list of the top 20 products placed first into customers' carts. Surprisingly, banana is still first on this list as well."
   ]
  },
  {
   "cell_type": "markdown",
   "id": "f9af9215",
   "metadata": {},
   "source": [
    "<div class=\"alert alert-success\"; style=\"border-left: 7px solid green\">\n",
    "<b>✅ Reviewer's comment, v. 1</b> \n",
    "    \n",
    "Yes, you are absolutely right."
   ]
  },
  {
   "cell_type": "markdown",
   "id": "5b9109c2",
   "metadata": {},
   "source": [
    "<div class=\"alert alert-success\"; style=\"border-left: 7px solid green\">\n",
    "<b>✅ Reviewer's comment, v. 2</b> \n",
    "    \n",
    "✔️ \n",
    "    \n",
    "\n",
    "\n",
    "<div class=\"alert alert-danger\"; style=\"border-left: 7px solid red\">\n",
    "<b>⛔️ Reviewer's comment, v. 1</b> \n",
    "\n",
    "Could you please add an overall conclusion summarising the main results of the analysis?"
   ]
  },
  {
   "cell_type": "markdown",
   "id": "b623e3c9",
   "metadata": {},
   "source": [
    "(v2) This concludes the analysis on our Instacart data. Overall, we have discovered many things, such as the top 20 items most popular products, the top 20 items put into carts first, the distribution of items bought in one order, and the distribution of orders bought during each hour of the day. We found out that bananas are very popular on Instacart and that people wait about 11 days on average before buying again. We pre-processed our data before analysis to be sure we would not work with duplicate or missing values that could negatively alter the analysis."
   ]
  }
 ],
 "metadata": {
  "ExecuteTimeLog": [
   {
    "duration": 304,
    "start_time": "2024-07-19T20:21:18.190Z"
   },
   {
    "duration": 25,
    "start_time": "2024-07-19T20:23:05.042Z"
   },
   {
    "duration": 3,
    "start_time": "2024-07-19T20:23:11.308Z"
   },
   {
    "duration": 427,
    "start_time": "2024-07-19T20:23:18.375Z"
   },
   {
    "duration": 450,
    "start_time": "2024-07-19T20:23:18.805Z"
   },
   {
    "duration": 32,
    "start_time": "2024-07-19T20:23:19.258Z"
   },
   {
    "duration": 3,
    "start_time": "2024-07-19T20:23:19.293Z"
   },
   {
    "duration": 31,
    "start_time": "2024-07-19T20:23:19.302Z"
   },
   {
    "duration": 3,
    "start_time": "2024-07-19T20:23:19.336Z"
   },
   {
    "duration": 4,
    "start_time": "2024-07-19T20:23:19.343Z"
   },
   {
    "duration": 4,
    "start_time": "2024-07-19T20:23:19.350Z"
   },
   {
    "duration": 3,
    "start_time": "2024-07-19T20:23:19.357Z"
   },
   {
    "duration": 4,
    "start_time": "2024-07-19T20:23:19.363Z"
   },
   {
    "duration": 3,
    "start_time": "2024-07-19T20:23:19.370Z"
   },
   {
    "duration": 3,
    "start_time": "2024-07-19T20:23:19.432Z"
   },
   {
    "duration": 3,
    "start_time": "2024-07-19T20:23:19.439Z"
   },
   {
    "duration": 3,
    "start_time": "2024-07-19T20:23:19.449Z"
   },
   {
    "duration": 4,
    "start_time": "2024-07-19T20:23:19.455Z"
   },
   {
    "duration": 3,
    "start_time": "2024-07-19T20:23:19.463Z"
   },
   {
    "duration": 3,
    "start_time": "2024-07-19T20:23:19.470Z"
   },
   {
    "duration": 4,
    "start_time": "2024-07-19T20:23:19.476Z"
   },
   {
    "duration": 4,
    "start_time": "2024-07-19T20:23:19.534Z"
   },
   {
    "duration": 4,
    "start_time": "2024-07-19T20:23:19.542Z"
   },
   {
    "duration": 4,
    "start_time": "2024-07-19T20:23:19.550Z"
   },
   {
    "duration": 3,
    "start_time": "2024-07-19T20:23:19.557Z"
   },
   {
    "duration": 3,
    "start_time": "2024-07-19T20:23:56.827Z"
   },
   {
    "duration": 439,
    "start_time": "2024-07-19T20:28:57.902Z"
   },
   {
    "duration": 408,
    "start_time": "2024-07-19T20:28:58.343Z"
   },
   {
    "duration": 91,
    "start_time": "2024-07-19T20:28:58.755Z"
   },
   {
    "duration": 10,
    "start_time": "2024-07-19T20:28:58.850Z"
   },
   {
    "duration": 8,
    "start_time": "2024-07-19T20:28:58.863Z"
   },
   {
    "duration": 3409,
    "start_time": "2024-07-19T20:28:58.873Z"
   },
   {
    "duration": 299,
    "start_time": "2024-07-19T20:29:02.286Z"
   },
   {
    "duration": 268,
    "start_time": "2024-07-19T20:29:02.890Z"
   },
   {
    "duration": 16,
    "start_time": "2024-07-19T20:30:20.004Z"
   },
   {
    "duration": 510,
    "start_time": "2024-07-19T20:30:48.145Z"
   },
   {
    "duration": 214,
    "start_time": "2024-07-19T20:30:48.659Z"
   },
   {
    "duration": 48,
    "start_time": "2024-07-19T20:30:48.876Z"
   },
   {
    "duration": 8,
    "start_time": "2024-07-19T20:30:48.933Z"
   },
   {
    "duration": 7,
    "start_time": "2024-07-19T20:30:48.947Z"
   },
   {
    "duration": 3430,
    "start_time": "2024-07-19T20:30:48.956Z"
   },
   {
    "duration": 188,
    "start_time": "2024-07-19T20:30:52.390Z"
   },
   {
    "duration": 21,
    "start_time": "2024-07-19T20:30:52.580Z"
   },
   {
    "duration": 3,
    "start_time": "2024-07-19T20:30:52.604Z"
   },
   {
    "duration": 24,
    "start_time": "2024-07-19T20:30:52.610Z"
   },
   {
    "duration": 4,
    "start_time": "2024-07-19T20:30:52.637Z"
   },
   {
    "duration": 4,
    "start_time": "2024-07-19T20:30:52.644Z"
   },
   {
    "duration": 3,
    "start_time": "2024-07-19T20:30:52.651Z"
   },
   {
    "duration": 4,
    "start_time": "2024-07-19T20:30:52.660Z"
   },
   {
    "duration": 3,
    "start_time": "2024-07-19T20:30:52.667Z"
   },
   {
    "duration": 4,
    "start_time": "2024-07-19T20:30:52.673Z"
   },
   {
    "duration": 4,
    "start_time": "2024-07-19T20:30:52.734Z"
   },
   {
    "duration": 4,
    "start_time": "2024-07-19T20:30:52.741Z"
   },
   {
    "duration": 5,
    "start_time": "2024-07-19T20:30:52.748Z"
   },
   {
    "duration": 3,
    "start_time": "2024-07-19T20:30:52.756Z"
   },
   {
    "duration": 4,
    "start_time": "2024-07-19T20:30:52.762Z"
   },
   {
    "duration": 4,
    "start_time": "2024-07-19T20:30:52.769Z"
   },
   {
    "duration": 4,
    "start_time": "2024-07-19T20:30:52.776Z"
   },
   {
    "duration": 4,
    "start_time": "2024-07-19T20:30:52.834Z"
   },
   {
    "duration": 3,
    "start_time": "2024-07-19T20:30:52.842Z"
   },
   {
    "duration": 3,
    "start_time": "2024-07-19T20:30:52.849Z"
   },
   {
    "duration": 1410,
    "start_time": "2024-07-19T20:38:02.924Z"
   },
   {
    "duration": 251,
    "start_time": "2024-07-19T20:38:04.870Z"
   },
   {
    "duration": 3,
    "start_time": "2024-07-19T20:38:22.505Z"
   },
   {
    "duration": 198,
    "start_time": "2024-07-19T20:38:22.513Z"
   },
   {
    "duration": 53,
    "start_time": "2024-07-19T20:38:22.714Z"
   },
   {
    "duration": 6,
    "start_time": "2024-07-19T20:38:22.770Z"
   },
   {
    "duration": 6,
    "start_time": "2024-07-19T20:38:22.781Z"
   },
   {
    "duration": 3354,
    "start_time": "2024-07-19T20:38:22.790Z"
   },
   {
    "duration": 179,
    "start_time": "2024-07-19T20:38:26.147Z"
   },
   {
    "duration": 253,
    "start_time": "2024-07-19T20:38:26.332Z"
   },
   {
    "duration": 0,
    "start_time": "2024-07-19T20:38:26.590Z"
   },
   {
    "duration": 0,
    "start_time": "2024-07-19T20:38:26.592Z"
   },
   {
    "duration": 0,
    "start_time": "2024-07-19T20:38:26.595Z"
   },
   {
    "duration": 0,
    "start_time": "2024-07-19T20:38:26.597Z"
   },
   {
    "duration": 0,
    "start_time": "2024-07-19T20:38:26.599Z"
   },
   {
    "duration": 0,
    "start_time": "2024-07-19T20:38:26.602Z"
   },
   {
    "duration": 0,
    "start_time": "2024-07-19T20:38:26.604Z"
   },
   {
    "duration": 0,
    "start_time": "2024-07-19T20:38:26.606Z"
   },
   {
    "duration": 0,
    "start_time": "2024-07-19T20:38:26.633Z"
   },
   {
    "duration": 0,
    "start_time": "2024-07-19T20:38:26.635Z"
   },
   {
    "duration": 0,
    "start_time": "2024-07-19T20:38:26.637Z"
   },
   {
    "duration": 0,
    "start_time": "2024-07-19T20:38:26.639Z"
   },
   {
    "duration": 0,
    "start_time": "2024-07-19T20:38:26.640Z"
   },
   {
    "duration": 0,
    "start_time": "2024-07-19T20:38:26.641Z"
   },
   {
    "duration": 0,
    "start_time": "2024-07-19T20:38:26.642Z"
   },
   {
    "duration": 1,
    "start_time": "2024-07-19T20:38:26.643Z"
   },
   {
    "duration": 0,
    "start_time": "2024-07-19T20:38:26.646Z"
   },
   {
    "duration": 0,
    "start_time": "2024-07-19T20:38:26.648Z"
   },
   {
    "duration": 951,
    "start_time": "2024-07-19T20:38:38.312Z"
   },
   {
    "duration": 89,
    "start_time": "2024-07-19T20:38:58.438Z"
   },
   {
    "duration": 3,
    "start_time": "2024-07-19T20:42:18.341Z"
   },
   {
    "duration": 161,
    "start_time": "2024-07-19T20:44:13.477Z"
   },
   {
    "duration": 520,
    "start_time": "2024-07-19T20:44:58.164Z"
   },
   {
    "duration": 4,
    "start_time": "2024-07-19T20:45:04.044Z"
   },
   {
    "duration": 197,
    "start_time": "2024-07-19T20:45:04.052Z"
   },
   {
    "duration": 46,
    "start_time": "2024-07-19T20:45:04.252Z"
   },
   {
    "duration": 12,
    "start_time": "2024-07-19T20:45:04.301Z"
   },
   {
    "duration": 19,
    "start_time": "2024-07-19T20:45:04.317Z"
   },
   {
    "duration": 3432,
    "start_time": "2024-07-19T20:45:04.339Z"
   },
   {
    "duration": 175,
    "start_time": "2024-07-19T20:45:07.774Z"
   },
   {
    "duration": 92,
    "start_time": "2024-07-19T20:45:07.956Z"
   },
   {
    "duration": 1,
    "start_time": "2024-07-19T20:45:08.051Z"
   },
   {
    "duration": 0,
    "start_time": "2024-07-19T20:45:08.053Z"
   },
   {
    "duration": 0,
    "start_time": "2024-07-19T20:45:08.056Z"
   },
   {
    "duration": 0,
    "start_time": "2024-07-19T20:45:08.059Z"
   },
   {
    "duration": 0,
    "start_time": "2024-07-19T20:45:08.061Z"
   },
   {
    "duration": 1,
    "start_time": "2024-07-19T20:45:08.063Z"
   },
   {
    "duration": 0,
    "start_time": "2024-07-19T20:45:08.066Z"
   },
   {
    "duration": 0,
    "start_time": "2024-07-19T20:45:08.067Z"
   },
   {
    "duration": 0,
    "start_time": "2024-07-19T20:45:08.069Z"
   },
   {
    "duration": 0,
    "start_time": "2024-07-19T20:45:08.071Z"
   },
   {
    "duration": 0,
    "start_time": "2024-07-19T20:45:08.073Z"
   },
   {
    "duration": 0,
    "start_time": "2024-07-19T20:45:08.075Z"
   },
   {
    "duration": 0,
    "start_time": "2024-07-19T20:45:08.078Z"
   },
   {
    "duration": 0,
    "start_time": "2024-07-19T20:45:08.080Z"
   },
   {
    "duration": 0,
    "start_time": "2024-07-19T20:45:08.133Z"
   },
   {
    "duration": 0,
    "start_time": "2024-07-19T20:45:08.136Z"
   },
   {
    "duration": 0,
    "start_time": "2024-07-19T20:45:08.138Z"
   },
   {
    "duration": 0,
    "start_time": "2024-07-19T20:45:08.139Z"
   },
   {
    "duration": 6,
    "start_time": "2024-07-19T20:45:23.915Z"
   },
   {
    "duration": 6,
    "start_time": "2024-07-19T20:45:45.672Z"
   },
   {
    "duration": 15,
    "start_time": "2024-07-19T20:45:49.235Z"
   },
   {
    "duration": 17,
    "start_time": "2024-07-19T20:46:28.020Z"
   },
   {
    "duration": 18,
    "start_time": "2024-07-19T20:48:55.200Z"
   },
   {
    "duration": 5,
    "start_time": "2024-07-19T20:55:34.619Z"
   },
   {
    "duration": 198,
    "start_time": "2024-07-19T20:55:34.628Z"
   },
   {
    "duration": 46,
    "start_time": "2024-07-19T20:55:34.832Z"
   },
   {
    "duration": 7,
    "start_time": "2024-07-19T20:55:34.883Z"
   },
   {
    "duration": 11,
    "start_time": "2024-07-19T20:55:34.893Z"
   },
   {
    "duration": 3625,
    "start_time": "2024-07-19T20:55:34.932Z"
   },
   {
    "duration": 158,
    "start_time": "2024-07-19T20:55:38.560Z"
   },
   {
    "duration": 29,
    "start_time": "2024-07-19T20:55:38.720Z"
   },
   {
    "duration": 186,
    "start_time": "2024-07-19T20:55:38.752Z"
   },
   {
    "duration": 164,
    "start_time": "2024-07-19T20:55:38.944Z"
   },
   {
    "duration": 4,
    "start_time": "2024-07-19T20:55:39.111Z"
   },
   {
    "duration": 18,
    "start_time": "2024-07-19T20:55:39.117Z"
   },
   {
    "duration": 4,
    "start_time": "2024-07-19T20:55:39.138Z"
   },
   {
    "duration": 4,
    "start_time": "2024-07-19T20:55:39.145Z"
   },
   {
    "duration": 4,
    "start_time": "2024-07-19T20:55:39.151Z"
   },
   {
    "duration": 4,
    "start_time": "2024-07-19T20:55:39.158Z"
   },
   {
    "duration": 3,
    "start_time": "2024-07-19T20:55:39.165Z"
   },
   {
    "duration": 61,
    "start_time": "2024-07-19T20:55:39.171Z"
   },
   {
    "duration": 3,
    "start_time": "2024-07-19T20:55:39.235Z"
   },
   {
    "duration": 3,
    "start_time": "2024-07-19T20:55:39.242Z"
   },
   {
    "duration": 3,
    "start_time": "2024-07-19T20:55:39.248Z"
   },
   {
    "duration": 3,
    "start_time": "2024-07-19T20:55:39.254Z"
   },
   {
    "duration": 4,
    "start_time": "2024-07-19T20:55:39.260Z"
   },
   {
    "duration": 4,
    "start_time": "2024-07-19T20:55:39.266Z"
   },
   {
    "duration": 59,
    "start_time": "2024-07-19T20:55:39.273Z"
   },
   {
    "duration": 3,
    "start_time": "2024-07-19T20:55:39.336Z"
   },
   {
    "duration": 150,
    "start_time": "2024-07-19T20:56:39.770Z"
   },
   {
    "duration": 181,
    "start_time": "2024-07-19T20:57:08.391Z"
   },
   {
    "duration": 149,
    "start_time": "2024-07-19T20:57:10.623Z"
   },
   {
    "duration": 473,
    "start_time": "2024-07-19T20:57:27.237Z"
   },
   {
    "duration": 211,
    "start_time": "2024-07-19T20:57:27.714Z"
   },
   {
    "duration": 49,
    "start_time": "2024-07-19T20:57:27.928Z"
   },
   {
    "duration": 8,
    "start_time": "2024-07-19T20:57:27.980Z"
   },
   {
    "duration": 7,
    "start_time": "2024-07-19T20:57:27.995Z"
   },
   {
    "duration": 3369,
    "start_time": "2024-07-19T20:57:28.004Z"
   },
   {
    "duration": 203,
    "start_time": "2024-07-19T20:57:31.377Z"
   },
   {
    "duration": 22,
    "start_time": "2024-07-19T20:57:31.582Z"
   },
   {
    "duration": 253,
    "start_time": "2024-07-19T20:57:31.607Z"
   },
   {
    "duration": 181,
    "start_time": "2024-07-19T20:57:31.863Z"
   },
   {
    "duration": 6,
    "start_time": "2024-07-19T20:57:32.049Z"
   },
   {
    "duration": 4,
    "start_time": "2024-07-19T20:57:32.058Z"
   },
   {
    "duration": 4,
    "start_time": "2024-07-19T20:57:32.065Z"
   },
   {
    "duration": 3,
    "start_time": "2024-07-19T20:57:32.075Z"
   },
   {
    "duration": 4,
    "start_time": "2024-07-19T20:57:32.081Z"
   },
   {
    "duration": 44,
    "start_time": "2024-07-19T20:57:32.089Z"
   },
   {
    "duration": 5,
    "start_time": "2024-07-19T20:57:32.137Z"
   },
   {
    "duration": 4,
    "start_time": "2024-07-19T20:57:32.145Z"
   },
   {
    "duration": 4,
    "start_time": "2024-07-19T20:57:32.152Z"
   },
   {
    "duration": 3,
    "start_time": "2024-07-19T20:57:32.159Z"
   },
   {
    "duration": 4,
    "start_time": "2024-07-19T20:57:32.165Z"
   },
   {
    "duration": 4,
    "start_time": "2024-07-19T20:57:32.172Z"
   },
   {
    "duration": 4,
    "start_time": "2024-07-19T20:57:32.232Z"
   },
   {
    "duration": 5,
    "start_time": "2024-07-19T20:57:32.238Z"
   },
   {
    "duration": 5,
    "start_time": "2024-07-19T20:57:32.246Z"
   },
   {
    "duration": 3,
    "start_time": "2024-07-19T20:57:32.255Z"
   },
   {
    "duration": 179,
    "start_time": "2024-07-19T20:58:16.082Z"
   },
   {
    "duration": 262,
    "start_time": "2024-07-19T20:58:18.054Z"
   },
   {
    "duration": 72,
    "start_time": "2024-07-19T20:59:34.867Z"
   },
   {
    "duration": 85,
    "start_time": "2024-07-19T20:59:44.407Z"
   },
   {
    "duration": 24,
    "start_time": "2024-07-19T21:00:59.768Z"
   },
   {
    "duration": 28,
    "start_time": "2024-07-19T21:01:36.946Z"
   },
   {
    "duration": 9,
    "start_time": "2024-07-19T21:01:59.309Z"
   },
   {
    "duration": 220,
    "start_time": "2024-07-19T21:01:59.325Z"
   },
   {
    "duration": 50,
    "start_time": "2024-07-19T21:01:59.547Z"
   },
   {
    "duration": 9,
    "start_time": "2024-07-19T21:01:59.600Z"
   },
   {
    "duration": 10,
    "start_time": "2024-07-19T21:01:59.634Z"
   },
   {
    "duration": 3405,
    "start_time": "2024-07-19T21:01:59.647Z"
   },
   {
    "duration": 183,
    "start_time": "2024-07-19T21:02:03.056Z"
   },
   {
    "duration": 20,
    "start_time": "2024-07-19T21:02:03.242Z"
   },
   {
    "duration": 217,
    "start_time": "2024-07-19T21:02:03.267Z"
   },
   {
    "duration": 265,
    "start_time": "2024-07-19T21:02:03.488Z"
   },
   {
    "duration": 105,
    "start_time": "2024-07-19T21:02:03.756Z"
   },
   {
    "duration": 30,
    "start_time": "2024-07-19T21:02:03.865Z"
   },
   {
    "duration": 1208,
    "start_time": "2024-07-19T21:02:03.901Z"
   },
   {
    "duration": 0,
    "start_time": "2024-07-19T21:02:05.114Z"
   },
   {
    "duration": 0,
    "start_time": "2024-07-19T21:02:05.116Z"
   },
   {
    "duration": 0,
    "start_time": "2024-07-19T21:02:05.118Z"
   },
   {
    "duration": 0,
    "start_time": "2024-07-19T21:02:05.120Z"
   },
   {
    "duration": 0,
    "start_time": "2024-07-19T21:02:05.122Z"
   },
   {
    "duration": 0,
    "start_time": "2024-07-19T21:02:05.125Z"
   },
   {
    "duration": 0,
    "start_time": "2024-07-19T21:02:05.126Z"
   },
   {
    "duration": 0,
    "start_time": "2024-07-19T21:02:05.126Z"
   },
   {
    "duration": 0,
    "start_time": "2024-07-19T21:02:05.127Z"
   },
   {
    "duration": 0,
    "start_time": "2024-07-19T21:02:05.133Z"
   },
   {
    "duration": 0,
    "start_time": "2024-07-19T21:02:05.135Z"
   },
   {
    "duration": 0,
    "start_time": "2024-07-19T21:02:05.138Z"
   },
   {
    "duration": 0,
    "start_time": "2024-07-19T21:02:05.141Z"
   },
   {
    "duration": 292,
    "start_time": "2024-07-19T21:03:13.034Z"
   },
   {
    "duration": 64,
    "start_time": "2024-07-19T21:03:49.983Z"
   },
   {
    "duration": 7,
    "start_time": "2024-07-19T21:05:14.885Z"
   },
   {
    "duration": 22,
    "start_time": "2024-07-19T21:07:11.484Z"
   },
   {
    "duration": 11,
    "start_time": "2024-07-19T21:07:24.022Z"
   },
   {
    "duration": 13,
    "start_time": "2024-07-19T21:07:36.636Z"
   },
   {
    "duration": 10,
    "start_time": "2024-07-19T21:07:58.524Z"
   },
   {
    "duration": 11,
    "start_time": "2024-07-19T21:10:05.073Z"
   },
   {
    "duration": 10,
    "start_time": "2024-07-19T21:10:18.613Z"
   },
   {
    "duration": 13,
    "start_time": "2024-07-19T21:10:31.043Z"
   },
   {
    "duration": 26,
    "start_time": "2024-07-19T21:12:33.101Z"
   },
   {
    "duration": 23,
    "start_time": "2024-07-19T21:12:40.508Z"
   },
   {
    "duration": 26,
    "start_time": "2024-07-19T21:12:49.020Z"
   },
   {
    "duration": 27,
    "start_time": "2024-07-19T21:13:05.843Z"
   },
   {
    "duration": 386,
    "start_time": "2024-07-19T21:28:58.697Z"
   },
   {
    "duration": 49,
    "start_time": "2024-07-19T21:29:47.028Z"
   },
   {
    "duration": 11,
    "start_time": "2024-07-19T21:29:58.810Z"
   },
   {
    "duration": 11,
    "start_time": "2024-07-19T21:30:18.970Z"
   },
   {
    "duration": 6,
    "start_time": "2024-07-19T21:30:31.621Z"
   },
   {
    "duration": 22,
    "start_time": "2024-07-19T21:30:50.779Z"
   },
   {
    "duration": 156,
    "start_time": "2024-07-19T21:31:30.080Z"
   },
   {
    "duration": 4,
    "start_time": "2024-07-19T21:31:50.694Z"
   },
   {
    "duration": 173,
    "start_time": "2024-07-19T21:31:50.702Z"
   },
   {
    "duration": 55,
    "start_time": "2024-07-19T21:31:50.878Z"
   },
   {
    "duration": 7,
    "start_time": "2024-07-19T21:31:50.936Z"
   },
   {
    "duration": 6,
    "start_time": "2024-07-19T21:31:50.948Z"
   },
   {
    "duration": 3229,
    "start_time": "2024-07-19T21:31:50.958Z"
   },
   {
    "duration": 146,
    "start_time": "2024-07-19T21:31:54.190Z"
   },
   {
    "duration": 19,
    "start_time": "2024-07-19T21:31:54.338Z"
   },
   {
    "duration": 173,
    "start_time": "2024-07-19T21:31:54.360Z"
   },
   {
    "duration": 232,
    "start_time": "2024-07-19T21:31:54.536Z"
   },
   {
    "duration": 93,
    "start_time": "2024-07-19T21:31:54.770Z"
   },
   {
    "duration": 28,
    "start_time": "2024-07-19T21:31:54.866Z"
   },
   {
    "duration": 38,
    "start_time": "2024-07-19T21:31:54.896Z"
   },
   {
    "duration": 104,
    "start_time": "2024-07-19T21:31:54.941Z"
   },
   {
    "duration": 0,
    "start_time": "2024-07-19T21:31:55.048Z"
   },
   {
    "duration": 0,
    "start_time": "2024-07-19T21:31:55.051Z"
   },
   {
    "duration": 0,
    "start_time": "2024-07-19T21:31:55.054Z"
   },
   {
    "duration": 0,
    "start_time": "2024-07-19T21:31:55.056Z"
   },
   {
    "duration": 0,
    "start_time": "2024-07-19T21:31:55.058Z"
   },
   {
    "duration": 0,
    "start_time": "2024-07-19T21:31:55.061Z"
   },
   {
    "duration": 0,
    "start_time": "2024-07-19T21:31:55.063Z"
   },
   {
    "duration": 0,
    "start_time": "2024-07-19T21:31:55.066Z"
   },
   {
    "duration": 0,
    "start_time": "2024-07-19T21:31:55.068Z"
   },
   {
    "duration": 0,
    "start_time": "2024-07-19T21:31:55.070Z"
   },
   {
    "duration": 0,
    "start_time": "2024-07-19T21:31:55.072Z"
   },
   {
    "duration": 0,
    "start_time": "2024-07-19T21:31:55.074Z"
   },
   {
    "duration": 24,
    "start_time": "2024-07-19T21:32:20.002Z"
   },
   {
    "duration": 10,
    "start_time": "2024-07-19T21:34:47.334Z"
   },
   {
    "duration": 66,
    "start_time": "2024-07-19T21:36:56.320Z"
   },
   {
    "duration": 43,
    "start_time": "2024-07-19T21:37:13.194Z"
   },
   {
    "duration": 42,
    "start_time": "2024-07-19T21:37:20.602Z"
   },
   {
    "duration": 82,
    "start_time": "2024-07-19T21:40:01.334Z"
   },
   {
    "duration": 69,
    "start_time": "2024-07-19T21:40:34.194Z"
   },
   {
    "duration": 44,
    "start_time": "2024-07-19T21:41:19.297Z"
   },
   {
    "duration": 9,
    "start_time": "2024-07-19T21:44:36.052Z"
   },
   {
    "duration": 10,
    "start_time": "2024-07-19T21:45:07.702Z"
   },
   {
    "duration": 4,
    "start_time": "2024-07-19T21:45:23.366Z"
   },
   {
    "duration": 182,
    "start_time": "2024-07-19T21:45:23.376Z"
   },
   {
    "duration": 49,
    "start_time": "2024-07-19T21:45:23.562Z"
   },
   {
    "duration": 24,
    "start_time": "2024-07-19T21:45:23.614Z"
   },
   {
    "duration": 7,
    "start_time": "2024-07-19T21:45:23.642Z"
   },
   {
    "duration": 3024,
    "start_time": "2024-07-19T21:45:23.651Z"
   },
   {
    "duration": 147,
    "start_time": "2024-07-19T21:45:26.678Z"
   },
   {
    "duration": 19,
    "start_time": "2024-07-19T21:45:26.832Z"
   },
   {
    "duration": 168,
    "start_time": "2024-07-19T21:45:26.854Z"
   },
   {
    "duration": 245,
    "start_time": "2024-07-19T21:45:27.024Z"
   },
   {
    "duration": 94,
    "start_time": "2024-07-19T21:45:27.272Z"
   },
   {
    "duration": 35,
    "start_time": "2024-07-19T21:45:27.369Z"
   },
   {
    "duration": 34,
    "start_time": "2024-07-19T21:45:27.408Z"
   },
   {
    "duration": 31,
    "start_time": "2024-07-19T21:45:27.449Z"
   },
   {
    "duration": 76,
    "start_time": "2024-07-19T21:45:27.485Z"
   },
   {
    "duration": 14,
    "start_time": "2024-07-19T21:45:27.564Z"
   },
   {
    "duration": 3,
    "start_time": "2024-07-19T21:45:27.582Z"
   },
   {
    "duration": 7,
    "start_time": "2024-07-19T21:45:27.589Z"
   },
   {
    "duration": 4,
    "start_time": "2024-07-19T21:45:27.598Z"
   },
   {
    "duration": 4,
    "start_time": "2024-07-19T21:45:27.633Z"
   },
   {
    "duration": 4,
    "start_time": "2024-07-19T21:45:27.639Z"
   },
   {
    "duration": 3,
    "start_time": "2024-07-19T21:45:27.646Z"
   },
   {
    "duration": 4,
    "start_time": "2024-07-19T21:45:27.653Z"
   },
   {
    "duration": 3,
    "start_time": "2024-07-19T21:45:27.660Z"
   },
   {
    "duration": 8,
    "start_time": "2024-07-19T21:45:27.666Z"
   },
   {
    "duration": 4,
    "start_time": "2024-07-19T21:45:27.676Z"
   },
   {
    "duration": 3,
    "start_time": "2024-07-19T21:45:27.734Z"
   },
   {
    "duration": 9,
    "start_time": "2024-07-19T22:09:26.072Z"
   },
   {
    "duration": 7,
    "start_time": "2024-07-19T22:09:35.723Z"
   },
   {
    "duration": 8,
    "start_time": "2024-07-19T22:09:50.703Z"
   },
   {
    "duration": 8,
    "start_time": "2024-07-19T22:10:15.554Z"
   },
   {
    "duration": 10,
    "start_time": "2024-07-19T22:10:21.357Z"
   },
   {
    "duration": 3167,
    "start_time": "2024-07-19T22:10:58.056Z"
   },
   {
    "duration": 8,
    "start_time": "2024-07-19T22:11:19.086Z"
   },
   {
    "duration": 1197,
    "start_time": "2024-07-19T22:11:33.602Z"
   },
   {
    "duration": 1248,
    "start_time": "2024-07-19T22:11:40.094Z"
   },
   {
    "duration": 11,
    "start_time": "2024-07-19T22:11:43.074Z"
   },
   {
    "duration": 378,
    "start_time": "2024-07-19T22:27:58.081Z"
   },
   {
    "duration": 368,
    "start_time": "2024-07-19T22:28:02.973Z"
   },
   {
    "duration": 363,
    "start_time": "2024-07-19T22:28:07.804Z"
   },
   {
    "duration": 367,
    "start_time": "2024-07-19T22:29:01.895Z"
   },
   {
    "duration": 729,
    "start_time": "2024-07-19T22:29:17.883Z"
   },
   {
    "duration": 770,
    "start_time": "2024-07-19T22:29:41.122Z"
   },
   {
    "duration": 320,
    "start_time": "2024-07-19T22:30:13.534Z"
   },
   {
    "duration": 469,
    "start_time": "2024-07-19T22:30:44.735Z"
   },
   {
    "duration": 241,
    "start_time": "2024-07-19T22:30:45.207Z"
   },
   {
    "duration": 85,
    "start_time": "2024-07-19T22:30:45.451Z"
   },
   {
    "duration": 10,
    "start_time": "2024-07-19T22:30:45.539Z"
   },
   {
    "duration": 9,
    "start_time": "2024-07-19T22:30:45.551Z"
   },
   {
    "duration": 1376,
    "start_time": "2024-07-19T22:30:45.562Z"
   },
   {
    "duration": 205,
    "start_time": "2024-07-19T22:30:46.941Z"
   },
   {
    "duration": 28,
    "start_time": "2024-07-19T22:30:47.149Z"
   },
   {
    "duration": 214,
    "start_time": "2024-07-19T22:30:47.180Z"
   },
   {
    "duration": 261,
    "start_time": "2024-07-19T22:30:47.400Z"
   },
   {
    "duration": 104,
    "start_time": "2024-07-19T22:30:47.664Z"
   },
   {
    "duration": 30,
    "start_time": "2024-07-19T22:30:47.771Z"
   },
   {
    "duration": 33,
    "start_time": "2024-07-19T22:30:47.804Z"
   },
   {
    "duration": 29,
    "start_time": "2024-07-19T22:30:47.840Z"
   },
   {
    "duration": 81,
    "start_time": "2024-07-19T22:30:47.871Z"
   },
   {
    "duration": 7,
    "start_time": "2024-07-19T22:30:47.956Z"
   },
   {
    "duration": 12,
    "start_time": "2024-07-19T22:30:47.967Z"
   },
   {
    "duration": 1388,
    "start_time": "2024-07-19T22:30:47.983Z"
   },
   {
    "duration": 1115,
    "start_time": "2024-07-19T22:30:49.374Z"
   },
   {
    "duration": 0,
    "start_time": "2024-07-19T22:30:50.492Z"
   },
   {
    "duration": 0,
    "start_time": "2024-07-19T22:30:50.496Z"
   },
   {
    "duration": 0,
    "start_time": "2024-07-19T22:30:50.498Z"
   },
   {
    "duration": 0,
    "start_time": "2024-07-19T22:30:50.500Z"
   },
   {
    "duration": 0,
    "start_time": "2024-07-19T22:30:50.502Z"
   },
   {
    "duration": 1,
    "start_time": "2024-07-19T22:30:50.504Z"
   },
   {
    "duration": 0,
    "start_time": "2024-07-19T22:30:50.507Z"
   },
   {
    "duration": 0,
    "start_time": "2024-07-19T22:30:50.533Z"
   },
   {
    "duration": 0,
    "start_time": "2024-07-19T22:30:50.535Z"
   },
   {
    "duration": 2160,
    "start_time": "2024-07-19T22:31:05.831Z"
   },
   {
    "duration": 802,
    "start_time": "2024-07-19T22:32:11.741Z"
   },
   {
    "duration": 10,
    "start_time": "2024-07-19T22:35:22.452Z"
   },
   {
    "duration": 6,
    "start_time": "2024-07-19T22:43:43.754Z"
   },
   {
    "duration": 29,
    "start_time": "2024-07-19T22:43:49.584Z"
   },
   {
    "duration": 25,
    "start_time": "2024-07-19T22:43:54.817Z"
   },
   {
    "duration": 18,
    "start_time": "2024-07-19T22:43:57.765Z"
   },
   {
    "duration": 22,
    "start_time": "2024-07-19T22:44:07.007Z"
   },
   {
    "duration": 20,
    "start_time": "2024-07-19T22:45:30.842Z"
   },
   {
    "duration": 22,
    "start_time": "2024-07-19T22:46:40.023Z"
   },
   {
    "duration": 22,
    "start_time": "2024-07-19T22:46:50.656Z"
   },
   {
    "duration": 310,
    "start_time": "2024-07-20T06:19:03.923Z"
   },
   {
    "duration": 483,
    "start_time": "2024-07-20T06:19:17.328Z"
   },
   {
    "duration": 261,
    "start_time": "2024-07-20T06:19:17.815Z"
   },
   {
    "duration": 98,
    "start_time": "2024-07-20T06:19:18.082Z"
   },
   {
    "duration": 14,
    "start_time": "2024-07-20T06:19:18.183Z"
   },
   {
    "duration": 10,
    "start_time": "2024-07-20T06:19:18.204Z"
   },
   {
    "duration": 1493,
    "start_time": "2024-07-20T06:19:18.217Z"
   },
   {
    "duration": 197,
    "start_time": "2024-07-20T06:19:19.713Z"
   },
   {
    "duration": 33,
    "start_time": "2024-07-20T06:19:19.915Z"
   },
   {
    "duration": 209,
    "start_time": "2024-07-20T06:19:19.952Z"
   },
   {
    "duration": 270,
    "start_time": "2024-07-20T06:19:20.165Z"
   },
   {
    "duration": 107,
    "start_time": "2024-07-20T06:19:20.438Z"
   },
   {
    "duration": 35,
    "start_time": "2024-07-20T06:19:20.548Z"
   },
   {
    "duration": 16,
    "start_time": "2024-07-20T06:19:20.586Z"
   },
   {
    "duration": 33,
    "start_time": "2024-07-20T06:19:20.636Z"
   },
   {
    "duration": 77,
    "start_time": "2024-07-20T06:19:20.673Z"
   },
   {
    "duration": 8,
    "start_time": "2024-07-20T06:19:20.753Z"
   },
   {
    "duration": 10,
    "start_time": "2024-07-20T06:19:20.763Z"
   },
   {
    "duration": 1410,
    "start_time": "2024-07-20T06:19:20.775Z"
   },
   {
    "duration": 857,
    "start_time": "2024-07-20T06:19:22.188Z"
   },
   {
    "duration": 13,
    "start_time": "2024-07-20T06:19:23.048Z"
   },
   {
    "duration": 24,
    "start_time": "2024-07-20T06:19:23.064Z"
   },
   {
    "duration": 47,
    "start_time": "2024-07-20T06:19:23.093Z"
   },
   {
    "duration": 3,
    "start_time": "2024-07-20T06:19:23.144Z"
   },
   {
    "duration": 3,
    "start_time": "2024-07-20T06:19:23.151Z"
   },
   {
    "duration": 4,
    "start_time": "2024-07-20T06:19:23.156Z"
   },
   {
    "duration": 3,
    "start_time": "2024-07-20T06:19:23.164Z"
   },
   {
    "duration": 3,
    "start_time": "2024-07-20T06:19:23.170Z"
   },
   {
    "duration": 4,
    "start_time": "2024-07-20T06:19:23.176Z"
   },
   {
    "duration": 52,
    "start_time": "2024-07-20T06:19:23.182Z"
   },
   {
    "duration": 66,
    "start_time": "2024-07-20T06:21:50.428Z"
   },
   {
    "duration": 4,
    "start_time": "2024-07-20T06:21:59.167Z"
   },
   {
    "duration": 6,
    "start_time": "2024-07-20T06:22:50.888Z"
   },
   {
    "duration": 855,
    "start_time": "2024-07-20T06:23:02.588Z"
   },
   {
    "duration": 228,
    "start_time": "2024-07-20T06:23:58.227Z"
   },
   {
    "duration": 961,
    "start_time": "2024-07-20T06:24:22.188Z"
   },
   {
    "duration": 193,
    "start_time": "2024-07-20T06:24:56.308Z"
   },
   {
    "duration": 121,
    "start_time": "2024-07-20T06:25:34.348Z"
   },
   {
    "duration": 14,
    "start_time": "2024-07-20T06:25:54.127Z"
   },
   {
    "duration": 469,
    "start_time": "2024-07-20T06:26:16.407Z"
   },
   {
    "duration": 232,
    "start_time": "2024-07-20T06:26:16.884Z"
   },
   {
    "duration": 57,
    "start_time": "2024-07-20T06:26:17.122Z"
   },
   {
    "duration": 9,
    "start_time": "2024-07-20T06:26:17.182Z"
   },
   {
    "duration": 7,
    "start_time": "2024-07-20T06:26:17.196Z"
   },
   {
    "duration": 1290,
    "start_time": "2024-07-20T06:26:17.206Z"
   },
   {
    "duration": 208,
    "start_time": "2024-07-20T06:26:18.499Z"
   },
   {
    "duration": 33,
    "start_time": "2024-07-20T06:26:18.710Z"
   },
   {
    "duration": 215,
    "start_time": "2024-07-20T06:26:18.746Z"
   },
   {
    "duration": 295,
    "start_time": "2024-07-20T06:26:18.963Z"
   },
   {
    "duration": 95,
    "start_time": "2024-07-20T06:26:19.261Z"
   },
   {
    "duration": 34,
    "start_time": "2024-07-20T06:26:19.360Z"
   },
   {
    "duration": 34,
    "start_time": "2024-07-20T06:26:19.398Z"
   },
   {
    "duration": 35,
    "start_time": "2024-07-20T06:26:19.440Z"
   },
   {
    "duration": 79,
    "start_time": "2024-07-20T06:26:19.481Z"
   },
   {
    "duration": 8,
    "start_time": "2024-07-20T06:26:19.563Z"
   },
   {
    "duration": 13,
    "start_time": "2024-07-20T06:26:19.575Z"
   },
   {
    "duration": 1369,
    "start_time": "2024-07-20T06:26:19.591Z"
   },
   {
    "duration": 810,
    "start_time": "2024-07-20T06:26:20.963Z"
   },
   {
    "duration": 15,
    "start_time": "2024-07-20T06:26:21.777Z"
   },
   {
    "duration": 44,
    "start_time": "2024-07-20T06:26:21.796Z"
   },
   {
    "duration": 19,
    "start_time": "2024-07-20T06:26:21.844Z"
   },
   {
    "duration": 654,
    "start_time": "2024-07-20T06:26:21.867Z"
   },
   {
    "duration": 0,
    "start_time": "2024-07-20T06:26:22.524Z"
   },
   {
    "duration": 0,
    "start_time": "2024-07-20T06:26:22.531Z"
   },
   {
    "duration": 0,
    "start_time": "2024-07-20T06:26:22.532Z"
   },
   {
    "duration": 0,
    "start_time": "2024-07-20T06:26:22.534Z"
   },
   {
    "duration": 0,
    "start_time": "2024-07-20T06:26:22.537Z"
   },
   {
    "duration": 0,
    "start_time": "2024-07-20T06:26:22.540Z"
   },
   {
    "duration": 66,
    "start_time": "2024-07-20T06:27:14.027Z"
   },
   {
    "duration": 430,
    "start_time": "2024-07-20T06:28:08.152Z"
   },
   {
    "duration": 4,
    "start_time": "2024-07-20T06:28:17.907Z"
   },
   {
    "duration": 12,
    "start_time": "2024-07-20T06:28:34.625Z"
   },
   {
    "duration": 10,
    "start_time": "2024-07-20T06:29:17.599Z"
   },
   {
    "duration": 12,
    "start_time": "2024-07-20T06:30:24.465Z"
   },
   {
    "duration": 14,
    "start_time": "2024-07-20T06:31:07.814Z"
   },
   {
    "duration": 16,
    "start_time": "2024-07-20T06:34:53.045Z"
   },
   {
    "duration": 23,
    "start_time": "2024-07-20T06:35:19.945Z"
   },
   {
    "duration": 5,
    "start_time": "2024-07-20T06:35:25.086Z"
   },
   {
    "duration": 230,
    "start_time": "2024-07-20T06:35:25.095Z"
   },
   {
    "duration": 64,
    "start_time": "2024-07-20T06:35:25.329Z"
   },
   {
    "duration": 9,
    "start_time": "2024-07-20T06:35:25.395Z"
   },
   {
    "duration": 27,
    "start_time": "2024-07-20T06:35:25.408Z"
   },
   {
    "duration": 1461,
    "start_time": "2024-07-20T06:35:25.438Z"
   },
   {
    "duration": 170,
    "start_time": "2024-07-20T06:35:26.902Z"
   },
   {
    "duration": 23,
    "start_time": "2024-07-20T06:35:27.075Z"
   },
   {
    "duration": 194,
    "start_time": "2024-07-20T06:35:27.102Z"
   },
   {
    "duration": 273,
    "start_time": "2024-07-20T06:35:27.299Z"
   },
   {
    "duration": 106,
    "start_time": "2024-07-20T06:35:27.579Z"
   },
   {
    "duration": 45,
    "start_time": "2024-07-20T06:35:27.689Z"
   },
   {
    "duration": 25,
    "start_time": "2024-07-20T06:35:27.739Z"
   },
   {
    "duration": 42,
    "start_time": "2024-07-20T06:35:27.768Z"
   },
   {
    "duration": 93,
    "start_time": "2024-07-20T06:35:27.813Z"
   },
   {
    "duration": 8,
    "start_time": "2024-07-20T06:35:27.909Z"
   },
   {
    "duration": 30,
    "start_time": "2024-07-20T06:35:27.921Z"
   },
   {
    "duration": 17,
    "start_time": "2024-07-20T06:35:27.955Z"
   },
   {
    "duration": 1539,
    "start_time": "2024-07-20T06:35:27.975Z"
   },
   {
    "duration": 832,
    "start_time": "2024-07-20T06:35:29.521Z"
   },
   {
    "duration": 11,
    "start_time": "2024-07-20T06:35:30.357Z"
   },
   {
    "duration": 25,
    "start_time": "2024-07-20T06:35:30.371Z"
   },
   {
    "duration": 49,
    "start_time": "2024-07-20T06:35:30.400Z"
   },
   {
    "duration": 14,
    "start_time": "2024-07-20T06:35:30.452Z"
   },
   {
    "duration": 22,
    "start_time": "2024-07-20T06:35:34.246Z"
   },
   {
    "duration": 14,
    "start_time": "2024-07-20T06:36:03.248Z"
   },
   {
    "duration": 26,
    "start_time": "2024-07-20T06:36:14.746Z"
   },
   {
    "duration": 15,
    "start_time": "2024-07-20T06:36:48.665Z"
   },
   {
    "duration": 24,
    "start_time": "2024-07-20T06:38:03.586Z"
   },
   {
    "duration": 10,
    "start_time": "2024-07-20T06:46:50.705Z"
   },
   {
    "duration": 24,
    "start_time": "2024-07-20T06:46:59.470Z"
   },
   {
    "duration": 19,
    "start_time": "2024-07-20T06:47:24.705Z"
   },
   {
    "duration": 7,
    "start_time": "2024-07-20T06:49:11.965Z"
   },
   {
    "duration": 7,
    "start_time": "2024-07-20T06:49:36.625Z"
   },
   {
    "duration": 11,
    "start_time": "2024-07-20T06:53:18.355Z"
   },
   {
    "duration": 33,
    "start_time": "2024-07-20T06:53:31.108Z"
   },
   {
    "duration": 59,
    "start_time": "2024-07-20T06:54:11.825Z"
   },
   {
    "duration": 62,
    "start_time": "2024-07-20T06:54:23.767Z"
   },
   {
    "duration": 68,
    "start_time": "2024-07-20T06:55:15.860Z"
   },
   {
    "duration": 77,
    "start_time": "2024-07-20T06:55:25.275Z"
   },
   {
    "duration": 64,
    "start_time": "2024-07-20T06:55:44.085Z"
   },
   {
    "duration": 10,
    "start_time": "2024-07-20T06:57:54.845Z"
   },
   {
    "duration": 22,
    "start_time": "2024-07-20T06:58:00.928Z"
   },
   {
    "duration": 420,
    "start_time": "2024-07-20T07:04:08.367Z"
   },
   {
    "duration": 452,
    "start_time": "2024-07-20T07:04:31.600Z"
   },
   {
    "duration": 604,
    "start_time": "2024-07-20T07:05:01.846Z"
   },
   {
    "duration": 112,
    "start_time": "2024-07-20T07:05:12.485Z"
   },
   {
    "duration": 45,
    "start_time": "2024-07-20T07:05:48.226Z"
   },
   {
    "duration": 537,
    "start_time": "2024-07-20T07:05:56.585Z"
   },
   {
    "duration": 889,
    "start_time": "2024-07-20T07:06:54.665Z"
   },
   {
    "duration": 784,
    "start_time": "2024-07-20T07:07:07.065Z"
   },
   {
    "duration": 7,
    "start_time": "2024-07-20T07:07:50.806Z"
   },
   {
    "duration": 322,
    "start_time": "2024-07-20T07:08:29.844Z"
   },
   {
    "duration": 93,
    "start_time": "2024-07-20T07:09:53.805Z"
   },
   {
    "duration": 3,
    "start_time": "2024-07-20T07:09:58.827Z"
   },
   {
    "duration": 198,
    "start_time": "2024-07-20T07:09:58.834Z"
   },
   {
    "duration": 61,
    "start_time": "2024-07-20T07:09:59.035Z"
   },
   {
    "duration": 12,
    "start_time": "2024-07-20T07:09:59.099Z"
   },
   {
    "duration": 9,
    "start_time": "2024-07-20T07:09:59.130Z"
   },
   {
    "duration": 1258,
    "start_time": "2024-07-20T07:09:59.142Z"
   },
   {
    "duration": 149,
    "start_time": "2024-07-20T07:10:00.403Z"
   },
   {
    "duration": 19,
    "start_time": "2024-07-20T07:10:00.555Z"
   },
   {
    "duration": 167,
    "start_time": "2024-07-20T07:10:00.577Z"
   },
   {
    "duration": 235,
    "start_time": "2024-07-20T07:10:00.747Z"
   },
   {
    "duration": 91,
    "start_time": "2024-07-20T07:10:00.990Z"
   },
   {
    "duration": 33,
    "start_time": "2024-07-20T07:10:01.085Z"
   },
   {
    "duration": 14,
    "start_time": "2024-07-20T07:10:01.134Z"
   },
   {
    "duration": 33,
    "start_time": "2024-07-20T07:10:01.151Z"
   },
   {
    "duration": 74,
    "start_time": "2024-07-20T07:10:01.190Z"
   },
   {
    "duration": 8,
    "start_time": "2024-07-20T07:10:01.268Z"
   },
   {
    "duration": 14,
    "start_time": "2024-07-20T07:10:01.286Z"
   },
   {
    "duration": 37,
    "start_time": "2024-07-20T07:10:01.304Z"
   },
   {
    "duration": 1389,
    "start_time": "2024-07-20T07:10:01.344Z"
   },
   {
    "duration": 751,
    "start_time": "2024-07-20T07:10:02.736Z"
   },
   {
    "duration": 10,
    "start_time": "2024-07-20T07:10:03.490Z"
   },
   {
    "duration": 42,
    "start_time": "2024-07-20T07:10:03.503Z"
   },
   {
    "duration": 22,
    "start_time": "2024-07-20T07:10:03.550Z"
   },
   {
    "duration": 15,
    "start_time": "2024-07-20T07:10:03.574Z"
   },
   {
    "duration": 50,
    "start_time": "2024-07-20T07:10:03.593Z"
   },
   {
    "duration": 40,
    "start_time": "2024-07-20T07:10:03.647Z"
   },
   {
    "duration": 8,
    "start_time": "2024-07-20T07:10:03.690Z"
   },
   {
    "duration": 12,
    "start_time": "2024-07-20T07:10:03.731Z"
   },
   {
    "duration": 80,
    "start_time": "2024-07-20T07:10:03.752Z"
   },
   {
    "duration": 21,
    "start_time": "2024-07-20T07:10:03.835Z"
   },
   {
    "duration": 4,
    "start_time": "2024-07-20T07:10:03.859Z"
   },
   {
    "duration": 1287,
    "start_time": "2024-07-20T07:10:03.866Z"
   },
   {
    "duration": 22,
    "start_time": "2024-07-20T07:11:24.965Z"
   },
   {
    "duration": 153,
    "start_time": "2024-07-20T07:11:45.785Z"
   },
   {
    "duration": 50,
    "start_time": "2024-07-20T07:14:17.505Z"
   },
   {
    "duration": 33,
    "start_time": "2024-07-20T07:14:25.465Z"
   },
   {
    "duration": 64,
    "start_time": "2024-07-20T07:15:01.487Z"
   },
   {
    "duration": 620,
    "start_time": "2024-07-20T07:15:26.868Z"
   },
   {
    "duration": 332,
    "start_time": "2024-07-20T07:17:36.866Z"
   },
   {
    "duration": 420,
    "start_time": "2024-07-20T07:17:54.405Z"
   },
   {
    "duration": 266,
    "start_time": "2024-07-20T07:17:54.831Z"
   },
   {
    "duration": 87,
    "start_time": "2024-07-20T07:17:55.100Z"
   },
   {
    "duration": 8,
    "start_time": "2024-07-20T07:17:55.190Z"
   },
   {
    "duration": 8,
    "start_time": "2024-07-20T07:17:55.204Z"
   },
   {
    "duration": 1397,
    "start_time": "2024-07-20T07:17:55.215Z"
   },
   {
    "duration": 191,
    "start_time": "2024-07-20T07:17:56.615Z"
   },
   {
    "duration": 32,
    "start_time": "2024-07-20T07:17:56.811Z"
   },
   {
    "duration": 206,
    "start_time": "2024-07-20T07:17:56.847Z"
   },
   {
    "duration": 300,
    "start_time": "2024-07-20T07:17:57.057Z"
   },
   {
    "duration": 109,
    "start_time": "2024-07-20T07:17:57.360Z"
   },
   {
    "duration": 29,
    "start_time": "2024-07-20T07:17:57.472Z"
   },
   {
    "duration": 35,
    "start_time": "2024-07-20T07:17:57.505Z"
   },
   {
    "duration": 29,
    "start_time": "2024-07-20T07:17:57.546Z"
   },
   {
    "duration": 83,
    "start_time": "2024-07-20T07:17:57.579Z"
   },
   {
    "duration": 8,
    "start_time": "2024-07-20T07:17:57.664Z"
   },
   {
    "duration": 10,
    "start_time": "2024-07-20T07:17:57.676Z"
   },
   {
    "duration": 43,
    "start_time": "2024-07-20T07:17:57.689Z"
   },
   {
    "duration": 1351,
    "start_time": "2024-07-20T07:17:57.735Z"
   },
   {
    "duration": 873,
    "start_time": "2024-07-20T07:17:59.089Z"
   },
   {
    "duration": 11,
    "start_time": "2024-07-20T07:17:59.964Z"
   },
   {
    "duration": 25,
    "start_time": "2024-07-20T07:17:59.979Z"
   },
   {
    "duration": 21,
    "start_time": "2024-07-20T07:18:00.032Z"
   },
   {
    "duration": 16,
    "start_time": "2024-07-20T07:18:00.056Z"
   },
   {
    "duration": 18,
    "start_time": "2024-07-20T07:18:00.077Z"
   },
   {
    "duration": 34,
    "start_time": "2024-07-20T07:18:00.130Z"
   },
   {
    "duration": 7,
    "start_time": "2024-07-20T07:18:00.167Z"
   },
   {
    "duration": 10,
    "start_time": "2024-07-20T07:18:00.178Z"
   },
   {
    "duration": 96,
    "start_time": "2024-07-20T07:18:00.192Z"
   },
   {
    "duration": 43,
    "start_time": "2024-07-20T07:18:00.291Z"
   },
   {
    "duration": 6,
    "start_time": "2024-07-20T07:18:00.340Z"
   },
   {
    "duration": 1161,
    "start_time": "2024-07-20T07:18:00.349Z"
   },
   {
    "duration": 156,
    "start_time": "2024-07-20T07:20:02.808Z"
   },
   {
    "duration": 58,
    "start_time": "2024-07-20T07:21:14.646Z"
   },
   {
    "duration": 13,
    "start_time": "2024-07-20T07:21:29.268Z"
   },
   {
    "duration": 9,
    "start_time": "2024-07-20T07:21:46.586Z"
   },
   {
    "duration": 32,
    "start_time": "2024-07-20T07:21:52.485Z"
   },
   {
    "duration": 23,
    "start_time": "2024-07-20T07:22:02.725Z"
   },
   {
    "duration": 44,
    "start_time": "2024-07-20T07:22:08.305Z"
   },
   {
    "duration": 40,
    "start_time": "2024-07-20T07:23:02.705Z"
   },
   {
    "duration": 840,
    "start_time": "2024-07-20T07:24:14.085Z"
   },
   {
    "duration": 77,
    "start_time": "2024-07-20T07:24:18.230Z"
   },
   {
    "duration": 47,
    "start_time": "2024-07-20T07:24:26.227Z"
   },
   {
    "duration": 12,
    "start_time": "2024-07-20T07:25:38.388Z"
   },
   {
    "duration": 16,
    "start_time": "2024-07-20T07:29:38.647Z"
   },
   {
    "duration": 13,
    "start_time": "2024-07-20T07:29:44.025Z"
   },
   {
    "duration": 12,
    "start_time": "2024-07-20T07:30:06.945Z"
   },
   {
    "duration": 9,
    "start_time": "2024-07-20T07:32:15.365Z"
   },
   {
    "duration": 484,
    "start_time": "2024-07-20T07:33:36.267Z"
   },
   {
    "duration": 211,
    "start_time": "2024-07-20T07:33:36.756Z"
   },
   {
    "duration": 66,
    "start_time": "2024-07-20T07:33:36.970Z"
   },
   {
    "duration": 9,
    "start_time": "2024-07-20T07:33:37.038Z"
   },
   {
    "duration": 8,
    "start_time": "2024-07-20T07:33:37.054Z"
   },
   {
    "duration": 1316,
    "start_time": "2024-07-20T07:33:37.065Z"
   },
   {
    "duration": 192,
    "start_time": "2024-07-20T07:33:38.386Z"
   },
   {
    "duration": 18,
    "start_time": "2024-07-20T07:33:38.582Z"
   },
   {
    "duration": 213,
    "start_time": "2024-07-20T07:33:38.603Z"
   },
   {
    "duration": 296,
    "start_time": "2024-07-20T07:33:38.819Z"
   },
   {
    "duration": 90,
    "start_time": "2024-07-20T07:33:39.118Z"
   },
   {
    "duration": 48,
    "start_time": "2024-07-20T07:33:39.210Z"
   },
   {
    "duration": 15,
    "start_time": "2024-07-20T07:33:39.261Z"
   },
   {
    "duration": 51,
    "start_time": "2024-07-20T07:33:39.282Z"
   },
   {
    "duration": 48,
    "start_time": "2024-07-20T07:33:39.336Z"
   },
   {
    "duration": 7,
    "start_time": "2024-07-20T07:33:39.387Z"
   },
   {
    "duration": 11,
    "start_time": "2024-07-20T07:33:39.431Z"
   },
   {
    "duration": 14,
    "start_time": "2024-07-20T07:33:39.446Z"
   },
   {
    "duration": 1379,
    "start_time": "2024-07-20T07:33:39.463Z"
   },
   {
    "duration": 851,
    "start_time": "2024-07-20T07:33:40.846Z"
   },
   {
    "duration": 14,
    "start_time": "2024-07-20T07:33:41.700Z"
   },
   {
    "duration": 41,
    "start_time": "2024-07-20T07:33:41.716Z"
   },
   {
    "duration": 27,
    "start_time": "2024-07-20T07:33:41.762Z"
   },
   {
    "duration": 35,
    "start_time": "2024-07-20T07:33:41.797Z"
   },
   {
    "duration": 15,
    "start_time": "2024-07-20T07:33:41.835Z"
   },
   {
    "duration": 31,
    "start_time": "2024-07-20T07:33:41.853Z"
   },
   {
    "duration": 43,
    "start_time": "2024-07-20T07:33:41.887Z"
   },
   {
    "duration": 11,
    "start_time": "2024-07-20T07:33:41.933Z"
   },
   {
    "duration": 93,
    "start_time": "2024-07-20T07:33:41.946Z"
   },
   {
    "duration": 34,
    "start_time": "2024-07-20T07:33:42.041Z"
   },
   {
    "duration": 3,
    "start_time": "2024-07-20T07:33:42.078Z"
   },
   {
    "duration": 1236,
    "start_time": "2024-07-20T07:33:42.084Z"
   },
   {
    "duration": 53,
    "start_time": "2024-07-20T07:33:43.323Z"
   },
   {
    "duration": 59,
    "start_time": "2024-07-20T07:33:43.379Z"
   },
   {
    "duration": 13,
    "start_time": "2024-07-20T07:33:43.441Z"
   },
   {
    "duration": 19,
    "start_time": "2024-07-20T07:33:43.460Z"
   },
   {
    "duration": 11,
    "start_time": "2024-07-20T07:33:43.483Z"
   },
   {
    "duration": 39,
    "start_time": "2024-07-20T07:33:43.497Z"
   },
   {
    "duration": 3977,
    "start_time": "2024-07-20T07:35:37.564Z"
   },
   {
    "duration": 395,
    "start_time": "2024-07-20T07:43:55.426Z"
   },
   {
    "duration": 340,
    "start_time": "2024-07-20T07:44:04.785Z"
   },
   {
    "duration": 379,
    "start_time": "2024-07-20T07:44:10.170Z"
   },
   {
    "duration": 378,
    "start_time": "2024-07-20T07:44:35.709Z"
   },
   {
    "duration": 362,
    "start_time": "2024-07-20T07:44:41.146Z"
   },
   {
    "duration": 443,
    "start_time": "2024-07-20T07:45:02.946Z"
   },
   {
    "duration": 371,
    "start_time": "2024-07-20T07:45:41.768Z"
   },
   {
    "duration": 330,
    "start_time": "2024-07-20T07:45:58.615Z"
   },
   {
    "duration": 352,
    "start_time": "2024-07-20T07:46:43.485Z"
   },
   {
    "duration": 348,
    "start_time": "2024-07-20T07:54:17.205Z"
   },
   {
    "duration": 30,
    "start_time": "2024-07-20T07:54:23.030Z"
   },
   {
    "duration": 295,
    "start_time": "2024-07-20T07:54:29.845Z"
   },
   {
    "duration": 231,
    "start_time": "2024-07-20T08:07:21.469Z"
   },
   {
    "duration": 30,
    "start_time": "2024-07-20T08:07:43.851Z"
   },
   {
    "duration": 217,
    "start_time": "2024-07-20T08:09:34.244Z"
   },
   {
    "duration": 369,
    "start_time": "2024-07-20T08:11:36.729Z"
   },
   {
    "duration": 205,
    "start_time": "2024-07-20T08:12:07.108Z"
   },
   {
    "duration": 201,
    "start_time": "2024-07-20T08:12:30.868Z"
   },
   {
    "duration": 213,
    "start_time": "2024-07-20T08:12:34.669Z"
   },
   {
    "duration": 205,
    "start_time": "2024-07-20T08:13:03.768Z"
   },
   {
    "duration": 908,
    "start_time": "2024-07-20T08:18:57.309Z"
   },
   {
    "duration": 896,
    "start_time": "2024-07-20T08:19:13.049Z"
   },
   {
    "duration": 954,
    "start_time": "2024-07-20T08:20:11.353Z"
   },
   {
    "duration": 11,
    "start_time": "2024-07-20T08:22:43.188Z"
   },
   {
    "duration": 21,
    "start_time": "2024-07-20T08:23:47.068Z"
   },
   {
    "duration": 926,
    "start_time": "2024-07-20T08:28:02.683Z"
   },
   {
    "duration": 13,
    "start_time": "2024-07-20T08:28:12.672Z"
   },
   {
    "duration": 431,
    "start_time": "2024-07-20T08:29:35.595Z"
   },
   {
    "duration": 206,
    "start_time": "2024-07-20T08:29:36.032Z"
   },
   {
    "duration": 57,
    "start_time": "2024-07-20T08:29:36.241Z"
   },
   {
    "duration": 7,
    "start_time": "2024-07-20T08:29:36.301Z"
   },
   {
    "duration": 25,
    "start_time": "2024-07-20T08:29:36.312Z"
   },
   {
    "duration": 1258,
    "start_time": "2024-07-20T08:29:36.339Z"
   },
   {
    "duration": 215,
    "start_time": "2024-07-20T08:29:37.600Z"
   },
   {
    "duration": 21,
    "start_time": "2024-07-20T08:29:37.819Z"
   },
   {
    "duration": 210,
    "start_time": "2024-07-20T08:29:37.843Z"
   },
   {
    "duration": 278,
    "start_time": "2024-07-20T08:29:38.055Z"
   },
   {
    "duration": 108,
    "start_time": "2024-07-20T08:29:38.335Z"
   },
   {
    "duration": 29,
    "start_time": "2024-07-20T08:29:38.446Z"
   },
   {
    "duration": 14,
    "start_time": "2024-07-20T08:29:38.479Z"
   },
   {
    "duration": 28,
    "start_time": "2024-07-20T08:29:38.530Z"
   },
   {
    "duration": 49,
    "start_time": "2024-07-20T08:29:38.560Z"
   },
   {
    "duration": 8,
    "start_time": "2024-07-20T08:29:38.632Z"
   },
   {
    "duration": 10,
    "start_time": "2024-07-20T08:29:38.643Z"
   },
   {
    "duration": 17,
    "start_time": "2024-07-20T08:29:38.656Z"
   },
   {
    "duration": 1403,
    "start_time": "2024-07-20T08:29:38.676Z"
   },
   {
    "duration": 830,
    "start_time": "2024-07-20T08:29:40.082Z"
   },
   {
    "duration": 18,
    "start_time": "2024-07-20T08:29:40.915Z"
   },
   {
    "duration": 25,
    "start_time": "2024-07-20T08:29:40.937Z"
   },
   {
    "duration": 21,
    "start_time": "2024-07-20T08:29:40.965Z"
   },
   {
    "duration": 51,
    "start_time": "2024-07-20T08:29:40.989Z"
   },
   {
    "duration": 14,
    "start_time": "2024-07-20T08:29:41.043Z"
   },
   {
    "duration": 29,
    "start_time": "2024-07-20T08:29:41.060Z"
   },
   {
    "duration": 43,
    "start_time": "2024-07-20T08:29:41.092Z"
   },
   {
    "duration": 11,
    "start_time": "2024-07-20T08:29:41.139Z"
   },
   {
    "duration": 96,
    "start_time": "2024-07-20T08:29:41.152Z"
   },
   {
    "duration": 19,
    "start_time": "2024-07-20T08:29:41.252Z"
   },
   {
    "duration": 3,
    "start_time": "2024-07-20T08:29:41.274Z"
   },
   {
    "duration": 1270,
    "start_time": "2024-07-20T08:29:41.281Z"
   },
   {
    "duration": 43,
    "start_time": "2024-07-20T08:29:42.554Z"
   },
   {
    "duration": 62,
    "start_time": "2024-07-20T08:29:42.600Z"
   },
   {
    "duration": 12,
    "start_time": "2024-07-20T08:29:42.665Z"
   },
   {
    "duration": 12,
    "start_time": "2024-07-20T08:29:42.680Z"
   },
   {
    "duration": 41,
    "start_time": "2024-07-20T08:29:42.695Z"
   },
   {
    "duration": 8,
    "start_time": "2024-07-20T08:29:42.742Z"
   },
   {
    "duration": 252,
    "start_time": "2024-07-20T08:29:42.754Z"
   },
   {
    "duration": 440,
    "start_time": "2024-07-20T08:29:43.009Z"
   },
   {
    "duration": 29,
    "start_time": "2024-07-20T08:29:43.457Z"
   },
   {
    "duration": 230,
    "start_time": "2024-07-20T08:29:43.488Z"
   },
   {
    "duration": 945,
    "start_time": "2024-07-20T08:29:43.721Z"
   },
   {
    "duration": 10,
    "start_time": "2024-07-20T08:29:44.669Z"
   },
   {
    "duration": 13,
    "start_time": "2024-07-20T08:29:44.682Z"
   },
   {
    "duration": 943,
    "start_time": "2024-07-20T08:31:22.536Z"
   },
   {
    "duration": 14,
    "start_time": "2024-07-20T08:31:31.459Z"
   },
   {
    "duration": 14,
    "start_time": "2024-07-20T08:31:33.914Z"
   },
   {
    "duration": 425,
    "start_time": "2024-07-20T08:31:43.470Z"
   },
   {
    "duration": 226,
    "start_time": "2024-07-20T08:31:43.899Z"
   },
   {
    "duration": 61,
    "start_time": "2024-07-20T08:31:44.130Z"
   },
   {
    "duration": 7,
    "start_time": "2024-07-20T08:31:44.194Z"
   },
   {
    "duration": 25,
    "start_time": "2024-07-20T08:31:44.208Z"
   },
   {
    "duration": 1281,
    "start_time": "2024-07-20T08:31:44.239Z"
   },
   {
    "duration": 197,
    "start_time": "2024-07-20T08:31:45.523Z"
   },
   {
    "duration": 21,
    "start_time": "2024-07-20T08:31:45.723Z"
   },
   {
    "duration": 217,
    "start_time": "2024-07-20T08:31:45.747Z"
   },
   {
    "duration": 296,
    "start_time": "2024-07-20T08:31:45.967Z"
   },
   {
    "duration": 131,
    "start_time": "2024-07-20T08:31:46.267Z"
   },
   {
    "duration": 37,
    "start_time": "2024-07-20T08:31:46.402Z"
   },
   {
    "duration": 14,
    "start_time": "2024-07-20T08:31:46.445Z"
   },
   {
    "duration": 30,
    "start_time": "2024-07-20T08:31:46.466Z"
   },
   {
    "duration": 76,
    "start_time": "2024-07-20T08:31:46.500Z"
   },
   {
    "duration": 8,
    "start_time": "2024-07-20T08:31:46.579Z"
   },
   {
    "duration": 39,
    "start_time": "2024-07-20T08:31:46.590Z"
   },
   {
    "duration": 21,
    "start_time": "2024-07-20T08:31:46.634Z"
   },
   {
    "duration": 1394,
    "start_time": "2024-07-20T08:31:46.658Z"
   },
   {
    "duration": 877,
    "start_time": "2024-07-20T08:31:48.055Z"
   },
   {
    "duration": 11,
    "start_time": "2024-07-20T08:31:48.937Z"
   },
   {
    "duration": 25,
    "start_time": "2024-07-20T08:31:48.951Z"
   },
   {
    "duration": 53,
    "start_time": "2024-07-20T08:31:48.979Z"
   },
   {
    "duration": 16,
    "start_time": "2024-07-20T08:31:49.035Z"
   },
   {
    "duration": 13,
    "start_time": "2024-07-20T08:31:49.055Z"
   },
   {
    "duration": 67,
    "start_time": "2024-07-20T08:31:49.071Z"
   },
   {
    "duration": 8,
    "start_time": "2024-07-20T08:31:49.141Z"
   },
   {
    "duration": 11,
    "start_time": "2024-07-20T08:31:49.152Z"
   },
   {
    "duration": 97,
    "start_time": "2024-07-20T08:31:49.167Z"
   },
   {
    "duration": 20,
    "start_time": "2024-07-20T08:31:49.267Z"
   },
   {
    "duration": 3,
    "start_time": "2024-07-20T08:31:49.290Z"
   },
   {
    "duration": 1198,
    "start_time": "2024-07-20T08:31:49.296Z"
   },
   {
    "duration": 60,
    "start_time": "2024-07-20T08:31:50.498Z"
   },
   {
    "duration": 37,
    "start_time": "2024-07-20T08:31:50.562Z"
   },
   {
    "duration": 32,
    "start_time": "2024-07-20T08:31:50.602Z"
   },
   {
    "duration": 12,
    "start_time": "2024-07-20T08:31:50.638Z"
   },
   {
    "duration": 12,
    "start_time": "2024-07-20T08:31:50.654Z"
   },
   {
    "duration": 10,
    "start_time": "2024-07-20T08:31:50.669Z"
   },
   {
    "duration": 286,
    "start_time": "2024-07-20T08:31:50.681Z"
   },
   {
    "duration": 426,
    "start_time": "2024-07-20T08:31:50.972Z"
   },
   {
    "duration": 45,
    "start_time": "2024-07-20T08:31:51.407Z"
   },
   {
    "duration": 222,
    "start_time": "2024-07-20T08:31:51.455Z"
   },
   {
    "duration": 976,
    "start_time": "2024-07-20T08:31:51.680Z"
   },
   {
    "duration": 12,
    "start_time": "2024-07-20T08:31:52.662Z"
   },
   {
    "duration": 15,
    "start_time": "2024-07-20T08:31:52.677Z"
   },
   {
    "duration": 663,
    "start_time": "2024-07-20T08:33:38.790Z"
   },
   {
    "duration": 824,
    "start_time": "2024-07-20T08:33:54.951Z"
   },
   {
    "duration": 14,
    "start_time": "2024-07-20T08:34:03.395Z"
   },
   {
    "duration": 925,
    "start_time": "2024-07-20T08:34:15.632Z"
   },
   {
    "duration": 966,
    "start_time": "2024-07-20T08:34:22.330Z"
   },
   {
    "duration": 931,
    "start_time": "2024-07-20T08:39:34.091Z"
   },
   {
    "duration": 16,
    "start_time": "2024-07-20T08:43:21.990Z"
   },
   {
    "duration": 421,
    "start_time": "2024-07-20T08:44:14.001Z"
   },
   {
    "duration": 207,
    "start_time": "2024-07-20T08:44:14.426Z"
   },
   {
    "duration": 58,
    "start_time": "2024-07-20T08:44:14.636Z"
   },
   {
    "duration": 7,
    "start_time": "2024-07-20T08:44:14.697Z"
   },
   {
    "duration": 23,
    "start_time": "2024-07-20T08:44:14.711Z"
   },
   {
    "duration": 1282,
    "start_time": "2024-07-20T08:44:14.737Z"
   },
   {
    "duration": 207,
    "start_time": "2024-07-20T08:44:16.023Z"
   },
   {
    "duration": 20,
    "start_time": "2024-07-20T08:44:16.233Z"
   },
   {
    "duration": 209,
    "start_time": "2024-07-20T08:44:16.257Z"
   },
   {
    "duration": 269,
    "start_time": "2024-07-20T08:44:16.469Z"
   },
   {
    "duration": 120,
    "start_time": "2024-07-20T08:44:16.741Z"
   },
   {
    "duration": 33,
    "start_time": "2024-07-20T08:44:16.865Z"
   },
   {
    "duration": 34,
    "start_time": "2024-07-20T08:44:16.901Z"
   },
   {
    "duration": 28,
    "start_time": "2024-07-20T08:44:16.941Z"
   },
   {
    "duration": 77,
    "start_time": "2024-07-20T08:44:16.972Z"
   },
   {
    "duration": 7,
    "start_time": "2024-07-20T08:44:17.052Z"
   },
   {
    "duration": 12,
    "start_time": "2024-07-20T08:44:17.062Z"
   },
   {
    "duration": 15,
    "start_time": "2024-07-20T08:44:17.077Z"
   },
   {
    "duration": 1369,
    "start_time": "2024-07-20T08:44:17.131Z"
   },
   {
    "duration": 878,
    "start_time": "2024-07-20T08:44:18.503Z"
   },
   {
    "duration": 19,
    "start_time": "2024-07-20T08:44:19.384Z"
   },
   {
    "duration": 39,
    "start_time": "2024-07-20T08:44:19.406Z"
   },
   {
    "duration": 23,
    "start_time": "2024-07-20T08:44:19.448Z"
   },
   {
    "duration": 14,
    "start_time": "2024-07-20T08:44:19.474Z"
   },
   {
    "duration": 46,
    "start_time": "2024-07-20T08:44:19.492Z"
   },
   {
    "duration": 31,
    "start_time": "2024-07-20T08:44:19.541Z"
   },
   {
    "duration": 8,
    "start_time": "2024-07-20T08:44:19.575Z"
   },
   {
    "duration": 12,
    "start_time": "2024-07-20T08:44:19.586Z"
   },
   {
    "duration": 67,
    "start_time": "2024-07-20T08:44:19.632Z"
   },
   {
    "duration": 44,
    "start_time": "2024-07-20T08:44:19.702Z"
   },
   {
    "duration": 5,
    "start_time": "2024-07-20T08:44:19.748Z"
   },
   {
    "duration": 1232,
    "start_time": "2024-07-20T08:44:19.756Z"
   },
   {
    "duration": 61,
    "start_time": "2024-07-20T08:44:20.991Z"
   },
   {
    "duration": 42,
    "start_time": "2024-07-20T08:44:21.055Z"
   },
   {
    "duration": 34,
    "start_time": "2024-07-20T08:44:21.102Z"
   },
   {
    "duration": 13,
    "start_time": "2024-07-20T08:44:21.141Z"
   },
   {
    "duration": 11,
    "start_time": "2024-07-20T08:44:21.157Z"
   },
   {
    "duration": 12,
    "start_time": "2024-07-20T08:44:21.171Z"
   },
   {
    "duration": 261,
    "start_time": "2024-07-20T08:44:21.186Z"
   },
   {
    "duration": 468,
    "start_time": "2024-07-20T08:44:21.450Z"
   },
   {
    "duration": 32,
    "start_time": "2024-07-20T08:44:21.934Z"
   },
   {
    "duration": 250,
    "start_time": "2024-07-20T08:44:21.969Z"
   },
   {
    "duration": 980,
    "start_time": "2024-07-20T08:44:22.222Z"
   },
   {
    "duration": 29,
    "start_time": "2024-07-20T08:44:23.205Z"
   },
   {
    "duration": 407,
    "start_time": "2024-07-22T04:04:18.390Z"
   },
   {
    "duration": 257,
    "start_time": "2024-07-22T04:04:18.801Z"
   },
   {
    "duration": 81,
    "start_time": "2024-07-22T04:04:19.061Z"
   },
   {
    "duration": 9,
    "start_time": "2024-07-22T04:04:19.145Z"
   },
   {
    "duration": 9,
    "start_time": "2024-07-22T04:04:19.157Z"
   },
   {
    "duration": 1350,
    "start_time": "2024-07-22T04:04:19.169Z"
   },
   {
    "duration": 185,
    "start_time": "2024-07-22T04:04:20.530Z"
   },
   {
    "duration": 26,
    "start_time": "2024-07-22T04:04:20.717Z"
   },
   {
    "duration": 200,
    "start_time": "2024-07-22T04:04:20.746Z"
   },
   {
    "duration": 301,
    "start_time": "2024-07-22T04:04:20.949Z"
   },
   {
    "duration": 99,
    "start_time": "2024-07-22T04:04:21.253Z"
   },
   {
    "duration": 28,
    "start_time": "2024-07-22T04:04:21.356Z"
   },
   {
    "duration": 13,
    "start_time": "2024-07-22T04:04:21.387Z"
   },
   {
    "duration": 28,
    "start_time": "2024-07-22T04:04:21.433Z"
   },
   {
    "duration": 67,
    "start_time": "2024-07-22T04:04:21.465Z"
   },
   {
    "duration": 8,
    "start_time": "2024-07-22T04:04:21.535Z"
   },
   {
    "duration": 10,
    "start_time": "2024-07-22T04:04:21.546Z"
   },
   {
    "duration": 14,
    "start_time": "2024-07-22T04:04:21.559Z"
   },
   {
    "duration": 1486,
    "start_time": "2024-07-22T04:04:21.577Z"
   },
   {
    "duration": 857,
    "start_time": "2024-07-22T04:04:23.066Z"
   },
   {
    "duration": 10,
    "start_time": "2024-07-22T04:04:23.930Z"
   },
   {
    "duration": 24,
    "start_time": "2024-07-22T04:04:23.943Z"
   },
   {
    "duration": 20,
    "start_time": "2024-07-22T04:04:23.969Z"
   },
   {
    "duration": 49,
    "start_time": "2024-07-22T04:04:23.991Z"
   },
   {
    "duration": 14,
    "start_time": "2024-07-22T04:04:24.044Z"
   },
   {
    "duration": 31,
    "start_time": "2024-07-22T04:04:24.061Z"
   },
   {
    "duration": 7,
    "start_time": "2024-07-22T04:04:24.132Z"
   },
   {
    "duration": 11,
    "start_time": "2024-07-22T04:04:24.142Z"
   },
   {
    "duration": 95,
    "start_time": "2024-07-22T04:04:24.157Z"
   },
   {
    "duration": 19,
    "start_time": "2024-07-22T04:04:24.254Z"
   },
   {
    "duration": 4,
    "start_time": "2024-07-22T04:04:24.276Z"
   },
   {
    "duration": 1211,
    "start_time": "2024-07-22T04:04:24.283Z"
   },
   {
    "duration": 56,
    "start_time": "2024-07-22T04:04:25.497Z"
   },
   {
    "duration": 38,
    "start_time": "2024-07-22T04:04:25.556Z"
   },
   {
    "duration": 36,
    "start_time": "2024-07-22T04:04:25.597Z"
   },
   {
    "duration": 15,
    "start_time": "2024-07-22T04:04:25.636Z"
   },
   {
    "duration": 13,
    "start_time": "2024-07-22T04:04:25.653Z"
   },
   {
    "duration": 13,
    "start_time": "2024-07-22T04:04:25.669Z"
   },
   {
    "duration": 3912,
    "start_time": "2024-07-22T04:04:25.685Z"
   },
   {
    "duration": 374,
    "start_time": "2024-07-22T04:04:29.600Z"
   },
   {
    "duration": 30,
    "start_time": "2024-07-22T04:04:29.981Z"
   },
   {
    "duration": 294,
    "start_time": "2024-07-22T04:04:30.015Z"
   },
   {
    "duration": 934,
    "start_time": "2024-07-22T04:04:30.312Z"
   },
   {
    "duration": 25,
    "start_time": "2024-07-22T04:04:31.249Z"
   },
   {
    "duration": 73,
    "start_time": "2024-07-22T04:15:22.069Z"
   },
   {
    "duration": 2324,
    "start_time": "2024-07-22T04:15:23.749Z"
   },
   {
    "duration": 4,
    "start_time": "2024-07-22T04:16:03.289Z"
   },
   {
    "duration": 202,
    "start_time": "2024-07-22T04:16:03.309Z"
   },
   {
    "duration": 61,
    "start_time": "2024-07-22T04:16:03.514Z"
   },
   {
    "duration": 8,
    "start_time": "2024-07-22T04:16:03.578Z"
   },
   {
    "duration": 7,
    "start_time": "2024-07-22T04:16:03.589Z"
   },
   {
    "duration": 1246,
    "start_time": "2024-07-22T04:16:03.600Z"
   },
   {
    "duration": 152,
    "start_time": "2024-07-22T04:16:04.849Z"
   },
   {
    "duration": 28,
    "start_time": "2024-07-22T04:16:05.003Z"
   },
   {
    "duration": 174,
    "start_time": "2024-07-22T04:16:05.034Z"
   },
   {
    "duration": 247,
    "start_time": "2024-07-22T04:16:05.211Z"
   },
   {
    "duration": 94,
    "start_time": "2024-07-22T04:16:05.461Z"
   },
   {
    "duration": 30,
    "start_time": "2024-07-22T04:16:05.558Z"
   },
   {
    "duration": 47,
    "start_time": "2024-07-22T04:16:05.592Z"
   },
   {
    "duration": 44,
    "start_time": "2024-07-22T04:16:05.644Z"
   },
   {
    "duration": 64,
    "start_time": "2024-07-22T04:16:05.704Z"
   },
   {
    "duration": 11,
    "start_time": "2024-07-22T04:16:05.771Z"
   },
   {
    "duration": 11,
    "start_time": "2024-07-22T04:16:05.784Z"
   },
   {
    "duration": 42,
    "start_time": "2024-07-22T04:16:05.798Z"
   },
   {
    "duration": 1310,
    "start_time": "2024-07-22T04:16:05.843Z"
   },
   {
    "duration": 784,
    "start_time": "2024-07-22T04:16:07.156Z"
   },
   {
    "duration": 12,
    "start_time": "2024-07-22T04:16:07.943Z"
   },
   {
    "duration": 25,
    "start_time": "2024-07-22T04:16:07.958Z"
   },
   {
    "duration": 59,
    "start_time": "2024-07-22T04:16:07.987Z"
   },
   {
    "duration": 14,
    "start_time": "2024-07-22T04:16:08.049Z"
   },
   {
    "duration": 18,
    "start_time": "2024-07-22T04:16:08.066Z"
   },
   {
    "duration": 67,
    "start_time": "2024-07-22T04:16:08.088Z"
   },
   {
    "duration": 8,
    "start_time": "2024-07-22T04:16:08.158Z"
   },
   {
    "duration": 10,
    "start_time": "2024-07-22T04:16:08.169Z"
   },
   {
    "duration": 94,
    "start_time": "2024-07-22T04:16:08.182Z"
   },
   {
    "duration": 20,
    "start_time": "2024-07-22T04:16:08.279Z"
   },
   {
    "duration": 4,
    "start_time": "2024-07-22T04:16:08.302Z"
   },
   {
    "duration": 1101,
    "start_time": "2024-07-22T04:16:08.331Z"
   },
   {
    "duration": 46,
    "start_time": "2024-07-22T04:16:09.434Z"
   },
   {
    "duration": 62,
    "start_time": "2024-07-22T04:16:09.483Z"
   },
   {
    "duration": 11,
    "start_time": "2024-07-22T04:16:09.548Z"
   },
   {
    "duration": 12,
    "start_time": "2024-07-22T04:16:09.562Z"
   },
   {
    "duration": 12,
    "start_time": "2024-07-22T04:16:09.577Z"
   },
   {
    "duration": 46,
    "start_time": "2024-07-22T04:16:09.591Z"
   },
   {
    "duration": 4,
    "start_time": "2024-07-22T04:16:09.639Z"
   },
   {
    "duration": 370,
    "start_time": "2024-07-22T04:16:09.646Z"
   },
   {
    "duration": 38,
    "start_time": "2024-07-22T04:16:10.019Z"
   },
   {
    "duration": 269,
    "start_time": "2024-07-22T04:16:10.064Z"
   },
   {
    "duration": 919,
    "start_time": "2024-07-22T04:16:10.336Z"
   },
   {
    "duration": 19,
    "start_time": "2024-07-22T04:16:11.258Z"
   },
   {
    "duration": 97,
    "start_time": "2024-07-22T04:16:11.280Z"
   },
   {
    "duration": 370,
    "start_time": "2024-07-22T04:16:11.381Z"
   },
   {
    "duration": 274,
    "start_time": "2024-07-22T04:16:37.769Z"
   },
   {
    "duration": 68,
    "start_time": "2024-07-22T04:16:52.989Z"
   },
   {
    "duration": 66,
    "start_time": "2024-07-22T04:16:56.111Z"
   },
   {
    "duration": 259,
    "start_time": "2024-07-22T04:16:57.732Z"
   },
   {
    "duration": 229,
    "start_time": "2024-07-22T04:17:03.014Z"
   },
   {
    "duration": 220,
    "start_time": "2024-07-22T04:18:33.606Z"
   },
   {
    "duration": 3,
    "start_time": "2024-07-22T04:19:02.258Z"
   },
   {
    "duration": 195,
    "start_time": "2024-07-22T04:19:02.265Z"
   },
   {
    "duration": 46,
    "start_time": "2024-07-22T04:19:02.463Z"
   },
   {
    "duration": 25,
    "start_time": "2024-07-22T04:19:02.512Z"
   },
   {
    "duration": 7,
    "start_time": "2024-07-22T04:19:02.546Z"
   },
   {
    "duration": 1274,
    "start_time": "2024-07-22T04:19:02.556Z"
   },
   {
    "duration": 152,
    "start_time": "2024-07-22T04:19:03.833Z"
   },
   {
    "duration": 17,
    "start_time": "2024-07-22T04:19:03.988Z"
   },
   {
    "duration": 177,
    "start_time": "2024-07-22T04:19:04.008Z"
   },
   {
    "duration": 259,
    "start_time": "2024-07-22T04:19:04.188Z"
   },
   {
    "duration": 101,
    "start_time": "2024-07-22T04:19:04.450Z"
   },
   {
    "duration": 28,
    "start_time": "2024-07-22T04:19:04.554Z"
   },
   {
    "duration": 13,
    "start_time": "2024-07-22T04:19:04.584Z"
   },
   {
    "duration": 26,
    "start_time": "2024-07-22T04:19:04.631Z"
   },
   {
    "duration": 48,
    "start_time": "2024-07-22T04:19:04.660Z"
   },
   {
    "duration": 8,
    "start_time": "2024-07-22T04:19:04.730Z"
   },
   {
    "duration": 11,
    "start_time": "2024-07-22T04:19:04.742Z"
   },
   {
    "duration": 15,
    "start_time": "2024-07-22T04:19:04.756Z"
   },
   {
    "duration": 1349,
    "start_time": "2024-07-22T04:19:04.774Z"
   },
   {
    "duration": 812,
    "start_time": "2024-07-22T04:19:06.131Z"
   },
   {
    "duration": 10,
    "start_time": "2024-07-22T04:19:06.946Z"
   },
   {
    "duration": 21,
    "start_time": "2024-07-22T04:19:06.960Z"
   },
   {
    "duration": 56,
    "start_time": "2024-07-22T04:19:06.984Z"
   },
   {
    "duration": 15,
    "start_time": "2024-07-22T04:19:07.043Z"
   },
   {
    "duration": 13,
    "start_time": "2024-07-22T04:19:07.061Z"
   },
   {
    "duration": 63,
    "start_time": "2024-07-22T04:19:07.077Z"
   },
   {
    "duration": 7,
    "start_time": "2024-07-22T04:19:07.143Z"
   },
   {
    "duration": 10,
    "start_time": "2024-07-22T04:19:07.153Z"
   },
   {
    "duration": 95,
    "start_time": "2024-07-22T04:19:07.167Z"
   },
   {
    "duration": 19,
    "start_time": "2024-07-22T04:19:07.265Z"
   },
   {
    "duration": 4,
    "start_time": "2024-07-22T04:19:07.286Z"
   },
   {
    "duration": 1162,
    "start_time": "2024-07-22T04:19:07.293Z"
   },
   {
    "duration": 44,
    "start_time": "2024-07-22T04:19:08.457Z"
   },
   {
    "duration": 58,
    "start_time": "2024-07-22T04:19:08.504Z"
   },
   {
    "duration": 12,
    "start_time": "2024-07-22T04:19:08.565Z"
   },
   {
    "duration": 13,
    "start_time": "2024-07-22T04:19:08.580Z"
   },
   {
    "duration": 12,
    "start_time": "2024-07-22T04:19:08.631Z"
   },
   {
    "duration": 10,
    "start_time": "2024-07-22T04:19:08.646Z"
   },
   {
    "duration": 4,
    "start_time": "2024-07-22T04:19:08.660Z"
   },
   {
    "duration": 410,
    "start_time": "2024-07-22T04:19:08.667Z"
   },
   {
    "duration": 46,
    "start_time": "2024-07-22T04:19:09.084Z"
   },
   {
    "duration": 213,
    "start_time": "2024-07-22T04:19:09.133Z"
   },
   {
    "duration": 954,
    "start_time": "2024-07-22T04:19:09.349Z"
   },
   {
    "duration": 34,
    "start_time": "2024-07-22T04:19:10.305Z"
   },
   {
    "duration": 70,
    "start_time": "2024-07-22T04:19:10.342Z"
   },
   {
    "duration": 242,
    "start_time": "2024-07-22T04:19:10.415Z"
   },
   {
    "duration": 72,
    "start_time": "2024-07-22T04:20:12.170Z"
   },
   {
    "duration": 295,
    "start_time": "2024-07-22T04:24:29.113Z"
   },
   {
    "duration": 486,
    "start_time": "2024-07-22T04:24:43.826Z"
   },
   {
    "duration": 498,
    "start_time": "2024-07-22T04:24:52.474Z"
   },
   {
    "duration": 254,
    "start_time": "2024-07-22T04:28:13.929Z"
   },
   {
    "duration": 275,
    "start_time": "2024-07-22T04:28:35.040Z"
   },
   {
    "duration": 311,
    "start_time": "2024-07-22T04:28:41.689Z"
   },
   {
    "duration": 288,
    "start_time": "2024-07-22T04:28:59.849Z"
   },
   {
    "duration": 302,
    "start_time": "2024-07-22T04:29:05.389Z"
   },
   {
    "duration": 10,
    "start_time": "2024-07-22T04:30:36.139Z"
   },
   {
    "duration": 896,
    "start_time": "2024-07-22T04:37:16.650Z"
   },
   {
    "duration": 23,
    "start_time": "2024-07-22T04:37:17.844Z"
   },
   {
    "duration": 73,
    "start_time": "2024-07-22T04:37:24.479Z"
   },
   {
    "duration": 57,
    "start_time": "2024-07-22T04:38:10.890Z"
   },
   {
    "duration": 19,
    "start_time": "2024-07-22T04:38:20.109Z"
   },
   {
    "duration": 17,
    "start_time": "2024-07-22T04:38:27.593Z"
   },
   {
    "duration": 499,
    "start_time": "2024-07-22T08:20:13.063Z"
   },
   {
    "duration": 239,
    "start_time": "2024-07-22T08:20:13.568Z"
   },
   {
    "duration": 83,
    "start_time": "2024-07-22T08:20:13.809Z"
   },
   {
    "duration": 10,
    "start_time": "2024-07-22T08:20:13.894Z"
   },
   {
    "duration": 10,
    "start_time": "2024-07-22T08:20:13.910Z"
   },
   {
    "duration": 1345,
    "start_time": "2024-07-22T08:20:13.923Z"
   },
   {
    "duration": 220,
    "start_time": "2024-07-22T08:20:15.271Z"
   },
   {
    "duration": 18,
    "start_time": "2024-07-22T08:20:15.494Z"
   },
   {
    "duration": 225,
    "start_time": "2024-07-22T08:20:15.515Z"
   },
   {
    "duration": 302,
    "start_time": "2024-07-22T08:20:15.743Z"
   },
   {
    "duration": 105,
    "start_time": "2024-07-22T08:20:16.049Z"
   },
   {
    "duration": 34,
    "start_time": "2024-07-22T08:20:16.169Z"
   },
   {
    "duration": 13,
    "start_time": "2024-07-22T08:20:16.207Z"
   },
   {
    "duration": 52,
    "start_time": "2024-07-22T08:20:16.227Z"
   },
   {
    "duration": 57,
    "start_time": "2024-07-22T08:20:16.282Z"
   },
   {
    "duration": 33,
    "start_time": "2024-07-22T08:20:16.341Z"
   },
   {
    "duration": 12,
    "start_time": "2024-07-22T08:20:16.378Z"
   },
   {
    "duration": 17,
    "start_time": "2024-07-22T08:20:16.394Z"
   },
   {
    "duration": 1423,
    "start_time": "2024-07-22T08:20:16.414Z"
   },
   {
    "duration": 903,
    "start_time": "2024-07-22T08:20:17.840Z"
   },
   {
    "duration": 23,
    "start_time": "2024-07-22T08:20:18.746Z"
   },
   {
    "duration": 25,
    "start_time": "2024-07-22T08:20:18.775Z"
   },
   {
    "duration": 20,
    "start_time": "2024-07-22T08:20:18.804Z"
   },
   {
    "duration": 51,
    "start_time": "2024-07-22T08:20:18.826Z"
   },
   {
    "duration": 15,
    "start_time": "2024-07-22T08:20:18.881Z"
   },
   {
    "duration": 32,
    "start_time": "2024-07-22T08:20:18.899Z"
   },
   {
    "duration": 39,
    "start_time": "2024-07-22T08:20:18.934Z"
   },
   {
    "duration": 11,
    "start_time": "2024-07-22T08:20:18.976Z"
   },
   {
    "duration": 96,
    "start_time": "2024-07-22T08:20:18.991Z"
   },
   {
    "duration": 24,
    "start_time": "2024-07-22T08:20:19.090Z"
   },
   {
    "duration": 4,
    "start_time": "2024-07-22T08:20:19.116Z"
   },
   {
    "duration": 1214,
    "start_time": "2024-07-22T08:20:19.124Z"
   },
   {
    "duration": 57,
    "start_time": "2024-07-22T08:20:20.341Z"
   },
   {
    "duration": 37,
    "start_time": "2024-07-22T08:20:20.401Z"
   },
   {
    "duration": 32,
    "start_time": "2024-07-22T08:20:20.440Z"
   },
   {
    "duration": 18,
    "start_time": "2024-07-22T08:20:20.475Z"
   },
   {
    "duration": 12,
    "start_time": "2024-07-22T08:20:20.496Z"
   },
   {
    "duration": 9,
    "start_time": "2024-07-22T08:20:20.511Z"
   },
   {
    "duration": 4167,
    "start_time": "2024-07-22T08:20:20.522Z"
   },
   {
    "duration": 464,
    "start_time": "2024-07-22T08:20:24.694Z"
   },
   {
    "duration": 30,
    "start_time": "2024-07-22T08:20:25.174Z"
   },
   {
    "duration": 262,
    "start_time": "2024-07-22T08:20:25.207Z"
   },
   {
    "duration": 1036,
    "start_time": "2024-07-22T08:20:25.472Z"
   },
   {
    "duration": 22,
    "start_time": "2024-07-22T08:20:26.511Z"
   },
   {
    "duration": 610,
    "start_time": "2024-07-22T08:20:26.539Z"
   },
   {
    "duration": 440,
    "start_time": "2024-07-22T08:20:27.153Z"
   },
   {
    "duration": 74,
    "start_time": "2024-07-22T08:20:27.598Z"
   },
   {
    "duration": 25,
    "start_time": "2024-07-22T08:20:27.675Z"
   },
   {
    "duration": 22,
    "start_time": "2024-07-22T08:20:27.703Z"
   },
   {
    "duration": 448,
    "start_time": "2024-07-22T08:24:56.439Z"
   },
   {
    "duration": 652,
    "start_time": "2024-07-22T08:25:05.299Z"
   },
   {
    "duration": 351,
    "start_time": "2024-07-22T08:25:38.248Z"
   },
   {
    "duration": 312,
    "start_time": "2024-07-22T08:26:43.343Z"
   },
   {
    "duration": 350,
    "start_time": "2024-07-22T08:28:09.309Z"
   },
   {
    "duration": 447,
    "start_time": "2024-07-22T18:56:53.370Z"
   },
   {
    "duration": 292,
    "start_time": "2024-07-22T18:56:53.820Z"
   },
   {
    "duration": 91,
    "start_time": "2024-07-22T18:56:54.116Z"
   },
   {
    "duration": 9,
    "start_time": "2024-07-22T18:56:54.211Z"
   },
   {
    "duration": 10,
    "start_time": "2024-07-22T18:56:54.224Z"
   },
   {
    "duration": 1376,
    "start_time": "2024-07-22T18:56:54.239Z"
   },
   {
    "duration": 200,
    "start_time": "2024-07-22T18:56:55.618Z"
   },
   {
    "duration": 24,
    "start_time": "2024-07-22T18:56:55.821Z"
   },
   {
    "duration": 211,
    "start_time": "2024-07-22T18:56:55.849Z"
   },
   {
    "duration": 279,
    "start_time": "2024-07-22T18:56:56.066Z"
   },
   {
    "duration": 105,
    "start_time": "2024-07-22T18:56:56.347Z"
   },
   {
    "duration": 27,
    "start_time": "2024-07-22T18:56:56.455Z"
   },
   {
    "duration": 13,
    "start_time": "2024-07-22T18:56:56.485Z"
   },
   {
    "duration": 56,
    "start_time": "2024-07-22T18:56:56.501Z"
   },
   {
    "duration": 46,
    "start_time": "2024-07-22T18:56:56.560Z"
   },
   {
    "duration": 7,
    "start_time": "2024-07-22T18:56:56.632Z"
   },
   {
    "duration": 10,
    "start_time": "2024-07-22T18:56:56.643Z"
   },
   {
    "duration": 14,
    "start_time": "2024-07-22T18:56:56.656Z"
   },
   {
    "duration": 1348,
    "start_time": "2024-07-22T18:56:56.673Z"
   },
   {
    "duration": 775,
    "start_time": "2024-07-22T18:56:58.024Z"
   },
   {
    "duration": 11,
    "start_time": "2024-07-22T18:56:58.802Z"
   },
   {
    "duration": 26,
    "start_time": "2024-07-22T18:56:58.830Z"
   },
   {
    "duration": 20,
    "start_time": "2024-07-22T18:56:58.859Z"
   },
   {
    "duration": 50,
    "start_time": "2024-07-22T18:56:58.881Z"
   },
   {
    "duration": 15,
    "start_time": "2024-07-22T18:56:58.934Z"
   },
   {
    "duration": 31,
    "start_time": "2024-07-22T18:56:58.952Z"
   },
   {
    "duration": 46,
    "start_time": "2024-07-22T18:56:58.986Z"
   },
   {
    "duration": 10,
    "start_time": "2024-07-22T18:56:59.041Z"
   },
   {
    "duration": 86,
    "start_time": "2024-07-22T18:56:59.055Z"
   },
   {
    "duration": 19,
    "start_time": "2024-07-22T18:56:59.146Z"
   },
   {
    "duration": 3,
    "start_time": "2024-07-22T18:56:59.168Z"
   },
   {
    "duration": 1213,
    "start_time": "2024-07-22T18:56:59.174Z"
   },
   {
    "duration": 60,
    "start_time": "2024-07-22T18:57:00.390Z"
   },
   {
    "duration": 39,
    "start_time": "2024-07-22T18:57:00.453Z"
   },
   {
    "duration": 37,
    "start_time": "2024-07-22T18:57:00.495Z"
   },
   {
    "duration": 12,
    "start_time": "2024-07-22T18:57:00.536Z"
   },
   {
    "duration": 13,
    "start_time": "2024-07-22T18:57:00.552Z"
   },
   {
    "duration": 9,
    "start_time": "2024-07-22T18:57:00.568Z"
   },
   {
    "duration": 3929,
    "start_time": "2024-07-22T18:57:00.580Z"
   },
   {
    "duration": 382,
    "start_time": "2024-07-22T18:57:04.512Z"
   },
   {
    "duration": 47,
    "start_time": "2024-07-22T18:57:04.898Z"
   },
   {
    "duration": 214,
    "start_time": "2024-07-22T18:57:04.948Z"
   },
   {
    "duration": 943,
    "start_time": "2024-07-22T18:57:05.164Z"
   },
   {
    "duration": 32,
    "start_time": "2024-07-22T18:57:06.110Z"
   },
   {
    "duration": 515,
    "start_time": "2024-07-22T18:57:06.145Z"
   },
   {
    "duration": 320,
    "start_time": "2024-07-22T18:57:06.663Z"
   },
   {
    "duration": 69,
    "start_time": "2024-07-22T18:57:06.986Z"
   },
   {
    "duration": 19,
    "start_time": "2024-07-22T18:57:07.057Z"
   },
   {
    "duration": 17,
    "start_time": "2024-07-22T18:57:07.079Z"
   },
   {
    "duration": 206,
    "start_time": "2024-07-22T19:09:15.673Z"
   },
   {
    "duration": 60,
    "start_time": "2024-07-22T19:09:23.796Z"
   },
   {
    "duration": 17,
    "start_time": "2024-07-22T19:09:28.803Z"
   },
   {
    "duration": 15,
    "start_time": "2024-07-22T19:09:31.457Z"
   },
   {
    "duration": 1225,
    "start_time": "2024-07-22T19:09:33.486Z"
   },
   {
    "duration": 1260,
    "start_time": "2024-07-22T19:09:53.583Z"
   },
   {
    "duration": 137,
    "start_time": "2024-07-22T19:10:55.556Z"
   },
   {
    "duration": 39,
    "start_time": "2024-07-22T19:11:38.387Z"
   },
   {
    "duration": 3,
    "start_time": "2024-07-22T19:12:08.303Z"
   },
   {
    "duration": 215,
    "start_time": "2024-07-22T19:12:08.310Z"
   },
   {
    "duration": 61,
    "start_time": "2024-07-22T19:12:08.527Z"
   },
   {
    "duration": 17,
    "start_time": "2024-07-22T19:12:08.591Z"
   },
   {
    "duration": 16,
    "start_time": "2024-07-22T19:12:08.634Z"
   },
   {
    "duration": 1249,
    "start_time": "2024-07-22T19:12:08.653Z"
   },
   {
    "duration": 156,
    "start_time": "2024-07-22T19:12:09.905Z"
   },
   {
    "duration": 17,
    "start_time": "2024-07-22T19:12:10.065Z"
   },
   {
    "duration": 193,
    "start_time": "2024-07-22T19:12:10.086Z"
   },
   {
    "duration": 262,
    "start_time": "2024-07-22T19:12:10.282Z"
   },
   {
    "duration": 42,
    "start_time": "2024-07-22T19:12:10.549Z"
   },
   {
    "duration": 53,
    "start_time": "2024-07-22T19:12:10.594Z"
   },
   {
    "duration": 13,
    "start_time": "2024-07-22T19:12:10.650Z"
   },
   {
    "duration": 29,
    "start_time": "2024-07-22T19:12:10.670Z"
   },
   {
    "duration": 73,
    "start_time": "2024-07-22T19:12:10.701Z"
   },
   {
    "duration": 7,
    "start_time": "2024-07-22T19:12:10.777Z"
   },
   {
    "duration": 10,
    "start_time": "2024-07-22T19:12:10.788Z"
   },
   {
    "duration": 13,
    "start_time": "2024-07-22T19:12:10.831Z"
   },
   {
    "duration": 1345,
    "start_time": "2024-07-22T19:12:10.847Z"
   },
   {
    "duration": 798,
    "start_time": "2024-07-22T19:12:12.196Z"
   },
   {
    "duration": 10,
    "start_time": "2024-07-22T19:12:12.997Z"
   },
   {
    "duration": 40,
    "start_time": "2024-07-22T19:12:13.011Z"
   },
   {
    "duration": 22,
    "start_time": "2024-07-22T19:12:13.055Z"
   },
   {
    "duration": 49,
    "start_time": "2024-07-22T19:12:13.081Z"
   },
   {
    "duration": 14,
    "start_time": "2024-07-22T19:12:13.133Z"
   },
   {
    "duration": 28,
    "start_time": "2024-07-22T19:12:13.150Z"
   },
   {
    "duration": 7,
    "start_time": "2024-07-22T19:12:13.181Z"
   },
   {
    "duration": 47,
    "start_time": "2024-07-22T19:12:13.191Z"
   },
   {
    "duration": 93,
    "start_time": "2024-07-22T19:12:13.242Z"
   },
   {
    "duration": 19,
    "start_time": "2024-07-22T19:12:13.338Z"
   },
   {
    "duration": 3,
    "start_time": "2024-07-22T19:12:13.360Z"
   },
   {
    "duration": 1183,
    "start_time": "2024-07-22T19:12:13.367Z"
   },
   {
    "duration": 44,
    "start_time": "2024-07-22T19:12:14.553Z"
   },
   {
    "duration": 62,
    "start_time": "2024-07-22T19:12:14.601Z"
   },
   {
    "duration": 11,
    "start_time": "2024-07-22T19:12:14.666Z"
   },
   {
    "duration": 12,
    "start_time": "2024-07-22T19:12:14.680Z"
   },
   {
    "duration": 40,
    "start_time": "2024-07-22T19:12:14.696Z"
   },
   {
    "duration": 8,
    "start_time": "2024-07-22T19:12:14.739Z"
   },
   {
    "duration": 4,
    "start_time": "2024-07-22T19:12:14.750Z"
   },
   {
    "duration": 378,
    "start_time": "2024-07-22T19:12:14.757Z"
   },
   {
    "duration": 30,
    "start_time": "2024-07-22T19:12:15.143Z"
   },
   {
    "duration": 300,
    "start_time": "2024-07-22T19:12:15.177Z"
   },
   {
    "duration": 933,
    "start_time": "2024-07-22T19:12:15.479Z"
   },
   {
    "duration": 29,
    "start_time": "2024-07-22T19:12:16.415Z"
   },
   {
    "duration": 516,
    "start_time": "2024-07-22T19:12:16.448Z"
   },
   {
    "duration": 323,
    "start_time": "2024-07-22T19:12:16.967Z"
   },
   {
    "duration": 66,
    "start_time": "2024-07-22T19:12:17.293Z"
   },
   {
    "duration": 21,
    "start_time": "2024-07-22T19:12:17.362Z"
   },
   {
    "duration": 17,
    "start_time": "2024-07-22T19:12:17.386Z"
   },
   {
    "duration": 47,
    "start_time": "2024-07-22T19:17:20.191Z"
   },
   {
    "duration": 30,
    "start_time": "2024-07-22T19:18:23.386Z"
   },
   {
    "duration": 14,
    "start_time": "2024-07-22T19:18:27.307Z"
   },
   {
    "duration": 28,
    "start_time": "2024-07-22T19:18:30.064Z"
   },
   {
    "duration": 20,
    "start_time": "2024-07-22T19:21:04.974Z"
   },
   {
    "duration": 19,
    "start_time": "2024-07-22T19:22:06.983Z"
   },
   {
    "duration": 26,
    "start_time": "2024-07-22T19:24:27.190Z"
   },
   {
    "duration": 3,
    "start_time": "2024-07-22T19:24:58.594Z"
   },
   {
    "duration": 209,
    "start_time": "2024-07-22T19:24:58.601Z"
   },
   {
    "duration": 64,
    "start_time": "2024-07-22T19:24:58.813Z"
   },
   {
    "duration": 16,
    "start_time": "2024-07-22T19:24:58.880Z"
   },
   {
    "duration": 36,
    "start_time": "2024-07-22T19:24:58.900Z"
   },
   {
    "duration": 1271,
    "start_time": "2024-07-22T19:24:58.939Z"
   },
   {
    "duration": 166,
    "start_time": "2024-07-22T19:25:00.213Z"
   },
   {
    "duration": 17,
    "start_time": "2024-07-22T19:25:00.384Z"
   },
   {
    "duration": 173,
    "start_time": "2024-07-22T19:25:00.404Z"
   },
   {
    "duration": 225,
    "start_time": "2024-07-22T19:25:00.580Z"
   },
   {
    "duration": 51,
    "start_time": "2024-07-22T19:25:00.808Z"
   },
   {
    "duration": 24,
    "start_time": "2024-07-22T19:25:00.861Z"
   },
   {
    "duration": 41,
    "start_time": "2024-07-22T19:25:00.888Z"
   },
   {
    "duration": 33,
    "start_time": "2024-07-22T19:25:00.936Z"
   },
   {
    "duration": 27,
    "start_time": "2024-07-22T19:25:00.972Z"
   },
   {
    "duration": 33,
    "start_time": "2024-07-22T19:25:01.001Z"
   },
   {
    "duration": 12,
    "start_time": "2024-07-22T19:25:01.037Z"
   },
   {
    "duration": 13,
    "start_time": "2024-07-22T19:25:01.053Z"
   },
   {
    "duration": 1350,
    "start_time": "2024-07-22T19:25:01.070Z"
   },
   {
    "duration": 748,
    "start_time": "2024-07-22T19:25:02.423Z"
   },
   {
    "duration": 10,
    "start_time": "2024-07-22T19:25:03.174Z"
   },
   {
    "duration": 44,
    "start_time": "2024-07-22T19:25:03.188Z"
   },
   {
    "duration": 22,
    "start_time": "2024-07-22T19:25:03.234Z"
   },
   {
    "duration": 13,
    "start_time": "2024-07-22T19:25:03.260Z"
   },
   {
    "duration": 15,
    "start_time": "2024-07-22T19:25:03.277Z"
   },
   {
    "duration": 30,
    "start_time": "2024-07-22T19:25:03.331Z"
   },
   {
    "duration": 7,
    "start_time": "2024-07-22T19:25:03.365Z"
   },
   {
    "duration": 10,
    "start_time": "2024-07-22T19:25:03.375Z"
   },
   {
    "duration": 100,
    "start_time": "2024-07-22T19:25:03.389Z"
   },
   {
    "duration": 49,
    "start_time": "2024-07-22T19:25:03.491Z"
   },
   {
    "duration": 4,
    "start_time": "2024-07-22T19:25:03.543Z"
   },
   {
    "duration": 1213,
    "start_time": "2024-07-22T19:25:03.550Z"
   },
   {
    "duration": 44,
    "start_time": "2024-07-22T19:25:04.766Z"
   },
   {
    "duration": 54,
    "start_time": "2024-07-22T19:25:04.812Z"
   },
   {
    "duration": 11,
    "start_time": "2024-07-22T19:25:04.869Z"
   },
   {
    "duration": 47,
    "start_time": "2024-07-22T19:25:04.883Z"
   },
   {
    "duration": 12,
    "start_time": "2024-07-22T19:25:04.934Z"
   },
   {
    "duration": 8,
    "start_time": "2024-07-22T19:25:04.949Z"
   },
   {
    "duration": 4,
    "start_time": "2024-07-22T19:25:04.960Z"
   },
   {
    "duration": 373,
    "start_time": "2024-07-22T19:25:04.967Z"
   },
   {
    "duration": 27,
    "start_time": "2024-07-22T19:25:05.348Z"
   },
   {
    "duration": 231,
    "start_time": "2024-07-22T19:25:05.378Z"
   },
   {
    "duration": 959,
    "start_time": "2024-07-22T19:25:05.612Z"
   },
   {
    "duration": 20,
    "start_time": "2024-07-22T19:25:06.574Z"
   },
   {
    "duration": 513,
    "start_time": "2024-07-22T19:25:06.597Z"
   },
   {
    "duration": 299,
    "start_time": "2024-07-22T19:25:07.113Z"
   },
   {
    "duration": 58,
    "start_time": "2024-07-22T19:25:07.415Z"
   },
   {
    "duration": 20,
    "start_time": "2024-07-22T19:25:07.477Z"
   },
   {
    "duration": 41,
    "start_time": "2024-07-22T19:25:07.500Z"
   },
   {
    "duration": 20,
    "start_time": "2024-07-22T19:26:12.877Z"
   },
   {
    "duration": 19,
    "start_time": "2024-07-22T19:26:36.134Z"
   },
   {
    "duration": 25,
    "start_time": "2024-07-22T19:26:39.774Z"
   },
   {
    "duration": 35,
    "start_time": "2024-07-22T19:27:56.940Z"
   },
   {
    "duration": 38,
    "start_time": "2024-07-22T19:28:02.324Z"
   },
   {
    "duration": 4,
    "start_time": "2024-07-22T19:28:07.878Z"
   },
   {
    "duration": 197,
    "start_time": "2024-07-22T19:28:07.886Z"
   },
   {
    "duration": 68,
    "start_time": "2024-07-22T19:28:08.086Z"
   },
   {
    "duration": 17,
    "start_time": "2024-07-22T19:28:08.157Z"
   },
   {
    "duration": 16,
    "start_time": "2024-07-22T19:28:08.179Z"
   },
   {
    "duration": 1289,
    "start_time": "2024-07-22T19:28:08.198Z"
   },
   {
    "duration": 152,
    "start_time": "2024-07-22T19:28:09.490Z"
   },
   {
    "duration": 15,
    "start_time": "2024-07-22T19:28:09.645Z"
   },
   {
    "duration": 177,
    "start_time": "2024-07-22T19:28:09.665Z"
   },
   {
    "duration": 225,
    "start_time": "2024-07-22T19:28:09.844Z"
   },
   {
    "duration": 39,
    "start_time": "2024-07-22T19:28:10.071Z"
   },
   {
    "duration": 31,
    "start_time": "2024-07-22T19:28:10.132Z"
   },
   {
    "duration": 16,
    "start_time": "2024-07-22T19:28:10.168Z"
   },
   {
    "duration": 53,
    "start_time": "2024-07-22T19:28:10.192Z"
   },
   {
    "duration": 33,
    "start_time": "2024-07-22T19:28:10.248Z"
   },
   {
    "duration": 21,
    "start_time": "2024-07-22T19:29:03.220Z"
   },
   {
    "duration": 20,
    "start_time": "2024-07-22T19:30:24.518Z"
   },
   {
    "duration": 27,
    "start_time": "2024-07-22T19:30:55.588Z"
   },
   {
    "duration": 455,
    "start_time": "2024-07-22T19:31:20.438Z"
   },
   {
    "duration": 223,
    "start_time": "2024-07-22T19:31:20.897Z"
   },
   {
    "duration": 69,
    "start_time": "2024-07-22T19:31:21.123Z"
   },
   {
    "duration": 16,
    "start_time": "2024-07-22T19:31:21.196Z"
   },
   {
    "duration": 18,
    "start_time": "2024-07-22T19:31:21.233Z"
   },
   {
    "duration": 1331,
    "start_time": "2024-07-22T19:31:21.255Z"
   },
   {
    "duration": 176,
    "start_time": "2024-07-22T19:31:22.589Z"
   },
   {
    "duration": 20,
    "start_time": "2024-07-22T19:31:22.768Z"
   },
   {
    "duration": 205,
    "start_time": "2024-07-22T19:31:22.790Z"
   },
   {
    "duration": 274,
    "start_time": "2024-07-22T19:31:22.998Z"
   },
   {
    "duration": 57,
    "start_time": "2024-07-22T19:31:23.275Z"
   },
   {
    "duration": 25,
    "start_time": "2024-07-22T19:31:23.335Z"
   },
   {
    "duration": 12,
    "start_time": "2024-07-22T19:31:23.363Z"
   },
   {
    "duration": 65,
    "start_time": "2024-07-22T19:31:23.382Z"
   },
   {
    "duration": 31,
    "start_time": "2024-07-22T19:31:23.450Z"
   },
   {
    "duration": 7,
    "start_time": "2024-07-22T19:31:23.484Z"
   },
   {
    "duration": 43,
    "start_time": "2024-07-22T19:31:23.495Z"
   },
   {
    "duration": 13,
    "start_time": "2024-07-22T19:31:23.541Z"
   },
   {
    "duration": 1336,
    "start_time": "2024-07-22T19:31:23.558Z"
   },
   {
    "duration": 767,
    "start_time": "2024-07-22T19:31:24.897Z"
   },
   {
    "duration": 11,
    "start_time": "2024-07-22T19:31:25.667Z"
   },
   {
    "duration": 49,
    "start_time": "2024-07-22T19:31:25.681Z"
   },
   {
    "duration": 19,
    "start_time": "2024-07-22T19:31:25.733Z"
   },
   {
    "duration": 12,
    "start_time": "2024-07-22T19:31:25.755Z"
   },
   {
    "duration": 14,
    "start_time": "2024-07-22T19:31:25.771Z"
   },
   {
    "duration": 68,
    "start_time": "2024-07-22T19:31:25.787Z"
   },
   {
    "duration": 6,
    "start_time": "2024-07-22T19:31:25.858Z"
   },
   {
    "duration": 11,
    "start_time": "2024-07-22T19:31:25.867Z"
   },
   {
    "duration": 103,
    "start_time": "2024-07-22T19:31:25.881Z"
   },
   {
    "duration": 19,
    "start_time": "2024-07-22T19:31:25.987Z"
   },
   {
    "duration": 22,
    "start_time": "2024-07-22T19:31:26.009Z"
   },
   {
    "duration": 1171,
    "start_time": "2024-07-22T19:31:26.034Z"
   },
   {
    "duration": 61,
    "start_time": "2024-07-22T19:31:27.208Z"
   },
   {
    "duration": 37,
    "start_time": "2024-07-22T19:31:27.271Z"
   },
   {
    "duration": 28,
    "start_time": "2024-07-22T19:31:27.311Z"
   },
   {
    "duration": 15,
    "start_time": "2024-07-22T19:31:27.341Z"
   },
   {
    "duration": 11,
    "start_time": "2024-07-22T19:31:27.359Z"
   },
   {
    "duration": 8,
    "start_time": "2024-07-22T19:31:27.375Z"
   },
   {
    "duration": 266,
    "start_time": "2024-07-22T19:31:27.386Z"
   },
   {
    "duration": 428,
    "start_time": "2024-07-22T19:31:27.655Z"
   },
   {
    "duration": 43,
    "start_time": "2024-07-22T19:31:28.091Z"
   },
   {
    "duration": 219,
    "start_time": "2024-07-22T19:31:28.137Z"
   },
   {
    "duration": 924,
    "start_time": "2024-07-22T19:31:28.359Z"
   },
   {
    "duration": 20,
    "start_time": "2024-07-22T19:31:29.285Z"
   },
   {
    "duration": 527,
    "start_time": "2024-07-22T19:31:29.308Z"
   },
   {
    "duration": 308,
    "start_time": "2024-07-22T19:31:29.838Z"
   },
   {
    "duration": 52,
    "start_time": "2024-07-22T19:31:30.149Z"
   },
   {
    "duration": 40,
    "start_time": "2024-07-22T19:31:30.203Z"
   },
   {
    "duration": 18,
    "start_time": "2024-07-22T19:31:30.246Z"
   },
   {
    "duration": 18,
    "start_time": "2024-07-22T19:32:25.064Z"
   },
   {
    "duration": 14,
    "start_time": "2024-07-22T19:33:29.830Z"
   },
   {
    "duration": 28,
    "start_time": "2024-07-22T19:34:01.762Z"
   },
   {
    "duration": 23,
    "start_time": "2024-07-22T19:34:02.900Z"
   },
   {
    "duration": 23,
    "start_time": "2024-07-22T19:34:03.479Z"
   },
   {
    "duration": 21,
    "start_time": "2024-07-22T19:34:04.071Z"
   },
   {
    "duration": 22,
    "start_time": "2024-07-22T19:34:04.584Z"
   },
   {
    "duration": 22,
    "start_time": "2024-07-22T19:34:05.090Z"
   },
   {
    "duration": 448,
    "start_time": "2024-07-22T19:34:12.104Z"
   },
   {
    "duration": 236,
    "start_time": "2024-07-22T19:34:12.555Z"
   },
   {
    "duration": 74,
    "start_time": "2024-07-22T19:34:12.794Z"
   },
   {
    "duration": 15,
    "start_time": "2024-07-22T19:34:12.872Z"
   },
   {
    "duration": 50,
    "start_time": "2024-07-22T19:34:12.890Z"
   },
   {
    "duration": 1315,
    "start_time": "2024-07-22T19:34:12.944Z"
   },
   {
    "duration": 172,
    "start_time": "2024-07-22T19:34:14.262Z"
   },
   {
    "duration": 20,
    "start_time": "2024-07-22T19:34:14.437Z"
   },
   {
    "duration": 199,
    "start_time": "2024-07-22T19:34:14.464Z"
   },
   {
    "duration": 266,
    "start_time": "2024-07-22T19:34:14.669Z"
   },
   {
    "duration": 48,
    "start_time": "2024-07-22T19:34:14.938Z"
   },
   {
    "duration": 48,
    "start_time": "2024-07-22T19:34:14.989Z"
   },
   {
    "duration": 17,
    "start_time": "2024-07-22T19:34:15.040Z"
   },
   {
    "duration": 33,
    "start_time": "2024-07-22T19:34:15.060Z"
   },
   {
    "duration": 51,
    "start_time": "2024-07-22T19:34:15.096Z"
   },
   {
    "duration": 23,
    "start_time": "2024-07-22T19:34:15.150Z"
   },
   {
    "duration": 7,
    "start_time": "2024-07-22T19:34:15.176Z"
   },
   {
    "duration": 48,
    "start_time": "2024-07-22T19:34:15.186Z"
   },
   {
    "duration": 15,
    "start_time": "2024-07-22T19:34:15.237Z"
   },
   {
    "duration": 1361,
    "start_time": "2024-07-22T19:34:15.255Z"
   },
   {
    "duration": 816,
    "start_time": "2024-07-22T19:34:16.619Z"
   },
   {
    "duration": 10,
    "start_time": "2024-07-22T19:34:17.439Z"
   },
   {
    "duration": 22,
    "start_time": "2024-07-22T19:34:17.453Z"
   },
   {
    "duration": 57,
    "start_time": "2024-07-22T19:34:17.478Z"
   },
   {
    "duration": 14,
    "start_time": "2024-07-22T19:34:17.537Z"
   },
   {
    "duration": 16,
    "start_time": "2024-07-22T19:34:17.554Z"
   },
   {
    "duration": 68,
    "start_time": "2024-07-22T19:34:17.573Z"
   },
   {
    "duration": 7,
    "start_time": "2024-07-22T19:34:17.650Z"
   },
   {
    "duration": 11,
    "start_time": "2024-07-22T19:34:17.660Z"
   },
   {
    "duration": 96,
    "start_time": "2024-07-22T19:34:17.675Z"
   },
   {
    "duration": 20,
    "start_time": "2024-07-22T19:34:17.774Z"
   },
   {
    "duration": 4,
    "start_time": "2024-07-22T19:34:17.796Z"
   },
   {
    "duration": 1205,
    "start_time": "2024-07-22T19:34:17.831Z"
   },
   {
    "duration": 50,
    "start_time": "2024-07-22T19:34:19.040Z"
   },
   {
    "duration": 74,
    "start_time": "2024-07-22T19:34:19.093Z"
   },
   {
    "duration": 12,
    "start_time": "2024-07-22T19:34:19.170Z"
   },
   {
    "duration": 13,
    "start_time": "2024-07-22T19:34:19.185Z"
   },
   {
    "duration": 37,
    "start_time": "2024-07-22T19:34:19.201Z"
   },
   {
    "duration": 9,
    "start_time": "2024-07-22T19:34:19.242Z"
   },
   {
    "duration": 253,
    "start_time": "2024-07-22T19:34:19.254Z"
   },
   {
    "duration": 422,
    "start_time": "2024-07-22T19:34:19.511Z"
   },
   {
    "duration": 37,
    "start_time": "2024-07-22T19:34:19.935Z"
   },
   {
    "duration": 226,
    "start_time": "2024-07-22T19:34:19.975Z"
   },
   {
    "duration": 936,
    "start_time": "2024-07-22T19:34:20.204Z"
   },
   {
    "duration": 20,
    "start_time": "2024-07-22T19:34:21.143Z"
   },
   {
    "duration": 564,
    "start_time": "2024-07-22T19:34:21.166Z"
   },
   {
    "duration": 318,
    "start_time": "2024-07-22T19:34:21.733Z"
   },
   {
    "duration": 53,
    "start_time": "2024-07-22T19:34:22.053Z"
   },
   {
    "duration": 40,
    "start_time": "2024-07-22T19:34:22.108Z"
   },
   {
    "duration": 17,
    "start_time": "2024-07-22T19:34:22.150Z"
   },
   {
    "duration": 35,
    "start_time": "2024-07-22T19:45:11.549Z"
   },
   {
    "duration": 29,
    "start_time": "2024-07-22T19:45:28.346Z"
   },
   {
    "duration": 23,
    "start_time": "2024-07-22T19:45:36.930Z"
   },
   {
    "duration": 8,
    "start_time": "2024-07-22T19:46:07.793Z"
   },
   {
    "duration": 24,
    "start_time": "2024-07-22T19:47:06.379Z"
   },
   {
    "duration": 22,
    "start_time": "2024-07-22T19:47:45.945Z"
   },
   {
    "duration": 475,
    "start_time": "2024-07-22T19:51:58.935Z"
   },
   {
    "duration": 240,
    "start_time": "2024-07-22T19:51:59.414Z"
   },
   {
    "duration": 73,
    "start_time": "2024-07-22T19:51:59.657Z"
   },
   {
    "duration": 16,
    "start_time": "2024-07-22T19:51:59.733Z"
   },
   {
    "duration": 21,
    "start_time": "2024-07-22T19:51:59.754Z"
   },
   {
    "duration": 1372,
    "start_time": "2024-07-22T19:51:59.779Z"
   },
   {
    "duration": 174,
    "start_time": "2024-07-22T19:52:01.153Z"
   },
   {
    "duration": 18,
    "start_time": "2024-07-22T19:52:01.332Z"
   },
   {
    "duration": 194,
    "start_time": "2024-07-22T19:52:01.353Z"
   },
   {
    "duration": 272,
    "start_time": "2024-07-22T19:52:01.550Z"
   },
   {
    "duration": 46,
    "start_time": "2024-07-22T19:52:01.831Z"
   },
   {
    "duration": 24,
    "start_time": "2024-07-22T19:52:01.881Z"
   },
   {
    "duration": 15,
    "start_time": "2024-07-22T19:52:01.931Z"
   },
   {
    "duration": 35,
    "start_time": "2024-07-22T19:52:01.954Z"
   },
   {
    "duration": 54,
    "start_time": "2024-07-22T19:52:01.992Z"
   },
   {
    "duration": 10,
    "start_time": "2024-07-22T19:52:02.050Z"
   },
   {
    "duration": 11,
    "start_time": "2024-07-22T19:52:02.063Z"
   },
   {
    "duration": 13,
    "start_time": "2024-07-22T19:52:02.077Z"
   },
   {
    "duration": 1371,
    "start_time": "2024-07-22T19:52:02.093Z"
   },
   {
    "duration": 757,
    "start_time": "2024-07-22T19:52:03.467Z"
   },
   {
    "duration": 10,
    "start_time": "2024-07-22T19:52:04.231Z"
   },
   {
    "duration": 24,
    "start_time": "2024-07-22T19:52:04.244Z"
   },
   {
    "duration": 19,
    "start_time": "2024-07-22T19:52:04.271Z"
   },
   {
    "duration": 49,
    "start_time": "2024-07-22T19:52:04.293Z"
   },
   {
    "duration": 15,
    "start_time": "2024-07-22T19:52:04.346Z"
   },
   {
    "duration": 31,
    "start_time": "2024-07-22T19:52:04.364Z"
   },
   {
    "duration": 8,
    "start_time": "2024-07-22T19:52:04.431Z"
   },
   {
    "duration": 14,
    "start_time": "2024-07-22T19:52:04.441Z"
   },
   {
    "duration": 96,
    "start_time": "2024-07-22T19:52:04.458Z"
   },
   {
    "duration": 19,
    "start_time": "2024-07-22T19:52:04.557Z"
   },
   {
    "duration": 4,
    "start_time": "2024-07-22T19:52:04.578Z"
   },
   {
    "duration": 1193,
    "start_time": "2024-07-22T19:52:04.584Z"
   },
   {
    "duration": 56,
    "start_time": "2024-07-22T19:52:05.779Z"
   },
   {
    "duration": 36,
    "start_time": "2024-07-22T19:52:05.838Z"
   },
   {
    "duration": 20,
    "start_time": "2024-07-22T19:52:05.877Z"
   },
   {
    "duration": 41,
    "start_time": "2024-07-22T19:52:05.900Z"
   },
   {
    "duration": 18,
    "start_time": "2024-07-22T19:52:05.944Z"
   },
   {
    "duration": 10,
    "start_time": "2024-07-22T19:52:05.965Z"
   },
   {
    "duration": 276,
    "start_time": "2024-07-22T19:52:05.978Z"
   },
   {
    "duration": 420,
    "start_time": "2024-07-22T19:52:06.258Z"
   },
   {
    "duration": 44,
    "start_time": "2024-07-22T19:52:06.686Z"
   },
   {
    "duration": 216,
    "start_time": "2024-07-22T19:52:06.733Z"
   },
   {
    "duration": 933,
    "start_time": "2024-07-22T19:52:06.952Z"
   },
   {
    "duration": 19,
    "start_time": "2024-07-22T19:52:07.888Z"
   },
   {
    "duration": 543,
    "start_time": "2024-07-22T19:52:07.910Z"
   },
   {
    "duration": 304,
    "start_time": "2024-07-22T19:52:08.456Z"
   },
   {
    "duration": 68,
    "start_time": "2024-07-22T19:52:08.763Z"
   },
   {
    "duration": 20,
    "start_time": "2024-07-22T19:52:08.834Z"
   },
   {
    "duration": 18,
    "start_time": "2024-07-22T19:52:08.856Z"
   },
   {
    "duration": 14,
    "start_time": "2024-07-22T19:53:47.255Z"
   },
   {
    "duration": 7,
    "start_time": "2024-07-22T19:54:13.828Z"
   },
   {
    "duration": 761,
    "start_time": "2024-07-22T19:57:26.856Z"
   },
   {
    "duration": 24,
    "start_time": "2024-07-22T19:57:42.686Z"
   },
   {
    "duration": 7,
    "start_time": "2024-07-22T19:58:19.485Z"
   },
   {
    "duration": 4,
    "start_time": "2024-07-22T19:58:45.312Z"
   },
   {
    "duration": 239,
    "start_time": "2024-07-22T19:58:45.321Z"
   },
   {
    "duration": 67,
    "start_time": "2024-07-22T19:58:45.563Z"
   },
   {
    "duration": 16,
    "start_time": "2024-07-22T19:58:45.634Z"
   },
   {
    "duration": 15,
    "start_time": "2024-07-22T19:58:45.654Z"
   },
   {
    "duration": 1347,
    "start_time": "2024-07-22T19:58:45.672Z"
   },
   {
    "duration": 152,
    "start_time": "2024-07-22T19:58:47.022Z"
   },
   {
    "duration": 15,
    "start_time": "2024-07-22T19:58:47.177Z"
   },
   {
    "duration": 185,
    "start_time": "2024-07-22T19:58:47.195Z"
   },
   {
    "duration": 248,
    "start_time": "2024-07-22T19:58:47.383Z"
   },
   {
    "duration": 40,
    "start_time": "2024-07-22T19:58:47.634Z"
   },
   {
    "duration": 24,
    "start_time": "2024-07-22T19:58:47.677Z"
   },
   {
    "duration": 37,
    "start_time": "2024-07-22T19:58:47.704Z"
   },
   {
    "duration": 33,
    "start_time": "2024-07-22T19:58:47.747Z"
   },
   {
    "duration": 49,
    "start_time": "2024-07-22T19:58:47.783Z"
   },
   {
    "duration": 16,
    "start_time": "2024-07-22T19:58:47.835Z"
   },
   {
    "duration": 10,
    "start_time": "2024-07-22T19:58:47.853Z"
   },
   {
    "duration": 10,
    "start_time": "2024-07-22T19:58:47.866Z"
   },
   {
    "duration": 53,
    "start_time": "2024-07-22T19:58:47.879Z"
   },
   {
    "duration": 7,
    "start_time": "2024-07-22T19:58:47.936Z"
   },
   {
    "duration": 1286,
    "start_time": "2024-07-22T19:58:47.946Z"
   },
   {
    "duration": 6,
    "start_time": "2024-07-22T19:58:49.235Z"
   },
   {
    "duration": 1,
    "start_time": "2024-07-22T19:58:49.245Z"
   },
   {
    "duration": 0,
    "start_time": "2024-07-22T19:58:49.248Z"
   },
   {
    "duration": 0,
    "start_time": "2024-07-22T19:58:49.250Z"
   },
   {
    "duration": 0,
    "start_time": "2024-07-22T19:58:49.252Z"
   },
   {
    "duration": 0,
    "start_time": "2024-07-22T19:58:49.254Z"
   },
   {
    "duration": 0,
    "start_time": "2024-07-22T19:58:49.255Z"
   },
   {
    "duration": 0,
    "start_time": "2024-07-22T19:58:49.257Z"
   },
   {
    "duration": 0,
    "start_time": "2024-07-22T19:58:49.260Z"
   },
   {
    "duration": 0,
    "start_time": "2024-07-22T19:58:49.262Z"
   },
   {
    "duration": 0,
    "start_time": "2024-07-22T19:58:49.264Z"
   },
   {
    "duration": 0,
    "start_time": "2024-07-22T19:58:49.266Z"
   },
   {
    "duration": 0,
    "start_time": "2024-07-22T19:58:49.267Z"
   },
   {
    "duration": 0,
    "start_time": "2024-07-22T19:58:49.269Z"
   },
   {
    "duration": 0,
    "start_time": "2024-07-22T19:58:49.270Z"
   },
   {
    "duration": 0,
    "start_time": "2024-07-22T19:58:49.272Z"
   },
   {
    "duration": 0,
    "start_time": "2024-07-22T19:58:49.273Z"
   },
   {
    "duration": 0,
    "start_time": "2024-07-22T19:58:49.331Z"
   },
   {
    "duration": 0,
    "start_time": "2024-07-22T19:58:49.334Z"
   },
   {
    "duration": 0,
    "start_time": "2024-07-22T19:58:49.335Z"
   },
   {
    "duration": 0,
    "start_time": "2024-07-22T19:58:49.337Z"
   },
   {
    "duration": 0,
    "start_time": "2024-07-22T19:58:49.340Z"
   },
   {
    "duration": 0,
    "start_time": "2024-07-22T19:58:49.343Z"
   },
   {
    "duration": 0,
    "start_time": "2024-07-22T19:58:49.345Z"
   },
   {
    "duration": 0,
    "start_time": "2024-07-22T19:58:49.347Z"
   },
   {
    "duration": 0,
    "start_time": "2024-07-22T19:58:49.349Z"
   },
   {
    "duration": 0,
    "start_time": "2024-07-22T19:58:49.352Z"
   },
   {
    "duration": 0,
    "start_time": "2024-07-22T19:58:49.354Z"
   },
   {
    "duration": 0,
    "start_time": "2024-07-22T19:58:49.363Z"
   },
   {
    "duration": 0,
    "start_time": "2024-07-22T19:58:49.365Z"
   },
   {
    "duration": 1263,
    "start_time": "2024-07-22T19:59:16.869Z"
   },
   {
    "duration": 19,
    "start_time": "2024-07-22T20:14:01.455Z"
   },
   {
    "duration": 39,
    "start_time": "2024-07-22T20:15:20.885Z"
   },
   {
    "duration": 14,
    "start_time": "2024-07-22T20:15:30.012Z"
   },
   {
    "duration": 10,
    "start_time": "2024-07-22T20:16:19.545Z"
   },
   {
    "duration": 15,
    "start_time": "2024-07-22T20:17:05.926Z"
   },
   {
    "duration": 33,
    "start_time": "2024-07-22T20:17:18.167Z"
   },
   {
    "duration": 18,
    "start_time": "2024-07-22T20:17:26.829Z"
   },
   {
    "duration": 13,
    "start_time": "2024-07-22T20:50:32.605Z"
   },
   {
    "duration": 28,
    "start_time": "2024-07-22T20:53:41.913Z"
   },
   {
    "duration": 112,
    "start_time": "2024-07-22T20:58:29.137Z"
   },
   {
    "duration": 430,
    "start_time": "2024-07-22T21:02:09.598Z"
   },
   {
    "duration": 243,
    "start_time": "2024-07-22T21:02:10.031Z"
   },
   {
    "duration": 86,
    "start_time": "2024-07-22T21:02:10.277Z"
   },
   {
    "duration": 16,
    "start_time": "2024-07-22T21:02:10.366Z"
   },
   {
    "duration": 17,
    "start_time": "2024-07-22T21:02:10.388Z"
   },
   {
    "duration": 1285,
    "start_time": "2024-07-22T21:02:10.431Z"
   },
   {
    "duration": 196,
    "start_time": "2024-07-22T21:02:11.719Z"
   },
   {
    "duration": 28,
    "start_time": "2024-07-22T21:02:11.919Z"
   },
   {
    "duration": 205,
    "start_time": "2024-07-22T21:02:11.950Z"
   },
   {
    "duration": 274,
    "start_time": "2024-07-22T21:02:12.158Z"
   },
   {
    "duration": 59,
    "start_time": "2024-07-22T21:02:12.437Z"
   },
   {
    "duration": 51,
    "start_time": "2024-07-22T21:02:12.499Z"
   },
   {
    "duration": 13,
    "start_time": "2024-07-22T21:02:12.553Z"
   },
   {
    "duration": 58,
    "start_time": "2024-07-22T21:02:12.573Z"
   },
   {
    "duration": 22,
    "start_time": "2024-07-22T21:02:12.634Z"
   },
   {
    "duration": 15,
    "start_time": "2024-07-22T21:02:12.659Z"
   },
   {
    "duration": 7,
    "start_time": "2024-07-22T21:02:12.677Z"
   },
   {
    "duration": 49,
    "start_time": "2024-07-22T21:02:12.687Z"
   },
   {
    "duration": 13,
    "start_time": "2024-07-22T21:02:12.740Z"
   },
   {
    "duration": 7,
    "start_time": "2024-07-22T21:02:12.756Z"
   },
   {
    "duration": 1355,
    "start_time": "2024-07-22T21:02:12.770Z"
   },
   {
    "duration": 1303,
    "start_time": "2024-07-22T21:02:14.127Z"
   },
   {
    "duration": 13,
    "start_time": "2024-07-22T21:02:15.434Z"
   },
   {
    "duration": 27,
    "start_time": "2024-07-22T21:02:15.450Z"
   },
   {
    "duration": 53,
    "start_time": "2024-07-22T21:02:15.480Z"
   },
   {
    "duration": 15,
    "start_time": "2024-07-22T21:02:15.535Z"
   },
   {
    "duration": 14,
    "start_time": "2024-07-22T21:02:15.554Z"
   },
   {
    "duration": 68,
    "start_time": "2024-07-22T21:02:15.570Z"
   },
   {
    "duration": 8,
    "start_time": "2024-07-22T21:02:15.641Z"
   },
   {
    "duration": 33,
    "start_time": "2024-07-22T21:02:15.653Z"
   },
   {
    "duration": 98,
    "start_time": "2024-07-22T21:02:15.689Z"
   },
   {
    "duration": 127,
    "start_time": "2024-07-22T21:02:15.790Z"
   },
   {
    "duration": 11,
    "start_time": "2024-07-22T21:02:15.920Z"
   },
   {
    "duration": 1172,
    "start_time": "2024-07-22T21:02:15.935Z"
   },
   {
    "duration": 55,
    "start_time": "2024-07-22T21:02:17.110Z"
   },
   {
    "duration": 37,
    "start_time": "2024-07-22T21:02:17.168Z"
   },
   {
    "duration": 253,
    "start_time": "2024-07-22T21:02:17.208Z"
   },
   {
    "duration": 13,
    "start_time": "2024-07-22T21:02:17.464Z"
   },
   {
    "duration": 11,
    "start_time": "2024-07-22T21:02:17.480Z"
   },
   {
    "duration": 40,
    "start_time": "2024-07-22T21:02:17.495Z"
   },
   {
    "duration": 427,
    "start_time": "2024-07-22T21:02:17.543Z"
   },
   {
    "duration": 31,
    "start_time": "2024-07-22T21:02:17.974Z"
   },
   {
    "duration": 239,
    "start_time": "2024-07-22T21:02:18.009Z"
   },
   {
    "duration": 946,
    "start_time": "2024-07-22T21:02:18.251Z"
   },
   {
    "duration": 30,
    "start_time": "2024-07-22T21:02:19.200Z"
   },
   {
    "duration": 512,
    "start_time": "2024-07-22T21:02:19.233Z"
   },
   {
    "duration": 308,
    "start_time": "2024-07-22T21:02:19.747Z"
   },
   {
    "duration": 52,
    "start_time": "2024-07-22T21:02:20.058Z"
   },
   {
    "duration": 33,
    "start_time": "2024-07-22T21:02:20.113Z"
   },
   {
    "duration": 17,
    "start_time": "2024-07-22T21:02:20.149Z"
   },
   {
    "duration": 5,
    "start_time": "2024-07-22T21:03:27.377Z"
   },
   {
    "duration": 239,
    "start_time": "2024-07-22T21:03:33.808Z"
   },
   {
    "duration": 317,
    "start_time": "2024-07-22T21:03:51.924Z"
   },
   {
    "duration": 306,
    "start_time": "2024-07-22T21:04:24.588Z"
   },
   {
    "duration": 246,
    "start_time": "2024-07-22T21:05:59.369Z"
   },
   {
    "duration": 5,
    "start_time": "2024-07-22T21:06:49.016Z"
   },
   {
    "duration": 1774,
    "start_time": "2024-07-22T21:06:53.784Z"
   },
   {
    "duration": 263,
    "start_time": "2024-07-22T21:07:57.987Z"
   },
   {
    "duration": 1195,
    "start_time": "2024-07-22T21:09:54.663Z"
   },
   {
    "duration": 309,
    "start_time": "2024-07-22T21:10:11.328Z"
   },
   {
    "duration": 250,
    "start_time": "2024-07-22T21:10:30.043Z"
   },
   {
    "duration": 356,
    "start_time": "2024-07-22T21:13:23.305Z"
   },
   {
    "duration": 296,
    "start_time": "2024-07-22T21:13:53.570Z"
   },
   {
    "duration": 285,
    "start_time": "2024-07-22T21:14:29.953Z"
   },
   {
    "duration": 305,
    "start_time": "2024-07-22T21:17:52.347Z"
   },
   {
    "duration": 522,
    "start_time": "2024-07-22T21:24:27.827Z"
   },
   {
    "duration": 231,
    "start_time": "2024-07-22T21:24:28.353Z"
   },
   {
    "duration": 96,
    "start_time": "2024-07-22T21:24:28.588Z"
   },
   {
    "duration": 19,
    "start_time": "2024-07-22T21:24:28.694Z"
   },
   {
    "duration": 28,
    "start_time": "2024-07-22T21:24:28.717Z"
   },
   {
    "duration": 1350,
    "start_time": "2024-07-22T21:24:28.748Z"
   },
   {
    "duration": 216,
    "start_time": "2024-07-22T21:24:30.102Z"
   },
   {
    "duration": 23,
    "start_time": "2024-07-22T21:24:30.330Z"
   },
   {
    "duration": 217,
    "start_time": "2024-07-22T21:24:30.359Z"
   },
   {
    "duration": 310,
    "start_time": "2024-07-22T21:24:30.584Z"
   },
   {
    "duration": 71,
    "start_time": "2024-07-22T21:24:30.898Z"
   },
   {
    "duration": 26,
    "start_time": "2024-07-22T21:24:30.974Z"
   },
   {
    "duration": 33,
    "start_time": "2024-07-22T21:24:31.003Z"
   },
   {
    "duration": 43,
    "start_time": "2024-07-22T21:24:31.039Z"
   },
   {
    "duration": 53,
    "start_time": "2024-07-22T21:24:31.086Z"
   },
   {
    "duration": 20,
    "start_time": "2024-07-22T21:24:31.143Z"
   },
   {
    "duration": 11,
    "start_time": "2024-07-22T21:24:31.167Z"
   },
   {
    "duration": 13,
    "start_time": "2024-07-22T21:24:31.181Z"
   },
   {
    "duration": 20,
    "start_time": "2024-07-22T21:24:31.233Z"
   },
   {
    "duration": 8,
    "start_time": "2024-07-22T21:24:31.258Z"
   },
   {
    "duration": 1543,
    "start_time": "2024-07-22T21:24:31.269Z"
   },
   {
    "duration": 1361,
    "start_time": "2024-07-22T21:24:32.815Z"
   },
   {
    "duration": 11,
    "start_time": "2024-07-22T21:24:34.179Z"
   },
   {
    "duration": 51,
    "start_time": "2024-07-22T21:24:34.193Z"
   },
   {
    "duration": 21,
    "start_time": "2024-07-22T21:24:34.247Z"
   },
   {
    "duration": 15,
    "start_time": "2024-07-22T21:24:34.270Z"
   },
   {
    "duration": 43,
    "start_time": "2024-07-22T21:24:34.289Z"
   },
   {
    "duration": 31,
    "start_time": "2024-07-22T21:24:34.342Z"
   },
   {
    "duration": 10,
    "start_time": "2024-07-22T21:24:34.375Z"
   },
   {
    "duration": 75,
    "start_time": "2024-07-22T21:24:34.388Z"
   },
   {
    "duration": 88,
    "start_time": "2024-07-22T21:24:34.468Z"
   },
   {
    "duration": 121,
    "start_time": "2024-07-22T21:24:34.559Z"
   },
   {
    "duration": 3,
    "start_time": "2024-07-22T21:24:34.683Z"
   },
   {
    "duration": 1246,
    "start_time": "2024-07-22T21:24:34.689Z"
   },
   {
    "duration": 46,
    "start_time": "2024-07-22T21:24:35.938Z"
   },
   {
    "duration": 63,
    "start_time": "2024-07-22T21:24:35.988Z"
   },
   {
    "duration": 629,
    "start_time": "2024-07-22T21:24:36.055Z"
   },
   {
    "duration": 279,
    "start_time": "2024-07-22T21:24:36.687Z"
   },
   {
    "duration": 10,
    "start_time": "2024-07-22T21:24:36.969Z"
   },
   {
    "duration": 285,
    "start_time": "2024-07-22T21:24:36.982Z"
   },
   {
    "duration": 350,
    "start_time": "2024-07-22T21:24:37.270Z"
   },
   {
    "duration": 31,
    "start_time": "2024-07-22T21:24:37.629Z"
   },
   {
    "duration": 226,
    "start_time": "2024-07-22T21:24:37.666Z"
   },
   {
    "duration": 931,
    "start_time": "2024-07-22T21:24:37.895Z"
   },
   {
    "duration": 21,
    "start_time": "2024-07-22T21:24:38.828Z"
   },
   {
    "duration": 519,
    "start_time": "2024-07-22T21:24:38.854Z"
   },
   {
    "duration": 308,
    "start_time": "2024-07-22T21:24:39.376Z"
   },
   {
    "duration": 60,
    "start_time": "2024-07-22T21:24:39.689Z"
   },
   {
    "duration": 18,
    "start_time": "2024-07-22T21:24:39.752Z"
   },
   {
    "duration": 18,
    "start_time": "2024-07-22T21:24:39.773Z"
   },
   {
    "duration": 485,
    "start_time": "2024-07-23T08:45:57.969Z"
   },
   {
    "duration": 259,
    "start_time": "2024-07-23T08:45:58.458Z"
   },
   {
    "duration": 96,
    "start_time": "2024-07-23T08:45:58.720Z"
   },
   {
    "duration": 19,
    "start_time": "2024-07-23T08:45:58.819Z"
   },
   {
    "duration": 19,
    "start_time": "2024-07-23T08:45:58.843Z"
   },
   {
    "duration": 1414,
    "start_time": "2024-07-23T08:45:58.865Z"
   },
   {
    "duration": 183,
    "start_time": "2024-07-23T08:46:00.281Z"
   },
   {
    "duration": 34,
    "start_time": "2024-07-23T08:46:00.467Z"
   },
   {
    "duration": 184,
    "start_time": "2024-07-23T08:46:00.504Z"
   },
   {
    "duration": 297,
    "start_time": "2024-07-23T08:46:00.691Z"
   },
   {
    "duration": 59,
    "start_time": "2024-07-23T08:46:00.990Z"
   },
   {
    "duration": 24,
    "start_time": "2024-07-23T08:46:01.051Z"
   },
   {
    "duration": 34,
    "start_time": "2024-07-23T08:46:01.078Z"
   },
   {
    "duration": 41,
    "start_time": "2024-07-23T08:46:01.120Z"
   },
   {
    "duration": 53,
    "start_time": "2024-07-23T08:46:01.164Z"
   },
   {
    "duration": 19,
    "start_time": "2024-07-23T08:46:01.221Z"
   },
   {
    "duration": 10,
    "start_time": "2024-07-23T08:46:01.243Z"
   },
   {
    "duration": 47,
    "start_time": "2024-07-23T08:46:01.256Z"
   },
   {
    "duration": 16,
    "start_time": "2024-07-23T08:46:01.306Z"
   },
   {
    "duration": 9,
    "start_time": "2024-07-23T08:46:01.327Z"
   },
   {
    "duration": 1464,
    "start_time": "2024-07-23T08:46:01.339Z"
   },
   {
    "duration": 1356,
    "start_time": "2024-07-23T08:46:02.806Z"
   },
   {
    "duration": 14,
    "start_time": "2024-07-23T08:46:04.165Z"
   },
   {
    "duration": 39,
    "start_time": "2024-07-23T08:46:04.182Z"
   },
   {
    "duration": 19,
    "start_time": "2024-07-23T08:46:04.224Z"
   },
   {
    "duration": 14,
    "start_time": "2024-07-23T08:46:04.247Z"
   },
   {
    "duration": 51,
    "start_time": "2024-07-23T08:46:04.264Z"
   },
   {
    "duration": 34,
    "start_time": "2024-07-23T08:46:04.318Z"
   },
   {
    "duration": 46,
    "start_time": "2024-07-23T08:46:04.355Z"
   },
   {
    "duration": 33,
    "start_time": "2024-07-23T08:46:04.405Z"
   },
   {
    "duration": 97,
    "start_time": "2024-07-23T08:46:04.441Z"
   },
   {
    "duration": 124,
    "start_time": "2024-07-23T08:46:04.541Z"
   },
   {
    "duration": 3,
    "start_time": "2024-07-23T08:46:04.668Z"
   },
   {
    "duration": 1207,
    "start_time": "2024-07-23T08:46:04.674Z"
   },
   {
    "duration": 80,
    "start_time": "2024-07-23T08:46:05.884Z"
   },
   {
    "duration": 53,
    "start_time": "2024-07-23T08:46:05.967Z"
   },
   {
    "duration": 4325,
    "start_time": "2024-07-23T08:46:06.023Z"
   },
   {
    "duration": 283,
    "start_time": "2024-07-23T08:46:10.352Z"
   },
   {
    "duration": 8,
    "start_time": "2024-07-23T08:46:10.639Z"
   },
   {
    "duration": 278,
    "start_time": "2024-07-23T08:46:10.650Z"
   },
   {
    "duration": 364,
    "start_time": "2024-07-23T08:46:10.937Z"
   },
   {
    "duration": 35,
    "start_time": "2024-07-23T08:46:11.304Z"
   },
   {
    "duration": 298,
    "start_time": "2024-07-23T08:46:11.342Z"
   },
   {
    "duration": 1028,
    "start_time": "2024-07-23T08:46:11.644Z"
   },
   {
    "duration": 33,
    "start_time": "2024-07-23T08:46:12.674Z"
   },
   {
    "duration": 554,
    "start_time": "2024-07-23T08:46:12.710Z"
   },
   {
    "duration": 313,
    "start_time": "2024-07-23T08:46:13.267Z"
   },
   {
    "duration": 71,
    "start_time": "2024-07-23T08:46:13.584Z"
   },
   {
    "duration": 22,
    "start_time": "2024-07-23T08:46:13.658Z"
   },
   {
    "duration": 36,
    "start_time": "2024-07-23T08:46:13.683Z"
   },
   {
    "duration": 15,
    "start_time": "2024-07-23T08:50:53.768Z"
   },
   {
    "duration": 34,
    "start_time": "2024-07-23T08:50:54.050Z"
   },
   {
    "duration": 3,
    "start_time": "2024-07-23T08:50:55.577Z"
   },
   {
    "duration": 15,
    "start_time": "2024-07-23T08:50:56.707Z"
   },
   {
    "duration": 363,
    "start_time": "2024-07-23T08:51:18.259Z"
   },
   {
    "duration": 8,
    "start_time": "2024-07-23T08:52:03.970Z"
   },
   {
    "duration": 8,
    "start_time": "2024-07-23T08:52:41.708Z"
   },
   {
    "duration": 7,
    "start_time": "2024-07-23T08:52:51.536Z"
   },
   {
    "duration": 67,
    "start_time": "2024-07-23T08:53:11.460Z"
   },
   {
    "duration": 29,
    "start_time": "2024-07-23T08:53:17.563Z"
   },
   {
    "duration": 14,
    "start_time": "2024-07-23T08:53:18.018Z"
   },
   {
    "duration": 35,
    "start_time": "2024-07-23T08:53:18.681Z"
   },
   {
    "duration": 3,
    "start_time": "2024-07-23T08:53:21.389Z"
   },
   {
    "duration": 7,
    "start_time": "2024-07-23T08:53:22.953Z"
   },
   {
    "duration": 8,
    "start_time": "2024-07-23T08:53:29.699Z"
   },
   {
    "duration": 28,
    "start_time": "2024-07-23T08:54:03.663Z"
   },
   {
    "duration": 15,
    "start_time": "2024-07-23T08:54:13.452Z"
   },
   {
    "duration": 16,
    "start_time": "2024-07-23T08:57:42.606Z"
   },
   {
    "duration": 453,
    "start_time": "2024-07-23T09:02:27.472Z"
   },
   {
    "duration": 231,
    "start_time": "2024-07-23T09:02:27.929Z"
   },
   {
    "duration": 88,
    "start_time": "2024-07-23T09:02:28.163Z"
   },
   {
    "duration": 17,
    "start_time": "2024-07-23T09:02:28.254Z"
   },
   {
    "duration": 34,
    "start_time": "2024-07-23T09:02:28.276Z"
   },
   {
    "duration": 1322,
    "start_time": "2024-07-23T09:02:28.313Z"
   },
   {
    "duration": 200,
    "start_time": "2024-07-23T09:02:29.638Z"
   },
   {
    "duration": 20,
    "start_time": "2024-07-23T09:02:29.841Z"
   },
   {
    "duration": 230,
    "start_time": "2024-07-23T09:02:29.864Z"
   },
   {
    "duration": 294,
    "start_time": "2024-07-23T09:02:30.096Z"
   },
   {
    "duration": 56,
    "start_time": "2024-07-23T09:02:30.393Z"
   },
   {
    "duration": 23,
    "start_time": "2024-07-23T09:02:30.453Z"
   },
   {
    "duration": 13,
    "start_time": "2024-07-23T09:02:30.503Z"
   },
   {
    "duration": 31,
    "start_time": "2024-07-23T09:02:30.525Z"
   },
   {
    "duration": 5,
    "start_time": "2024-07-23T09:02:30.559Z"
   },
   {
    "duration": 15,
    "start_time": "2024-07-23T09:02:30.602Z"
   },
   {
    "duration": 15,
    "start_time": "2024-07-23T09:02:30.619Z"
   },
   {
    "duration": 7,
    "start_time": "2024-07-23T09:02:30.637Z"
   },
   {
    "duration": 53,
    "start_time": "2024-07-23T09:02:30.648Z"
   },
   {
    "duration": 13,
    "start_time": "2024-07-23T09:02:30.704Z"
   },
   {
    "duration": 7,
    "start_time": "2024-07-23T09:02:30.720Z"
   },
   {
    "duration": 1389,
    "start_time": "2024-07-23T09:02:30.730Z"
   },
   {
    "duration": 1432,
    "start_time": "2024-07-23T09:02:32.122Z"
   },
   {
    "duration": 12,
    "start_time": "2024-07-23T09:02:33.557Z"
   },
   {
    "duration": 42,
    "start_time": "2024-07-23T09:02:33.572Z"
   },
   {
    "duration": 22,
    "start_time": "2024-07-23T09:02:33.617Z"
   },
   {
    "duration": 15,
    "start_time": "2024-07-23T09:02:33.642Z"
   },
   {
    "duration": 51,
    "start_time": "2024-07-23T09:02:33.661Z"
   },
   {
    "duration": 33,
    "start_time": "2024-07-23T09:02:33.715Z"
   },
   {
    "duration": 8,
    "start_time": "2024-07-23T09:02:33.751Z"
   },
   {
    "duration": 76,
    "start_time": "2024-07-23T09:02:33.762Z"
   },
   {
    "duration": 90,
    "start_time": "2024-07-23T09:02:33.841Z"
   },
   {
    "duration": 123,
    "start_time": "2024-07-23T09:02:33.934Z"
   },
   {
    "duration": 4,
    "start_time": "2024-07-23T09:02:34.059Z"
   },
   {
    "duration": 1201,
    "start_time": "2024-07-23T09:02:34.066Z"
   },
   {
    "duration": 63,
    "start_time": "2024-07-23T09:02:35.270Z"
   },
   {
    "duration": 38,
    "start_time": "2024-07-23T09:02:35.336Z"
   },
   {
    "duration": 613,
    "start_time": "2024-07-23T09:02:35.377Z"
   },
   {
    "duration": 296,
    "start_time": "2024-07-23T09:02:35.993Z"
   },
   {
    "duration": 18,
    "start_time": "2024-07-23T09:02:36.292Z"
   },
   {
    "duration": 290,
    "start_time": "2024-07-23T09:02:36.320Z"
   },
   {
    "duration": 375,
    "start_time": "2024-07-23T09:02:36.616Z"
   },
   {
    "duration": 37,
    "start_time": "2024-07-23T09:02:37.001Z"
   },
   {
    "duration": 239,
    "start_time": "2024-07-23T09:02:37.041Z"
   },
   {
    "duration": 979,
    "start_time": "2024-07-23T09:02:37.283Z"
   },
   {
    "duration": 19,
    "start_time": "2024-07-23T09:02:38.265Z"
   },
   {
    "duration": 532,
    "start_time": "2024-07-23T09:02:38.304Z"
   },
   {
    "duration": 316,
    "start_time": "2024-07-23T09:02:38.840Z"
   },
   {
    "duration": 71,
    "start_time": "2024-07-23T09:02:39.158Z"
   },
   {
    "duration": 20,
    "start_time": "2024-07-23T09:02:39.232Z"
   },
   {
    "duration": 19,
    "start_time": "2024-07-23T09:02:39.254Z"
   },
   {
    "duration": 309,
    "start_time": "2024-07-25T04:23:41.031Z"
   },
   {
    "duration": 23,
    "start_time": "2024-07-25T04:23:44.625Z"
   },
   {
    "duration": 457,
    "start_time": "2024-07-25T04:23:53.461Z"
   },
   {
    "duration": 249,
    "start_time": "2024-07-25T04:23:53.922Z"
   },
   {
    "duration": 28,
    "start_time": "2024-07-25T04:23:54.174Z"
   },
   {
    "duration": 90,
    "start_time": "2024-07-25T04:23:54.207Z"
   },
   {
    "duration": 19,
    "start_time": "2024-07-25T04:23:54.300Z"
   },
   {
    "duration": 18,
    "start_time": "2024-07-25T04:23:54.322Z"
   },
   {
    "duration": 1396,
    "start_time": "2024-07-25T04:23:54.342Z"
   },
   {
    "duration": 187,
    "start_time": "2024-07-25T04:23:55.741Z"
   },
   {
    "duration": 19,
    "start_time": "2024-07-25T04:23:55.931Z"
   },
   {
    "duration": 209,
    "start_time": "2024-07-25T04:23:55.955Z"
   },
   {
    "duration": 262,
    "start_time": "2024-07-25T04:23:56.167Z"
   },
   {
    "duration": 64,
    "start_time": "2024-07-25T04:23:56.433Z"
   },
   {
    "duration": 23,
    "start_time": "2024-07-25T04:23:56.500Z"
   },
   {
    "duration": 14,
    "start_time": "2024-07-25T04:23:56.526Z"
   },
   {
    "duration": 65,
    "start_time": "2024-07-25T04:23:56.543Z"
   },
   {
    "duration": 3,
    "start_time": "2024-07-25T04:23:56.611Z"
   },
   {
    "duration": 14,
    "start_time": "2024-07-25T04:23:56.617Z"
   },
   {
    "duration": 15,
    "start_time": "2024-07-25T04:23:56.633Z"
   },
   {
    "duration": 6,
    "start_time": "2024-07-25T04:23:56.690Z"
   },
   {
    "duration": 11,
    "start_time": "2024-07-25T04:23:56.699Z"
   },
   {
    "duration": 14,
    "start_time": "2024-07-25T04:23:56.712Z"
   },
   {
    "duration": 8,
    "start_time": "2024-07-25T04:23:56.729Z"
   },
   {
    "duration": 1392,
    "start_time": "2024-07-25T04:23:56.741Z"
   },
   {
    "duration": 1313,
    "start_time": "2024-07-25T04:23:58.135Z"
   },
   {
    "duration": 11,
    "start_time": "2024-07-25T04:23:59.451Z"
   },
   {
    "duration": 42,
    "start_time": "2024-07-25T04:23:59.466Z"
   },
   {
    "duration": 19,
    "start_time": "2024-07-25T04:23:59.511Z"
   },
   {
    "duration": 51,
    "start_time": "2024-07-25T04:23:59.539Z"
   },
   {
    "duration": 14,
    "start_time": "2024-07-25T04:23:59.593Z"
   },
   {
    "duration": 32,
    "start_time": "2024-07-25T04:23:59.610Z"
   },
   {
    "duration": 45,
    "start_time": "2024-07-25T04:23:59.646Z"
   },
   {
    "duration": 31,
    "start_time": "2024-07-25T04:23:59.694Z"
   },
   {
    "duration": 92,
    "start_time": "2024-07-25T04:23:59.729Z"
   },
   {
    "duration": 124,
    "start_time": "2024-07-25T04:23:59.824Z"
   },
   {
    "duration": 5,
    "start_time": "2024-07-25T04:23:59.950Z"
   },
   {
    "duration": 1195,
    "start_time": "2024-07-25T04:23:59.958Z"
   },
   {
    "duration": 55,
    "start_time": "2024-07-25T04:24:01.155Z"
   },
   {
    "duration": 37,
    "start_time": "2024-07-25T04:24:01.212Z"
   },
   {
    "duration": 4342,
    "start_time": "2024-07-25T04:24:01.252Z"
   },
   {
    "duration": 288,
    "start_time": "2024-07-25T04:24:05.598Z"
   },
   {
    "duration": 10,
    "start_time": "2024-07-25T04:24:05.891Z"
   },
   {
    "duration": 296,
    "start_time": "2024-07-25T04:24:05.903Z"
   },
   {
    "duration": 376,
    "start_time": "2024-07-25T04:24:06.203Z"
   },
   {
    "duration": 38,
    "start_time": "2024-07-25T04:24:06.582Z"
   },
   {
    "duration": 240,
    "start_time": "2024-07-25T04:24:06.623Z"
   },
   {
    "duration": 982,
    "start_time": "2024-07-25T04:24:06.866Z"
   },
   {
    "duration": 20,
    "start_time": "2024-07-25T04:24:07.851Z"
   },
   {
    "duration": 550,
    "start_time": "2024-07-25T04:24:07.874Z"
   },
   {
    "duration": 371,
    "start_time": "2024-07-25T04:24:08.427Z"
   },
   {
    "duration": 57,
    "start_time": "2024-07-25T04:24:08.801Z"
   },
   {
    "duration": 46,
    "start_time": "2024-07-25T04:24:08.861Z"
   },
   {
    "duration": 19,
    "start_time": "2024-07-25T04:24:08.910Z"
   },
   {
    "duration": 10,
    "start_time": "2024-07-25T04:24:16.721Z"
   },
   {
    "duration": 9,
    "start_time": "2024-07-25T04:24:32.537Z"
   },
   {
    "duration": 9,
    "start_time": "2024-07-25T04:24:41.752Z"
   },
   {
    "duration": 10,
    "start_time": "2024-07-25T04:24:55.385Z"
   },
   {
    "duration": 18,
    "start_time": "2024-07-25T04:28:55.224Z"
   },
   {
    "duration": 496,
    "start_time": "2024-07-25T04:31:25.587Z"
   },
   {
    "duration": 219,
    "start_time": "2024-07-25T04:31:26.091Z"
   },
   {
    "duration": 20,
    "start_time": "2024-07-25T04:31:26.312Z"
   },
   {
    "duration": 92,
    "start_time": "2024-07-25T04:31:26.337Z"
   },
   {
    "duration": 12,
    "start_time": "2024-07-25T04:31:26.432Z"
   },
   {
    "duration": 17,
    "start_time": "2024-07-25T04:31:26.446Z"
   },
   {
    "duration": 9,
    "start_time": "2024-07-25T04:31:26.489Z"
   },
   {
    "duration": 17,
    "start_time": "2024-07-25T04:31:26.501Z"
   },
   {
    "duration": 10,
    "start_time": "2024-07-25T04:31:26.520Z"
   },
   {
    "duration": 1346,
    "start_time": "2024-07-25T04:31:26.538Z"
   },
   {
    "duration": 12,
    "start_time": "2024-07-25T04:31:27.886Z"
   },
   {
    "duration": 197,
    "start_time": "2024-07-25T04:31:27.903Z"
   },
   {
    "duration": 17,
    "start_time": "2024-07-25T04:31:28.103Z"
   },
   {
    "duration": 200,
    "start_time": "2024-07-25T04:31:28.124Z"
   },
   {
    "duration": 265,
    "start_time": "2024-07-25T04:31:28.326Z"
   },
   {
    "duration": 47,
    "start_time": "2024-07-25T04:31:28.595Z"
   },
   {
    "duration": 47,
    "start_time": "2024-07-25T04:31:28.645Z"
   },
   {
    "duration": 14,
    "start_time": "2024-07-25T04:31:28.695Z"
   },
   {
    "duration": 31,
    "start_time": "2024-07-25T04:31:28.712Z"
   },
   {
    "duration": 4,
    "start_time": "2024-07-25T04:31:28.746Z"
   },
   {
    "duration": 51,
    "start_time": "2024-07-25T04:31:28.753Z"
   },
   {
    "duration": 14,
    "start_time": "2024-07-25T04:31:28.807Z"
   },
   {
    "duration": 7,
    "start_time": "2024-07-25T04:31:28.824Z"
   },
   {
    "duration": 56,
    "start_time": "2024-07-25T04:31:28.834Z"
   },
   {
    "duration": 14,
    "start_time": "2024-07-25T04:31:28.893Z"
   },
   {
    "duration": 7,
    "start_time": "2024-07-25T04:31:28.911Z"
   },
   {
    "duration": 1372,
    "start_time": "2024-07-25T04:31:28.921Z"
   },
   {
    "duration": 1327,
    "start_time": "2024-07-25T04:31:30.301Z"
   },
   {
    "duration": 11,
    "start_time": "2024-07-25T04:31:31.631Z"
   },
   {
    "duration": 47,
    "start_time": "2024-07-25T04:31:31.645Z"
   },
   {
    "duration": 22,
    "start_time": "2024-07-25T04:31:31.695Z"
   },
   {
    "duration": 18,
    "start_time": "2024-07-25T04:31:31.719Z"
   },
   {
    "duration": 13,
    "start_time": "2024-07-25T04:31:31.740Z"
   },
   {
    "duration": 34,
    "start_time": "2024-07-25T04:31:31.792Z"
   },
   {
    "duration": 7,
    "start_time": "2024-07-25T04:31:31.830Z"
   },
   {
    "duration": 71,
    "start_time": "2024-07-25T04:31:31.841Z"
   },
   {
    "duration": 84,
    "start_time": "2024-07-25T04:31:31.915Z"
   },
   {
    "duration": 122,
    "start_time": "2024-07-25T04:31:32.001Z"
   },
   {
    "duration": 4,
    "start_time": "2024-07-25T04:31:32.125Z"
   },
   {
    "duration": 1178,
    "start_time": "2024-07-25T04:31:32.132Z"
   },
   {
    "duration": 44,
    "start_time": "2024-07-25T04:31:33.313Z"
   },
   {
    "duration": 63,
    "start_time": "2024-07-25T04:31:33.360Z"
   },
   {
    "duration": 585,
    "start_time": "2024-07-25T04:31:33.426Z"
   },
   {
    "duration": 281,
    "start_time": "2024-07-25T04:31:34.014Z"
   },
   {
    "duration": 9,
    "start_time": "2024-07-25T04:31:34.298Z"
   },
   {
    "duration": 291,
    "start_time": "2024-07-25T04:31:34.309Z"
   },
   {
    "duration": 397,
    "start_time": "2024-07-25T04:31:34.603Z"
   },
   {
    "duration": 32,
    "start_time": "2024-07-25T04:31:35.003Z"
   },
   {
    "duration": 235,
    "start_time": "2024-07-25T04:31:35.038Z"
   },
   {
    "duration": 950,
    "start_time": "2024-07-25T04:31:35.276Z"
   },
   {
    "duration": 21,
    "start_time": "2024-07-25T04:31:36.229Z"
   },
   {
    "duration": 566,
    "start_time": "2024-07-25T04:31:36.253Z"
   },
   {
    "duration": 316,
    "start_time": "2024-07-25T04:31:36.823Z"
   },
   {
    "duration": 69,
    "start_time": "2024-07-25T04:31:37.143Z"
   },
   {
    "duration": 19,
    "start_time": "2024-07-25T04:31:37.215Z"
   },
   {
    "duration": 19,
    "start_time": "2024-07-25T04:31:37.237Z"
   },
   {
    "duration": 463,
    "start_time": "2024-07-25T04:32:45.012Z"
   },
   {
    "duration": 224,
    "start_time": "2024-07-25T04:32:45.479Z"
   },
   {
    "duration": 19,
    "start_time": "2024-07-25T04:32:45.706Z"
   },
   {
    "duration": 91,
    "start_time": "2024-07-25T04:32:45.730Z"
   },
   {
    "duration": 10,
    "start_time": "2024-07-25T04:32:45.825Z"
   },
   {
    "duration": 19,
    "start_time": "2024-07-25T04:32:45.839Z"
   },
   {
    "duration": 32,
    "start_time": "2024-07-25T04:32:45.861Z"
   },
   {
    "duration": 18,
    "start_time": "2024-07-25T04:32:45.897Z"
   },
   {
    "duration": 12,
    "start_time": "2024-07-25T04:32:45.919Z"
   },
   {
    "duration": 1347,
    "start_time": "2024-07-25T04:32:45.935Z"
   },
   {
    "duration": 11,
    "start_time": "2024-07-25T04:32:47.285Z"
   },
   {
    "duration": 185,
    "start_time": "2024-07-25T04:32:47.299Z"
   },
   {
    "duration": 18,
    "start_time": "2024-07-25T04:32:47.489Z"
   },
   {
    "duration": 217,
    "start_time": "2024-07-25T04:32:47.515Z"
   },
   {
    "duration": 271,
    "start_time": "2024-07-25T04:32:47.735Z"
   },
   {
    "duration": 52,
    "start_time": "2024-07-25T04:32:48.009Z"
   },
   {
    "duration": 43,
    "start_time": "2024-07-25T04:32:48.067Z"
   },
   {
    "duration": 14,
    "start_time": "2024-07-25T04:32:48.113Z"
   },
   {
    "duration": 62,
    "start_time": "2024-07-25T04:32:48.130Z"
   },
   {
    "duration": 3,
    "start_time": "2024-07-25T04:32:48.195Z"
   },
   {
    "duration": 17,
    "start_time": "2024-07-25T04:32:48.202Z"
   },
   {
    "duration": 15,
    "start_time": "2024-07-25T04:32:48.222Z"
   },
   {
    "duration": 49,
    "start_time": "2024-07-25T04:32:48.240Z"
   },
   {
    "duration": 12,
    "start_time": "2024-07-25T04:32:48.292Z"
   },
   {
    "duration": 13,
    "start_time": "2024-07-25T04:32:48.307Z"
   },
   {
    "duration": 7,
    "start_time": "2024-07-25T04:32:48.323Z"
   },
   {
    "duration": 1378,
    "start_time": "2024-07-25T04:32:48.333Z"
   },
   {
    "duration": 1332,
    "start_time": "2024-07-25T04:32:49.714Z"
   },
   {
    "duration": 12,
    "start_time": "2024-07-25T04:32:51.049Z"
   },
   {
    "duration": 41,
    "start_time": "2024-07-25T04:32:51.066Z"
   },
   {
    "duration": 18,
    "start_time": "2024-07-25T04:32:51.111Z"
   },
   {
    "duration": 20,
    "start_time": "2024-07-25T04:32:51.132Z"
   },
   {
    "duration": 47,
    "start_time": "2024-07-25T04:32:51.155Z"
   },
   {
    "duration": 32,
    "start_time": "2024-07-25T04:32:51.205Z"
   },
   {
    "duration": 8,
    "start_time": "2024-07-25T04:32:51.240Z"
   },
   {
    "duration": 30,
    "start_time": "2024-07-25T04:32:51.292Z"
   },
   {
    "duration": 83,
    "start_time": "2024-07-25T04:32:51.326Z"
   },
   {
    "duration": 127,
    "start_time": "2024-07-25T04:32:51.412Z"
   },
   {
    "duration": 4,
    "start_time": "2024-07-25T04:32:51.542Z"
   },
   {
    "duration": 1193,
    "start_time": "2024-07-25T04:32:51.550Z"
   },
   {
    "duration": 63,
    "start_time": "2024-07-25T04:32:52.754Z"
   },
   {
    "duration": 37,
    "start_time": "2024-07-25T04:32:52.820Z"
   },
   {
    "duration": 609,
    "start_time": "2024-07-25T04:32:52.860Z"
   },
   {
    "duration": 285,
    "start_time": "2024-07-25T04:32:53.472Z"
   },
   {
    "duration": 10,
    "start_time": "2024-07-25T04:32:53.760Z"
   },
   {
    "duration": 270,
    "start_time": "2024-07-25T04:32:53.791Z"
   },
   {
    "duration": 359,
    "start_time": "2024-07-25T04:32:54.064Z"
   },
   {
    "duration": 38,
    "start_time": "2024-07-25T04:32:54.426Z"
   },
   {
    "duration": 237,
    "start_time": "2024-07-25T04:32:54.467Z"
   },
   {
    "duration": 960,
    "start_time": "2024-07-25T04:32:54.707Z"
   },
   {
    "duration": 28,
    "start_time": "2024-07-25T04:32:55.670Z"
   },
   {
    "duration": 536,
    "start_time": "2024-07-25T04:32:55.701Z"
   },
   {
    "duration": 329,
    "start_time": "2024-07-25T04:32:56.241Z"
   },
   {
    "duration": 64,
    "start_time": "2024-07-25T04:32:56.574Z"
   },
   {
    "duration": 21,
    "start_time": "2024-07-25T04:32:56.641Z"
   },
   {
    "duration": 38,
    "start_time": "2024-07-25T04:32:56.665Z"
   },
   {
    "duration": 1297,
    "start_time": "2024-07-25T04:36:45.567Z"
   }
  ],
  "kernelspec": {
   "display_name": "Python 3 (ipykernel)",
   "language": "python",
   "name": "python3"
  },
  "language_info": {
   "codemirror_mode": {
    "name": "ipython",
    "version": 3
   },
   "file_extension": ".py",
   "mimetype": "text/x-python",
   "name": "python",
   "nbconvert_exporter": "python",
   "pygments_lexer": "ipython3",
   "version": "3.12.4"
  },
  "toc": {
   "base_numbering": 1,
   "nav_menu": {},
   "number_sections": true,
   "sideBar": true,
   "skip_h1_title": true,
   "title_cell": "Table of Contents",
   "title_sidebar": "Contents",
   "toc_cell": false,
   "toc_position": {},
   "toc_section_display": true,
   "toc_window_display": false
  },
  "vscode": {
   "interpreter": {
    "hash": "01a7be9ec63e704a62cefc5fe7a4756944464ee731be31632bdf42a4cb4688cf"
   }
  }
 },
 "nbformat": 4,
 "nbformat_minor": 5
}
